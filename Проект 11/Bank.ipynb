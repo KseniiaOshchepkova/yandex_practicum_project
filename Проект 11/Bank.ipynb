{
 "cells": [
  {
   "cell_type": "markdown",
   "metadata": {},
   "source": [
    "# Проект: анализ оттока клиентов банка\n",
    "\n",
    "## Введение  \n",
    "\n",
    "Банк «Метанпром» располагает данными о клиентах в Ярославле и областных городах: Ростов Великий и Рыбинск. Менеджеры продукта хотят на основе данных понять причины оттока клиентов и разработать меры по их удержанию.  \n",
    "\n",
    "**Цель:**  \n",
    "1. Проанализировать клиентов регионального банка и выделить портрет клиентов, которые склонны уходить из банка.  \n",
    "2. Проверить гипотезы:  \n",
    "    1) Доходы тех клиентов, которые ушли и тех, которые остались равны.  \n",
    "    2) Средний возраст тех, кто ушел и тех, кто остался различается.  \n",
    "3. Дать рекомендации по удержанию клиентов\n",
    "   \n",
    "Исследование проводится в 5 этапов:\n",
    "\n",
    "1. Обзор данных  \n",
    "2. Предобработка данных  \n",
    "3. Исследовательский анализ данных   \n",
    "4. Проверка гипотез  \n",
    "5. Итоги исследования, рекомендации  \n",
    "\n",
    "[Презентация](https://disk.yandex.ru/i/7VB5c915MDt0ew)\n",
    "\n",
    "[Дашборд](https://public.tableau.com/app/profile/kseniia3828/viz/YandexPracticum_final_project/Dashboard1)"
   ]
  },
  {
   "cell_type": "markdown",
   "metadata": {},
   "source": [
    "## Обзор данных  \n",
    "\n",
    "Ознакомимся с входными данными."
   ]
  },
  {
   "cell_type": "code",
   "execution_count": 1,
   "metadata": {},
   "outputs": [],
   "source": [
    "# импортируем библиотеки\n",
    "\n",
    "import pandas as pd\n",
    "import numpy as np\n",
    "\n",
    "import seaborn as sns\n",
    "from matplotlib import pyplot as plt\n",
    "\n",
    "from scipy import stats as st"
   ]
  },
  {
   "cell_type": "code",
   "execution_count": 2,
   "metadata": {},
   "outputs": [],
   "source": [
    "# игнорируем предупреждения\n",
    "\n",
    "import warnings\n",
    "warnings.filterwarnings('ignore') \n",
    "\n",
    "# снимем ограничения на вывод строк и столбцов\n",
    "\n",
    "pd.set_option('display.max_rows', None)\n",
    "pd.set_option('display.max_columns', None)"
   ]
  },
  {
   "cell_type": "code",
   "execution_count": 3,
   "metadata": {},
   "outputs": [
    {
     "data": {
      "text/html": [
       "<div>\n",
       "<style scoped>\n",
       "    .dataframe tbody tr th:only-of-type {\n",
       "        vertical-align: middle;\n",
       "    }\n",
       "\n",
       "    .dataframe tbody tr th {\n",
       "        vertical-align: top;\n",
       "    }\n",
       "\n",
       "    .dataframe thead th {\n",
       "        text-align: right;\n",
       "    }\n",
       "</style>\n",
       "<table border=\"1\" class=\"dataframe\">\n",
       "  <thead>\n",
       "    <tr style=\"text-align: right;\">\n",
       "      <th></th>\n",
       "      <th>userid</th>\n",
       "      <th>score</th>\n",
       "      <th>City</th>\n",
       "      <th>Gender</th>\n",
       "      <th>Age</th>\n",
       "      <th>Objects</th>\n",
       "      <th>Balance</th>\n",
       "      <th>Products</th>\n",
       "      <th>CreditCard</th>\n",
       "      <th>Loyalty</th>\n",
       "      <th>estimated_salary</th>\n",
       "      <th>Churn</th>\n",
       "    </tr>\n",
       "  </thead>\n",
       "  <tbody>\n",
       "    <tr>\n",
       "      <th>0</th>\n",
       "      <td>15677338</td>\n",
       "      <td>619</td>\n",
       "      <td>Ярославль</td>\n",
       "      <td>Ж</td>\n",
       "      <td>42</td>\n",
       "      <td>2</td>\n",
       "      <td>NaN</td>\n",
       "      <td>1</td>\n",
       "      <td>1</td>\n",
       "      <td>1</td>\n",
       "      <td>101348.88</td>\n",
       "      <td>1</td>\n",
       "    </tr>\n",
       "    <tr>\n",
       "      <th>1</th>\n",
       "      <td>15690047</td>\n",
       "      <td>608</td>\n",
       "      <td>Рыбинск</td>\n",
       "      <td>Ж</td>\n",
       "      <td>41</td>\n",
       "      <td>1</td>\n",
       "      <td>83807.86</td>\n",
       "      <td>1</td>\n",
       "      <td>0</td>\n",
       "      <td>1</td>\n",
       "      <td>112542.58</td>\n",
       "      <td>0</td>\n",
       "    </tr>\n",
       "    <tr>\n",
       "      <th>2</th>\n",
       "      <td>15662040</td>\n",
       "      <td>502</td>\n",
       "      <td>Ярославль</td>\n",
       "      <td>Ж</td>\n",
       "      <td>42</td>\n",
       "      <td>8</td>\n",
       "      <td>159660.80</td>\n",
       "      <td>3</td>\n",
       "      <td>1</td>\n",
       "      <td>0</td>\n",
       "      <td>113931.57</td>\n",
       "      <td>1</td>\n",
       "    </tr>\n",
       "    <tr>\n",
       "      <th>3</th>\n",
       "      <td>15744090</td>\n",
       "      <td>699</td>\n",
       "      <td>Ярославль</td>\n",
       "      <td>Ж</td>\n",
       "      <td>39</td>\n",
       "      <td>1</td>\n",
       "      <td>NaN</td>\n",
       "      <td>2</td>\n",
       "      <td>0</td>\n",
       "      <td>0</td>\n",
       "      <td>93826.63</td>\n",
       "      <td>0</td>\n",
       "    </tr>\n",
       "    <tr>\n",
       "      <th>4</th>\n",
       "      <td>15780624</td>\n",
       "      <td>850</td>\n",
       "      <td>Рыбинск</td>\n",
       "      <td>Ж</td>\n",
       "      <td>43</td>\n",
       "      <td>2</td>\n",
       "      <td>125510.82</td>\n",
       "      <td>1</td>\n",
       "      <td>1</td>\n",
       "      <td>1</td>\n",
       "      <td>79084.10</td>\n",
       "      <td>0</td>\n",
       "    </tr>\n",
       "  </tbody>\n",
       "</table>\n",
       "</div>"
      ],
      "text/plain": [
       "     userid  score       City Gender  Age  Objects    Balance  Products  \\\n",
       "0  15677338    619  Ярославль      Ж   42        2        NaN         1   \n",
       "1  15690047    608    Рыбинск      Ж   41        1   83807.86         1   \n",
       "2  15662040    502  Ярославль      Ж   42        8  159660.80         3   \n",
       "3  15744090    699  Ярославль      Ж   39        1        NaN         2   \n",
       "4  15780624    850    Рыбинск      Ж   43        2  125510.82         1   \n",
       "\n",
       "   CreditCard  Loyalty  estimated_salary  Churn  \n",
       "0           1        1         101348.88      1  \n",
       "1           0        1         112542.58      0  \n",
       "2           1        0         113931.57      1  \n",
       "3           0        0          93826.63      0  \n",
       "4           1        1          79084.10      0  "
      ]
     },
     "execution_count": 3,
     "metadata": {},
     "output_type": "execute_result"
    }
   ],
   "source": [
    "# прочитаем файл с данными и сохраним его в переменную\n",
    "\n",
    "data = pd.read_csv('/datasets/bank_dataset.csv')\n",
    "data.head()"
   ]
  },
  {
   "cell_type": "code",
   "execution_count": 4,
   "metadata": {},
   "outputs": [
    {
     "name": "stdout",
     "output_type": "stream",
     "text": [
      "<class 'pandas.core.frame.DataFrame'>\n",
      "RangeIndex: 10000 entries, 0 to 9999\n",
      "Data columns (total 12 columns):\n",
      " #   Column            Non-Null Count  Dtype  \n",
      "---  ------            --------------  -----  \n",
      " 0   userid            10000 non-null  int64  \n",
      " 1   score             10000 non-null  int64  \n",
      " 2   City              10000 non-null  object \n",
      " 3   Gender            10000 non-null  object \n",
      " 4   Age               10000 non-null  int64  \n",
      " 5   Objects           10000 non-null  int64  \n",
      " 6   Balance           6383 non-null   float64\n",
      " 7   Products          10000 non-null  int64  \n",
      " 8   CreditCard        10000 non-null  int64  \n",
      " 9   Loyalty           10000 non-null  int64  \n",
      " 10  estimated_salary  10000 non-null  float64\n",
      " 11  Churn             10000 non-null  int64  \n",
      "dtypes: float64(2), int64(8), object(2)\n",
      "memory usage: 937.6+ KB\n"
     ]
    }
   ],
   "source": [
    "# получим общую информацию о таблице\n",
    "\n",
    "data.info()"
   ]
  },
  {
   "cell_type": "markdown",
   "metadata": {},
   "source": [
    "**В наличии следующие данные:**  \n",
    "\n",
    "- `userid` — идентификатор пользователя,  \n",
    "- `score` — баллы кредитного скоринга,  \n",
    "- `City` — город,  \n",
    "- `Gender` — пол,  \n",
    "- `Age` — возраст,  \n",
    "- `Objects` — количество объектов в собственности,  \n",
    "- `Balance` — баланс на счёте,  \n",
    "- `Products` — количество продуктов, которыми пользуется клиент,  \n",
    "- `CreditCard` — есть ли кредитная карта,  \n",
    "- `Loyalty` — активный клиент,  \n",
    "- `estimated_salary` — заработная плата клиента,  \n",
    "- `Churn` — ушёл или нет: 0 - те, кто остался, 1 - те, кто ушел  \n",
    "\n",
    "### Выводы:  \n",
    "\n",
    "В таблице 12 столбцов, названия столбцов нужно привести к единому стилю.  \n",
    "\n",
    "В каждой строке таблицы — данные о клиенте банка.\n",
    "\n",
    "В столбце Balance есть пропуски. Они составляют 36%.\n",
    "\n",
    "Заменим значения \"м\" и \"ж\" в столбце gender на числовые.\n",
    "\n",
    "Типы даннах во всех столбцах корректны.  \n",
    "\n",
    "Текстовые данные приведем к нижнему регистру."
   ]
  },
  {
   "cell_type": "markdown",
   "metadata": {},
   "source": [
    "## Предобработка данных  \n",
    "\n",
    "### Приведем написание названий столбцов к единому стилю"
   ]
  },
  {
   "cell_type": "code",
   "execution_count": 5,
   "metadata": {},
   "outputs": [
    {
     "data": {
      "text/plain": [
       "Index(['user_id', 'score', 'city', 'gender', 'age', 'objects', 'balance',\n",
       "       'products', 'credit_card', 'loyalty', 'estimated_salary', 'churn'],\n",
       "      dtype='object')"
      ]
     },
     "execution_count": 5,
     "metadata": {},
     "output_type": "execute_result"
    }
   ],
   "source": [
    "# поменяем названия столбцов\n",
    "\n",
    "data = data.rename(columns={'userid':'user_id', 'CreditCard' : 'Credit_Card'})\n",
    "\n",
    "# приведем названия столбцов к нижнему регистру и выведем названия для проверки\n",
    "\n",
    "data.columns = data.columns.str.lower()\n",
    "data.columns "
   ]
  },
  {
   "cell_type": "markdown",
   "metadata": {},
   "source": [
    "### Приведем текстовые данные к нижнему регистру"
   ]
  },
  {
   "cell_type": "code",
   "execution_count": 6,
   "metadata": {},
   "outputs": [],
   "source": [
    "data['city'] = data['city'].str.lower()\n",
    "data['gender'] = data['gender'].str.lower()"
   ]
  },
  {
   "cell_type": "markdown",
   "metadata": {},
   "source": [
    "### Заменим пропуски в столбце balance  \n",
    "\n",
    "Рассмотрим пропуски по признакам"
   ]
  },
  {
   "cell_type": "code",
   "execution_count": 7,
   "metadata": {
    "scrolled": true
   },
   "outputs": [
    {
     "name": "stdout",
     "output_type": "stream",
     "text": [
      "city :  ярославль    0.66851\n",
      "рыбинск      0.33149\n",
      "Name: city, dtype: float64\n",
      "\n",
      "gender :  м    0.542715\n",
      "ж    0.457285\n",
      "Name: gender, dtype: float64\n",
      "\n",
      "products :  2    0.718828\n",
      "1    0.250207\n",
      "3    0.027094\n",
      "4    0.003871\n",
      "Name: products, dtype: float64\n",
      "\n",
      "credit_card :  1    0.716616\n",
      "0    0.283384\n",
      "Name: credit_card, dtype: float64\n",
      "\n",
      "loyalty :  1    0.517832\n",
      "0    0.482168\n",
      "Name: loyalty, dtype: float64\n",
      "\n",
      "churn :  0    0.861764\n",
      "1    0.138236\n",
      "Name: churn, dtype: float64\n",
      "\n",
      "objects :  7     0.106718\n",
      "2     0.105612\n",
      "5     0.103401\n",
      "4     0.102018\n",
      "6     0.101465\n",
      "8     0.100359\n",
      "9     0.099530\n",
      "3     0.097318\n",
      "1     0.096489\n",
      "10    0.049212\n",
      "0     0.037877\n",
      "Name: objects, dtype: float64\n",
      "\n"
     ]
    }
   ],
   "source": [
    "# найдем пропуски в столбце balance и сохраним их в переменную\n",
    "\n",
    "data_balance = data[data['balance'].isna()]\n",
    "\n",
    "# найдем долю каждого признака из выбранных в общем количестве пропусков\n",
    "# создаем цикл, который выведет долю по всем столбцам\n",
    "\n",
    "data_balance_columns = data_balance[['city', 'gender', 'products', 'credit_card', 'loyalty', 'churn', 'objects']]\n",
    "\n",
    "for col in data_balance_columns: \n",
    "    print(col, ': ', data_balance[col].value_counts(normalize=True))\n",
    "    print()"
   ]
  },
  {
   "cell_type": "markdown",
   "metadata": {},
   "source": [
    "Больше всего пропусков:  \n",
    "- среди клиентов в Ярославле - 67%\n",
    "- у тех, кто использует 2 продукта банка - 72%\n",
    "- у тех, кто имеет кредитную карту - 72%\n",
    "- у клиентов, которые остались - 86%  \n",
    "\n",
    "Наличие пропусков, скорее всего, не зависит от двух продуктов и факта того, что клиент остался с банком, так как это распространенные признаки клиента.  \n",
    "\n",
    "Подозрительным кажется большой процент пропусков среди тех, кто имеет кредитную карту и находится в Ярославле. Рассмотрим эти признаки по кол-ву пропусков."
   ]
  },
  {
   "cell_type": "code",
   "execution_count": 8,
   "metadata": {},
   "outputs": [
    {
     "name": "stdout",
     "output_type": "stream",
     "text": [
      "Ярославль и кредитная карта :  1740\n",
      "Ярославль :  2418\n",
      "Кредитная карта :  2592\n"
     ]
    }
   ],
   "source": [
    "# выведем кол-во пропусков отдельно по признакам и совместно \n",
    "\n",
    "print('Ярославль и кредитная карта', ': ', data_balance.loc[(data_balance.loc[:, 'city'] == \"ярославль\") & (data_balance.loc[:, 'credit_card'] == 1)]['user_id'].count())\n",
    "\n",
    "print('Ярославль', ': ', data_balance.loc[data_balance.loc[:, 'city'] == \"ярославль\"]['user_id'].count())\n",
    "\n",
    "print('Кредитная карта', ': ', data_balance.loc[data_balance.loc[:, 'credit_card'] == 1]['user_id'].count())\n"
   ]
  },
  {
   "cell_type": "markdown",
   "metadata": {},
   "source": [
    "Наличие пропусков как-то связано с Ярославскими отделениями банка и кредитными картами. Нужно запросить информацию по заполнению данных, чтобы понять причину пропусков. На данном этапе заполнять пропуски ничем не будем, так как нет достаточной информации."
   ]
  },
  {
   "cell_type": "markdown",
   "metadata": {},
   "source": [
    "### Заменим значения в столбце gender на числовые  \n",
    "\n",
    "\"м\" на 0  \n",
    "\"ж\" на 1 "
   ]
  },
  {
   "cell_type": "code",
   "execution_count": 9,
   "metadata": {},
   "outputs": [],
   "source": [
    "data['gender'] = data['gender'].replace('м',0)\n",
    "data['gender'] = data['gender'].replace('ж',1)"
   ]
  },
  {
   "cell_type": "markdown",
   "metadata": {},
   "source": [
    "### Проверим наличие дубликатов"
   ]
  },
  {
   "cell_type": "code",
   "execution_count": 10,
   "metadata": {},
   "outputs": [
    {
     "data": {
      "text/plain": [
       "0"
      ]
     },
     "execution_count": 10,
     "metadata": {},
     "output_type": "execute_result"
    }
   ],
   "source": [
    "# найдем сумму явных дубликатов\n",
    "\n",
    "data.duplicated().sum()"
   ]
  },
  {
   "cell_type": "markdown",
   "metadata": {},
   "source": [
    "### Найдем некорректные значения  \n",
    "\n",
    "- Посмотрим на уникальные значения в столбцах 'city', 'age', gender', 'products', 'credit_card', 'loyalty', 'churn' и 'objects'"
   ]
  },
  {
   "cell_type": "code",
   "execution_count": 11,
   "metadata": {},
   "outputs": [
    {
     "name": "stdout",
     "output_type": "stream",
     "text": [
      "city :  ['ярославль' 'рыбинск' 'ростов великий']\n",
      "\n",
      "age :  [42 41 39 43 44 50 29 27 31 24 34 25 35 45 58 32 38 46 36 33 40 51 61 49\n",
      " 37 19 66 56 26 21 55 75 22 30 28 65 48 52 57 73 47 54 72 20 67 79 62 53\n",
      " 80 59 68 23 60 70 63 64 18 82 69 74 71 76 77 88 85 84 78 81 92 83]\n",
      "\n",
      "gender :  [1 0]\n",
      "\n",
      "products :  [1 3 2 4]\n",
      "\n",
      "credit_card :  [1 0]\n",
      "\n",
      "loyalty :  [1 0]\n",
      "\n",
      "churn :  [1 0]\n",
      "\n",
      "objects :  [ 2  1  8  7  4  6  3 10  5  9  0]\n",
      "\n"
     ]
    }
   ],
   "source": [
    "# сохраним в переменную unique_colomns таблицу с просматриваемыми столбцами\n",
    "\n",
    "unique_columns = data[['city', 'age', 'gender', 'products', 'credit_card', 'loyalty', 'churn', 'objects']]\n",
    "\n",
    "# создаем цикл, который выведет уникальные значения по всем столбцам\n",
    "\n",
    "for col in unique_columns: \n",
    "    print(col, ': ', data[col].unique())\n",
    "    print()"
   ]
  },
  {
   "cell_type": "markdown",
   "metadata": {},
   "source": [
    "- Определим, нет ли отрицательных значений и аномалий в столбцах score, balance, estimated_salary"
   ]
  },
  {
   "cell_type": "code",
   "execution_count": 12,
   "metadata": {
    "scrolled": false
   },
   "outputs": [
    {
     "data": {
      "image/png": "[encoded data removed]",
      "text/plain": [
       "<Figure size 432x288 with 1 Axes>"
      ]
     },
     "metadata": {
      "needs_background": "light"
     },
     "output_type": "display_data"
    },
    {
     "data": {
      "image/png": "[encoded data removed]",
      "text/plain": [
       "<Figure size 432x288 with 1 Axes>"
      ]
     },
     "metadata": {
      "needs_background": "light"
     },
     "output_type": "display_data"
    },
    {
     "data": {
      "image/png": "[encoded data removed]",
      "text/plain": [
       "<Figure size 432x288 with 1 Axes>"
      ]
     },
     "metadata": {
      "needs_background": "light"
     },
     "output_type": "display_data"
    }
   ],
   "source": [
    "# сохраним в переменную negative_values_columns таблицу с просматриваемыми столбцами\n",
    "\n",
    "negative_values_columns = data[['score', 'balance', 'estimated_salary']]\n",
    "\n",
    "# создаем цикл, который построит гистограммы по всем столбцам\n",
    "\n",
    "for col in negative_values_columns:\n",
    "    negative_values_columns.hist(col)\n",
    "    plt.show()"
   ]
  },
  {
   "cell_type": "markdown",
   "metadata": {},
   "source": [
    "Во всех столбцах выбросов не наблюдается. "
   ]
  },
  {
   "cell_type": "markdown",
   "metadata": {},
   "source": [
    "**Выведем первые пять строк таблицы, чтобы проверить, что все изменения произошли**"
   ]
  },
  {
   "cell_type": "code",
   "execution_count": 13,
   "metadata": {},
   "outputs": [
    {
     "data": {
      "text/html": [
       "<div>\n",
       "<style scoped>\n",
       "    .dataframe tbody tr th:only-of-type {\n",
       "        vertical-align: middle;\n",
       "    }\n",
       "\n",
       "    .dataframe tbody tr th {\n",
       "        vertical-align: top;\n",
       "    }\n",
       "\n",
       "    .dataframe thead th {\n",
       "        text-align: right;\n",
       "    }\n",
       "</style>\n",
       "<table border=\"1\" class=\"dataframe\">\n",
       "  <thead>\n",
       "    <tr style=\"text-align: right;\">\n",
       "      <th></th>\n",
       "      <th>user_id</th>\n",
       "      <th>score</th>\n",
       "      <th>city</th>\n",
       "      <th>gender</th>\n",
       "      <th>age</th>\n",
       "      <th>objects</th>\n",
       "      <th>balance</th>\n",
       "      <th>products</th>\n",
       "      <th>credit_card</th>\n",
       "      <th>loyalty</th>\n",
       "      <th>estimated_salary</th>\n",
       "      <th>churn</th>\n",
       "    </tr>\n",
       "  </thead>\n",
       "  <tbody>\n",
       "    <tr>\n",
       "      <th>0</th>\n",
       "      <td>15677338</td>\n",
       "      <td>619</td>\n",
       "      <td>ярославль</td>\n",
       "      <td>1</td>\n",
       "      <td>42</td>\n",
       "      <td>2</td>\n",
       "      <td>NaN</td>\n",
       "      <td>1</td>\n",
       "      <td>1</td>\n",
       "      <td>1</td>\n",
       "      <td>101348.88</td>\n",
       "      <td>1</td>\n",
       "    </tr>\n",
       "    <tr>\n",
       "      <th>1</th>\n",
       "      <td>15690047</td>\n",
       "      <td>608</td>\n",
       "      <td>рыбинск</td>\n",
       "      <td>1</td>\n",
       "      <td>41</td>\n",
       "      <td>1</td>\n",
       "      <td>83807.86</td>\n",
       "      <td>1</td>\n",
       "      <td>0</td>\n",
       "      <td>1</td>\n",
       "      <td>112542.58</td>\n",
       "      <td>0</td>\n",
       "    </tr>\n",
       "    <tr>\n",
       "      <th>2</th>\n",
       "      <td>15662040</td>\n",
       "      <td>502</td>\n",
       "      <td>ярославль</td>\n",
       "      <td>1</td>\n",
       "      <td>42</td>\n",
       "      <td>8</td>\n",
       "      <td>159660.80</td>\n",
       "      <td>3</td>\n",
       "      <td>1</td>\n",
       "      <td>0</td>\n",
       "      <td>113931.57</td>\n",
       "      <td>1</td>\n",
       "    </tr>\n",
       "    <tr>\n",
       "      <th>3</th>\n",
       "      <td>15744090</td>\n",
       "      <td>699</td>\n",
       "      <td>ярославль</td>\n",
       "      <td>1</td>\n",
       "      <td>39</td>\n",
       "      <td>1</td>\n",
       "      <td>NaN</td>\n",
       "      <td>2</td>\n",
       "      <td>0</td>\n",
       "      <td>0</td>\n",
       "      <td>93826.63</td>\n",
       "      <td>0</td>\n",
       "    </tr>\n",
       "    <tr>\n",
       "      <th>4</th>\n",
       "      <td>15780624</td>\n",
       "      <td>850</td>\n",
       "      <td>рыбинск</td>\n",
       "      <td>1</td>\n",
       "      <td>43</td>\n",
       "      <td>2</td>\n",
       "      <td>125510.82</td>\n",
       "      <td>1</td>\n",
       "      <td>1</td>\n",
       "      <td>1</td>\n",
       "      <td>79084.10</td>\n",
       "      <td>0</td>\n",
       "    </tr>\n",
       "  </tbody>\n",
       "</table>\n",
       "</div>"
      ],
      "text/plain": [
       "    user_id  score       city  gender  age  objects    balance  products  \\\n",
       "0  15677338    619  ярославль       1   42        2        NaN         1   \n",
       "1  15690047    608    рыбинск       1   41        1   83807.86         1   \n",
       "2  15662040    502  ярославль       1   42        8  159660.80         3   \n",
       "3  15744090    699  ярославль       1   39        1        NaN         2   \n",
       "4  15780624    850    рыбинск       1   43        2  125510.82         1   \n",
       "\n",
       "   credit_card  loyalty  estimated_salary  churn  \n",
       "0            1        1         101348.88      1  \n",
       "1            0        1         112542.58      0  \n",
       "2            1        0         113931.57      1  \n",
       "3            0        0          93826.63      0  \n",
       "4            1        1          79084.10      0  "
      ]
     },
     "execution_count": 13,
     "metadata": {},
     "output_type": "execute_result"
    }
   ],
   "source": [
    "data.head()"
   ]
  },
  {
   "cell_type": "markdown",
   "metadata": {},
   "source": [
    "### Вывод  \n",
    "\n",
    "Привели названия столбцов и текстовых данных в таблице к единому стилю.  \n",
    "\n",
    "Пропуски в столбце balance оставили, так как нет достаточной информации, чтобы их заполнить.  \n",
    "\n",
    "Заменили значения \"м\" и \"ж\" на числовые \"0\" и \"1\" соответственно.\n",
    "\n",
    "Данные корректны: отрицательных значений, аномалий и дубликатов нет."
   ]
  },
  {
   "cell_type": "markdown",
   "metadata": {},
   "source": [
    "## Исследовательский анализ данных"
   ]
  },
  {
   "cell_type": "code",
   "execution_count": 14,
   "metadata": {},
   "outputs": [],
   "source": [
    "# удалим столбец user_id для следующих расчетов\n",
    "\n",
    "data_new = data.drop(['user_id'], axis=1)"
   ]
  },
  {
   "cell_type": "markdown",
   "metadata": {},
   "source": [
    "### Оценим статистические показатели по всей таблице"
   ]
  },
  {
   "cell_type": "code",
   "execution_count": 15,
   "metadata": {},
   "outputs": [
    {
     "data": {
      "text/html": [
       "<div>\n",
       "<style scoped>\n",
       "    .dataframe tbody tr th:only-of-type {\n",
       "        vertical-align: middle;\n",
       "    }\n",
       "\n",
       "    .dataframe tbody tr th {\n",
       "        vertical-align: top;\n",
       "    }\n",
       "\n",
       "    .dataframe thead th {\n",
       "        text-align: right;\n",
       "    }\n",
       "</style>\n",
       "<table border=\"1\" class=\"dataframe\">\n",
       "  <thead>\n",
       "    <tr style=\"text-align: right;\">\n",
       "      <th></th>\n",
       "      <th>count</th>\n",
       "      <th>mean</th>\n",
       "      <th>std</th>\n",
       "      <th>min</th>\n",
       "      <th>25%</th>\n",
       "      <th>50%</th>\n",
       "      <th>75%</th>\n",
       "      <th>max</th>\n",
       "    </tr>\n",
       "  </thead>\n",
       "  <tbody>\n",
       "    <tr>\n",
       "      <th>score</th>\n",
       "      <td>10000.0</td>\n",
       "      <td>650.528800</td>\n",
       "      <td>96.653299</td>\n",
       "      <td>350.00</td>\n",
       "      <td>584.000</td>\n",
       "      <td>652.000</td>\n",
       "      <td>718.0000</td>\n",
       "      <td>850.00</td>\n",
       "    </tr>\n",
       "    <tr>\n",
       "      <th>gender</th>\n",
       "      <td>10000.0</td>\n",
       "      <td>0.454300</td>\n",
       "      <td>0.497932</td>\n",
       "      <td>0.00</td>\n",
       "      <td>0.000</td>\n",
       "      <td>0.000</td>\n",
       "      <td>1.0000</td>\n",
       "      <td>1.00</td>\n",
       "    </tr>\n",
       "    <tr>\n",
       "      <th>age</th>\n",
       "      <td>10000.0</td>\n",
       "      <td>38.921800</td>\n",
       "      <td>10.487806</td>\n",
       "      <td>18.00</td>\n",
       "      <td>32.000</td>\n",
       "      <td>37.000</td>\n",
       "      <td>44.0000</td>\n",
       "      <td>92.00</td>\n",
       "    </tr>\n",
       "    <tr>\n",
       "      <th>objects</th>\n",
       "      <td>10000.0</td>\n",
       "      <td>5.012800</td>\n",
       "      <td>2.892174</td>\n",
       "      <td>0.00</td>\n",
       "      <td>3.000</td>\n",
       "      <td>5.000</td>\n",
       "      <td>7.0000</td>\n",
       "      <td>10.00</td>\n",
       "    </tr>\n",
       "    <tr>\n",
       "      <th>balance</th>\n",
       "      <td>6383.0</td>\n",
       "      <td>119827.493793</td>\n",
       "      <td>30095.056462</td>\n",
       "      <td>3768.69</td>\n",
       "      <td>100181.975</td>\n",
       "      <td>119839.690</td>\n",
       "      <td>139512.2900</td>\n",
       "      <td>250898.09</td>\n",
       "    </tr>\n",
       "    <tr>\n",
       "      <th>products</th>\n",
       "      <td>10000.0</td>\n",
       "      <td>1.530200</td>\n",
       "      <td>0.581654</td>\n",
       "      <td>1.00</td>\n",
       "      <td>1.000</td>\n",
       "      <td>1.000</td>\n",
       "      <td>2.0000</td>\n",
       "      <td>4.00</td>\n",
       "    </tr>\n",
       "    <tr>\n",
       "      <th>credit_card</th>\n",
       "      <td>10000.0</td>\n",
       "      <td>0.705500</td>\n",
       "      <td>0.455840</td>\n",
       "      <td>0.00</td>\n",
       "      <td>0.000</td>\n",
       "      <td>1.000</td>\n",
       "      <td>1.0000</td>\n",
       "      <td>1.00</td>\n",
       "    </tr>\n",
       "    <tr>\n",
       "      <th>loyalty</th>\n",
       "      <td>10000.0</td>\n",
       "      <td>0.515100</td>\n",
       "      <td>0.499797</td>\n",
       "      <td>0.00</td>\n",
       "      <td>0.000</td>\n",
       "      <td>1.000</td>\n",
       "      <td>1.0000</td>\n",
       "      <td>1.00</td>\n",
       "    </tr>\n",
       "    <tr>\n",
       "      <th>estimated_salary</th>\n",
       "      <td>10000.0</td>\n",
       "      <td>100090.239881</td>\n",
       "      <td>57510.492818</td>\n",
       "      <td>11.58</td>\n",
       "      <td>51002.110</td>\n",
       "      <td>100193.915</td>\n",
       "      <td>149388.2475</td>\n",
       "      <td>199992.48</td>\n",
       "    </tr>\n",
       "    <tr>\n",
       "      <th>churn</th>\n",
       "      <td>10000.0</td>\n",
       "      <td>0.203700</td>\n",
       "      <td>0.402769</td>\n",
       "      <td>0.00</td>\n",
       "      <td>0.000</td>\n",
       "      <td>0.000</td>\n",
       "      <td>0.0000</td>\n",
       "      <td>1.00</td>\n",
       "    </tr>\n",
       "  </tbody>\n",
       "</table>\n",
       "</div>"
      ],
      "text/plain": [
       "                    count           mean           std      min         25%  \\\n",
       "score             10000.0     650.528800     96.653299   350.00     584.000   \n",
       "gender            10000.0       0.454300      0.497932     0.00       0.000   \n",
       "age               10000.0      38.921800     10.487806    18.00      32.000   \n",
       "objects           10000.0       5.012800      2.892174     0.00       3.000   \n",
       "balance            6383.0  119827.493793  30095.056462  3768.69  100181.975   \n",
       "products          10000.0       1.530200      0.581654     1.00       1.000   \n",
       "credit_card       10000.0       0.705500      0.455840     0.00       0.000   \n",
       "loyalty           10000.0       0.515100      0.499797     0.00       0.000   \n",
       "estimated_salary  10000.0  100090.239881  57510.492818    11.58   51002.110   \n",
       "churn             10000.0       0.203700      0.402769     0.00       0.000   \n",
       "\n",
       "                         50%          75%        max  \n",
       "score                652.000     718.0000     850.00  \n",
       "gender                 0.000       1.0000       1.00  \n",
       "age                   37.000      44.0000      92.00  \n",
       "objects                5.000       7.0000      10.00  \n",
       "balance           119839.690  139512.2900  250898.09  \n",
       "products               1.000       2.0000       4.00  \n",
       "credit_card            1.000       1.0000       1.00  \n",
       "loyalty                1.000       1.0000       1.00  \n",
       "estimated_salary  100193.915  149388.2475  199992.48  \n",
       "churn                  0.000       0.0000       1.00  "
      ]
     },
     "execution_count": 15,
     "metadata": {},
     "output_type": "execute_result"
    }
   ],
   "source": [
    "# транспонируем таблицу и оценим статистические показатели \n",
    "\n",
    "data_new.describe().transpose()"
   ]
  },
  {
   "cell_type": "markdown",
   "metadata": {},
   "source": [
    "### Построим матрицу корреляции"
   ]
  },
  {
   "cell_type": "code",
   "execution_count": 16,
   "metadata": {
    "scrolled": false
   },
   "outputs": [
    {
     "data": {
      "image/png": "[encoded data removed]",
      "text/plain": [
       "<Figure size 864x432 with 2 Axes>"
      ]
     },
     "metadata": {
      "needs_background": "light"
     },
     "output_type": "display_data"
    }
   ],
   "source": [
    "# построим хитмэп корреляции между признаками\n",
    "\n",
    "corr = data_new.corr()\n",
    "f, ax = plt.subplots(figsize=(12, 6))\n",
    "ax = sns.heatmap(corr, xticklabels=corr.columns, yticklabels=corr.columns, annot=True);"
   ]
  },
  {
   "cell_type": "markdown",
   "metadata": {},
   "source": [
    "На матрице корреляции прослеживается слабая положительная корреляция в 0,3 между возрастом и фактом ухода."
   ]
  },
  {
   "cell_type": "markdown",
   "metadata": {},
   "source": [
    "### Оценим средние значения признаков в группах для тех, кто ушел в отток и тех, кто остался  \n",
    "\n",
    "- для всех признаков"
   ]
  },
  {
   "cell_type": "code",
   "execution_count": 17,
   "metadata": {},
   "outputs": [
    {
     "data": {
      "text/html": [
       "<div>\n",
       "<style scoped>\n",
       "    .dataframe tbody tr th:only-of-type {\n",
       "        vertical-align: middle;\n",
       "    }\n",
       "\n",
       "    .dataframe tbody tr th {\n",
       "        vertical-align: top;\n",
       "    }\n",
       "\n",
       "    .dataframe thead th {\n",
       "        text-align: right;\n",
       "    }\n",
       "</style>\n",
       "<table border=\"1\" class=\"dataframe\">\n",
       "  <thead>\n",
       "    <tr style=\"text-align: right;\">\n",
       "      <th>churn</th>\n",
       "      <th>0</th>\n",
       "      <th>1</th>\n",
       "    </tr>\n",
       "  </thead>\n",
       "  <tbody>\n",
       "    <tr>\n",
       "      <th>score</th>\n",
       "      <td>651.853196</td>\n",
       "      <td>645.351497</td>\n",
       "    </tr>\n",
       "    <tr>\n",
       "      <th>gender</th>\n",
       "      <td>0.427477</td>\n",
       "      <td>0.559156</td>\n",
       "    </tr>\n",
       "    <tr>\n",
       "      <th>age</th>\n",
       "      <td>37.408389</td>\n",
       "      <td>44.837997</td>\n",
       "    </tr>\n",
       "    <tr>\n",
       "      <th>objects</th>\n",
       "      <td>5.033279</td>\n",
       "      <td>4.932744</td>\n",
       "    </tr>\n",
       "    <tr>\n",
       "      <th>balance</th>\n",
       "      <td>119535.864270</td>\n",
       "      <td>120746.971132</td>\n",
       "    </tr>\n",
       "    <tr>\n",
       "      <th>products</th>\n",
       "      <td>1.544267</td>\n",
       "      <td>1.475209</td>\n",
       "    </tr>\n",
       "    <tr>\n",
       "      <th>credit_card</th>\n",
       "      <td>0.707146</td>\n",
       "      <td>0.699067</td>\n",
       "    </tr>\n",
       "    <tr>\n",
       "      <th>loyalty</th>\n",
       "      <td>0.554565</td>\n",
       "      <td>0.360825</td>\n",
       "    </tr>\n",
       "    <tr>\n",
       "      <th>estimated_salary</th>\n",
       "      <td>99738.391772</td>\n",
       "      <td>101465.677531</td>\n",
       "    </tr>\n",
       "  </tbody>\n",
       "</table>\n",
       "</div>"
      ],
      "text/plain": [
       "churn                         0              1\n",
       "score                651.853196     645.351497\n",
       "gender                 0.427477       0.559156\n",
       "age                   37.408389      44.837997\n",
       "objects                5.033279       4.932744\n",
       "balance           119535.864270  120746.971132\n",
       "products               1.544267       1.475209\n",
       "credit_card            0.707146       0.699067\n",
       "loyalty                0.554565       0.360825\n",
       "estimated_salary   99738.391772  101465.677531"
      ]
     },
     "execution_count": 17,
     "metadata": {},
     "output_type": "execute_result"
    }
   ],
   "source": [
    "# создадим сгруппированную таблицу по оттоку, посчитаем среднее для всех признаков\n",
    "# транспонируем таблицу\n",
    "\n",
    "data_groupby = data_new.groupby('churn').mean().transpose()\n",
    "data_groupby"
   ]
  },
  {
   "cell_type": "markdown",
   "metadata": {},
   "source": [
    "- для заработной платы и баланса на счёте"
   ]
  },
  {
   "cell_type": "code",
   "execution_count": 18,
   "metadata": {},
   "outputs": [
    {
     "data": {
      "image/png": "[encoded data removed]",
      "text/plain": [
       "<Figure size 432x288 with 1 Axes>"
      ]
     },
     "metadata": {
      "needs_background": "light"
     },
     "output_type": "display_data"
    }
   ],
   "source": [
    "# построим график для среднего значения з/п для тех, кто ушёл и тех, кто остался\n",
    "\n",
    "data_churn_salary = data_new[['estimated_salary', 'churn']].groupby('churn').mean().transpose()\n",
    "data_churn_salary.plot(kind='bar')\n",
    "plt.title('Средняя заработная плата клиентов для тех, кто ушёл и тех, кто остался')\n",
    "plt.xticks(rotation=0)\n",
    "plt.xlabel('Заработная плата')\n",
    "plt.ylabel('Среднее значение');"
   ]
  },
  {
   "cell_type": "code",
   "execution_count": 19,
   "metadata": {
    "scrolled": true
   },
   "outputs": [
    {
     "data": {
      "image/png": "[encoded data removed]",
      "text/plain": [
       "<Figure size 432x288 with 1 Axes>"
      ]
     },
     "metadata": {
      "needs_background": "light"
     },
     "output_type": "display_data"
    }
   ],
   "source": [
    "# построим график для среднего баланса счета для тех, кто ушёл и тех, кто остался\n",
    "\n",
    "data_churn_balance = data_new[['balance', 'churn']].groupby('churn').mean().transpose()\n",
    "data_churn_balance.plot(kind='bar')\n",
    "plt.title('Средний баланс на счету клиентов для тех, кто ушёл и тех, кто остался')\n",
    "plt.xticks(rotation=0)\n",
    "plt.xlabel('Баланс на счету')\n",
    "plt.ylabel('Среднее значение');"
   ]
  },
  {
   "cell_type": "markdown",
   "metadata": {},
   "source": [
    "- для возраста"
   ]
  },
  {
   "cell_type": "code",
   "execution_count": 20,
   "metadata": {},
   "outputs": [
    {
     "data": {
      "image/png": "[encoded data removed]",
      "text/plain": [
       "<Figure size 432x288 with 1 Axes>"
      ]
     },
     "metadata": {
      "needs_background": "light"
     },
     "output_type": "display_data"
    }
   ],
   "source": [
    "# построим график для среднего баланса счета для тех, кто ушёл и тех, кто остался\n",
    "\n",
    "data_churn_age = data_new[['age', 'churn']].groupby('churn').mean().transpose()\n",
    "data_churn_age.plot(kind='bar')\n",
    "plt.title('Средний возраст клиентов для тех, кто ушёл и тех, кто остался')\n",
    "plt.xticks(rotation=0)\n",
    "plt.xlabel('Возраст')\n",
    "plt.ylabel('Среднее значение');"
   ]
  },
  {
   "cell_type": "markdown",
   "metadata": {},
   "source": [
    "### Оценим средние значения признаков в группах по городам  \n",
    "\n",
    "- для всех признаков"
   ]
  },
  {
   "cell_type": "code",
   "execution_count": 21,
   "metadata": {},
   "outputs": [
    {
     "data": {
      "text/html": [
       "<div>\n",
       "<style scoped>\n",
       "    .dataframe tbody tr th:only-of-type {\n",
       "        vertical-align: middle;\n",
       "    }\n",
       "\n",
       "    .dataframe tbody tr th {\n",
       "        vertical-align: top;\n",
       "    }\n",
       "\n",
       "    .dataframe thead th {\n",
       "        text-align: right;\n",
       "    }\n",
       "</style>\n",
       "<table border=\"1\" class=\"dataframe\">\n",
       "  <thead>\n",
       "    <tr style=\"text-align: right;\">\n",
       "      <th>city</th>\n",
       "      <th>ростов великий</th>\n",
       "      <th>рыбинск</th>\n",
       "      <th>ярославль</th>\n",
       "    </tr>\n",
       "  </thead>\n",
       "  <tbody>\n",
       "    <tr>\n",
       "      <th>score</th>\n",
       "      <td>651.453567</td>\n",
       "      <td>651.333872</td>\n",
       "      <td>649.668329</td>\n",
       "    </tr>\n",
       "    <tr>\n",
       "      <th>gender</th>\n",
       "      <td>0.475488</td>\n",
       "      <td>0.439645</td>\n",
       "      <td>0.450937</td>\n",
       "    </tr>\n",
       "    <tr>\n",
       "      <th>age</th>\n",
       "      <td>39.771622</td>\n",
       "      <td>38.890997</td>\n",
       "      <td>38.511767</td>\n",
       "    </tr>\n",
       "    <tr>\n",
       "      <th>objects</th>\n",
       "      <td>5.009964</td>\n",
       "      <td>5.032297</td>\n",
       "      <td>5.004587</td>\n",
       "    </tr>\n",
       "    <tr>\n",
       "      <th>balance</th>\n",
       "      <td>119730.116134</td>\n",
       "      <td>119814.985923</td>\n",
       "      <td>119927.765597</td>\n",
       "    </tr>\n",
       "    <tr>\n",
       "      <th>products</th>\n",
       "      <td>1.519729</td>\n",
       "      <td>1.539362</td>\n",
       "      <td>1.530913</td>\n",
       "    </tr>\n",
       "    <tr>\n",
       "      <th>credit_card</th>\n",
       "      <td>0.713830</td>\n",
       "      <td>0.694792</td>\n",
       "      <td>0.706621</td>\n",
       "    </tr>\n",
       "    <tr>\n",
       "      <th>loyalty</th>\n",
       "      <td>0.497409</td>\n",
       "      <td>0.529673</td>\n",
       "      <td>0.516753</td>\n",
       "    </tr>\n",
       "    <tr>\n",
       "      <th>estimated_salary</th>\n",
       "      <td>101113.435102</td>\n",
       "      <td>99440.572281</td>\n",
       "      <td>99899.180814</td>\n",
       "    </tr>\n",
       "    <tr>\n",
       "      <th>churn</th>\n",
       "      <td>0.324432</td>\n",
       "      <td>0.166734</td>\n",
       "      <td>0.161548</td>\n",
       "    </tr>\n",
       "  </tbody>\n",
       "</table>\n",
       "</div>"
      ],
      "text/plain": [
       "city              ростов великий        рыбинск      ярославль\n",
       "score                 651.453567     651.333872     649.668329\n",
       "gender                  0.475488       0.439645       0.450937\n",
       "age                    39.771622      38.890997      38.511767\n",
       "objects                 5.009964       5.032297       5.004587\n",
       "balance            119730.116134  119814.985923  119927.765597\n",
       "products                1.519729       1.539362       1.530913\n",
       "credit_card             0.713830       0.694792       0.706621\n",
       "loyalty                 0.497409       0.529673       0.516753\n",
       "estimated_salary   101113.435102   99440.572281   99899.180814\n",
       "churn                   0.324432       0.166734       0.161548"
      ]
     },
     "execution_count": 21,
     "metadata": {},
     "output_type": "execute_result"
    }
   ],
   "source": [
    "# создадим сгруппированную таблицу по оттоку, посчитаем среднее для всех признаков\n",
    "# транспонируем таблицу\n",
    "\n",
    "data_city = data_new.groupby('city').mean().transpose()\n",
    "data_city"
   ]
  },
  {
   "cell_type": "markdown",
   "metadata": {},
   "source": [
    "- для заработной платы и баланса на счёте"
   ]
  },
  {
   "cell_type": "code",
   "execution_count": 22,
   "metadata": {},
   "outputs": [
    {
     "data": {
      "image/png": "[encoded data removed]",
      "text/plain": [
       "<Figure size 432x288 with 1 Axes>"
      ]
     },
     "metadata": {
      "needs_background": "light"
     },
     "output_type": "display_data"
    }
   ],
   "source": [
    "# построим график для среднего баланса счета по городам\n",
    "\n",
    "data_city_balance = data[['balance', 'city']].groupby('city').mean().transpose()\n",
    "data_city_balance.plot(kind='bar')\n",
    "plt.title('Средний баланс на счету клиентов по городам')\n",
    "plt.xticks(rotation=0)\n",
    "plt.xlabel('Баланс на счету')\n",
    "plt.ylabel('Среднее значение');"
   ]
  },
  {
   "cell_type": "code",
   "execution_count": 23,
   "metadata": {},
   "outputs": [
    {
     "data": {
      "image/png": "[encoded data removed]",
      "text/plain": [
       "<Figure size 432x288 with 1 Axes>"
      ]
     },
     "metadata": {
      "needs_background": "light"
     },
     "output_type": "display_data"
    }
   ],
   "source": [
    "# построим график для среднего значения з/п по городам\n",
    "\n",
    "data_city_salary = data[['estimated_salary', 'city']].groupby('city').mean().transpose()\n",
    "data_city_salary.plot(kind='bar')\n",
    "plt.title('Средняя заработная плата клиентов по городам')\n",
    "plt.xticks(rotation=0)\n",
    "plt.xlabel('Заработная плата')\n",
    "plt.ylabel('Среднее значение');"
   ]
  },
  {
   "cell_type": "markdown",
   "metadata": {},
   "source": [
    "### Оценим долю оттока по городам"
   ]
  },
  {
   "cell_type": "code",
   "execution_count": 24,
   "metadata": {},
   "outputs": [
    {
     "data": {
      "text/html": [
       "<div>\n",
       "<style scoped>\n",
       "    .dataframe tbody tr th:only-of-type {\n",
       "        vertical-align: middle;\n",
       "    }\n",
       "\n",
       "    .dataframe tbody tr th {\n",
       "        vertical-align: top;\n",
       "    }\n",
       "\n",
       "    .dataframe thead th {\n",
       "        text-align: right;\n",
       "    }\n",
       "</style>\n",
       "<table border=\"1\" class=\"dataframe\">\n",
       "  <thead>\n",
       "    <tr style=\"text-align: right;\">\n",
       "      <th>churn</th>\n",
       "      <th>0</th>\n",
       "      <th>1</th>\n",
       "      <th>percent</th>\n",
       "    </tr>\n",
       "    <tr>\n",
       "      <th>city</th>\n",
       "      <th></th>\n",
       "      <th></th>\n",
       "      <th></th>\n",
       "    </tr>\n",
       "  </thead>\n",
       "  <tbody>\n",
       "    <tr>\n",
       "      <th>ростов великий</th>\n",
       "      <td>1695</td>\n",
       "      <td>814</td>\n",
       "      <td>32.44</td>\n",
       "    </tr>\n",
       "    <tr>\n",
       "      <th>рыбинск</th>\n",
       "      <td>2064</td>\n",
       "      <td>413</td>\n",
       "      <td>16.67</td>\n",
       "    </tr>\n",
       "    <tr>\n",
       "      <th>ярославль</th>\n",
       "      <td>4204</td>\n",
       "      <td>810</td>\n",
       "      <td>16.15</td>\n",
       "    </tr>\n",
       "  </tbody>\n",
       "</table>\n",
       "</div>"
      ],
      "text/plain": [
       "churn              0    1  percent\n",
       "city                              \n",
       "ростов великий  1695  814    32.44\n",
       "рыбинск         2064  413    16.67\n",
       "ярославль       4204  810    16.15"
      ]
     },
     "execution_count": 24,
     "metadata": {},
     "output_type": "execute_result"
    }
   ],
   "source": [
    "# создадим сводную таблицу по городам и посчитаем кол-во тех, кто ушел и тех, кто остался\n",
    "\n",
    "data_groupby_city = data.pivot_table(index=['city'], columns='churn', values='user_id', aggfunc='count')\n",
    "\n",
    "# добавим столбец с процентом ушедших\n",
    "\n",
    "data_groupby_city['percent'] = data_groupby_city[1]/(data_groupby_city[0]+data_groupby_city[1])*100\n",
    "data_groupby_city.round(2)"
   ]
  },
  {
   "cell_type": "code",
   "execution_count": 25,
   "metadata": {},
   "outputs": [
    {
     "data": {
      "image/png": "[encoded data removed]",
      "text/plain": [
       "<Figure size 432x288 with 1 Axes>"
      ]
     },
     "metadata": {
      "needs_background": "light"
     },
     "output_type": "display_data"
    }
   ],
   "source": [
    "# построим график для кол-ва ушедших клиентов по городам\n",
    "\n",
    "data_groupby_city['percent'].plot(kind='bar')\n",
    "plt.title('Процент оттока клиентов по городам')\n",
    "plt.xticks(rotation=0)\n",
    "plt.xlabel('Города')\n",
    "plt.ylabel('Процент');"
   ]
  },
  {
   "cell_type": "markdown",
   "metadata": {},
   "source": [
    "### Оценим долю отткока по полу"
   ]
  },
  {
   "cell_type": "code",
   "execution_count": 26,
   "metadata": {},
   "outputs": [
    {
     "data": {
      "text/html": [
       "<div>\n",
       "<style scoped>\n",
       "    .dataframe tbody tr th:only-of-type {\n",
       "        vertical-align: middle;\n",
       "    }\n",
       "\n",
       "    .dataframe tbody tr th {\n",
       "        vertical-align: top;\n",
       "    }\n",
       "\n",
       "    .dataframe thead th {\n",
       "        text-align: right;\n",
       "    }\n",
       "</style>\n",
       "<table border=\"1\" class=\"dataframe\">\n",
       "  <thead>\n",
       "    <tr style=\"text-align: right;\">\n",
       "      <th>churn</th>\n",
       "      <th>0</th>\n",
       "      <th>1</th>\n",
       "      <th>percent</th>\n",
       "    </tr>\n",
       "    <tr>\n",
       "      <th>gender</th>\n",
       "      <th></th>\n",
       "      <th></th>\n",
       "      <th></th>\n",
       "    </tr>\n",
       "  </thead>\n",
       "  <tbody>\n",
       "    <tr>\n",
       "      <th>0</th>\n",
       "      <td>4559</td>\n",
       "      <td>898</td>\n",
       "      <td>16.46</td>\n",
       "    </tr>\n",
       "    <tr>\n",
       "      <th>1</th>\n",
       "      <td>3404</td>\n",
       "      <td>1139</td>\n",
       "      <td>25.07</td>\n",
       "    </tr>\n",
       "  </tbody>\n",
       "</table>\n",
       "</div>"
      ],
      "text/plain": [
       "churn      0     1  percent\n",
       "gender                     \n",
       "0       4559   898    16.46\n",
       "1       3404  1139    25.07"
      ]
     },
     "execution_count": 26,
     "metadata": {},
     "output_type": "execute_result"
    }
   ],
   "source": [
    "# создадим сводную таблицу по полу и посчитаем кол-во тех, кто ушел и тех, кто остался\n",
    "\n",
    "data_groupby_gender = data.pivot_table(index=['gender'], columns='churn', values='user_id', aggfunc='count')\n",
    "\n",
    "# добавим столбец с процентом ушедших\n",
    "\n",
    "data_groupby_gender['percent'] = data_groupby_gender[1]/(data_groupby_gender[0]+data_groupby_gender[1])*100\n",
    "data_groupby_gender.round(2)"
   ]
  },
  {
   "cell_type": "code",
   "execution_count": 27,
   "metadata": {},
   "outputs": [
    {
     "data": {
      "image/png": "[encoded data removed]",
      "text/plain": [
       "<Figure size 432x288 with 1 Axes>"
      ]
     },
     "metadata": {
      "needs_background": "light"
     },
     "output_type": "display_data"
    }
   ],
   "source": [
    "# построим график для кол-ва ушедших клиентов по полу\n",
    "\n",
    "data_groupby_gender['percent'].plot(kind='bar')\n",
    "plt.title('Процент оттока клиентов по полу')\n",
    "plt.xticks(rotation=0)\n",
    "plt.xlabel('Пол')\n",
    "plt.ylabel('Процент');"
   ]
  },
  {
   "cell_type": "markdown",
   "metadata": {},
   "source": [
    "### Оценим долю оттока по кол-ву продуктов"
   ]
  },
  {
   "cell_type": "code",
   "execution_count": 28,
   "metadata": {},
   "outputs": [
    {
     "data": {
      "text/html": [
       "<div>\n",
       "<style scoped>\n",
       "    .dataframe tbody tr th:only-of-type {\n",
       "        vertical-align: middle;\n",
       "    }\n",
       "\n",
       "    .dataframe tbody tr th {\n",
       "        vertical-align: top;\n",
       "    }\n",
       "\n",
       "    .dataframe thead th {\n",
       "        text-align: right;\n",
       "    }\n",
       "</style>\n",
       "<table border=\"1\" class=\"dataframe\">\n",
       "  <thead>\n",
       "    <tr style=\"text-align: right;\">\n",
       "      <th>churn</th>\n",
       "      <th>0</th>\n",
       "      <th>1</th>\n",
       "      <th>percent</th>\n",
       "    </tr>\n",
       "    <tr>\n",
       "      <th>products</th>\n",
       "      <th></th>\n",
       "      <th></th>\n",
       "      <th></th>\n",
       "    </tr>\n",
       "  </thead>\n",
       "  <tbody>\n",
       "    <tr>\n",
       "      <th>1</th>\n",
       "      <td>3675.0</td>\n",
       "      <td>1409.0</td>\n",
       "      <td>27.71</td>\n",
       "    </tr>\n",
       "    <tr>\n",
       "      <th>2</th>\n",
       "      <td>4242.0</td>\n",
       "      <td>348.0</td>\n",
       "      <td>7.58</td>\n",
       "    </tr>\n",
       "    <tr>\n",
       "      <th>3</th>\n",
       "      <td>46.0</td>\n",
       "      <td>220.0</td>\n",
       "      <td>82.71</td>\n",
       "    </tr>\n",
       "    <tr>\n",
       "      <th>4</th>\n",
       "      <td>0.0</td>\n",
       "      <td>60.0</td>\n",
       "      <td>100.00</td>\n",
       "    </tr>\n",
       "  </tbody>\n",
       "</table>\n",
       "</div>"
      ],
      "text/plain": [
       "churn          0       1  percent\n",
       "products                         \n",
       "1         3675.0  1409.0    27.71\n",
       "2         4242.0   348.0     7.58\n",
       "3           46.0   220.0    82.71\n",
       "4            0.0    60.0   100.00"
      ]
     },
     "execution_count": 28,
     "metadata": {},
     "output_type": "execute_result"
    }
   ],
   "source": [
    "# создадим сводную таблицу по кол-ву продуктов и посчитаем кол-во тех, кто ушел и тех, кто остался\n",
    "\n",
    "data_groupby_product = data.pivot_table(index=['products'], columns='churn', values='user_id', aggfunc='count')\n",
    "data_groupby_product[0] = data_groupby_product[0].fillna(0)\n",
    "\n",
    "# добавим столбец с процентом ушедших\n",
    "\n",
    "data_groupby_product['percent'] = data_groupby_product[1]/(data_groupby_product[0]+data_groupby_product[1])*100\n",
    "data_groupby_product.round(2)"
   ]
  },
  {
   "cell_type": "code",
   "execution_count": 29,
   "metadata": {},
   "outputs": [
    {
     "data": {
      "image/png": "[encoded data removed]",
      "text/plain": [
       "<Figure size 432x288 with 1 Axes>"
      ]
     },
     "metadata": {
      "needs_background": "light"
     },
     "output_type": "display_data"
    }
   ],
   "source": [
    "# построим график для кол-ва ушедших клиентов по кол-ву продуктов\n",
    "\n",
    "data_groupby_product['percent'].plot(kind='bar')\n",
    "plt.title('Процент оттока по кол-ву продуктов')\n",
    "plt.xticks(rotation=0)\n",
    "plt.xlabel('Кол-во продуктов')\n",
    "plt.ylabel('Процент');"
   ]
  },
  {
   "cell_type": "markdown",
   "metadata": {},
   "source": [
    "### Посмотрим на признаки только среди женщин  \n",
    "\n",
    "Так как мы наблюдаем большой процент ухода среди женщин, посмотрим на другие признаки в этом разрезе. Возможно отток из Ростова Великого и возраст связан только с женщинами.\n",
    "\n",
    "- найдем корреляцию между возрастом и фактом ухода"
   ]
  },
  {
   "cell_type": "code",
   "execution_count": 30,
   "metadata": {},
   "outputs": [
    {
     "data": {
      "text/plain": [
       "0.30303770785039563"
      ]
     },
     "execution_count": 30,
     "metadata": {},
     "output_type": "execute_result"
    }
   ],
   "source": [
    "data_women = data.query('gender == 1')\n",
    "data_women['age'].corr(data_women['churn'])"
   ]
  },
  {
   "cell_type": "markdown",
   "metadata": {},
   "source": [
    "- посмотрим распределение женщин по городам"
   ]
  },
  {
   "cell_type": "code",
   "execution_count": 31,
   "metadata": {},
   "outputs": [
    {
     "data": {
      "text/html": [
       "<div>\n",
       "<style scoped>\n",
       "    .dataframe tbody tr th:only-of-type {\n",
       "        vertical-align: middle;\n",
       "    }\n",
       "\n",
       "    .dataframe tbody tr th {\n",
       "        vertical-align: top;\n",
       "    }\n",
       "\n",
       "    .dataframe thead th {\n",
       "        text-align: right;\n",
       "    }\n",
       "</style>\n",
       "<table border=\"1\" class=\"dataframe\">\n",
       "  <thead>\n",
       "    <tr style=\"text-align: right;\">\n",
       "      <th></th>\n",
       "      <th>age</th>\n",
       "    </tr>\n",
       "    <tr>\n",
       "      <th>city</th>\n",
       "      <th></th>\n",
       "    </tr>\n",
       "  </thead>\n",
       "  <tbody>\n",
       "    <tr>\n",
       "      <th>ростов великий</th>\n",
       "      <td>1193</td>\n",
       "    </tr>\n",
       "    <tr>\n",
       "      <th>рыбинск</th>\n",
       "      <td>1089</td>\n",
       "    </tr>\n",
       "    <tr>\n",
       "      <th>ярославль</th>\n",
       "      <td>2261</td>\n",
       "    </tr>\n",
       "  </tbody>\n",
       "</table>\n",
       "</div>"
      ],
      "text/plain": [
       "                 age\n",
       "city                \n",
       "ростов великий  1193\n",
       "рыбинск         1089\n",
       "ярославль       2261"
      ]
     },
     "execution_count": 31,
     "metadata": {},
     "output_type": "execute_result"
    }
   ],
   "source": [
    "data_women.groupby('city').agg({'age':'count'})"
   ]
  },
  {
   "cell_type": "markdown",
   "metadata": {},
   "source": [
    "- посмотрим распределение женщин по кол-ву продуктов"
   ]
  },
  {
   "cell_type": "code",
   "execution_count": 32,
   "metadata": {},
   "outputs": [
    {
     "data": {
      "text/html": [
       "<div>\n",
       "<style scoped>\n",
       "    .dataframe tbody tr th:only-of-type {\n",
       "        vertical-align: middle;\n",
       "    }\n",
       "\n",
       "    .dataframe tbody tr th {\n",
       "        vertical-align: top;\n",
       "    }\n",
       "\n",
       "    .dataframe thead th {\n",
       "        text-align: right;\n",
       "    }\n",
       "</style>\n",
       "<table border=\"1\" class=\"dataframe\">\n",
       "  <thead>\n",
       "    <tr style=\"text-align: right;\">\n",
       "      <th>churn</th>\n",
       "      <th>0</th>\n",
       "      <th>1</th>\n",
       "      <th>percent</th>\n",
       "    </tr>\n",
       "    <tr>\n",
       "      <th>products</th>\n",
       "      <th></th>\n",
       "      <th></th>\n",
       "      <th></th>\n",
       "    </tr>\n",
       "  </thead>\n",
       "  <tbody>\n",
       "    <tr>\n",
       "      <th>1</th>\n",
       "      <td>1534.0</td>\n",
       "      <td>762.0</td>\n",
       "      <td>33.19</td>\n",
       "    </tr>\n",
       "    <tr>\n",
       "      <th>2</th>\n",
       "      <td>1850.0</td>\n",
       "      <td>210.0</td>\n",
       "      <td>10.19</td>\n",
       "    </tr>\n",
       "    <tr>\n",
       "      <th>3</th>\n",
       "      <td>20.0</td>\n",
       "      <td>129.0</td>\n",
       "      <td>86.58</td>\n",
       "    </tr>\n",
       "    <tr>\n",
       "      <th>4</th>\n",
       "      <td>0.0</td>\n",
       "      <td>38.0</td>\n",
       "      <td>100.00</td>\n",
       "    </tr>\n",
       "  </tbody>\n",
       "</table>\n",
       "</div>"
      ],
      "text/plain": [
       "churn          0      1  percent\n",
       "products                        \n",
       "1         1534.0  762.0    33.19\n",
       "2         1850.0  210.0    10.19\n",
       "3           20.0  129.0    86.58\n",
       "4            0.0   38.0   100.00"
      ]
     },
     "execution_count": 32,
     "metadata": {},
     "output_type": "execute_result"
    }
   ],
   "source": [
    "data_women_pivot = data_women.pivot_table(index=['products'], columns='churn', values='age', aggfunc='count')\n",
    "data_women_pivot[0] = data_women_pivot[0].fillna(0)\n",
    "\n",
    "data_women_pivot['percent'] = data_women_pivot[1]/(data_women_pivot[0]+data_women_pivot[1])*100\n",
    "data_women_pivot.round(2)"
   ]
  },
  {
   "cell_type": "markdown",
   "metadata": {},
   "source": [
    "Предположение, что отток связан только с женщинами не подтвердилось."
   ]
  },
  {
   "cell_type": "markdown",
   "metadata": {},
   "source": [
    "### Вывод \n",
    "\n",
    "- Средний бал кредитного скоринга  650, минимальный и максимальный балы 350 и 850 соответственно.\n",
    "- Средний возраст 39 лет, самому младшему клиенту 18, самому старшему 92 года. Медианное значение равно 37, следовательно клиентов младше 39 больше.\n",
    "- Среднее кол-во объектов в собственности равно пяти. 75% клиентов имеют в собственности 3 и более объектов.\n",
    "- Средний баланс на счету 76 000, медианное значение равно 97 000. Различие обусловленно тем, что у 25% клиентов нулевой баланс счета.\n",
    "- Большинство клиентов пользуются 1-2 продуктами банка\n",
    "- Кредитную карту имеют 70% клиентов\n",
    "- 52% клиентов активны\n",
    "- Средняя заработная плата клиента составляет 100 000\n",
    "- 20% клиентов ушли из банка\n",
    "\n",
    "На матрице корреляции прослеживается положительная корреляция в 0,3 между возрастом и фактом ухода.    \n",
    "\n",
    "Для ушедших клиентов из всех признаков выделяются:  \n",
    "- возраст - средний возраст около 45 лет  \n",
    "- среднее значение баланса на счету - у ушедших он примерно на 20 000 больше. Возможно, это связано с возрастом, так как чем старше клиент, тем больше денег у него на счету  \n",
    "- кол-во продуктов, которыми пользуется клиент три и более\n",
    "\n",
    "Уровень заработной платы клиента практически одинаковый как для тех, кто остался, так и для тех, кто ушел.  \n",
    "\n",
    "После группировки по городам, определили что:  \n",
    "- баланс на счету клиентов в Ростове Великом почти 2 раза выше, чем в других городах, а уровень заработной платы практически не отличается;  \n",
    "- самая большая доля ушедших от общего кол-ва клиентов в Ростове Великом - 32%  \n",
    "\n",
    "Отсюда можно сделать вывод, что отрицательная корреляция между балансом на счету и уходом создается только за счет клиентов в Ростове Великом.  \n",
    "\n",
    "После группировки по полу, определили, что больший процент ушедших - 25% наблюдается среди женщин. Коэффициент корреляции для возраста и факта ухода только среди женщин такой же как и для обоих полов. Кол-во женщин в Ростове Великом почти такое же как в Рыбинске и почти в два раза меньше, чем в Ярославле.  \n",
    "\n",
    "Из всего этого следует, что больше всего **склонны к уходу клиенты более старшего возраста обоих полов и женщины разного возраста; клиенты, использующие 3 и более продуктов банка.   \n",
    "А также наблюдается отток клиентов из банков в Ростове Великом.**  \n"
   ]
  },
  {
   "cell_type": "markdown",
   "metadata": {},
   "source": [
    "## Проверка гипотез   \n",
    "\n",
    "Разделим исходную таблицу на две, для тех, кто ушел и тех, кто остался."
   ]
  },
  {
   "cell_type": "code",
   "execution_count": 33,
   "metadata": {},
   "outputs": [
    {
     "data": {
      "text/plain": [
       "2037"
      ]
     },
     "metadata": {},
     "output_type": "display_data"
    },
    {
     "data": {
      "text/plain": [
       "7963"
      ]
     },
     "metadata": {},
     "output_type": "display_data"
    }
   ],
   "source": [
    "# создадим две новые таблицы и выведем кол-во строк каждой таблицы\n",
    "\n",
    "users_gone = data_new.query('churn == 1')\n",
    "display(users_gone.shape[0])\n",
    "\n",
    "users_stay = data_new.query('churn == 0')\n",
    "display(users_stay.shape[0])"
   ]
  },
  {
   "cell_type": "markdown",
   "metadata": {},
   "source": [
    "#### Первая гипотеза  \n",
    "\n",
    "**Нулевая гипотеза:** доходы тех, кто ушел и тех, кто остался равны.  \n",
    "**Альтернативная гипотеза:** доходы тех, кто ушел и тех, кто остался не равны.  \n",
    "\n",
    "**Проверка гипотезы:** сравним средние доходы тех, кто ушел и тех, кто остался.  \n",
    "Уровень статистической значимости зададим в 5%.  \n",
    "\n",
    "Проведем t-тест для двух независимых выборок. Выборки по размеру отличаются, укажем араметр equal_var как False."
   ]
  },
  {
   "cell_type": "code",
   "execution_count": 34,
   "metadata": {},
   "outputs": [
    {
     "data": {
      "text/plain": [
       "0.228924613051458"
      ]
     },
     "execution_count": 34,
     "metadata": {},
     "output_type": "execute_result"
    }
   ],
   "source": [
    "# проведем т-тест\n",
    "\n",
    "results = st.ttest_ind (users_gone['estimated_salary'], users_stay['estimated_salary'], equal_var=False) \n",
    "results.pvalue"
   ]
  },
  {
   "cell_type": "markdown",
   "metadata": {},
   "source": [
    "p-value выше уровня статистической значимости. Полученные данные не противоречат нулевой гипотезе: доходы тех, кто ушел и тех, кто остался равны."
   ]
  },
  {
   "cell_type": "markdown",
   "metadata": {},
   "source": [
    "#### Вторая гипотеза  \n",
    "\n",
    "**Нулевая гипотеза:** средний возраст тех, кто ушел и тех, кто остался одинаковый.   \n",
    "**Альтернативная гипотеза:** средний возраст тех, кто ушел и тех, кто остался различается.  \n",
    "\n",
    "**Проверка гипотезы:** сравним средний возраст тех, кто ушел и тех, кто остался.  \n",
    "Уровень статистической значимости зададим в 5%.  \n",
    "\n",
    "Проведем t-тест для двух независимых выборок. Выборки по размеру отличаются, укажем араметр equal_var как False."
   ]
  },
  {
   "cell_type": "code",
   "execution_count": 35,
   "metadata": {},
   "outputs": [
    {
     "data": {
      "text/plain": [
       "4.7127272656641046e-179"
      ]
     },
     "execution_count": 35,
     "metadata": {},
     "output_type": "execute_result"
    }
   ],
   "source": [
    "# проведем т-тест\n",
    "\n",
    "results = st.ttest_ind (users_gone['age'], users_stay['age'], equal_var=False) \n",
    "results.pvalue"
   ]
  },
  {
   "cell_type": "markdown",
   "metadata": {},
   "source": [
    "p-value близкое к нулю, ниже уровня статистической значимости. Есть основания отвергнуть нулевую гипотезу, принимаем альтернативную гипотезу: средний возраст тех, кто ушел и тех, кто остался различается."
   ]
  },
  {
   "cell_type": "markdown",
   "metadata": {},
   "source": [
    "## Итоги исследования:  \n",
    "\n",
    "Прежде, чем исследовать данные, мы ознакомились с ними, проверили их корректность, привели к единому стилю написания названия столбцов и все текстовые данные к нижнему регистру, заполнили пропуски, проверили наличие дубликатов.  \n",
    "\n",
    "Исследуя данные, определили **признаки клиента, склонного к уходу**:  \n",
    "- клиент в возрасте около 45 лет и старше обоих полов  \n",
    "- женщины разного возраста \n",
    "- использует 3 и более продуктов (скорее всего, это связано с тем, что человек уже давно является клиентом банка, и теперь по какой-то причине решил сменить банк)\n",
    "\n",
    "Исхода из полученных данных, подтвердили гипотезы:  \n",
    "\n",
    "1. Доходы тех, кто ушел и тех, кто остался равны.\n",
    "2. Средний возраст тех, кто ушел и тех, кто остался отличается.\n",
    "\n",
    "Также наблюдается высокий процент оттока клиентов (32%) в Ростове Великом. Скорее всего, это связано с отделениями банка или с качеством обслуживания.  \n",
    "\n",
    "**Рекомендации:**\n",
    "\n",
    "- Создание или улучшение программ лояльности для женщин.\n",
    "- Предложение выгодных условий обслуживания для клиентов старшего возраста и клиентов, которые давно с банком.\n",
    "- Запросить данные по обслуживанию клиентов из отделений банков в Ростове Великом, чтобы проанализировать отток.  "
   ]
  },
  {
   "cell_type": "code",
   "execution_count": null,
   "metadata": {},
   "outputs": [],
   "source": []
  }
 ],
 "metadata": {
  "ExecuteTimeLog": [
   {
    "duration": 1438,
    "start_time": "2022-05-17T05:28:34.246Z"
   },
   {
    "duration": 3,
    "start_time": "2022-05-17T05:28:35.686Z"
   },
   {
    "duration": 48,
    "start_time": "2022-05-17T05:28:35.691Z"
   },
   {
    "duration": 20,
    "start_time": "2022-05-17T05:28:35.741Z"
   },
   {
    "duration": 8,
    "start_time": "2022-05-17T05:28:35.764Z"
   },
   {
    "duration": 24,
    "start_time": "2022-05-17T05:28:35.773Z"
   },
   {
    "duration": 3,
    "start_time": "2022-05-17T05:28:35.799Z"
   },
   {
    "duration": 11,
    "start_time": "2022-05-17T05:28:35.804Z"
   },
   {
    "duration": 16,
    "start_time": "2022-05-17T05:28:35.817Z"
   },
   {
    "duration": 28,
    "start_time": "2022-05-17T05:28:35.834Z"
   },
   {
    "duration": 987,
    "start_time": "2022-05-17T05:28:35.864Z"
   },
   {
    "duration": 14,
    "start_time": "2022-05-17T05:28:36.853Z"
   },
   {
    "duration": 4,
    "start_time": "2022-05-17T05:28:36.869Z"
   },
   {
    "duration": 33,
    "start_time": "2022-05-17T05:28:36.876Z"
   },
   {
    "duration": 296,
    "start_time": "2022-05-17T05:28:36.911Z"
   },
   {
    "duration": 0,
    "start_time": "2022-05-17T05:28:37.209Z"
   },
   {
    "duration": 0,
    "start_time": "2022-05-17T05:28:37.211Z"
   },
   {
    "duration": 0,
    "start_time": "2022-05-17T05:28:37.213Z"
   },
   {
    "duration": 0,
    "start_time": "2022-05-17T05:28:37.214Z"
   },
   {
    "duration": 0,
    "start_time": "2022-05-17T05:28:37.215Z"
   },
   {
    "duration": 0,
    "start_time": "2022-05-17T05:28:37.217Z"
   },
   {
    "duration": 0,
    "start_time": "2022-05-17T05:28:37.218Z"
   },
   {
    "duration": 0,
    "start_time": "2022-05-17T05:28:37.219Z"
   },
   {
    "duration": 0,
    "start_time": "2022-05-17T05:28:37.220Z"
   },
   {
    "duration": 0,
    "start_time": "2022-05-17T05:28:37.222Z"
   },
   {
    "duration": 0,
    "start_time": "2022-05-17T05:28:37.242Z"
   },
   {
    "duration": 0,
    "start_time": "2022-05-17T05:28:37.243Z"
   },
   {
    "duration": 0,
    "start_time": "2022-05-17T05:28:37.244Z"
   },
   {
    "duration": 0,
    "start_time": "2022-05-17T05:28:37.250Z"
   },
   {
    "duration": 0,
    "start_time": "2022-05-17T05:28:37.251Z"
   },
   {
    "duration": 0,
    "start_time": "2022-05-17T05:28:37.252Z"
   },
   {
    "duration": 0,
    "start_time": "2022-05-17T05:28:37.253Z"
   },
   {
    "duration": 0,
    "start_time": "2022-05-17T05:28:37.254Z"
   },
   {
    "duration": 0,
    "start_time": "2022-05-17T05:28:37.255Z"
   },
   {
    "duration": 54,
    "start_time": "2022-05-17T05:30:03.672Z"
   },
   {
    "duration": 3,
    "start_time": "2022-05-17T05:30:08.059Z"
   },
   {
    "duration": 8,
    "start_time": "2022-05-17T05:30:08.064Z"
   },
   {
    "duration": 38,
    "start_time": "2022-05-17T05:30:08.074Z"
   },
   {
    "duration": 10,
    "start_time": "2022-05-17T05:30:08.113Z"
   },
   {
    "duration": 5,
    "start_time": "2022-05-17T05:30:08.125Z"
   },
   {
    "duration": 28,
    "start_time": "2022-05-17T05:30:08.132Z"
   },
   {
    "duration": 7,
    "start_time": "2022-05-17T05:30:08.162Z"
   },
   {
    "duration": 9,
    "start_time": "2022-05-17T05:30:08.170Z"
   },
   {
    "duration": 15,
    "start_time": "2022-05-17T05:30:08.181Z"
   },
   {
    "duration": 11,
    "start_time": "2022-05-17T05:30:08.198Z"
   },
   {
    "duration": 1123,
    "start_time": "2022-05-17T05:30:08.210Z"
   },
   {
    "duration": 18,
    "start_time": "2022-05-17T05:30:09.335Z"
   },
   {
    "duration": 12,
    "start_time": "2022-05-17T05:30:09.356Z"
   },
   {
    "duration": 39,
    "start_time": "2022-05-17T05:30:09.370Z"
   },
   {
    "duration": 765,
    "start_time": "2022-05-17T05:30:09.410Z"
   },
   {
    "duration": 12,
    "start_time": "2022-05-17T05:30:10.177Z"
   },
   {
    "duration": 223,
    "start_time": "2022-05-17T05:30:10.191Z"
   },
   {
    "duration": 124,
    "start_time": "2022-05-17T05:30:10.415Z"
   },
   {
    "duration": 18,
    "start_time": "2022-05-17T05:30:10.543Z"
   },
   {
    "duration": 143,
    "start_time": "2022-05-17T05:30:10.563Z"
   },
   {
    "duration": 140,
    "start_time": "2022-05-17T05:30:10.707Z"
   },
   {
    "duration": 27,
    "start_time": "2022-05-17T05:30:10.849Z"
   },
   {
    "duration": 128,
    "start_time": "2022-05-17T05:30:10.877Z"
   },
   {
    "duration": 19,
    "start_time": "2022-05-17T05:30:11.006Z"
   },
   {
    "duration": 116,
    "start_time": "2022-05-17T05:30:11.029Z"
   },
   {
    "duration": 22,
    "start_time": "2022-05-17T05:30:11.147Z"
   },
   {
    "duration": 126,
    "start_time": "2022-05-17T05:30:11.171Z"
   },
   {
    "duration": 9,
    "start_time": "2022-05-17T05:30:11.298Z"
   },
   {
    "duration": 41,
    "start_time": "2022-05-17T05:30:11.309Z"
   },
   {
    "duration": 142,
    "start_time": "2022-05-17T05:30:11.352Z"
   },
   {
    "duration": 0,
    "start_time": "2022-05-17T05:30:11.496Z"
   },
   {
    "duration": 0,
    "start_time": "2022-05-17T05:30:11.497Z"
   },
   {
    "duration": 0,
    "start_time": "2022-05-17T05:30:11.499Z"
   },
   {
    "duration": 0,
    "start_time": "2022-05-17T05:30:11.500Z"
   },
   {
    "duration": 24,
    "start_time": "2022-05-17T05:31:10.880Z"
   },
   {
    "duration": 12,
    "start_time": "2022-05-17T05:31:10.907Z"
   },
   {
    "duration": 15,
    "start_time": "2022-05-17T05:31:10.920Z"
   },
   {
    "duration": 7,
    "start_time": "2022-05-17T05:31:10.936Z"
   },
   {
    "duration": 107,
    "start_time": "2022-05-17T05:57:47.882Z"
   },
   {
    "duration": 111,
    "start_time": "2022-05-17T06:00:18.439Z"
   },
   {
    "duration": 170,
    "start_time": "2022-05-17T06:00:49.287Z"
   },
   {
    "duration": 1115,
    "start_time": "2022-05-17T06:39:56.042Z"
   },
   {
    "duration": 3,
    "start_time": "2022-05-17T06:39:57.159Z"
   },
   {
    "duration": 37,
    "start_time": "2022-05-17T06:39:57.163Z"
   },
   {
    "duration": 12,
    "start_time": "2022-05-17T06:39:57.203Z"
   },
   {
    "duration": 6,
    "start_time": "2022-05-17T06:39:57.216Z"
   },
   {
    "duration": 13,
    "start_time": "2022-05-17T06:39:57.243Z"
   },
   {
    "duration": 7,
    "start_time": "2022-05-17T06:39:57.257Z"
   },
   {
    "duration": 9,
    "start_time": "2022-05-17T06:39:57.265Z"
   },
   {
    "duration": 12,
    "start_time": "2022-05-17T06:39:57.275Z"
   },
   {
    "duration": 11,
    "start_time": "2022-05-17T06:39:57.290Z"
   },
   {
    "duration": 997,
    "start_time": "2022-05-17T06:39:57.303Z"
   },
   {
    "duration": 11,
    "start_time": "2022-05-17T06:39:58.302Z"
   },
   {
    "duration": 6,
    "start_time": "2022-05-17T06:39:58.315Z"
   },
   {
    "duration": 49,
    "start_time": "2022-05-17T06:39:58.322Z"
   },
   {
    "duration": 675,
    "start_time": "2022-05-17T06:39:58.372Z"
   },
   {
    "duration": 12,
    "start_time": "2022-05-17T06:39:59.049Z"
   },
   {
    "duration": 124,
    "start_time": "2022-05-17T06:39:59.062Z"
   },
   {
    "duration": 124,
    "start_time": "2022-05-17T06:39:59.188Z"
   },
   {
    "duration": 122,
    "start_time": "2022-05-17T06:39:59.313Z"
   },
   {
    "duration": 13,
    "start_time": "2022-05-17T06:39:59.437Z"
   },
   {
    "duration": 139,
    "start_time": "2022-05-17T06:39:59.452Z"
   },
   {
    "duration": 244,
    "start_time": "2022-05-17T06:39:59.592Z"
   },
   {
    "duration": 29,
    "start_time": "2022-05-17T06:39:59.837Z"
   },
   {
    "duration": 128,
    "start_time": "2022-05-17T06:39:59.868Z"
   },
   {
    "duration": 20,
    "start_time": "2022-05-17T06:39:59.998Z"
   },
   {
    "duration": 108,
    "start_time": "2022-05-17T06:40:00.020Z"
   },
   {
    "duration": 27,
    "start_time": "2022-05-17T06:40:00.130Z"
   },
   {
    "duration": 110,
    "start_time": "2022-05-17T06:40:00.160Z"
   },
   {
    "duration": 8,
    "start_time": "2022-05-17T06:40:00.271Z"
   },
   {
    "duration": 23,
    "start_time": "2022-05-17T06:40:00.281Z"
   },
   {
    "duration": 23,
    "start_time": "2022-05-17T06:40:00.306Z"
   },
   {
    "duration": 40,
    "start_time": "2022-05-17T06:40:00.330Z"
   },
   {
    "duration": 16,
    "start_time": "2022-05-17T06:40:00.372Z"
   },
   {
    "duration": 25,
    "start_time": "2022-05-17T06:40:00.389Z"
   },
   {
    "duration": 1872,
    "start_time": "2022-05-17T17:26:33.584Z"
   },
   {
    "duration": 5,
    "start_time": "2022-05-17T17:26:35.459Z"
   },
   {
    "duration": 75,
    "start_time": "2022-05-17T17:26:35.466Z"
   },
   {
    "duration": 19,
    "start_time": "2022-05-17T17:26:35.543Z"
   },
   {
    "duration": 9,
    "start_time": "2022-05-17T17:26:35.564Z"
   },
   {
    "duration": 22,
    "start_time": "2022-05-17T17:26:35.575Z"
   },
   {
    "duration": 5,
    "start_time": "2022-05-17T17:26:35.599Z"
   },
   {
    "duration": 42,
    "start_time": "2022-05-17T17:26:35.606Z"
   },
   {
    "duration": 20,
    "start_time": "2022-05-17T17:26:35.650Z"
   },
   {
    "duration": 18,
    "start_time": "2022-05-17T17:26:35.674Z"
   },
   {
    "duration": 1892,
    "start_time": "2022-05-17T17:26:35.694Z"
   },
   {
    "duration": 16,
    "start_time": "2022-05-17T17:26:37.589Z"
   },
   {
    "duration": 8,
    "start_time": "2022-05-17T17:26:37.607Z"
   },
   {
    "duration": 74,
    "start_time": "2022-05-17T17:26:37.617Z"
   },
   {
    "duration": 1256,
    "start_time": "2022-05-17T17:26:37.694Z"
   },
   {
    "duration": 18,
    "start_time": "2022-05-17T17:26:38.952Z"
   },
   {
    "duration": 230,
    "start_time": "2022-05-17T17:26:38.972Z"
   },
   {
    "duration": 210,
    "start_time": "2022-05-17T17:26:39.204Z"
   },
   {
    "duration": 207,
    "start_time": "2022-05-17T17:26:39.416Z"
   },
   {
    "duration": 28,
    "start_time": "2022-05-17T17:26:39.626Z"
   },
   {
    "duration": 238,
    "start_time": "2022-05-17T17:26:39.657Z"
   },
   {
    "duration": 308,
    "start_time": "2022-05-17T17:26:39.897Z"
   },
   {
    "duration": 87,
    "start_time": "2022-05-17T17:26:40.207Z"
   },
   {
    "duration": 175,
    "start_time": "2022-05-17T17:26:40.297Z"
   },
   {
    "duration": 32,
    "start_time": "2022-05-17T17:26:40.474Z"
   },
   {
    "duration": 187,
    "start_time": "2022-05-17T17:26:40.509Z"
   },
   {
    "duration": 48,
    "start_time": "2022-05-17T17:26:40.699Z"
   },
   {
    "duration": 194,
    "start_time": "2022-05-17T17:26:40.753Z"
   },
   {
    "duration": 12,
    "start_time": "2022-05-17T17:26:40.950Z"
   },
   {
    "duration": 12,
    "start_time": "2022-05-17T17:26:40.964Z"
   },
   {
    "duration": 27,
    "start_time": "2022-05-17T17:26:40.978Z"
   },
   {
    "duration": 46,
    "start_time": "2022-05-17T17:26:41.008Z"
   },
   {
    "duration": 9,
    "start_time": "2022-05-17T17:26:41.056Z"
   },
   {
    "duration": 7,
    "start_time": "2022-05-17T17:26:41.067Z"
   },
   {
    "duration": 532,
    "start_time": "2022-05-18T05:57:29.861Z"
   },
   {
    "duration": 504,
    "start_time": "2022-05-18T06:04:45.886Z"
   },
   {
    "duration": 500,
    "start_time": "2022-05-18T06:04:49.890Z"
   },
   {
    "duration": 620,
    "start_time": "2022-05-18T06:05:01.293Z"
   },
   {
    "duration": 423,
    "start_time": "2022-05-18T06:05:10.742Z"
   },
   {
    "duration": 20,
    "start_time": "2022-05-18T06:07:51.245Z"
   },
   {
    "duration": 17,
    "start_time": "2022-05-18T06:09:34.129Z"
   },
   {
    "duration": 7,
    "start_time": "2022-05-18T06:10:10.114Z"
   },
   {
    "duration": 3,
    "start_time": "2022-05-18T06:11:42.044Z"
   },
   {
    "duration": 6,
    "start_time": "2022-05-18T06:11:42.050Z"
   },
   {
    "duration": 56,
    "start_time": "2022-05-18T06:11:42.058Z"
   },
   {
    "duration": 15,
    "start_time": "2022-05-18T06:11:42.116Z"
   },
   {
    "duration": 8,
    "start_time": "2022-05-18T06:11:42.133Z"
   },
   {
    "duration": 14,
    "start_time": "2022-05-18T06:11:42.143Z"
   },
   {
    "duration": 161,
    "start_time": "2022-05-18T06:11:47.482Z"
   },
   {
    "duration": 8,
    "start_time": "2022-05-18T06:12:53.649Z"
   },
   {
    "duration": 11,
    "start_time": "2022-05-18T06:13:46.478Z"
   },
   {
    "duration": 7,
    "start_time": "2022-05-18T06:14:41.060Z"
   },
   {
    "duration": 20,
    "start_time": "2022-05-18T06:19:23.258Z"
   },
   {
    "duration": 12,
    "start_time": "2022-05-18T06:37:25.255Z"
   },
   {
    "duration": 9,
    "start_time": "2022-05-18T06:38:12.407Z"
   },
   {
    "duration": 6,
    "start_time": "2022-05-18T06:38:54.182Z"
   },
   {
    "duration": 10,
    "start_time": "2022-05-18T06:39:12.082Z"
   },
   {
    "duration": 15,
    "start_time": "2022-05-18T06:40:26.228Z"
   },
   {
    "duration": 20,
    "start_time": "2022-05-18T06:41:28.980Z"
   },
   {
    "duration": 10,
    "start_time": "2022-05-18T06:42:13.288Z"
   },
   {
    "duration": 36,
    "start_time": "2022-05-18T06:42:42.107Z"
   },
   {
    "duration": 11,
    "start_time": "2022-05-18T06:42:55.165Z"
   },
   {
    "duration": 12,
    "start_time": "2022-05-18T06:43:05.176Z"
   },
   {
    "duration": 101,
    "start_time": "2022-05-18T06:54:43.249Z"
   },
   {
    "duration": 4,
    "start_time": "2022-05-18T06:59:36.666Z"
   },
   {
    "duration": 16,
    "start_time": "2022-05-18T06:59:36.672Z"
   },
   {
    "duration": 56,
    "start_time": "2022-05-18T06:59:36.692Z"
   },
   {
    "duration": 18,
    "start_time": "2022-05-18T06:59:36.750Z"
   },
   {
    "duration": 18,
    "start_time": "2022-05-18T06:59:36.771Z"
   },
   {
    "duration": 21,
    "start_time": "2022-05-18T06:59:36.791Z"
   },
   {
    "duration": 27,
    "start_time": "2022-05-18T06:59:36.814Z"
   },
   {
    "duration": 42,
    "start_time": "2022-05-18T06:59:36.843Z"
   },
   {
    "duration": 13,
    "start_time": "2022-05-18T06:59:36.888Z"
   },
   {
    "duration": 18,
    "start_time": "2022-05-18T06:59:36.903Z"
   },
   {
    "duration": 15,
    "start_time": "2022-05-18T06:59:36.925Z"
   },
   {
    "duration": 496,
    "start_time": "2022-05-18T06:59:36.942Z"
   },
   {
    "duration": 136,
    "start_time": "2022-05-18T06:59:37.440Z"
   },
   {
    "duration": 26,
    "start_time": "2022-05-18T06:59:37.577Z"
   },
   {
    "duration": 5,
    "start_time": "2022-05-18T06:59:37.605Z"
   },
   {
    "duration": 49,
    "start_time": "2022-05-18T06:59:37.612Z"
   },
   {
    "duration": 1166,
    "start_time": "2022-05-18T06:59:37.663Z"
   },
   {
    "duration": 13,
    "start_time": "2022-05-18T06:59:38.830Z"
   },
   {
    "duration": 177,
    "start_time": "2022-05-18T06:59:38.845Z"
   },
   {
    "duration": 154,
    "start_time": "2022-05-18T06:59:39.024Z"
   },
   {
    "duration": 180,
    "start_time": "2022-05-18T06:59:39.180Z"
   },
   {
    "duration": 14,
    "start_time": "2022-05-18T06:59:39.362Z"
   },
   {
    "duration": 176,
    "start_time": "2022-05-18T06:59:39.377Z"
   },
   {
    "duration": 182,
    "start_time": "2022-05-18T06:59:39.555Z"
   },
   {
    "duration": 25,
    "start_time": "2022-05-18T06:59:39.738Z"
   },
   {
    "duration": 154,
    "start_time": "2022-05-18T06:59:39.765Z"
   },
   {
    "duration": 18,
    "start_time": "2022-05-18T06:59:39.921Z"
   },
   {
    "duration": 159,
    "start_time": "2022-05-18T06:59:39.941Z"
   },
   {
    "duration": 21,
    "start_time": "2022-05-18T06:59:40.105Z"
   },
   {
    "duration": 144,
    "start_time": "2022-05-18T06:59:40.127Z"
   },
   {
    "duration": 15,
    "start_time": "2022-05-18T06:59:40.273Z"
   },
   {
    "duration": 17,
    "start_time": "2022-05-18T06:59:40.292Z"
   },
   {
    "duration": 20,
    "start_time": "2022-05-18T06:59:40.310Z"
   },
   {
    "duration": 11,
    "start_time": "2022-05-18T06:59:40.332Z"
   },
   {
    "duration": 5,
    "start_time": "2022-05-18T06:59:40.345Z"
   },
   {
    "duration": 45,
    "start_time": "2022-05-18T06:59:40.351Z"
   },
   {
    "duration": 1253,
    "start_time": "2022-05-18T07:12:05.322Z"
   },
   {
    "duration": 9,
    "start_time": "2022-05-18T07:12:06.578Z"
   },
   {
    "duration": 53,
    "start_time": "2022-05-18T07:12:06.599Z"
   },
   {
    "duration": 14,
    "start_time": "2022-05-18T07:12:06.654Z"
   },
   {
    "duration": 22,
    "start_time": "2022-05-18T07:12:06.670Z"
   },
   {
    "duration": 19,
    "start_time": "2022-05-18T07:12:06.694Z"
   },
   {
    "duration": 27,
    "start_time": "2022-05-18T07:12:06.715Z"
   },
   {
    "duration": 13,
    "start_time": "2022-05-18T07:12:06.744Z"
   },
   {
    "duration": 24,
    "start_time": "2022-05-18T07:12:06.761Z"
   },
   {
    "duration": 25,
    "start_time": "2022-05-18T07:12:06.793Z"
   },
   {
    "duration": 15,
    "start_time": "2022-05-18T07:12:06.823Z"
   },
   {
    "duration": 685,
    "start_time": "2022-05-18T07:12:06.840Z"
   },
   {
    "duration": 17,
    "start_time": "2022-05-18T07:12:07.528Z"
   },
   {
    "duration": 6,
    "start_time": "2022-05-18T07:12:07.547Z"
   },
   {
    "duration": 68,
    "start_time": "2022-05-18T07:12:07.554Z"
   },
   {
    "duration": 1082,
    "start_time": "2022-05-18T07:12:07.625Z"
   },
   {
    "duration": 20,
    "start_time": "2022-05-18T07:12:08.709Z"
   },
   {
    "duration": 173,
    "start_time": "2022-05-18T07:12:08.730Z"
   },
   {
    "duration": 157,
    "start_time": "2022-05-18T07:12:08.905Z"
   },
   {
    "duration": 173,
    "start_time": "2022-05-18T07:12:09.064Z"
   },
   {
    "duration": 16,
    "start_time": "2022-05-18T07:12:09.239Z"
   },
   {
    "duration": 182,
    "start_time": "2022-05-18T07:12:09.259Z"
   },
   {
    "duration": 181,
    "start_time": "2022-05-18T07:12:09.443Z"
   },
   {
    "duration": 30,
    "start_time": "2022-05-18T07:12:09.626Z"
   },
   {
    "duration": 175,
    "start_time": "2022-05-18T07:12:09.658Z"
   },
   {
    "duration": 24,
    "start_time": "2022-05-18T07:12:09.835Z"
   },
   {
    "duration": 143,
    "start_time": "2022-05-18T07:12:09.864Z"
   },
   {
    "duration": 28,
    "start_time": "2022-05-18T07:12:10.010Z"
   },
   {
    "duration": 236,
    "start_time": "2022-05-18T07:12:10.040Z"
   },
   {
    "duration": 17,
    "start_time": "2022-05-18T07:12:10.289Z"
   },
   {
    "duration": 11,
    "start_time": "2022-05-18T07:12:10.308Z"
   },
   {
    "duration": 23,
    "start_time": "2022-05-18T07:12:10.321Z"
   },
   {
    "duration": 15,
    "start_time": "2022-05-18T07:12:10.346Z"
   },
   {
    "duration": 28,
    "start_time": "2022-05-18T07:12:10.362Z"
   },
   {
    "duration": 10,
    "start_time": "2022-05-18T07:12:10.392Z"
   },
   {
    "duration": 1799,
    "start_time": "2022-05-18T19:29:32.717Z"
   },
   {
    "duration": 4,
    "start_time": "2022-05-18T19:29:34.521Z"
   },
   {
    "duration": 150,
    "start_time": "2022-05-18T19:29:34.527Z"
   },
   {
    "duration": 23,
    "start_time": "2022-05-18T19:29:34.679Z"
   },
   {
    "duration": 36,
    "start_time": "2022-05-18T19:29:34.704Z"
   },
   {
    "duration": 16,
    "start_time": "2022-05-18T19:29:34.743Z"
   },
   {
    "duration": 34,
    "start_time": "2022-05-18T19:29:34.761Z"
   },
   {
    "duration": 43,
    "start_time": "2022-05-18T19:29:34.797Z"
   },
   {
    "duration": 18,
    "start_time": "2022-05-18T19:29:34.842Z"
   },
   {
    "duration": 26,
    "start_time": "2022-05-18T19:29:34.863Z"
   },
   {
    "duration": 46,
    "start_time": "2022-05-18T19:29:34.891Z"
   },
   {
    "duration": 855,
    "start_time": "2022-05-18T19:29:34.939Z"
   },
   {
    "duration": 19,
    "start_time": "2022-05-18T19:29:35.797Z"
   },
   {
    "duration": 36,
    "start_time": "2022-05-18T19:29:35.821Z"
   },
   {
    "duration": 115,
    "start_time": "2022-05-18T19:29:35.859Z"
   },
   {
    "duration": 1360,
    "start_time": "2022-05-18T19:29:35.978Z"
   },
   {
    "duration": 18,
    "start_time": "2022-05-18T19:29:37.340Z"
   },
   {
    "duration": 326,
    "start_time": "2022-05-18T19:29:37.360Z"
   },
   {
    "duration": 245,
    "start_time": "2022-05-18T19:29:37.689Z"
   },
   {
    "duration": 229,
    "start_time": "2022-05-18T19:29:37.936Z"
   },
   {
    "duration": 18,
    "start_time": "2022-05-18T19:29:38.167Z"
   },
   {
    "duration": 283,
    "start_time": "2022-05-18T19:29:38.187Z"
   },
   {
    "duration": 241,
    "start_time": "2022-05-18T19:29:38.476Z"
   },
   {
    "duration": 30,
    "start_time": "2022-05-18T19:29:38.721Z"
   },
   {
    "duration": 221,
    "start_time": "2022-05-18T19:29:38.754Z"
   },
   {
    "duration": 31,
    "start_time": "2022-05-18T19:29:38.980Z"
   },
   {
    "duration": 202,
    "start_time": "2022-05-18T19:29:39.017Z"
   },
   {
    "duration": 40,
    "start_time": "2022-05-18T19:29:39.221Z"
   },
   {
    "duration": 441,
    "start_time": "2022-05-18T19:29:39.264Z"
   },
   {
    "duration": 13,
    "start_time": "2022-05-18T19:29:39.707Z"
   },
   {
    "duration": 34,
    "start_time": "2022-05-18T19:29:39.722Z"
   },
   {
    "duration": 61,
    "start_time": "2022-05-18T19:29:39.759Z"
   },
   {
    "duration": 34,
    "start_time": "2022-05-18T19:29:39.823Z"
   },
   {
    "duration": 37,
    "start_time": "2022-05-18T19:29:39.859Z"
   },
   {
    "duration": 39,
    "start_time": "2022-05-18T19:29:39.898Z"
   },
   {
    "duration": 445,
    "start_time": "2022-05-18T19:38:17.257Z"
   },
   {
    "duration": 396,
    "start_time": "2022-05-18T19:38:35.031Z"
   },
   {
    "duration": 423,
    "start_time": "2022-05-18T19:38:39.823Z"
   }
  ],
  "kernelspec": {
   "display_name": "Python 3 (ipykernel)",
   "language": "python",
   "name": "python3"
  },
  "language_info": {
   "codemirror_mode": {
    "name": "ipython",
    "version": 3
   },
   "file_extension": ".py",
   "mimetype": "text/x-python",
   "name": "python",
   "nbconvert_exporter": "python",
   "pygments_lexer": "ipython3",
   "version": "3.9.7"
  },
  "toc": {
   "base_numbering": 1,
   "nav_menu": {},
   "number_sections": true,
   "sideBar": true,
   "skip_h1_title": true,
   "title_cell": "Table of Contents",
   "title_sidebar": "Contents",
   "toc_cell": false,
   "toc_position": {},
   "toc_section_display": true,
   "toc_window_display": false
  }
 },
 "nbformat": 4,
 "nbformat_minor": 2
}
