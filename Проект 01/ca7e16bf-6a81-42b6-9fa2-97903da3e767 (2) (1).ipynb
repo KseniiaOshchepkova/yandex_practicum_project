{
 "cells": [
  {
   "cell_type": "markdown",
   "metadata": {
    "id": "E0vqbgi9ay0H"
   },
   "source": [
    "# Музыка больших городов"
   ]
  },
  {
   "cell_type": "markdown",
   "metadata": {},
   "source": [
    "## **Оглавление**\n",
    "\n",
    "### **[Введение](#1)**\n",
    "### **1. [Обзор данных](#2)**  \n",
    "### **2. [Предобработка данных](#3)**  \n",
    "    2.1 Стили заголовков\n",
    "    2.2 Пропуски значений\n",
    "    2.3 Дубликаты\n",
    "### **3. [Проверка гипотез](#7)**  \n",
    "    3.1 Сравнение поведения пользователей двух столиц\n",
    "    3.2 Музыка в начале и конце недели\n",
    "    3.3 Жанровые предпочтения в Москва и Петербурге\n",
    "### **[Итоги исследования](#11)**"
   ]
  },
  {
   "cell_type": "markdown",
   "metadata": {
    "id": "VUC88oWjTJw2"
   },
   "source": [
    "## **Введение** <a id='1'></a>\n",
    "На данных Яндекс.Музыки мы сравниваем поведение пользователей двух столиц.\n",
    "\n",
    "**Цель исследования** — проверьте три гипотезы:\n",
    "1. Активность пользователей зависит от дня недели. Причём в Москве и Петербурге это проявляется по-разному.\n",
    "2. В понедельник утром в Москве преобладают одни жанры, а в Петербурге — другие. Так же и вечером пятницы преобладают разные жанры — в зависимости от города. \n",
    "3. Москва и Петербург предпочитают разные жанры музыки. В Москве чаще слушают поп-музыку, в Петербурге — русский рэп.\n",
    " \n",
    "Исследование проводится в три этапа:\n",
    " 1. Обзор данных.\n",
    " 2. Предобработка данных.\n",
    " 3. Проверка гипотез.\n",
    "\n"
   ]
  },
  {
   "cell_type": "markdown",
   "metadata": {
    "id": "Ml1hmfXC_Zcs"
   },
   "source": [
    "## Обзор данных <a id='2'></a>\n",
    "\n",
    "Составим первое представление о данных Яндекс.Музыки.\n",
    "\n",
    "\n"
   ]
  },
  {
   "cell_type": "markdown",
   "metadata": {
    "id": "57eAOGIz_Zcs"
   },
   "source": [
    "Импортируйте библиотеку `pandas`."
   ]
  },
  {
   "cell_type": "code",
   "execution_count": 2,
   "metadata": {
    "id": "AXN7PHPN_Zcs"
   },
   "outputs": [],
   "source": [
    "import pandas as pd"
   ]
  },
  {
   "cell_type": "markdown",
   "metadata": {
    "id": "SG23P8tt_Zcs"
   },
   "source": [
    "Прочитаем файл с данными и сохраним его в переменной `df`:"
   ]
  },
  {
   "cell_type": "code",
   "execution_count": 3,
   "metadata": {
    "id": "fFVu7vqh_Zct"
   },
   "outputs": [],
   "source": [
    "df = pd.read_csv('/datasets/yandex_music_project.csv')"
   ]
  },
  {
   "cell_type": "markdown",
   "metadata": {
    "id": "rDoOMd3uTqnZ"
   },
   "source": [
    "Выводим на экран первые десять строк таблицы:"
   ]
  },
  {
   "cell_type": "code",
   "execution_count": 4,
   "metadata": {
    "id": "oWTVX3gW_Zct"
   },
   "outputs": [
    {
     "data": {
      "text/html": [
       "<div>\n",
       "<style scoped>\n",
       "    .dataframe tbody tr th:only-of-type {\n",
       "        vertical-align: middle;\n",
       "    }\n",
       "\n",
       "    .dataframe tbody tr th {\n",
       "        vertical-align: top;\n",
       "    }\n",
       "\n",
       "    .dataframe thead th {\n",
       "        text-align: right;\n",
       "    }\n",
       "</style>\n",
       "<table border=\"1\" class=\"dataframe\">\n",
       "  <thead>\n",
       "    <tr style=\"text-align: right;\">\n",
       "      <th></th>\n",
       "      <th>userID</th>\n",
       "      <th>Track</th>\n",
       "      <th>artist</th>\n",
       "      <th>genre</th>\n",
       "      <th>City</th>\n",
       "      <th>time</th>\n",
       "      <th>Day</th>\n",
       "    </tr>\n",
       "  </thead>\n",
       "  <tbody>\n",
       "    <tr>\n",
       "      <td>0</td>\n",
       "      <td>FFB692EC</td>\n",
       "      <td>Kamigata To Boots</td>\n",
       "      <td>The Mass Missile</td>\n",
       "      <td>rock</td>\n",
       "      <td>Saint-Petersburg</td>\n",
       "      <td>20:28:33</td>\n",
       "      <td>Wednesday</td>\n",
       "    </tr>\n",
       "    <tr>\n",
       "      <td>1</td>\n",
       "      <td>55204538</td>\n",
       "      <td>Delayed Because of Accident</td>\n",
       "      <td>Andreas Rönnberg</td>\n",
       "      <td>rock</td>\n",
       "      <td>Moscow</td>\n",
       "      <td>14:07:09</td>\n",
       "      <td>Friday</td>\n",
       "    </tr>\n",
       "    <tr>\n",
       "      <td>2</td>\n",
       "      <td>20EC38</td>\n",
       "      <td>Funiculì funiculà</td>\n",
       "      <td>Mario Lanza</td>\n",
       "      <td>pop</td>\n",
       "      <td>Saint-Petersburg</td>\n",
       "      <td>20:58:07</td>\n",
       "      <td>Wednesday</td>\n",
       "    </tr>\n",
       "    <tr>\n",
       "      <td>3</td>\n",
       "      <td>A3DD03C9</td>\n",
       "      <td>Dragons in the Sunset</td>\n",
       "      <td>Fire + Ice</td>\n",
       "      <td>folk</td>\n",
       "      <td>Saint-Petersburg</td>\n",
       "      <td>08:37:09</td>\n",
       "      <td>Monday</td>\n",
       "    </tr>\n",
       "    <tr>\n",
       "      <td>4</td>\n",
       "      <td>E2DC1FAE</td>\n",
       "      <td>Soul People</td>\n",
       "      <td>Space Echo</td>\n",
       "      <td>dance</td>\n",
       "      <td>Moscow</td>\n",
       "      <td>08:34:34</td>\n",
       "      <td>Monday</td>\n",
       "    </tr>\n",
       "    <tr>\n",
       "      <td>5</td>\n",
       "      <td>842029A1</td>\n",
       "      <td>Преданная</td>\n",
       "      <td>IMPERVTOR</td>\n",
       "      <td>rusrap</td>\n",
       "      <td>Saint-Petersburg</td>\n",
       "      <td>13:09:41</td>\n",
       "      <td>Friday</td>\n",
       "    </tr>\n",
       "    <tr>\n",
       "      <td>6</td>\n",
       "      <td>4CB90AA5</td>\n",
       "      <td>True</td>\n",
       "      <td>Roman Messer</td>\n",
       "      <td>dance</td>\n",
       "      <td>Moscow</td>\n",
       "      <td>13:00:07</td>\n",
       "      <td>Wednesday</td>\n",
       "    </tr>\n",
       "    <tr>\n",
       "      <td>7</td>\n",
       "      <td>F03E1C1F</td>\n",
       "      <td>Feeling This Way</td>\n",
       "      <td>Polina Griffith</td>\n",
       "      <td>dance</td>\n",
       "      <td>Moscow</td>\n",
       "      <td>20:47:49</td>\n",
       "      <td>Wednesday</td>\n",
       "    </tr>\n",
       "    <tr>\n",
       "      <td>8</td>\n",
       "      <td>8FA1D3BE</td>\n",
       "      <td>И вновь продолжается бой</td>\n",
       "      <td>NaN</td>\n",
       "      <td>ruspop</td>\n",
       "      <td>Moscow</td>\n",
       "      <td>09:17:40</td>\n",
       "      <td>Friday</td>\n",
       "    </tr>\n",
       "    <tr>\n",
       "      <td>9</td>\n",
       "      <td>E772D5C0</td>\n",
       "      <td>Pessimist</td>\n",
       "      <td>NaN</td>\n",
       "      <td>dance</td>\n",
       "      <td>Saint-Petersburg</td>\n",
       "      <td>21:20:49</td>\n",
       "      <td>Wednesday</td>\n",
       "    </tr>\n",
       "  </tbody>\n",
       "</table>\n",
       "</div>"
      ],
      "text/plain": [
       "     userID                        Track            artist   genre  \\\n",
       "0  FFB692EC            Kamigata To Boots  The Mass Missile    rock   \n",
       "1  55204538  Delayed Because of Accident  Andreas Rönnberg    rock   \n",
       "2    20EC38            Funiculì funiculà       Mario Lanza     pop   \n",
       "3  A3DD03C9        Dragons in the Sunset        Fire + Ice    folk   \n",
       "4  E2DC1FAE                  Soul People        Space Echo   dance   \n",
       "5  842029A1                    Преданная         IMPERVTOR  rusrap   \n",
       "6  4CB90AA5                         True      Roman Messer   dance   \n",
       "7  F03E1C1F             Feeling This Way   Polina Griffith   dance   \n",
       "8  8FA1D3BE     И вновь продолжается бой               NaN  ruspop   \n",
       "9  E772D5C0                    Pessimist               NaN   dance   \n",
       "\n",
       "             City        time        Day  \n",
       "0  Saint-Petersburg  20:28:33  Wednesday  \n",
       "1            Moscow  14:07:09     Friday  \n",
       "2  Saint-Petersburg  20:58:07  Wednesday  \n",
       "3  Saint-Petersburg  08:37:09     Monday  \n",
       "4            Moscow  08:34:34     Monday  \n",
       "5  Saint-Petersburg  13:09:41     Friday  \n",
       "6            Moscow  13:00:07  Wednesday  \n",
       "7            Moscow  20:47:49  Wednesday  \n",
       "8            Moscow  09:17:40     Friday  \n",
       "9  Saint-Petersburg  21:20:49  Wednesday  "
      ]
     },
     "execution_count": 4,
     "metadata": {},
     "output_type": "execute_result"
    }
   ],
   "source": [
    "df.head(10)"
   ]
  },
  {
   "cell_type": "markdown",
   "metadata": {
    "id": "EO73Kwic_Zct"
   },
   "source": [
    "Получаем общую информацию о таблице:"
   ]
  },
  {
   "cell_type": "code",
   "execution_count": 5,
   "metadata": {
    "id": "DSf2kIb-_Zct"
   },
   "outputs": [
    {
     "name": "stdout",
     "output_type": "stream",
     "text": [
      "<class 'pandas.core.frame.DataFrame'>\n",
      "RangeIndex: 65079 entries, 0 to 65078\n",
      "Data columns (total 7 columns):\n",
      "  userID    65079 non-null object\n",
      "Track       63848 non-null object\n",
      "artist      57876 non-null object\n",
      "genre       63881 non-null object\n",
      "  City      65079 non-null object\n",
      "time        65079 non-null object\n",
      "Day         65079 non-null object\n",
      "dtypes: object(7)\n",
      "memory usage: 3.5+ MB\n"
     ]
    }
   ],
   "source": [
    "df.info()"
   ]
  },
  {
   "cell_type": "markdown",
   "metadata": {
    "id": "TaQ2Iwbr_Zct"
   },
   "source": [
    "Итак, в таблице семь столбцов. Тип данных во всех столбцах — `object`.\n",
    "\n",
    "Согласно документации к данным:\n",
    "* `userID` — идентификатор пользователя;\n",
    "* `Track` — название трека;  \n",
    "* `artist` — имя исполнителя;\n",
    "* `genre` — название жанра;\n",
    "* `City` — город пользователя;\n",
    "* `time` — время начала прослушивания;\n",
    "* `Day` — день недели.\n",
    "\n",
    "В названиях колонок видны три нарушения стиля:\n",
    "1. Строчные буквы сочетаются с прописными.\n",
    "2. Встречаются пробелы.\n",
    "3. Нет единого стиля написания названий.\n",
    "\n",
    "\n",
    "\n",
    "Количество значений в столбцах различается. Значит, в данных есть пропущенные значения.\n"
   ]
  },
  {
   "cell_type": "markdown",
   "metadata": {
    "id": "MCB6-dXG_Zct"
   },
   "source": [
    "**Выводы**\n",
    "\n",
    "В каждой строке таблицы — данные о прослушанном треке. Часть колонок описывает саму композицию: название, исполнителя и жанр. Остальные данные рассказывают о пользователе: из какого он города, когда он слушал музыку. \n",
    "\n",
    "Предварительно можно утверждать, что, данных достаточно для проверки гипотез. Но встречаются пропуски в данных, а в названиях колонок — расхождения с хорошим стилем.\n",
    "\n",
    "Чтобы двигаться дальше, нужно устранить проблемы в данных."
   ]
  },
  {
   "cell_type": "markdown",
   "metadata": {
    "id": "SjYF6Ub9_Zct"
   },
   "source": [
    "## Предобработка данных <a id='3'></a>"
   ]
  },
  {
   "cell_type": "markdown",
   "metadata": {
    "id": "dIaKXr29_Zct"
   },
   "source": [
    "### Стиль заголовков\n",
    "Исправим стиль заголовков."
   ]
  },
  {
   "cell_type": "markdown",
   "metadata": {},
   "source": [
    "Выведем на экран названия столбцов:"
   ]
  },
  {
   "cell_type": "code",
   "execution_count": 6,
   "metadata": {
    "id": "oKOTdF_Q_Zct"
   },
   "outputs": [
    {
     "data": {
      "text/plain": [
       "Index(['  userID', 'Track', 'artist', 'genre', '  City  ', 'time', 'Day'], dtype='object')"
      ]
     },
     "execution_count": 6,
     "metadata": {},
     "output_type": "execute_result"
    }
   ],
   "source": [
    "df.columns"
   ]
  },
  {
   "cell_type": "markdown",
   "metadata": {
    "id": "zj5534cv_Zct"
   },
   "source": [
    "Приведем названия в соответствие с единым стилем, для этого переименуем колонки:\n",
    "* `'  userID'` → `'user_id'`;\n",
    "* `'Track'` → `'track'`;\n",
    "* `'  City  '` → `'city'`;\n",
    "* `'Day'` → `'day'`."
   ]
  },
  {
   "cell_type": "code",
   "execution_count": 7,
   "metadata": {
    "id": "ISlFqs5y_Zct"
   },
   "outputs": [],
   "source": [
    "df.set_axis(['user_id', 'track', 'artist', 'genre', 'city', 'time', 'day'], axis='columns', inplace = True)"
   ]
  },
  {
   "cell_type": "code",
   "execution_count": 1,
   "metadata": {},
   "outputs": [],
   "source": [
    "#или можно применить специальный метод для переименования\n",
    "#df = df.rename(columns={'  userID':'user_id', 'Track':'track', '  City  ':'city', 'Day': day'}) "
   ]
  },
  {
   "cell_type": "markdown",
   "metadata": {
    "id": "1dqbh00J_Zct"
   },
   "source": [
    "Проверьте результат. Для этого ещё раз выведите на экран названия столбцов:"
   ]
  },
  {
   "cell_type": "code",
   "execution_count": 9,
   "metadata": {
    "id": "d4NOAmTW_Zct"
   },
   "outputs": [
    {
     "data": {
      "text/plain": [
       "Index(['user_id', 'track', 'artist', 'genre', 'city', 'time', 'day'], dtype='object')"
      ]
     },
     "execution_count": 9,
     "metadata": {},
     "output_type": "execute_result"
    }
   ],
   "source": [
    "df.columns"
   ]
  },
  {
   "cell_type": "markdown",
   "metadata": {
    "id": "5ISfbcfY_Zct"
   },
   "source": [
    "### Пропуски значений\n",
    "Посчитаем, сколько в таблице пропущенных значений."
   ]
  },
  {
   "cell_type": "code",
   "execution_count": 10,
   "metadata": {
    "id": "RskX29qr_Zct"
   },
   "outputs": [
    {
     "data": {
      "text/plain": [
       "user_id       0\n",
       "track      1231\n",
       "artist     7203\n",
       "genre      1198\n",
       "city          0\n",
       "time          0\n",
       "day           0\n",
       "dtype: int64"
      ]
     },
     "execution_count": 10,
     "metadata": {},
     "output_type": "execute_result"
    }
   ],
   "source": [
    "df.isna().sum()"
   ]
  },
  {
   "cell_type": "markdown",
   "metadata": {
    "id": "qubhgnlO_Zct"
   },
   "source": [
    "Пропущенные значения в `track` и `artist` не важны для исследования. Достаточно заменить их явными обозначениями.\n",
    "\n",
    "Пропуски в `genre` могут помешать сравнению музыкальных вкусов в Москве и Санкт-Петербурге. Было бы правильно установить причину пропусков и восстановить данные, но такой возможности нет в учебном проекте. Поэтому заполним пропуски явными обозначениями."
   ]
  },
  {
   "cell_type": "markdown",
   "metadata": {
    "id": "fSv2laPA_Zct"
   },
   "source": [
    "Заменим пропущенные значения в столбцах `track`, `artist` и `genre` на строку `'unknown'`. Для этого создадим список `columns_to_replace`и цикл `for`, который переберет элементы списка и для каждого столбца выполните замену пропущенных значений:"
   ]
  },
  {
   "cell_type": "code",
   "execution_count": 11,
   "metadata": {
    "id": "KplB5qWs_Zct"
   },
   "outputs": [],
   "source": [
    "columns_to_replace = ['track', 'artist', 'genre']\n",
    "for value in columns_to_replace:\n",
    "    df[value] = df[value].fillna('unknown')"
   ]
  },
  {
   "cell_type": "markdown",
   "metadata": {
    "id": "Ilsm-MZo_Zct"
   },
   "source": [
    "Убедимся, что в таблице не осталось пропусков. Для этого ещё раз посчитаем пропущенные значения."
   ]
  },
  {
   "cell_type": "code",
   "execution_count": 12,
   "metadata": {
    "id": "Tq4nYRX4_Zct"
   },
   "outputs": [
    {
     "data": {
      "text/plain": [
       "user_id    0\n",
       "track      0\n",
       "artist     0\n",
       "genre      0\n",
       "city       0\n",
       "time       0\n",
       "day        0\n",
       "dtype: int64"
      ]
     },
     "execution_count": 12,
     "metadata": {},
     "output_type": "execute_result"
    }
   ],
   "source": [
    "df.isna().sum() # подсчёт пропусков"
   ]
  },
  {
   "cell_type": "markdown",
   "metadata": {
    "id": "BWKRtBJ3_Zct"
   },
   "source": [
    "### Дубликаты\n",
    "Посчитаем явные дубликаты в таблице:"
   ]
  },
  {
   "cell_type": "code",
   "execution_count": 13,
   "metadata": {
    "id": "36eES_S0_Zct",
    "scrolled": true
   },
   "outputs": [
    {
     "data": {
      "text/plain": [
       "3826"
      ]
     },
     "execution_count": 13,
     "metadata": {},
     "output_type": "execute_result"
    }
   ],
   "source": [
    "df.duplicated().sum()"
   ]
  },
  {
   "cell_type": "markdown",
   "metadata": {},
   "source": [
    "Удалим явные дубликаты:"
   ]
  },
  {
   "cell_type": "code",
   "execution_count": 14,
   "metadata": {
    "id": "exFHq6tt_Zct"
   },
   "outputs": [],
   "source": [
    "df = df.drop_duplicates().reset_index(drop = True) # удаление явных дубликатов (с удалением старых индексов и формированием новых)"
   ]
  },
  {
   "cell_type": "markdown",
   "metadata": {
    "id": "Im2YwBEG_Zct"
   },
   "source": [
    "Убедимся, что полностью избавились от явных дубликатов:"
   ]
  },
  {
   "cell_type": "code",
   "execution_count": 15,
   "metadata": {
    "id": "-8PuNWQ0_Zct"
   },
   "outputs": [
    {
     "data": {
      "text/plain": [
       "0"
      ]
     },
     "execution_count": 15,
     "metadata": {},
     "output_type": "execute_result"
    }
   ],
   "source": [
    "df.duplicated().sum()"
   ]
  },
  {
   "cell_type": "markdown",
   "metadata": {
    "id": "QlFBsxAr_Zct"
   },
   "source": [
    "Теперь избавьтесь от неявных дубликатов в колонке `genre`. Например, название одного и того же жанра может быть записано немного по-разному."
   ]
  },
  {
   "cell_type": "markdown",
   "metadata": {
    "id": "eSjWwsOh_Zct"
   },
   "source": [
    "Выведем на экран список уникальных названий жанров, отсортированный в алфавитном порядке."
   ]
  },
  {
   "cell_type": "code",
   "execution_count": 16,
   "metadata": {
    "id": "JIUcqzZN_Zct"
   },
   "outputs": [
    {
     "data": {
      "text/plain": [
       "array(['acid', 'acoustic', 'action', 'adult', 'africa', 'afrikaans',\n",
       "       'alternative', 'alternativepunk', 'ambient', 'americana',\n",
       "       'animated', 'anime', 'arabesk', 'arabic', 'arena',\n",
       "       'argentinetango', 'art', 'audiobook', 'author', 'avantgarde',\n",
       "       'axé', 'baile', 'balkan', 'beats', 'bigroom', 'black', 'bluegrass',\n",
       "       'blues', 'bollywood', 'bossa', 'brazilian', 'breakbeat', 'breaks',\n",
       "       'broadway', 'cantautori', 'cantopop', 'canzone', 'caribbean',\n",
       "       'caucasian', 'celtic', 'chamber', 'chanson', 'children', 'chill',\n",
       "       'chinese', 'choral', 'christian', 'christmas', 'classical',\n",
       "       'classicmetal', 'club', 'colombian', 'comedy', 'conjazz',\n",
       "       'contemporary', 'country', 'cuban', 'dance', 'dancehall',\n",
       "       'dancepop', 'dark', 'death', 'deep', 'deutschrock', 'deutschspr',\n",
       "       'dirty', 'disco', 'dnb', 'documentary', 'downbeat', 'downtempo',\n",
       "       'drum', 'dub', 'dubstep', 'eastern', 'easy', 'electronic',\n",
       "       'electropop', 'emo', 'entehno', 'epicmetal', 'estrada', 'ethnic',\n",
       "       'eurofolk', 'european', 'experimental', 'extrememetal', 'fado',\n",
       "       'fairytail', 'film', 'fitness', 'flamenco', 'folk', 'folklore',\n",
       "       'folkmetal', 'folkrock', 'folktronica', 'forró', 'frankreich',\n",
       "       'französisch', 'french', 'funk', 'future', 'gangsta', 'garage',\n",
       "       'german', 'ghazal', 'gitarre', 'glitch', 'gospel', 'gothic',\n",
       "       'grime', 'grunge', 'gypsy', 'handsup', \"hard'n'heavy\", 'hardcore',\n",
       "       'hardstyle', 'hardtechno', 'hip', 'hip-hop', 'hiphop',\n",
       "       'historisch', 'holiday', 'hop', 'horror', 'house', 'hymn', 'idm',\n",
       "       'independent', 'indian', 'indie', 'indipop', 'industrial',\n",
       "       'inspirational', 'instrumental', 'international', 'irish', 'jam',\n",
       "       'japanese', 'jazz', 'jewish', 'jpop', 'jungle', 'k-pop',\n",
       "       'karadeniz', 'karaoke', 'kayokyoku', 'korean', 'laiko', 'latin',\n",
       "       'latino', 'leftfield', 'local', 'lounge', 'loungeelectronic',\n",
       "       'lovers', 'malaysian', 'mandopop', 'marschmusik', 'meditative',\n",
       "       'mediterranean', 'melodic', 'metal', 'metalcore', 'mexican',\n",
       "       'middle', 'minimal', 'miscellaneous', 'modern', 'mood', 'mpb',\n",
       "       'muslim', 'native', 'neoklassik', 'neue', 'new', 'newage',\n",
       "       'newwave', 'nu', 'nujazz', 'numetal', 'oceania', 'old', 'opera',\n",
       "       'orchestral', 'other', 'piano', 'podcasts', 'pop', 'popdance',\n",
       "       'popelectronic', 'popeurodance', 'poprussian', 'post',\n",
       "       'posthardcore', 'postrock', 'power', 'progmetal', 'progressive',\n",
       "       'psychedelic', 'punjabi', 'punk', 'quebecois', 'ragga', 'ram',\n",
       "       'rancheras', 'rap', 'rave', 'reggae', 'reggaeton', 'regional',\n",
       "       'relax', 'religious', 'retro', 'rhythm', 'rnb', 'rnr', 'rock',\n",
       "       'rockabilly', 'rockalternative', 'rockindie', 'rockother',\n",
       "       'romance', 'roots', 'ruspop', 'rusrap', 'rusrock', 'russian',\n",
       "       'salsa', 'samba', 'scenic', 'schlager', 'self', 'sertanejo',\n",
       "       'shanson', 'shoegazing', 'showtunes', 'singer', 'ska', 'skarock',\n",
       "       'slow', 'smooth', 'soft', 'soul', 'soulful', 'sound', 'soundtrack',\n",
       "       'southern', 'specialty', 'speech', 'spiritual', 'sport',\n",
       "       'stonerrock', 'surf', 'swing', 'synthpop', 'synthrock',\n",
       "       'sängerportrait', 'tango', 'tanzorchester', 'taraftar', 'tatar',\n",
       "       'tech', 'techno', 'teen', 'thrash', 'top', 'traditional',\n",
       "       'tradjazz', 'trance', 'tribal', 'trip', 'triphop', 'tropical',\n",
       "       'türk', 'türkçe', 'ukrrock', 'unknown', 'urban', 'uzbek',\n",
       "       'variété', 'vi', 'videogame', 'vocal', 'western', 'world',\n",
       "       'worldbeat', 'ïîï', 'электроника'], dtype=object)"
      ]
     },
     "execution_count": 16,
     "metadata": {},
     "output_type": "execute_result"
    }
   ],
   "source": [
    "df.sort_values(by='genre')['genre'].unique()"
   ]
  },
  {
   "cell_type": "markdown",
   "metadata": {
    "id": "qej-Qmuo_Zct"
   },
   "source": [
    "Просмотрим список и найдем неявные дубликаты названия `hiphop`.\n",
    "\n",
    "Найдены следующие неявные дубликаты:\n",
    "* *hip*,\n",
    "* *hop*,\n",
    "* *hip-hop*.\n",
    "\n",
    "Чтобы очистить от них таблицу, напишем функцию `replace_wrong_genres()` с двумя параметрами: \n",
    "* `wrong_genres` — список дубликатов,\n",
    "* `correct_genre` — строка с правильным значением.\n",
    "\n",
    "Функция заменит каждое значение из списка `wrong_genres` на значение из `correct_genre`."
   ]
  },
  {
   "cell_type": "code",
   "execution_count": 17,
   "metadata": {
    "id": "ErNDkmns_Zct"
   },
   "outputs": [],
   "source": [
    "wrong_genres = ['hip', 'hop', 'hip-hop']\n",
    "correct_genre = ['hiphop']\n",
    "def replace_wrong_genres(data, wrong_genres):\n",
    "    for value in wrong_genres:\n",
    "         data['genre'] = data['genre'].replace(value, 'hiphop')"
   ]
  },
  {
   "cell_type": "markdown",
   "metadata": {
    "id": "aDoBJxbA_Zct"
   },
   "source": [
    "Вызовем функцию `replace_wrong_genres()`"
   ]
  },
  {
   "cell_type": "code",
   "execution_count": 18,
   "metadata": {
    "id": "YN5i2hpmSo09"
   },
   "outputs": [],
   "source": [
    "replace_wrong_genres(df, wrong_genres)"
   ]
  },
  {
   "cell_type": "markdown",
   "metadata": {
    "id": "zQKF16_RG15m"
   },
   "source": [
    "Проверьим, что заменили неправильные названия, выведем снова отсортированный список уникальных значений столбца `genre`:"
   ]
  },
  {
   "cell_type": "code",
   "execution_count": 19,
   "metadata": {
    "id": "wvixALnFG15m"
   },
   "outputs": [
    {
     "data": {
      "text/plain": [
       "array(['rock', 'pop', 'folk', 'dance', 'rusrap', 'ruspop', 'world',\n",
       "       'electronic', 'unknown', 'alternative', 'children', 'rnb',\n",
       "       'hiphop', 'jazz', 'postrock', 'latin', 'classical', 'metal',\n",
       "       'reggae', 'tatar', 'blues', 'instrumental', 'rusrock', 'dnb',\n",
       "       'türk', 'post', 'country', 'psychedelic', 'conjazz', 'indie',\n",
       "       'posthardcore', 'local', 'avantgarde', 'punk', 'videogame',\n",
       "       'techno', 'house', 'christmas', 'melodic', 'caucasian',\n",
       "       'reggaeton', 'soundtrack', 'singer', 'ska', 'shanson', 'ambient',\n",
       "       'film', 'western', 'rap', 'beats', \"hard'n'heavy\", 'progmetal',\n",
       "       'minimal', 'contemporary', 'new', 'soul', 'holiday', 'german',\n",
       "       'tropical', 'fairytail', 'spiritual', 'urban', 'gospel', 'nujazz',\n",
       "       'folkmetal', 'trance', 'miscellaneous', 'anime', 'hardcore',\n",
       "       'progressive', 'chanson', 'numetal', 'vocal', 'estrada', 'russian',\n",
       "       'classicmetal', 'dubstep', 'club', 'deep', 'southern', 'black',\n",
       "       'folkrock', 'fitness', 'french', 'disco', 'religious', 'drum',\n",
       "       'extrememetal', 'türkçe', 'experimental', 'easy', 'metalcore',\n",
       "       'modern', 'argentinetango', 'old', 'breaks', 'eurofolk',\n",
       "       'stonerrock', 'industrial', 'funk', 'jpop', 'middle', 'variété',\n",
       "       'other', 'adult', 'christian', 'gothic', 'international', 'muslim',\n",
       "       'relax', 'schlager', 'caribbean', 'ukrrock', 'nu', 'breakbeat',\n",
       "       'comedy', 'chill', 'newage', 'specialty', 'uzbek', 'k-pop',\n",
       "       'balkan', 'chinese', 'meditative', 'dub', 'power', 'death',\n",
       "       'grime', 'arabesk', 'romance', 'flamenco', 'leftfield', 'european',\n",
       "       'tech', 'newwave', 'dancehall', 'mpb', 'piano', 'top', 'bigroom',\n",
       "       'opera', 'celtic', 'tradjazz', 'acoustic', 'epicmetal',\n",
       "       'historisch', 'downbeat', 'downtempo', 'africa', 'audiobook',\n",
       "       'jewish', 'sängerportrait', 'deutschrock', 'eastern', 'action',\n",
       "       'future', 'electropop', 'folklore', 'bollywood', 'marschmusik',\n",
       "       'rnr', 'karaoke', 'indian', 'rancheras', 'электроника',\n",
       "       'afrikaans', 'tango', 'rhythm', 'sound', 'deutschspr', 'trip',\n",
       "       'lovers', 'choral', 'dancepop', 'podcasts', 'retro', 'smooth',\n",
       "       'mexican', 'brazilian', 'ïîï', 'mood', 'surf', 'author', 'gangsta',\n",
       "       'triphop', 'inspirational', 'idm', 'ethnic', 'bluegrass',\n",
       "       'broadway', 'animated', 'americana', 'karadeniz', 'rockabilly',\n",
       "       'colombian', 'self', 'synthrock', 'sertanejo', 'japanese',\n",
       "       'canzone', 'swing', 'lounge', 'sport', 'korean', 'ragga',\n",
       "       'traditional', 'gitarre', 'frankreich', 'alternativepunk', 'emo',\n",
       "       'laiko', 'cantopop', 'glitch', 'documentary', 'rockalternative',\n",
       "       'thrash', 'hymn', 'oceania', 'rockother', 'popeurodance', 'dark',\n",
       "       'vi', 'grunge', 'hardstyle', 'samba', 'garage', 'soft', 'art',\n",
       "       'folktronica', 'entehno', 'mediterranean', 'chamber', 'cuban',\n",
       "       'taraftar', 'rockindie', 'gypsy', 'hardtechno', 'shoegazing',\n",
       "       'skarock', 'bossa', 'salsa', 'latino', 'worldbeat', 'malaysian',\n",
       "       'baile', 'ghazal', 'loungeelectronic', 'arabic', 'popelectronic',\n",
       "       'acid', 'kayokyoku', 'neoklassik', 'tribal', 'tanzorchester',\n",
       "       'native', 'independent', 'cantautori', 'handsup', 'poprussian',\n",
       "       'punjabi', 'synthpop', 'rave', 'französisch', 'quebecois',\n",
       "       'speech', 'soulful', 'teen', 'jam', 'ram', 'horror', 'scenic',\n",
       "       'orchestral', 'neue', 'roots', 'slow', 'jungle', 'indipop', 'axé',\n",
       "       'fado', 'showtunes', 'arena', 'irish', 'mandopop', 'forró',\n",
       "       'popdance', 'dirty', 'regional'], dtype=object)"
      ]
     },
     "execution_count": 19,
     "metadata": {},
     "output_type": "execute_result"
    }
   ],
   "source": [
    "df['genre'].unique()"
   ]
  },
  {
   "cell_type": "markdown",
   "metadata": {},
   "source": [
    "Сделаем дополнительную проверку с помощью функции `find_genre()`, которая принимает как параметр список с неправильными названиями.  \n",
    "Цикл проходит по списку уникальных значений и сравнивает их с неправильным названием, если они совпадают, то он добавляет это название в список `result`.  \n",
    "Вызываем функцию, если мы удалили все неправильные названия, список должен остаться пустой."
   ]
  },
  {
   "cell_type": "code",
   "execution_count": 20,
   "metadata": {},
   "outputs": [
    {
     "name": "stdout",
     "output_type": "stream",
     "text": [
      "[]\n"
     ]
    }
   ],
   "source": [
    "genres_list = df['genre'].unique()\n",
    "result = []\n",
    "def find_genre(row): \n",
    "    for value in row: \n",
    "        for element in genres_list:\n",
    "            if element == value:\n",
    "                result.append(value)\n",
    "\n",
    "find_genre(wrong_genres)"
   ]
  },
  {
   "cell_type": "markdown",
   "metadata": {},
   "source": [
    "Еще раз смотрим информацию о таблице, чтобы убедиться, что все в порядке"
   ]
  },
  {
   "cell_type": "code",
   "execution_count": 21,
   "metadata": {},
   "outputs": [
    {
     "name": "stdout",
     "output_type": "stream",
     "text": [
      "<class 'pandas.core.frame.DataFrame'>\n",
      "RangeIndex: 61253 entries, 0 to 61252\n",
      "Data columns (total 7 columns):\n",
      "user_id    61253 non-null object\n",
      "track      61253 non-null object\n",
      "artist     61253 non-null object\n",
      "genre      61253 non-null object\n",
      "city       61253 non-null object\n",
      "time       61253 non-null object\n",
      "day        61253 non-null object\n",
      "dtypes: object(7)\n",
      "memory usage: 3.3+ MB\n"
     ]
    }
   ],
   "source": [
    "df.info()"
   ]
  },
  {
   "cell_type": "markdown",
   "metadata": {
    "id": "jz6a9-7HQUDd"
   },
   "source": [
    "**Выводы**\n",
    "\n",
    "Предобработка обнаружила три проблемы в данных:\n",
    "\n",
    "- нарушения в стиле заголовков,\n",
    "- пропущенные значения,\n",
    "- дубликаты — явные и неявные.\n",
    "\n",
    "Мы исправили заголовки, чтобы упростить работу с таблицей. Без дубликатов исследование станет более точным.\n",
    "\n",
    "Пропущенные значения мы заменили на `'unknown'`.\n",
    "\n",
    "Теперь можно перейти к проверке гипотез. "
   ]
  },
  {
   "cell_type": "markdown",
   "metadata": {
    "id": "WttZHXH0SqKk"
   },
   "source": [
    "## Проверка гипотез <a id='7'></a>"
   ]
  },
  {
   "cell_type": "markdown",
   "metadata": {
    "id": "Im936VVi_Zcu"
   },
   "source": [
    "### Сравнение поведения пользователей двух столиц"
   ]
  },
  {
   "cell_type": "markdown",
   "metadata": {
    "id": "nwt_MuaL_Zcu"
   },
   "source": [
    "Первая гипотеза утверждает, что пользователи по-разному слушают музыку в Москве и Санкт-Петербурге. Проверим это предположение по данным о трёх днях недели — понедельнике, среде и пятнице. Для этого:\n",
    "\n",
    "* Разделим пользователей Москвы и Санкт-Петербурга\n",
    "* Сравним, сколько треков послушала каждая группа пользователей в понедельник, среду и пятницу.\n"
   ]
  },
  {
   "cell_type": "markdown",
   "metadata": {
    "id": "8Dw_YMmT_Zcu"
   },
   "source": [
    "Посчитаем количество прослушиваний в каждом городе\n"
   ]
  },
  {
   "cell_type": "code",
   "execution_count": 22,
   "metadata": {
    "id": "0_Qs96oh_Zcu"
   },
   "outputs": [
    {
     "data": {
      "text/plain": [
       "city\n",
       "Moscow              42741\n",
       "Saint-Petersburg    18512\n",
       "Name: genre, dtype: int64"
      ]
     },
     "execution_count": 22,
     "metadata": {},
     "output_type": "execute_result"
    }
   ],
   "source": [
    "df.groupby('city')['genre'].count()"
   ]
  },
  {
   "cell_type": "markdown",
   "metadata": {
    "id": "dzli3w8o_Zcu"
   },
   "source": [
    "В Москве прослушиваний больше, чем в Петербурге. Из этого не следует, что московские пользователи чаще слушают музыку. Просто самих пользователей в Москве больше.\n",
    "\n",
    "Теперь сгруппируем данные по дню недели и подсчитаем прослушивания в понедельник, среду и пятницу.\n"
   ]
  },
  {
   "cell_type": "code",
   "execution_count": 23,
   "metadata": {
    "id": "uZMKjiJz_Zcu"
   },
   "outputs": [
    {
     "data": {
      "text/plain": [
       "day\n",
       "Friday       21840\n",
       "Monday       21354\n",
       "Wednesday    18059\n",
       "Name: genre, dtype: int64"
      ]
     },
     "execution_count": 23,
     "metadata": {},
     "output_type": "execute_result"
    }
   ],
   "source": [
    "df.groupby('day')['genre'].count()"
   ]
  },
  {
   "cell_type": "markdown",
   "metadata": {
    "id": "cC2tNrlL_Zcu"
   },
   "source": [
    "В среднем пользователи из двух городов менее активны по средам. Но картина может измениться, если рассмотреть каждый город в отдельности."
   ]
  },
  {
   "cell_type": "markdown",
   "metadata": {
    "id": "POzs8bGa_Zcu"
   },
   "source": [
    "Теперь напишем функцию, которая объединит два эти расчёта, чтобы получить данные для каждого города в каждый из трёх дней.\n",
    "\n",
    "Создадим функцию `number_tracks()` с одним параметром дня недели.  \n",
    "Цикл сохраняет в переменную `track_list` те строки таблицы `df`, для которых значение в столбце `'day'` равно параметру `day` и одновременно значение в столбце `'city'` равно значению из списка `cities`.  \n",
    "Для каждого города в переменной `track_list_count` сохраняется число значений столбца `'user_id'` и это значение добавляется в \n",
    "соответствующий список `row_moscow` или `row_spb`.  \n",
    "\n",
    "Вызовем функцию `number_tracks()`."
   ]
  },
  {
   "cell_type": "code",
   "execution_count": 24,
   "metadata": {
    "id": "Nz3GdQB1_Zcu"
   },
   "outputs": [],
   "source": [
    "dayweek = ['Monday', 'Wednesday', 'Friday'] #создадим список из дней недели\n",
    "cities = ['Moscow', 'Saint-Petersburg'] #создадим список из городов\n",
    "row_moscow = ['Moscow'] #список, в который добавим значения по москве\n",
    "row_spb = ['Saint-Petersburg'] #список, в который добавим значения по санкт-петербургу\n",
    "\n",
    "def number_tracks(day):\n",
    "    for value in day: \n",
    "        track_list = df.loc[(df.loc[:, 'day'] == value) & (df.loc[:, 'city'] == cities[0])]\n",
    "        track_list_count = track_list.loc[:,'user_id'].count()\n",
    "        row_moscow.append(track_list_count)\n",
    "        track_list = df.loc[(df.loc[:, 'day'] == value) & (df.loc[:, 'city'] == cities[1])]\n",
    "        track_list_count = track_list.loc[:,'user_id'].count()\n",
    "        row_spb.append(track_list_count)\n",
    "    \n",
    "number_tracks(dayweek)"
   ]
  },
  {
   "cell_type": "markdown",
   "metadata": {
    "id": "7QXffbO-_Zcu"
   },
   "source": [
    "Создадим c помощью конструктора `pd.DataFrame` таблицу, где\n",
    "* названия колонок — `['city', 'monday', 'wednesday', 'friday']`;\n",
    "* данные — результаты, которые мы получили с помощью `number_tracks`."
   ]
  },
  {
   "cell_type": "code",
   "execution_count": 31,
   "metadata": {
    "id": "APAcLpOr_Zcu"
   },
   "outputs": [
    {
     "name": "stdout",
     "output_type": "stream",
     "text": [
      "               city  monday  wednesday  friday\n",
      "0            Moscow   15740      11056   15945\n",
      "1  Saint-Petersburg    5614       7003    5895\n"
     ]
    }
   ],
   "source": [
    "data = [row_moscow, row_spb] #используем списки\n",
    "columns =  ['city', 'monday', 'wednesday', 'friday']\n",
    "table = pd.DataFrame(data = data, columns = columns)\n",
    "print(table)"
   ]
  },
  {
   "cell_type": "markdown",
   "metadata": {
    "id": "-EgPIHYu_Zcu"
   },
   "source": [
    "**Выводы**\n",
    "\n",
    "Данные показывают разницу поведения пользователей:\n",
    "\n",
    "- В Москве пик прослушиваний приходится на понедельник и пятницу, а в среду заметен спад.\n",
    "- В Петербурге, наоборот, больше слушают музыку по средам. Активность в понедельник и пятницу здесь почти в равной мере уступает среде.\n",
    "\n",
    "Значит, данные говорят в пользу первой гипотезы."
   ]
  },
  {
   "cell_type": "markdown",
   "metadata": {
    "id": "atZAxtq4_Zcu"
   },
   "source": [
    "### Музыка в начале и в конце недели"
   ]
  },
  {
   "cell_type": "markdown",
   "metadata": {
    "id": "eXrQqXFH_Zcu"
   },
   "source": [
    "Согласно второй гипотезе, утром в понедельник в Москве преобладают одни жанры, а в Петербурге — другие. Так же и вечером пятницы преобладают разные жанры — в зависимости от города."
   ]
  },
  {
   "cell_type": "markdown",
   "metadata": {
    "id": "S8UcW6Hw_Zcu"
   },
   "source": [
    "Сохраним таблицы с данными в две переменные:\n",
    "* по Москве — в `moscow_general`;\n",
    "* по Санкт-Петербургу — в `spb_general`."
   ]
  },
  {
   "cell_type": "code",
   "execution_count": 32,
   "metadata": {
    "id": "qeaFfM_P_Zcu"
   },
   "outputs": [],
   "source": [
    "moscow_general = df.loc[df.loc[:, 'city'] == 'Moscow']\n"
   ]
  },
  {
   "cell_type": "code",
   "execution_count": 33,
   "metadata": {
    "id": "ORaVRKto_Zcu"
   },
   "outputs": [],
   "source": [
    "spb_general = df.loc[df.loc[:, 'city'] == 'Saint-Petersburg']\n"
   ]
  },
  {
   "cell_type": "markdown",
   "metadata": {
    "id": "MEJV-CX2_Zcu"
   },
   "source": [
    "Создадим функцию `genre_weekday()` с четырьмя параметрами:\n",
    "* таблица (датафрейм) с данными,\n",
    "* день недели,\n",
    "* начальная временная метка в формате 'hh:mm', \n",
    "* последняя временная метка в формате 'hh:mm'.\n",
    "\n",
    "Функция должна вернуть информацию о топ-10 жанров тех треков, отсортированных по убыванию, которые прослушивали в указанный день, в промежутке между двумя отметками времени."
   ]
  },
  {
   "cell_type": "code",
   "execution_count": 34,
   "metadata": {
    "id": "laJT9BYl_Zcu"
   },
   "outputs": [],
   "source": [
    "def genre_weekday(table, day, time1, time2):\n",
    "    genre_df = table.loc[(table.loc[:, 'day'] == day) & (table.loc[:, 'time'] > time1) & (table.loc[:, 'time'] < time2)]\n",
    "    genre_df_count = genre_df.groupby('genre')['genre'].count()\n",
    "    genre_df_sorted = genre_df_count.sort_values(ascending = False).head(10)\n",
    "    return genre_df_sorted"
   ]
  },
  {
   "cell_type": "markdown",
   "metadata": {
    "id": "la2s2_PF_Zcu"
   },
   "source": [
    "Cравним результаты функции `genre_weekday()` для Москвы и Санкт-Петербурга в понедельник утром (с 7:00 до 11:00) и в пятницу вечером (с 17:00 до 23:00):"
   ]
  },
  {
   "cell_type": "code",
   "execution_count": 35,
   "metadata": {
    "id": "yz7itPUQ_Zcu"
   },
   "outputs": [
    {
     "data": {
      "text/plain": [
       "genre\n",
       "pop            781\n",
       "dance          549\n",
       "electronic     480\n",
       "rock           474\n",
       "hiphop         286\n",
       "ruspop         186\n",
       "world          181\n",
       "rusrap         175\n",
       "alternative    164\n",
       "unknown        161\n",
       "Name: genre, dtype: int64"
      ]
     },
     "execution_count": 35,
     "metadata": {},
     "output_type": "execute_result"
    }
   ],
   "source": [
    "genre_weekday(moscow_general, 'Monday', '07:00', '11:00')"
   ]
  },
  {
   "cell_type": "code",
   "execution_count": 36,
   "metadata": {
    "id": "kwUcHPdy_Zcu"
   },
   "outputs": [
    {
     "data": {
      "text/plain": [
       "genre\n",
       "pop            218\n",
       "dance          182\n",
       "rock           162\n",
       "electronic     147\n",
       "hiphop          80\n",
       "ruspop          64\n",
       "alternative     58\n",
       "rusrap          55\n",
       "jazz            44\n",
       "classical       40\n",
       "Name: genre, dtype: int64"
      ]
     },
     "execution_count": 36,
     "metadata": {},
     "output_type": "execute_result"
    }
   ],
   "source": [
    "genre_weekday(spb_general, 'Monday', '07:00', '11:00')"
   ]
  },
  {
   "cell_type": "code",
   "execution_count": 37,
   "metadata": {
    "id": "EzXVRE1o_Zcu"
   },
   "outputs": [
    {
     "data": {
      "text/plain": [
       "genre\n",
       "pop            717\n",
       "dance          524\n",
       "rock           518\n",
       "electronic     485\n",
       "hiphop         238\n",
       "alternative    182\n",
       "world          172\n",
       "classical      172\n",
       "ruspop         149\n",
       "rusrap         133\n",
       "Name: genre, dtype: int64"
      ]
     },
     "execution_count": 37,
     "metadata": {},
     "output_type": "execute_result"
    }
   ],
   "source": [
    "genre_weekday(moscow_general, 'Friday', '17:00', '23:00')"
   ]
  },
  {
   "cell_type": "code",
   "execution_count": 38,
   "metadata": {
    "id": "JZaEKu5v_Zcu"
   },
   "outputs": [
    {
     "data": {
      "text/plain": [
       "genre\n",
       "pop            263\n",
       "rock           208\n",
       "electronic     192\n",
       "dance          191\n",
       "hiphop         104\n",
       "alternative     72\n",
       "classical       71\n",
       "jazz            57\n",
       "rusrap          54\n",
       "ruspop          53\n",
       "Name: genre, dtype: int64"
      ]
     },
     "execution_count": 38,
     "metadata": {},
     "output_type": "execute_result"
    }
   ],
   "source": [
    "genre_weekday(spb_general, 'Friday', '17:00', '23:00')"
   ]
  },
  {
   "cell_type": "markdown",
   "metadata": {
    "id": "wrCe4MNX_Zcu"
   },
   "source": [
    "**Выводы**\n",
    "\n",
    "Если сравнить топ-10 жанров в понедельник утром, можно сделать такие выводы:\n",
    "\n",
    "1. В Москве и Петербурге слушают похожую музыку. Единственное отличие — в московский рейтинг вошёл жанр “world”, а в петербургский — джаз и классика.\n",
    "\n",
    "2. В Москве пропущенных значений оказалось так много, что значение `'unknown'` заняло десятое место среди самых популярных жанров. Значит, пропущенные значения занимают существенную долю в данных и угрожают достоверности исследования.\n",
    "\n",
    "Вечер пятницы не меняет эту картину. Некоторые жанры поднимаются немного выше, другие спускаются, но в целом топ-10 остаётся тем же самым.\n",
    "\n",
    "Таким образом, вторая гипотеза подтвердилась лишь частично:\n",
    "* Пользователи слушают похожую музыку в начале недели и в конце.\n",
    "* Разница между Москвой и Петербургом не слишком выражена. В Москве чаще слушают русскую популярную музыку, в Петербурге — джаз.\n",
    "\n",
    "Однако пропуски в данных ставят под сомнение этот результат. В Москве их так много, что рейтинг топ-10 мог бы выглядеть иначе, если бы не утерянные  данные о жанрах."
   ]
  },
  {
   "cell_type": "markdown",
   "metadata": {
    "id": "JolODAqr_Zcu"
   },
   "source": [
    "### Жанровые предпочтения в Москве и Петербурге\n",
    "\n",
    "Гипотеза: Петербург — столица рэпа, музыку этого жанра там слушают чаще, чем в Москве.  А Москва — город контрастов, в котором, тем не менее, преобладает поп-музыка."
   ]
  },
  {
   "cell_type": "markdown",
   "metadata": {
    "id": "DlegSvaT_Zcu"
   },
   "source": [
    "Сгруппируем таблицу `moscow_general` по жанру и посчитаем прослушивания треков каждого жанра методом `count()`. Затем отсортируем результат в порядке убывания и сохраним его в таблице `moscow_genres`."
   ]
  },
  {
   "cell_type": "code",
   "execution_count": 39,
   "metadata": {
    "id": "r19lIPke_Zcu"
   },
   "outputs": [],
   "source": [
    "moscow_genres = moscow_general.groupby('genre')['genre'].count().sort_values(ascending = False)"
   ]
  },
  {
   "cell_type": "markdown",
   "metadata": {
    "id": "6kMuomxTiIr8"
   },
   "source": [
    "Выведем на экран первые десять строк `moscow_genres`:"
   ]
  },
  {
   "cell_type": "code",
   "execution_count": 40,
   "metadata": {
    "id": "WhCSooF8_Zcv"
   },
   "outputs": [
    {
     "data": {
      "text/plain": [
       "genre\n",
       "pop            5892\n",
       "dance          4435\n",
       "rock           3965\n",
       "electronic     3786\n",
       "hiphop         2096\n",
       "classical      1616\n",
       "world          1432\n",
       "alternative    1379\n",
       "ruspop         1372\n",
       "rusrap         1161\n",
       "Name: genre, dtype: int64"
      ]
     },
     "execution_count": 40,
     "metadata": {},
     "output_type": "execute_result"
    }
   ],
   "source": [
    "moscow_genres.head(10)"
   ]
  },
  {
   "cell_type": "markdown",
   "metadata": {
    "id": "cnPG2vnN_Zcv"
   },
   "source": [
    "Теперь повторим то же и для Петербурга.\n",
    "\n",
    "Сгруппируем таблицу `spb_general` по жанру. Посчитаем прослушивания треков каждого жанра. Результат отсортируем в порядке убывания и сохраним в таблице `spb_genres`:\n"
   ]
  },
  {
   "cell_type": "code",
   "execution_count": 41,
   "metadata": {
    "id": "gluLIpE7_Zcv"
   },
   "outputs": [],
   "source": [
    "spb_genres = spb_general.groupby('genre')['genre'].count().sort_values(ascending = False)"
   ]
  },
  {
   "cell_type": "markdown",
   "metadata": {
    "id": "5Doha_ODgyQ8"
   },
   "source": [
    "Выведем на экран первые десять строк `spb_genres`:"
   ]
  },
  {
   "cell_type": "code",
   "execution_count": 42,
   "metadata": {
    "id": "uaGJHjVU_Zcv"
   },
   "outputs": [
    {
     "data": {
      "text/plain": [
       "genre\n",
       "pop            2431\n",
       "dance          1932\n",
       "rock           1879\n",
       "electronic     1736\n",
       "hiphop          960\n",
       "alternative     649\n",
       "classical       646\n",
       "rusrap          564\n",
       "ruspop          538\n",
       "world           515\n",
       "Name: genre, dtype: int64"
      ]
     },
     "execution_count": 42,
     "metadata": {},
     "output_type": "execute_result"
    }
   ],
   "source": [
    "spb_genres.head(10)"
   ]
  },
  {
   "cell_type": "markdown",
   "metadata": {
    "id": "RY51YJYu_Zcv"
   },
   "source": [
    "**Выводы**"
   ]
  },
  {
   "cell_type": "markdown",
   "metadata": {
    "id": "nVhnJEm__Zcv"
   },
   "source": [
    "Гипотеза частично подтвердилась:\n",
    "* Поп-музыка — самый популярный жанр в Москве, как и предполагала гипотеза. Более того, в топ-10 жанров встречается близкий жанр — русская популярная музыка.\n",
    "* Вопреки ожиданиям, рэп одинаково популярен в Москве и Петербурге. \n"
   ]
  },
  {
   "cell_type": "markdown",
   "metadata": {
    "id": "ykKQ0N65_Zcv"
   },
   "source": [
    "## Итоги исследования <a id='11'></a>"
   ]
  },
  {
   "cell_type": "markdown",
   "metadata": {
    "id": "tjUwbHb3_Zcv"
   },
   "source": [
    "Мы проверили три гипотезы и установили:\n",
    "\n",
    "1. День недели по-разному влияет на активность пользователей в Москве и Петербурге. \n",
    "\n",
    "Первая гипотеза полностью подтвердилась.\n",
    "\n",
    "2. Музыкальные предпочтения не сильно меняются в течение недели — будь то Москва или Петербург. Небольшие различия заметны в начале недели, по понедельникам:\n",
    "* в Москве слушают музыку жанра “world”,\n",
    "* в Петербурге — джаз и классику.\n",
    "\n",
    "Таким образом, вторая гипотеза подтвердилась лишь отчасти. Этот результат мог оказаться иным, если бы не пропуски в данных.\n",
    "\n",
    "3. Во вкусах пользователей Москвы и Петербурга больше общего чем различий. Вопреки ожиданиям, предпочтения жанров в Петербурге напоминают московские.\n",
    "\n",
    "Третья гипотеза не подтвердилась. Если различия в предпочтениях и существуют, на основной массе пользователей они незаметны."
   ]
  }
 ],
 "metadata": {
  "ExecuteTimeLog": [
   {
    "duration": 294,
    "start_time": "2021-11-19T11:54:21.502Z"
   },
   {
    "duration": 572,
    "start_time": "2021-11-19T11:54:36.370Z"
   },
   {
    "duration": 149,
    "start_time": "2021-11-19T11:54:40.011Z"
   },
   {
    "duration": 22,
    "start_time": "2021-11-19T11:55:21.091Z"
   },
   {
    "duration": 26,
    "start_time": "2021-11-19T11:56:01.842Z"
   },
   {
    "duration": 4,
    "start_time": "2021-11-19T11:59:30.420Z"
   },
   {
    "duration": 4,
    "start_time": "2021-11-19T12:01:12.890Z"
   },
   {
    "duration": 4,
    "start_time": "2021-11-19T12:01:27.572Z"
   },
   {
    "duration": 3,
    "start_time": "2021-11-19T12:02:42.255Z"
   },
   {
    "duration": 4,
    "start_time": "2021-11-19T12:02:48.165Z"
   },
   {
    "duration": 23,
    "start_time": "2021-11-19T12:05:31.789Z"
   },
   {
    "duration": 279,
    "start_time": "2021-11-19T12:09:27.320Z"
   },
   {
    "duration": 263,
    "start_time": "2021-11-19T12:10:25.895Z"
   },
   {
    "duration": 260,
    "start_time": "2021-11-19T12:11:07.735Z"
   },
   {
    "duration": 273,
    "start_time": "2021-11-19T12:17:05.217Z"
   },
   {
    "duration": 21,
    "start_time": "2021-11-19T12:17:39.522Z"
   },
   {
    "duration": 24,
    "start_time": "2021-11-19T12:17:59.937Z"
   },
   {
    "duration": 60,
    "start_time": "2021-11-19T12:18:44.960Z"
   },
   {
    "duration": 82,
    "start_time": "2021-11-19T12:20:40.184Z"
   },
   {
    "duration": 59,
    "start_time": "2021-11-19T12:21:25.353Z"
   },
   {
    "duration": 57,
    "start_time": "2021-11-19T12:21:38.912Z"
   },
   {
    "duration": 80,
    "start_time": "2021-11-19T12:21:48.723Z"
   },
   {
    "duration": 55,
    "start_time": "2021-11-19T12:22:09.280Z"
   },
   {
    "duration": 50,
    "start_time": "2021-11-19T12:22:41.778Z"
   },
   {
    "duration": 264,
    "start_time": "2021-11-19T12:22:45.517Z"
   },
   {
    "duration": 256,
    "start_time": "2021-11-19T12:23:13.211Z"
   },
   {
    "duration": 359,
    "start_time": "2021-11-19T12:23:40.106Z"
   },
   {
    "duration": 975,
    "start_time": "2021-11-19T12:25:20.625Z"
   },
   {
    "duration": 253,
    "start_time": "2021-11-19T12:27:51.594Z"
   },
   {
    "duration": 3,
    "start_time": "2021-11-19T12:28:21.332Z"
   },
   {
    "duration": 3,
    "start_time": "2021-11-19T12:28:24.422Z"
   },
   {
    "duration": 3,
    "start_time": "2021-11-19T12:28:40.506Z"
   },
   {
    "duration": 251,
    "start_time": "2021-11-19T12:28:46.751Z"
   },
   {
    "duration": 662,
    "start_time": "2021-11-19T12:29:50.326Z"
   },
   {
    "duration": 130,
    "start_time": "2021-11-19T12:29:50.990Z"
   },
   {
    "duration": 23,
    "start_time": "2021-11-19T12:29:51.122Z"
   },
   {
    "duration": 24,
    "start_time": "2021-11-19T12:29:51.148Z"
   },
   {
    "duration": 6,
    "start_time": "2021-11-19T12:29:51.174Z"
   },
   {
    "duration": 6,
    "start_time": "2021-11-19T12:29:51.181Z"
   },
   {
    "duration": 7,
    "start_time": "2021-11-19T12:29:51.188Z"
   },
   {
    "duration": 47,
    "start_time": "2021-11-19T12:29:51.197Z"
   },
   {
    "duration": 18,
    "start_time": "2021-11-19T12:29:51.246Z"
   },
   {
    "duration": 24,
    "start_time": "2021-11-19T12:29:51.266Z"
   },
   {
    "duration": 8,
    "start_time": "2021-11-19T12:29:51.291Z"
   },
   {
    "duration": 4,
    "start_time": "2021-11-19T12:29:51.301Z"
   },
   {
    "duration": 8,
    "start_time": "2021-11-19T12:29:51.307Z"
   },
   {
    "duration": 5,
    "start_time": "2021-11-19T12:29:51.316Z"
   },
   {
    "duration": 5,
    "start_time": "2021-11-19T12:29:51.323Z"
   },
   {
    "duration": 3,
    "start_time": "2021-11-19T12:29:51.345Z"
   },
   {
    "duration": 15,
    "start_time": "2021-11-19T12:29:51.350Z"
   },
   {
    "duration": 6,
    "start_time": "2021-11-19T12:29:51.366Z"
   },
   {
    "duration": 4,
    "start_time": "2021-11-19T12:29:51.374Z"
   },
   {
    "duration": 7,
    "start_time": "2021-11-19T12:29:51.380Z"
   },
   {
    "duration": 7,
    "start_time": "2021-11-19T12:29:51.388Z"
   },
   {
    "duration": 10,
    "start_time": "2021-11-19T12:29:51.397Z"
   },
   {
    "duration": 4,
    "start_time": "2021-11-19T12:29:51.411Z"
   },
   {
    "duration": 5,
    "start_time": "2021-11-19T12:29:51.417Z"
   },
   {
    "duration": 6,
    "start_time": "2021-11-19T12:29:51.423Z"
   },
   {
    "duration": 3,
    "start_time": "2021-11-19T12:29:51.437Z"
   },
   {
    "duration": 3,
    "start_time": "2021-11-19T12:29:51.445Z"
   },
   {
    "duration": 4,
    "start_time": "2021-11-19T12:29:51.450Z"
   },
   {
    "duration": 5,
    "start_time": "2021-11-19T12:29:51.456Z"
   },
   {
    "duration": 5,
    "start_time": "2021-11-19T12:29:51.463Z"
   },
   {
    "duration": 10,
    "start_time": "2021-11-19T12:29:51.470Z"
   },
   {
    "duration": 6,
    "start_time": "2021-11-19T12:29:51.482Z"
   },
   {
    "duration": 8,
    "start_time": "2021-11-19T12:29:51.489Z"
   },
   {
    "duration": 5,
    "start_time": "2021-11-19T12:29:51.499Z"
   },
   {
    "duration": 7,
    "start_time": "2021-11-19T12:29:51.506Z"
   },
   {
    "duration": 7,
    "start_time": "2021-11-19T12:29:51.514Z"
   },
   {
    "duration": 5,
    "start_time": "2021-11-19T12:29:51.522Z"
   },
   {
    "duration": 17,
    "start_time": "2021-11-19T12:29:51.528Z"
   },
   {
    "duration": 55,
    "start_time": "2021-11-19T12:31:09.720Z"
   },
   {
    "duration": 64,
    "start_time": "2021-11-19T12:31:23.213Z"
   },
   {
    "duration": 53,
    "start_time": "2021-11-19T12:31:34.047Z"
   },
   {
    "duration": 7,
    "start_time": "2021-11-19T12:32:29.662Z"
   },
   {
    "duration": 4,
    "start_time": "2021-11-19T12:42:09.276Z"
   },
   {
    "duration": 544,
    "start_time": "2021-11-19T12:43:41.020Z"
   },
   {
    "duration": 4,
    "start_time": "2021-11-19T12:44:00.222Z"
   },
   {
    "duration": 576,
    "start_time": "2021-11-19T12:44:03.415Z"
   },
   {
    "duration": 3,
    "start_time": "2021-11-19T12:49:38.798Z"
   },
   {
    "duration": 2,
    "start_time": "2021-11-19T12:49:47.822Z"
   },
   {
    "duration": 10,
    "start_time": "2021-11-19T12:50:09.364Z"
   },
   {
    "duration": 767,
    "start_time": "2021-11-19T12:50:44.349Z"
   },
   {
    "duration": 3,
    "start_time": "2021-11-19T12:52:46.701Z"
   },
   {
    "duration": 10,
    "start_time": "2021-11-19T12:52:49.487Z"
   },
   {
    "duration": 9,
    "start_time": "2021-11-19T12:52:54.688Z"
   },
   {
    "duration": 7,
    "start_time": "2021-11-19T12:53:17.301Z"
   },
   {
    "duration": 127,
    "start_time": "2021-11-19T12:56:59.963Z"
   },
   {
    "duration": 94,
    "start_time": "2021-11-19T13:07:00.884Z"
   },
   {
    "duration": 87,
    "start_time": "2021-11-19T13:07:30.825Z"
   },
   {
    "duration": 167,
    "start_time": "2021-11-19T13:10:29.994Z"
   },
   {
    "duration": 6,
    "start_time": "2021-11-19T13:10:38.985Z"
   },
   {
    "duration": 6,
    "start_time": "2021-11-19T13:11:04.106Z"
   },
   {
    "duration": 9,
    "start_time": "2021-11-19T13:37:25.209Z"
   },
   {
    "duration": 22,
    "start_time": "2021-11-19T13:37:38.565Z"
   },
   {
    "duration": 11,
    "start_time": "2021-11-19T13:41:48.261Z"
   },
   {
    "duration": 12,
    "start_time": "2021-11-19T13:42:38.181Z"
   },
   {
    "duration": 5,
    "start_time": "2021-11-19T13:49:13.329Z"
   },
   {
    "duration": 453,
    "start_time": "2021-11-19T14:02:39.946Z"
   },
   {
    "duration": 434,
    "start_time": "2021-11-19T14:03:38.009Z"
   },
   {
    "duration": 574,
    "start_time": "2021-11-19T14:05:26.294Z"
   },
   {
    "duration": 436,
    "start_time": "2021-11-19T14:08:55.352Z"
   },
   {
    "duration": 454,
    "start_time": "2021-11-19T14:13:32.805Z"
   },
   {
    "duration": 462,
    "start_time": "2021-11-19T14:16:01.644Z"
   },
   {
    "duration": 484,
    "start_time": "2021-11-19T14:23:14.525Z"
   },
   {
    "duration": 474,
    "start_time": "2021-11-19T14:26:17.272Z"
   },
   {
    "duration": 5,
    "start_time": "2021-11-19T14:30:26.238Z"
   },
   {
    "duration": 674,
    "start_time": "2021-11-19T14:30:52.545Z"
   },
   {
    "duration": 4,
    "start_time": "2021-11-19T14:33:50.027Z"
   },
   {
    "duration": 542,
    "start_time": "2021-11-19T14:34:25.671Z"
   },
   {
    "duration": 650,
    "start_time": "2021-11-19T14:34:43.443Z"
   },
   {
    "duration": 135,
    "start_time": "2021-11-19T14:34:44.095Z"
   },
   {
    "duration": 17,
    "start_time": "2021-11-19T14:34:44.233Z"
   },
   {
    "duration": 24,
    "start_time": "2021-11-19T14:34:44.252Z"
   },
   {
    "duration": 4,
    "start_time": "2021-11-19T14:34:44.279Z"
   },
   {
    "duration": 7,
    "start_time": "2021-11-19T14:34:44.284Z"
   },
   {
    "duration": 10,
    "start_time": "2021-11-19T14:34:44.292Z"
   },
   {
    "duration": 41,
    "start_time": "2021-11-19T14:34:44.304Z"
   },
   {
    "duration": 18,
    "start_time": "2021-11-19T14:34:44.347Z"
   },
   {
    "duration": 22,
    "start_time": "2021-11-19T14:34:44.366Z"
   },
   {
    "duration": 60,
    "start_time": "2021-11-19T14:34:44.562Z"
   },
   {
    "duration": 70,
    "start_time": "2021-11-19T14:34:44.624Z"
   },
   {
    "duration": 58,
    "start_time": "2021-11-19T14:34:44.696Z"
   },
   {
    "duration": 7,
    "start_time": "2021-11-19T14:34:44.755Z"
   },
   {
    "duration": 8,
    "start_time": "2021-11-19T14:34:44.764Z"
   },
   {
    "duration": 20,
    "start_time": "2021-11-19T14:34:44.773Z"
   },
   {
    "duration": 10,
    "start_time": "2021-11-19T14:34:44.794Z"
   },
   {
    "duration": 7,
    "start_time": "2021-11-19T14:34:44.910Z"
   },
   {
    "duration": 22,
    "start_time": "2021-11-19T14:34:45.173Z"
   },
   {
    "duration": 14,
    "start_time": "2021-11-19T14:34:45.197Z"
   },
   {
    "duration": 24,
    "start_time": "2021-11-19T14:34:45.213Z"
   },
   {
    "duration": 3,
    "start_time": "2021-11-19T14:34:45.239Z"
   },
   {
    "duration": 33,
    "start_time": "2021-11-19T14:34:45.244Z"
   },
   {
    "duration": 8,
    "start_time": "2021-11-19T14:34:45.278Z"
   },
   {
    "duration": 3,
    "start_time": "2021-11-19T14:34:45.324Z"
   },
   {
    "duration": 12,
    "start_time": "2021-11-19T14:34:45.329Z"
   },
   {
    "duration": 2,
    "start_time": "2021-11-19T14:34:45.464Z"
   },
   {
    "duration": 4,
    "start_time": "2021-11-19T14:34:45.468Z"
   },
   {
    "duration": 7,
    "start_time": "2021-11-19T14:34:45.474Z"
   },
   {
    "duration": 6,
    "start_time": "2021-11-19T14:34:45.483Z"
   },
   {
    "duration": 5,
    "start_time": "2021-11-19T14:34:45.490Z"
   },
   {
    "duration": 7,
    "start_time": "2021-11-19T14:34:45.497Z"
   },
   {
    "duration": 12,
    "start_time": "2021-11-19T14:34:45.506Z"
   },
   {
    "duration": 5,
    "start_time": "2021-11-19T14:34:45.520Z"
   },
   {
    "duration": 12,
    "start_time": "2021-11-19T14:34:45.527Z"
   },
   {
    "duration": 8,
    "start_time": "2021-11-19T14:34:45.540Z"
   },
   {
    "duration": 3,
    "start_time": "2021-11-19T14:34:45.791Z"
   },
   {
    "duration": 6,
    "start_time": "2021-11-19T14:34:45.795Z"
   },
   {
    "duration": 2,
    "start_time": "2021-11-19T14:34:45.804Z"
   },
   {
    "duration": 5,
    "start_time": "2021-11-19T14:34:45.808Z"
   },
   {
    "duration": 41,
    "start_time": "2021-11-19T14:38:09.498Z"
   },
   {
    "duration": 39,
    "start_time": "2021-11-19T14:38:29.682Z"
   },
   {
    "duration": 38,
    "start_time": "2021-11-19T14:38:53.839Z"
   },
   {
    "duration": 42,
    "start_time": "2021-11-19T14:39:04.036Z"
   },
   {
    "duration": 68,
    "start_time": "2021-11-19T14:39:57.194Z"
   },
   {
    "duration": 70,
    "start_time": "2021-11-19T14:44:56.833Z"
   },
   {
    "duration": 68,
    "start_time": "2021-11-19T14:45:21.108Z"
   },
   {
    "duration": 64,
    "start_time": "2021-11-19T14:52:22.940Z"
   },
   {
    "duration": 4,
    "start_time": "2021-11-19T14:52:37.191Z"
   },
   {
    "duration": 3,
    "start_time": "2021-11-19T14:52:45.498Z"
   },
   {
    "duration": 6,
    "start_time": "2021-11-19T14:55:21.339Z"
   },
   {
    "duration": 207,
    "start_time": "2021-11-20T06:18:29.383Z"
   },
   {
    "duration": 532,
    "start_time": "2021-11-20T06:18:36.031Z"
   },
   {
    "duration": 130,
    "start_time": "2021-11-20T06:18:36.565Z"
   },
   {
    "duration": 17,
    "start_time": "2021-11-20T06:18:36.698Z"
   },
   {
    "duration": 24,
    "start_time": "2021-11-20T06:18:36.717Z"
   },
   {
    "duration": 9,
    "start_time": "2021-11-20T06:18:36.742Z"
   },
   {
    "duration": 5,
    "start_time": "2021-11-20T06:18:36.753Z"
   },
   {
    "duration": 32,
    "start_time": "2021-11-20T06:18:36.759Z"
   },
   {
    "duration": 25,
    "start_time": "2021-11-20T06:18:36.794Z"
   },
   {
    "duration": 20,
    "start_time": "2021-11-20T06:18:36.821Z"
   },
   {
    "duration": 25,
    "start_time": "2021-11-20T06:18:36.843Z"
   },
   {
    "duration": 78,
    "start_time": "2021-11-20T06:18:36.870Z"
   },
   {
    "duration": 80,
    "start_time": "2021-11-20T06:18:36.949Z"
   },
   {
    "duration": 50,
    "start_time": "2021-11-20T06:18:37.030Z"
   },
   {
    "duration": 7,
    "start_time": "2021-11-20T06:18:37.091Z"
   },
   {
    "duration": 3,
    "start_time": "2021-11-20T06:18:37.100Z"
   },
   {
    "duration": 13,
    "start_time": "2021-11-20T06:18:37.105Z"
   },
   {
    "duration": 6,
    "start_time": "2021-11-20T06:18:37.120Z"
   },
   {
    "duration": 7,
    "start_time": "2021-11-20T06:18:37.127Z"
   },
   {
    "duration": 22,
    "start_time": "2021-11-20T06:18:37.135Z"
   },
   {
    "duration": 38,
    "start_time": "2021-11-20T06:18:37.158Z"
   },
   {
    "duration": 9,
    "start_time": "2021-11-20T06:18:37.197Z"
   },
   {
    "duration": 63,
    "start_time": "2021-11-20T06:18:37.208Z"
   },
   {
    "duration": 2,
    "start_time": "2021-11-20T06:18:37.293Z"
   },
   {
    "duration": 8,
    "start_time": "2021-11-20T06:18:37.297Z"
   },
   {
    "duration": 5,
    "start_time": "2021-11-20T06:18:37.306Z"
   },
   {
    "duration": 4,
    "start_time": "2021-11-20T06:18:37.312Z"
   },
   {
    "duration": 5,
    "start_time": "2021-11-20T06:18:37.318Z"
   },
   {
    "duration": 6,
    "start_time": "2021-11-20T06:18:37.324Z"
   },
   {
    "duration": 8,
    "start_time": "2021-11-20T06:18:37.331Z"
   },
   {
    "duration": 12,
    "start_time": "2021-11-20T06:18:37.341Z"
   },
   {
    "duration": 10,
    "start_time": "2021-11-20T06:18:37.354Z"
   },
   {
    "duration": 3,
    "start_time": "2021-11-20T06:18:37.366Z"
   },
   {
    "duration": 13,
    "start_time": "2021-11-20T06:18:37.391Z"
   },
   {
    "duration": 3,
    "start_time": "2021-11-20T06:18:37.405Z"
   },
   {
    "duration": 6,
    "start_time": "2021-11-20T06:18:37.409Z"
   },
   {
    "duration": 5,
    "start_time": "2021-11-20T06:18:37.416Z"
   },
   {
    "duration": 5,
    "start_time": "2021-11-20T06:18:37.422Z"
   },
   {
    "duration": 5,
    "start_time": "2021-11-20T06:18:37.428Z"
   },
   {
    "duration": 4,
    "start_time": "2021-11-20T06:18:37.435Z"
   },
   {
    "duration": 5,
    "start_time": "2021-11-20T06:18:37.440Z"
   },
   {
    "duration": 13,
    "start_time": "2021-11-20T06:18:56.262Z"
   },
   {
    "duration": 11,
    "start_time": "2021-11-20T06:18:58.097Z"
   },
   {
    "duration": 4,
    "start_time": "2021-11-20T06:19:04.328Z"
   },
   {
    "duration": 886,
    "start_time": "2021-11-20T06:19:51.759Z"
   },
   {
    "duration": 9,
    "start_time": "2021-11-20T06:20:18.912Z"
   },
   {
    "duration": 13,
    "start_time": "2021-11-20T06:20:25.878Z"
   },
   {
    "duration": 14,
    "start_time": "2021-11-20T06:21:29.298Z"
   },
   {
    "duration": 13,
    "start_time": "2021-11-20T06:21:47.519Z"
   },
   {
    "duration": 12,
    "start_time": "2021-11-20T06:21:58.375Z"
   },
   {
    "duration": 10,
    "start_time": "2021-11-20T06:22:50.432Z"
   },
   {
    "duration": 13,
    "start_time": "2021-11-20T06:22:59.367Z"
   },
   {
    "duration": 13,
    "start_time": "2021-11-20T06:23:09.338Z"
   },
   {
    "duration": 3,
    "start_time": "2021-11-20T06:23:31.225Z"
   },
   {
    "duration": 161,
    "start_time": "2021-11-20T06:23:31.233Z"
   },
   {
    "duration": 10,
    "start_time": "2021-11-20T06:23:31.396Z"
   },
   {
    "duration": 47,
    "start_time": "2021-11-20T06:23:31.408Z"
   },
   {
    "duration": 4,
    "start_time": "2021-11-20T06:23:31.457Z"
   },
   {
    "duration": 14,
    "start_time": "2021-11-20T06:23:31.462Z"
   },
   {
    "duration": 10,
    "start_time": "2021-11-20T06:23:31.477Z"
   },
   {
    "duration": 28,
    "start_time": "2021-11-20T06:23:31.488Z"
   },
   {
    "duration": 20,
    "start_time": "2021-11-20T06:23:31.518Z"
   },
   {
    "duration": 20,
    "start_time": "2021-11-20T06:23:31.540Z"
   },
   {
    "duration": 77,
    "start_time": "2021-11-20T06:23:31.562Z"
   },
   {
    "duration": 75,
    "start_time": "2021-11-20T06:23:31.641Z"
   },
   {
    "duration": 49,
    "start_time": "2021-11-20T06:23:31.718Z"
   },
   {
    "duration": 6,
    "start_time": "2021-11-20T06:23:31.769Z"
   },
   {
    "duration": 17,
    "start_time": "2021-11-20T06:23:31.776Z"
   },
   {
    "duration": 12,
    "start_time": "2021-11-20T06:23:31.794Z"
   },
   {
    "duration": 6,
    "start_time": "2021-11-20T06:23:31.807Z"
   },
   {
    "duration": 6,
    "start_time": "2021-11-20T06:23:31.815Z"
   },
   {
    "duration": 28,
    "start_time": "2021-11-20T06:23:31.822Z"
   },
   {
    "duration": 10,
    "start_time": "2021-11-20T06:23:31.852Z"
   },
   {
    "duration": 35,
    "start_time": "2021-11-20T06:23:31.863Z"
   },
   {
    "duration": 63,
    "start_time": "2021-11-20T06:23:31.900Z"
   },
   {
    "duration": 2,
    "start_time": "2021-11-20T06:23:31.965Z"
   },
   {
    "duration": 4,
    "start_time": "2021-11-20T06:23:31.970Z"
   },
   {
    "duration": 2,
    "start_time": "2021-11-20T06:23:31.992Z"
   },
   {
    "duration": 5,
    "start_time": "2021-11-20T06:23:31.996Z"
   },
   {
    "duration": 17,
    "start_time": "2021-11-20T06:23:32.002Z"
   },
   {
    "duration": 6,
    "start_time": "2021-11-20T06:23:32.020Z"
   },
   {
    "duration": 25,
    "start_time": "2021-11-20T06:23:32.028Z"
   },
   {
    "duration": 17,
    "start_time": "2021-11-20T06:23:32.055Z"
   },
   {
    "duration": 10,
    "start_time": "2021-11-20T06:23:32.073Z"
   },
   {
    "duration": 6,
    "start_time": "2021-11-20T06:23:32.085Z"
   },
   {
    "duration": 27,
    "start_time": "2021-11-20T06:23:32.092Z"
   },
   {
    "duration": 23,
    "start_time": "2021-11-20T06:23:32.121Z"
   },
   {
    "duration": 54,
    "start_time": "2021-11-20T06:23:32.146Z"
   },
   {
    "duration": 90,
    "start_time": "2021-11-20T06:23:32.201Z"
   },
   {
    "duration": 64,
    "start_time": "2021-11-20T06:23:32.293Z"
   },
   {
    "duration": 65,
    "start_time": "2021-11-20T06:23:32.358Z"
   },
   {
    "duration": 43,
    "start_time": "2021-11-20T06:23:32.425Z"
   },
   {
    "duration": 32,
    "start_time": "2021-11-20T06:23:32.470Z"
   },
   {
    "duration": 9,
    "start_time": "2021-11-20T06:28:08.827Z"
   },
   {
    "duration": 5,
    "start_time": "2021-11-20T06:28:10.874Z"
   },
   {
    "duration": 6,
    "start_time": "2021-11-20T06:29:09.699Z"
   },
   {
    "duration": 5,
    "start_time": "2021-11-20T06:29:26.615Z"
   },
   {
    "duration": 2,
    "start_time": "2021-11-20T06:39:12.808Z"
   },
   {
    "duration": 133,
    "start_time": "2021-11-20T06:39:12.814Z"
   },
   {
    "duration": 10,
    "start_time": "2021-11-20T06:39:12.948Z"
   },
   {
    "duration": 35,
    "start_time": "2021-11-20T06:39:12.960Z"
   },
   {
    "duration": 4,
    "start_time": "2021-11-20T06:39:12.996Z"
   },
   {
    "duration": 6,
    "start_time": "2021-11-20T06:39:13.001Z"
   },
   {
    "duration": 6,
    "start_time": "2021-11-20T06:39:13.008Z"
   },
   {
    "duration": 22,
    "start_time": "2021-11-20T06:39:13.016Z"
   },
   {
    "duration": 52,
    "start_time": "2021-11-20T06:39:13.041Z"
   },
   {
    "duration": 22,
    "start_time": "2021-11-20T06:39:13.095Z"
   },
   {
    "duration": 52,
    "start_time": "2021-11-20T06:39:13.118Z"
   },
   {
    "duration": 71,
    "start_time": "2021-11-20T06:39:13.172Z"
   },
   {
    "duration": 62,
    "start_time": "2021-11-20T06:39:13.244Z"
   },
   {
    "duration": 6,
    "start_time": "2021-11-20T06:39:13.308Z"
   },
   {
    "duration": 35,
    "start_time": "2021-11-20T06:39:13.315Z"
   },
   {
    "duration": 38,
    "start_time": "2021-11-20T06:39:13.352Z"
   },
   {
    "duration": 9,
    "start_time": "2021-11-20T06:39:13.392Z"
   },
   {
    "duration": 6,
    "start_time": "2021-11-20T06:39:13.403Z"
   },
   {
    "duration": 23,
    "start_time": "2021-11-20T06:39:13.410Z"
   },
   {
    "duration": 9,
    "start_time": "2021-11-20T06:39:13.435Z"
   },
   {
    "duration": 9,
    "start_time": "2021-11-20T06:39:13.445Z"
   },
   {
    "duration": 87,
    "start_time": "2021-11-20T06:39:13.455Z"
   },
   {
    "duration": 2,
    "start_time": "2021-11-20T06:39:13.543Z"
   },
   {
    "duration": 4,
    "start_time": "2021-11-20T06:39:13.548Z"
   },
   {
    "duration": 5,
    "start_time": "2021-11-20T06:39:13.553Z"
   },
   {
    "duration": 5,
    "start_time": "2021-11-20T06:39:13.559Z"
   },
   {
    "duration": 5,
    "start_time": "2021-11-20T06:39:13.565Z"
   },
   {
    "duration": 4,
    "start_time": "2021-11-20T06:39:13.571Z"
   },
   {
    "duration": 5,
    "start_time": "2021-11-20T06:39:13.592Z"
   },
   {
    "duration": 14,
    "start_time": "2021-11-20T06:39:13.599Z"
   },
   {
    "duration": 9,
    "start_time": "2021-11-20T06:39:13.615Z"
   },
   {
    "duration": 4,
    "start_time": "2021-11-20T06:39:13.625Z"
   },
   {
    "duration": 19,
    "start_time": "2021-11-20T06:39:13.631Z"
   },
   {
    "duration": 12,
    "start_time": "2021-11-20T06:39:13.651Z"
   },
   {
    "duration": 39,
    "start_time": "2021-11-20T06:39:13.664Z"
   },
   {
    "duration": 11,
    "start_time": "2021-11-20T06:39:13.705Z"
   },
   {
    "duration": 8,
    "start_time": "2021-11-20T06:39:13.717Z"
   },
   {
    "duration": 4,
    "start_time": "2021-11-20T06:39:13.727Z"
   },
   {
    "duration": 7,
    "start_time": "2021-11-20T06:39:13.733Z"
   },
   {
    "duration": 5,
    "start_time": "2021-11-20T06:39:13.741Z"
   },
   {
    "duration": 393,
    "start_time": "2021-11-20T16:06:43.555Z"
   },
   {
    "duration": 764,
    "start_time": "2021-11-20T16:06:49.821Z"
   },
   {
    "duration": 195,
    "start_time": "2021-11-20T16:06:50.587Z"
   },
   {
    "duration": 26,
    "start_time": "2021-11-20T16:06:50.785Z"
   },
   {
    "duration": 33,
    "start_time": "2021-11-20T16:06:50.813Z"
   },
   {
    "duration": 34,
    "start_time": "2021-11-20T16:06:50.849Z"
   },
   {
    "duration": 4,
    "start_time": "2021-11-20T16:06:50.886Z"
   },
   {
    "duration": 14,
    "start_time": "2021-11-20T16:06:50.892Z"
   },
   {
    "duration": 14,
    "start_time": "2021-11-20T16:06:50.909Z"
   },
   {
    "duration": 33,
    "start_time": "2021-11-20T16:06:50.926Z"
   },
   {
    "duration": 49,
    "start_time": "2021-11-20T16:06:50.961Z"
   },
   {
    "duration": 32,
    "start_time": "2021-11-20T16:06:51.012Z"
   },
   {
    "duration": 113,
    "start_time": "2021-11-20T16:06:51.046Z"
   },
   {
    "duration": 106,
    "start_time": "2021-11-20T16:06:51.162Z"
   },
   {
    "duration": 88,
    "start_time": "2021-11-20T16:06:51.271Z"
   },
   {
    "duration": 93,
    "start_time": "2021-11-20T16:06:51.361Z"
   },
   {
    "duration": 6,
    "start_time": "2021-11-20T16:06:51.456Z"
   },
   {
    "duration": 33,
    "start_time": "2021-11-20T16:06:51.464Z"
   },
   {
    "duration": 12,
    "start_time": "2021-11-20T16:06:51.499Z"
   },
   {
    "duration": 9,
    "start_time": "2021-11-20T16:06:51.514Z"
   },
   {
    "duration": 59,
    "start_time": "2021-11-20T16:06:51.526Z"
   },
   {
    "duration": 17,
    "start_time": "2021-11-20T16:06:51.588Z"
   },
   {
    "duration": 16,
    "start_time": "2021-11-20T16:06:51.607Z"
   },
   {
    "duration": 124,
    "start_time": "2021-11-20T16:06:51.630Z"
   },
   {
    "duration": 4,
    "start_time": "2021-11-20T16:06:51.757Z"
   },
   {
    "duration": 20,
    "start_time": "2021-11-20T16:06:51.763Z"
   },
   {
    "duration": 5,
    "start_time": "2021-11-20T16:06:51.786Z"
   },
   {
    "duration": 5,
    "start_time": "2021-11-20T16:06:51.794Z"
   },
   {
    "duration": 6,
    "start_time": "2021-11-20T16:06:51.801Z"
   },
   {
    "duration": 6,
    "start_time": "2021-11-20T16:06:51.809Z"
   },
   {
    "duration": 10,
    "start_time": "2021-11-20T16:06:51.817Z"
   },
   {
    "duration": 57,
    "start_time": "2021-11-20T16:06:51.830Z"
   },
   {
    "duration": 13,
    "start_time": "2021-11-20T16:06:51.890Z"
   },
   {
    "duration": 19,
    "start_time": "2021-11-20T16:06:51.905Z"
   },
   {
    "duration": 38,
    "start_time": "2021-11-20T16:06:51.926Z"
   },
   {
    "duration": 31,
    "start_time": "2021-11-20T16:06:51.966Z"
   },
   {
    "duration": 32,
    "start_time": "2021-11-20T16:06:52.000Z"
   },
   {
    "duration": 17,
    "start_time": "2021-11-20T16:06:52.034Z"
   },
   {
    "duration": 29,
    "start_time": "2021-11-20T16:06:52.053Z"
   },
   {
    "duration": 6,
    "start_time": "2021-11-20T16:06:52.085Z"
   },
   {
    "duration": 9,
    "start_time": "2021-11-20T16:06:52.094Z"
   },
   {
    "duration": 6,
    "start_time": "2021-11-20T16:06:52.106Z"
   }
  ],
  "colab": {
   "collapsed_sections": [
    "E0vqbgi9ay0H",
    "VUC88oWjTJw2"
   ],
   "name": "yandex_music_project_2021.2.ipynb",
   "provenance": []
  },
  "kernelspec": {
   "display_name": "Python 3 (ipykernel)",
   "language": "python",
   "name": "python3"
  },
  "language_info": {
   "codemirror_mode": {
    "name": "ipython",
    "version": 3
   },
   "file_extension": ".py",
   "mimetype": "text/x-python",
   "name": "python",
   "nbconvert_exporter": "python",
   "pygments_lexer": "ipython3",
   "version": "3.9.7"
  },
  "toc": {
   "base_numbering": 1,
   "nav_menu": {},
   "number_sections": true,
   "sideBar": true,
   "skip_h1_title": true,
   "title_cell": "Table of Contents",
   "title_sidebar": "Contents",
   "toc_cell": false,
   "toc_position": {},
   "toc_section_display": true,
   "toc_window_display": true
  }
 },
 "nbformat": 4,
 "nbformat_minor": 1
}
