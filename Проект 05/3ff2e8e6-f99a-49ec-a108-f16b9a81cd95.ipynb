{
 "cells": [
  {
   "cell_type": "markdown",
   "metadata": {},
   "source": [
    "## **Оглавление**\n",
    "\n",
    "### **[Введение](#1)**\n",
    "### **1. [Обзор данных](#2)**  \n",
    "### **2. [Предобработка данных](#3)**  \n",
    "    2.1 Изменение названий столбцов\n",
    "    2.2 Обработка некорректных значений\n",
    "    2.3 Обработка пропусков\n",
    "    2.4 Изменение типов данных\n",
    "    2.5 Обработка дубликатов\n",
    "    2.6 Подготовка данных\n",
    "### 4. [Исследовательский анализ данных](#4)\n",
    "    3.1 Продажи по платформам\n",
    "    3.2 Распределение игр по жанрам\n",
    "    3.3 Портрет пользователя каждого региона\n",
    "    3.4 Влияние рейтинга ESRB на продажи в отдельном регионе\n",
    "### 5. [Проверка гипотез](#9)\n",
    "### **[Итоги исследования](#10)**"
   ]
  },
  {
   "cell_type": "markdown",
   "metadata": {},
   "source": [
    "# Сборный проект: изучение рынка компьютерных игр"
   ]
  },
  {
   "cell_type": "markdown",
   "metadata": {},
   "source": [
    "## Введение  <a id='1'></a>\n",
    "\n",
    "Интернет-магазин «Стримчик» продаёт по всему миру компьютерные игры. Чтобы сделать ставку на потенциально популярный продукт и спланировать рекламные кампании, нам нужно выявить определяющие успешность игры закономерности.  \n",
    "\n",
    "**Цели:**\n",
    "1. Провести исследовательский анализ данных;  \n",
    "2. На основе анализа проверить гопотезы:  \n",
    "    - Средние пользовательские рейтинги платформ Xbox One и PC одинаковые;  \n",
    "    - Средние пользовательские рейтинги жанров Action и Sports разные.  \n",
    "\n",
    "Из открытых источников доступны исторические данные о продажах игр до 2016 года, оценки пользователей и экспертов, жанры и платформы.  \n",
    "\n",
    "Исследование проводится в четыре этапа:  \n",
    "\n",
    "1. Обзор данных  \n",
    "2. Предобработка данных    \n",
    "3. Исследовательский анализ данных  \n",
    "4. Проверки гипотез  "
   ]
  },
  {
   "cell_type": "markdown",
   "metadata": {},
   "source": [
    "## Обзор данных  <a id='2'></a>\n",
    "\n",
    "Ознакомимся с входными данными."
   ]
  },
  {
   "cell_type": "code",
   "execution_count": 79,
   "metadata": {},
   "outputs": [],
   "source": [
    "#импортируем библиотеки\n",
    "\n",
    "import pandas as pd\n",
    "\n",
    "import numpy as np\n",
    "\n",
    "import matplotlib.pyplot as plt   \n",
    "\n",
    "from scipy import stats as st\n",
    "\n",
    "import seaborn as sns"
   ]
  },
  {
   "cell_type": "code",
   "execution_count": 80,
   "metadata": {},
   "outputs": [],
   "source": [
    "import warnings\n",
    "\n",
    "warnings.filterwarnings('ignore') #игнорируем предупреждения"
   ]
  },
  {
   "cell_type": "markdown",
   "metadata": {},
   "source": [
    "Прочитаем файл с данными."
   ]
  },
  {
   "cell_type": "code",
   "execution_count": 81,
   "metadata": {},
   "outputs": [
    {
     "data": {
      "text/html": [
       "<div>\n",
       "<style scoped>\n",
       "    .dataframe tbody tr th:only-of-type {\n",
       "        vertical-align: middle;\n",
       "    }\n",
       "\n",
       "    .dataframe tbody tr th {\n",
       "        vertical-align: top;\n",
       "    }\n",
       "\n",
       "    .dataframe thead th {\n",
       "        text-align: right;\n",
       "    }\n",
       "</style>\n",
       "<table border=\"1\" class=\"dataframe\">\n",
       "  <thead>\n",
       "    <tr style=\"text-align: right;\">\n",
       "      <th></th>\n",
       "      <th>Name</th>\n",
       "      <th>Platform</th>\n",
       "      <th>Year_of_Release</th>\n",
       "      <th>Genre</th>\n",
       "      <th>NA_sales</th>\n",
       "      <th>EU_sales</th>\n",
       "      <th>JP_sales</th>\n",
       "      <th>Other_sales</th>\n",
       "      <th>Critic_Score</th>\n",
       "      <th>User_Score</th>\n",
       "      <th>Rating</th>\n",
       "    </tr>\n",
       "  </thead>\n",
       "  <tbody>\n",
       "    <tr>\n",
       "      <td>0</td>\n",
       "      <td>Wii Sports</td>\n",
       "      <td>Wii</td>\n",
       "      <td>2006.0</td>\n",
       "      <td>Sports</td>\n",
       "      <td>41.36</td>\n",
       "      <td>28.96</td>\n",
       "      <td>3.77</td>\n",
       "      <td>8.45</td>\n",
       "      <td>76.0</td>\n",
       "      <td>8</td>\n",
       "      <td>E</td>\n",
       "    </tr>\n",
       "    <tr>\n",
       "      <td>1</td>\n",
       "      <td>Super Mario Bros.</td>\n",
       "      <td>NES</td>\n",
       "      <td>1985.0</td>\n",
       "      <td>Platform</td>\n",
       "      <td>29.08</td>\n",
       "      <td>3.58</td>\n",
       "      <td>6.81</td>\n",
       "      <td>0.77</td>\n",
       "      <td>NaN</td>\n",
       "      <td>NaN</td>\n",
       "      <td>NaN</td>\n",
       "    </tr>\n",
       "    <tr>\n",
       "      <td>2</td>\n",
       "      <td>Mario Kart Wii</td>\n",
       "      <td>Wii</td>\n",
       "      <td>2008.0</td>\n",
       "      <td>Racing</td>\n",
       "      <td>15.68</td>\n",
       "      <td>12.76</td>\n",
       "      <td>3.79</td>\n",
       "      <td>3.29</td>\n",
       "      <td>82.0</td>\n",
       "      <td>8.3</td>\n",
       "      <td>E</td>\n",
       "    </tr>\n",
       "    <tr>\n",
       "      <td>3</td>\n",
       "      <td>Wii Sports Resort</td>\n",
       "      <td>Wii</td>\n",
       "      <td>2009.0</td>\n",
       "      <td>Sports</td>\n",
       "      <td>15.61</td>\n",
       "      <td>10.93</td>\n",
       "      <td>3.28</td>\n",
       "      <td>2.95</td>\n",
       "      <td>80.0</td>\n",
       "      <td>8</td>\n",
       "      <td>E</td>\n",
       "    </tr>\n",
       "    <tr>\n",
       "      <td>4</td>\n",
       "      <td>Pokemon Red/Pokemon Blue</td>\n",
       "      <td>GB</td>\n",
       "      <td>1996.0</td>\n",
       "      <td>Role-Playing</td>\n",
       "      <td>11.27</td>\n",
       "      <td>8.89</td>\n",
       "      <td>10.22</td>\n",
       "      <td>1.00</td>\n",
       "      <td>NaN</td>\n",
       "      <td>NaN</td>\n",
       "      <td>NaN</td>\n",
       "    </tr>\n",
       "  </tbody>\n",
       "</table>\n",
       "</div>"
      ],
      "text/plain": [
       "                       Name Platform  Year_of_Release         Genre  NA_sales  \\\n",
       "0                Wii Sports      Wii           2006.0        Sports     41.36   \n",
       "1         Super Mario Bros.      NES           1985.0      Platform     29.08   \n",
       "2            Mario Kart Wii      Wii           2008.0        Racing     15.68   \n",
       "3         Wii Sports Resort      Wii           2009.0        Sports     15.61   \n",
       "4  Pokemon Red/Pokemon Blue       GB           1996.0  Role-Playing     11.27   \n",
       "\n",
       "   EU_sales  JP_sales  Other_sales  Critic_Score User_Score Rating  \n",
       "0     28.96      3.77         8.45          76.0          8      E  \n",
       "1      3.58      6.81         0.77           NaN        NaN    NaN  \n",
       "2     12.76      3.79         3.29          82.0        8.3      E  \n",
       "3     10.93      3.28         2.95          80.0          8      E  \n",
       "4      8.89     10.22         1.00           NaN        NaN    NaN  "
      ]
     },
     "metadata": {},
     "output_type": "display_data"
    },
    {
     "name": "stdout",
     "output_type": "stream",
     "text": [
      "<class 'pandas.core.frame.DataFrame'>\n",
      "RangeIndex: 16715 entries, 0 to 16714\n",
      "Data columns (total 11 columns):\n",
      "Name               16713 non-null object\n",
      "Platform           16715 non-null object\n",
      "Year_of_Release    16446 non-null float64\n",
      "Genre              16713 non-null object\n",
      "NA_sales           16715 non-null float64\n",
      "EU_sales           16715 non-null float64\n",
      "JP_sales           16715 non-null float64\n",
      "Other_sales        16715 non-null float64\n",
      "Critic_Score       8137 non-null float64\n",
      "User_Score         10014 non-null object\n",
      "Rating             9949 non-null object\n",
      "dtypes: float64(6), object(5)\n",
      "memory usage: 1.4+ MB\n"
     ]
    },
    {
     "data": {
      "text/plain": [
       "None"
      ]
     },
     "metadata": {},
     "output_type": "display_data"
    }
   ],
   "source": [
    "#прочитаем файл с данными и сохраним его в переменной data\n",
    "data = pd.read_csv('/datasets/games.csv')\n",
    "\n",
    "display(data.head()) #выведем на экран первые 5 строк таблицы\n",
    "display(data.info()) #получим общую информацию о таблице"
   ]
  },
  {
   "cell_type": "markdown",
   "metadata": {},
   "source": [
    "Согласно документации к данным:  \n",
    "\n",
    "- Name — название игры  \n",
    "- Platform — платформа  \n",
    "- Year_of_Release — год выпуска  \n",
    "- Genre — жанр игры  \n",
    "- NA_sales — продажи в Северной Америке (миллионы проданных копий)  \n",
    "- EU_sales — продажи в Европе (миллионы проданных копий)  \n",
    "- JP_sales — продажи в Японии (миллионы проданных копий)  \n",
    "- Other_sales — продажи в других странах (миллионы проданных копий)  \n",
    "- Critic_Score — оценка критиков (максимум 100)  \n",
    "- User_Score — оценка пользователей (максимум 10)  \n",
    "- Rating — рейтинг от организации ESRB (англ. Entertainment Software Rating Board):  \n",
    "    - «EC» («Early childhood») — «Для детей младшего возраста»;\n",
    "    - «E» («Everyone») — «Для всех»;\n",
    "    - «E10+» («Everyone 10 and older») — «Для всех от 10 лет и старше»;\n",
    "    - «T» («Teen») — «Подросткам»;\n",
    "    - «M» («Mature») — «Для взрослых»;\n",
    "    - «AO» («Adults Only 18+») — «Только для взрослых»;\n",
    "    - «RP» («Rating Pending») — «Рейтинг ожидается»"
   ]
  },
  {
   "cell_type": "markdown",
   "metadata": {},
   "source": [
    "### Вывод  \n",
    "\n",
    "В таблице 11 столбцов, названия нужно привести к единому стилю.  \n",
    "\n",
    "В каждой строке таблицы — данные об игре, колонки описывают ее название, год и платформу релиза, жанр, продажи в разных странах, оценку критиков и пользователей, рейтинг от ESRB.  \n",
    "\n",
    "Количество non-null значений в столбцах различается, следовательно есть пропуски значений.   \n",
    "\n",
    "В столбце Year_of_Release изменим тип данных с float64 на Int64 и округлим значения для удобства работы. В столбце User_Score поменяем тип данных с object на float64, так как в столбец записаны дробные числа. "
   ]
  },
  {
   "cell_type": "markdown",
   "metadata": {},
   "source": [
    "## Предобработка данных  <a id='3'></a> \n",
    "\n",
    "### Изменение названий столбцов  \n",
    "\n",
    "Приведем названия столбцов к единому стилю.  "
   ]
  },
  {
   "cell_type": "code",
   "execution_count": 82,
   "metadata": {
    "scrolled": false
   },
   "outputs": [
    {
     "data": {
      "text/plain": [
       "Index(['name', 'platform', 'year_of_release', 'genre', 'na_sales', 'eu_sales',\n",
       "       'jp_sales', 'other_sales', 'critic_score', 'user_score', 'rating'],\n",
       "      dtype='object')"
      ]
     },
     "execution_count": 82,
     "metadata": {},
     "output_type": "execute_result"
    }
   ],
   "source": [
    "data.columns = data.columns.str.lower() #приведем названия колонок к нижнему регистру\n",
    "data.columns #выведем названия колонок"
   ]
  },
  {
   "cell_type": "markdown",
   "metadata": {},
   "source": [
    "### Обработка некорректных значений  \n",
    "\n",
    "Просмотрим уникальные значения во всех столбцах кроме 'name', 'na_sales', 'eu_sales', 'jp_sales', 'other_sales', чтобы найти некорректные значения."
   ]
  },
  {
   "cell_type": "code",
   "execution_count": 83,
   "metadata": {},
   "outputs": [
    {
     "name": "stdout",
     "output_type": "stream",
     "text": [
      "platform :  ['Wii' 'NES' 'GB' 'DS' 'X360' 'PS3' 'PS2' 'SNES' 'GBA' 'PS4' '3DS' 'N64'\n",
      " 'PS' 'XB' 'PC' '2600' 'PSP' 'XOne' 'WiiU' 'GC' 'GEN' 'DC' 'PSV' 'SAT'\n",
      " 'SCD' 'WS' 'NG' 'TG16' '3DO' 'GG' 'PCFX']\n",
      "\n",
      "year_of_release :  [2006. 1985. 2008. 2009. 1996. 1989. 1984. 2005. 1999. 2007. 2010. 2013.\n",
      " 2004. 1990. 1988. 2002. 2001. 2011. 1998. 2015. 2012. 2014. 1992. 1997.\n",
      " 1993. 1994. 1982. 2016. 2003. 1986. 2000.   nan 1995. 1991. 1981. 1987.\n",
      " 1980. 1983.]\n",
      "\n",
      "genre :  ['Sports' 'Platform' 'Racing' 'Role-Playing' 'Puzzle' 'Misc' 'Shooter'\n",
      " 'Simulation' 'Action' 'Fighting' 'Adventure' 'Strategy' nan]\n",
      "\n",
      "critic_score :  [76. nan 82. 80. 89. 58. 87. 91. 61. 97. 95. 77. 88. 83. 94. 93. 85. 86.\n",
      " 98. 96. 90. 84. 73. 74. 78. 92. 71. 72. 68. 62. 49. 67. 81. 66. 56. 79.\n",
      " 70. 59. 64. 75. 60. 63. 69. 50. 25. 42. 44. 55. 48. 57. 29. 47. 65. 54.\n",
      " 20. 53. 37. 38. 33. 52. 30. 32. 43. 45. 51. 40. 46. 39. 34. 35. 41. 36.\n",
      " 28. 31. 27. 26. 19. 23. 24. 21. 17. 22. 13.]\n",
      "\n",
      "user_score :  ['8' nan '8.3' '8.5' '6.6' '8.4' '8.6' '7.7' '6.3' '7.4' '8.2' '9' '7.9'\n",
      " '8.1' '8.7' '7.1' '3.4' '5.3' '4.8' '3.2' '8.9' '6.4' '7.8' '7.5' '2.6'\n",
      " '7.2' '9.2' '7' '7.3' '4.3' '7.6' '5.7' '5' '9.1' '6.5' 'tbd' '8.8' '6.9'\n",
      " '9.4' '6.8' '6.1' '6.7' '5.4' '4' '4.9' '4.5' '9.3' '6.2' '4.2' '6' '3.7'\n",
      " '4.1' '5.8' '5.6' '5.5' '4.4' '4.6' '5.9' '3.9' '3.1' '2.9' '5.2' '3.3'\n",
      " '4.7' '5.1' '3.5' '2.5' '1.9' '3' '2.7' '2.2' '2' '9.5' '2.1' '3.6' '2.8'\n",
      " '1.8' '3.8' '0' '1.6' '9.6' '2.4' '1.7' '1.1' '0.3' '1.5' '0.7' '1.2'\n",
      " '2.3' '0.5' '1.3' '0.2' '0.6' '1.4' '0.9' '1' '9.7']\n",
      "\n",
      "rating :  ['E' nan 'M' 'T' 'E10+' 'K-A' 'AO' 'EC' 'RP']\n",
      "\n"
     ]
    }
   ],
   "source": [
    "#сохраним в переменную unique_colomns таблицу со всеми столбцами, кроме 'na_sales', 'eu_sales','jp_sales', 'other_sales'\n",
    "unique_colomns = data.drop(['name', 'na_sales', 'eu_sales', 'jp_sales', 'other_sales'], axis=1)\n",
    "#создаем цикл, который выведет уникальные значения по всем столбцам\n",
    "for col in unique_colomns: \n",
    "    print(col, ': ', data[col].unique())\n",
    "    print()"
   ]
  },
  {
   "cell_type": "markdown",
   "metadata": {},
   "source": [
    "- В столбце user_score есть строки со значением 'tbd'. Можно предположить, что TBD - аббревиатура от английского To Be Determined (будет определено), используется, если какая-то информация еще не определена или решение по вопросу не принято, то есть это намеренный пропуск значения.\n",
    "\n",
    "   Заменим 'tbd' на NaN."
   ]
  },
  {
   "cell_type": "code",
   "execution_count": 84,
   "metadata": {},
   "outputs": [],
   "source": [
    "#меняем значения 'tbd' на nan\n",
    "data.loc[data['user_score'] == 'tbd', 'user_score'] = np.nan"
   ]
  },
  {
   "cell_type": "code",
   "execution_count": 85,
   "metadata": {},
   "outputs": [
    {
     "data": {
      "text/plain": [
       "array(['8', nan, '8.3', '8.5', '6.6', '8.4', '8.6', '7.7', '6.3', '7.4',\n",
       "       '8.2', '9', '7.9', '8.1', '8.7', '7.1', '3.4', '5.3', '4.8', '3.2',\n",
       "       '8.9', '6.4', '7.8', '7.5', '2.6', '7.2', '9.2', '7', '7.3', '4.3',\n",
       "       '7.6', '5.7', '5', '9.1', '6.5', '8.8', '6.9', '9.4', '6.8', '6.1',\n",
       "       '6.7', '5.4', '4', '4.9', '4.5', '9.3', '6.2', '4.2', '6', '3.7',\n",
       "       '4.1', '5.8', '5.6', '5.5', '4.4', '4.6', '5.9', '3.9', '3.1',\n",
       "       '2.9', '5.2', '3.3', '4.7', '5.1', '3.5', '2.5', '1.9', '3', '2.7',\n",
       "       '2.2', '2', '9.5', '2.1', '3.6', '2.8', '1.8', '3.8', '0', '1.6',\n",
       "       '9.6', '2.4', '1.7', '1.1', '0.3', '1.5', '0.7', '1.2', '2.3',\n",
       "       '0.5', '1.3', '0.2', '0.6', '1.4', '0.9', '1', '9.7'], dtype=object)"
      ]
     },
     "execution_count": 85,
     "metadata": {},
     "output_type": "execute_result"
    }
   ],
   "source": [
    "#выводим уникальные значения, чтобы убедиться, что изменения произошли\n",
    "data['user_score'].unique() "
   ]
  },
  {
   "cell_type": "markdown",
   "metadata": {},
   "source": [
    "- В столбце rating категория «E» («Everyone») первоначально указывалась как «K-A» («Kids to Adults»), поэтому лучше привести все игры данной категории к единому «E».  \n",
    "\n",
    "  Заменим «K-A» на «E»."
   ]
  },
  {
   "cell_type": "code",
   "execution_count": 86,
   "metadata": {},
   "outputs": [],
   "source": [
    "#меняем значения 'K-A' на 'E'\n",
    "data.loc[data['rating'] == 'K-A', 'rating'] = 'E'"
   ]
  },
  {
   "cell_type": "code",
   "execution_count": 87,
   "metadata": {},
   "outputs": [
    {
     "data": {
      "text/plain": [
       "array(['E', nan, 'M', 'T', 'E10+', 'AO', 'EC', 'RP'], dtype=object)"
      ]
     },
     "execution_count": 87,
     "metadata": {},
     "output_type": "execute_result"
    }
   ],
   "source": [
    "#выводим уникальные значения, чтобы убедиться, что изменения произошли\n",
    "data['rating'].unique()"
   ]
  },
  {
   "cell_type": "markdown",
   "metadata": {},
   "source": [
    "- В остальных столбцах значения корректны."
   ]
  },
  {
   "cell_type": "markdown",
   "metadata": {},
   "source": [
    "### Обработка пропусков  \n",
    "\n",
    "Посчитаем количество пропусков в каждом столбце."
   ]
  },
  {
   "cell_type": "code",
   "execution_count": 88,
   "metadata": {
    "scrolled": false
   },
   "outputs": [
    {
     "data": {
      "text/plain": [
       "name                  2\n",
       "platform              0\n",
       "year_of_release     269\n",
       "genre                 2\n",
       "na_sales              0\n",
       "eu_sales              0\n",
       "jp_sales              0\n",
       "other_sales           0\n",
       "critic_score       8578\n",
       "user_score         9125\n",
       "rating             6766\n",
       "dtype: int64"
      ]
     },
     "execution_count": 88,
     "metadata": {},
     "output_type": "execute_result"
    }
   ],
   "source": [
    "data.isna().sum() # подсчитаем кол-во пропусков в каждом столбце"
   ]
  },
  {
   "cell_type": "markdown",
   "metadata": {},
   "source": [
    "- Посмотрим на строки с пропусками в столбце name."
   ]
  },
  {
   "cell_type": "code",
   "execution_count": 89,
   "metadata": {
    "scrolled": true
   },
   "outputs": [
    {
     "data": {
      "text/html": [
       "<div>\n",
       "<style scoped>\n",
       "    .dataframe tbody tr th:only-of-type {\n",
       "        vertical-align: middle;\n",
       "    }\n",
       "\n",
       "    .dataframe tbody tr th {\n",
       "        vertical-align: top;\n",
       "    }\n",
       "\n",
       "    .dataframe thead th {\n",
       "        text-align: right;\n",
       "    }\n",
       "</style>\n",
       "<table border=\"1\" class=\"dataframe\">\n",
       "  <thead>\n",
       "    <tr style=\"text-align: right;\">\n",
       "      <th></th>\n",
       "      <th>name</th>\n",
       "      <th>platform</th>\n",
       "      <th>year_of_release</th>\n",
       "      <th>genre</th>\n",
       "      <th>na_sales</th>\n",
       "      <th>eu_sales</th>\n",
       "      <th>jp_sales</th>\n",
       "      <th>other_sales</th>\n",
       "      <th>critic_score</th>\n",
       "      <th>user_score</th>\n",
       "      <th>rating</th>\n",
       "    </tr>\n",
       "  </thead>\n",
       "  <tbody>\n",
       "    <tr>\n",
       "      <td>659</td>\n",
       "      <td>NaN</td>\n",
       "      <td>GEN</td>\n",
       "      <td>1993.0</td>\n",
       "      <td>NaN</td>\n",
       "      <td>1.78</td>\n",
       "      <td>0.53</td>\n",
       "      <td>0.00</td>\n",
       "      <td>0.08</td>\n",
       "      <td>NaN</td>\n",
       "      <td>NaN</td>\n",
       "      <td>NaN</td>\n",
       "    </tr>\n",
       "    <tr>\n",
       "      <td>14244</td>\n",
       "      <td>NaN</td>\n",
       "      <td>GEN</td>\n",
       "      <td>1993.0</td>\n",
       "      <td>NaN</td>\n",
       "      <td>0.00</td>\n",
       "      <td>0.00</td>\n",
       "      <td>0.03</td>\n",
       "      <td>0.00</td>\n",
       "      <td>NaN</td>\n",
       "      <td>NaN</td>\n",
       "      <td>NaN</td>\n",
       "    </tr>\n",
       "  </tbody>\n",
       "</table>\n",
       "</div>"
      ],
      "text/plain": [
       "      name platform  year_of_release genre  na_sales  eu_sales  jp_sales  \\\n",
       "659    NaN      GEN           1993.0   NaN      1.78      0.53      0.00   \n",
       "14244  NaN      GEN           1993.0   NaN      0.00      0.00      0.03   \n",
       "\n",
       "       other_sales  critic_score user_score rating  \n",
       "659           0.08           NaN        NaN    NaN  \n",
       "14244         0.00           NaN        NaN    NaN  "
      ]
     },
     "execution_count": 89,
     "metadata": {},
     "output_type": "execute_result"
    }
   ],
   "source": [
    "data[data['name'].isna()] #выведем строки с пропусками в столбце name"
   ]
  },
  {
   "cell_type": "markdown",
   "metadata": {},
   "source": [
    "Это те же строки, в которых есть пропуски и в столбце genre. Для этих двух игр отсутствует много информации, поэтому удалим строки, это не повлияет на исследование."
   ]
  },
  {
   "cell_type": "code",
   "execution_count": 90,
   "metadata": {},
   "outputs": [],
   "source": [
    "data.drop(labels=[659, 14244], axis=0, inplace=True) #удаление строк с индексами 659 и 14244"
   ]
  },
  {
   "cell_type": "markdown",
   "metadata": {},
   "source": [
    "- Заполним пропуски в столбце rating на \"unknow\", чтобы не потерять эти строки при изучении влияния рейтинга ESRB на продажи."
   ]
  },
  {
   "cell_type": "code",
   "execution_count": 91,
   "metadata": {},
   "outputs": [],
   "source": [
    "data['rating'] = data['rating'].fillna('unknow')"
   ]
  },
  {
   "cell_type": "markdown",
   "metadata": {},
   "source": [
    "- В остальных столбцах оставим пропущенные значения, так как нет информации, на основе которой мы могли бы заполнить эти пропуски."
   ]
  },
  {
   "cell_type": "markdown",
   "metadata": {},
   "source": [
    "### Изменение типов данных  \n",
    "\n",
    "Для удобства работы с данными в столбце year_of_release меняем тип данных с float64 на Int64, а в столбце user_score с object на float64."
   ]
  },
  {
   "cell_type": "code",
   "execution_count": 92,
   "metadata": {},
   "outputs": [],
   "source": [
    "#убираем дробную часть и меняем тип данных на int64.\n",
    "data['year_of_release'] = data['year_of_release'].round().astype('Int64')"
   ]
  },
  {
   "cell_type": "code",
   "execution_count": 93,
   "metadata": {},
   "outputs": [],
   "source": [
    "#меняем тип данных с object на float64\n",
    "data['user_score'] = pd.to_numeric(data['user_score'], errors='raise')"
   ]
  },
  {
   "cell_type": "code",
   "execution_count": 94,
   "metadata": {
    "scrolled": true
   },
   "outputs": [
    {
     "data": {
      "text/plain": [
       "name                object\n",
       "platform            object\n",
       "year_of_release      Int64\n",
       "genre               object\n",
       "na_sales           float64\n",
       "eu_sales           float64\n",
       "jp_sales           float64\n",
       "other_sales        float64\n",
       "critic_score       float64\n",
       "user_score         float64\n",
       "rating              object\n",
       "dtype: object"
      ]
     },
     "execution_count": 94,
     "metadata": {},
     "output_type": "execute_result"
    }
   ],
   "source": [
    "#выведем информацию по типам данных по каждому столбцу, чтобы убедиться, что изменения произошли\n",
    "data.dtypes "
   ]
  },
  {
   "cell_type": "markdown",
   "metadata": {},
   "source": [
    "### Обработка дубликатов  \n",
    "\n",
    "Найдем явные дубликаты."
   ]
  },
  {
   "cell_type": "code",
   "execution_count": 95,
   "metadata": {},
   "outputs": [
    {
     "data": {
      "text/plain": [
       "0"
      ]
     },
     "execution_count": 95,
     "metadata": {},
     "output_type": "execute_result"
    }
   ],
   "source": [
    "data.duplicated().sum() #находим кол-во явных дубликатов"
   ]
  },
  {
   "cell_type": "markdown",
   "metadata": {},
   "source": [
    "### Подготовка данных  \n",
    "\n",
    "Посчитаем суммарные продажи во всех регионах и запишем их в отдельный столбец."
   ]
  },
  {
   "cell_type": "code",
   "execution_count": 96,
   "metadata": {
    "scrolled": true
   },
   "outputs": [
    {
     "data": {
      "text/html": [
       "<div>\n",
       "<style scoped>\n",
       "    .dataframe tbody tr th:only-of-type {\n",
       "        vertical-align: middle;\n",
       "    }\n",
       "\n",
       "    .dataframe tbody tr th {\n",
       "        vertical-align: top;\n",
       "    }\n",
       "\n",
       "    .dataframe thead th {\n",
       "        text-align: right;\n",
       "    }\n",
       "</style>\n",
       "<table border=\"1\" class=\"dataframe\">\n",
       "  <thead>\n",
       "    <tr style=\"text-align: right;\">\n",
       "      <th></th>\n",
       "      <th>name</th>\n",
       "      <th>platform</th>\n",
       "      <th>year_of_release</th>\n",
       "      <th>genre</th>\n",
       "      <th>na_sales</th>\n",
       "      <th>eu_sales</th>\n",
       "      <th>jp_sales</th>\n",
       "      <th>other_sales</th>\n",
       "      <th>critic_score</th>\n",
       "      <th>user_score</th>\n",
       "      <th>rating</th>\n",
       "      <th>all_sales</th>\n",
       "    </tr>\n",
       "  </thead>\n",
       "  <tbody>\n",
       "    <tr>\n",
       "      <td>0</td>\n",
       "      <td>Wii Sports</td>\n",
       "      <td>Wii</td>\n",
       "      <td>2006</td>\n",
       "      <td>Sports</td>\n",
       "      <td>41.36</td>\n",
       "      <td>28.96</td>\n",
       "      <td>3.77</td>\n",
       "      <td>8.45</td>\n",
       "      <td>76.0</td>\n",
       "      <td>8.0</td>\n",
       "      <td>E</td>\n",
       "      <td>82.54</td>\n",
       "    </tr>\n",
       "    <tr>\n",
       "      <td>1</td>\n",
       "      <td>Super Mario Bros.</td>\n",
       "      <td>NES</td>\n",
       "      <td>1985</td>\n",
       "      <td>Platform</td>\n",
       "      <td>29.08</td>\n",
       "      <td>3.58</td>\n",
       "      <td>6.81</td>\n",
       "      <td>0.77</td>\n",
       "      <td>NaN</td>\n",
       "      <td>NaN</td>\n",
       "      <td>unknow</td>\n",
       "      <td>40.24</td>\n",
       "    </tr>\n",
       "    <tr>\n",
       "      <td>2</td>\n",
       "      <td>Mario Kart Wii</td>\n",
       "      <td>Wii</td>\n",
       "      <td>2008</td>\n",
       "      <td>Racing</td>\n",
       "      <td>15.68</td>\n",
       "      <td>12.76</td>\n",
       "      <td>3.79</td>\n",
       "      <td>3.29</td>\n",
       "      <td>82.0</td>\n",
       "      <td>8.3</td>\n",
       "      <td>E</td>\n",
       "      <td>35.52</td>\n",
       "    </tr>\n",
       "    <tr>\n",
       "      <td>3</td>\n",
       "      <td>Wii Sports Resort</td>\n",
       "      <td>Wii</td>\n",
       "      <td>2009</td>\n",
       "      <td>Sports</td>\n",
       "      <td>15.61</td>\n",
       "      <td>10.93</td>\n",
       "      <td>3.28</td>\n",
       "      <td>2.95</td>\n",
       "      <td>80.0</td>\n",
       "      <td>8.0</td>\n",
       "      <td>E</td>\n",
       "      <td>32.77</td>\n",
       "    </tr>\n",
       "    <tr>\n",
       "      <td>4</td>\n",
       "      <td>Pokemon Red/Pokemon Blue</td>\n",
       "      <td>GB</td>\n",
       "      <td>1996</td>\n",
       "      <td>Role-Playing</td>\n",
       "      <td>11.27</td>\n",
       "      <td>8.89</td>\n",
       "      <td>10.22</td>\n",
       "      <td>1.00</td>\n",
       "      <td>NaN</td>\n",
       "      <td>NaN</td>\n",
       "      <td>unknow</td>\n",
       "      <td>31.38</td>\n",
       "    </tr>\n",
       "  </tbody>\n",
       "</table>\n",
       "</div>"
      ],
      "text/plain": [
       "                       name platform  year_of_release         genre  na_sales  \\\n",
       "0                Wii Sports      Wii             2006        Sports     41.36   \n",
       "1         Super Mario Bros.      NES             1985      Platform     29.08   \n",
       "2            Mario Kart Wii      Wii             2008        Racing     15.68   \n",
       "3         Wii Sports Resort      Wii             2009        Sports     15.61   \n",
       "4  Pokemon Red/Pokemon Blue       GB             1996  Role-Playing     11.27   \n",
       "\n",
       "   eu_sales  jp_sales  other_sales  critic_score  user_score  rating  \\\n",
       "0     28.96      3.77         8.45          76.0         8.0       E   \n",
       "1      3.58      6.81         0.77           NaN         NaN  unknow   \n",
       "2     12.76      3.79         3.29          82.0         8.3       E   \n",
       "3     10.93      3.28         2.95          80.0         8.0       E   \n",
       "4      8.89     10.22         1.00           NaN         NaN  unknow   \n",
       "\n",
       "   all_sales  \n",
       "0      82.54  \n",
       "1      40.24  \n",
       "2      35.52  \n",
       "3      32.77  \n",
       "4      31.38  "
      ]
     },
     "execution_count": 96,
     "metadata": {},
     "output_type": "execute_result"
    }
   ],
   "source": [
    "#создаем новый столбец, в который записываем сумму всех продаж во всех регионах\n",
    "data['all_sales'] = data['na_sales'] + data['eu_sales'] + data['jp_sales'] + data['other_sales']\n",
    "data.head()#выводим первые 5 строк таблицы"
   ]
  },
  {
   "cell_type": "markdown",
   "metadata": {},
   "source": [
    "### Вывод  \n",
    "\n",
    "Названия столбцов были приведены к единому стилю написания.  \n",
    "\n",
    "Были удалены две строки с большим кол-вом недостающих данных. Пропуски в столбце rating заменены на \"unknow\".\n",
    "\n",
    "Найдены и заменены некорректные значения в столбцах user_score и rating.  \n",
    "\n",
    "В столбцах year_of_release и user_score изменили тип данных на Int64 и float64 соответственно.  \n",
    "\n",
    "Дубликаты не обнаружены.  \n",
    "\n",
    "Добавили в таблицу недостающую информацию - новый столбец с суммарными продажами по всем регионам."
   ]
  },
  {
   "cell_type": "markdown",
   "metadata": {},
   "source": [
    "## Исследовательский анализ данных <a id='4'></a>"
   ]
  },
  {
   "cell_type": "markdown",
   "metadata": {},
   "source": [
    "### Продажи по платформам  <a id='5'></a>\n",
    "\n",
    "#### Актуальный период  \n",
    "\n",
    "Определим, какой период можно назвать актуальным, для того, чтобы построить прогноз на 2017 год. "
   ]
  },
  {
   "cell_type": "code",
   "execution_count": 97,
   "metadata": {
    "scrolled": false
   },
   "outputs": [
    {
     "data": {
      "text/html": [
       "<div>\n",
       "<style scoped>\n",
       "    .dataframe tbody tr th:only-of-type {\n",
       "        vertical-align: middle;\n",
       "    }\n",
       "\n",
       "    .dataframe tbody tr th {\n",
       "        vertical-align: top;\n",
       "    }\n",
       "\n",
       "    .dataframe thead th {\n",
       "        text-align: right;\n",
       "    }\n",
       "</style>\n",
       "<table border=\"1\" class=\"dataframe\">\n",
       "  <thead>\n",
       "    <tr style=\"text-align: right;\">\n",
       "      <th></th>\n",
       "      <th>name</th>\n",
       "    </tr>\n",
       "    <tr>\n",
       "      <th>year_of_release</th>\n",
       "      <th></th>\n",
       "    </tr>\n",
       "  </thead>\n",
       "  <tbody>\n",
       "    <tr>\n",
       "      <td>1980</td>\n",
       "      <td>9</td>\n",
       "    </tr>\n",
       "    <tr>\n",
       "      <td>1981</td>\n",
       "      <td>46</td>\n",
       "    </tr>\n",
       "    <tr>\n",
       "      <td>1982</td>\n",
       "      <td>36</td>\n",
       "    </tr>\n",
       "    <tr>\n",
       "      <td>1983</td>\n",
       "      <td>17</td>\n",
       "    </tr>\n",
       "    <tr>\n",
       "      <td>1984</td>\n",
       "      <td>14</td>\n",
       "    </tr>\n",
       "    <tr>\n",
       "      <td>1985</td>\n",
       "      <td>14</td>\n",
       "    </tr>\n",
       "    <tr>\n",
       "      <td>1986</td>\n",
       "      <td>21</td>\n",
       "    </tr>\n",
       "    <tr>\n",
       "      <td>1987</td>\n",
       "      <td>16</td>\n",
       "    </tr>\n",
       "    <tr>\n",
       "      <td>1988</td>\n",
       "      <td>15</td>\n",
       "    </tr>\n",
       "    <tr>\n",
       "      <td>1989</td>\n",
       "      <td>17</td>\n",
       "    </tr>\n",
       "    <tr>\n",
       "      <td>1990</td>\n",
       "      <td>16</td>\n",
       "    </tr>\n",
       "    <tr>\n",
       "      <td>1991</td>\n",
       "      <td>41</td>\n",
       "    </tr>\n",
       "    <tr>\n",
       "      <td>1992</td>\n",
       "      <td>43</td>\n",
       "    </tr>\n",
       "    <tr>\n",
       "      <td>1993</td>\n",
       "      <td>60</td>\n",
       "    </tr>\n",
       "    <tr>\n",
       "      <td>1994</td>\n",
       "      <td>121</td>\n",
       "    </tr>\n",
       "    <tr>\n",
       "      <td>1995</td>\n",
       "      <td>219</td>\n",
       "    </tr>\n",
       "    <tr>\n",
       "      <td>1996</td>\n",
       "      <td>263</td>\n",
       "    </tr>\n",
       "    <tr>\n",
       "      <td>1997</td>\n",
       "      <td>289</td>\n",
       "    </tr>\n",
       "    <tr>\n",
       "      <td>1998</td>\n",
       "      <td>379</td>\n",
       "    </tr>\n",
       "    <tr>\n",
       "      <td>1999</td>\n",
       "      <td>338</td>\n",
       "    </tr>\n",
       "    <tr>\n",
       "      <td>2000</td>\n",
       "      <td>350</td>\n",
       "    </tr>\n",
       "    <tr>\n",
       "      <td>2001</td>\n",
       "      <td>482</td>\n",
       "    </tr>\n",
       "    <tr>\n",
       "      <td>2002</td>\n",
       "      <td>829</td>\n",
       "    </tr>\n",
       "    <tr>\n",
       "      <td>2003</td>\n",
       "      <td>775</td>\n",
       "    </tr>\n",
       "    <tr>\n",
       "      <td>2004</td>\n",
       "      <td>762</td>\n",
       "    </tr>\n",
       "    <tr>\n",
       "      <td>2005</td>\n",
       "      <td>939</td>\n",
       "    </tr>\n",
       "    <tr>\n",
       "      <td>2006</td>\n",
       "      <td>1006</td>\n",
       "    </tr>\n",
       "    <tr>\n",
       "      <td>2007</td>\n",
       "      <td>1197</td>\n",
       "    </tr>\n",
       "    <tr>\n",
       "      <td>2008</td>\n",
       "      <td>1427</td>\n",
       "    </tr>\n",
       "    <tr>\n",
       "      <td>2009</td>\n",
       "      <td>1426</td>\n",
       "    </tr>\n",
       "    <tr>\n",
       "      <td>2010</td>\n",
       "      <td>1255</td>\n",
       "    </tr>\n",
       "    <tr>\n",
       "      <td>2011</td>\n",
       "      <td>1136</td>\n",
       "    </tr>\n",
       "    <tr>\n",
       "      <td>2012</td>\n",
       "      <td>653</td>\n",
       "    </tr>\n",
       "    <tr>\n",
       "      <td>2013</td>\n",
       "      <td>544</td>\n",
       "    </tr>\n",
       "    <tr>\n",
       "      <td>2014</td>\n",
       "      <td>581</td>\n",
       "    </tr>\n",
       "    <tr>\n",
       "      <td>2015</td>\n",
       "      <td>606</td>\n",
       "    </tr>\n",
       "    <tr>\n",
       "      <td>2016</td>\n",
       "      <td>502</td>\n",
       "    </tr>\n",
       "  </tbody>\n",
       "</table>\n",
       "</div>"
      ],
      "text/plain": [
       "                 name\n",
       "year_of_release      \n",
       "1980                9\n",
       "1981               46\n",
       "1982               36\n",
       "1983               17\n",
       "1984               14\n",
       "1985               14\n",
       "1986               21\n",
       "1987               16\n",
       "1988               15\n",
       "1989               17\n",
       "1990               16\n",
       "1991               41\n",
       "1992               43\n",
       "1993               60\n",
       "1994              121\n",
       "1995              219\n",
       "1996              263\n",
       "1997              289\n",
       "1998              379\n",
       "1999              338\n",
       "2000              350\n",
       "2001              482\n",
       "2002              829\n",
       "2003              775\n",
       "2004              762\n",
       "2005              939\n",
       "2006             1006\n",
       "2007             1197\n",
       "2008             1427\n",
       "2009             1426\n",
       "2010             1255\n",
       "2011             1136\n",
       "2012              653\n",
       "2013              544\n",
       "2014              581\n",
       "2015              606\n",
       "2016              502"
      ]
     },
     "execution_count": 97,
     "metadata": {},
     "output_type": "execute_result"
    }
   ],
   "source": [
    "#сгруппируем все игры по годам выпуска c помощью сводной таблицы\n",
    "data.pivot_table(index=['year_of_release'], values='name', aggfunc='count')"
   ]
  },
  {
   "cell_type": "code",
   "execution_count": 98,
   "metadata": {},
   "outputs": [
    {
     "data": {
      "image/png": "[encoded data removed]",
      "text/plain": [
       "<Figure size 432x288 with 1 Axes>"
      ]
     },
     "metadata": {
      "needs_background": "light"
     },
     "output_type": "display_data"
    }
   ],
   "source": [
    "#построим линейный график по сводной таблице\n",
    "data.pivot_table(index=['year_of_release'], values='name', aggfunc='count').plot()\n",
    "plt.title('Кол-во игр, выпускаемых в разные годы')\n",
    "plt.xlabel('Год релиза')\n",
    "plt.ylabel('Кол-во игр');"
   ]
  },
  {
   "cell_type": "markdown",
   "metadata": {},
   "source": [
    "С 2001 года кол-во выпускаемых игр резко возросло, наибольшее кол-во игр вышло в 2008-2009 гг, после этих годов выпуск игр идет на спад. За последние пять лет кол-во выпускаемых игр находятся примерно на одном уровне.  \n",
    "\n",
    "Для дальнейшего исследования будем считать актуальным период с 2012 по 2016 гг.  \n"
   ]
  },
  {
   "cell_type": "code",
   "execution_count": 99,
   "metadata": {},
   "outputs": [],
   "source": [
    "#создадим новую таблицу, в которую добавим игры только за 2012-2016 гг\n",
    "data_2012_2016 = data.query('2012 <= year_of_release <= 2016')"
   ]
  },
  {
   "cell_type": "markdown",
   "metadata": {},
   "source": [
    "#### Распределение продаж по годам  \n",
    "\n",
    "- Посмотрим, сколько игр выпускалось в разные годы, а также как менялись продажи по платформам."
   ]
  },
  {
   "cell_type": "code",
   "execution_count": 100,
   "metadata": {},
   "outputs": [
    {
     "data": {
      "image/png": "[encoded data removed]",
      "text/plain": [
       "<Figure size 864x432 with 1 Axes>"
      ]
     },
     "metadata": {
      "needs_background": "light"
     },
     "output_type": "display_data"
    }
   ],
   "source": [
    "#строим линейные графики по кол-ву продаж по годам для каждой платформы\n",
    "data.pivot_table(index=['year_of_release'], columns='platform', values='all_sales', aggfunc='sum')\\\n",
    "              .plot(xlim=(2001, 2016), figsize=(12,6))\n",
    "plt.title('Сумма продаж по годам на разных платформах')\n",
    "plt.xlabel('Год релиза')\n",
    "plt.ylabel('Сумма продаж, млн');"
   ]
  },
  {
   "cell_type": "markdown",
   "metadata": {},
   "source": [
    "В среднем платформы живут около 10 лет.  \n",
    "\n",
    "Для наглядности построим график распределения продаж по годам в период только с 2012 по 2016 гг,  и выберем актуальные платформы с наибольшими продажами."
   ]
  },
  {
   "cell_type": "code",
   "execution_count": 101,
   "metadata": {
    "scrolled": true
   },
   "outputs": [
    {
     "data": {
      "image/png": "[encoded data removed]",
      "text/plain": [
       "<Figure size 864x432 with 1 Axes>"
      ]
     },
     "metadata": {
      "needs_background": "light"
     },
     "output_type": "display_data"
    }
   ],
   "source": [
    "#строим линейные графики по кол-ву продаж по годам для каждой платформы\n",
    "data_2012_2016.pivot_table(index=['year_of_release'], columns='platform', values='all_sales', aggfunc='sum')\\\n",
    "              .plot(xticks=(2012,2013,2014,2015,2016), figsize=(12,6))\n",
    "plt.title('Сумма продаж с 2012 по 2016 гг на разных платформах')\n",
    "plt.xlabel('Год релиза')\n",
    "plt.ylabel('Сумма продаж, млн');"
   ]
  },
  {
   "cell_type": "markdown",
   "metadata": {},
   "source": [
    "На графиках по сумме продаж выделяются платфрмы PS3, X360, 3DS, PS4 и XOne.    \n",
    "\n",
    "PS3, X360 - высокие показатели за 2013 год, но продажи постоянно падают. Учитывая средний срок жизни платформы, можно предположить скорое исчезновение этих платформ. Не будем считать эти платформы актуальными.  \n",
    "\n",
    "3DS, WiiU и PSV - молодые платформы, могут просуществовать еще несколько лет. Сумма продаж для WiiU и PSV примерно равна от года к году. 3DS хотя и показывает падение продаж к 2016 году, но такое падение характерно для всех платформ. Используем эти платформы для исследования.  \n",
    "\n",
    "PC - очень \"старая\" платформа без выраженных колебаний суммы продаж за последние годы, оставим ее для исследования за ее долголетие.  \n",
    "\n",
    "PS4 И XOne - самые молодые и развивающиеся платформы с наибольшими суммами продаж на 2016 год. \n",
    "\n",
    "3DS, WiiU, PSV, PC, PS4 И XOne можно назвать потенциально прибыльными платформами."
   ]
  },
  {
   "cell_type": "markdown",
   "metadata": {},
   "source": [
    "- Построим график «ящик с усами» по глобальным продажам игр в разбивке по платформам. Для этого создадим новую таблицу, в которую запишем только нужную нам информацию для дальнейшего исследования: актуальный период с 2012 по 2016 гг и перспективные платформы 3DS, WiiU, PSV, PC, PS4 И XOne."
   ]
  },
  {
   "cell_type": "code",
   "execution_count": 102,
   "metadata": {},
   "outputs": [],
   "source": [
    "#создадим список из актуальных для исследования платформ\n",
    "platform_actual = ['3DS', 'WiiU', 'PSV', 'PC', 'PS4', 'XOne']\n",
    "#создадим новую таблицу по актуальному периоду для платформ из списка\n",
    "data_new = data_2012_2016.query('platform in @platform_actual').reset_index(drop=True)"
   ]
  },
  {
   "cell_type": "code",
   "execution_count": 103,
   "metadata": {
    "scrolled": true
   },
   "outputs": [
    {
     "data": {
      "image/png": "[encoded data removed]",
      "text/plain": [
       "<Figure size 432x288 with 1 Axes>"
      ]
     },
     "metadata": {
      "needs_background": "light"
     },
     "output_type": "display_data"
    }
   ],
   "source": [
    "#выводим диаграмму \"ящик с усами\"для каждой платформы\n",
    "sns.boxplot(x='platform', y='all_sales', data=data_new)\n",
    "plt.ylim(-0.5,3)\n",
    "plt.xlabel('Платформы')\n",
    "plt.ylabel('Сумма продаж, млн');"
   ]
  },
  {
   "cell_type": "markdown",
   "metadata": {},
   "source": [
    "Большая часть всех значений лежит в диапазоне до 1 млн.  \n",
    "\n",
    "75% значений для платформ 3DS, PC и PSV лежат в пределах 0.5 млн.  \n",
    "\n",
    "PS4 И XOne показывают самые высокие продажи.  \n",
    "\n",
    "Медианные значения продаж для каждой платформы стремятся вниз, что говорит о том, что очень высоких значений не много."
   ]
  },
  {
   "cell_type": "markdown",
   "metadata": {},
   "source": [
    "#### Влияние отзывов пользователей и критиков на продажи по каждой платформе"
   ]
  },
  {
   "cell_type": "markdown",
   "metadata": {},
   "source": [
    "1) Построим диаграмму рассеяния и посчитаем корреляцию между отзывами и продажами для платформы PS4."
   ]
  },
  {
   "cell_type": "code",
   "execution_count": 104,
   "metadata": {},
   "outputs": [],
   "source": [
    "#сохраним в новую таблицу строки для платформы PS4\n",
    "data_ps4 = data_new.loc[data_new.loc[:,'platform'] == 'PS4']"
   ]
  },
  {
   "cell_type": "code",
   "execution_count": 105,
   "metadata": {
    "scrolled": true
   },
   "outputs": [
    {
     "data": {
      "image/png": "[encoded data removed]",
      "text/plain": [
       "<Figure size 864x432 with 1 Axes>"
      ]
     },
     "metadata": {
      "needs_background": "light"
     },
     "output_type": "display_data"
    }
   ],
   "source": [
    "#построим диаграмму рассеяния для оценки зависимости от оценки критиков\n",
    "data_ps4.plot(x='all_sales', y='critic_score', kind='scatter', figsize=(12,6), alpha=0.5)\n",
    "plt.title('Зависимость продаж от оценки критиков')\n",
    "plt.xlabel('Сумма продаж')\n",
    "plt.ylabel('Оценка критиков');"
   ]
  },
  {
   "cell_type": "code",
   "execution_count": 106,
   "metadata": {},
   "outputs": [
    {
     "data": {
      "text/plain": [
       "0.406567902061781"
      ]
     },
     "execution_count": 106,
     "metadata": {},
     "output_type": "execute_result"
    }
   ],
   "source": [
    "data_ps4['all_sales'].corr(data_ps4['critic_score']) #найдем корреляцию"
   ]
  },
  {
   "cell_type": "markdown",
   "metadata": {},
   "source": [
    "Коэффициент корреляции невысокий, линейная связь между отзывами и продажами отчетливо не прослеживается, основное кол-во значений сосредоточено в пределах 1 млн вне зависимости от оценки критиков. Но небольшая корреляция не влечет отсутствие связи как таковой, так как можно заметить, что самые большие продажи все таки у игр с высокой оценкой."
   ]
  },
  {
   "cell_type": "code",
   "execution_count": 107,
   "metadata": {},
   "outputs": [
    {
     "data": {
      "image/png": "[encoded data removed]",
      "text/plain": [
       "<Figure size 864x432 with 1 Axes>"
      ]
     },
     "metadata": {
      "needs_background": "light"
     },
     "output_type": "display_data"
    }
   ],
   "source": [
    "#построим диаграмму рассеяния для оценки зависимости от оценки пользователей\n",
    "data_ps4.plot(x='all_sales', y='user_score', kind='scatter', figsize=(12,6), alpha=0.5)\n",
    "plt.title('Зависимость продаж от оценки пользователей')\n",
    "plt.xlabel('Сумма продаж')\n",
    "plt.ylabel('Оценка пользователей');"
   ]
  },
  {
   "cell_type": "code",
   "execution_count": 108,
   "metadata": {},
   "outputs": [
    {
     "data": {
      "text/plain": [
       "-0.031957110204556376"
      ]
     },
     "execution_count": 108,
     "metadata": {},
     "output_type": "execute_result"
    }
   ],
   "source": [
    "data_ps4['all_sales'].corr(data_ps4['user_score']) #найдем корреляцию"
   ]
  },
  {
   "cell_type": "markdown",
   "metadata": {},
   "source": [
    "Корреляция практически нулевая, на графике связь между продажами и пользовательскими оценками не прослеживается."
   ]
  },
  {
   "cell_type": "markdown",
   "metadata": {},
   "source": [
    "2) Соотнесем полученные выводы с продажами игр на платформах PC и WiiU.  \n",
    "\n",
    "   - Построим диаграмму рассеяния и посчитаем корреляцию между отзывами и продажами для платформы PC."
   ]
  },
  {
   "cell_type": "code",
   "execution_count": 109,
   "metadata": {},
   "outputs": [],
   "source": [
    "#сохраним в новую таблицу строки для платформы PС\n",
    "data_pс = data_new.loc[data_new.loc[:,'platform'] == 'PC']"
   ]
  },
  {
   "cell_type": "code",
   "execution_count": 110,
   "metadata": {},
   "outputs": [
    {
     "data": {
      "image/png": "[encoded data removed]",
      "text/plain": [
       "<Figure size 864x432 with 1 Axes>"
      ]
     },
     "metadata": {
      "needs_background": "light"
     },
     "output_type": "display_data"
    }
   ],
   "source": [
    "#построим диаграмму рассеяния для оценки зависимости от оценки критиков\n",
    "data_pс.plot(x='all_sales', y='critic_score', kind='scatter', figsize=(12,6), alpha=0.5)\n",
    "plt.title('Зависимость продаж от оценки критиков')\n",
    "plt.xlabel('Сумма продаж')\n",
    "plt.ylabel('Оценка критиков');"
   ]
  },
  {
   "cell_type": "code",
   "execution_count": 111,
   "metadata": {},
   "outputs": [
    {
     "data": {
      "text/plain": [
       "0.23724324311567918"
      ]
     },
     "execution_count": 111,
     "metadata": {},
     "output_type": "execute_result"
    }
   ],
   "source": [
    "data_pс['all_sales'].corr(data_pс['critic_score']) #найдем корреляцию"
   ]
  },
  {
   "cell_type": "code",
   "execution_count": 112,
   "metadata": {},
   "outputs": [
    {
     "data": {
      "image/png": "[encoded data removed]",
      "text/plain": [
       "<Figure size 864x432 with 1 Axes>"
      ]
     },
     "metadata": {
      "needs_background": "light"
     },
     "output_type": "display_data"
    }
   ],
   "source": [
    "#построим диаграмму рассеяния для оценки зависимости от оценки пользователей\n",
    "data_pс.plot(x='all_sales', y='user_score', kind='scatter', figsize=(12,6), alpha=0.5)\n",
    "plt.title('Зависимость продаж от оценки пользователей')\n",
    "plt.xlabel('Сумма продаж')\n",
    "plt.ylabel('Оценка пользователей');"
   ]
  },
  {
   "cell_type": "code",
   "execution_count": 113,
   "metadata": {},
   "outputs": [
    {
     "data": {
      "text/plain": [
       "-0.12186747630735577"
      ]
     },
     "execution_count": 113,
     "metadata": {},
     "output_type": "execute_result"
    }
   ],
   "source": [
    "data_pс['all_sales'].corr(data_pс['user_score']) #найдем корреляцию"
   ]
  },
  {
   "cell_type": "markdown",
   "metadata": {},
   "source": [
    "  - Построим диаграмму рассеяния и посчитаем корреляцию между отзывами и продажами для платформы WiiU."
   ]
  },
  {
   "cell_type": "code",
   "execution_count": 114,
   "metadata": {},
   "outputs": [],
   "source": [
    "#сохраним в новую таблицу строки для платформы WiiU\n",
    "data_wiiu = data_new.loc[data_new.loc[:,'platform'] == 'WiiU']"
   ]
  },
  {
   "cell_type": "code",
   "execution_count": 115,
   "metadata": {},
   "outputs": [
    {
     "data": {
      "image/png": "[encoded data removed]",
      "text/plain": [
       "<Figure size 864x432 with 1 Axes>"
      ]
     },
     "metadata": {
      "needs_background": "light"
     },
     "output_type": "display_data"
    }
   ],
   "source": [
    "#построим диаграмму рассеяния для оценки зависимости от оценки критиков\n",
    "data_wiiu.plot(x='all_sales', y='critic_score', kind='scatter', figsize=(12,6), alpha=0.5)\n",
    "plt.title('Зависимость продаж от оценки критиков')\n",
    "plt.xlabel('Сумма продаж')\n",
    "plt.ylabel('Оценка критиков');"
   ]
  },
  {
   "cell_type": "code",
   "execution_count": 116,
   "metadata": {},
   "outputs": [
    {
     "data": {
      "text/plain": [
       "0.3483797601201749"
      ]
     },
     "execution_count": 116,
     "metadata": {},
     "output_type": "execute_result"
    }
   ],
   "source": [
    "data_wiiu['all_sales'].corr(data_wiiu['critic_score']) #найдем корреляцию"
   ]
  },
  {
   "cell_type": "code",
   "execution_count": 117,
   "metadata": {},
   "outputs": [
    {
     "data": {
      "image/png": "[encoded data removed]",
      "text/plain": [
       "<Figure size 864x432 with 1 Axes>"
      ]
     },
     "metadata": {
      "needs_background": "light"
     },
     "output_type": "display_data"
    }
   ],
   "source": [
    "#построим диаграмму рассеяния для оценки зависимости от оценки пользователей\n",
    "data_wiiu.plot(x='all_sales', y='user_score', kind='scatter', figsize=(12,6), alpha=0.5)\n",
    "plt.title('Зависимость продаж от оценки пользователей')\n",
    "plt.xlabel('Сумма продаж')\n",
    "plt.ylabel('Оценка пользователей');"
   ]
  },
  {
   "cell_type": "code",
   "execution_count": 118,
   "metadata": {},
   "outputs": [
    {
     "data": {
      "text/plain": [
       "0.4002190202148617"
      ]
     },
     "execution_count": 118,
     "metadata": {},
     "output_type": "execute_result"
    }
   ],
   "source": [
    "data_wiiu['all_sales'].corr(data_wiiu['user_score']) #найдем корреляцию"
   ]
  },
  {
   "cell_type": "markdown",
   "metadata": {},
   "source": [
    "Сравнивая диаграммы зависимости продаж от отзывов критиков и пользователей, получаем похожие выводы: небольшая связь прослеживается между продажами и оценкой критиков: чем выше оценка, тем больше продаж; не прослеживается связь между продажами и оценками пользователей для PS4 и PC, для платформы WiiU есть не высокая линейная зависимость: чем выше отзыв пользователей, тем больше продаж, что больше похоже на случайность, так как на этой платформе небольшое кол-во выпускаемых игр."
   ]
  },
  {
   "cell_type": "markdown",
   "metadata": {},
   "source": [
    "### Распределение игр по жанрам  <a id='6'></a>\n",
    "\n",
    "Посмотрим на общее распределение игр по жанрам. Найдем самые прибыльные жанры и жанры с низкими продажами. Найдем медианные значения продаж."
   ]
  },
  {
   "cell_type": "code",
   "execution_count": 119,
   "metadata": {
    "scrolled": false
   },
   "outputs": [
    {
     "data": {
      "text/html": [
       "<div>\n",
       "<style scoped>\n",
       "    .dataframe tbody tr th:only-of-type {\n",
       "        vertical-align: middle;\n",
       "    }\n",
       "\n",
       "    .dataframe tbody tr th {\n",
       "        vertical-align: top;\n",
       "    }\n",
       "\n",
       "    .dataframe thead tr th {\n",
       "        text-align: left;\n",
       "    }\n",
       "\n",
       "    .dataframe thead tr:last-of-type th {\n",
       "        text-align: right;\n",
       "    }\n",
       "</style>\n",
       "<table border=\"1\" class=\"dataframe\">\n",
       "  <thead>\n",
       "    <tr>\n",
       "      <th></th>\n",
       "      <th colspan=\"2\" halign=\"left\">all_sales</th>\n",
       "    </tr>\n",
       "    <tr>\n",
       "      <th></th>\n",
       "      <th>median</th>\n",
       "      <th>sum</th>\n",
       "    </tr>\n",
       "    <tr>\n",
       "      <th>genre</th>\n",
       "      <th></th>\n",
       "      <th></th>\n",
       "    </tr>\n",
       "  </thead>\n",
       "  <tbody>\n",
       "    <tr>\n",
       "      <td>Action</td>\n",
       "      <td>0.120</td>\n",
       "      <td>441.12</td>\n",
       "    </tr>\n",
       "    <tr>\n",
       "      <td>Adventure</td>\n",
       "      <td>0.030</td>\n",
       "      <td>29.43</td>\n",
       "    </tr>\n",
       "    <tr>\n",
       "      <td>Fighting</td>\n",
       "      <td>0.130</td>\n",
       "      <td>44.49</td>\n",
       "    </tr>\n",
       "    <tr>\n",
       "      <td>Misc</td>\n",
       "      <td>0.120</td>\n",
       "      <td>85.04</td>\n",
       "    </tr>\n",
       "    <tr>\n",
       "      <td>Platform</td>\n",
       "      <td>0.210</td>\n",
       "      <td>61.00</td>\n",
       "    </tr>\n",
       "    <tr>\n",
       "      <td>Puzzle</td>\n",
       "      <td>0.045</td>\n",
       "      <td>4.89</td>\n",
       "    </tr>\n",
       "    <tr>\n",
       "      <td>Racing</td>\n",
       "      <td>0.140</td>\n",
       "      <td>53.50</td>\n",
       "    </tr>\n",
       "    <tr>\n",
       "      <td>Role-Playing</td>\n",
       "      <td>0.140</td>\n",
       "      <td>192.80</td>\n",
       "    </tr>\n",
       "    <tr>\n",
       "      <td>Shooter</td>\n",
       "      <td>0.440</td>\n",
       "      <td>304.73</td>\n",
       "    </tr>\n",
       "    <tr>\n",
       "      <td>Simulation</td>\n",
       "      <td>0.120</td>\n",
       "      <td>35.12</td>\n",
       "    </tr>\n",
       "    <tr>\n",
       "      <td>Sports</td>\n",
       "      <td>0.240</td>\n",
       "      <td>181.07</td>\n",
       "    </tr>\n",
       "    <tr>\n",
       "      <td>Strategy</td>\n",
       "      <td>0.080</td>\n",
       "      <td>13.34</td>\n",
       "    </tr>\n",
       "  </tbody>\n",
       "</table>\n",
       "</div>"
      ],
      "text/plain": [
       "             all_sales        \n",
       "                median     sum\n",
       "genre                         \n",
       "Action           0.120  441.12\n",
       "Adventure        0.030   29.43\n",
       "Fighting         0.130   44.49\n",
       "Misc             0.120   85.04\n",
       "Platform         0.210   61.00\n",
       "Puzzle           0.045    4.89\n",
       "Racing           0.140   53.50\n",
       "Role-Playing     0.140  192.80\n",
       "Shooter          0.440  304.73\n",
       "Simulation       0.120   35.12\n",
       "Sports           0.240  181.07\n",
       "Strategy         0.080   13.34"
      ]
     },
     "execution_count": 119,
     "metadata": {},
     "output_type": "execute_result"
    }
   ],
   "source": [
    "#сгруппируем игры по жанрам и посчитаем кол-во игр и сумму продаж\n",
    "data_2012_2016.groupby('genre').agg({'all_sales':['median','sum']})"
   ]
  },
  {
   "cell_type": "code",
   "execution_count": 135,
   "metadata": {},
   "outputs": [
    {
     "data": {
      "image/png": "[encoded data removed]",
      "text/plain": [
       "<Figure size 432x288 with 1 Axes>"
      ]
     },
     "metadata": {
      "needs_background": "light"
     },
     "output_type": "display_data"
    }
   ],
   "source": [
    "#построим график суммы продаж для наглядности\n",
    "data_2012_2016.groupby('genre').agg({'all_sales':'sum'}).plot(kind='bar')\n",
    "plt.title('Сумма продаж для каждого жанра')\n",
    "plt.xlabel('Жанры')\n",
    "plt.ylabel('Сумма продаж, млн');"
   ]
  },
  {
   "cell_type": "code",
   "execution_count": 137,
   "metadata": {},
   "outputs": [
    {
     "data": {
      "image/png": "[encoded data removed]",
      "text/plain": [
       "<Figure size 432x288 with 1 Axes>"
      ]
     },
     "metadata": {
      "needs_background": "light"
     },
     "output_type": "display_data"
    }
   ],
   "source": [
    "#построим график медианных значений продаж для наглядности\n",
    "data_2012_2016.groupby('genre').agg({'all_sales':'median'}).plot(kind='bar')\n",
    "plt.title('Медианные значения продаж для каждого жанра')\n",
    "plt.xlabel('Жанры')\n",
    "plt.ylabel('Медианные продажи, млн');"
   ]
  },
  {
   "cell_type": "markdown",
   "metadata": {},
   "source": [
    "Самый продаваемый жанр Action. Следующие по кол-ву продаж Shooter, Role-Playing и Sports. Жанры с самыми низкими продажами Puzzle и Strategy.  \n",
    "\n",
    "Но кол-во продаж не говорит о популярности жанра, так как весь успех могли обеспечить всего несколько игр, если сравнить медианные значения продаж, то самым популярным жанром оказывается Shooter, после него идут Sports и Platform. Не популярные жанры: Puzzle и Adventure."
   ]
  },
  {
   "cell_type": "markdown",
   "metadata": {},
   "source": [
    "### Портрет пользователя каждого региона  <a id='7'></a>\n",
    "\n",
    "- Определим для каждого региона самые популярные платформы: посчитаем сумму продаж."
   ]
  },
  {
   "cell_type": "code",
   "execution_count": 121,
   "metadata": {
    "scrolled": true
   },
   "outputs": [
    {
     "data": {
      "text/html": [
       "<div>\n",
       "<style scoped>\n",
       "    .dataframe tbody tr th:only-of-type {\n",
       "        vertical-align: middle;\n",
       "    }\n",
       "\n",
       "    .dataframe tbody tr th {\n",
       "        vertical-align: top;\n",
       "    }\n",
       "\n",
       "    .dataframe thead th {\n",
       "        text-align: right;\n",
       "    }\n",
       "</style>\n",
       "<table border=\"1\" class=\"dataframe\">\n",
       "  <thead>\n",
       "    <tr style=\"text-align: right;\">\n",
       "      <th></th>\n",
       "      <th>na_sales</th>\n",
       "      <th>eu_sales</th>\n",
       "      <th>jp_sales</th>\n",
       "    </tr>\n",
       "    <tr>\n",
       "      <th>platform</th>\n",
       "      <th></th>\n",
       "      <th></th>\n",
       "      <th></th>\n",
       "    </tr>\n",
       "  </thead>\n",
       "  <tbody>\n",
       "    <tr>\n",
       "      <td>3DS</td>\n",
       "      <td>55.31</td>\n",
       "      <td>42.64</td>\n",
       "      <td>87.79</td>\n",
       "    </tr>\n",
       "    <tr>\n",
       "      <td>DS</td>\n",
       "      <td>4.59</td>\n",
       "      <td>3.53</td>\n",
       "      <td>3.72</td>\n",
       "    </tr>\n",
       "    <tr>\n",
       "      <td>PC</td>\n",
       "      <td>19.12</td>\n",
       "      <td>37.76</td>\n",
       "      <td>0.00</td>\n",
       "    </tr>\n",
       "    <tr>\n",
       "      <td>PS3</td>\n",
       "      <td>103.38</td>\n",
       "      <td>106.86</td>\n",
       "      <td>35.29</td>\n",
       "    </tr>\n",
       "    <tr>\n",
       "      <td>PS4</td>\n",
       "      <td>108.74</td>\n",
       "      <td>141.09</td>\n",
       "      <td>15.96</td>\n",
       "    </tr>\n",
       "    <tr>\n",
       "      <td>PSP</td>\n",
       "      <td>0.13</td>\n",
       "      <td>0.42</td>\n",
       "      <td>10.47</td>\n",
       "    </tr>\n",
       "    <tr>\n",
       "      <td>PSV</td>\n",
       "      <td>10.98</td>\n",
       "      <td>11.36</td>\n",
       "      <td>21.04</td>\n",
       "    </tr>\n",
       "    <tr>\n",
       "      <td>Wii</td>\n",
       "      <td>17.45</td>\n",
       "      <td>11.92</td>\n",
       "      <td>3.39</td>\n",
       "    </tr>\n",
       "    <tr>\n",
       "      <td>WiiU</td>\n",
       "      <td>38.10</td>\n",
       "      <td>25.13</td>\n",
       "      <td>13.01</td>\n",
       "    </tr>\n",
       "    <tr>\n",
       "      <td>X360</td>\n",
       "      <td>140.05</td>\n",
       "      <td>74.52</td>\n",
       "      <td>1.57</td>\n",
       "    </tr>\n",
       "    <tr>\n",
       "      <td>XOne</td>\n",
       "      <td>93.12</td>\n",
       "      <td>51.59</td>\n",
       "      <td>0.34</td>\n",
       "    </tr>\n",
       "  </tbody>\n",
       "</table>\n",
       "</div>"
      ],
      "text/plain": [
       "          na_sales  eu_sales  jp_sales\n",
       "platform                              \n",
       "3DS          55.31     42.64     87.79\n",
       "DS            4.59      3.53      3.72\n",
       "PC           19.12     37.76      0.00\n",
       "PS3         103.38    106.86     35.29\n",
       "PS4         108.74    141.09     15.96\n",
       "PSP           0.13      0.42     10.47\n",
       "PSV          10.98     11.36     21.04\n",
       "Wii          17.45     11.92      3.39\n",
       "WiiU         38.10     25.13     13.01\n",
       "X360        140.05     74.52      1.57\n",
       "XOne         93.12     51.59      0.34"
      ]
     },
     "execution_count": 121,
     "metadata": {},
     "output_type": "execute_result"
    }
   ],
   "source": [
    "#сгруппируем игры по платформам и посчитаем сумму продаж для каждого региона\n",
    "data_2012_2016.groupby('platform').agg({'na_sales':'sum', 'eu_sales':'sum', 'jp_sales':'sum'})"
   ]
  },
  {
   "cell_type": "code",
   "execution_count": 122,
   "metadata": {
    "scrolled": false
   },
   "outputs": [
    {
     "data": {
      "image/png": "[encoded data removed]",
      "text/plain": [
       "<Figure size 864x432 with 1 Axes>"
      ]
     },
     "metadata": {
      "needs_background": "light"
     },
     "output_type": "display_data"
    }
   ],
   "source": [
    "#построим график по кол-ву продаж на разных платформах для каждого региона\n",
    "data_2012_2016.groupby('platform').agg({'na_sales':'sum', 'eu_sales':'sum', 'jp_sales':'sum'}).plot(kind='bar', figsize=(12,6))\n",
    "plt.title('Сумма продаж на разных платформах для регионов')\n",
    "plt.xlabel('Платформы')\n",
    "plt.ylabel('Сумма продаж, млн');"
   ]
  },
  {
   "cell_type": "markdown",
   "metadata": {},
   "source": [
    "**Топ-5 платформ:**  \n",
    "\n",
    "для Северной Америки(NA) - X360, PS4, PS3, XOne, 3DS      \n",
    "для Европы(EU) - PS4, PS3, X360, XOne, 3DS     \n",
    "для Японии(JP) - 3DS, PS3, PSV, PS4, WiiU    \n",
    "\n",
    "Самые большие продажи игр в Северной Америке и Европе. Доля продаж на японском рынке значительно ниже.  \n",
    "\n",
    "Абсолютные лидеры во всех регионах платформы 3DS, PS3 и PS4.\n",
    "\n",
    "Популярные в Северной Америке и Европе платформы X360 и XOne не пользуются популярностью в Японии. Вместо них в топ-5 вошли PSV и WiiU."
   ]
  },
  {
   "cell_type": "markdown",
   "metadata": {},
   "source": [
    "- Определим для каждого региона самые популярные жанры: посчитаем сумму продаж."
   ]
  },
  {
   "cell_type": "code",
   "execution_count": 123,
   "metadata": {},
   "outputs": [
    {
     "data": {
      "text/html": [
       "<div>\n",
       "<style scoped>\n",
       "    .dataframe tbody tr th:only-of-type {\n",
       "        vertical-align: middle;\n",
       "    }\n",
       "\n",
       "    .dataframe tbody tr th {\n",
       "        vertical-align: top;\n",
       "    }\n",
       "\n",
       "    .dataframe thead th {\n",
       "        text-align: right;\n",
       "    }\n",
       "</style>\n",
       "<table border=\"1\" class=\"dataframe\">\n",
       "  <thead>\n",
       "    <tr style=\"text-align: right;\">\n",
       "      <th></th>\n",
       "      <th>na_sales</th>\n",
       "      <th>eu_sales</th>\n",
       "      <th>jp_sales</th>\n",
       "    </tr>\n",
       "    <tr>\n",
       "      <th>genre</th>\n",
       "      <th></th>\n",
       "      <th></th>\n",
       "      <th></th>\n",
       "    </tr>\n",
       "  </thead>\n",
       "  <tbody>\n",
       "    <tr>\n",
       "      <td>Action</td>\n",
       "      <td>177.84</td>\n",
       "      <td>159.34</td>\n",
       "      <td>52.80</td>\n",
       "    </tr>\n",
       "    <tr>\n",
       "      <td>Adventure</td>\n",
       "      <td>8.92</td>\n",
       "      <td>9.46</td>\n",
       "      <td>8.24</td>\n",
       "    </tr>\n",
       "    <tr>\n",
       "      <td>Fighting</td>\n",
       "      <td>19.79</td>\n",
       "      <td>10.79</td>\n",
       "      <td>9.44</td>\n",
       "    </tr>\n",
       "    <tr>\n",
       "      <td>Misc</td>\n",
       "      <td>38.19</td>\n",
       "      <td>26.32</td>\n",
       "      <td>12.86</td>\n",
       "    </tr>\n",
       "    <tr>\n",
       "      <td>Platform</td>\n",
       "      <td>25.38</td>\n",
       "      <td>21.41</td>\n",
       "      <td>8.63</td>\n",
       "    </tr>\n",
       "    <tr>\n",
       "      <td>Puzzle</td>\n",
       "      <td>1.13</td>\n",
       "      <td>1.40</td>\n",
       "      <td>2.14</td>\n",
       "    </tr>\n",
       "    <tr>\n",
       "      <td>Racing</td>\n",
       "      <td>17.22</td>\n",
       "      <td>27.29</td>\n",
       "      <td>2.50</td>\n",
       "    </tr>\n",
       "    <tr>\n",
       "      <td>Role-Playing</td>\n",
       "      <td>64.00</td>\n",
       "      <td>48.53</td>\n",
       "      <td>65.44</td>\n",
       "    </tr>\n",
       "    <tr>\n",
       "      <td>Shooter</td>\n",
       "      <td>144.77</td>\n",
       "      <td>113.47</td>\n",
       "      <td>9.23</td>\n",
       "    </tr>\n",
       "    <tr>\n",
       "      <td>Simulation</td>\n",
       "      <td>7.97</td>\n",
       "      <td>14.55</td>\n",
       "      <td>10.41</td>\n",
       "    </tr>\n",
       "    <tr>\n",
       "      <td>Sports</td>\n",
       "      <td>81.53</td>\n",
       "      <td>69.09</td>\n",
       "      <td>8.01</td>\n",
       "    </tr>\n",
       "    <tr>\n",
       "      <td>Strategy</td>\n",
       "      <td>4.23</td>\n",
       "      <td>5.17</td>\n",
       "      <td>2.88</td>\n",
       "    </tr>\n",
       "  </tbody>\n",
       "</table>\n",
       "</div>"
      ],
      "text/plain": [
       "              na_sales  eu_sales  jp_sales\n",
       "genre                                     \n",
       "Action          177.84    159.34     52.80\n",
       "Adventure         8.92      9.46      8.24\n",
       "Fighting         19.79     10.79      9.44\n",
       "Misc             38.19     26.32     12.86\n",
       "Platform         25.38     21.41      8.63\n",
       "Puzzle            1.13      1.40      2.14\n",
       "Racing           17.22     27.29      2.50\n",
       "Role-Playing     64.00     48.53     65.44\n",
       "Shooter         144.77    113.47      9.23\n",
       "Simulation        7.97     14.55     10.41\n",
       "Sports           81.53     69.09      8.01\n",
       "Strategy          4.23      5.17      2.88"
      ]
     },
     "execution_count": 123,
     "metadata": {},
     "output_type": "execute_result"
    }
   ],
   "source": [
    "#сгруппируем игры по жанрам и посчитаем продажи для каждого региона\n",
    "data_2012_2016.groupby('genre').agg({'na_sales':'sum', 'eu_sales':'sum', 'jp_sales':'sum'})"
   ]
  },
  {
   "cell_type": "code",
   "execution_count": 124,
   "metadata": {},
   "outputs": [
    {
     "data": {
      "image/png": "[encoded data removed]",
      "text/plain": [
       "<Figure size 864x432 with 1 Axes>"
      ]
     },
     "metadata": {
      "needs_background": "light"
     },
     "output_type": "display_data"
    }
   ],
   "source": [
    "#построим график по кол-ву продаж разных жанров для каждого региона\n",
    "data_2012_2016.groupby('genre').agg({'na_sales':'sum', 'eu_sales':'sum', 'jp_sales':'sum'}).plot(kind='bar', figsize=(12,6))\n",
    "plt.title('Сумма продаж для разных жанров для регионов')\n",
    "plt.xlabel('Жанры')\n",
    "plt.ylabel('Сумма продаж, млн');"
   ]
  },
  {
   "cell_type": "markdown",
   "metadata": {},
   "source": [
    "**Топ-5 жанров:**  \n",
    "\n",
    "для Северной Америки(NA) - Action, Shooter, Sports, Role-Playing и Misc  \n",
    "для Европы(EU) - Action, Shooter, Sports, Role-Playing и Racing  \n",
    "для Японии(JP) - Role-Playing, Action, Misc, Simulation, Fighting  \n",
    "\n",
    "Самый популярный жанр для всех регионов Action, хотя в Японии он на втором месте.  \n",
    "\n",
    "Топ-5 жанров для Северной Америки и Европы почти не отличается. В то время как в Японии пятерка самых продаваемых жанров совершенно другая: в нее вошли Simulation и Fighting.  "
   ]
  },
  {
   "cell_type": "markdown",
   "metadata": {},
   "source": [
    "### Влияние рейтинга ESRB на продажи в отдельном регионе <a id='8'></a>"
   ]
  },
  {
   "cell_type": "code",
   "execution_count": 125,
   "metadata": {},
   "outputs": [
    {
     "data": {
      "text/html": [
       "<div>\n",
       "<style scoped>\n",
       "    .dataframe tbody tr th:only-of-type {\n",
       "        vertical-align: middle;\n",
       "    }\n",
       "\n",
       "    .dataframe tbody tr th {\n",
       "        vertical-align: top;\n",
       "    }\n",
       "\n",
       "    .dataframe thead th {\n",
       "        text-align: right;\n",
       "    }\n",
       "</style>\n",
       "<table border=\"1\" class=\"dataframe\">\n",
       "  <thead>\n",
       "    <tr style=\"text-align: right;\">\n",
       "      <th></th>\n",
       "      <th>na_sales</th>\n",
       "      <th>eu_sales</th>\n",
       "      <th>jp_sales</th>\n",
       "    </tr>\n",
       "    <tr>\n",
       "      <th>rating</th>\n",
       "      <th></th>\n",
       "      <th></th>\n",
       "      <th></th>\n",
       "    </tr>\n",
       "  </thead>\n",
       "  <tbody>\n",
       "    <tr>\n",
       "      <td>E</td>\n",
       "      <td>114.37</td>\n",
       "      <td>113.03</td>\n",
       "      <td>28.33</td>\n",
       "    </tr>\n",
       "    <tr>\n",
       "      <td>E10+</td>\n",
       "      <td>75.70</td>\n",
       "      <td>55.37</td>\n",
       "      <td>8.19</td>\n",
       "    </tr>\n",
       "    <tr>\n",
       "      <td>M</td>\n",
       "      <td>231.57</td>\n",
       "      <td>193.96</td>\n",
       "      <td>21.20</td>\n",
       "    </tr>\n",
       "    <tr>\n",
       "      <td>T</td>\n",
       "      <td>66.02</td>\n",
       "      <td>52.96</td>\n",
       "      <td>26.02</td>\n",
       "    </tr>\n",
       "    <tr>\n",
       "      <td>unknow</td>\n",
       "      <td>103.31</td>\n",
       "      <td>91.50</td>\n",
       "      <td>108.84</td>\n",
       "    </tr>\n",
       "  </tbody>\n",
       "</table>\n",
       "</div>"
      ],
      "text/plain": [
       "        na_sales  eu_sales  jp_sales\n",
       "rating                              \n",
       "E         114.37    113.03     28.33\n",
       "E10+       75.70     55.37      8.19\n",
       "M         231.57    193.96     21.20\n",
       "T          66.02     52.96     26.02\n",
       "unknow    103.31     91.50    108.84"
      ]
     },
     "execution_count": 125,
     "metadata": {},
     "output_type": "execute_result"
    }
   ],
   "source": [
    "#сгруппируем игры по рейтингу ESRB и посчитаем продажи для каждого региона\n",
    "data_2012_2016.groupby('rating').agg({'na_sales':'sum', 'eu_sales':'sum', 'jp_sales':'sum'})"
   ]
  },
  {
   "cell_type": "code",
   "execution_count": 126,
   "metadata": {},
   "outputs": [
    {
     "data": {
      "image/png": "[encoded data removed]",
      "text/plain": [
       "<Figure size 864x432 with 1 Axes>"
      ]
     },
     "metadata": {
      "needs_background": "light"
     },
     "output_type": "display_data"
    }
   ],
   "source": [
    "#построим график по кол-ву продаж для разных рейтингов ESRB для каждого региона\n",
    "data_2012_2016.groupby('rating').agg({'na_sales':'sum', 'eu_sales':'sum', 'jp_sales':'sum', 'other_sales': 'sum'}).plot(kind='bar', figsize=(12,6))\n",
    "plt.title('Сумма продаж для разных рейтингов ESRB для регионов')\n",
    "plt.xlabel('Рейтинги ESRB')\n",
    "plt.ylabel('Сумма продаж, млн');"
   ]
  },
  {
   "cell_type": "markdown",
   "metadata": {},
   "source": [
    "Больше всего игр продается в сегменте с рейтингом «M» - «Для взрослых», но общее распределние по известным рейтингам во всех регионах одинаковое.  Рейтинг ESRB не влияет на продажи в отдельном регионе.  \n",
    "\n",
    "Суммы продаж с неизвестным рейтингом отличаются, больше всего продаж с неизвестным рейтингом в Японии, возможно, потому что в Японии американская система рейтингов не так популярна."
   ]
  },
  {
   "cell_type": "markdown",
   "metadata": {},
   "source": [
    "### Вывод   \n",
    "\n",
    "Определили актуальный период для исследования - 2012-2016 гг.  \n",
    "\n",
    "На основе продаж выделили шесть потенциально прибыльных платформ: 3DS, WiiU, PSV, PC, PS4 И XOne.  \n",
    "\n",
    "Изучили влияние оценки критиков и пользователей на продажи игр: прослеживается небольшое влияние оценки критиков - чем выше оценка, тем больше продаж; влияние оценки пользователей не прослеживается.  \n",
    "\n",
    "Самыми прибыльными оказались жанры Action, Shooter, Role-Playing и Sports. Самую низкую прибыль показали жанры Puzzle и Strategy.  \n",
    "\n",
    "Самый популярный жанр Shooter, после него идут Sports и Platform. Не популярные жанры: Puzzle и Adventure.  \n",
    "\n",
    "Рынок Северной Америки и Европы очень похожи по популярности платформ и жанров. Японский рынок имеет свою специфику: топ-5 жанров сильно отличается от других регионов.  \n",
    "\n",
    "Портрет пользователя:\n",
    "- для Северной Америки и Европы: игры в жанре Action и Shooter на платформах X360, PS4 и PS3;\n",
    "- для Японии: игры в жанре Role-Playing и Action на платформах 3DS и PS3.  \n",
    "\n",
    "Самые популярные игры с рейтингом М - \"Для взрослых\". В целом рейтинг ESRB не влияет на продажи в разных регионах."
   ]
  },
  {
   "cell_type": "markdown",
   "metadata": {},
   "source": [
    "## Проверка гипотез <a id='9'></a>"
   ]
  },
  {
   "cell_type": "markdown",
   "metadata": {},
   "source": [
    "#### Первая гипотеза: средние пользовательские рейтинги платформ Xbox One и PC одинаковые \n",
    "\n",
    "**Нулевая гипотеза:** средние пользовательские рейтинги платформ Xbox One и PC равны.  \n",
    "**Альтернативная гипотеза:** средние пользовательские рейтинги платформ Xbox One и PC не равны.    \n",
    "\n",
    "Проведем t-тест для двух независимых выборок по платформам. Уровень статистической значимости зададим в 5%."
   ]
  },
  {
   "cell_type": "code",
   "execution_count": 127,
   "metadata": {
    "scrolled": true
   },
   "outputs": [],
   "source": [
    "#создаем новую таблицу для XOne без пропусков в пользовательсих оценках\n",
    "data_xone = data_2012_2016.loc[(data_2012_2016.loc[:,'platform'] == 'XOne') & (data_2012_2016.loc[:,'user_score'] > 0)]"
   ]
  },
  {
   "cell_type": "code",
   "execution_count": 128,
   "metadata": {},
   "outputs": [],
   "source": [
    "#создаем новую таблицу для pc без пропусков в пользовательсих оценках\n",
    "data_pc_second = data_2012_2016.loc[(data_2012_2016.loc[:,'platform'] == 'PC') & (data_2012_2016.loc[:,'user_score'] > 0)]"
   ]
  },
  {
   "cell_type": "code",
   "execution_count": 129,
   "metadata": {
    "scrolled": false
   },
   "outputs": [
    {
     "data": {
      "text/plain": [
       "182"
      ]
     },
     "metadata": {},
     "output_type": "display_data"
    },
    {
     "data": {
      "text/plain": [
       "206"
      ]
     },
     "metadata": {},
     "output_type": "display_data"
    }
   ],
   "source": [
    "#посмотрим на размеры выборок\n",
    "display(data_xone.shape[0])\n",
    "display(data_pc_second.shape[0])"
   ]
  },
  {
   "cell_type": "code",
   "execution_count": 130,
   "metadata": {},
   "outputs": [
    {
     "data": {
      "text/plain": [
       "0.5489537965134912"
      ]
     },
     "execution_count": 130,
     "metadata": {},
     "output_type": "execute_result"
    }
   ],
   "source": [
    "#проводим т-тест, выборки разные по размеру, установим параметр equal_var равный False\n",
    "results = st.ttest_ind (data_xone['user_score'], data_pc_second['user_score'], equal_var=False)\n",
    "results.pvalue"
   ]
  },
  {
   "cell_type": "markdown",
   "metadata": {},
   "source": [
    "Значение pvalue равно чуть больше 50%, что значительно выше уровня статистической значимости.  Полученные данные подтверждают нулевую гипотезу: средние пользовательские рейтинги платформ Xbox One и PC равны. Следовательно и первая гипотеза исследования подтверждена."
   ]
  },
  {
   "cell_type": "markdown",
   "metadata": {},
   "source": [
    "#### Вторая гипотеза : средние пользовательские рейтинги жанров Action и Sports разные.\n",
    "\n",
    "**Нулевая гипотеза:** средние пользовательские рейтинги жанров Action и Sports равны.  \n",
    "**Альтернативная гипотеза:** средние пользовательские рейтинги жанров Action и Sports не равны.    \n",
    "\n",
    "Проведем t-тест для двух независимых выборок по платформам. Уровень статистической значимости зададим в 5%."
   ]
  },
  {
   "cell_type": "code",
   "execution_count": 131,
   "metadata": {},
   "outputs": [],
   "source": [
    "#создаем новую таблицу для жанра Action без пропусков в пользовательсих оценках\n",
    "data_action = data_2012_2016.loc[(data_2012_2016.loc[:,'genre'] == 'Action') & (data_2012_2016.loc[:,'user_score'] > 0)]"
   ]
  },
  {
   "cell_type": "code",
   "execution_count": 132,
   "metadata": {},
   "outputs": [],
   "source": [
    "#создаем новую таблицу для жанра Sports без пропусков в пользовательсих оценках\n",
    "data_sports = data_2012_2016.loc[(data_2012_2016.loc[:,'genre'] == 'Sports') & (data_2012_2016.loc[:,'user_score'] > 0)]"
   ]
  },
  {
   "cell_type": "code",
   "execution_count": 133,
   "metadata": {},
   "outputs": [
    {
     "data": {
      "text/plain": [
       "523"
      ]
     },
     "metadata": {},
     "output_type": "display_data"
    },
    {
     "data": {
      "text/plain": [
       "195"
      ]
     },
     "metadata": {},
     "output_type": "display_data"
    }
   ],
   "source": [
    "#посмотрим на размеры выборок\n",
    "display(data_action.shape[0])\n",
    "display(data_sports.shape[0])"
   ]
  },
  {
   "cell_type": "code",
   "execution_count": 134,
   "metadata": {},
   "outputs": [
    {
     "data": {
      "text/plain": [
       "4.24307776572644e-20"
      ]
     },
     "execution_count": 134,
     "metadata": {},
     "output_type": "execute_result"
    }
   ],
   "source": [
    "#проводим т-тест, выборки разные по размеру, установим параметр equal_var равный False\n",
    "results = st.ttest_ind (data_action['user_score'], data_sports['user_score'], equal_var=False)\n",
    "results.pvalue"
   ]
  },
  {
   "cell_type": "markdown",
   "metadata": {},
   "source": [
    "Мы получили pvalue в экспоненциальной форме записи числа, потому что у нас очень маленькое значение близкое к 0, а значит pvalue меньше уровня статистической значимости. Мы отвергаем нулевую гипотезу и принимаем альтернативную. Следовательно вторая гипотеза исследования подтверждена: средние пользовательские рейтинги жанров Action и Sports разные."
   ]
  },
  {
   "cell_type": "markdown",
   "metadata": {},
   "source": [
    "### Вывод  \n",
    "\n",
    "Исследуемые данные подтвердили обе гипотезв нашего исследования."
   ]
  },
  {
   "cell_type": "markdown",
   "metadata": {},
   "source": [
    "## Итоги исследования <a id='10'></a>\n",
    "\n",
    "Прежде чем исследовать данные и подтверждать гипотезы, мы ознакомились с данными, проверили их корректность, привели к единому стилю написание столбцов, заполнили пропуски, изменили некоторые типы данных, добавили столбец с недостающей информацией.  \n",
    "\n",
    "Исследуя данные, определили что:  \n",
    "\n",
    "- актуальный период для построения прогноза на 2017 г - промежуток между 2012 и 2016 гг;  \n",
    "- средний срок жизни платформы составляет примерно 10 лет;  \n",
    "- наиболее перспективные и прибыльные платформы: DS, WiiU, PSV, PC, PS4 И XOne;  \n",
    "- существует небольшая связь между продажами и оценкой критиков: чем выше оценка, тем больше продаж, а вот связь между продажами и оценками пользователей не прослеживается;  \n",
    "- самый популярный жанр Shooter, а самый прибыльный Action, не популярный жанр с самыми низкими продажами Puzzle;  \n",
    "- североамериканский и европейский рынки похожи как по популярным платформам, так и по самым продаваемым жанрам, японский рынок отличается;\n",
    "- больше всего игр продается в сегменте с рейтингом «Для взрослых», рейтинг ESRB не влияет на продажи в отдельном регионе.  \n",
    "\n",
    "Исхода из полученных данных, проверили гипотезы:  \n",
    "\n",
    "- Первая гипотеза: средние пользовательские рейтинги платформ Xbox One и PC одинаковые - подтверждена.  \n",
    "- Вторая гипотеза : средние пользовательские рейтинги жанров Action и Sports разные - подтверждена.\n"
   ]
  },
  {
   "cell_type": "code",
   "execution_count": null,
   "metadata": {},
   "outputs": [],
   "source": []
  }
 ],
 "metadata": {
  "ExecuteTimeLog": [
   {
    "duration": 972,
    "start_time": "2022-01-19T07:40:19.591Z"
   },
   {
    "duration": 2,
    "start_time": "2022-01-19T07:40:36.326Z"
   },
   {
    "duration": 32,
    "start_time": "2022-01-19T07:44:48.570Z"
   },
   {
    "duration": 50,
    "start_time": "2022-01-19T07:44:59.551Z"
   },
   {
    "duration": 40,
    "start_time": "2022-01-19T07:45:10.114Z"
   },
   {
    "duration": 42,
    "start_time": "2022-01-19T07:45:33.355Z"
   },
   {
    "duration": 341,
    "start_time": "2022-01-19T07:46:23.631Z"
   },
   {
    "duration": 60,
    "start_time": "2022-01-19T07:46:34.980Z"
   },
   {
    "duration": 247,
    "start_time": "2022-01-19T08:11:26.208Z"
   },
   {
    "duration": 216,
    "start_time": "2022-01-19T08:11:33.277Z"
   },
   {
    "duration": 4,
    "start_time": "2022-01-19T08:13:31.476Z"
   },
   {
    "duration": 5,
    "start_time": "2022-01-19T08:16:52.097Z"
   },
   {
    "duration": 1751,
    "start_time": "2022-01-19T08:22:13.839Z"
   },
   {
    "duration": 4,
    "start_time": "2022-01-19T08:24:49.666Z"
   },
   {
    "duration": 8,
    "start_time": "2022-01-19T08:25:11.672Z"
   },
   {
    "duration": 8,
    "start_time": "2022-01-19T08:27:39.244Z"
   },
   {
    "duration": 11,
    "start_time": "2022-01-19T08:28:28.085Z"
   },
   {
    "duration": 5,
    "start_time": "2022-01-19T08:34:03.443Z"
   },
   {
    "duration": 9,
    "start_time": "2022-01-19T08:34:27.491Z"
   },
   {
    "duration": 17,
    "start_time": "2022-01-19T08:48:59.967Z"
   },
   {
    "duration": 14,
    "start_time": "2022-01-19T08:49:42.564Z"
   },
   {
    "duration": 6,
    "start_time": "2022-01-19T09:07:09.844Z"
   },
   {
    "duration": 5,
    "start_time": "2022-01-19T09:12:22.929Z"
   },
   {
    "duration": 253,
    "start_time": "2022-01-19T09:13:44.866Z"
   },
   {
    "duration": 4,
    "start_time": "2022-01-19T09:14:06.788Z"
   },
   {
    "duration": 5,
    "start_time": "2022-01-19T09:14:51.179Z"
   },
   {
    "duration": 9,
    "start_time": "2022-01-19T09:18:04.503Z"
   },
   {
    "duration": 3,
    "start_time": "2022-01-19T09:18:21.929Z"
   },
   {
    "duration": 8,
    "start_time": "2022-01-19T09:18:21.941Z"
   },
   {
    "duration": 53,
    "start_time": "2022-01-19T09:18:21.950Z"
   },
   {
    "duration": 5,
    "start_time": "2022-01-19T09:18:22.005Z"
   },
   {
    "duration": 13,
    "start_time": "2022-01-19T09:18:22.011Z"
   },
   {
    "duration": 7,
    "start_time": "2022-01-19T09:18:22.025Z"
   },
   {
    "duration": 6,
    "start_time": "2022-01-19T09:18:22.034Z"
   },
   {
    "duration": 6,
    "start_time": "2022-01-19T09:18:22.041Z"
   },
   {
    "duration": 7,
    "start_time": "2022-01-19T09:18:22.049Z"
   },
   {
    "duration": 7,
    "start_time": "2022-01-19T09:18:29.040Z"
   },
   {
    "duration": 12,
    "start_time": "2022-01-19T09:18:33.218Z"
   },
   {
    "duration": 5,
    "start_time": "2022-01-19T09:18:36.220Z"
   },
   {
    "duration": 4,
    "start_time": "2022-01-19T09:18:49.364Z"
   },
   {
    "duration": 6,
    "start_time": "2022-01-19T09:18:51.900Z"
   },
   {
    "duration": 4,
    "start_time": "2022-01-19T09:18:55.260Z"
   },
   {
    "duration": 15,
    "start_time": "2022-01-19T09:34:07.948Z"
   },
   {
    "duration": 17,
    "start_time": "2022-01-19T09:52:34.351Z"
   },
   {
    "duration": 305,
    "start_time": "2022-01-20T03:49:48.200Z"
   },
   {
    "duration": 1006,
    "start_time": "2022-01-20T03:49:54.282Z"
   },
   {
    "duration": 2,
    "start_time": "2022-01-20T03:49:55.290Z"
   },
   {
    "duration": 65,
    "start_time": "2022-01-20T03:49:55.294Z"
   },
   {
    "duration": 4,
    "start_time": "2022-01-20T03:49:55.360Z"
   },
   {
    "duration": 25,
    "start_time": "2022-01-20T03:49:55.365Z"
   },
   {
    "duration": 7,
    "start_time": "2022-01-20T03:49:55.391Z"
   },
   {
    "duration": 19,
    "start_time": "2022-01-20T03:49:55.399Z"
   },
   {
    "duration": 12,
    "start_time": "2022-01-20T03:49:55.420Z"
   },
   {
    "duration": 12,
    "start_time": "2022-01-20T03:49:55.434Z"
   },
   {
    "duration": 15,
    "start_time": "2022-01-20T03:49:55.448Z"
   },
   {
    "duration": 28,
    "start_time": "2022-01-20T03:49:55.465Z"
   },
   {
    "duration": 27,
    "start_time": "2022-01-20T03:49:55.494Z"
   },
   {
    "duration": 28,
    "start_time": "2022-01-20T03:49:55.522Z"
   },
   {
    "duration": 23,
    "start_time": "2022-01-20T03:49:55.552Z"
   },
   {
    "duration": 20,
    "start_time": "2022-01-20T03:49:55.576Z"
   },
   {
    "duration": 39,
    "start_time": "2022-01-20T03:49:55.597Z"
   },
   {
    "duration": 19,
    "start_time": "2022-01-20T03:49:55.637Z"
   },
   {
    "duration": 22,
    "start_time": "2022-01-20T03:49:59.485Z"
   },
   {
    "duration": 15,
    "start_time": "2022-01-20T03:52:27.174Z"
   },
   {
    "duration": 172,
    "start_time": "2022-01-20T03:57:42.907Z"
   },
   {
    "duration": 176,
    "start_time": "2022-01-20T04:00:07.594Z"
   },
   {
    "duration": 38,
    "start_time": "2022-01-20T04:16:43.800Z"
   },
   {
    "duration": 8,
    "start_time": "2022-01-20T04:19:56.357Z"
   },
   {
    "duration": 16,
    "start_time": "2022-01-20T04:20:12.525Z"
   },
   {
    "duration": 20,
    "start_time": "2022-01-20T04:21:12.995Z"
   },
   {
    "duration": 334,
    "start_time": "2022-01-20T04:24:01.746Z"
   },
   {
    "duration": 20,
    "start_time": "2022-01-20T04:28:18.450Z"
   },
   {
    "duration": 230,
    "start_time": "2022-01-20T04:33:30.951Z"
   },
   {
    "duration": 194,
    "start_time": "2022-01-20T04:34:20.542Z"
   },
   {
    "duration": 145,
    "start_time": "2022-01-20T04:34:52.495Z"
   },
   {
    "duration": 179,
    "start_time": "2022-01-20T04:35:33.823Z"
   },
   {
    "duration": 223,
    "start_time": "2022-01-20T04:35:59.662Z"
   },
   {
    "duration": 223,
    "start_time": "2022-01-20T04:42:20.307Z"
   },
   {
    "duration": 294,
    "start_time": "2022-01-20T04:49:23.351Z"
   },
   {
    "duration": 100,
    "start_time": "2022-01-20T04:49:36.857Z"
   },
   {
    "duration": 220,
    "start_time": "2022-01-20T04:49:45.217Z"
   },
   {
    "duration": 306,
    "start_time": "2022-01-20T04:54:56.391Z"
   },
   {
    "duration": 479,
    "start_time": "2022-01-20T04:55:40.564Z"
   },
   {
    "duration": 293,
    "start_time": "2022-01-20T04:55:49.199Z"
   },
   {
    "duration": 6679,
    "start_time": "2022-01-20T04:56:56.057Z"
   },
   {
    "duration": 353,
    "start_time": "2022-01-20T04:57:59.974Z"
   },
   {
    "duration": 277,
    "start_time": "2022-01-20T04:58:46.039Z"
   },
   {
    "duration": 111,
    "start_time": "2022-01-20T05:01:06.172Z"
   },
   {
    "duration": 354,
    "start_time": "2022-01-20T05:01:25.245Z"
   },
   {
    "duration": 259,
    "start_time": "2022-01-20T05:02:41.878Z"
   },
   {
    "duration": 261,
    "start_time": "2022-01-20T05:03:37.195Z"
   },
   {
    "duration": 6957,
    "start_time": "2022-01-20T05:14:54.581Z"
   },
   {
    "duration": 13,
    "start_time": "2022-01-20T05:15:22.349Z"
   },
   {
    "duration": 19,
    "start_time": "2022-01-20T05:15:37.899Z"
   },
   {
    "duration": 12204,
    "start_time": "2022-01-20T05:20:18.866Z"
   },
   {
    "duration": 23,
    "start_time": "2022-01-20T05:21:03.095Z"
   },
   {
    "duration": 21,
    "start_time": "2022-01-20T05:21:18.824Z"
   },
   {
    "duration": 21,
    "start_time": "2022-01-20T05:23:45.369Z"
   },
   {
    "duration": 22,
    "start_time": "2022-01-20T05:24:06.772Z"
   },
   {
    "duration": 387,
    "start_time": "2022-01-20T07:10:37.108Z"
   },
   {
    "duration": 1348,
    "start_time": "2022-01-20T07:10:42.881Z"
   },
   {
    "duration": 5,
    "start_time": "2022-01-20T07:10:44.232Z"
   },
   {
    "duration": 83,
    "start_time": "2022-01-20T07:10:44.240Z"
   },
   {
    "duration": 6,
    "start_time": "2022-01-20T07:10:44.326Z"
   },
   {
    "duration": 46,
    "start_time": "2022-01-20T07:10:44.334Z"
   },
   {
    "duration": 9,
    "start_time": "2022-01-20T07:10:44.383Z"
   },
   {
    "duration": 10,
    "start_time": "2022-01-20T07:10:44.395Z"
   },
   {
    "duration": 8,
    "start_time": "2022-01-20T07:10:44.411Z"
   },
   {
    "duration": 9,
    "start_time": "2022-01-20T07:10:44.423Z"
   },
   {
    "duration": 16,
    "start_time": "2022-01-20T07:10:44.470Z"
   },
   {
    "duration": 20,
    "start_time": "2022-01-20T07:10:44.489Z"
   },
   {
    "duration": 11,
    "start_time": "2022-01-20T07:10:44.512Z"
   },
   {
    "duration": 48,
    "start_time": "2022-01-20T07:10:44.525Z"
   },
   {
    "duration": 11,
    "start_time": "2022-01-20T07:10:44.575Z"
   },
   {
    "duration": 10,
    "start_time": "2022-01-20T07:10:44.589Z"
   },
   {
    "duration": 67,
    "start_time": "2022-01-20T07:10:44.602Z"
   },
   {
    "duration": 25,
    "start_time": "2022-01-20T07:10:44.672Z"
   },
   {
    "duration": 27,
    "start_time": "2022-01-20T07:10:44.700Z"
   },
   {
    "duration": 369,
    "start_time": "2022-01-20T07:10:44.730Z"
   },
   {
    "duration": 9,
    "start_time": "2022-01-20T07:10:45.102Z"
   },
   {
    "duration": 56,
    "start_time": "2022-01-20T07:10:45.114Z"
   },
   {
    "duration": 466,
    "start_time": "2022-01-20T07:10:48.393Z"
   },
   {
    "duration": 464,
    "start_time": "2022-01-20T07:12:06.242Z"
   },
   {
    "duration": 744,
    "start_time": "2022-01-20T07:28:09.257Z"
   },
   {
    "duration": 1083,
    "start_time": "2022-01-20T07:29:18.361Z"
   },
   {
    "duration": 744,
    "start_time": "2022-01-20T07:29:52.918Z"
   },
   {
    "duration": 1017,
    "start_time": "2022-01-20T07:31:54.900Z"
   },
   {
    "duration": 701,
    "start_time": "2022-01-20T07:32:24.787Z"
   },
   {
    "duration": 487,
    "start_time": "2022-01-20T07:32:41.963Z"
   },
   {
    "duration": 320,
    "start_time": "2022-01-20T08:07:45.630Z"
   },
   {
    "duration": 36,
    "start_time": "2022-01-20T08:10:37.726Z"
   },
   {
    "duration": 214,
    "start_time": "2022-01-20T08:21:31.420Z"
   },
   {
    "duration": 9,
    "start_time": "2022-01-20T08:24:48.410Z"
   },
   {
    "duration": 346,
    "start_time": "2022-01-20T08:25:18.078Z"
   },
   {
    "duration": 379,
    "start_time": "2022-01-20T08:25:38.326Z"
   },
   {
    "duration": 326,
    "start_time": "2022-01-20T08:26:44.634Z"
   },
   {
    "duration": 5,
    "start_time": "2022-01-20T08:26:49.703Z"
   },
   {
    "duration": 325,
    "start_time": "2022-01-20T08:26:52.655Z"
   },
   {
    "duration": 305,
    "start_time": "2022-01-20T08:27:31.520Z"
   },
   {
    "duration": 650,
    "start_time": "2022-01-20T08:28:23.569Z"
   },
   {
    "duration": 231,
    "start_time": "2022-01-20T08:28:48.666Z"
   },
   {
    "duration": 24,
    "start_time": "2022-01-20T08:29:24.707Z"
   },
   {
    "duration": 213,
    "start_time": "2022-01-20T08:36:09.287Z"
   },
   {
    "duration": 105,
    "start_time": "2022-01-20T08:36:28.148Z"
   },
   {
    "duration": 223,
    "start_time": "2022-01-20T08:36:42.519Z"
   },
   {
    "duration": 318,
    "start_time": "2022-01-20T08:39:09.605Z"
   },
   {
    "duration": 205,
    "start_time": "2022-01-20T08:39:48.254Z"
   },
   {
    "duration": 333,
    "start_time": "2022-01-20T08:39:56.286Z"
   },
   {
    "duration": 19,
    "start_time": "2022-01-20T08:40:10.446Z"
   },
   {
    "duration": 333,
    "start_time": "2022-01-20T08:40:38.445Z"
   },
   {
    "duration": 337,
    "start_time": "2022-01-20T08:40:53.755Z"
   },
   {
    "duration": 7398,
    "start_time": "2022-01-20T08:42:07.849Z"
   },
   {
    "duration": 308,
    "start_time": "2022-01-20T08:42:34.623Z"
   },
   {
    "duration": 348,
    "start_time": "2022-01-20T08:47:40.481Z"
   },
   {
    "duration": 20,
    "start_time": "2022-01-20T08:48:13.973Z"
   },
   {
    "duration": 553,
    "start_time": "2022-01-20T08:49:07.548Z"
   },
   {
    "duration": 347,
    "start_time": "2022-01-20T08:53:37.688Z"
   },
   {
    "duration": 462,
    "start_time": "2022-01-20T08:54:12.751Z"
   },
   {
    "duration": 507,
    "start_time": "2022-01-20T08:54:33.134Z"
   },
   {
    "duration": 364,
    "start_time": "2022-01-20T08:54:47.415Z"
   },
   {
    "duration": 390,
    "start_time": "2022-01-20T08:55:40.261Z"
   },
   {
    "duration": 1375,
    "start_time": "2022-01-21T03:52:39.333Z"
   },
   {
    "duration": 3,
    "start_time": "2022-01-21T03:52:40.711Z"
   },
   {
    "duration": 69,
    "start_time": "2022-01-21T03:52:40.723Z"
   },
   {
    "duration": 6,
    "start_time": "2022-01-21T03:52:40.795Z"
   },
   {
    "duration": 34,
    "start_time": "2022-01-21T03:52:40.803Z"
   },
   {
    "duration": 8,
    "start_time": "2022-01-21T03:52:40.839Z"
   },
   {
    "duration": 7,
    "start_time": "2022-01-21T03:52:40.850Z"
   },
   {
    "duration": 7,
    "start_time": "2022-01-21T03:52:40.862Z"
   },
   {
    "duration": 6,
    "start_time": "2022-01-21T03:52:40.871Z"
   },
   {
    "duration": 52,
    "start_time": "2022-01-21T03:52:40.880Z"
   },
   {
    "duration": 18,
    "start_time": "2022-01-21T03:52:40.934Z"
   },
   {
    "duration": 9,
    "start_time": "2022-01-21T03:52:40.954Z"
   },
   {
    "duration": 5,
    "start_time": "2022-01-21T03:52:40.965Z"
   },
   {
    "duration": 8,
    "start_time": "2022-01-21T03:52:40.973Z"
   },
   {
    "duration": 46,
    "start_time": "2022-01-21T03:52:40.983Z"
   },
   {
    "duration": 25,
    "start_time": "2022-01-21T03:52:41.031Z"
   },
   {
    "duration": 22,
    "start_time": "2022-01-21T03:52:41.058Z"
   },
   {
    "duration": 54,
    "start_time": "2022-01-21T03:52:41.082Z"
   },
   {
    "duration": 310,
    "start_time": "2022-01-21T03:52:41.138Z"
   },
   {
    "duration": 12,
    "start_time": "2022-01-21T03:52:41.451Z"
   },
   {
    "duration": 820,
    "start_time": "2022-01-21T03:52:41.465Z"
   },
   {
    "duration": 461,
    "start_time": "2022-01-21T03:52:42.288Z"
   },
   {
    "duration": 9,
    "start_time": "2022-01-21T03:52:42.753Z"
   },
   {
    "duration": 461,
    "start_time": "2022-01-21T03:52:42.765Z"
   },
   {
    "duration": 8,
    "start_time": "2022-01-21T04:13:20.167Z"
   },
   {
    "duration": 515,
    "start_time": "2022-01-21T04:17:49.999Z"
   },
   {
    "duration": 7,
    "start_time": "2022-01-21T04:18:13.249Z"
   },
   {
    "duration": 19,
    "start_time": "2022-01-21T04:18:54.911Z"
   },
   {
    "duration": 8,
    "start_time": "2022-01-21T04:21:07.038Z"
   },
   {
    "duration": 19,
    "start_time": "2022-01-21T04:21:11.964Z"
   },
   {
    "duration": 7,
    "start_time": "2022-01-21T04:23:35.076Z"
   },
   {
    "duration": 5,
    "start_time": "2022-01-21T04:23:42.350Z"
   },
   {
    "duration": 8206,
    "start_time": "2022-01-21T04:33:39.891Z"
   },
   {
    "duration": 2995,
    "start_time": "2022-01-21T04:33:45.106Z"
   },
   {
    "duration": 336,
    "start_time": "2022-01-21T04:34:29.094Z"
   },
   {
    "duration": 19,
    "start_time": "2022-01-21T04:34:38.058Z"
   },
   {
    "duration": 115,
    "start_time": "2022-01-21T04:44:30.382Z"
   },
   {
    "duration": 117,
    "start_time": "2022-01-21T04:45:23.752Z"
   },
   {
    "duration": 10,
    "start_time": "2022-01-21T04:46:06.008Z"
   },
   {
    "duration": 6,
    "start_time": "2022-01-21T04:47:36.954Z"
   },
   {
    "duration": 5,
    "start_time": "2022-01-21T04:47:43.316Z"
   },
   {
    "duration": 6,
    "start_time": "2022-01-21T04:50:21.057Z"
   },
   {
    "duration": 32,
    "start_time": "2022-01-21T04:50:23.096Z"
   },
   {
    "duration": 476,
    "start_time": "2022-01-21T04:50:48.328Z"
   },
   {
    "duration": 564,
    "start_time": "2022-01-21T04:50:58.920Z"
   },
   {
    "duration": 443,
    "start_time": "2022-01-21T04:51:52.539Z"
   },
   {
    "duration": 6,
    "start_time": "2022-01-21T04:53:38.318Z"
   },
   {
    "duration": 7,
    "start_time": "2022-01-21T04:53:58.874Z"
   },
   {
    "duration": 117,
    "start_time": "2022-01-21T05:06:36.527Z"
   },
   {
    "duration": 5,
    "start_time": "2022-01-21T05:41:14.847Z"
   },
   {
    "duration": 481,
    "start_time": "2022-01-21T05:43:34.077Z"
   },
   {
    "duration": 317,
    "start_time": "2022-01-21T05:43:52.207Z"
   },
   {
    "duration": 4,
    "start_time": "2022-01-21T05:44:40.322Z"
   },
   {
    "duration": 5,
    "start_time": "2022-01-21T05:44:40.329Z"
   },
   {
    "duration": 88,
    "start_time": "2022-01-21T05:44:40.337Z"
   },
   {
    "duration": 7,
    "start_time": "2022-01-21T05:44:40.427Z"
   },
   {
    "duration": 25,
    "start_time": "2022-01-21T05:44:40.437Z"
   },
   {
    "duration": 11,
    "start_time": "2022-01-21T05:44:40.465Z"
   },
   {
    "duration": 48,
    "start_time": "2022-01-21T05:44:40.479Z"
   },
   {
    "duration": 11,
    "start_time": "2022-01-21T05:44:40.531Z"
   },
   {
    "duration": 8,
    "start_time": "2022-01-21T05:44:40.544Z"
   },
   {
    "duration": 12,
    "start_time": "2022-01-21T05:44:40.555Z"
   },
   {
    "duration": 36,
    "start_time": "2022-01-21T05:44:40.570Z"
   },
   {
    "duration": 7,
    "start_time": "2022-01-21T05:44:40.624Z"
   },
   {
    "duration": 5,
    "start_time": "2022-01-21T05:44:40.634Z"
   },
   {
    "duration": 9,
    "start_time": "2022-01-21T05:44:40.641Z"
   },
   {
    "duration": 7,
    "start_time": "2022-01-21T05:44:40.653Z"
   },
   {
    "duration": 62,
    "start_time": "2022-01-21T05:44:40.663Z"
   },
   {
    "duration": 23,
    "start_time": "2022-01-21T05:44:40.727Z"
   },
   {
    "duration": 25,
    "start_time": "2022-01-21T05:44:40.753Z"
   },
   {
    "duration": 330,
    "start_time": "2022-01-21T05:44:40.781Z"
   },
   {
    "duration": 15,
    "start_time": "2022-01-21T05:44:41.113Z"
   },
   {
    "duration": 704,
    "start_time": "2022-01-21T05:44:41.130Z"
   },
   {
    "duration": 440,
    "start_time": "2022-01-21T05:44:41.838Z"
   },
   {
    "duration": 9,
    "start_time": "2022-01-21T05:44:42.281Z"
   },
   {
    "duration": 343,
    "start_time": "2022-01-21T05:44:42.293Z"
   },
   {
    "duration": 6,
    "start_time": "2022-01-21T05:44:42.639Z"
   },
   {
    "duration": 465,
    "start_time": "2022-01-21T05:44:42.648Z"
   },
   {
    "duration": 11,
    "start_time": "2022-01-21T05:44:43.116Z"
   },
   {
    "duration": 464,
    "start_time": "2022-01-21T05:44:43.129Z"
   },
   {
    "duration": 7,
    "start_time": "2022-01-21T05:44:43.595Z"
   },
   {
    "duration": 6,
    "start_time": "2022-01-21T05:44:45.050Z"
   },
   {
    "duration": 598,
    "start_time": "2022-01-21T05:44:47.982Z"
   },
   {
    "duration": 343,
    "start_time": "2022-01-21T05:45:30.414Z"
   },
   {
    "duration": 421,
    "start_time": "2022-01-21T05:45:50.135Z"
   },
   {
    "duration": 6,
    "start_time": "2022-01-21T05:46:05.804Z"
   },
   {
    "duration": 579,
    "start_time": "2022-01-21T05:46:08.325Z"
   },
   {
    "duration": 7,
    "start_time": "2022-01-21T05:46:11.809Z"
   },
   {
    "duration": 624,
    "start_time": "2022-01-21T05:48:12.233Z"
   },
   {
    "duration": 595,
    "start_time": "2022-01-21T05:49:31.713Z"
   },
   {
    "duration": 8,
    "start_time": "2022-01-21T05:49:46.542Z"
   },
   {
    "duration": 6,
    "start_time": "2022-01-21T05:49:58.575Z"
   },
   {
    "duration": 8,
    "start_time": "2022-01-21T05:53:25.867Z"
   },
   {
    "duration": 629,
    "start_time": "2022-01-21T05:53:51.287Z"
   },
   {
    "duration": 8,
    "start_time": "2022-01-21T05:54:06.894Z"
   },
   {
    "duration": 9,
    "start_time": "2022-01-21T05:54:22.424Z"
   },
   {
    "duration": 425,
    "start_time": "2022-01-21T05:54:44.549Z"
   },
   {
    "duration": 8,
    "start_time": "2022-01-21T05:55:10.738Z"
   },
   {
    "duration": 20,
    "start_time": "2022-01-21T06:13:07.393Z"
   },
   {
    "duration": 25,
    "start_time": "2022-01-21T06:39:09.698Z"
   },
   {
    "duration": 18,
    "start_time": "2022-01-21T06:42:56.832Z"
   },
   {
    "duration": 325,
    "start_time": "2022-01-21T06:44:22.469Z"
   },
   {
    "duration": 8064,
    "start_time": "2022-01-21T06:46:16.448Z"
   },
   {
    "duration": 317,
    "start_time": "2022-01-21T06:46:36.775Z"
   },
   {
    "duration": 18,
    "start_time": "2022-01-21T06:46:46.462Z"
   },
   {
    "duration": 301,
    "start_time": "2022-01-22T03:54:13.167Z"
   },
   {
    "duration": 1462,
    "start_time": "2022-01-22T03:54:20.477Z"
   },
   {
    "duration": 3,
    "start_time": "2022-01-22T03:54:21.942Z"
   },
   {
    "duration": 79,
    "start_time": "2022-01-22T03:54:21.948Z"
   },
   {
    "duration": 6,
    "start_time": "2022-01-22T03:54:22.030Z"
   },
   {
    "duration": 37,
    "start_time": "2022-01-22T03:54:22.039Z"
   },
   {
    "duration": 8,
    "start_time": "2022-01-22T03:54:22.079Z"
   },
   {
    "duration": 10,
    "start_time": "2022-01-22T03:54:22.090Z"
   },
   {
    "duration": 10,
    "start_time": "2022-01-22T03:54:22.103Z"
   },
   {
    "duration": 9,
    "start_time": "2022-01-22T03:54:22.116Z"
   },
   {
    "duration": 12,
    "start_time": "2022-01-22T03:54:22.164Z"
   },
   {
    "duration": 26,
    "start_time": "2022-01-22T03:54:22.179Z"
   },
   {
    "duration": 10,
    "start_time": "2022-01-22T03:54:22.208Z"
   },
   {
    "duration": 8,
    "start_time": "2022-01-22T03:54:22.220Z"
   },
   {
    "duration": 10,
    "start_time": "2022-01-22T03:54:22.266Z"
   },
   {
    "duration": 10,
    "start_time": "2022-01-22T03:54:22.279Z"
   },
   {
    "duration": 31,
    "start_time": "2022-01-22T03:54:22.292Z"
   },
   {
    "duration": 63,
    "start_time": "2022-01-22T03:54:22.326Z"
   },
   {
    "duration": 26,
    "start_time": "2022-01-22T03:54:22.392Z"
   },
   {
    "duration": 343,
    "start_time": "2022-01-22T03:54:22.421Z"
   },
   {
    "duration": 12,
    "start_time": "2022-01-22T03:54:22.767Z"
   },
   {
    "duration": 747,
    "start_time": "2022-01-22T03:54:22.782Z"
   },
   {
    "duration": 469,
    "start_time": "2022-01-22T03:54:23.532Z"
   },
   {
    "duration": 10,
    "start_time": "2022-01-22T03:54:24.006Z"
   },
   {
    "duration": 379,
    "start_time": "2022-01-22T03:54:24.019Z"
   },
   {
    "duration": 6,
    "start_time": "2022-01-22T03:54:24.401Z"
   },
   {
    "duration": 725,
    "start_time": "2022-01-22T03:54:24.410Z"
   },
   {
    "duration": 9,
    "start_time": "2022-01-22T03:54:25.138Z"
   },
   {
    "duration": 543,
    "start_time": "2022-01-22T03:54:25.151Z"
   },
   {
    "duration": 7,
    "start_time": "2022-01-22T03:54:25.696Z"
   },
   {
    "duration": 8,
    "start_time": "2022-01-22T03:54:25.705Z"
   },
   {
    "duration": 619,
    "start_time": "2022-01-22T03:54:25.715Z"
   },
   {
    "duration": 6,
    "start_time": "2022-01-22T03:54:26.337Z"
   },
   {
    "duration": 513,
    "start_time": "2022-01-22T03:54:26.345Z"
   },
   {
    "duration": 7,
    "start_time": "2022-01-22T03:54:26.864Z"
   },
   {
    "duration": 9,
    "start_time": "2022-01-22T03:54:26.874Z"
   },
   {
    "duration": 462,
    "start_time": "2022-01-22T03:54:26.886Z"
   },
   {
    "duration": 16,
    "start_time": "2022-01-22T03:54:27.351Z"
   },
   {
    "duration": 490,
    "start_time": "2022-01-22T03:54:27.370Z"
   },
   {
    "duration": 7,
    "start_time": "2022-01-22T03:54:27.864Z"
   },
   {
    "duration": 19,
    "start_time": "2022-01-22T03:54:27.873Z"
   },
   {
    "duration": 14,
    "start_time": "2022-01-22T03:54:27.894Z"
   },
   {
    "duration": 322,
    "start_time": "2022-01-22T03:54:56.931Z"
   },
   {
    "duration": 262,
    "start_time": "2022-01-22T03:55:22.783Z"
   },
   {
    "duration": 308,
    "start_time": "2022-01-22T03:55:40.493Z"
   },
   {
    "duration": 11,
    "start_time": "2022-01-22T03:56:21.237Z"
   },
   {
    "duration": 15,
    "start_time": "2022-01-22T03:56:42.584Z"
   },
   {
    "duration": 91,
    "start_time": "2022-01-22T03:58:58.763Z"
   },
   {
    "duration": 105,
    "start_time": "2022-01-22T03:59:46.364Z"
   },
   {
    "duration": 6526,
    "start_time": "2022-01-22T04:01:47.559Z"
   },
   {
    "duration": 15,
    "start_time": "2022-01-22T04:04:49.576Z"
   },
   {
    "duration": 21,
    "start_time": "2022-01-22T04:07:50.253Z"
   },
   {
    "duration": 17,
    "start_time": "2022-01-22T04:08:34.915Z"
   },
   {
    "duration": 361,
    "start_time": "2022-01-22T04:11:51.564Z"
   },
   {
    "duration": 10,
    "start_time": "2022-01-22T04:11:57.861Z"
   },
   {
    "duration": 18,
    "start_time": "2022-01-22T04:12:06.963Z"
   },
   {
    "duration": 231,
    "start_time": "2022-01-22T04:12:10.475Z"
   },
   {
    "duration": 252,
    "start_time": "2022-01-22T04:13:49.403Z"
   },
   {
    "duration": 263,
    "start_time": "2022-01-22T04:13:59.332Z"
   },
   {
    "duration": 487,
    "start_time": "2022-01-22T04:14:30.801Z"
   },
   {
    "duration": 238,
    "start_time": "2022-01-22T04:16:18.323Z"
   },
   {
    "duration": 112,
    "start_time": "2022-01-22T04:16:51.184Z"
   },
   {
    "duration": 253,
    "start_time": "2022-01-22T04:18:52.845Z"
   },
   {
    "duration": 309,
    "start_time": "2022-01-22T04:19:32.674Z"
   },
   {
    "duration": 353,
    "start_time": "2022-01-22T04:21:45.230Z"
   },
   {
    "duration": 400,
    "start_time": "2022-01-22T04:26:05.814Z"
   },
   {
    "duration": 549,
    "start_time": "2022-01-22T04:27:01.853Z"
   },
   {
    "duration": 452,
    "start_time": "2022-01-22T04:27:10.361Z"
   },
   {
    "duration": 458,
    "start_time": "2022-01-22T04:38:34.016Z"
   },
   {
    "duration": 20,
    "start_time": "2022-01-22T04:48:48.734Z"
   },
   {
    "duration": 503,
    "start_time": "2022-01-22T04:51:51.725Z"
   },
   {
    "duration": 97,
    "start_time": "2022-01-22T05:15:04.427Z"
   },
   {
    "duration": 266,
    "start_time": "2022-01-22T05:18:06.571Z"
   },
   {
    "duration": 16,
    "start_time": "2022-01-22T05:18:14.074Z"
   },
   {
    "duration": 394,
    "start_time": "2022-01-22T05:20:14.774Z"
   },
   {
    "duration": 5,
    "start_time": "2022-01-22T05:41:53.170Z"
   },
   {
    "duration": 7,
    "start_time": "2022-01-22T05:41:53.178Z"
   },
   {
    "duration": 74,
    "start_time": "2022-01-22T05:41:53.188Z"
   },
   {
    "duration": 6,
    "start_time": "2022-01-22T05:41:53.265Z"
   },
   {
    "duration": 18,
    "start_time": "2022-01-22T05:41:53.281Z"
   },
   {
    "duration": 8,
    "start_time": "2022-01-22T05:41:53.301Z"
   },
   {
    "duration": 8,
    "start_time": "2022-01-22T05:41:53.312Z"
   },
   {
    "duration": 45,
    "start_time": "2022-01-22T05:41:53.323Z"
   },
   {
    "duration": 12,
    "start_time": "2022-01-22T05:41:53.370Z"
   },
   {
    "duration": 13,
    "start_time": "2022-01-22T05:41:53.384Z"
   },
   {
    "duration": 19,
    "start_time": "2022-01-22T05:41:53.400Z"
   },
   {
    "duration": 47,
    "start_time": "2022-01-22T05:41:53.422Z"
   },
   {
    "duration": 6,
    "start_time": "2022-01-22T05:41:53.474Z"
   },
   {
    "duration": 9,
    "start_time": "2022-01-22T05:41:53.483Z"
   },
   {
    "duration": 10,
    "start_time": "2022-01-22T05:41:53.495Z"
   },
   {
    "duration": 66,
    "start_time": "2022-01-22T05:41:53.507Z"
   },
   {
    "duration": 24,
    "start_time": "2022-01-22T05:41:53.575Z"
   },
   {
    "duration": 24,
    "start_time": "2022-01-22T05:41:53.601Z"
   },
   {
    "duration": 336,
    "start_time": "2022-01-22T05:41:53.628Z"
   },
   {
    "duration": 9,
    "start_time": "2022-01-22T05:41:53.967Z"
   },
   {
    "duration": 718,
    "start_time": "2022-01-22T05:41:53.979Z"
   },
   {
    "duration": 464,
    "start_time": "2022-01-22T05:41:54.700Z"
   },
   {
    "duration": 9,
    "start_time": "2022-01-22T05:41:55.167Z"
   },
   {
    "duration": 368,
    "start_time": "2022-01-22T05:41:55.179Z"
   },
   {
    "duration": 14,
    "start_time": "2022-01-22T05:41:55.551Z"
   },
   {
    "duration": 481,
    "start_time": "2022-01-22T05:41:55.568Z"
   },
   {
    "duration": 16,
    "start_time": "2022-01-22T05:41:56.052Z"
   },
   {
    "duration": 572,
    "start_time": "2022-01-22T05:41:56.072Z"
   },
   {
    "duration": 19,
    "start_time": "2022-01-22T05:41:56.647Z"
   },
   {
    "duration": 7,
    "start_time": "2022-01-22T05:41:56.669Z"
   },
   {
    "duration": 458,
    "start_time": "2022-01-22T05:41:56.681Z"
   },
   {
    "duration": 6,
    "start_time": "2022-01-22T05:41:57.142Z"
   },
   {
    "duration": 497,
    "start_time": "2022-01-22T05:41:57.151Z"
   },
   {
    "duration": 14,
    "start_time": "2022-01-22T05:41:57.650Z"
   },
   {
    "duration": 6,
    "start_time": "2022-01-22T05:41:57.666Z"
   },
   {
    "duration": 478,
    "start_time": "2022-01-22T05:41:57.674Z"
   },
   {
    "duration": 15,
    "start_time": "2022-01-22T05:41:58.154Z"
   },
   {
    "duration": 477,
    "start_time": "2022-01-22T05:41:58.172Z"
   },
   {
    "duration": 14,
    "start_time": "2022-01-22T05:41:58.652Z"
   },
   {
    "duration": 18,
    "start_time": "2022-01-22T05:41:58.668Z"
   },
   {
    "duration": 326,
    "start_time": "2022-01-22T05:41:58.688Z"
   },
   {
    "duration": 18,
    "start_time": "2022-01-22T05:41:59.017Z"
   },
   {
    "duration": 494,
    "start_time": "2022-01-22T05:41:59.037Z"
   },
   {
    "duration": 32,
    "start_time": "2022-01-22T05:41:59.534Z"
   },
   {
    "duration": 513,
    "start_time": "2022-01-22T05:41:59.569Z"
   },
   {
    "duration": 18,
    "start_time": "2022-01-22T05:42:00.084Z"
   },
   {
    "duration": 396,
    "start_time": "2022-01-22T05:42:00.105Z"
   },
   {
    "duration": 214,
    "start_time": "2022-01-23T03:38:55.086Z"
   },
   {
    "duration": 1106,
    "start_time": "2022-01-23T03:39:02.407Z"
   },
   {
    "duration": 3,
    "start_time": "2022-01-23T03:39:03.515Z"
   },
   {
    "duration": 66,
    "start_time": "2022-01-23T03:39:03.520Z"
   },
   {
    "duration": 4,
    "start_time": "2022-01-23T03:39:03.588Z"
   },
   {
    "duration": 15,
    "start_time": "2022-01-23T03:39:03.594Z"
   },
   {
    "duration": 6,
    "start_time": "2022-01-23T03:39:03.611Z"
   },
   {
    "duration": 28,
    "start_time": "2022-01-23T03:39:03.619Z"
   },
   {
    "duration": 8,
    "start_time": "2022-01-23T03:39:03.649Z"
   },
   {
    "duration": 5,
    "start_time": "2022-01-23T03:39:03.660Z"
   },
   {
    "duration": 10,
    "start_time": "2022-01-23T03:39:03.668Z"
   },
   {
    "duration": 14,
    "start_time": "2022-01-23T03:39:03.680Z"
   },
   {
    "duration": 45,
    "start_time": "2022-01-23T03:39:03.696Z"
   },
   {
    "duration": 6,
    "start_time": "2022-01-23T03:39:03.744Z"
   },
   {
    "duration": 9,
    "start_time": "2022-01-23T03:39:03.751Z"
   },
   {
    "duration": 7,
    "start_time": "2022-01-23T03:39:03.762Z"
   },
   {
    "duration": 23,
    "start_time": "2022-01-23T03:39:03.771Z"
   },
   {
    "duration": 50,
    "start_time": "2022-01-23T03:39:03.796Z"
   },
   {
    "duration": 16,
    "start_time": "2022-01-23T03:39:03.848Z"
   },
   {
    "duration": 211,
    "start_time": "2022-01-23T03:39:03.866Z"
   },
   {
    "duration": 8,
    "start_time": "2022-01-23T03:39:04.078Z"
   },
   {
    "duration": 458,
    "start_time": "2022-01-23T03:39:04.087Z"
   },
   {
    "duration": 297,
    "start_time": "2022-01-23T03:39:04.547Z"
   },
   {
    "duration": 7,
    "start_time": "2022-01-23T03:39:04.845Z"
   },
   {
    "duration": 212,
    "start_time": "2022-01-23T03:39:04.853Z"
   },
   {
    "duration": 5,
    "start_time": "2022-01-23T03:39:05.066Z"
   },
   {
    "duration": 342,
    "start_time": "2022-01-23T03:39:05.072Z"
   },
   {
    "duration": 4,
    "start_time": "2022-01-23T03:39:05.417Z"
   },
   {
    "duration": 366,
    "start_time": "2022-01-23T03:39:05.423Z"
   },
   {
    "duration": 4,
    "start_time": "2022-01-23T03:39:05.790Z"
   },
   {
    "duration": 6,
    "start_time": "2022-01-23T03:39:05.796Z"
   },
   {
    "duration": 385,
    "start_time": "2022-01-23T03:39:05.803Z"
   },
   {
    "duration": 4,
    "start_time": "2022-01-23T03:39:06.189Z"
   },
   {
    "duration": 328,
    "start_time": "2022-01-23T03:39:06.195Z"
   },
   {
    "duration": 5,
    "start_time": "2022-01-23T03:39:06.525Z"
   },
   {
    "duration": 11,
    "start_time": "2022-01-23T03:39:06.532Z"
   },
   {
    "duration": 341,
    "start_time": "2022-01-23T03:39:06.545Z"
   },
   {
    "duration": 5,
    "start_time": "2022-01-23T03:39:06.888Z"
   },
   {
    "duration": 355,
    "start_time": "2022-01-23T03:39:06.895Z"
   },
   {
    "duration": 4,
    "start_time": "2022-01-23T03:39:07.251Z"
   },
   {
    "duration": 12,
    "start_time": "2022-01-23T03:39:07.257Z"
   },
   {
    "duration": 191,
    "start_time": "2022-01-23T03:39:07.271Z"
   },
   {
    "duration": 11,
    "start_time": "2022-01-23T03:39:07.464Z"
   },
   {
    "duration": 277,
    "start_time": "2022-01-23T03:39:07.476Z"
   },
   {
    "duration": 9,
    "start_time": "2022-01-23T03:39:07.755Z"
   },
   {
    "duration": 286,
    "start_time": "2022-01-23T03:39:07.766Z"
   },
   {
    "duration": 9,
    "start_time": "2022-01-23T03:39:08.053Z"
   },
   {
    "duration": 356,
    "start_time": "2022-01-23T03:39:08.064Z"
   },
   {
    "duration": 4,
    "start_time": "2022-01-23T03:39:08.421Z"
   },
   {
    "duration": 329,
    "start_time": "2022-01-23T03:41:13.751Z"
   },
   {
    "duration": 4,
    "start_time": "2022-01-23T03:42:29.295Z"
   },
   {
    "duration": 5,
    "start_time": "2022-01-23T03:46:12.817Z"
   },
   {
    "duration": 13,
    "start_time": "2022-01-23T03:47:00.147Z"
   },
   {
    "duration": 326,
    "start_time": "2022-01-23T03:47:20.167Z"
   },
   {
    "duration": 13,
    "start_time": "2022-01-23T03:47:31.662Z"
   },
   {
    "duration": 5,
    "start_time": "2022-01-23T03:48:06.953Z"
   },
   {
    "duration": 5,
    "start_time": "2022-01-23T03:49:19.401Z"
   },
   {
    "duration": 6,
    "start_time": "2022-01-23T03:49:25.801Z"
   },
   {
    "duration": 6,
    "start_time": "2022-01-23T03:49:54.690Z"
   },
   {
    "duration": 6,
    "start_time": "2022-01-23T03:53:03.879Z"
   },
   {
    "duration": 13,
    "start_time": "2022-01-23T03:53:18.450Z"
   },
   {
    "duration": 6,
    "start_time": "2022-01-23T03:55:21.580Z"
   },
   {
    "duration": 206,
    "start_time": "2022-01-23T03:55:33.519Z"
   },
   {
    "duration": 4,
    "start_time": "2022-01-23T03:55:44.956Z"
   },
   {
    "duration": 5,
    "start_time": "2022-01-23T03:55:52.596Z"
   },
   {
    "duration": 5,
    "start_time": "2022-01-23T03:56:09.045Z"
   },
   {
    "duration": 6,
    "start_time": "2022-01-23T04:02:41.555Z"
   },
   {
    "duration": 6,
    "start_time": "2022-01-23T04:03:18.460Z"
   },
   {
    "duration": 6,
    "start_time": "2022-01-23T04:03:50.366Z"
   },
   {
    "duration": 6,
    "start_time": "2022-01-23T04:03:51.453Z"
   },
   {
    "duration": 5,
    "start_time": "2022-01-23T04:04:00.702Z"
   },
   {
    "duration": 5,
    "start_time": "2022-01-23T04:04:35.958Z"
   },
   {
    "duration": 1019,
    "start_time": "2022-01-23T04:37:52.766Z"
   },
   {
    "duration": 3,
    "start_time": "2022-01-23T04:37:53.787Z"
   },
   {
    "duration": 73,
    "start_time": "2022-01-23T04:37:53.793Z"
   },
   {
    "duration": 5,
    "start_time": "2022-01-23T04:37:53.868Z"
   },
   {
    "duration": 38,
    "start_time": "2022-01-23T04:37:53.874Z"
   },
   {
    "duration": 10,
    "start_time": "2022-01-23T04:37:53.914Z"
   },
   {
    "duration": 33,
    "start_time": "2022-01-23T04:37:53.925Z"
   },
   {
    "duration": 22,
    "start_time": "2022-01-23T04:37:53.960Z"
   },
   {
    "duration": 36,
    "start_time": "2022-01-23T04:37:53.983Z"
   },
   {
    "duration": 8,
    "start_time": "2022-01-23T04:37:54.021Z"
   },
   {
    "duration": 11,
    "start_time": "2022-01-23T04:37:54.031Z"
   },
   {
    "duration": 8,
    "start_time": "2022-01-23T04:37:54.043Z"
   },
   {
    "duration": 6,
    "start_time": "2022-01-23T04:37:54.052Z"
   },
   {
    "duration": 8,
    "start_time": "2022-01-23T04:37:54.059Z"
   },
   {
    "duration": 7,
    "start_time": "2022-01-23T04:37:54.068Z"
   },
   {
    "duration": 22,
    "start_time": "2022-01-23T04:37:54.077Z"
   },
   {
    "duration": 16,
    "start_time": "2022-01-23T04:37:54.100Z"
   },
   {
    "duration": 25,
    "start_time": "2022-01-23T04:37:54.117Z"
   },
   {
    "duration": 187,
    "start_time": "2022-01-23T04:37:54.143Z"
   },
   {
    "duration": 14,
    "start_time": "2022-01-23T04:37:54.332Z"
   },
   {
    "duration": 416,
    "start_time": "2022-01-23T04:37:54.347Z"
   },
   {
    "duration": 270,
    "start_time": "2022-01-23T04:37:54.765Z"
   },
   {
    "duration": 6,
    "start_time": "2022-01-23T04:37:55.038Z"
   },
   {
    "duration": 305,
    "start_time": "2022-01-23T04:37:55.046Z"
   },
   {
    "duration": 4,
    "start_time": "2022-01-23T04:37:55.352Z"
   },
   {
    "duration": 320,
    "start_time": "2022-01-23T04:37:55.358Z"
   },
   {
    "duration": 4,
    "start_time": "2022-01-23T04:37:55.680Z"
   },
   {
    "duration": 302,
    "start_time": "2022-01-23T04:37:55.686Z"
   },
   {
    "duration": 4,
    "start_time": "2022-01-23T04:37:55.990Z"
   },
   {
    "duration": 6,
    "start_time": "2022-01-23T04:37:55.996Z"
   },
   {
    "duration": 368,
    "start_time": "2022-01-23T04:37:56.003Z"
   },
   {
    "duration": 5,
    "start_time": "2022-01-23T04:37:56.372Z"
   },
   {
    "duration": 298,
    "start_time": "2022-01-23T04:37:56.378Z"
   },
   {
    "duration": 4,
    "start_time": "2022-01-23T04:37:56.678Z"
   },
   {
    "duration": 6,
    "start_time": "2022-01-23T04:37:56.683Z"
   },
   {
    "duration": 302,
    "start_time": "2022-01-23T04:37:56.691Z"
   },
   {
    "duration": 5,
    "start_time": "2022-01-23T04:37:56.994Z"
   },
   {
    "duration": 321,
    "start_time": "2022-01-23T04:37:57.000Z"
   },
   {
    "duration": 5,
    "start_time": "2022-01-23T04:37:57.322Z"
   },
   {
    "duration": 21,
    "start_time": "2022-01-23T04:37:57.328Z"
   },
   {
    "duration": 182,
    "start_time": "2022-01-23T04:37:57.351Z"
   },
   {
    "duration": 14,
    "start_time": "2022-01-23T04:37:57.535Z"
   },
   {
    "duration": 278,
    "start_time": "2022-01-23T04:37:57.551Z"
   },
   {
    "duration": 19,
    "start_time": "2022-01-23T04:37:57.830Z"
   },
   {
    "duration": 292,
    "start_time": "2022-01-23T04:37:57.851Z"
   },
   {
    "duration": 10,
    "start_time": "2022-01-23T04:37:58.144Z"
   },
   {
    "duration": 212,
    "start_time": "2022-01-23T04:37:58.155Z"
   },
   {
    "duration": 5,
    "start_time": "2022-01-23T04:37:58.369Z"
   },
   {
    "duration": 38,
    "start_time": "2022-01-23T04:37:58.375Z"
   },
   {
    "duration": 14,
    "start_time": "2022-01-23T04:37:58.414Z"
   },
   {
    "duration": 40,
    "start_time": "2022-01-23T04:37:58.430Z"
   },
   {
    "duration": 18,
    "start_time": "2022-01-23T04:37:58.471Z"
   },
   {
    "duration": 11,
    "start_time": "2022-01-23T04:37:58.490Z"
   },
   {
    "duration": 21,
    "start_time": "2022-01-23T04:37:58.503Z"
   },
   {
    "duration": 8,
    "start_time": "2022-01-23T04:37:58.525Z"
   },
   {
    "duration": 1186,
    "start_time": "2022-01-29T11:07:35.669Z"
   },
   {
    "duration": 2,
    "start_time": "2022-01-29T11:07:36.858Z"
   },
   {
    "duration": 72,
    "start_time": "2022-01-29T11:07:36.862Z"
   },
   {
    "duration": 5,
    "start_time": "2022-01-29T11:07:36.937Z"
   },
   {
    "duration": 20,
    "start_time": "2022-01-29T11:07:36.944Z"
   },
   {
    "duration": 33,
    "start_time": "2022-01-29T11:07:36.966Z"
   },
   {
    "duration": 6,
    "start_time": "2022-01-29T11:07:37.000Z"
   },
   {
    "duration": 12,
    "start_time": "2022-01-29T11:07:37.009Z"
   },
   {
    "duration": 11,
    "start_time": "2022-01-29T11:07:37.024Z"
   },
   {
    "duration": 13,
    "start_time": "2022-01-29T11:07:37.037Z"
   },
   {
    "duration": 16,
    "start_time": "2022-01-29T11:07:37.052Z"
   },
   {
    "duration": 33,
    "start_time": "2022-01-29T11:07:37.070Z"
   },
   {
    "duration": 13,
    "start_time": "2022-01-29T11:07:37.105Z"
   },
   {
    "duration": 17,
    "start_time": "2022-01-29T11:07:37.121Z"
   },
   {
    "duration": 11,
    "start_time": "2022-01-29T11:07:37.139Z"
   },
   {
    "duration": 24,
    "start_time": "2022-01-29T11:07:37.152Z"
   },
   {
    "duration": 28,
    "start_time": "2022-01-29T11:07:37.178Z"
   },
   {
    "duration": 18,
    "start_time": "2022-01-29T11:07:37.208Z"
   },
   {
    "duration": 272,
    "start_time": "2022-01-29T11:07:37.228Z"
   },
   {
    "duration": 8,
    "start_time": "2022-01-29T11:07:37.502Z"
   },
   {
    "duration": 559,
    "start_time": "2022-01-29T11:07:37.512Z"
   },
   {
    "duration": 382,
    "start_time": "2022-01-29T11:07:38.074Z"
   },
   {
    "duration": 7,
    "start_time": "2022-01-29T11:07:38.461Z"
   },
   {
    "duration": 288,
    "start_time": "2022-01-29T11:07:38.471Z"
   },
   {
    "duration": 4,
    "start_time": "2022-01-29T11:07:38.761Z"
   },
   {
    "duration": 411,
    "start_time": "2022-01-29T11:07:38.767Z"
   },
   {
    "duration": 5,
    "start_time": "2022-01-29T11:07:39.179Z"
   },
   {
    "duration": 411,
    "start_time": "2022-01-29T11:07:39.199Z"
   },
   {
    "duration": 5,
    "start_time": "2022-01-29T11:07:39.612Z"
   },
   {
    "duration": 18,
    "start_time": "2022-01-29T11:07:39.619Z"
   },
   {
    "duration": 448,
    "start_time": "2022-01-29T11:07:39.639Z"
   },
   {
    "duration": 12,
    "start_time": "2022-01-29T11:07:40.090Z"
   },
   {
    "duration": 402,
    "start_time": "2022-01-29T11:07:40.105Z"
   },
   {
    "duration": 7,
    "start_time": "2022-01-29T11:07:40.509Z"
   },
   {
    "duration": 9,
    "start_time": "2022-01-29T11:07:40.518Z"
   },
   {
    "duration": 380,
    "start_time": "2022-01-29T11:07:40.528Z"
   },
   {
    "duration": 5,
    "start_time": "2022-01-29T11:07:40.911Z"
   },
   {
    "duration": 399,
    "start_time": "2022-01-29T11:07:40.919Z"
   },
   {
    "duration": 6,
    "start_time": "2022-01-29T11:07:41.320Z"
   },
   {
    "duration": 14,
    "start_time": "2022-01-29T11:07:41.328Z"
   },
   {
    "duration": 261,
    "start_time": "2022-01-29T11:07:41.343Z"
   },
   {
    "duration": 13,
    "start_time": "2022-01-29T11:07:41.606Z"
   },
   {
    "duration": 383,
    "start_time": "2022-01-29T11:07:41.620Z"
   },
   {
    "duration": 15,
    "start_time": "2022-01-29T11:07:42.005Z"
   },
   {
    "duration": 411,
    "start_time": "2022-01-29T11:07:42.022Z"
   },
   {
    "duration": 12,
    "start_time": "2022-01-29T11:07:42.435Z"
   },
   {
    "duration": 295,
    "start_time": "2022-01-29T11:07:42.449Z"
   },
   {
    "duration": 6,
    "start_time": "2022-01-29T11:07:42.746Z"
   },
   {
    "duration": 12,
    "start_time": "2022-01-29T11:07:42.754Z"
   },
   {
    "duration": 10,
    "start_time": "2022-01-29T11:07:42.768Z"
   },
   {
    "duration": 22,
    "start_time": "2022-01-29T11:07:42.780Z"
   },
   {
    "duration": 10,
    "start_time": "2022-01-29T11:07:42.803Z"
   },
   {
    "duration": 17,
    "start_time": "2022-01-29T11:07:42.816Z"
   },
   {
    "duration": 8,
    "start_time": "2022-01-29T11:07:42.835Z"
   },
   {
    "duration": 8,
    "start_time": "2022-01-29T11:07:42.845Z"
   },
   {
    "duration": 2683,
    "start_time": "2022-01-30T03:35:33.228Z"
   },
   {
    "duration": 1243,
    "start_time": "2022-01-30T03:35:42.722Z"
   },
   {
    "duration": 2,
    "start_time": "2022-01-30T03:35:43.967Z"
   },
   {
    "duration": 63,
    "start_time": "2022-01-30T03:35:43.971Z"
   },
   {
    "duration": 4,
    "start_time": "2022-01-30T03:35:44.036Z"
   },
   {
    "duration": 17,
    "start_time": "2022-01-30T03:35:44.042Z"
   },
   {
    "duration": 6,
    "start_time": "2022-01-30T03:35:44.061Z"
   },
   {
    "duration": 33,
    "start_time": "2022-01-30T03:35:44.069Z"
   },
   {
    "duration": 8,
    "start_time": "2022-01-30T03:35:44.104Z"
   },
   {
    "duration": 5,
    "start_time": "2022-01-30T03:35:44.115Z"
   },
   {
    "duration": 10,
    "start_time": "2022-01-30T03:35:44.123Z"
   },
   {
    "duration": 13,
    "start_time": "2022-01-30T03:35:44.134Z"
   },
   {
    "duration": 11,
    "start_time": "2022-01-30T03:35:44.149Z"
   },
   {
    "duration": 40,
    "start_time": "2022-01-30T03:35:44.162Z"
   },
   {
    "duration": 6,
    "start_time": "2022-01-30T03:35:44.204Z"
   },
   {
    "duration": 7,
    "start_time": "2022-01-30T03:35:44.212Z"
   },
   {
    "duration": 9,
    "start_time": "2022-01-30T03:35:44.220Z"
   },
   {
    "duration": 20,
    "start_time": "2022-01-30T03:35:44.231Z"
   },
   {
    "duration": 51,
    "start_time": "2022-01-30T03:35:44.253Z"
   },
   {
    "duration": 18,
    "start_time": "2022-01-30T03:35:44.306Z"
   },
   {
    "duration": 248,
    "start_time": "2022-01-30T03:35:44.326Z"
   },
   {
    "duration": 7,
    "start_time": "2022-01-30T03:35:44.576Z"
   },
   {
    "duration": 531,
    "start_time": "2022-01-30T03:35:44.585Z"
   },
   {
    "duration": 329,
    "start_time": "2022-01-30T03:35:45.118Z"
   },
   {
    "duration": 9,
    "start_time": "2022-01-30T03:35:45.449Z"
   },
   {
    "duration": 273,
    "start_time": "2022-01-30T03:35:45.459Z"
   },
   {
    "duration": 4,
    "start_time": "2022-01-30T03:35:45.734Z"
   },
   {
    "duration": 351,
    "start_time": "2022-01-30T03:35:45.742Z"
   },
   {
    "duration": 5,
    "start_time": "2022-01-30T03:35:46.095Z"
   },
   {
    "duration": 362,
    "start_time": "2022-01-30T03:35:46.102Z"
   },
   {
    "duration": 5,
    "start_time": "2022-01-30T03:35:46.466Z"
   },
   {
    "duration": 7,
    "start_time": "2022-01-30T03:35:46.472Z"
   },
   {
    "duration": 447,
    "start_time": "2022-01-30T03:35:46.499Z"
   },
   {
    "duration": 6,
    "start_time": "2022-01-30T03:35:46.949Z"
   },
   {
    "duration": 400,
    "start_time": "2022-01-30T03:35:46.958Z"
   },
   {
    "duration": 6,
    "start_time": "2022-01-30T03:35:47.360Z"
   },
   {
    "duration": 7,
    "start_time": "2022-01-30T03:35:47.368Z"
   },
   {
    "duration": 381,
    "start_time": "2022-01-30T03:35:47.399Z"
   },
   {
    "duration": 6,
    "start_time": "2022-01-30T03:35:47.782Z"
   },
   {
    "duration": 379,
    "start_time": "2022-01-30T03:35:47.799Z"
   },
   {
    "duration": 7,
    "start_time": "2022-01-30T03:35:48.180Z"
   },
   {
    "duration": 15,
    "start_time": "2022-01-30T03:35:48.199Z"
   },
   {
    "duration": 272,
    "start_time": "2022-01-30T03:35:48.217Z"
   },
   {
    "duration": 17,
    "start_time": "2022-01-30T03:35:48.491Z"
   },
   {
    "duration": 370,
    "start_time": "2022-01-30T03:35:48.510Z"
   },
   {
    "duration": 21,
    "start_time": "2022-01-30T03:35:48.882Z"
   },
   {
    "duration": 382,
    "start_time": "2022-01-30T03:35:48.905Z"
   },
   {
    "duration": 18,
    "start_time": "2022-01-30T03:35:49.289Z"
   },
   {
    "duration": 277,
    "start_time": "2022-01-30T03:35:49.309Z"
   },
   {
    "duration": 6,
    "start_time": "2022-01-30T03:35:49.587Z"
   },
   {
    "duration": 7,
    "start_time": "2022-01-30T03:35:49.598Z"
   },
   {
    "duration": 7,
    "start_time": "2022-01-30T03:35:49.607Z"
   },
   {
    "duration": 5,
    "start_time": "2022-01-30T03:35:49.616Z"
   },
   {
    "duration": 6,
    "start_time": "2022-01-30T03:35:49.623Z"
   },
   {
    "duration": 12,
    "start_time": "2022-01-30T03:35:49.630Z"
   },
   {
    "duration": 7,
    "start_time": "2022-01-30T03:35:49.643Z"
   },
   {
    "duration": 49,
    "start_time": "2022-01-30T03:35:49.651Z"
   },
   {
    "duration": 282,
    "start_time": "2022-01-30T03:39:22.536Z"
   },
   {
    "duration": 16,
    "start_time": "2022-01-30T03:49:49.342Z"
   },
   {
    "duration": 78,
    "start_time": "2022-01-30T03:53:14.895Z"
   },
   {
    "duration": 69,
    "start_time": "2022-01-30T03:53:27.886Z"
   },
   {
    "duration": 341,
    "start_time": "2022-01-30T03:53:40.017Z"
   },
   {
    "duration": 16,
    "start_time": "2022-01-30T03:53:52.221Z"
   },
   {
    "duration": 10,
    "start_time": "2022-01-30T03:56:10.938Z"
   },
   {
    "duration": 252,
    "start_time": "2022-01-30T03:56:27.166Z"
   },
   {
    "duration": 6,
    "start_time": "2022-01-30T03:57:10.682Z"
   },
   {
    "duration": 9,
    "start_time": "2022-01-30T03:57:24.743Z"
   },
   {
    "duration": 232,
    "start_time": "2022-01-30T03:57:39.396Z"
   },
   {
    "duration": 13,
    "start_time": "2022-01-30T03:58:42.005Z"
   },
   {
    "duration": 275,
    "start_time": "2022-01-30T03:59:51.469Z"
   },
   {
    "duration": 410,
    "start_time": "2022-01-30T04:00:20.038Z"
   },
   {
    "duration": 231,
    "start_time": "2022-01-30T04:01:33.678Z"
   },
   {
    "duration": 239,
    "start_time": "2022-01-30T04:01:44.999Z"
   },
   {
    "duration": 463,
    "start_time": "2022-01-30T04:12:55.048Z"
   },
   {
    "duration": 373,
    "start_time": "2022-01-30T04:13:07.759Z"
   },
   {
    "duration": 250,
    "start_time": "2022-01-30T04:13:23.115Z"
   },
   {
    "duration": 406,
    "start_time": "2022-01-30T04:16:58.084Z"
   },
   {
    "duration": 240,
    "start_time": "2022-01-30T04:17:25.145Z"
   },
   {
    "duration": 3,
    "start_time": "2022-01-30T04:20:31.985Z"
   },
   {
    "duration": 14,
    "start_time": "2022-01-30T04:20:31.990Z"
   },
   {
    "duration": 58,
    "start_time": "2022-01-30T04:20:32.006Z"
   },
   {
    "duration": 4,
    "start_time": "2022-01-30T04:20:32.066Z"
   },
   {
    "duration": 32,
    "start_time": "2022-01-30T04:20:32.072Z"
   },
   {
    "duration": 7,
    "start_time": "2022-01-30T04:20:32.106Z"
   },
   {
    "duration": 10,
    "start_time": "2022-01-30T04:20:32.115Z"
   },
   {
    "duration": 7,
    "start_time": "2022-01-30T04:20:32.127Z"
   },
   {
    "duration": 7,
    "start_time": "2022-01-30T04:20:32.136Z"
   },
   {
    "duration": 57,
    "start_time": "2022-01-30T04:20:32.145Z"
   },
   {
    "duration": 15,
    "start_time": "2022-01-30T04:20:32.204Z"
   },
   {
    "duration": 18,
    "start_time": "2022-01-30T04:20:32.221Z"
   },
   {
    "duration": 19,
    "start_time": "2022-01-30T04:20:32.240Z"
   },
   {
    "duration": 9,
    "start_time": "2022-01-30T04:20:32.261Z"
   },
   {
    "duration": 9,
    "start_time": "2022-01-30T04:20:32.271Z"
   },
   {
    "duration": 18,
    "start_time": "2022-01-30T04:20:32.282Z"
   },
   {
    "duration": 25,
    "start_time": "2022-01-30T04:20:32.302Z"
   },
   {
    "duration": 17,
    "start_time": "2022-01-30T04:20:32.329Z"
   },
   {
    "duration": 18,
    "start_time": "2022-01-30T04:20:32.350Z"
   },
   {
    "duration": 246,
    "start_time": "2022-01-30T04:20:32.400Z"
   },
   {
    "duration": 9,
    "start_time": "2022-01-30T04:20:32.647Z"
   },
   {
    "duration": 531,
    "start_time": "2022-01-30T04:20:32.657Z"
   },
   {
    "duration": 432,
    "start_time": "2022-01-30T04:20:33.190Z"
   },
   {
    "duration": 7,
    "start_time": "2022-01-30T04:20:33.623Z"
   },
   {
    "duration": 263,
    "start_time": "2022-01-30T04:20:33.632Z"
   },
   {
    "duration": 4,
    "start_time": "2022-01-30T04:20:33.898Z"
   },
   {
    "duration": 408,
    "start_time": "2022-01-30T04:20:33.904Z"
   },
   {
    "duration": 4,
    "start_time": "2022-01-30T04:20:34.314Z"
   },
   {
    "duration": 365,
    "start_time": "2022-01-30T04:20:34.320Z"
   },
   {
    "duration": 5,
    "start_time": "2022-01-30T04:20:34.687Z"
   },
   {
    "duration": 5,
    "start_time": "2022-01-30T04:20:34.698Z"
   },
   {
    "duration": 367,
    "start_time": "2022-01-30T04:20:34.705Z"
   },
   {
    "duration": 5,
    "start_time": "2022-01-30T04:20:35.074Z"
   },
   {
    "duration": 387,
    "start_time": "2022-01-30T04:20:35.080Z"
   },
   {
    "duration": 5,
    "start_time": "2022-01-30T04:20:35.469Z"
   },
   {
    "duration": 24,
    "start_time": "2022-01-30T04:20:35.475Z"
   },
   {
    "duration": 365,
    "start_time": "2022-01-30T04:20:35.501Z"
   },
   {
    "duration": 5,
    "start_time": "2022-01-30T04:20:35.868Z"
   },
   {
    "duration": 393,
    "start_time": "2022-01-30T04:20:35.874Z"
   },
   {
    "duration": 5,
    "start_time": "2022-01-30T04:20:36.269Z"
   },
   {
    "duration": 29,
    "start_time": "2022-01-30T04:20:36.275Z"
   },
   {
    "duration": 245,
    "start_time": "2022-01-30T04:20:36.305Z"
   },
   {
    "duration": 13,
    "start_time": "2022-01-30T04:20:36.552Z"
   },
   {
    "duration": 368,
    "start_time": "2022-01-30T04:20:36.566Z"
   },
   {
    "duration": 12,
    "start_time": "2022-01-30T04:20:36.936Z"
   },
   {
    "duration": 382,
    "start_time": "2022-01-30T04:20:36.950Z"
   },
   {
    "duration": 11,
    "start_time": "2022-01-30T04:20:37.334Z"
   },
   {
    "duration": 393,
    "start_time": "2022-01-30T04:20:37.347Z"
   },
   {
    "duration": 6,
    "start_time": "2022-01-30T04:20:37.741Z"
   },
   {
    "duration": 10,
    "start_time": "2022-01-30T04:20:37.748Z"
   },
   {
    "duration": 7,
    "start_time": "2022-01-30T04:20:37.760Z"
   },
   {
    "duration": 31,
    "start_time": "2022-01-30T04:20:37.769Z"
   },
   {
    "duration": 5,
    "start_time": "2022-01-30T04:20:37.802Z"
   },
   {
    "duration": 9,
    "start_time": "2022-01-30T04:20:37.809Z"
   },
   {
    "duration": 5,
    "start_time": "2022-01-30T04:20:37.822Z"
   },
   {
    "duration": 6,
    "start_time": "2022-01-30T04:20:37.829Z"
   },
   {
    "duration": 219,
    "start_time": "2022-01-30T04:22:14.621Z"
   },
   {
    "duration": 234,
    "start_time": "2022-01-30T04:22:49.951Z"
   },
   {
    "duration": 240,
    "start_time": "2022-01-30T04:23:19.828Z"
   }
  ],
  "kernelspec": {
   "display_name": "Python 3 (ipykernel)",
   "language": "python",
   "name": "python3"
  },
  "language_info": {
   "codemirror_mode": {
    "name": "ipython",
    "version": 3
   },
   "file_extension": ".py",
   "mimetype": "text/x-python",
   "name": "python",
   "nbconvert_exporter": "python",
   "pygments_lexer": "ipython3",
   "version": "3.9.7"
  },
  "toc": {
   "base_numbering": 1,
   "nav_menu": {},
   "number_sections": false,
   "sideBar": true,
   "skip_h1_title": false,
   "title_cell": "Table of Contents",
   "title_sidebar": "Contents",
   "toc_cell": false,
   "toc_position": {
    "height": "calc(100% - 180px)",
    "left": "10px",
    "top": "150px",
    "width": "187.375px"
   },
   "toc_section_display": true,
   "toc_window_display": true
  }
 },
 "nbformat": 4,
 "nbformat_minor": 2
}
