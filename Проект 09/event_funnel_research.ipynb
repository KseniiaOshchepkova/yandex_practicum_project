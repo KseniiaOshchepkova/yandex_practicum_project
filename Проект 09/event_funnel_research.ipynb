{
 "cells": [
  {
   "cell_type": "markdown",
   "metadata": {},
   "source": [
    "# Сборный проект: "
   ]
  },
  {
   "cell_type": "markdown",
   "metadata": {},
   "source": [
    "## Введение  \n",
    "\n",
    "Стартап, который продаёт продукты питания хочет разобраться, как ведут себя пользователи его мобильного приложения.  \n",
    "\n",
    "**Цель:** изучить воронку продаж, узнать, как пользователи доходят до покупки. Исследовать результаты A/A/B-эксперимента по влиянию на пользователей изменение шрифта.  \n",
    "\n",
    "Исследование проводится в пять этапов:  \n",
    "\n",
    "1. Обзор данных  \n",
    "2. Предобработка данных  \n",
    "3. Изучение и проверка данных  \n",
    "4. Изучение воронки событий  \n",
    "5. Изучение результатов эксперимента  "
   ]
  },
  {
   "cell_type": "markdown",
   "metadata": {},
   "source": [
    "## Обзор данных  \n",
    "\n",
    "Ознакомимся с входными данными. "
   ]
  },
  {
   "cell_type": "code",
   "execution_count": 2,
   "metadata": {},
   "outputs": [],
   "source": [
    "# импортируем библиотеки\n",
    "\n",
    "import pandas as pd\n",
    "import numpy as np\n",
    "from datetime import datetime, timedelta\n",
    "from datetime import date\n",
    "from matplotlib import pyplot as plt\n",
    "from scipy import stats as st\n",
    "import math as mth"
   ]
  },
  {
   "cell_type": "code",
   "execution_count": 3,
   "metadata": {},
   "outputs": [],
   "source": [
    "# игнорируем предупреждения\n",
    "\n",
    "import warnings\n",
    "warnings.filterwarnings('ignore') "
   ]
  },
  {
   "cell_type": "code",
   "execution_count": 4,
   "metadata": {},
   "outputs": [
    {
     "data": {
      "text/html": [
       "<div>\n",
       "<style scoped>\n",
       "    .dataframe tbody tr th:only-of-type {\n",
       "        vertical-align: middle;\n",
       "    }\n",
       "\n",
       "    .dataframe tbody tr th {\n",
       "        vertical-align: top;\n",
       "    }\n",
       "\n",
       "    .dataframe thead th {\n",
       "        text-align: right;\n",
       "    }\n",
       "</style>\n",
       "<table border=\"1\" class=\"dataframe\">\n",
       "  <thead>\n",
       "    <tr style=\"text-align: right;\">\n",
       "      <th></th>\n",
       "      <th>EventName\\tDeviceIDHash\\tEventTimestamp\\tExpId</th>\n",
       "    </tr>\n",
       "  </thead>\n",
       "  <tbody>\n",
       "    <tr>\n",
       "      <th>0</th>\n",
       "      <td>MainScreenAppear\\t4575588528974610257\\t1564029...</td>\n",
       "    </tr>\n",
       "    <tr>\n",
       "      <th>1</th>\n",
       "      <td>MainScreenAppear\\t7416695313311560658\\t1564053...</td>\n",
       "    </tr>\n",
       "    <tr>\n",
       "      <th>2</th>\n",
       "      <td>PaymentScreenSuccessful\\t3518123091307005509\\t...</td>\n",
       "    </tr>\n",
       "    <tr>\n",
       "      <th>3</th>\n",
       "      <td>CartScreenAppear\\t3518123091307005509\\t1564054...</td>\n",
       "    </tr>\n",
       "    <tr>\n",
       "      <th>4</th>\n",
       "      <td>PaymentScreenSuccessful\\t6217807653094995999\\t...</td>\n",
       "    </tr>\n",
       "  </tbody>\n",
       "</table>\n",
       "</div>"
      ],
      "text/plain": [
       "      EventName\\tDeviceIDHash\\tEventTimestamp\\tExpId\n",
       "0  MainScreenAppear\\t4575588528974610257\\t1564029...\n",
       "1  MainScreenAppear\\t7416695313311560658\\t1564053...\n",
       "2  PaymentScreenSuccessful\\t3518123091307005509\\t...\n",
       "3  CartScreenAppear\\t3518123091307005509\\t1564054...\n",
       "4  PaymentScreenSuccessful\\t6217807653094995999\\t..."
      ]
     },
     "execution_count": 4,
     "metadata": {},
     "output_type": "execute_result"
    }
   ],
   "source": [
    "# прочитаем файл с данными и сохраним его в переменную\n",
    "\n",
    "data = pd.read_csv('/datasets/logs_exp.csv')\n",
    "data.head()"
   ]
  },
  {
   "cell_type": "markdown",
   "metadata": {},
   "source": [
    "Все данные в таблице \"склеины\", нужно разделить на столбцы."
   ]
  },
  {
   "cell_type": "code",
   "execution_count": 5,
   "metadata": {},
   "outputs": [
    {
     "data": {
      "text/html": [
       "<div>\n",
       "<style scoped>\n",
       "    .dataframe tbody tr th:only-of-type {\n",
       "        vertical-align: middle;\n",
       "    }\n",
       "\n",
       "    .dataframe tbody tr th {\n",
       "        vertical-align: top;\n",
       "    }\n",
       "\n",
       "    .dataframe thead th {\n",
       "        text-align: right;\n",
       "    }\n",
       "</style>\n",
       "<table border=\"1\" class=\"dataframe\">\n",
       "  <thead>\n",
       "    <tr style=\"text-align: right;\">\n",
       "      <th></th>\n",
       "      <th>EventName</th>\n",
       "      <th>DeviceIDHash</th>\n",
       "      <th>EventTimestamp</th>\n",
       "      <th>ExpId</th>\n",
       "    </tr>\n",
       "  </thead>\n",
       "  <tbody>\n",
       "    <tr>\n",
       "      <th>0</th>\n",
       "      <td>MainScreenAppear</td>\n",
       "      <td>4575588528974610257</td>\n",
       "      <td>1564029816</td>\n",
       "      <td>246</td>\n",
       "    </tr>\n",
       "    <tr>\n",
       "      <th>1</th>\n",
       "      <td>MainScreenAppear</td>\n",
       "      <td>7416695313311560658</td>\n",
       "      <td>1564053102</td>\n",
       "      <td>246</td>\n",
       "    </tr>\n",
       "    <tr>\n",
       "      <th>2</th>\n",
       "      <td>PaymentScreenSuccessful</td>\n",
       "      <td>3518123091307005509</td>\n",
       "      <td>1564054127</td>\n",
       "      <td>248</td>\n",
       "    </tr>\n",
       "    <tr>\n",
       "      <th>3</th>\n",
       "      <td>CartScreenAppear</td>\n",
       "      <td>3518123091307005509</td>\n",
       "      <td>1564054127</td>\n",
       "      <td>248</td>\n",
       "    </tr>\n",
       "    <tr>\n",
       "      <th>4</th>\n",
       "      <td>PaymentScreenSuccessful</td>\n",
       "      <td>6217807653094995999</td>\n",
       "      <td>1564055322</td>\n",
       "      <td>248</td>\n",
       "    </tr>\n",
       "  </tbody>\n",
       "</table>\n",
       "</div>"
      ],
      "text/plain": [
       "                 EventName         DeviceIDHash  EventTimestamp  ExpId\n",
       "0         MainScreenAppear  4575588528974610257      1564029816    246\n",
       "1         MainScreenAppear  7416695313311560658      1564053102    246\n",
       "2  PaymentScreenSuccessful  3518123091307005509      1564054127    248\n",
       "3         CartScreenAppear  3518123091307005509      1564054127    248\n",
       "4  PaymentScreenSuccessful  6217807653094995999      1564055322    248"
      ]
     },
     "execution_count": 5,
     "metadata": {},
     "output_type": "execute_result"
    }
   ],
   "source": [
    "# делим данные на отдельные столбцы\n",
    "\n",
    "data = pd.read_csv('/datasets/logs_exp.csv', sep = '\\t')\n",
    "data.head()"
   ]
  },
  {
   "cell_type": "code",
   "execution_count": 6,
   "metadata": {},
   "outputs": [
    {
     "name": "stdout",
     "output_type": "stream",
     "text": [
      "<class 'pandas.core.frame.DataFrame'>\n",
      "RangeIndex: 244126 entries, 0 to 244125\n",
      "Data columns (total 4 columns):\n",
      " #   Column          Non-Null Count   Dtype \n",
      "---  ------          --------------   ----- \n",
      " 0   EventName       244126 non-null  object\n",
      " 1   DeviceIDHash    244126 non-null  int64 \n",
      " 2   EventTimestamp  244126 non-null  int64 \n",
      " 3   ExpId           244126 non-null  int64 \n",
      "dtypes: int64(3), object(1)\n",
      "memory usage: 7.5+ MB\n"
     ]
    }
   ],
   "source": [
    "# выведем информацию по таблице\n",
    "\n",
    "data.info()"
   ]
  },
  {
   "cell_type": "markdown",
   "metadata": {},
   "source": [
    "В наличии следующие данные:  \n",
    "\n",
    "- EventName — название события;  \n",
    "- DeviceIDHash — уникальный идентификатор пользователя;  \n",
    "- EventTimestamp — время события;  \n",
    "- ExpId — номер эксперимента: 246 и 247 — контрольные группы, а 248 — экспериментальная.  "
   ]
  },
  {
   "cell_type": "markdown",
   "metadata": {},
   "source": [
    "### Вывод  \n",
    "\n",
    "В таблице 4 столбца с данными по каждому действию пользователя: идентификатор пользователя, название события, время события, к какой группе теста относится позователь.  \n",
    "\n",
    "Пропущенных значений нет.  \n",
    "\n",
    "Названия столбцов и написание значений в столбцах нужно привести к единому стилю. Название групп теста лучше переименовать на более понятные.  \n",
    "\n",
    "В столбце  EventTimestamp тип данных нужно поменять на datetime64.  "
   ]
  },
  {
   "cell_type": "markdown",
   "metadata": {},
   "source": [
    "## Предобработка данных"
   ]
  },
  {
   "cell_type": "markdown",
   "metadata": {},
   "source": [
    "- Переименуем столбцы"
   ]
  },
  {
   "cell_type": "code",
   "execution_count": 7,
   "metadata": {},
   "outputs": [
    {
     "data": {
      "text/plain": [
       "Index(['event_name', 'device_id_hash', 'event_timestamp', 'exp_id'], dtype='object')"
      ]
     },
     "execution_count": 7,
     "metadata": {},
     "output_type": "execute_result"
    }
   ],
   "source": [
    "data = data.rename(columns={'EventName':'event_name', 'DeviceIDHash':'device_id_hash', 'EventTimestamp':'event_timestamp', 'ExpId':'exp_id'})\n",
    "data.columns"
   ]
  },
  {
   "cell_type": "markdown",
   "metadata": {},
   "source": [
    "- Переименуем названия для событий и групп А/А/В теста"
   ]
  },
  {
   "cell_type": "code",
   "execution_count": 8,
   "metadata": {
    "scrolled": true
   },
   "outputs": [
    {
     "data": {
      "text/html": [
       "<div>\n",
       "<style scoped>\n",
       "    .dataframe tbody tr th:only-of-type {\n",
       "        vertical-align: middle;\n",
       "    }\n",
       "\n",
       "    .dataframe tbody tr th {\n",
       "        vertical-align: top;\n",
       "    }\n",
       "\n",
       "    .dataframe thead th {\n",
       "        text-align: right;\n",
       "    }\n",
       "</style>\n",
       "<table border=\"1\" class=\"dataframe\">\n",
       "  <thead>\n",
       "    <tr style=\"text-align: right;\">\n",
       "      <th></th>\n",
       "      <th>event_name</th>\n",
       "      <th>device_id_hash</th>\n",
       "      <th>event_timestamp</th>\n",
       "      <th>exp_id</th>\n",
       "    </tr>\n",
       "  </thead>\n",
       "  <tbody>\n",
       "    <tr>\n",
       "      <th>0</th>\n",
       "      <td>main_screen_appear</td>\n",
       "      <td>4575588528974610257</td>\n",
       "      <td>1564029816</td>\n",
       "      <td>a1</td>\n",
       "    </tr>\n",
       "    <tr>\n",
       "      <th>1</th>\n",
       "      <td>main_screen_appear</td>\n",
       "      <td>7416695313311560658</td>\n",
       "      <td>1564053102</td>\n",
       "      <td>a1</td>\n",
       "    </tr>\n",
       "    <tr>\n",
       "      <th>2</th>\n",
       "      <td>payment_screen_successful</td>\n",
       "      <td>3518123091307005509</td>\n",
       "      <td>1564054127</td>\n",
       "      <td>b</td>\n",
       "    </tr>\n",
       "    <tr>\n",
       "      <th>3</th>\n",
       "      <td>cart_screen_appear</td>\n",
       "      <td>3518123091307005509</td>\n",
       "      <td>1564054127</td>\n",
       "      <td>b</td>\n",
       "    </tr>\n",
       "    <tr>\n",
       "      <th>4</th>\n",
       "      <td>payment_screen_successful</td>\n",
       "      <td>6217807653094995999</td>\n",
       "      <td>1564055322</td>\n",
       "      <td>b</td>\n",
       "    </tr>\n",
       "  </tbody>\n",
       "</table>\n",
       "</div>"
      ],
      "text/plain": [
       "                  event_name       device_id_hash  event_timestamp exp_id\n",
       "0         main_screen_appear  4575588528974610257       1564029816     a1\n",
       "1         main_screen_appear  7416695313311560658       1564053102     a1\n",
       "2  payment_screen_successful  3518123091307005509       1564054127      b\n",
       "3         cart_screen_appear  3518123091307005509       1564054127      b\n",
       "4  payment_screen_successful  6217807653094995999       1564055322      b"
      ]
     },
     "execution_count": 8,
     "metadata": {},
     "output_type": "execute_result"
    }
   ],
   "source": [
    "# для столбца event_name\n",
    "data['event_name'] = data['event_name'].replace(['MainScreenAppear', 'PaymentScreenSuccessful','CartScreenAppear','OffersScreenAppear', 'Tutorial'],\\\n",
    "                                                ['main_screen_appear', 'payment_screen_successful','cart_screen_appear','offers_screen_appear', 'tutorial'])\n",
    "\n",
    "# для столбца exp_id\n",
    "data['exp_id'] = data['exp_id'].replace([246,247,248],['a1','a2','b'])\n",
    "data.head()"
   ]
  },
  {
   "cell_type": "markdown",
   "metadata": {},
   "source": [
    "- Изменим тип данных для столбца event_timestamp на datetime64[ns]"
   ]
  },
  {
   "cell_type": "code",
   "execution_count": 9,
   "metadata": {},
   "outputs": [
    {
     "data": {
      "text/plain": [
       "event_name                 object\n",
       "device_id_hash              int64\n",
       "event_timestamp    datetime64[ns]\n",
       "exp_id                     object\n",
       "dtype: object"
      ]
     },
     "execution_count": 9,
     "metadata": {},
     "output_type": "execute_result"
    }
   ],
   "source": [
    "data['event_timestamp'] = pd.to_datetime(data['event_timestamp'], unit='s')\n",
    "data.dtypes"
   ]
  },
  {
   "cell_type": "markdown",
   "metadata": {},
   "source": [
    "- Добавим столбец только с датой"
   ]
  },
  {
   "cell_type": "code",
   "execution_count": 10,
   "metadata": {
    "scrolled": true
   },
   "outputs": [
    {
     "data": {
      "text/html": [
       "<div>\n",
       "<style scoped>\n",
       "    .dataframe tbody tr th:only-of-type {\n",
       "        vertical-align: middle;\n",
       "    }\n",
       "\n",
       "    .dataframe tbody tr th {\n",
       "        vertical-align: top;\n",
       "    }\n",
       "\n",
       "    .dataframe thead th {\n",
       "        text-align: right;\n",
       "    }\n",
       "</style>\n",
       "<table border=\"1\" class=\"dataframe\">\n",
       "  <thead>\n",
       "    <tr style=\"text-align: right;\">\n",
       "      <th></th>\n",
       "      <th>event_name</th>\n",
       "      <th>device_id_hash</th>\n",
       "      <th>event_timestamp</th>\n",
       "      <th>exp_id</th>\n",
       "      <th>data</th>\n",
       "    </tr>\n",
       "  </thead>\n",
       "  <tbody>\n",
       "    <tr>\n",
       "      <th>0</th>\n",
       "      <td>main_screen_appear</td>\n",
       "      <td>4575588528974610257</td>\n",
       "      <td>2019-07-25 04:43:36</td>\n",
       "      <td>a1</td>\n",
       "      <td>2019-07-25</td>\n",
       "    </tr>\n",
       "    <tr>\n",
       "      <th>1</th>\n",
       "      <td>main_screen_appear</td>\n",
       "      <td>7416695313311560658</td>\n",
       "      <td>2019-07-25 11:11:42</td>\n",
       "      <td>a1</td>\n",
       "      <td>2019-07-25</td>\n",
       "    </tr>\n",
       "    <tr>\n",
       "      <th>2</th>\n",
       "      <td>payment_screen_successful</td>\n",
       "      <td>3518123091307005509</td>\n",
       "      <td>2019-07-25 11:28:47</td>\n",
       "      <td>b</td>\n",
       "      <td>2019-07-25</td>\n",
       "    </tr>\n",
       "    <tr>\n",
       "      <th>3</th>\n",
       "      <td>cart_screen_appear</td>\n",
       "      <td>3518123091307005509</td>\n",
       "      <td>2019-07-25 11:28:47</td>\n",
       "      <td>b</td>\n",
       "      <td>2019-07-25</td>\n",
       "    </tr>\n",
       "    <tr>\n",
       "      <th>4</th>\n",
       "      <td>payment_screen_successful</td>\n",
       "      <td>6217807653094995999</td>\n",
       "      <td>2019-07-25 11:48:42</td>\n",
       "      <td>b</td>\n",
       "      <td>2019-07-25</td>\n",
       "    </tr>\n",
       "  </tbody>\n",
       "</table>\n",
       "</div>"
      ],
      "text/plain": [
       "                  event_name       device_id_hash     event_timestamp exp_id  \\\n",
       "0         main_screen_appear  4575588528974610257 2019-07-25 04:43:36     a1   \n",
       "1         main_screen_appear  7416695313311560658 2019-07-25 11:11:42     a1   \n",
       "2  payment_screen_successful  3518123091307005509 2019-07-25 11:28:47      b   \n",
       "3         cart_screen_appear  3518123091307005509 2019-07-25 11:28:47      b   \n",
       "4  payment_screen_successful  6217807653094995999 2019-07-25 11:48:42      b   \n",
       "\n",
       "        data  \n",
       "0 2019-07-25  \n",
       "1 2019-07-25  \n",
       "2 2019-07-25  \n",
       "3 2019-07-25  \n",
       "4 2019-07-25  "
      ]
     },
     "execution_count": 10,
     "metadata": {},
     "output_type": "execute_result"
    }
   ],
   "source": [
    "data['data'] = data['event_timestamp'].dt.date.astype('datetime64')\n",
    "data.head()"
   ]
  },
  {
   "cell_type": "markdown",
   "metadata": {},
   "source": [
    "- Проверим дубликаты и удалим их"
   ]
  },
  {
   "cell_type": "code",
   "execution_count": 11,
   "metadata": {},
   "outputs": [
    {
     "data": {
      "text/plain": [
       "413"
      ]
     },
     "execution_count": 11,
     "metadata": {},
     "output_type": "execute_result"
    }
   ],
   "source": [
    "# найдем сумму явных дубликатов в таблицах\n",
    "\n",
    "data.duplicated().sum()"
   ]
  },
  {
   "cell_type": "code",
   "execution_count": 12,
   "metadata": {
    "scrolled": true
   },
   "outputs": [],
   "source": [
    "# удалим дубликаты\n",
    "\n",
    "data = data.drop_duplicates().reset_index(drop=True)"
   ]
  },
  {
   "cell_type": "markdown",
   "metadata": {},
   "source": [
    "### Вывод  \n",
    "\n",
    "Переименовали названия столбцов и значения в столбце event_name, привели к единому стилю написания. Заменили названия тестовых групп на понятные: а1, а2 и b.  \n",
    "\n",
    "Изменили тип данных в столбце event_timestamp на datetime64 и добавили новый столбец только с датой.  \n",
    "\n",
    "Удалили 413 явных дубликатов."
   ]
  },
  {
   "cell_type": "markdown",
   "metadata": {},
   "source": [
    "## Изучение и проверка данных  "
   ]
  },
  {
   "cell_type": "markdown",
   "metadata": {},
   "source": [
    "- **Узнаем сколько всего событий и пользователей в логе, а также сколько в среднем событий приходится на пользователя**"
   ]
  },
  {
   "cell_type": "code",
   "execution_count": 13,
   "metadata": {
    "scrolled": false
   },
   "outputs": [
    {
     "data": {
      "text/plain": [
       "7551"
      ]
     },
     "metadata": {},
     "output_type": "display_data"
    },
    {
     "data": {
      "text/plain": [
       "243713"
      ]
     },
     "metadata": {},
     "output_type": "display_data"
    }
   ],
   "source": [
    "# выведем кол-во уникальных значений для столбца device_id_hash и общее кол-во событий\n",
    "\n",
    "display(data['device_id_hash'].nunique())\n",
    "display(data['event_name'].count())"
   ]
  },
  {
   "cell_type": "code",
   "execution_count": 14,
   "metadata": {},
   "outputs": [
    {
     "data": {
      "text/plain": [
       "20.0"
      ]
     },
     "metadata": {},
     "output_type": "display_data"
    },
    {
     "data": {
      "text/plain": [
       "32.27559263673685"
      ]
     },
     "metadata": {},
     "output_type": "display_data"
    }
   ],
   "source": [
    "# рассчитаем медианное и среднее значение событий для одного пользователя\n",
    "\n",
    "display(data.groupby('device_id_hash')['event_name'].count().median())\n",
    "display(data.groupby('device_id_hash')['event_name'].count().mean())"
   ]
  },
  {
   "cell_type": "markdown",
   "metadata": {},
   "source": [
    "В среднем приходится 32 события на пользователя, но медианное значение равно 20, следовательно есть аномально большые значения кол-ва событий, которые влияют на среднее."
   ]
  },
  {
   "cell_type": "markdown",
   "metadata": {},
   "source": [
    "- **Найдем максимальную и минимальную дату**"
   ]
  },
  {
   "cell_type": "code",
   "execution_count": 15,
   "metadata": {
    "scrolled": true
   },
   "outputs": [
    {
     "data": {
      "text/plain": [
       "Timestamp('2019-07-25 00:00:00')"
      ]
     },
     "metadata": {},
     "output_type": "display_data"
    },
    {
     "data": {
      "text/plain": [
       "Timestamp('2019-08-07 00:00:00')"
      ]
     },
     "metadata": {},
     "output_type": "display_data"
    }
   ],
   "source": [
    "display(data['data'].min())\n",
    "display(data['data'].max())"
   ]
  },
  {
   "cell_type": "markdown",
   "metadata": {},
   "source": [
    "Мы располагаем данными с 25 июля 2019 года по 7 августа 2019 года."
   ]
  },
  {
   "cell_type": "markdown",
   "metadata": {},
   "source": [
    "- **Посмотрим на данные, определим за какой период данные более полные**"
   ]
  },
  {
   "cell_type": "code",
   "execution_count": 16,
   "metadata": {
    "scrolled": false
   },
   "outputs": [
    {
     "data": {
      "image/png": "[encoded data removed]",
      "text/plain": [
       "<Figure size 432x288 with 1 Axes>"
      ]
     },
     "metadata": {
      "needs_background": "light"
     },
     "output_type": "display_data"
    }
   ],
   "source": [
    "# построим гистограмму по столбцу data\n",
    "\n",
    "data['data'].hist()\n",
    "plt.xticks(rotation=45)\n",
    "plt.title('Распределение событий по датам')\n",
    "plt.xlabel('Дата')\n",
    "plt.ylabel('Кол-во событий');"
   ]
  },
  {
   "cell_type": "markdown",
   "metadata": {},
   "source": [
    "На графике видно, что за период с 25 июля по 1 августа данных очень мало, поэтому их можно отбросить и не использовать в исследовании. Будем использовать данные только с 1 августа по 7 августа."
   ]
  },
  {
   "cell_type": "code",
   "execution_count": 17,
   "metadata": {},
   "outputs": [
    {
     "data": {
      "text/plain": [
       "240887"
      ]
     },
     "metadata": {},
     "output_type": "display_data"
    },
    {
     "data": {
      "text/plain": [
       "243713"
      ]
     },
     "metadata": {},
     "output_type": "display_data"
    }
   ],
   "source": [
    "# создадим новую таблицу с данными после 1 августа\n",
    "\n",
    "data_new = data.query('data >= \"2019-08-01\"')\n",
    "\n",
    "# выведем кол-во событий в исходной и новой таблицах\n",
    "display(data_new.shape[0])\n",
    "display(data.shape[0])"
   ]
  },
  {
   "cell_type": "code",
   "execution_count": 18,
   "metadata": {
    "scrolled": true
   },
   "outputs": [
    {
     "data": {
      "text/plain": [
       "7534"
      ]
     },
     "metadata": {},
     "output_type": "display_data"
    }
   ],
   "source": [
    "# посчитаем кол-во уникальных пользователей в новой таблице\n",
    "display(data_new['device_id_hash'].nunique())"
   ]
  },
  {
   "cell_type": "markdown",
   "metadata": {},
   "source": [
    "Отбросив данные за первую неделю эксперимента мы потеряли около 3000 событий, что составляет чуть больше одного процента от общего кол-ва событий. Кол-во уникальных пользователей сократилось на 17 человек.  \n",
    "\n",
    "Проверим, что у нас остались пользователи из всех трех экспериментальных групп."
   ]
  },
  {
   "cell_type": "code",
   "execution_count": 19,
   "metadata": {
    "scrolled": true
   },
   "outputs": [
    {
     "data": {
      "text/plain": [
       "exp_id\n",
       "a1    79302\n",
       "a2    77022\n",
       "b     84563\n",
       "Name: device_id_hash, dtype: int64"
      ]
     },
     "execution_count": 19,
     "metadata": {},
     "output_type": "execute_result"
    }
   ],
   "source": [
    "data_new.groupby('exp_id')['device_id_hash'].count()"
   ]
  },
  {
   "cell_type": "markdown",
   "metadata": {},
   "source": [
    "### Вывод  \n",
    "\n",
    "В среднем на одного пользователя приходится 32 события, медианное кол-во событий на пользователя равно 20. Такая разница говорит о том, что в данных присутствуют аномально большие значения кол-ва событий для некоторых пользователей.  \n",
    "\n",
    "Данные представленны за период с 25 июля по 7 августа 2019 года. Определили, что до 1 августа данных было собрано очень мало, поэтому исключим этот период из исследования. Это не повлияет на результыты, так как кол-во событий до 1 августа составляют чуть больше 1% от общего кол-ва.  \n",
    "\n",
    "Для исследования возьмем период с 1 по 7 августа 2019 года."
   ]
  },
  {
   "cell_type": "markdown",
   "metadata": {},
   "source": [
    "## Изучение воронки событий"
   ]
  },
  {
   "cell_type": "markdown",
   "metadata": {},
   "source": [
    "- **Проанализируем события в логах**"
   ]
  },
  {
   "cell_type": "code",
   "execution_count": 20,
   "metadata": {},
   "outputs": [
    {
     "data": {
      "text/html": [
       "<div>\n",
       "<style scoped>\n",
       "    .dataframe tbody tr th:only-of-type {\n",
       "        vertical-align: middle;\n",
       "    }\n",
       "\n",
       "    .dataframe tbody tr th {\n",
       "        vertical-align: top;\n",
       "    }\n",
       "\n",
       "    .dataframe thead tr th {\n",
       "        text-align: left;\n",
       "    }\n",
       "\n",
       "    .dataframe thead tr:last-of-type th {\n",
       "        text-align: right;\n",
       "    }\n",
       "</style>\n",
       "<table border=\"1\" class=\"dataframe\">\n",
       "  <thead>\n",
       "    <tr>\n",
       "      <th></th>\n",
       "      <th>count</th>\n",
       "      <th>nunique</th>\n",
       "      <th>percent</th>\n",
       "    </tr>\n",
       "    <tr>\n",
       "      <th></th>\n",
       "      <th>device_id_hash</th>\n",
       "      <th>device_id_hash</th>\n",
       "      <th></th>\n",
       "    </tr>\n",
       "    <tr>\n",
       "      <th>event_name</th>\n",
       "      <th></th>\n",
       "      <th></th>\n",
       "      <th></th>\n",
       "    </tr>\n",
       "  </thead>\n",
       "  <tbody>\n",
       "    <tr>\n",
       "      <th>main_screen_appear</th>\n",
       "      <td>117328</td>\n",
       "      <td>7419</td>\n",
       "      <td>98.25</td>\n",
       "    </tr>\n",
       "    <tr>\n",
       "      <th>offers_screen_appear</th>\n",
       "      <td>46333</td>\n",
       "      <td>4593</td>\n",
       "      <td>60.83</td>\n",
       "    </tr>\n",
       "    <tr>\n",
       "      <th>cart_screen_appear</th>\n",
       "      <td>42303</td>\n",
       "      <td>3734</td>\n",
       "      <td>49.45</td>\n",
       "    </tr>\n",
       "    <tr>\n",
       "      <th>payment_screen_successful</th>\n",
       "      <td>33918</td>\n",
       "      <td>3539</td>\n",
       "      <td>46.87</td>\n",
       "    </tr>\n",
       "    <tr>\n",
       "      <th>tutorial</th>\n",
       "      <td>1005</td>\n",
       "      <td>840</td>\n",
       "      <td>11.12</td>\n",
       "    </tr>\n",
       "  </tbody>\n",
       "</table>\n",
       "</div>"
      ],
      "text/plain": [
       "                                   count        nunique percent\n",
       "                          device_id_hash device_id_hash        \n",
       "event_name                                                     \n",
       "main_screen_appear                117328           7419   98.25\n",
       "offers_screen_appear               46333           4593   60.83\n",
       "cart_screen_appear                 42303           3734   49.45\n",
       "payment_screen_successful          33918           3539   46.87\n",
       "tutorial                            1005            840   11.12"
      ]
     },
     "execution_count": 20,
     "metadata": {},
     "output_type": "execute_result"
    }
   ],
   "source": [
    "# посчитаем общее кол-во уникальных пользователей\n",
    "count_id = data['device_id_hash'].nunique()\n",
    "count_id\n",
    "\n",
    "# создадим сводную, в которую запишем кол-во каждого события и кол-во уникальных пользователей его совершивших\n",
    "data_pivot = data_new.pivot_table(index='event_name', values='device_id_hash', aggfunc=['count', 'nunique'])\n",
    "\n",
    "# добавим столбец с процентом пользователей, совершивших определенное действие относительно общего кол-ва уникальных пользователей\n",
    "data_pivot['percent'] = data_pivot[('nunique', 'device_id_hash')]/count_id*100\n",
    "\n",
    "# отсортируем по убыванию кол-ва пользователей по событиям и округлим значения\n",
    "data_pivot.sort_values(by=('nunique', 'device_id_hash'), ascending=False).round(2)"
   ]
  },
  {
   "cell_type": "markdown",
   "metadata": {},
   "source": [
    "- **Посчитаем, какая доля пользователей проходит на следующий шаг воронки**"
   ]
  },
  {
   "cell_type": "code",
   "execution_count": 21,
   "metadata": {
    "scrolled": false
   },
   "outputs": [
    {
     "data": {
      "text/html": [
       "<div>\n",
       "<style scoped>\n",
       "    .dataframe tbody tr th:only-of-type {\n",
       "        vertical-align: middle;\n",
       "    }\n",
       "\n",
       "    .dataframe tbody tr th {\n",
       "        vertical-align: top;\n",
       "    }\n",
       "\n",
       "    .dataframe thead tr th {\n",
       "        text-align: left;\n",
       "    }\n",
       "</style>\n",
       "<table border=\"1\" class=\"dataframe\">\n",
       "  <thead>\n",
       "    <tr>\n",
       "      <th></th>\n",
       "      <th>event_name</th>\n",
       "      <th>count</th>\n",
       "      <th>nunique</th>\n",
       "      <th>percent_1</th>\n",
       "      <th>percent_2</th>\n",
       "    </tr>\n",
       "    <tr>\n",
       "      <th></th>\n",
       "      <th></th>\n",
       "      <th>device_id_hash</th>\n",
       "      <th>device_id_hash</th>\n",
       "      <th></th>\n",
       "      <th></th>\n",
       "    </tr>\n",
       "  </thead>\n",
       "  <tbody>\n",
       "    <tr>\n",
       "      <th>0</th>\n",
       "      <td>main_screen_appear</td>\n",
       "      <td>117328</td>\n",
       "      <td>7419</td>\n",
       "      <td>100.0</td>\n",
       "      <td>100.0</td>\n",
       "    </tr>\n",
       "    <tr>\n",
       "      <th>1</th>\n",
       "      <td>offers_screen_appear</td>\n",
       "      <td>46333</td>\n",
       "      <td>4593</td>\n",
       "      <td>62.0</td>\n",
       "      <td>62.0</td>\n",
       "    </tr>\n",
       "    <tr>\n",
       "      <th>2</th>\n",
       "      <td>cart_screen_appear</td>\n",
       "      <td>42303</td>\n",
       "      <td>3734</td>\n",
       "      <td>50.0</td>\n",
       "      <td>81.0</td>\n",
       "    </tr>\n",
       "    <tr>\n",
       "      <th>3</th>\n",
       "      <td>payment_screen_successful</td>\n",
       "      <td>33918</td>\n",
       "      <td>3539</td>\n",
       "      <td>48.0</td>\n",
       "      <td>95.0</td>\n",
       "    </tr>\n",
       "  </tbody>\n",
       "</table>\n",
       "</div>"
      ],
      "text/plain": [
       "                  event_name          count        nunique percent_1 percent_2\n",
       "                             device_id_hash device_id_hash                    \n",
       "0         main_screen_appear         117328           7419     100.0     100.0\n",
       "1       offers_screen_appear          46333           4593      62.0      62.0\n",
       "2         cart_screen_appear          42303           3734      50.0      81.0\n",
       "3  payment_screen_successful          33918           3539      48.0      95.0"
      ]
     },
     "execution_count": 21,
     "metadata": {},
     "output_type": "execute_result"
    }
   ],
   "source": [
    "# создадим сводную таблицу без события tutorial\n",
    "data_pivot_2 = data_new.query('event_name != \"tutorial\"')\\\n",
    "                       .pivot_table(index='event_name', values='device_id_hash', aggfunc=['count', 'nunique'])\\\n",
    "                       .sort_values(by=('nunique', 'device_id_hash'), ascending=False).reset_index()\n",
    "\n",
    "# создадим список из столбца nunique device_id_hash\n",
    "nunique_device_id_hash = data_pivot_2[('nunique', 'device_id_hash')].tolist()\n",
    "\n",
    "# создадим функцию, которая посчитает процент по каждому шагу относительно первого действия\n",
    "conversion_1 = [100]\n",
    "\n",
    "for i in range(len(nunique_device_id_hash)):\n",
    "    conversion_1.append(nunique_device_id_hash[i]/nunique_device_id_hash[0]*100)\n",
    "    \n",
    "conversion_1.pop(1)\n",
    "\n",
    "# создадим функцию, которая посчитает процент по каждому шагу относительно предыдущего действия\n",
    "conversion_2 = [100]\n",
    "for i in range(len(nunique_device_id_hash)):\n",
    "    conversion_2.append(nunique_device_id_hash[i]/nunique_device_id_hash[i-1]*100)\n",
    "    \n",
    "conversion_2.pop(1)\n",
    "\n",
    "#добавим столбцы с процентами пользователей, которые переходят на следующий шаг\n",
    "data_pivot_2['percent_1'] = conversion_1 #от первого события\n",
    "data_pivot_2['percent_2'] = conversion_2 #от предыдущего шага\n",
    "data_pivot_2.round()"
   ]
  },
  {
   "cell_type": "code",
   "execution_count": 22,
   "metadata": {},
   "outputs": [
    {
     "data": {
      "image/png": "[encoded data removed]",
      "text/plain": [
       "<Figure size 432x288 with 1 Axes>"
      ]
     },
     "metadata": {
      "needs_background": "light"
     },
     "output_type": "display_data"
    }
   ],
   "source": [
    "# создадим список из столбца event_name\n",
    "event_name = data_pivot_2[('event_name','')].tolist()\n",
    "\n",
    "# создадим график воронки событий\n",
    "y = list(reversed(event_name))\n",
    "x = list(reversed(nunique_device_id_hash))\n",
    "x_max = 8000\n",
    "x_min = 0\n",
    "for idx, val in enumerate(x):\n",
    "    left = (x_max - val)/2\n",
    "    plt.barh(y[idx], x[idx], left = left, color='orange')\n",
    "    plt.text(4000, y[idx], x[idx], ha='center')\n",
    "\n",
    "plt.xlim(x_min, x_max)\n",
    "plt.title('Воронка событий')\n",
    "plt.xlabel('Кол-во пользователей')\n",
    "plt.ylabel('События');"
   ]
  },
  {
   "cell_type": "markdown",
   "metadata": {},
   "source": [
    "Из всех зашедших на сайт пользователей только 48% совершили покупку.\n",
    "\n",
    "На графике и в таблице видно, что больше всего пользователей теряется на втором шаге, по какой-то причине после входа на главную страницу некоторые пользователи так и не переходят на карточку товара, возможно они не могут найти нужный им товар.   \n",
    "\n",
    "81% пользователей добавляют товар в корзину после того, как они перешели на карточку товара, и 95% оплачивают товар после добавления в корзину."
   ]
  },
  {
   "cell_type": "markdown",
   "metadata": {},
   "source": [
    "### Вывод  \n",
    "\n",
    "При покупке товаров в приложении пользователи совершают определенную последовательность действий, которую нельзя изменить:  \n",
    "заходят на главную страницу сайта ---> открывают карточку товара ---> добавляют его в корзину ---> оплачивают товар.  \n",
    "Также в приложении можно посмотреть инструкцию о том, как сделать заказ.  \n",
    "\n",
    "Из всех уникальных пользователей, только 48% завершают заказ и оплачивают товар. Большинство теряется на шаге перехода на карточку товара. Процент добавления в корзину - 81%, а оплаты - 95%.  \n",
    "\n",
    "Можно предположить, что на втором шаге у пользователя возникают проблемы с поиском необходимого товара.  "
   ]
  },
  {
   "cell_type": "markdown",
   "metadata": {},
   "source": [
    "## Изучение результатов эксперимента"
   ]
  },
  {
   "cell_type": "code",
   "execution_count": 23,
   "metadata": {},
   "outputs": [
    {
     "data": {
      "text/plain": [
       "exp_id\n",
       "a1    2484\n",
       "a2    2513\n",
       "b     2537\n",
       "Name: device_id_hash, dtype: int64"
      ]
     },
     "execution_count": 23,
     "metadata": {},
     "output_type": "execute_result"
    }
   ],
   "source": [
    "# посмотрим сколько пользователей в каждой экспериментальной группе\n",
    "data_new.groupby('exp_id')['device_id_hash'].nunique()"
   ]
  },
  {
   "cell_type": "code",
   "execution_count": 24,
   "metadata": {
    "scrolled": false
   },
   "outputs": [
    {
     "data": {
      "text/html": [
       "<div>\n",
       "<style scoped>\n",
       "    .dataframe tbody tr th:only-of-type {\n",
       "        vertical-align: middle;\n",
       "    }\n",
       "\n",
       "    .dataframe tbody tr th {\n",
       "        vertical-align: top;\n",
       "    }\n",
       "\n",
       "    .dataframe thead th {\n",
       "        text-align: right;\n",
       "    }\n",
       "</style>\n",
       "<table border=\"1\" class=\"dataframe\">\n",
       "  <thead>\n",
       "    <tr style=\"text-align: right;\">\n",
       "      <th>exp_id</th>\n",
       "      <th>event_name</th>\n",
       "      <th>a1</th>\n",
       "      <th>a2</th>\n",
       "      <th>b</th>\n",
       "      <th>percent_a1</th>\n",
       "      <th>percent_a2</th>\n",
       "      <th>percent_b</th>\n",
       "    </tr>\n",
       "  </thead>\n",
       "  <tbody>\n",
       "    <tr>\n",
       "      <th>0</th>\n",
       "      <td>main_screen_appear</td>\n",
       "      <td>2450</td>\n",
       "      <td>2476</td>\n",
       "      <td>2493</td>\n",
       "      <td>99.0</td>\n",
       "      <td>99.0</td>\n",
       "      <td>98.0</td>\n",
       "    </tr>\n",
       "    <tr>\n",
       "      <th>1</th>\n",
       "      <td>offers_screen_appear</td>\n",
       "      <td>1542</td>\n",
       "      <td>1520</td>\n",
       "      <td>1531</td>\n",
       "      <td>62.0</td>\n",
       "      <td>60.0</td>\n",
       "      <td>60.0</td>\n",
       "    </tr>\n",
       "    <tr>\n",
       "      <th>2</th>\n",
       "      <td>cart_screen_appear</td>\n",
       "      <td>1266</td>\n",
       "      <td>1238</td>\n",
       "      <td>1230</td>\n",
       "      <td>51.0</td>\n",
       "      <td>49.0</td>\n",
       "      <td>48.0</td>\n",
       "    </tr>\n",
       "    <tr>\n",
       "      <th>3</th>\n",
       "      <td>payment_screen_successful</td>\n",
       "      <td>1200</td>\n",
       "      <td>1158</td>\n",
       "      <td>1181</td>\n",
       "      <td>48.0</td>\n",
       "      <td>46.0</td>\n",
       "      <td>47.0</td>\n",
       "    </tr>\n",
       "  </tbody>\n",
       "</table>\n",
       "</div>"
      ],
      "text/plain": [
       "exp_id                 event_name    a1    a2     b  percent_a1  percent_a2  \\\n",
       "0              main_screen_appear  2450  2476  2493        99.0        99.0   \n",
       "1            offers_screen_appear  1542  1520  1531        62.0        60.0   \n",
       "2              cart_screen_appear  1266  1238  1230        51.0        49.0   \n",
       "3       payment_screen_successful  1200  1158  1181        48.0        46.0   \n",
       "\n",
       "exp_id  percent_b  \n",
       "0            98.0  \n",
       "1            60.0  \n",
       "2            48.0  \n",
       "3            47.0  "
      ]
     },
     "execution_count": 24,
     "metadata": {},
     "output_type": "execute_result"
    }
   ],
   "source": [
    "# создадим список с общим кол-вом пользователей в каждой группе\n",
    "list_count = data_new.groupby('exp_id')['device_id_hash'].nunique().tolist()\n",
    "\n",
    "# создадим сводную таблицу действий по каждой группе\n",
    "data_groups = data_new.query('event_name != \"tutorial\"')\\\n",
    "                      .pivot_table(index='event_name',columns='exp_id', values='device_id_hash', aggfunc='nunique')\\\n",
    "                      .sort_values(by=('a1'), ascending=False)\\\n",
    "                      .reset_index()\n",
    "\n",
    "#добавим столбцы с процентами по каждой группе относительно общего кол-ва \n",
    "data_groups['percent_a1'] = data_groups['a1']/list_count[0]*100\n",
    "data_groups['percent_a2'] = data_groups['a2']/list_count[1]*100\n",
    "data_groups['percent_b'] = data_groups['b']/list_count[2]*100\n",
    "\n",
    "data_groups.round()"
   ]
  },
  {
   "cell_type": "code",
   "execution_count": 27,
   "metadata": {},
   "outputs": [
    {
     "data": {
      "text/plain": [
       "exp_id\n",
       "a1    79302\n",
       "a2    77022\n",
       "b     84563\n",
       "Name: device_id_hash, dtype: int64"
      ]
     },
     "execution_count": 27,
     "metadata": {},
     "output_type": "execute_result"
    }
   ],
   "source": [
    "#  КОД РЕВЬЮЕРА\n",
    "\n",
    "data_new.groupby('exp_id')['device_id_hash'].count()"
   ]
  },
  {
   "cell_type": "code",
   "execution_count": 28,
   "metadata": {
    "scrolled": false
   },
   "outputs": [],
   "source": [
    "# напишем функицию для z_test\n",
    "\n",
    "def z_test (list_1, list_2, list_3, list_4):\n",
    "    \n",
    "    alpha = 0.01\n",
    "    \n",
    "    successes = np.array([list_1, list_2])\n",
    "    trials = np.array([list_3, list_4])\n",
    "    \n",
    "    # доля пользователей от ощего кол-ва в первом тесте:\n",
    "    p1 = successes[0]/trials[0]\n",
    "    \n",
    "    # доля пользователей от ощего кол-ва во втором тесте:\n",
    "    p2 = successes[1]/trials[1]\n",
    "    \n",
    "    # доля пользователей в комбинированном датасете:\n",
    "    p_combined = (successes[0] + successes[1]) / (trials[0] + trials[1])\n",
    "    \n",
    "    # разница пропорций в датасетах\n",
    "    difference = p1 - p2 \n",
    "    \n",
    "    # посчитаем статистику в ст.отклонениях стандартного нормального распределения\n",
    "    z_value = difference / mth.sqrt(p_combined * (1 - p_combined) * (1/trials[0] + 1/trials[1]))\n",
    "\n",
    "    # зададим стандартное нормальное распределение (среднее 0, ст.отклонение 1)\n",
    "    distr = st.norm(0, 1) \n",
    "    \n",
    "    p_value = (1 - distr.cdf(abs(z_value))) * 2\n",
    "\n",
    "    print('p-значение: ', p_value)\n",
    "\n",
    "    if p_value < alpha:\n",
    "        print('Отвергаем нулевую гипотезу: между долями есть значимая разница')\n",
    "    else:\n",
    "        print(\n",
    "        'Не получилось отвергнуть нулевую гипотезу, нет оснований считать доли разными') "
   ]
  },
  {
   "cell_type": "markdown",
   "metadata": {},
   "source": [
    "- **С помощью z-теста проверим, есть ли статистические критерии разницы между выборками а1 и а2**  \n",
    "\n",
    "**Нулевые гипотезы:**  \n",
    "- доли пользователей в группах а1 и а2, зашедших на главную страницу, равны \n",
    "- доли пользователей в группах а1 и а2, перешедших на карточку товара, равны\n",
    "- доли пользователей в группах а1 и а2, положивших заказ в корзину, равны\n",
    "- доли пользователей в группах а1 и а2, оплативших товар, равны\n",
    "\n",
    "**Альтернативные гипотезы:**  \n",
    "- доли пользователей в группах а1 и а2, зашедших на главную страницу, не равны \n",
    "- доли пользователей в группах а1 и а2, перешедших на карточку товара, не равны\n",
    "- доли пользователей в группах а1 и а2, положивших заказ в корзину, не равны\n",
    "- доли пользователей в группах а1 и а2, оплативших товар, не равны\n",
    "\n",
    "**Проверка гипотезы:** посчитаем и сравним доли для групп а1 и а2. Уровень статистической значимости зададим в 1%."
   ]
  },
  {
   "cell_type": "code",
   "execution_count": 29,
   "metadata": {
    "scrolled": false
   },
   "outputs": [
    {
     "name": "stdout",
     "output_type": "stream",
     "text": [
      "Для захода на главную страницу:\n",
      "p-значение:  0.7570597232046099\n",
      "Не получилось отвергнуть нулевую гипотезу, нет оснований считать доли разными\n",
      "\n",
      "Для перехода на карточку товара:\n",
      "p-значение:  0.2480954578522181\n",
      "Не получилось отвергнуть нулевую гипотезу, нет оснований считать доли разными\n",
      "\n",
      "Для корзины:\n",
      "p-значение:  0.22883372237997213\n",
      "Не получилось отвергнуть нулевую гипотезу, нет оснований считать доли разными\n",
      "\n",
      "Для оплаты:\n",
      "p-значение:  0.11456679313141849\n",
      "Не получилось отвергнуть нулевую гипотезу, нет оснований считать доли разными\n"
     ]
    }
   ],
   "source": [
    "# создадим из столбцов списки\n",
    "a1_list = data_groups['a1'].tolist()\n",
    "a2_list = data_groups['a2'].tolist()\n",
    "\n",
    "# проведем z-test для групп а1 и а2\n",
    "print('Для захода на главную страницу:')\n",
    "z_test(a1_list[0], a2_list[0], list_count[0], list_count[1])\n",
    "print()\n",
    "\n",
    "print('Для перехода на карточку товара:')\n",
    "z_test(a1_list[1], a2_list[1], list_count[0], list_count[1])\n",
    "print()\n",
    "\n",
    "print('Для корзины:')\n",
    "z_test(a1_list[2], a2_list[2], list_count[0], list_count[1])\n",
    "print()\n",
    "\n",
    "print('Для оплаты:')\n",
    "z_test(a1_list[3], a2_list[3], list_count[0], list_count[1])"
   ]
  },
  {
   "cell_type": "markdown",
   "metadata": {},
   "source": [
    "Для всех гипотез p-value гораздо выше уровня статистической значимости в 5%, следовательно все гипотезы подтверждены. Разбиение на группы работает корректно."
   ]
  },
  {
   "cell_type": "markdown",
   "metadata": {},
   "source": [
    "- **С помощью z-теста проверим, есть ли статистические критерии разницы между выборками а1 и b**   \n",
    "\n",
    "**Нулевые гипотезы:**\n",
    "\n",
    "**Нулевые гипотезы:**  \n",
    "- доли пользователей в группах а1 и b, зашедших на главную страницу, равны \n",
    "- доли пользователей в группах а1 и b, перешедших на карточку товара, равны\n",
    "- доли пользователей в группах а1 и b, положивших заказ в корзину, равны\n",
    "- доли пользователей в группах а1 и b, оплативших товар, равны\n",
    "\n",
    "**Альтернативные гипотезы:**  \n",
    "- доли пользователей в группах а1 и b, зашедших на главную страницу, не равны \n",
    "- доли пользователей в группах а1 и b, перешедших на карточку товара, не равны\n",
    "- доли пользователей в группах а1 и b, положивших заказ в корзину, не равны\n",
    "- доли пользователей в группах а1 и b, оплативших товар, не равны\n",
    "\n",
    "**Проверка гипотезы:** посчитаем и сравним доли для групп а1 и b. Уровень статистической значимости зададим в 1%."
   ]
  },
  {
   "cell_type": "code",
   "execution_count": 30,
   "metadata": {},
   "outputs": [
    {
     "name": "stdout",
     "output_type": "stream",
     "text": [
      "Для захода на главную страницу:\n",
      "p-значение:  0.2949721933554552\n",
      "Не получилось отвергнуть нулевую гипотезу, нет оснований считать доли разными\n",
      "\n",
      "Для перехода на карточку товара:\n",
      "p-значение:  0.20836205402738917\n",
      "Не получилось отвергнуть нулевую гипотезу, нет оснований считать доли разными\n",
      "\n",
      "Для корзины:\n",
      "p-значение:  0.07842923237520116\n",
      "Не получилось отвергнуть нулевую гипотезу, нет оснований считать доли разными\n",
      "\n",
      "Для оплаты:\n",
      "p-значение:  0.2122553275697796\n",
      "Не получилось отвергнуть нулевую гипотезу, нет оснований считать доли разными\n"
     ]
    }
   ],
   "source": [
    "# создадим из столбца список\n",
    "b_list = data_groups['b'].tolist()\n",
    "\n",
    "# проведем z-test для групп а1 и b\n",
    "print('Для захода на главную страницу:')\n",
    "z_test(a1_list[0], b_list[0], list_count[0], list_count[2])\n",
    "print()\n",
    "\n",
    "print('Для перехода на карточку товара:')\n",
    "z_test(a1_list[1], b_list[1], list_count[0], list_count[2])\n",
    "print()\n",
    "\n",
    "print('Для корзины:')\n",
    "z_test(a1_list[2], b_list[2], list_count[0], list_count[2])\n",
    "print()\n",
    "\n",
    "print('Для оплаты:')\n",
    "z_test(a1_list[3], b_list[3], list_count[0], list_count[2])"
   ]
  },
  {
   "cell_type": "markdown",
   "metadata": {},
   "source": [
    "- **С помощью z-теста проверим, есть ли статистические критерии разницы между выборками а2 и b**  \n",
    "\n",
    "**Нулевые гипотезы:**\n",
    "\n",
    "- доли пользователей в группах а2 и b, зашедших на главную страницу, равны \n",
    "- доли пользователей в группах а2 и b, перешедших на карточку товара, равны\n",
    "- доли пользователей в группах а2 и b, положивших заказ в корзину, равны\n",
    "- доли пользователей в группах а2 и b, оплативших товар, равны\n",
    "\n",
    "**Альтернативные гипотезы:**  \n",
    "- доли пользователей в группах а2 и b, зашедших на главную страницу, не равны \n",
    "- доли пользователей в группах а2 и b, перешедших на карточку товара, не равны\n",
    "- доли пользователей в группах а2 и b, положивших заказ в корзину, не равны\n",
    "- доли пользователей в группах а2 и b, оплативших товар, не равны\n",
    "\n",
    "**Проверка гипотезы:** посчитаем и сравним доли для групп а2 и b. Уровень статистической значимости зададим в 1%."
   ]
  },
  {
   "cell_type": "code",
   "execution_count": 31,
   "metadata": {
    "scrolled": true
   },
   "outputs": [
    {
     "name": "stdout",
     "output_type": "stream",
     "text": [
      "Для захода на главную страницу:\n",
      "p-значение:  0.4587053616621515\n",
      "Не получилось отвергнуть нулевую гипотезу, нет оснований считать доли разными\n",
      "\n",
      "Для перехода на карточку товара:\n",
      "p-значение:  0.9197817830592261\n",
      "Не получилось отвергнуть нулевую гипотезу, нет оснований считать доли разными\n",
      "\n",
      "Для корзины:\n",
      "p-значение:  0.5786197879539783\n",
      "Не получилось отвергнуть нулевую гипотезу, нет оснований считать доли разными\n",
      "\n",
      "Для оплаты:\n",
      "p-значение:  0.7373415053803964\n",
      "Не получилось отвергнуть нулевую гипотезу, нет оснований считать доли разными\n"
     ]
    }
   ],
   "source": [
    "# проведем z-test для групп а2 и b\n",
    "\n",
    "print('Для захода на главную страницу:')\n",
    "z_test(a2_list[0], b_list[0], list_count[1], list_count[2])\n",
    "print()\n",
    "\n",
    "print('Для перехода на карточку товара:')\n",
    "z_test(a2_list[1], b_list[1], list_count[1], list_count[2])\n",
    "print()\n",
    "\n",
    "print('Для корзины:')\n",
    "z_test(a2_list[2], b_list[2], list_count[1], list_count[2])\n",
    "print()\n",
    "\n",
    "print('Для оплаты:')\n",
    "z_test(a2_list[3], b_list[3], list_count[1], list_count[2])"
   ]
  },
  {
   "cell_type": "markdown",
   "metadata": {},
   "source": [
    "- **С помощью z-теста проверим, есть ли статистические критерии разницы между выборками b и объединенными а1 и а2**  \n",
    "\n",
    "**Нулевые гипотезы:**\n",
    "\n",
    "- доли пользователей в группах а1+а2 и b, зашедших на главную страницу, равны \n",
    "- доли пользователей в группах а1+а2 и b, перешедших на карточку товара, равны\n",
    "- доли пользователей в группах а1+а2 и b, положивших заказ в корзину, равны\n",
    "- доли пользователей в группах а1+а2 и b, оплативших товар, равны\n",
    "\n",
    "**Альтернативные гипотезы:**  \n",
    "- доли пользователей в группах а1+а2 и b, зашедших на главную страницу, не равны \n",
    "- доли пользователей в группах а1+а2 и b, перешедших на карточку товара, не равны\n",
    "- доли пользователей в группах а1+а2 и b, положивших заказ в корзину, не равны\n",
    "- доли пользователей в группах а1+а2 и b, оплативших товар, не равны\n",
    "\n",
    "**Проверка гипотезы:** посчитаем и сравним доли для групп а2 и b. Уровень статистической значимости зададим в 1%."
   ]
  },
  {
   "cell_type": "code",
   "execution_count": 32,
   "metadata": {},
   "outputs": [
    {
     "name": "stdout",
     "output_type": "stream",
     "text": [
      "Для захода на главную страницу:\n",
      "p-значение:  0.29424526837179577\n",
      "Не получилось отвергнуть нулевую гипотезу, нет оснований считать доли разными\n",
      "\n",
      "Для перехода на карточку товара:\n",
      "p-значение:  0.43425549655188256\n",
      "Не получилось отвергнуть нулевую гипотезу, нет оснований считать доли разными\n",
      "\n",
      "Для корзины:\n",
      "p-значение:  0.18175875284404386\n",
      "Не получилось отвергнуть нулевую гипотезу, нет оснований считать доли разными\n",
      "\n",
      "Для оплаты:\n",
      "p-значение:  0.6004294282308704\n",
      "Не получилось отвергнуть нулевую гипотезу, нет оснований считать доли разными\n"
     ]
    }
   ],
   "source": [
    "# проведем z-test для объединенных групп а1+а2 и b\n",
    "print('Для захода на главную страницу:')\n",
    "z_test((a1_list[0] + a2_list[0]), b_list[0], (list_count[0] + list_count[1]), list_count[2])\n",
    "print()\n",
    "\n",
    "print('Для перехода на карточку товара:')\n",
    "z_test((a1_list[1] + a2_list[1]), b_list[1], (list_count[0] + list_count[1]), list_count[2])\n",
    "print()\n",
    "\n",
    "print('Для корзины:')\n",
    "z_test((a1_list[2] + a2_list[2]), b_list[2], (list_count[0] + list_count[1]), list_count[2])\n",
    "print()\n",
    "\n",
    "print('Для оплаты:')\n",
    "z_test((a1_list[3] + a2_list[3]), b_list[3], (list_count[0] + list_count[1]), list_count[2])"
   ]
  },
  {
   "cell_type": "markdown",
   "metadata": {},
   "source": [
    "Сравнили результаты группы b с каждой a-группой в отдельности и с объединённой контрольной группой по каждому событию.  \n",
    "\n",
    "Значение p-value для всех гипотез выше 1%, следовательно гипотезы подтверждены: доли пользователей в разных группах равны на всех этапах покупки.  \n",
    "\n",
    "Из результатов теста можно сделать вывод, что изменение шрифта никак не повлияло на пользователей, поэтому менять шрифты во всем приложении нет необходимости."
   ]
  },
  {
   "cell_type": "markdown",
   "metadata": {},
   "source": [
    "## Итоги исследования  \n",
    "\n",
    "Прежде, чем исследовать данные, мы ознакомились с ними, проверили их корректность, привели к единому стилю написания названия столбцов и значений, удалили дубликаты.  \n",
    "\n",
    "Эксперимент проводился с 25 июля по 7 августа 2019 года. Но за период с 25 июля по 1 августа данных было собрано очень мало, поэтому было решено их отбросить и не использовать в исследовании. Это чуть больше 1% от общего кол-ва событий, что не повлияло на исследование. Использовали данные только с 1 по 7 августа.  \n",
    "\n",
    "Исследуя данные, определили что:  \n",
    "\n",
    "- События в эксперименте представляют собой последовательность действий пользователя в приложении при покупке товара. Кроме  tutorial - это инструкция по покупке товара.   \n",
    "\n",
    "Пользователь заходит на главную страницу ---> Нажимает на карточку товара ---> Добавляет товар в корзину ---> Оплачивает товар  \n",
    "  \n",
    "- Из всех зашедших на сайт пользователей только 48% совершили покупку.   \n",
    "\n",
    "- Больше всего пользователей теряется на втором шаге, после входа на главную страницу некоторые пользователи так и не переходят на карточку товара, возможно они не могут найти нужный им товар.  \n",
    "\n",
    "- 81% пользователей добавляют товар в корзину после того, как они перешели на карточку товара, и 95% оплачивают товар после добавления в корзину.  \n",
    "\n",
    "- Для обработки результатов А/А/В теста было проведено 16 проверок статистических гипотез.  \n",
    "\n",
    "- Разбиение на группы А/А теста работает корректно, группы статистически не различаются.\n",
    "\n",
    "- Доли пользователей в группе В равны долям пользователей в А-группах на всех этапах покупки, следовательно изменение шрифта не повлияло на поведение пользователей. Менять шрифт во всем приложении не нужно."
   ]
  }
 ],
 "metadata": {
  "ExecuteTimeLog": [
   {
    "duration": 1313,
    "start_time": "2022-03-29T05:26:08.873Z"
   },
   {
    "duration": 2,
    "start_time": "2022-03-29T05:26:22.112Z"
   },
   {
    "duration": 298,
    "start_time": "2022-03-29T05:27:19.444Z"
   },
   {
    "duration": 101,
    "start_time": "2022-03-29T05:29:47.076Z"
   },
   {
    "duration": 155,
    "start_time": "2022-03-29T05:30:08.976Z"
   },
   {
    "duration": 21,
    "start_time": "2022-03-29T05:30:35.344Z"
   },
   {
    "duration": 8,
    "start_time": "2022-03-29T05:38:28.340Z"
   },
   {
    "duration": 4,
    "start_time": "2022-03-29T05:39:09.135Z"
   },
   {
    "duration": 5,
    "start_time": "2022-03-29T05:39:09.141Z"
   },
   {
    "duration": 305,
    "start_time": "2022-03-29T05:39:09.148Z"
   },
   {
    "duration": 154,
    "start_time": "2022-03-29T05:39:09.455Z"
   },
   {
    "duration": 22,
    "start_time": "2022-03-29T05:39:09.612Z"
   },
   {
    "duration": 10,
    "start_time": "2022-03-29T05:39:09.636Z"
   },
   {
    "duration": 137,
    "start_time": "2022-03-29T05:43:44.035Z"
   },
   {
    "duration": 20,
    "start_time": "2022-03-29T05:43:54.200Z"
   },
   {
    "duration": 18,
    "start_time": "2022-03-29T05:43:58.512Z"
   },
   {
    "duration": 14,
    "start_time": "2022-03-29T05:44:50.578Z"
   },
   {
    "duration": 8,
    "start_time": "2022-03-29T05:50:56.125Z"
   },
   {
    "duration": 1484,
    "start_time": "2022-03-29T05:51:53.564Z"
   },
   {
    "duration": 3,
    "start_time": "2022-03-29T05:52:02.956Z"
   },
   {
    "duration": 11,
    "start_time": "2022-03-29T05:52:02.961Z"
   },
   {
    "duration": 293,
    "start_time": "2022-03-29T05:52:02.974Z"
   },
   {
    "duration": 154,
    "start_time": "2022-03-29T05:52:03.269Z"
   },
   {
    "duration": 32,
    "start_time": "2022-03-29T05:52:03.425Z"
   },
   {
    "duration": 8,
    "start_time": "2022-03-29T05:52:03.459Z"
   },
   {
    "duration": 1815,
    "start_time": "2022-03-29T05:52:04.925Z"
   },
   {
    "duration": 11,
    "start_time": "2022-03-29T05:52:17.574Z"
   },
   {
    "duration": 8,
    "start_time": "2022-03-29T05:52:21.093Z"
   },
   {
    "duration": 80,
    "start_time": "2022-03-29T05:54:49.339Z"
   },
   {
    "duration": 92,
    "start_time": "2022-03-29T05:55:09.269Z"
   },
   {
    "duration": 85,
    "start_time": "2022-03-29T05:59:15.459Z"
   },
   {
    "duration": 75,
    "start_time": "2022-03-29T06:01:18.704Z"
   },
   {
    "duration": 31,
    "start_time": "2022-03-29T06:04:22.958Z"
   },
   {
    "duration": 21,
    "start_time": "2022-03-29T06:08:28.383Z"
   },
   {
    "duration": 21,
    "start_time": "2022-03-29T06:08:53.139Z"
   },
   {
    "duration": 30,
    "start_time": "2022-03-29T06:09:56.438Z"
   },
   {
    "duration": 25,
    "start_time": "2022-03-29T06:11:18.602Z"
   },
   {
    "duration": 10,
    "start_time": "2022-03-29T06:18:08.629Z"
   },
   {
    "duration": 9,
    "start_time": "2022-03-29T06:19:00.239Z"
   },
   {
    "duration": 15,
    "start_time": "2022-03-29T06:20:08.979Z"
   },
   {
    "duration": 90,
    "start_time": "2022-03-29T06:27:57.971Z"
   },
   {
    "duration": 36,
    "start_time": "2022-03-29T06:39:57.908Z"
   },
   {
    "duration": 92,
    "start_time": "2022-03-29T06:41:39.499Z"
   },
   {
    "duration": 121,
    "start_time": "2022-03-29T06:41:58.355Z"
   },
   {
    "duration": 3,
    "start_time": "2022-03-29T06:42:16.761Z"
   },
   {
    "duration": 4,
    "start_time": "2022-03-29T06:42:16.766Z"
   },
   {
    "duration": 286,
    "start_time": "2022-03-29T06:42:16.772Z"
   },
   {
    "duration": 149,
    "start_time": "2022-03-29T06:42:17.060Z"
   },
   {
    "duration": 21,
    "start_time": "2022-03-29T06:42:17.211Z"
   },
   {
    "duration": 9,
    "start_time": "2022-03-29T06:42:17.233Z"
   },
   {
    "duration": 10,
    "start_time": "2022-03-29T06:42:17.244Z"
   },
   {
    "duration": 118,
    "start_time": "2022-03-29T06:42:17.255Z"
   },
   {
    "duration": 98,
    "start_time": "2022-03-29T06:42:17.374Z"
   },
   {
    "duration": 102,
    "start_time": "2022-03-29T06:42:17.474Z"
   },
   {
    "duration": 122,
    "start_time": "2022-03-29T06:42:23.900Z"
   },
   {
    "duration": 1133,
    "start_time": "2022-03-29T06:44:15.847Z"
   },
   {
    "duration": 3,
    "start_time": "2022-03-29T06:44:16.982Z"
   },
   {
    "duration": 286,
    "start_time": "2022-03-29T06:44:16.987Z"
   },
   {
    "duration": 160,
    "start_time": "2022-03-29T06:44:17.275Z"
   },
   {
    "duration": 22,
    "start_time": "2022-03-29T06:44:17.436Z"
   },
   {
    "duration": 8,
    "start_time": "2022-03-29T06:44:17.460Z"
   },
   {
    "duration": 11,
    "start_time": "2022-03-29T06:44:17.470Z"
   },
   {
    "duration": 112,
    "start_time": "2022-03-29T06:44:17.482Z"
   },
   {
    "duration": 91,
    "start_time": "2022-03-29T06:44:17.596Z"
   },
   {
    "duration": 102,
    "start_time": "2022-03-29T06:44:17.689Z"
   },
   {
    "duration": 137,
    "start_time": "2022-03-29T06:44:17.792Z"
   },
   {
    "duration": 24,
    "start_time": "2022-03-29T06:44:17.931Z"
   },
   {
    "duration": 12,
    "start_time": "2022-03-29T06:44:17.957Z"
   },
   {
    "duration": 53,
    "start_time": "2022-03-29T06:44:17.970Z"
   },
   {
    "duration": 33,
    "start_time": "2022-03-29T06:47:24.950Z"
   },
   {
    "duration": 18,
    "start_time": "2022-03-29T06:48:33.181Z"
   },
   {
    "duration": 34,
    "start_time": "2022-03-29T06:50:06.411Z"
   },
   {
    "duration": 131,
    "start_time": "2022-03-29T06:50:21.246Z"
   },
   {
    "duration": 34,
    "start_time": "2022-03-29T06:50:46.976Z"
   },
   {
    "duration": 35,
    "start_time": "2022-03-29T06:51:46.529Z"
   },
   {
    "duration": 97,
    "start_time": "2022-03-29T06:52:08.252Z"
   },
   {
    "duration": 36,
    "start_time": "2022-03-29T06:52:21.455Z"
   },
   {
    "duration": 94,
    "start_time": "2022-03-29T06:52:31.762Z"
   },
   {
    "duration": 33,
    "start_time": "2022-03-29T06:52:38.028Z"
   },
   {
    "duration": 33,
    "start_time": "2022-03-29T06:52:50.465Z"
   },
   {
    "duration": 33,
    "start_time": "2022-03-29T06:53:01.729Z"
   },
   {
    "duration": 32,
    "start_time": "2022-03-29T06:53:08.619Z"
   },
   {
    "duration": 31,
    "start_time": "2022-03-29T06:55:45.959Z"
   },
   {
    "duration": 11,
    "start_time": "2022-03-29T07:25:08.242Z"
   },
   {
    "duration": 17,
    "start_time": "2022-03-29T07:28:30.195Z"
   },
   {
    "duration": 25,
    "start_time": "2022-03-29T07:28:49.684Z"
   },
   {
    "duration": 25,
    "start_time": "2022-03-29T07:29:22.474Z"
   },
   {
    "duration": 154,
    "start_time": "2022-03-29T07:30:00.220Z"
   },
   {
    "duration": 25,
    "start_time": "2022-03-29T07:30:08.246Z"
   },
   {
    "duration": 51,
    "start_time": "2022-03-29T07:30:12.327Z"
   },
   {
    "duration": 45,
    "start_time": "2022-03-29T07:30:16.826Z"
   },
   {
    "duration": 140,
    "start_time": "2022-03-29T07:31:24.009Z"
   },
   {
    "duration": 111,
    "start_time": "2022-03-29T07:31:31.726Z"
   },
   {
    "duration": 7,
    "start_time": "2022-03-29T07:31:41.022Z"
   },
   {
    "duration": 83,
    "start_time": "2022-03-29T07:39:07.916Z"
   },
   {
    "duration": 124,
    "start_time": "2022-03-29T07:39:26.927Z"
   },
   {
    "duration": 3,
    "start_time": "2022-03-29T07:39:40.686Z"
   },
   {
    "duration": 4,
    "start_time": "2022-03-29T07:39:40.692Z"
   },
   {
    "duration": 265,
    "start_time": "2022-03-29T07:39:40.698Z"
   },
   {
    "duration": 142,
    "start_time": "2022-03-29T07:39:40.965Z"
   },
   {
    "duration": 19,
    "start_time": "2022-03-29T07:39:41.109Z"
   },
   {
    "duration": 9,
    "start_time": "2022-03-29T07:39:41.130Z"
   },
   {
    "duration": 87,
    "start_time": "2022-03-29T07:39:41.140Z"
   },
   {
    "duration": 10,
    "start_time": "2022-03-29T07:39:41.229Z"
   },
   {
    "duration": 136,
    "start_time": "2022-03-29T07:39:41.241Z"
   },
   {
    "duration": 81,
    "start_time": "2022-03-29T07:39:41.379Z"
   },
   {
    "duration": 125,
    "start_time": "2022-03-29T07:39:41.462Z"
   },
   {
    "duration": 129,
    "start_time": "2022-03-29T07:39:41.589Z"
   },
   {
    "duration": 40,
    "start_time": "2022-03-29T07:39:41.721Z"
   },
   {
    "duration": 57,
    "start_time": "2022-03-29T07:39:41.763Z"
   },
   {
    "duration": 6,
    "start_time": "2022-03-29T07:39:41.822Z"
   },
   {
    "duration": 12,
    "start_time": "2022-03-29T07:39:41.829Z"
   },
   {
    "duration": 21,
    "start_time": "2022-03-29T07:43:20.698Z"
   },
   {
    "duration": 60,
    "start_time": "2022-03-29T08:43:44.983Z"
   },
   {
    "duration": 1349,
    "start_time": "2022-03-29T08:43:51.823Z"
   },
   {
    "duration": 3,
    "start_time": "2022-03-29T08:43:53.175Z"
   },
   {
    "duration": 298,
    "start_time": "2022-03-29T08:43:53.179Z"
   },
   {
    "duration": 157,
    "start_time": "2022-03-29T08:43:53.480Z"
   },
   {
    "duration": 22,
    "start_time": "2022-03-29T08:43:53.639Z"
   },
   {
    "duration": 8,
    "start_time": "2022-03-29T08:43:53.663Z"
   },
   {
    "duration": 94,
    "start_time": "2022-03-29T08:43:53.673Z"
   },
   {
    "duration": 11,
    "start_time": "2022-03-29T08:43:53.769Z"
   },
   {
    "duration": 152,
    "start_time": "2022-03-29T08:43:53.782Z"
   },
   {
    "duration": 93,
    "start_time": "2022-03-29T08:43:53.937Z"
   },
   {
    "duration": 143,
    "start_time": "2022-03-29T08:43:54.032Z"
   },
   {
    "duration": 27,
    "start_time": "2022-03-29T08:43:54.177Z"
   },
   {
    "duration": 34,
    "start_time": "2022-03-29T08:43:54.206Z"
   },
   {
    "duration": 20,
    "start_time": "2022-03-29T08:43:54.242Z"
   },
   {
    "duration": 39,
    "start_time": "2022-03-29T08:43:54.263Z"
   },
   {
    "duration": 265,
    "start_time": "2022-03-29T08:43:54.304Z"
   },
   {
    "duration": 189,
    "start_time": "2022-03-29T08:45:10.382Z"
   },
   {
    "duration": 21,
    "start_time": "2022-03-29T08:53:34.800Z"
   },
   {
    "duration": 20,
    "start_time": "2022-03-29T08:54:34.529Z"
   },
   {
    "duration": 41,
    "start_time": "2022-03-29T08:55:41.996Z"
   },
   {
    "duration": 60,
    "start_time": "2022-03-29T09:03:50.187Z"
   },
   {
    "duration": 16,
    "start_time": "2022-03-29T09:03:55.163Z"
   },
   {
    "duration": 24,
    "start_time": "2022-03-29T09:04:22.184Z"
   },
   {
    "duration": 17,
    "start_time": "2022-03-29T09:05:09.005Z"
   },
   {
    "duration": 4,
    "start_time": "2022-03-29T09:05:57.368Z"
   },
   {
    "duration": 9,
    "start_time": "2022-03-29T09:05:57.374Z"
   },
   {
    "duration": 297,
    "start_time": "2022-03-29T09:05:57.385Z"
   },
   {
    "duration": 150,
    "start_time": "2022-03-29T09:05:57.684Z"
   },
   {
    "duration": 20,
    "start_time": "2022-03-29T09:05:57.836Z"
   },
   {
    "duration": 9,
    "start_time": "2022-03-29T09:05:57.858Z"
   },
   {
    "duration": 94,
    "start_time": "2022-03-29T09:05:57.869Z"
   },
   {
    "duration": 12,
    "start_time": "2022-03-29T09:05:57.965Z"
   },
   {
    "duration": 142,
    "start_time": "2022-03-29T09:05:57.980Z"
   },
   {
    "duration": 91,
    "start_time": "2022-03-29T09:05:58.124Z"
   },
   {
    "duration": 151,
    "start_time": "2022-03-29T09:05:58.217Z"
   },
   {
    "duration": 19,
    "start_time": "2022-03-29T09:05:58.369Z"
   },
   {
    "duration": 39,
    "start_time": "2022-03-29T09:05:58.402Z"
   },
   {
    "duration": 7,
    "start_time": "2022-03-29T09:05:58.443Z"
   },
   {
    "duration": 217,
    "start_time": "2022-03-29T09:05:58.451Z"
   },
   {
    "duration": 16,
    "start_time": "2022-03-29T09:05:58.669Z"
   },
   {
    "duration": 38,
    "start_time": "2022-03-29T09:05:58.687Z"
   },
   {
    "duration": 17,
    "start_time": "2022-03-29T09:06:18.993Z"
   },
   {
    "duration": 8,
    "start_time": "2022-03-29T09:11:09.057Z"
   },
   {
    "duration": 23,
    "start_time": "2022-03-29T09:54:59.026Z"
   },
   {
    "duration": 48,
    "start_time": "2022-03-29T10:48:54.027Z"
   },
   {
    "duration": 1234,
    "start_time": "2022-03-29T10:49:00.991Z"
   },
   {
    "duration": 3,
    "start_time": "2022-03-29T10:49:02.227Z"
   },
   {
    "duration": 294,
    "start_time": "2022-03-29T10:49:02.231Z"
   },
   {
    "duration": 150,
    "start_time": "2022-03-29T10:49:02.528Z"
   },
   {
    "duration": 22,
    "start_time": "2022-03-29T10:49:02.680Z"
   },
   {
    "duration": 25,
    "start_time": "2022-03-29T10:49:02.704Z"
   },
   {
    "duration": 90,
    "start_time": "2022-03-29T10:49:02.730Z"
   },
   {
    "duration": 12,
    "start_time": "2022-03-29T10:49:02.822Z"
   },
   {
    "duration": 128,
    "start_time": "2022-03-29T10:49:02.838Z"
   },
   {
    "duration": 90,
    "start_time": "2022-03-29T10:49:02.969Z"
   },
   {
    "duration": 149,
    "start_time": "2022-03-29T10:49:03.060Z"
   },
   {
    "duration": 28,
    "start_time": "2022-03-29T10:49:03.211Z"
   },
   {
    "duration": 34,
    "start_time": "2022-03-29T10:49:03.241Z"
   },
   {
    "duration": 7,
    "start_time": "2022-03-29T10:49:03.277Z"
   },
   {
    "duration": 286,
    "start_time": "2022-03-29T10:49:03.285Z"
   },
   {
    "duration": 17,
    "start_time": "2022-03-29T10:49:03.573Z"
   },
   {
    "duration": 9,
    "start_time": "2022-03-29T10:49:03.591Z"
   },
   {
    "duration": 43,
    "start_time": "2022-03-29T10:49:03.602Z"
   },
   {
    "duration": 23,
    "start_time": "2022-03-29T10:49:03.648Z"
   },
   {
    "duration": 110,
    "start_time": "2022-03-29T10:49:03.673Z"
   },
   {
    "duration": 1815,
    "start_time": "2022-03-30T06:26:30.594Z"
   },
   {
    "duration": 4,
    "start_time": "2022-03-30T06:26:32.412Z"
   },
   {
    "duration": 360,
    "start_time": "2022-03-30T06:26:32.418Z"
   },
   {
    "duration": 206,
    "start_time": "2022-03-30T06:26:32.782Z"
   },
   {
    "duration": 29,
    "start_time": "2022-03-30T06:26:32.990Z"
   },
   {
    "duration": 29,
    "start_time": "2022-03-30T06:26:33.022Z"
   },
   {
    "duration": 127,
    "start_time": "2022-03-30T06:26:33.054Z"
   },
   {
    "duration": 14,
    "start_time": "2022-03-30T06:26:33.184Z"
   },
   {
    "duration": 204,
    "start_time": "2022-03-30T06:26:33.200Z"
   },
   {
    "duration": 121,
    "start_time": "2022-03-30T06:26:33.409Z"
   },
   {
    "duration": 205,
    "start_time": "2022-03-30T06:26:33.533Z"
   },
   {
    "duration": 24,
    "start_time": "2022-03-30T06:26:33.742Z"
   },
   {
    "duration": 80,
    "start_time": "2022-03-30T06:26:33.769Z"
   },
   {
    "duration": 12,
    "start_time": "2022-03-30T06:26:33.851Z"
   },
   {
    "duration": 458,
    "start_time": "2022-03-30T06:26:33.866Z"
   },
   {
    "duration": 37,
    "start_time": "2022-03-30T06:26:34.327Z"
   },
   {
    "duration": 14,
    "start_time": "2022-03-30T06:26:34.367Z"
   },
   {
    "duration": 66,
    "start_time": "2022-03-30T06:26:34.383Z"
   },
   {
    "duration": 33,
    "start_time": "2022-03-30T06:26:34.452Z"
   },
   {
    "duration": 161,
    "start_time": "2022-03-30T06:26:34.487Z"
   },
   {
    "duration": 268,
    "start_time": "2022-03-30T06:27:50.961Z"
   },
   {
    "duration": 145,
    "start_time": "2022-03-30T06:28:26.367Z"
   },
   {
    "duration": 153,
    "start_time": "2022-03-30T06:29:06.629Z"
   },
   {
    "duration": 128,
    "start_time": "2022-03-30T06:29:22.034Z"
   },
   {
    "duration": 12,
    "start_time": "2022-03-30T06:29:30.398Z"
   },
   {
    "duration": 7,
    "start_time": "2022-03-30T06:31:16.661Z"
   },
   {
    "duration": 252,
    "start_time": "2022-03-30T06:31:34.502Z"
   },
   {
    "duration": 141,
    "start_time": "2022-03-30T06:31:42.331Z"
   },
   {
    "duration": 6,
    "start_time": "2022-03-30T06:34:56.771Z"
   },
   {
    "duration": 4,
    "start_time": "2022-03-30T06:35:12.187Z"
   },
   {
    "duration": 7,
    "start_time": "2022-03-30T06:35:18.744Z"
   },
   {
    "duration": 154,
    "start_time": "2022-03-30T06:36:14.812Z"
   },
   {
    "duration": 145,
    "start_time": "2022-03-30T06:36:32.969Z"
   },
   {
    "duration": 13,
    "start_time": "2022-03-30T06:37:48.804Z"
   },
   {
    "duration": 154,
    "start_time": "2022-03-30T06:37:55.339Z"
   },
   {
    "duration": 15,
    "start_time": "2022-03-30T06:50:34.360Z"
   },
   {
    "duration": 23,
    "start_time": "2022-03-30T06:51:41.731Z"
   },
   {
    "duration": 12,
    "start_time": "2022-03-30T07:22:18.285Z"
   },
   {
    "duration": 7,
    "start_time": "2022-03-30T07:26:25.795Z"
   },
   {
    "duration": 12,
    "start_time": "2022-03-30T07:26:41.819Z"
   },
   {
    "duration": 7,
    "start_time": "2022-03-30T07:26:46.119Z"
   },
   {
    "duration": 6,
    "start_time": "2022-03-30T07:27:27.952Z"
   },
   {
    "duration": 6,
    "start_time": "2022-03-30T07:30:30.188Z"
   },
   {
    "duration": 7,
    "start_time": "2022-03-30T07:31:06.102Z"
   },
   {
    "duration": 11,
    "start_time": "2022-03-30T07:38:48.136Z"
   },
   {
    "duration": 185,
    "start_time": "2022-03-30T07:39:59.744Z"
   },
   {
    "duration": 185,
    "start_time": "2022-03-30T07:40:53.478Z"
   },
   {
    "duration": 176,
    "start_time": "2022-03-30T07:41:39.096Z"
   },
   {
    "duration": 216,
    "start_time": "2022-03-30T07:41:46.456Z"
   },
   {
    "duration": 216,
    "start_time": "2022-03-30T07:43:22.496Z"
   },
   {
    "duration": 219,
    "start_time": "2022-03-30T07:43:58.049Z"
   },
   {
    "duration": 242,
    "start_time": "2022-03-30T07:44:28.348Z"
   },
   {
    "duration": 185,
    "start_time": "2022-03-30T07:45:08.206Z"
   },
   {
    "duration": 278,
    "start_time": "2022-03-30T07:46:50.672Z"
   },
   {
    "duration": 154,
    "start_time": "2022-03-30T07:47:05.317Z"
   },
   {
    "duration": 219,
    "start_time": "2022-03-30T07:47:17.762Z"
   },
   {
    "duration": 153,
    "start_time": "2022-03-30T07:47:29.271Z"
   },
   {
    "duration": 236,
    "start_time": "2022-03-30T07:47:43.802Z"
   },
   {
    "duration": 227,
    "start_time": "2022-03-30T07:48:35.750Z"
   },
   {
    "duration": 236,
    "start_time": "2022-03-30T07:49:24.861Z"
   },
   {
    "duration": 234,
    "start_time": "2022-03-30T07:54:23.440Z"
   },
   {
    "duration": 149,
    "start_time": "2022-03-30T07:55:07.089Z"
   },
   {
    "duration": 122,
    "start_time": "2022-03-30T07:55:39.611Z"
   },
   {
    "duration": 124,
    "start_time": "2022-03-30T07:58:15.918Z"
   },
   {
    "duration": 114,
    "start_time": "2022-03-30T07:58:28.376Z"
   },
   {
    "duration": 244,
    "start_time": "2022-03-30T07:58:47.038Z"
   },
   {
    "duration": 133,
    "start_time": "2022-03-30T07:59:00.745Z"
   },
   {
    "duration": 166,
    "start_time": "2022-03-30T07:59:13.730Z"
   },
   {
    "duration": 153,
    "start_time": "2022-03-30T07:59:36.177Z"
   },
   {
    "duration": 129,
    "start_time": "2022-03-30T08:00:41.841Z"
   },
   {
    "duration": 229,
    "start_time": "2022-03-30T08:23:44.954Z"
   },
   {
    "duration": 216,
    "start_time": "2022-03-30T08:24:34.956Z"
   },
   {
    "duration": 156,
    "start_time": "2022-03-30T08:24:41.814Z"
   },
   {
    "duration": 317,
    "start_time": "2022-03-30T08:24:51.154Z"
   },
   {
    "duration": 225,
    "start_time": "2022-03-30T08:25:11.476Z"
   },
   {
    "duration": 168,
    "start_time": "2022-03-30T08:25:56.536Z"
   },
   {
    "duration": 164,
    "start_time": "2022-03-30T08:26:06.908Z"
   },
   {
    "duration": 301,
    "start_time": "2022-03-30T08:26:11.755Z"
   },
   {
    "duration": 260,
    "start_time": "2022-03-30T08:26:17.651Z"
   },
   {
    "duration": 304,
    "start_time": "2022-03-30T08:27:16.258Z"
   },
   {
    "duration": 311,
    "start_time": "2022-03-30T08:27:26.143Z"
   },
   {
    "duration": 223,
    "start_time": "2022-03-30T08:27:34.378Z"
   },
   {
    "duration": 230,
    "start_time": "2022-03-30T08:27:48.624Z"
   },
   {
    "duration": 1302,
    "start_time": "2022-03-30T08:38:33.345Z"
   },
   {
    "duration": 2,
    "start_time": "2022-03-30T08:38:34.649Z"
   },
   {
    "duration": 281,
    "start_time": "2022-03-30T08:38:34.653Z"
   },
   {
    "duration": 160,
    "start_time": "2022-03-30T08:38:34.936Z"
   },
   {
    "duration": 27,
    "start_time": "2022-03-30T08:38:35.097Z"
   },
   {
    "duration": 9,
    "start_time": "2022-03-30T08:38:35.126Z"
   },
   {
    "duration": 95,
    "start_time": "2022-03-30T08:38:35.137Z"
   },
   {
    "duration": 11,
    "start_time": "2022-03-30T08:38:35.234Z"
   },
   {
    "duration": 139,
    "start_time": "2022-03-30T08:38:35.247Z"
   },
   {
    "duration": 92,
    "start_time": "2022-03-30T08:38:35.389Z"
   },
   {
    "duration": 146,
    "start_time": "2022-03-30T08:38:35.483Z"
   },
   {
    "duration": 19,
    "start_time": "2022-03-30T08:38:35.631Z"
   },
   {
    "duration": 58,
    "start_time": "2022-03-30T08:38:35.652Z"
   },
   {
    "duration": 9,
    "start_time": "2022-03-30T08:38:35.712Z"
   },
   {
    "duration": 317,
    "start_time": "2022-03-30T08:38:35.723Z"
   },
   {
    "duration": 15,
    "start_time": "2022-03-30T08:38:36.042Z"
   },
   {
    "duration": 7,
    "start_time": "2022-03-30T08:38:36.059Z"
   },
   {
    "duration": 43,
    "start_time": "2022-03-30T08:38:36.067Z"
   },
   {
    "duration": 23,
    "start_time": "2022-03-30T08:38:36.112Z"
   },
   {
    "duration": 9,
    "start_time": "2022-03-30T08:38:36.137Z"
   },
   {
    "duration": 121,
    "start_time": "2022-03-30T08:38:36.147Z"
   },
   {
    "duration": 4,
    "start_time": "2022-03-30T08:38:36.270Z"
   },
   {
    "duration": 162,
    "start_time": "2022-03-30T08:38:36.276Z"
   },
   {
    "duration": 158,
    "start_time": "2022-03-30T08:38:48.825Z"
   },
   {
    "duration": 6,
    "start_time": "2022-03-30T08:39:28.997Z"
   },
   {
    "duration": 102,
    "start_time": "2022-03-30T08:41:05.640Z"
   },
   {
    "duration": 3,
    "start_time": "2022-03-30T08:41:45.720Z"
   },
   {
    "duration": 149,
    "start_time": "2022-03-30T08:42:52.737Z"
   },
   {
    "duration": 6,
    "start_time": "2022-03-30T08:45:58.812Z"
   },
   {
    "duration": 4,
    "start_time": "2022-03-30T08:46:14.453Z"
   },
   {
    "duration": 93,
    "start_time": "2022-03-30T08:48:26.263Z"
   },
   {
    "duration": 29,
    "start_time": "2022-03-30T08:48:47.300Z"
   },
   {
    "duration": 115,
    "start_time": "2022-03-30T08:49:08.152Z"
   },
   {
    "duration": 6,
    "start_time": "2022-03-30T08:50:40.529Z"
   },
   {
    "duration": 4,
    "start_time": "2022-03-30T08:50:44.910Z"
   },
   {
    "duration": 6,
    "start_time": "2022-03-30T08:51:40.506Z"
   },
   {
    "duration": 122,
    "start_time": "2022-03-30T08:57:40.499Z"
   },
   {
    "duration": 4,
    "start_time": "2022-03-30T08:58:32.988Z"
   },
   {
    "duration": 4,
    "start_time": "2022-03-30T08:58:32.995Z"
   },
   {
    "duration": 305,
    "start_time": "2022-03-30T08:58:33.002Z"
   },
   {
    "duration": 156,
    "start_time": "2022-03-30T08:58:33.309Z"
   },
   {
    "duration": 22,
    "start_time": "2022-03-30T08:58:33.467Z"
   },
   {
    "duration": 19,
    "start_time": "2022-03-30T08:58:33.491Z"
   },
   {
    "duration": 72,
    "start_time": "2022-03-30T08:58:33.511Z"
   },
   {
    "duration": 25,
    "start_time": "2022-03-30T08:58:33.585Z"
   },
   {
    "duration": 131,
    "start_time": "2022-03-30T08:58:33.612Z"
   },
   {
    "duration": 85,
    "start_time": "2022-03-30T08:58:33.745Z"
   },
   {
    "duration": 129,
    "start_time": "2022-03-30T08:58:33.832Z"
   },
   {
    "duration": 18,
    "start_time": "2022-03-30T08:58:33.963Z"
   },
   {
    "duration": 51,
    "start_time": "2022-03-30T08:58:33.983Z"
   },
   {
    "duration": 6,
    "start_time": "2022-03-30T08:58:34.037Z"
   },
   {
    "duration": 209,
    "start_time": "2022-03-30T08:58:34.045Z"
   },
   {
    "duration": 15,
    "start_time": "2022-03-30T08:58:34.256Z"
   },
   {
    "duration": 8,
    "start_time": "2022-03-30T08:58:34.272Z"
   },
   {
    "duration": 42,
    "start_time": "2022-03-30T08:58:34.281Z"
   },
   {
    "duration": 23,
    "start_time": "2022-03-30T08:58:34.325Z"
   },
   {
    "duration": 9,
    "start_time": "2022-03-30T08:58:34.350Z"
   },
   {
    "duration": 121,
    "start_time": "2022-03-30T08:58:34.361Z"
   },
   {
    "duration": 132,
    "start_time": "2022-03-30T08:58:34.484Z"
   },
   {
    "duration": 8,
    "start_time": "2022-03-30T08:58:34.619Z"
   },
   {
    "duration": 163,
    "start_time": "2022-03-30T08:58:34.629Z"
   },
   {
    "duration": 106,
    "start_time": "2022-03-30T08:58:57.332Z"
   },
   {
    "duration": 110,
    "start_time": "2022-03-30T08:59:27.608Z"
   },
   {
    "duration": 12,
    "start_time": "2022-03-30T09:03:44.450Z"
   },
   {
    "duration": 14,
    "start_time": "2022-03-30T09:03:52.854Z"
   },
   {
    "duration": 14,
    "start_time": "2022-03-30T09:04:35.188Z"
   },
   {
    "duration": 114,
    "start_time": "2022-03-30T09:05:11.790Z"
   },
   {
    "duration": 13,
    "start_time": "2022-03-30T09:05:32.000Z"
   },
   {
    "duration": 110,
    "start_time": "2022-03-30T09:06:19.222Z"
   },
   {
    "duration": 112,
    "start_time": "2022-03-30T09:07:00.423Z"
   },
   {
    "duration": 14,
    "start_time": "2022-03-30T09:07:32.558Z"
   },
   {
    "duration": 149,
    "start_time": "2022-03-30T09:12:40.064Z"
   },
   {
    "duration": 95,
    "start_time": "2022-03-30T09:13:27.360Z"
   },
   {
    "duration": 114,
    "start_time": "2022-03-30T09:13:43.579Z"
   },
   {
    "duration": 118,
    "start_time": "2022-03-30T09:14:32.444Z"
   },
   {
    "duration": 108,
    "start_time": "2022-03-30T09:15:26.222Z"
   },
   {
    "duration": 4,
    "start_time": "2022-03-30T09:15:50.318Z"
   },
   {
    "duration": 9,
    "start_time": "2022-03-30T09:18:02.557Z"
   },
   {
    "duration": 4,
    "start_time": "2022-03-30T09:18:24.849Z"
   },
   {
    "duration": 4,
    "start_time": "2022-03-30T09:21:08.723Z"
   },
   {
    "duration": 5,
    "start_time": "2022-03-30T09:21:43.294Z"
   },
   {
    "duration": 5,
    "start_time": "2022-03-30T09:22:12.292Z"
   },
   {
    "duration": 6,
    "start_time": "2022-03-30T09:22:46.094Z"
   },
   {
    "duration": 4,
    "start_time": "2022-03-30T09:22:59.069Z"
   },
   {
    "duration": 9,
    "start_time": "2022-03-30T09:23:10.140Z"
   },
   {
    "duration": 5,
    "start_time": "2022-03-30T09:23:19.559Z"
   },
   {
    "duration": 14,
    "start_time": "2022-03-30T09:23:23.038Z"
   },
   {
    "duration": 116,
    "start_time": "2022-03-30T09:23:59.855Z"
   },
   {
    "duration": 141,
    "start_time": "2022-03-30T09:25:50.416Z"
   },
   {
    "duration": 141,
    "start_time": "2022-03-30T09:26:31.614Z"
   },
   {
    "duration": 93,
    "start_time": "2022-03-30T09:29:36.581Z"
   },
   {
    "duration": 1831,
    "start_time": "2022-03-30T09:38:45.479Z"
   },
   {
    "duration": 122,
    "start_time": "2022-03-30T09:39:20.321Z"
   },
   {
    "duration": 4,
    "start_time": "2022-03-30T09:40:00.247Z"
   },
   {
    "duration": 129,
    "start_time": "2022-03-30T09:41:29.875Z"
   },
   {
    "duration": 4,
    "start_time": "2022-03-30T09:41:34.299Z"
   },
   {
    "duration": 150,
    "start_time": "2022-03-30T09:42:11.346Z"
   },
   {
    "duration": 18,
    "start_time": "2022-03-30T10:56:35.464Z"
   },
   {
    "duration": 18,
    "start_time": "2022-03-30T10:56:53.402Z"
   },
   {
    "duration": 1605,
    "start_time": "2022-03-31T04:51:41.789Z"
   },
   {
    "duration": 3,
    "start_time": "2022-03-31T04:51:43.397Z"
   },
   {
    "duration": 282,
    "start_time": "2022-03-31T04:51:43.402Z"
   },
   {
    "duration": 157,
    "start_time": "2022-03-31T04:51:43.686Z"
   },
   {
    "duration": 21,
    "start_time": "2022-03-31T04:51:43.845Z"
   },
   {
    "duration": 8,
    "start_time": "2022-03-31T04:51:43.868Z"
   },
   {
    "duration": 94,
    "start_time": "2022-03-31T04:51:43.877Z"
   },
   {
    "duration": 10,
    "start_time": "2022-03-31T04:51:43.972Z"
   },
   {
    "duration": 130,
    "start_time": "2022-03-31T04:51:43.984Z"
   },
   {
    "duration": 83,
    "start_time": "2022-03-31T04:51:44.117Z"
   },
   {
    "duration": 140,
    "start_time": "2022-03-31T04:51:44.201Z"
   },
   {
    "duration": 20,
    "start_time": "2022-03-31T04:51:44.342Z"
   },
   {
    "duration": 37,
    "start_time": "2022-03-31T04:51:44.364Z"
   },
   {
    "duration": 36,
    "start_time": "2022-03-31T04:51:44.403Z"
   },
   {
    "duration": 268,
    "start_time": "2022-03-31T04:51:44.441Z"
   },
   {
    "duration": 25,
    "start_time": "2022-03-31T04:51:44.711Z"
   },
   {
    "duration": 9,
    "start_time": "2022-03-31T04:51:44.738Z"
   },
   {
    "duration": 22,
    "start_time": "2022-03-31T04:51:44.749Z"
   },
   {
    "duration": 129,
    "start_time": "2022-03-31T04:51:44.773Z"
   },
   {
    "duration": 142,
    "start_time": "2022-03-31T04:51:44.904Z"
   },
   {
    "duration": 144,
    "start_time": "2022-03-31T04:51:45.048Z"
   },
   {
    "duration": 19,
    "start_time": "2022-03-31T04:51:45.194Z"
   },
   {
    "duration": 32,
    "start_time": "2022-03-31T05:12:16.523Z"
   },
   {
    "duration": 122,
    "start_time": "2022-03-31T05:14:35.236Z"
   },
   {
    "duration": 93,
    "start_time": "2022-03-31T05:18:12.915Z"
   },
   {
    "duration": 63,
    "start_time": "2022-03-31T05:18:58.518Z"
   },
   {
    "duration": 59,
    "start_time": "2022-03-31T05:21:15.828Z"
   },
   {
    "duration": 151,
    "start_time": "2022-03-31T05:22:00.917Z"
   },
   {
    "duration": 59,
    "start_time": "2022-03-31T05:22:16.716Z"
   },
   {
    "duration": 59,
    "start_time": "2022-03-31T05:22:51.147Z"
   },
   {
    "duration": 9,
    "start_time": "2022-03-31T05:36:06.297Z"
   },
   {
    "duration": 8,
    "start_time": "2022-03-31T05:39:17.416Z"
   },
   {
    "duration": 9,
    "start_time": "2022-03-31T05:57:48.745Z"
   },
   {
    "duration": 3,
    "start_time": "2022-03-31T06:22:31.537Z"
   },
   {
    "duration": 12,
    "start_time": "2022-03-31T06:22:31.542Z"
   },
   {
    "duration": 284,
    "start_time": "2022-03-31T06:22:31.556Z"
   },
   {
    "duration": 137,
    "start_time": "2022-03-31T06:22:31.842Z"
   },
   {
    "duration": 19,
    "start_time": "2022-03-31T06:22:31.981Z"
   },
   {
    "duration": 8,
    "start_time": "2022-03-31T06:22:32.001Z"
   },
   {
    "duration": 84,
    "start_time": "2022-03-31T06:22:32.011Z"
   },
   {
    "duration": 10,
    "start_time": "2022-03-31T06:22:32.097Z"
   },
   {
    "duration": 135,
    "start_time": "2022-03-31T06:22:32.109Z"
   },
   {
    "duration": 73,
    "start_time": "2022-03-31T06:22:32.245Z"
   },
   {
    "duration": 130,
    "start_time": "2022-03-31T06:22:32.333Z"
   },
   {
    "duration": 16,
    "start_time": "2022-03-31T06:22:32.465Z"
   },
   {
    "duration": 51,
    "start_time": "2022-03-31T06:22:32.483Z"
   },
   {
    "duration": 6,
    "start_time": "2022-03-31T06:22:32.535Z"
   },
   {
    "duration": 179,
    "start_time": "2022-03-31T06:22:32.543Z"
   },
   {
    "duration": 18,
    "start_time": "2022-03-31T06:22:32.724Z"
   },
   {
    "duration": 7,
    "start_time": "2022-03-31T06:22:32.744Z"
   },
   {
    "duration": 18,
    "start_time": "2022-03-31T06:22:32.753Z"
   },
   {
    "duration": 113,
    "start_time": "2022-03-31T06:22:32.772Z"
   },
   {
    "duration": 111,
    "start_time": "2022-03-31T06:22:32.887Z"
   },
   {
    "duration": 135,
    "start_time": "2022-03-31T06:22:33.000Z"
   },
   {
    "duration": 20,
    "start_time": "2022-03-31T06:22:33.136Z"
   },
   {
    "duration": 33,
    "start_time": "2022-03-31T06:22:33.158Z"
   },
   {
    "duration": 70,
    "start_time": "2022-03-31T06:22:33.192Z"
   },
   {
    "duration": 9,
    "start_time": "2022-03-31T06:22:33.264Z"
   },
   {
    "duration": 9,
    "start_time": "2022-03-31T06:22:41.756Z"
   },
   {
    "duration": 33,
    "start_time": "2022-03-31T06:52:21.406Z"
   },
   {
    "duration": 6,
    "start_time": "2022-03-31T06:52:33.160Z"
   },
   {
    "duration": 1495,
    "start_time": "2022-03-31T06:52:36.922Z"
   },
   {
    "duration": 1084,
    "start_time": "2022-03-31T06:55:31.500Z"
   },
   {
    "duration": 2,
    "start_time": "2022-03-31T06:55:32.586Z"
   },
   {
    "duration": 274,
    "start_time": "2022-03-31T06:55:32.589Z"
   },
   {
    "duration": 149,
    "start_time": "2022-03-31T06:55:32.865Z"
   },
   {
    "duration": 23,
    "start_time": "2022-03-31T06:55:33.016Z"
   },
   {
    "duration": 8,
    "start_time": "2022-03-31T06:55:33.041Z"
   },
   {
    "duration": 92,
    "start_time": "2022-03-31T06:55:33.051Z"
   },
   {
    "duration": 12,
    "start_time": "2022-03-31T06:55:33.145Z"
   },
   {
    "duration": 127,
    "start_time": "2022-03-31T06:55:33.159Z"
   },
   {
    "duration": 88,
    "start_time": "2022-03-31T06:55:33.290Z"
   },
   {
    "duration": 141,
    "start_time": "2022-03-31T06:55:33.380Z"
   },
   {
    "duration": 26,
    "start_time": "2022-03-31T06:55:33.523Z"
   },
   {
    "duration": 37,
    "start_time": "2022-03-31T06:55:33.551Z"
   },
   {
    "duration": 7,
    "start_time": "2022-03-31T06:55:33.590Z"
   },
   {
    "duration": 289,
    "start_time": "2022-03-31T06:55:33.599Z"
   },
   {
    "duration": 16,
    "start_time": "2022-03-31T06:55:33.890Z"
   },
   {
    "duration": 26,
    "start_time": "2022-03-31T06:55:33.908Z"
   },
   {
    "duration": 21,
    "start_time": "2022-03-31T06:55:33.935Z"
   },
   {
    "duration": 110,
    "start_time": "2022-03-31T06:55:33.957Z"
   },
   {
    "duration": 123,
    "start_time": "2022-03-31T06:55:34.069Z"
   },
   {
    "duration": 140,
    "start_time": "2022-03-31T06:55:34.194Z"
   },
   {
    "duration": 18,
    "start_time": "2022-03-31T06:55:34.336Z"
   },
   {
    "duration": 36,
    "start_time": "2022-03-31T06:55:34.356Z"
   },
   {
    "duration": 83,
    "start_time": "2022-03-31T06:55:34.394Z"
   },
   {
    "duration": 6,
    "start_time": "2022-03-31T06:55:34.478Z"
   },
   {
    "duration": 1567,
    "start_time": "2022-03-31T06:55:34.485Z"
   },
   {
    "duration": 4,
    "start_time": "2022-03-31T07:09:24.161Z"
   },
   {
    "duration": 62,
    "start_time": "2022-03-31T07:10:22.195Z"
   },
   {
    "duration": 70,
    "start_time": "2022-03-31T07:13:24.654Z"
   },
   {
    "duration": 106,
    "start_time": "2022-03-31T08:00:33.369Z"
   },
   {
    "duration": 119,
    "start_time": "2022-03-31T08:17:50.599Z"
   },
   {
    "duration": 11,
    "start_time": "2022-03-31T08:33:37.263Z"
   },
   {
    "duration": 10,
    "start_time": "2022-03-31T08:35:22.932Z"
   },
   {
    "duration": 12,
    "start_time": "2022-03-31T08:37:15.286Z"
   },
   {
    "duration": 7,
    "start_time": "2022-03-31T08:38:22.172Z"
   },
   {
    "duration": 101,
    "start_time": "2022-03-31T08:41:42.840Z"
   },
   {
    "duration": 8,
    "start_time": "2022-03-31T08:41:55.505Z"
   },
   {
    "duration": 8,
    "start_time": "2022-03-31T08:42:19.523Z"
   },
   {
    "duration": 8,
    "start_time": "2022-03-31T08:42:40.789Z"
   },
   {
    "duration": 4,
    "start_time": "2022-03-31T08:42:53.508Z"
   },
   {
    "duration": 7,
    "start_time": "2022-03-31T08:43:51.905Z"
   },
   {
    "duration": 5,
    "start_time": "2022-03-31T08:49:49.470Z"
   },
   {
    "duration": 5,
    "start_time": "2022-03-31T08:50:04.826Z"
   },
   {
    "duration": 5,
    "start_time": "2022-03-31T08:50:10.359Z"
   },
   {
    "duration": 102,
    "start_time": "2022-03-31T08:54:57.220Z"
   },
   {
    "duration": 88,
    "start_time": "2022-03-31T08:55:14.261Z"
   },
   {
    "duration": 5,
    "start_time": "2022-03-31T08:56:02.774Z"
   },
   {
    "duration": 5,
    "start_time": "2022-03-31T08:57:19.387Z"
   },
   {
    "duration": 5,
    "start_time": "2022-03-31T08:57:52.285Z"
   },
   {
    "duration": 9,
    "start_time": "2022-03-31T08:59:46.827Z"
   },
   {
    "duration": 10,
    "start_time": "2022-03-31T09:00:12.397Z"
   },
   {
    "duration": 11,
    "start_time": "2022-03-31T09:04:58.195Z"
   },
   {
    "duration": 9,
    "start_time": "2022-03-31T09:05:41.852Z"
   },
   {
    "duration": 1243,
    "start_time": "2022-03-31T12:59:05.448Z"
   },
   {
    "duration": 3,
    "start_time": "2022-03-31T12:59:06.692Z"
   },
   {
    "duration": 257,
    "start_time": "2022-03-31T12:59:06.696Z"
   },
   {
    "duration": 145,
    "start_time": "2022-03-31T12:59:06.956Z"
   },
   {
    "duration": 19,
    "start_time": "2022-03-31T12:59:07.103Z"
   },
   {
    "duration": 7,
    "start_time": "2022-03-31T12:59:07.124Z"
   },
   {
    "duration": 86,
    "start_time": "2022-03-31T12:59:07.133Z"
   },
   {
    "duration": 9,
    "start_time": "2022-03-31T12:59:07.221Z"
   },
   {
    "duration": 132,
    "start_time": "2022-03-31T12:59:07.231Z"
   },
   {
    "duration": 68,
    "start_time": "2022-03-31T12:59:07.366Z"
   },
   {
    "duration": 134,
    "start_time": "2022-03-31T12:59:07.435Z"
   },
   {
    "duration": 16,
    "start_time": "2022-03-31T12:59:07.571Z"
   },
   {
    "duration": 32,
    "start_time": "2022-03-31T12:59:07.589Z"
   },
   {
    "duration": 8,
    "start_time": "2022-03-31T12:59:07.622Z"
   },
   {
    "duration": 262,
    "start_time": "2022-03-31T12:59:07.632Z"
   },
   {
    "duration": 14,
    "start_time": "2022-03-31T12:59:07.896Z"
   },
   {
    "duration": 7,
    "start_time": "2022-03-31T12:59:07.911Z"
   },
   {
    "duration": 19,
    "start_time": "2022-03-31T12:59:07.919Z"
   },
   {
    "duration": 125,
    "start_time": "2022-03-31T12:59:07.939Z"
   },
   {
    "duration": 120,
    "start_time": "2022-03-31T12:59:08.065Z"
   },
   {
    "duration": 127,
    "start_time": "2022-03-31T12:59:08.187Z"
   },
   {
    "duration": 19,
    "start_time": "2022-03-31T12:59:08.315Z"
   },
   {
    "duration": 122,
    "start_time": "2022-03-31T12:59:08.335Z"
   },
   {
    "duration": 6,
    "start_time": "2022-03-31T12:59:08.458Z"
   },
   {
    "duration": 13,
    "start_time": "2022-03-31T12:59:08.465Z"
   },
   {
    "duration": 9,
    "start_time": "2022-03-31T12:59:08.479Z"
   },
   {
    "duration": 12,
    "start_time": "2022-03-31T12:59:08.490Z"
   },
   {
    "duration": 1152,
    "start_time": "2022-03-31T13:49:19.690Z"
   },
   {
    "duration": 3,
    "start_time": "2022-03-31T13:49:20.844Z"
   },
   {
    "duration": 277,
    "start_time": "2022-03-31T13:49:20.848Z"
   },
   {
    "duration": 152,
    "start_time": "2022-03-31T13:49:21.127Z"
   },
   {
    "duration": 20,
    "start_time": "2022-03-31T13:49:21.281Z"
   },
   {
    "duration": 9,
    "start_time": "2022-03-31T13:49:21.303Z"
   },
   {
    "duration": 99,
    "start_time": "2022-03-31T13:49:21.314Z"
   },
   {
    "duration": 10,
    "start_time": "2022-03-31T13:49:21.415Z"
   },
   {
    "duration": 147,
    "start_time": "2022-03-31T13:49:21.427Z"
   },
   {
    "duration": 85,
    "start_time": "2022-03-31T13:49:21.578Z"
   },
   {
    "duration": 120,
    "start_time": "2022-03-31T13:49:21.666Z"
   },
   {
    "duration": 29,
    "start_time": "2022-03-31T13:49:21.787Z"
   },
   {
    "duration": 67,
    "start_time": "2022-03-31T13:49:21.819Z"
   },
   {
    "duration": 10,
    "start_time": "2022-03-31T13:49:21.888Z"
   },
   {
    "duration": 397,
    "start_time": "2022-03-31T13:49:21.900Z"
   },
   {
    "duration": 20,
    "start_time": "2022-03-31T13:49:22.299Z"
   },
   {
    "duration": 9,
    "start_time": "2022-03-31T13:49:22.321Z"
   },
   {
    "duration": 60,
    "start_time": "2022-03-31T13:49:22.331Z"
   },
   {
    "duration": 163,
    "start_time": "2022-03-31T13:49:22.393Z"
   },
   {
    "duration": 151,
    "start_time": "2022-03-31T13:49:22.558Z"
   },
   {
    "duration": 138,
    "start_time": "2022-03-31T13:49:22.711Z"
   },
   {
    "duration": 30,
    "start_time": "2022-03-31T13:49:22.851Z"
   },
   {
    "duration": 141,
    "start_time": "2022-03-31T13:49:22.883Z"
   },
   {
    "duration": 6,
    "start_time": "2022-03-31T13:49:23.025Z"
   },
   {
    "duration": 14,
    "start_time": "2022-03-31T13:49:23.033Z"
   },
   {
    "duration": 11,
    "start_time": "2022-03-31T13:49:23.063Z"
   },
   {
    "duration": 14,
    "start_time": "2022-03-31T13:49:23.076Z"
   },
   {
    "duration": 1189,
    "start_time": "2022-04-01T10:19:44.984Z"
   },
   {
    "duration": 3,
    "start_time": "2022-04-01T10:19:46.175Z"
   },
   {
    "duration": 295,
    "start_time": "2022-04-01T10:19:46.180Z"
   },
   {
    "duration": 160,
    "start_time": "2022-04-01T10:19:46.478Z"
   },
   {
    "duration": 23,
    "start_time": "2022-04-01T10:19:46.640Z"
   },
   {
    "duration": 9,
    "start_time": "2022-04-01T10:19:46.665Z"
   },
   {
    "duration": 97,
    "start_time": "2022-04-01T10:19:46.676Z"
   },
   {
    "duration": 12,
    "start_time": "2022-04-01T10:19:46.774Z"
   },
   {
    "duration": 136,
    "start_time": "2022-04-01T10:19:46.801Z"
   },
   {
    "duration": 91,
    "start_time": "2022-04-01T10:19:46.940Z"
   },
   {
    "duration": 122,
    "start_time": "2022-04-01T10:19:47.033Z"
   },
   {
    "duration": 20,
    "start_time": "2022-04-01T10:19:47.157Z"
   },
   {
    "duration": 65,
    "start_time": "2022-04-01T10:19:47.179Z"
   },
   {
    "duration": 7,
    "start_time": "2022-04-01T10:19:47.246Z"
   },
   {
    "duration": 292,
    "start_time": "2022-04-01T10:19:47.255Z"
   },
   {
    "duration": 18,
    "start_time": "2022-04-01T10:19:47.549Z"
   },
   {
    "duration": 9,
    "start_time": "2022-04-01T10:19:47.568Z"
   },
   {
    "duration": 23,
    "start_time": "2022-04-01T10:19:47.601Z"
   },
   {
    "duration": 127,
    "start_time": "2022-04-01T10:19:47.626Z"
   },
   {
    "duration": 138,
    "start_time": "2022-04-01T10:19:47.754Z"
   },
   {
    "duration": 160,
    "start_time": "2022-04-01T10:19:47.894Z"
   },
   {
    "duration": 22,
    "start_time": "2022-04-01T10:19:48.056Z"
   },
   {
    "duration": 143,
    "start_time": "2022-04-01T10:19:48.079Z"
   },
   {
    "duration": 6,
    "start_time": "2022-04-01T10:19:48.224Z"
   },
   {
    "duration": 18,
    "start_time": "2022-04-01T10:19:48.232Z"
   },
   {
    "duration": 13,
    "start_time": "2022-04-01T10:19:48.253Z"
   },
   {
    "duration": 42,
    "start_time": "2022-04-01T10:19:48.268Z"
   },
   {
    "duration": 14,
    "start_time": "2022-04-01T10:37:01.732Z"
   },
   {
    "duration": 4,
    "start_time": "2022-04-01T10:37:05.962Z"
   },
   {
    "duration": 5,
    "start_time": "2022-04-01T10:37:17.933Z"
   },
   {
    "duration": 4,
    "start_time": "2022-04-01T10:37:22.468Z"
   },
   {
    "duration": 1386,
    "start_time": "2022-04-02T06:05:30.018Z"
   },
   {
    "duration": 3,
    "start_time": "2022-04-02T06:05:31.406Z"
   },
   {
    "duration": 304,
    "start_time": "2022-04-02T06:05:31.411Z"
   },
   {
    "duration": 161,
    "start_time": "2022-04-02T06:05:31.718Z"
   },
   {
    "duration": 23,
    "start_time": "2022-04-02T06:05:31.880Z"
   },
   {
    "duration": 26,
    "start_time": "2022-04-02T06:05:31.905Z"
   },
   {
    "duration": 76,
    "start_time": "2022-04-02T06:05:31.933Z"
   },
   {
    "duration": 25,
    "start_time": "2022-04-02T06:05:32.011Z"
   },
   {
    "duration": 140,
    "start_time": "2022-04-02T06:05:32.037Z"
   },
   {
    "duration": 97,
    "start_time": "2022-04-02T06:05:32.180Z"
   },
   {
    "duration": 128,
    "start_time": "2022-04-02T06:05:32.279Z"
   },
   {
    "duration": 25,
    "start_time": "2022-04-02T06:05:32.409Z"
   },
   {
    "duration": 37,
    "start_time": "2022-04-02T06:05:32.436Z"
   },
   {
    "duration": 7,
    "start_time": "2022-04-02T06:05:32.475Z"
   },
   {
    "duration": 307,
    "start_time": "2022-04-02T06:05:32.484Z"
   },
   {
    "duration": 16,
    "start_time": "2022-04-02T06:05:32.793Z"
   },
   {
    "duration": 22,
    "start_time": "2022-04-02T06:05:32.811Z"
   },
   {
    "duration": 22,
    "start_time": "2022-04-02T06:05:32.834Z"
   },
   {
    "duration": 120,
    "start_time": "2022-04-02T06:05:32.858Z"
   },
   {
    "duration": 138,
    "start_time": "2022-04-02T06:05:32.980Z"
   },
   {
    "duration": 164,
    "start_time": "2022-04-02T06:05:33.120Z"
   },
   {
    "duration": 52,
    "start_time": "2022-04-02T06:05:33.286Z"
   },
   {
    "duration": 2428,
    "start_time": "2022-04-02T06:05:33.340Z"
   },
   {
    "duration": 0,
    "start_time": "2022-04-02T06:05:35.769Z"
   },
   {
    "duration": 0,
    "start_time": "2022-04-02T06:05:35.771Z"
   },
   {
    "duration": 0,
    "start_time": "2022-04-02T06:05:35.772Z"
   },
   {
    "duration": 0,
    "start_time": "2022-04-02T06:05:35.774Z"
   },
   {
    "duration": 124,
    "start_time": "2022-04-02T06:05:57.425Z"
   },
   {
    "duration": 23,
    "start_time": "2022-04-02T06:09:31.204Z"
   },
   {
    "duration": 121,
    "start_time": "2022-04-02T06:10:26.864Z"
   },
   {
    "duration": 137,
    "start_time": "2022-04-02T06:11:14.491Z"
   },
   {
    "duration": 137,
    "start_time": "2022-04-02T06:13:08.347Z"
   },
   {
    "duration": 6,
    "start_time": "2022-04-02T06:18:54.161Z"
   },
   {
    "duration": 12,
    "start_time": "2022-04-02T06:18:57.329Z"
   },
   {
    "duration": 11,
    "start_time": "2022-04-02T06:19:12.355Z"
   },
   {
    "duration": 11,
    "start_time": "2022-04-02T06:19:26.563Z"
   },
   {
    "duration": 12,
    "start_time": "2022-04-02T06:21:07.900Z"
   },
   {
    "duration": 11,
    "start_time": "2022-04-02T06:21:18.668Z"
   },
   {
    "duration": 11,
    "start_time": "2022-04-02T06:21:35.185Z"
   },
   {
    "duration": 11,
    "start_time": "2022-04-02T06:26:55.100Z"
   },
   {
    "duration": 11,
    "start_time": "2022-04-02T06:27:27.083Z"
   },
   {
    "duration": 12,
    "start_time": "2022-04-02T06:40:11.214Z"
   },
   {
    "duration": 11,
    "start_time": "2022-04-02T06:40:17.663Z"
   },
   {
    "duration": 6,
    "start_time": "2022-04-02T06:41:19.649Z"
   },
   {
    "duration": 5,
    "start_time": "2022-04-02T06:41:31.185Z"
   },
   {
    "duration": 11,
    "start_time": "2022-04-02T06:41:35.103Z"
   },
   {
    "duration": 13,
    "start_time": "2022-04-02T06:41:42.485Z"
   },
   {
    "duration": 11,
    "start_time": "2022-04-02T06:41:49.772Z"
   },
   {
    "duration": 12,
    "start_time": "2022-04-02T06:42:00.281Z"
   },
   {
    "duration": 1233,
    "start_time": "2022-04-02T07:05:39.300Z"
   },
   {
    "duration": 3,
    "start_time": "2022-04-02T07:05:40.535Z"
   },
   {
    "duration": 303,
    "start_time": "2022-04-02T07:05:40.540Z"
   },
   {
    "duration": 158,
    "start_time": "2022-04-02T07:05:40.846Z"
   },
   {
    "duration": 32,
    "start_time": "2022-04-02T07:05:41.006Z"
   },
   {
    "duration": 10,
    "start_time": "2022-04-02T07:05:41.040Z"
   },
   {
    "duration": 97,
    "start_time": "2022-04-02T07:05:41.052Z"
   },
   {
    "duration": 11,
    "start_time": "2022-04-02T07:05:41.151Z"
   },
   {
    "duration": 135,
    "start_time": "2022-04-02T07:05:41.163Z"
   },
   {
    "duration": 89,
    "start_time": "2022-04-02T07:05:41.301Z"
   },
   {
    "duration": 123,
    "start_time": "2022-04-02T07:05:41.392Z"
   },
   {
    "duration": 26,
    "start_time": "2022-04-02T07:05:41.517Z"
   },
   {
    "duration": 36,
    "start_time": "2022-04-02T07:05:41.545Z"
   },
   {
    "duration": 8,
    "start_time": "2022-04-02T07:05:41.583Z"
   },
   {
    "duration": 317,
    "start_time": "2022-04-02T07:05:41.593Z"
   },
   {
    "duration": 23,
    "start_time": "2022-04-02T07:05:41.911Z"
   },
   {
    "duration": 8,
    "start_time": "2022-04-02T07:05:41.935Z"
   },
   {
    "duration": 22,
    "start_time": "2022-04-02T07:05:41.944Z"
   },
   {
    "duration": 133,
    "start_time": "2022-04-02T07:05:41.968Z"
   },
   {
    "duration": 135,
    "start_time": "2022-04-02T07:05:42.103Z"
   },
   {
    "duration": 171,
    "start_time": "2022-04-02T07:05:42.240Z"
   },
   {
    "duration": 52,
    "start_time": "2022-04-02T07:05:42.412Z"
   },
   {
    "duration": 151,
    "start_time": "2022-04-02T07:05:42.465Z"
   },
   {
    "duration": 6,
    "start_time": "2022-04-02T07:05:42.618Z"
   },
   {
    "duration": 12,
    "start_time": "2022-04-02T07:05:42.632Z"
   },
   {
    "duration": 12,
    "start_time": "2022-04-02T07:05:42.646Z"
   },
   {
    "duration": 14,
    "start_time": "2022-04-02T07:05:42.660Z"
   },
   {
    "duration": 12,
    "start_time": "2022-04-02T07:05:42.677Z"
   },
   {
    "duration": 1326,
    "start_time": "2022-04-02T13:56:00.748Z"
   },
   {
    "duration": 3,
    "start_time": "2022-04-02T13:56:02.076Z"
   },
   {
    "duration": 300,
    "start_time": "2022-04-02T13:56:02.081Z"
   },
   {
    "duration": 152,
    "start_time": "2022-04-02T13:56:02.383Z"
   },
   {
    "duration": 22,
    "start_time": "2022-04-02T13:56:02.537Z"
   },
   {
    "duration": 13,
    "start_time": "2022-04-02T13:56:02.560Z"
   },
   {
    "duration": 92,
    "start_time": "2022-04-02T13:56:02.575Z"
   },
   {
    "duration": 11,
    "start_time": "2022-04-02T13:56:02.669Z"
   },
   {
    "duration": 152,
    "start_time": "2022-04-02T13:56:02.682Z"
   },
   {
    "duration": 90,
    "start_time": "2022-04-02T13:56:02.837Z"
   },
   {
    "duration": 126,
    "start_time": "2022-04-02T13:56:02.929Z"
   },
   {
    "duration": 21,
    "start_time": "2022-04-02T13:56:03.057Z"
   },
   {
    "duration": 54,
    "start_time": "2022-04-02T13:56:03.080Z"
   },
   {
    "duration": 9,
    "start_time": "2022-04-02T13:56:03.136Z"
   },
   {
    "duration": 300,
    "start_time": "2022-04-02T13:56:03.147Z"
   },
   {
    "duration": 17,
    "start_time": "2022-04-02T13:56:03.449Z"
   },
   {
    "duration": 33,
    "start_time": "2022-04-02T13:56:03.468Z"
   },
   {
    "duration": 24,
    "start_time": "2022-04-02T13:56:03.503Z"
   },
   {
    "duration": 126,
    "start_time": "2022-04-02T13:56:03.529Z"
   },
   {
    "duration": 135,
    "start_time": "2022-04-02T13:56:03.656Z"
   },
   {
    "duration": 158,
    "start_time": "2022-04-02T13:56:03.793Z"
   },
   {
    "duration": 53,
    "start_time": "2022-04-02T13:56:03.953Z"
   },
   {
    "duration": 150,
    "start_time": "2022-04-02T13:56:04.008Z"
   },
   {
    "duration": 6,
    "start_time": "2022-04-02T13:56:04.160Z"
   },
   {
    "duration": 26,
    "start_time": "2022-04-02T13:56:04.167Z"
   },
   {
    "duration": 18,
    "start_time": "2022-04-02T13:56:04.195Z"
   },
   {
    "duration": 13,
    "start_time": "2022-04-02T13:56:04.215Z"
   },
   {
    "duration": 25,
    "start_time": "2022-04-02T13:56:04.232Z"
   },
   {
    "duration": 29,
    "start_time": "2022-04-02T14:02:55.608Z"
   },
   {
    "duration": 21,
    "start_time": "2022-04-02T14:03:02.901Z"
   },
   {
    "duration": 19,
    "start_time": "2022-04-02T14:04:19.036Z"
   },
   {
    "duration": 3,
    "start_time": "2022-04-02T14:04:33.488Z"
   },
   {
    "duration": 4,
    "start_time": "2022-04-02T14:04:36.122Z"
   },
   {
    "duration": 168,
    "start_time": "2022-04-02T14:45:12.236Z"
   },
   {
    "duration": 1245,
    "start_time": "2022-04-02T14:47:04.467Z"
   },
   {
    "duration": 3,
    "start_time": "2022-04-02T14:47:05.714Z"
   },
   {
    "duration": 270,
    "start_time": "2022-04-02T14:47:05.718Z"
   },
   {
    "duration": 147,
    "start_time": "2022-04-02T14:47:05.990Z"
   },
   {
    "duration": 18,
    "start_time": "2022-04-02T14:47:06.138Z"
   },
   {
    "duration": 7,
    "start_time": "2022-04-02T14:47:06.158Z"
   },
   {
    "duration": 67,
    "start_time": "2022-04-02T14:47:06.181Z"
   },
   {
    "duration": 9,
    "start_time": "2022-04-02T14:47:06.249Z"
   },
   {
    "duration": 128,
    "start_time": "2022-04-02T14:47:06.259Z"
   },
   {
    "duration": 67,
    "start_time": "2022-04-02T14:47:06.390Z"
   },
   {
    "duration": 108,
    "start_time": "2022-04-02T14:47:06.459Z"
   },
   {
    "duration": 26,
    "start_time": "2022-04-02T14:47:06.568Z"
   },
   {
    "duration": 30,
    "start_time": "2022-04-02T14:47:06.595Z"
   },
   {
    "duration": 7,
    "start_time": "2022-04-02T14:47:06.626Z"
   },
   {
    "duration": 258,
    "start_time": "2022-04-02T14:47:06.635Z"
   },
   {
    "duration": 14,
    "start_time": "2022-04-02T14:47:06.895Z"
   },
   {
    "duration": 7,
    "start_time": "2022-04-02T14:47:06.910Z"
   },
   {
    "duration": 23,
    "start_time": "2022-04-02T14:47:06.919Z"
   },
   {
    "duration": 167,
    "start_time": "2022-04-02T14:47:06.943Z"
   },
   {
    "duration": 115,
    "start_time": "2022-04-02T14:47:07.111Z"
   },
   {
    "duration": 133,
    "start_time": "2022-04-02T14:47:07.228Z"
   },
   {
    "duration": 48,
    "start_time": "2022-04-02T14:47:07.363Z"
   },
   {
    "duration": 142,
    "start_time": "2022-04-02T14:47:07.413Z"
   },
   {
    "duration": 1053,
    "start_time": "2022-04-02T14:47:07.557Z"
   },
   {
    "duration": 0,
    "start_time": "2022-04-02T14:47:08.612Z"
   },
   {
    "duration": 0,
    "start_time": "2022-04-02T14:47:08.613Z"
   },
   {
    "duration": 0,
    "start_time": "2022-04-02T14:47:08.614Z"
   },
   {
    "duration": 0,
    "start_time": "2022-04-02T14:47:08.615Z"
   },
   {
    "duration": 0,
    "start_time": "2022-04-02T14:47:08.616Z"
   },
   {
    "duration": 0,
    "start_time": "2022-04-02T14:47:08.617Z"
   },
   {
    "duration": 152,
    "start_time": "2022-04-02T14:47:37.150Z"
   },
   {
    "duration": 20,
    "start_time": "2022-04-02T14:48:11.122Z"
   },
   {
    "duration": 5,
    "start_time": "2022-04-02T14:48:11.159Z"
   },
   {
    "duration": 11,
    "start_time": "2022-04-02T14:48:11.168Z"
   },
   {
    "duration": 11,
    "start_time": "2022-04-02T14:48:11.184Z"
   },
   {
    "duration": 10,
    "start_time": "2022-04-02T14:48:11.197Z"
   },
   {
    "duration": 11,
    "start_time": "2022-04-02T14:48:11.209Z"
   }
  ],
  "kernelspec": {
   "display_name": "Python 3 (ipykernel)",
   "language": "python",
   "name": "python3"
  },
  "language_info": {
   "codemirror_mode": {
    "name": "ipython",
    "version": 3
   },
   "file_extension": ".py",
   "mimetype": "text/x-python",
   "name": "python",
   "nbconvert_exporter": "python",
   "pygments_lexer": "ipython3",
   "version": "3.9.7"
  },
  "toc": {
   "base_numbering": 1,
   "nav_menu": {},
   "number_sections": true,
   "sideBar": true,
   "skip_h1_title": true,
   "title_cell": "Table of Contents",
   "title_sidebar": "Contents",
   "toc_cell": false,
   "toc_position": {
    "height": "calc(100% - 180px)",
    "left": "10px",
    "top": "150px",
    "width": "273.391px"
   },
   "toc_section_display": true,
   "toc_window_display": true
  }
 },
 "nbformat": 4,
 "nbformat_minor": 2
}
