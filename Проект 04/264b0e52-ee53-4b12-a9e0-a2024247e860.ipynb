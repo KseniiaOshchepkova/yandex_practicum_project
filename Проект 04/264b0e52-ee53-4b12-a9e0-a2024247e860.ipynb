{
 "cells": [
  {
   "cell_type": "markdown",
   "metadata": {},
   "source": [
    "# Определение перспективного тарифа для телеком-компании"
   ]
  },
  {
   "cell_type": "markdown",
   "metadata": {},
   "source": [
    "## Введение"
   ]
  },
  {
   "cell_type": "markdown",
   "metadata": {},
   "source": [
    "Заказчик - федеральный оператор сотовой связи «Мегалайн».   \n",
    "\n",
    "Клиентам предлагают два тарифных плана: «Смарт» и «Ультра». Чтобы скорректировать рекламный бюджет, коммерческий департамент хочет понять, какой тариф приносит больше денег.  \n",
    "\n",
    "Цель - исследовать полученные данные и проверить две гипотезы:  \n",
    "   - средние выручки c пользователей тарифов «Ультра» и «Смарт» различаются;\n",
    "   - средняя выручка с пользователей из Москвы отличается от выручки пользователей из других регионов.\n",
    "\n",
    "В нашем распоряжении данные 500 пользователей «Мегалайна»: кто они, откуда, каким тарифом пользуются, сколько звонков и сообщений каждый отправил за 2018 год.  \n",
    "\n",
    "Исследование проводится в пять этапов:\n",
    "\n",
    "1. Обзор данных\n",
    "2. Предобработка данных\n",
    "3. Подготовка данных\n",
    "4. Исследовательский анализ данных\n",
    "5. Проверки гипотез"
   ]
  },
  {
   "cell_type": "markdown",
   "metadata": {},
   "source": [
    "## Обзор данных  \n",
    "\n",
    "Ознакомимся с входными данными."
   ]
  },
  {
   "cell_type": "code",
   "execution_count": 1,
   "metadata": {},
   "outputs": [],
   "source": [
    "#импортируем библиотеки\n",
    "\n",
    "import pandas as pd\n",
    "\n",
    "import numpy as np\n",
    "\n",
    "import matplotlib.pyplot as plt   \n",
    "\n",
    "from scipy import stats as st"
   ]
  },
  {
   "cell_type": "code",
   "execution_count": 2,
   "metadata": {},
   "outputs": [],
   "source": [
    "import warnings\n",
    "\n",
    "warnings.filterwarnings('ignore') #игнорируем предупреждения"
   ]
  },
  {
   "cell_type": "markdown",
   "metadata": {},
   "source": [
    "Прочитаем файлы с данными, в столбцах с датами изменим тип данных на datetime64[ns]."
   ]
  },
  {
   "cell_type": "code",
   "execution_count": 3,
   "metadata": {},
   "outputs": [
    {
     "data": {
      "text/html": [
       "<div>\n",
       "<style scoped>\n",
       "    .dataframe tbody tr th:only-of-type {\n",
       "        vertical-align: middle;\n",
       "    }\n",
       "\n",
       "    .dataframe tbody tr th {\n",
       "        vertical-align: top;\n",
       "    }\n",
       "\n",
       "    .dataframe thead th {\n",
       "        text-align: right;\n",
       "    }\n",
       "</style>\n",
       "<table border=\"1\" class=\"dataframe\">\n",
       "  <thead>\n",
       "    <tr style=\"text-align: right;\">\n",
       "      <th></th>\n",
       "      <th>user_id</th>\n",
       "      <th>age</th>\n",
       "      <th>churn_date</th>\n",
       "      <th>city</th>\n",
       "      <th>first_name</th>\n",
       "      <th>last_name</th>\n",
       "      <th>reg_date</th>\n",
       "      <th>tariff</th>\n",
       "    </tr>\n",
       "  </thead>\n",
       "  <tbody>\n",
       "    <tr>\n",
       "      <td>0</td>\n",
       "      <td>1000</td>\n",
       "      <td>52</td>\n",
       "      <td>NaT</td>\n",
       "      <td>Краснодар</td>\n",
       "      <td>Рафаил</td>\n",
       "      <td>Верещагин</td>\n",
       "      <td>2018-05-25</td>\n",
       "      <td>ultra</td>\n",
       "    </tr>\n",
       "    <tr>\n",
       "      <td>1</td>\n",
       "      <td>1001</td>\n",
       "      <td>41</td>\n",
       "      <td>NaT</td>\n",
       "      <td>Москва</td>\n",
       "      <td>Иван</td>\n",
       "      <td>Ежов</td>\n",
       "      <td>2018-11-01</td>\n",
       "      <td>smart</td>\n",
       "    </tr>\n",
       "    <tr>\n",
       "      <td>2</td>\n",
       "      <td>1002</td>\n",
       "      <td>59</td>\n",
       "      <td>NaT</td>\n",
       "      <td>Стерлитамак</td>\n",
       "      <td>Евгений</td>\n",
       "      <td>Абрамович</td>\n",
       "      <td>2018-06-17</td>\n",
       "      <td>smart</td>\n",
       "    </tr>\n",
       "    <tr>\n",
       "      <td>3</td>\n",
       "      <td>1003</td>\n",
       "      <td>23</td>\n",
       "      <td>NaT</td>\n",
       "      <td>Москва</td>\n",
       "      <td>Белла</td>\n",
       "      <td>Белякова</td>\n",
       "      <td>2018-08-17</td>\n",
       "      <td>ultra</td>\n",
       "    </tr>\n",
       "    <tr>\n",
       "      <td>4</td>\n",
       "      <td>1004</td>\n",
       "      <td>68</td>\n",
       "      <td>NaT</td>\n",
       "      <td>Новокузнецк</td>\n",
       "      <td>Татьяна</td>\n",
       "      <td>Авдеенко</td>\n",
       "      <td>2018-05-14</td>\n",
       "      <td>ultra</td>\n",
       "    </tr>\n",
       "  </tbody>\n",
       "</table>\n",
       "</div>"
      ],
      "text/plain": [
       "   user_id  age churn_date         city first_name  last_name   reg_date  \\\n",
       "0     1000   52        NaT    Краснодар     Рафаил  Верещагин 2018-05-25   \n",
       "1     1001   41        NaT       Москва       Иван       Ежов 2018-11-01   \n",
       "2     1002   59        NaT  Стерлитамак    Евгений  Абрамович 2018-06-17   \n",
       "3     1003   23        NaT       Москва      Белла   Белякова 2018-08-17   \n",
       "4     1004   68        NaT  Новокузнецк    Татьяна   Авдеенко 2018-05-14   \n",
       "\n",
       "  tariff  \n",
       "0  ultra  \n",
       "1  smart  \n",
       "2  smart  \n",
       "3  ultra  \n",
       "4  ultra  "
      ]
     },
     "metadata": {},
     "output_type": "display_data"
    },
    {
     "name": "stdout",
     "output_type": "stream",
     "text": [
      "<class 'pandas.core.frame.DataFrame'>\n",
      "RangeIndex: 500 entries, 0 to 499\n",
      "Data columns (total 8 columns):\n",
      "user_id       500 non-null int64\n",
      "age           500 non-null int64\n",
      "churn_date    38 non-null datetime64[ns]\n",
      "city          500 non-null object\n",
      "first_name    500 non-null object\n",
      "last_name     500 non-null object\n",
      "reg_date      500 non-null datetime64[ns]\n",
      "tariff        500 non-null object\n",
      "dtypes: datetime64[ns](2), int64(2), object(4)\n",
      "memory usage: 31.4+ KB\n"
     ]
    },
    {
     "data": {
      "text/plain": [
       "None"
      ]
     },
     "metadata": {},
     "output_type": "display_data"
    }
   ],
   "source": [
    "users = pd.read_csv('/datasets/users.csv', parse_dates=['reg_date', 'churn_date'])\n",
    "#прочитаем файл с данными и сохраним его в переменной users\n",
    "#одновременно изменим тип данных в столбцах churn_date и reg_date на дату\n",
    "\n",
    "display(users.head()) #выведем на экран первые 5 строк таблицы\n",
    "display(users.info()) #получим общую информацию о таблице"
   ]
  },
  {
   "cell_type": "code",
   "execution_count": 4,
   "metadata": {},
   "outputs": [
    {
     "data": {
      "text/html": [
       "<div>\n",
       "<style scoped>\n",
       "    .dataframe tbody tr th:only-of-type {\n",
       "        vertical-align: middle;\n",
       "    }\n",
       "\n",
       "    .dataframe tbody tr th {\n",
       "        vertical-align: top;\n",
       "    }\n",
       "\n",
       "    .dataframe thead th {\n",
       "        text-align: right;\n",
       "    }\n",
       "</style>\n",
       "<table border=\"1\" class=\"dataframe\">\n",
       "  <thead>\n",
       "    <tr style=\"text-align: right;\">\n",
       "      <th></th>\n",
       "      <th>id</th>\n",
       "      <th>call_date</th>\n",
       "      <th>duration</th>\n",
       "      <th>user_id</th>\n",
       "    </tr>\n",
       "  </thead>\n",
       "  <tbody>\n",
       "    <tr>\n",
       "      <td>0</td>\n",
       "      <td>1000_0</td>\n",
       "      <td>2018-07-25</td>\n",
       "      <td>0.00</td>\n",
       "      <td>1000</td>\n",
       "    </tr>\n",
       "    <tr>\n",
       "      <td>1</td>\n",
       "      <td>1000_1</td>\n",
       "      <td>2018-08-17</td>\n",
       "      <td>0.00</td>\n",
       "      <td>1000</td>\n",
       "    </tr>\n",
       "    <tr>\n",
       "      <td>2</td>\n",
       "      <td>1000_2</td>\n",
       "      <td>2018-06-11</td>\n",
       "      <td>2.85</td>\n",
       "      <td>1000</td>\n",
       "    </tr>\n",
       "    <tr>\n",
       "      <td>3</td>\n",
       "      <td>1000_3</td>\n",
       "      <td>2018-09-21</td>\n",
       "      <td>13.80</td>\n",
       "      <td>1000</td>\n",
       "    </tr>\n",
       "    <tr>\n",
       "      <td>4</td>\n",
       "      <td>1000_4</td>\n",
       "      <td>2018-12-15</td>\n",
       "      <td>5.18</td>\n",
       "      <td>1000</td>\n",
       "    </tr>\n",
       "  </tbody>\n",
       "</table>\n",
       "</div>"
      ],
      "text/plain": [
       "       id  call_date  duration  user_id\n",
       "0  1000_0 2018-07-25      0.00     1000\n",
       "1  1000_1 2018-08-17      0.00     1000\n",
       "2  1000_2 2018-06-11      2.85     1000\n",
       "3  1000_3 2018-09-21     13.80     1000\n",
       "4  1000_4 2018-12-15      5.18     1000"
      ]
     },
     "metadata": {},
     "output_type": "display_data"
    },
    {
     "name": "stdout",
     "output_type": "stream",
     "text": [
      "<class 'pandas.core.frame.DataFrame'>\n",
      "RangeIndex: 202607 entries, 0 to 202606\n",
      "Data columns (total 4 columns):\n",
      "id           202607 non-null object\n",
      "call_date    202607 non-null datetime64[ns]\n",
      "duration     202607 non-null float64\n",
      "user_id      202607 non-null int64\n",
      "dtypes: datetime64[ns](1), float64(1), int64(1), object(1)\n",
      "memory usage: 6.2+ MB\n"
     ]
    },
    {
     "data": {
      "text/plain": [
       "None"
      ]
     },
     "metadata": {},
     "output_type": "display_data"
    }
   ],
   "source": [
    "calls = pd.read_csv('/datasets/calls.csv', parse_dates=['call_date'])\n",
    "#прочитаем файл с данными и сохраним его в переменной calls\n",
    "#одновременно изменим тип данных в столбце call_date на дату\n",
    "\n",
    "display(calls.head()) #выведем на экран первые 5 строк таблицы\n",
    "display(calls.info()) #получим общую информацию о таблице"
   ]
  },
  {
   "cell_type": "code",
   "execution_count": 5,
   "metadata": {},
   "outputs": [
    {
     "data": {
      "text/html": [
       "<div>\n",
       "<style scoped>\n",
       "    .dataframe tbody tr th:only-of-type {\n",
       "        vertical-align: middle;\n",
       "    }\n",
       "\n",
       "    .dataframe tbody tr th {\n",
       "        vertical-align: top;\n",
       "    }\n",
       "\n",
       "    .dataframe thead th {\n",
       "        text-align: right;\n",
       "    }\n",
       "</style>\n",
       "<table border=\"1\" class=\"dataframe\">\n",
       "  <thead>\n",
       "    <tr style=\"text-align: right;\">\n",
       "      <th></th>\n",
       "      <th>id</th>\n",
       "      <th>message_date</th>\n",
       "      <th>user_id</th>\n",
       "    </tr>\n",
       "  </thead>\n",
       "  <tbody>\n",
       "    <tr>\n",
       "      <td>0</td>\n",
       "      <td>1000_0</td>\n",
       "      <td>2018-06-27</td>\n",
       "      <td>1000</td>\n",
       "    </tr>\n",
       "    <tr>\n",
       "      <td>1</td>\n",
       "      <td>1000_1</td>\n",
       "      <td>2018-10-08</td>\n",
       "      <td>1000</td>\n",
       "    </tr>\n",
       "    <tr>\n",
       "      <td>2</td>\n",
       "      <td>1000_2</td>\n",
       "      <td>2018-08-04</td>\n",
       "      <td>1000</td>\n",
       "    </tr>\n",
       "    <tr>\n",
       "      <td>3</td>\n",
       "      <td>1000_3</td>\n",
       "      <td>2018-06-16</td>\n",
       "      <td>1000</td>\n",
       "    </tr>\n",
       "    <tr>\n",
       "      <td>4</td>\n",
       "      <td>1000_4</td>\n",
       "      <td>2018-12-05</td>\n",
       "      <td>1000</td>\n",
       "    </tr>\n",
       "  </tbody>\n",
       "</table>\n",
       "</div>"
      ],
      "text/plain": [
       "       id message_date  user_id\n",
       "0  1000_0   2018-06-27     1000\n",
       "1  1000_1   2018-10-08     1000\n",
       "2  1000_2   2018-08-04     1000\n",
       "3  1000_3   2018-06-16     1000\n",
       "4  1000_4   2018-12-05     1000"
      ]
     },
     "metadata": {},
     "output_type": "display_data"
    },
    {
     "name": "stdout",
     "output_type": "stream",
     "text": [
      "<class 'pandas.core.frame.DataFrame'>\n",
      "RangeIndex: 123036 entries, 0 to 123035\n",
      "Data columns (total 3 columns):\n",
      "id              123036 non-null object\n",
      "message_date    123036 non-null datetime64[ns]\n",
      "user_id         123036 non-null int64\n",
      "dtypes: datetime64[ns](1), int64(1), object(1)\n",
      "memory usage: 2.8+ MB\n"
     ]
    },
    {
     "data": {
      "text/plain": [
       "None"
      ]
     },
     "metadata": {},
     "output_type": "display_data"
    }
   ],
   "source": [
    "messages = pd.read_csv('/datasets/messages.csv', parse_dates=['message_date'])\n",
    "#прочитаем файл с данными и сохраним его в переменной messades\n",
    "#одновременно изменим тип данных в столбце message_date на дату\n",
    "\n",
    "display(messages.head()) #выведем на экран первые 5 строк таблицы\n",
    "display(messages.info()) #получим общую информацию о таблице"
   ]
  },
  {
   "cell_type": "code",
   "execution_count": 6,
   "metadata": {},
   "outputs": [
    {
     "data": {
      "text/html": [
       "<div>\n",
       "<style scoped>\n",
       "    .dataframe tbody tr th:only-of-type {\n",
       "        vertical-align: middle;\n",
       "    }\n",
       "\n",
       "    .dataframe tbody tr th {\n",
       "        vertical-align: top;\n",
       "    }\n",
       "\n",
       "    .dataframe thead th {\n",
       "        text-align: right;\n",
       "    }\n",
       "</style>\n",
       "<table border=\"1\" class=\"dataframe\">\n",
       "  <thead>\n",
       "    <tr style=\"text-align: right;\">\n",
       "      <th></th>\n",
       "      <th>Unnamed: 0</th>\n",
       "      <th>id</th>\n",
       "      <th>mb_used</th>\n",
       "      <th>session_date</th>\n",
       "      <th>user_id</th>\n",
       "    </tr>\n",
       "  </thead>\n",
       "  <tbody>\n",
       "    <tr>\n",
       "      <td>0</td>\n",
       "      <td>0</td>\n",
       "      <td>1000_0</td>\n",
       "      <td>112.95</td>\n",
       "      <td>2018-11-25</td>\n",
       "      <td>1000</td>\n",
       "    </tr>\n",
       "    <tr>\n",
       "      <td>1</td>\n",
       "      <td>1</td>\n",
       "      <td>1000_1</td>\n",
       "      <td>1052.81</td>\n",
       "      <td>2018-09-07</td>\n",
       "      <td>1000</td>\n",
       "    </tr>\n",
       "    <tr>\n",
       "      <td>2</td>\n",
       "      <td>2</td>\n",
       "      <td>1000_2</td>\n",
       "      <td>1197.26</td>\n",
       "      <td>2018-06-25</td>\n",
       "      <td>1000</td>\n",
       "    </tr>\n",
       "    <tr>\n",
       "      <td>3</td>\n",
       "      <td>3</td>\n",
       "      <td>1000_3</td>\n",
       "      <td>550.27</td>\n",
       "      <td>2018-08-22</td>\n",
       "      <td>1000</td>\n",
       "    </tr>\n",
       "    <tr>\n",
       "      <td>4</td>\n",
       "      <td>4</td>\n",
       "      <td>1000_4</td>\n",
       "      <td>302.56</td>\n",
       "      <td>2018-09-24</td>\n",
       "      <td>1000</td>\n",
       "    </tr>\n",
       "  </tbody>\n",
       "</table>\n",
       "</div>"
      ],
      "text/plain": [
       "   Unnamed: 0      id  mb_used session_date  user_id\n",
       "0           0  1000_0   112.95   2018-11-25     1000\n",
       "1           1  1000_1  1052.81   2018-09-07     1000\n",
       "2           2  1000_2  1197.26   2018-06-25     1000\n",
       "3           3  1000_3   550.27   2018-08-22     1000\n",
       "4           4  1000_4   302.56   2018-09-24     1000"
      ]
     },
     "metadata": {},
     "output_type": "display_data"
    },
    {
     "name": "stdout",
     "output_type": "stream",
     "text": [
      "<class 'pandas.core.frame.DataFrame'>\n",
      "RangeIndex: 149396 entries, 0 to 149395\n",
      "Data columns (total 5 columns):\n",
      "Unnamed: 0      149396 non-null int64\n",
      "id              149396 non-null object\n",
      "mb_used         149396 non-null float64\n",
      "session_date    149396 non-null datetime64[ns]\n",
      "user_id         149396 non-null int64\n",
      "dtypes: datetime64[ns](1), float64(1), int64(2), object(1)\n",
      "memory usage: 5.7+ MB\n"
     ]
    },
    {
     "data": {
      "text/plain": [
       "None"
      ]
     },
     "metadata": {},
     "output_type": "display_data"
    }
   ],
   "source": [
    "internet = pd.read_csv('/datasets/internet.csv', parse_dates=['session_date'])\n",
    "#прочитаем файл с данными и сохраним его в переменной internet\n",
    "#одновременно изменим тип данных в столбце session_date на дату\n",
    "\n",
    "display(internet.head()) #выведем на экран первые 5 строк таблицы\n",
    "display(internet.info()) #получим общую информацию о таблице"
   ]
  },
  {
   "cell_type": "code",
   "execution_count": 7,
   "metadata": {},
   "outputs": [
    {
     "data": {
      "text/html": [
       "<div>\n",
       "<style scoped>\n",
       "    .dataframe tbody tr th:only-of-type {\n",
       "        vertical-align: middle;\n",
       "    }\n",
       "\n",
       "    .dataframe tbody tr th {\n",
       "        vertical-align: top;\n",
       "    }\n",
       "\n",
       "    .dataframe thead th {\n",
       "        text-align: right;\n",
       "    }\n",
       "</style>\n",
       "<table border=\"1\" class=\"dataframe\">\n",
       "  <thead>\n",
       "    <tr style=\"text-align: right;\">\n",
       "      <th></th>\n",
       "      <th>messages_included</th>\n",
       "      <th>mb_per_month_included</th>\n",
       "      <th>minutes_included</th>\n",
       "      <th>rub_monthly_fee</th>\n",
       "      <th>rub_per_gb</th>\n",
       "      <th>rub_per_message</th>\n",
       "      <th>rub_per_minute</th>\n",
       "      <th>tariff_name</th>\n",
       "    </tr>\n",
       "  </thead>\n",
       "  <tbody>\n",
       "    <tr>\n",
       "      <td>0</td>\n",
       "      <td>50</td>\n",
       "      <td>15360</td>\n",
       "      <td>500</td>\n",
       "      <td>550</td>\n",
       "      <td>200</td>\n",
       "      <td>3</td>\n",
       "      <td>3</td>\n",
       "      <td>smart</td>\n",
       "    </tr>\n",
       "    <tr>\n",
       "      <td>1</td>\n",
       "      <td>1000</td>\n",
       "      <td>30720</td>\n",
       "      <td>3000</td>\n",
       "      <td>1950</td>\n",
       "      <td>150</td>\n",
       "      <td>1</td>\n",
       "      <td>1</td>\n",
       "      <td>ultra</td>\n",
       "    </tr>\n",
       "  </tbody>\n",
       "</table>\n",
       "</div>"
      ],
      "text/plain": [
       "   messages_included  mb_per_month_included  minutes_included  \\\n",
       "0                 50                  15360               500   \n",
       "1               1000                  30720              3000   \n",
       "\n",
       "   rub_monthly_fee  rub_per_gb  rub_per_message  rub_per_minute tariff_name  \n",
       "0              550         200                3               3       smart  \n",
       "1             1950         150                1               1       ultra  "
      ]
     },
     "metadata": {},
     "output_type": "display_data"
    },
    {
     "name": "stdout",
     "output_type": "stream",
     "text": [
      "<class 'pandas.core.frame.DataFrame'>\n",
      "RangeIndex: 2 entries, 0 to 1\n",
      "Data columns (total 8 columns):\n",
      "messages_included        2 non-null int64\n",
      "mb_per_month_included    2 non-null int64\n",
      "minutes_included         2 non-null int64\n",
      "rub_monthly_fee          2 non-null int64\n",
      "rub_per_gb               2 non-null int64\n",
      "rub_per_message          2 non-null int64\n",
      "rub_per_minute           2 non-null int64\n",
      "tariff_name              2 non-null object\n",
      "dtypes: int64(7), object(1)\n",
      "memory usage: 256.0+ bytes\n"
     ]
    },
    {
     "data": {
      "text/plain": [
       "None"
      ]
     },
     "metadata": {},
     "output_type": "display_data"
    }
   ],
   "source": [
    "tariffs = pd.read_csv('/datasets/tariffs.csv')\n",
    "#прочитаем файл с данными и сохраним его в переменной tariffs\n",
    "\n",
    "display(tariffs.head()) #выведем на экран первые 5 строк таблицы\n",
    "display(tariffs.info()) #получим общую информацию о таблице"
   ]
  },
  {
   "cell_type": "markdown",
   "metadata": {},
   "source": [
    "Согласно документации к данным:"
   ]
  },
  {
   "cell_type": "markdown",
   "metadata": {},
   "source": [
    "**Таблица users (информация о пользователях):**  \n",
    "user_id — уникальный идентификатор пользователя  \n",
    "first_name — имя пользователя  \n",
    "last_name — фамилия пользователя  \n",
    "age — возраст пользователя (годы)  \n",
    "reg_date — дата подключения тарифа (день, месяц, год)  \n",
    "churn_date — дата прекращения пользования тарифом (если значение пропущено, то тариф ещё действовал на момент выгрузки данных)  \n",
    "city — город проживания пользователя  \n",
    "tariff — название тарифного плана  \n",
    "\n",
    "**Таблица calls (информация о звонках):**  \n",
    "\n",
    "id — уникальный номер звонка  \n",
    "call_date — дата звонка  \n",
    "duration — длительность звонка в минутах  \n",
    "user_id — идентификатор пользователя, сделавшего звонок  \n",
    "\n",
    "**Таблица messages (информация о сообщениях):**  \n",
    "\n",
    "id — уникальный номер сообщения  \n",
    "message_date — дата сообщения  \n",
    "user_id — идентификатор пользователя, отправившего сообщение  \n",
    "\n",
    "**Таблица internet (информация об интернет-сессиях):**  \n",
    "\n",
    "id — уникальный номер сессии  \n",
    "mb_used — объём потраченного за сессию интернет-трафика (в мегабайтах)  \n",
    "session_date — дата интернет-сессии  \n",
    "user_id — идентификатор пользователя  \n",
    "\n",
    "**Таблица tariffs (информация о тарифах):**  \n",
    "\n",
    "tariff_name — название тарифа  \n",
    "rub_monthly_fee — ежемесячная абонентская плата в рублях  \n",
    "minutes_included — количество минут разговора в месяц, включённых в абонентскую плату  \n",
    "messages_included — количество сообщений в месяц, включённых в абонентскую плату  \n",
    "mb_per_month_included — объём интернет-трафика, включённого в абонентскую плату (в мегабайтах)  \n",
    "rub_per_minute — стоимость минуты разговора сверх тарифного пакета (например, если в тарифе 100 минут разговора в месяц, то со 101 минуты будет взиматься плата)  \n",
    "rub_per_message — стоимость отправки сообщения сверх тарифного пакета  \n",
    "rub_per_gb — стоимость дополнительного гигабайта интернет-трафика сверх тарифного пакета (1 гигабайт = 1024 мегабайта)  "
   ]
  },
  {
   "cell_type": "markdown",
   "metadata": {},
   "source": [
    "**Описание тарифов**  \n",
    "\n",
    "*Тариф «Смарт»*  \n",
    "Ежемесячная плата: 550 рублей\n",
    "Включено 500 минут разговора, 50 сообщений и 15 Гб интернет-трафика\n",
    "Стоимость услуг сверх тарифного пакета: 1. минута разговора: 3 рубля ; 2. сообщение: 3 рубля; 3. 1 Гб интернет-трафика: 200 рублей.  \n",
    "\n",
    "*Тариф «Ультра»*  \n",
    "Ежемесячная плата: 1950 рублей\n",
    "Включено 3000 минут разговора, 1000 сообщений и 30 Гб интернет-трафика\n",
    "Стоимость услуг сверх тарифного пакета: 1. минута разговора: 1 рубль; 2. сообщение: 1 рубль; 3. 1 Гб интернет-трафика: 150 рублей.\n",
    "\n",
    "«Мегалайн» всегда округляет вверх значения минут и мегабайтов."
   ]
  },
  {
   "cell_type": "markdown",
   "metadata": {},
   "source": [
    "### Вывод:  \n",
    "\n",
    "В нашем распоряжении 5 таблиц с данными о пользователях, их звонках, сообщениях, интернете, а также информация о тарифах.  \n",
    "\n",
    "Названия колонок написанны корректно и в одном стиле.  \n",
    "\n",
    "Во всех таблицах пропусков нет, кроме столбца churn_date в таблице users — в нем указана дата прекращения пользования тарифом: если значение пропущено, то тариф ещё действовал на момент выгрузки данных.  \n",
    "\n",
    "В данных есть звонки и интернет сессии с нулевой продолжительностью, а также нули в сообщениях  - нулями обозначены пропущенные звонки, не использованные Гб или не отправленные сообщения.  \n",
    "\n",
    "В столбцах с датами заменили тип данных object на datetime64[ns]."
   ]
  },
  {
   "cell_type": "markdown",
   "metadata": {},
   "source": [
    "## Предобработка данных"
   ]
  },
  {
   "cell_type": "markdown",
   "metadata": {},
   "source": [
    "### Поиск некорректных значений  \n",
    "\n",
    "- Выведем уникальные значения столбцов age, tariff и city из таблицы users."
   ]
  },
  {
   "cell_type": "code",
   "execution_count": 8,
   "metadata": {
    "scrolled": true
   },
   "outputs": [
    {
     "name": "stdout",
     "output_type": "stream",
     "text": [
      "age :  [52 41 59 23 68 67 21 65 63 24 26 44 38 36 64 58 73 71 61 72 42 56 32 62\n",
      " 20 51 28 66 31 37 47 40 69 48 33 39 43 46 45 55 53 34 49 25 18 70 50 19\n",
      " 54 60 29 27 74 22 30 75 57 35]\n",
      "\n",
      "tariff :  ['ultra' 'smart']\n",
      "\n"
     ]
    }
   ],
   "source": [
    "unique_colomns = users[['age', 'tariff']]\n",
    "#сохраним в переменную нужные нам столбцы\n",
    "\n",
    "for col in unique_colomns: #создаем цикл, который выведет уникальные значения по всем выбранным столбцам\n",
    "    print(col, ': ', users[col].unique())\n",
    "    print()"
   ]
  },
  {
   "cell_type": "code",
   "execution_count": 9,
   "metadata": {
    "scrolled": false
   },
   "outputs": [
    {
     "data": {
      "text/plain": [
       "['Архангельск',\n",
       " 'Астрахань',\n",
       " 'Балашиха',\n",
       " 'Барнаул',\n",
       " 'Белгород',\n",
       " 'Брянск',\n",
       " 'Владивосток',\n",
       " 'Владикавказ',\n",
       " 'Владимир',\n",
       " 'Волгоград',\n",
       " 'Волжский',\n",
       " 'Вологда',\n",
       " 'Воронеж',\n",
       " 'Грозный',\n",
       " 'Екатеринбург',\n",
       " 'Иваново',\n",
       " 'Ижевск',\n",
       " 'Иркутск',\n",
       " 'Казань',\n",
       " 'Калининград',\n",
       " 'Калуга',\n",
       " 'Кемерово',\n",
       " 'Киров',\n",
       " 'Кострома',\n",
       " 'Краснодар',\n",
       " 'Красноярск',\n",
       " 'Курган',\n",
       " 'Курск',\n",
       " 'Липецк',\n",
       " 'Магнитогорск',\n",
       " 'Махачкала',\n",
       " 'Москва',\n",
       " 'Мурманск',\n",
       " 'Набережные Челны',\n",
       " 'Нижневартовск',\n",
       " 'Нижний Новгород',\n",
       " 'Нижний Тагил',\n",
       " 'Новокузнецк',\n",
       " 'Новороссийск',\n",
       " 'Новосибирск',\n",
       " 'Омск',\n",
       " 'Оренбург',\n",
       " 'Орёл',\n",
       " 'Пенза',\n",
       " 'Пермь',\n",
       " 'Петрозаводск',\n",
       " 'Подольск',\n",
       " 'Ростов-на-Дону',\n",
       " 'Рязань',\n",
       " 'Самара',\n",
       " 'Санкт-Петербург',\n",
       " 'Саранск',\n",
       " 'Саратов',\n",
       " 'Севастополь',\n",
       " 'Смоленск',\n",
       " 'Сочи',\n",
       " 'Ставрополь',\n",
       " 'Стерлитамак',\n",
       " 'Сургут',\n",
       " 'Тамбов',\n",
       " 'Тверь',\n",
       " 'Тольятти',\n",
       " 'Томск',\n",
       " 'Тула',\n",
       " 'Тюмень',\n",
       " 'Улан-Удэ',\n",
       " 'Ульяновск',\n",
       " 'Уфа',\n",
       " 'Хабаровск',\n",
       " 'Химки',\n",
       " 'Чебоксары',\n",
       " 'Челябинск',\n",
       " 'Череповец',\n",
       " 'Чита',\n",
       " 'Якутск',\n",
       " 'Ярославль']"
      ]
     },
     "execution_count": 9,
     "metadata": {},
     "output_type": "execute_result"
    }
   ],
   "source": [
    "sorted(users['city'].unique())  #выведем отсортированные уникальные значения"
   ]
  },
  {
   "cell_type": "markdown",
   "metadata": {},
   "source": [
    "- Найдем отрицательные значения в столбцах duration таблицы calls и mb_used таблицы internet"
   ]
  },
  {
   "cell_type": "code",
   "execution_count": 10,
   "metadata": {},
   "outputs": [
    {
     "data": {
      "text/plain": [
       "0.0"
      ]
     },
     "execution_count": 10,
     "metadata": {},
     "output_type": "execute_result"
    }
   ],
   "source": [
    "calls.loc[calls.loc[:,'duration'] < 0]['duration'].sum()"
   ]
  },
  {
   "cell_type": "code",
   "execution_count": 11,
   "metadata": {},
   "outputs": [
    {
     "data": {
      "text/plain": [
       "0.0"
      ]
     },
     "execution_count": 11,
     "metadata": {},
     "output_type": "execute_result"
    }
   ],
   "source": [
    "internet.loc[internet.loc[:, 'mb_used'] < 0]['mb_used'].sum()"
   ]
  },
  {
   "cell_type": "markdown",
   "metadata": {},
   "source": [
    "Все значения корректны. Отрицательных значений нет."
   ]
  },
  {
   "cell_type": "markdown",
   "metadata": {},
   "source": [
    "### Округление значений  \n",
    "\n",
    "- Округлим звонки до минут и изменит тип данных на Int64."
   ]
  },
  {
   "cell_type": "code",
   "execution_count": 12,
   "metadata": {
    "scrolled": true
   },
   "outputs": [
    {
     "data": {
      "text/html": [
       "<div>\n",
       "<style scoped>\n",
       "    .dataframe tbody tr th:only-of-type {\n",
       "        vertical-align: middle;\n",
       "    }\n",
       "\n",
       "    .dataframe tbody tr th {\n",
       "        vertical-align: top;\n",
       "    }\n",
       "\n",
       "    .dataframe thead th {\n",
       "        text-align: right;\n",
       "    }\n",
       "</style>\n",
       "<table border=\"1\" class=\"dataframe\">\n",
       "  <thead>\n",
       "    <tr style=\"text-align: right;\">\n",
       "      <th></th>\n",
       "      <th>id</th>\n",
       "      <th>call_date</th>\n",
       "      <th>duration</th>\n",
       "      <th>user_id</th>\n",
       "    </tr>\n",
       "  </thead>\n",
       "  <tbody>\n",
       "    <tr>\n",
       "      <td>0</td>\n",
       "      <td>1000_0</td>\n",
       "      <td>2018-07-25</td>\n",
       "      <td>0</td>\n",
       "      <td>1000</td>\n",
       "    </tr>\n",
       "    <tr>\n",
       "      <td>1</td>\n",
       "      <td>1000_1</td>\n",
       "      <td>2018-08-17</td>\n",
       "      <td>0</td>\n",
       "      <td>1000</td>\n",
       "    </tr>\n",
       "    <tr>\n",
       "      <td>2</td>\n",
       "      <td>1000_2</td>\n",
       "      <td>2018-06-11</td>\n",
       "      <td>3</td>\n",
       "      <td>1000</td>\n",
       "    </tr>\n",
       "    <tr>\n",
       "      <td>3</td>\n",
       "      <td>1000_3</td>\n",
       "      <td>2018-09-21</td>\n",
       "      <td>14</td>\n",
       "      <td>1000</td>\n",
       "    </tr>\n",
       "    <tr>\n",
       "      <td>4</td>\n",
       "      <td>1000_4</td>\n",
       "      <td>2018-12-15</td>\n",
       "      <td>6</td>\n",
       "      <td>1000</td>\n",
       "    </tr>\n",
       "  </tbody>\n",
       "</table>\n",
       "</div>"
      ],
      "text/plain": [
       "       id  call_date  duration  user_id\n",
       "0  1000_0 2018-07-25         0     1000\n",
       "1  1000_1 2018-08-17         0     1000\n",
       "2  1000_2 2018-06-11         3     1000\n",
       "3  1000_3 2018-09-21        14     1000\n",
       "4  1000_4 2018-12-15         6     1000"
      ]
     },
     "metadata": {},
     "output_type": "display_data"
    },
    {
     "name": "stdout",
     "output_type": "stream",
     "text": [
      "<class 'pandas.core.frame.DataFrame'>\n",
      "RangeIndex: 202607 entries, 0 to 202606\n",
      "Data columns (total 4 columns):\n",
      "id           202607 non-null object\n",
      "call_date    202607 non-null datetime64[ns]\n",
      "duration     202607 non-null int64\n",
      "user_id      202607 non-null int64\n",
      "dtypes: datetime64[ns](1), int64(2), object(1)\n",
      "memory usage: 6.2+ MB\n"
     ]
    },
    {
     "data": {
      "text/plain": [
       "None"
      ]
     },
     "metadata": {},
     "output_type": "display_data"
    }
   ],
   "source": [
    "calls['duration'] = np.ceil(calls['duration']).astype(int)\n",
    "#округление значений в столбце duration\n",
    "\n",
    "display(calls.head()) #выведем на экран первые 5 строк таблицы\n",
    "display(calls.info()) #получим общую информацию о таблице"
   ]
  },
  {
   "cell_type": "markdown",
   "metadata": {},
   "source": [
    "- Округлим объём потраченного за сессию интернет-трафика до мегабайтов и изменит тип данных на Int64."
   ]
  },
  {
   "cell_type": "code",
   "execution_count": 13,
   "metadata": {},
   "outputs": [
    {
     "data": {
      "text/html": [
       "<div>\n",
       "<style scoped>\n",
       "    .dataframe tbody tr th:only-of-type {\n",
       "        vertical-align: middle;\n",
       "    }\n",
       "\n",
       "    .dataframe tbody tr th {\n",
       "        vertical-align: top;\n",
       "    }\n",
       "\n",
       "    .dataframe thead th {\n",
       "        text-align: right;\n",
       "    }\n",
       "</style>\n",
       "<table border=\"1\" class=\"dataframe\">\n",
       "  <thead>\n",
       "    <tr style=\"text-align: right;\">\n",
       "      <th></th>\n",
       "      <th>Unnamed: 0</th>\n",
       "      <th>id</th>\n",
       "      <th>mb_used</th>\n",
       "      <th>session_date</th>\n",
       "      <th>user_id</th>\n",
       "    </tr>\n",
       "  </thead>\n",
       "  <tbody>\n",
       "    <tr>\n",
       "      <td>0</td>\n",
       "      <td>0</td>\n",
       "      <td>1000_0</td>\n",
       "      <td>113</td>\n",
       "      <td>2018-11-25</td>\n",
       "      <td>1000</td>\n",
       "    </tr>\n",
       "    <tr>\n",
       "      <td>1</td>\n",
       "      <td>1</td>\n",
       "      <td>1000_1</td>\n",
       "      <td>1053</td>\n",
       "      <td>2018-09-07</td>\n",
       "      <td>1000</td>\n",
       "    </tr>\n",
       "    <tr>\n",
       "      <td>2</td>\n",
       "      <td>2</td>\n",
       "      <td>1000_2</td>\n",
       "      <td>1198</td>\n",
       "      <td>2018-06-25</td>\n",
       "      <td>1000</td>\n",
       "    </tr>\n",
       "    <tr>\n",
       "      <td>3</td>\n",
       "      <td>3</td>\n",
       "      <td>1000_3</td>\n",
       "      <td>551</td>\n",
       "      <td>2018-08-22</td>\n",
       "      <td>1000</td>\n",
       "    </tr>\n",
       "    <tr>\n",
       "      <td>4</td>\n",
       "      <td>4</td>\n",
       "      <td>1000_4</td>\n",
       "      <td>303</td>\n",
       "      <td>2018-09-24</td>\n",
       "      <td>1000</td>\n",
       "    </tr>\n",
       "  </tbody>\n",
       "</table>\n",
       "</div>"
      ],
      "text/plain": [
       "   Unnamed: 0      id  mb_used session_date  user_id\n",
       "0           0  1000_0      113   2018-11-25     1000\n",
       "1           1  1000_1     1053   2018-09-07     1000\n",
       "2           2  1000_2     1198   2018-06-25     1000\n",
       "3           3  1000_3      551   2018-08-22     1000\n",
       "4           4  1000_4      303   2018-09-24     1000"
      ]
     },
     "metadata": {},
     "output_type": "display_data"
    },
    {
     "name": "stdout",
     "output_type": "stream",
     "text": [
      "<class 'pandas.core.frame.DataFrame'>\n",
      "RangeIndex: 149396 entries, 0 to 149395\n",
      "Data columns (total 5 columns):\n",
      "Unnamed: 0      149396 non-null int64\n",
      "id              149396 non-null object\n",
      "mb_used         149396 non-null int64\n",
      "session_date    149396 non-null datetime64[ns]\n",
      "user_id         149396 non-null int64\n",
      "dtypes: datetime64[ns](1), int64(3), object(1)\n",
      "memory usage: 5.7+ MB\n"
     ]
    },
    {
     "data": {
      "text/plain": [
       "None"
      ]
     },
     "metadata": {},
     "output_type": "display_data"
    }
   ],
   "source": [
    "internet['mb_used'] = np.ceil(internet['mb_used']).astype(int)\n",
    "#округление значений в столбце duration\n",
    "\n",
    "display(internet.head()) #выведем на экран первые 5 строк таблицы\n",
    "display(internet.info()) #получим общую информацию о таблице"
   ]
  },
  {
   "cell_type": "markdown",
   "metadata": {},
   "source": [
    "Изменения прошли успешно."
   ]
  },
  {
   "cell_type": "markdown",
   "metadata": {},
   "source": [
    "### Вывод  \n",
    "\n",
    "Данные во всех таблицах записаны корректно.  \n",
    "\n",
    "Округлили значения в столбцах calls и internet до минут и мегабайт соответственно. Для удобства работы с данными изменили тип данных на Int64."
   ]
  },
  {
   "cell_type": "markdown",
   "metadata": {},
   "source": [
    "## Подготовка данных"
   ]
  },
  {
   "cell_type": "markdown",
   "metadata": {},
   "source": [
    "#### Посчитаем для каждого пользователя кол-во отправленных сообщений по месяцам"
   ]
  },
  {
   "cell_type": "markdown",
   "metadata": {},
   "source": [
    "Создадим новый столбец month в таблице messages с месяцами отправления сообщений."
   ]
  },
  {
   "cell_type": "code",
   "execution_count": 14,
   "metadata": {
    "scrolled": true
   },
   "outputs": [],
   "source": [
    "messages['month'] = messages['message_date'].dt.month\n",
    "#создаем новый столбец, в который записываем месяц из столбца с датой"
   ]
  },
  {
   "cell_type": "markdown",
   "metadata": {},
   "source": [
    "Добавим новый столбец tariff из таблицы users в таблицу messages."
   ]
  },
  {
   "cell_type": "code",
   "execution_count": 15,
   "metadata": {
    "scrolled": true
   },
   "outputs": [
    {
     "data": {
      "text/html": [
       "<div>\n",
       "<style scoped>\n",
       "    .dataframe tbody tr th:only-of-type {\n",
       "        vertical-align: middle;\n",
       "    }\n",
       "\n",
       "    .dataframe tbody tr th {\n",
       "        vertical-align: top;\n",
       "    }\n",
       "\n",
       "    .dataframe thead th {\n",
       "        text-align: right;\n",
       "    }\n",
       "</style>\n",
       "<table border=\"1\" class=\"dataframe\">\n",
       "  <thead>\n",
       "    <tr style=\"text-align: right;\">\n",
       "      <th></th>\n",
       "      <th>id</th>\n",
       "      <th>message_date</th>\n",
       "      <th>user_id</th>\n",
       "      <th>month</th>\n",
       "      <th>tariff</th>\n",
       "    </tr>\n",
       "  </thead>\n",
       "  <tbody>\n",
       "    <tr>\n",
       "      <td>0</td>\n",
       "      <td>1000_0</td>\n",
       "      <td>2018-06-27</td>\n",
       "      <td>1000</td>\n",
       "      <td>6</td>\n",
       "      <td>ultra</td>\n",
       "    </tr>\n",
       "    <tr>\n",
       "      <td>1</td>\n",
       "      <td>1000_1</td>\n",
       "      <td>2018-10-08</td>\n",
       "      <td>1000</td>\n",
       "      <td>10</td>\n",
       "      <td>ultra</td>\n",
       "    </tr>\n",
       "    <tr>\n",
       "      <td>2</td>\n",
       "      <td>1000_2</td>\n",
       "      <td>2018-08-04</td>\n",
       "      <td>1000</td>\n",
       "      <td>8</td>\n",
       "      <td>ultra</td>\n",
       "    </tr>\n",
       "    <tr>\n",
       "      <td>3</td>\n",
       "      <td>1000_3</td>\n",
       "      <td>2018-06-16</td>\n",
       "      <td>1000</td>\n",
       "      <td>6</td>\n",
       "      <td>ultra</td>\n",
       "    </tr>\n",
       "    <tr>\n",
       "      <td>4</td>\n",
       "      <td>1000_4</td>\n",
       "      <td>2018-12-05</td>\n",
       "      <td>1000</td>\n",
       "      <td>12</td>\n",
       "      <td>ultra</td>\n",
       "    </tr>\n",
       "  </tbody>\n",
       "</table>\n",
       "</div>"
      ],
      "text/plain": [
       "       id message_date  user_id  month tariff\n",
       "0  1000_0   2018-06-27     1000      6  ultra\n",
       "1  1000_1   2018-10-08     1000     10  ultra\n",
       "2  1000_2   2018-08-04     1000      8  ultra\n",
       "3  1000_3   2018-06-16     1000      6  ultra\n",
       "4  1000_4   2018-12-05     1000     12  ultra"
      ]
     },
     "execution_count": 15,
     "metadata": {},
     "output_type": "execute_result"
    }
   ],
   "source": [
    "messages = messages.merge(users[['user_id','tariff']], on='user_id')\n",
    "#добавляем новый столбец из таблицы users к таблице messages\n",
    "messages.head() #выводим первые 5 строк"
   ]
  },
  {
   "cell_type": "markdown",
   "metadata": {},
   "source": [
    "Создадим сгруппированую таблицу по тарифам, user_id и месяцам; посчитаем кол-во сообщений по каждому пользователю."
   ]
  },
  {
   "cell_type": "code",
   "execution_count": 16,
   "metadata": {},
   "outputs": [
    {
     "data": {
      "text/html": [
       "<div>\n",
       "<style scoped>\n",
       "    .dataframe tbody tr th:only-of-type {\n",
       "        vertical-align: middle;\n",
       "    }\n",
       "\n",
       "    .dataframe tbody tr th {\n",
       "        vertical-align: top;\n",
       "    }\n",
       "\n",
       "    .dataframe thead th {\n",
       "        text-align: right;\n",
       "    }\n",
       "</style>\n",
       "<table border=\"1\" class=\"dataframe\">\n",
       "  <thead>\n",
       "    <tr style=\"text-align: right;\">\n",
       "      <th></th>\n",
       "      <th>tariff</th>\n",
       "      <th>user_id</th>\n",
       "      <th>month</th>\n",
       "      <th>id</th>\n",
       "    </tr>\n",
       "  </thead>\n",
       "  <tbody>\n",
       "    <tr>\n",
       "      <td>0</td>\n",
       "      <td>smart</td>\n",
       "      <td>1002</td>\n",
       "      <td>6</td>\n",
       "      <td>4</td>\n",
       "    </tr>\n",
       "    <tr>\n",
       "      <td>1</td>\n",
       "      <td>smart</td>\n",
       "      <td>1002</td>\n",
       "      <td>7</td>\n",
       "      <td>11</td>\n",
       "    </tr>\n",
       "    <tr>\n",
       "      <td>2</td>\n",
       "      <td>smart</td>\n",
       "      <td>1002</td>\n",
       "      <td>8</td>\n",
       "      <td>13</td>\n",
       "    </tr>\n",
       "    <tr>\n",
       "      <td>3</td>\n",
       "      <td>smart</td>\n",
       "      <td>1002</td>\n",
       "      <td>9</td>\n",
       "      <td>4</td>\n",
       "    </tr>\n",
       "    <tr>\n",
       "      <td>4</td>\n",
       "      <td>smart</td>\n",
       "      <td>1002</td>\n",
       "      <td>10</td>\n",
       "      <td>10</td>\n",
       "    </tr>\n",
       "    <tr>\n",
       "      <td>...</td>\n",
       "      <td>...</td>\n",
       "      <td>...</td>\n",
       "      <td>...</td>\n",
       "      <td>...</td>\n",
       "    </tr>\n",
       "    <tr>\n",
       "      <td>2712</td>\n",
       "      <td>ultra</td>\n",
       "      <td>1495</td>\n",
       "      <td>8</td>\n",
       "      <td>13</td>\n",
       "    </tr>\n",
       "    <tr>\n",
       "      <td>2713</td>\n",
       "      <td>ultra</td>\n",
       "      <td>1495</td>\n",
       "      <td>9</td>\n",
       "      <td>82</td>\n",
       "    </tr>\n",
       "    <tr>\n",
       "      <td>2714</td>\n",
       "      <td>ultra</td>\n",
       "      <td>1495</td>\n",
       "      <td>10</td>\n",
       "      <td>82</td>\n",
       "    </tr>\n",
       "    <tr>\n",
       "      <td>2715</td>\n",
       "      <td>ultra</td>\n",
       "      <td>1495</td>\n",
       "      <td>11</td>\n",
       "      <td>79</td>\n",
       "    </tr>\n",
       "    <tr>\n",
       "      <td>2716</td>\n",
       "      <td>ultra</td>\n",
       "      <td>1495</td>\n",
       "      <td>12</td>\n",
       "      <td>84</td>\n",
       "    </tr>\n",
       "  </tbody>\n",
       "</table>\n",
       "<p>2717 rows × 4 columns</p>\n",
       "</div>"
      ],
      "text/plain": [
       "     tariff  user_id  month  id\n",
       "0     smart     1002      6   4\n",
       "1     smart     1002      7  11\n",
       "2     smart     1002      8  13\n",
       "3     smart     1002      9   4\n",
       "4     smart     1002     10  10\n",
       "...     ...      ...    ...  ..\n",
       "2712  ultra     1495      8  13\n",
       "2713  ultra     1495      9  82\n",
       "2714  ultra     1495     10  82\n",
       "2715  ultra     1495     11  79\n",
       "2716  ultra     1495     12  84\n",
       "\n",
       "[2717 rows x 4 columns]"
      ]
     },
     "execution_count": 16,
     "metadata": {},
     "output_type": "execute_result"
    }
   ],
   "source": [
    "messages_month_groupby = messages.groupby(['tariff','user_id','month']).agg({'id':'count'}).reset_index()\n",
    "#группируем таблицу, считаем кол-во сообщений, удаляем старые индексы \n",
    "messages_month_groupby #выводим на экран"
   ]
  },
  {
   "cell_type": "markdown",
   "metadata": {},
   "source": [
    "#### Посчитаем для каждого пользователя кол-во сделанных звонков и израсходованных минут разговора по месяцам"
   ]
  },
  {
   "cell_type": "markdown",
   "metadata": {},
   "source": [
    "Создадим новый столбец month в таблице calls с месяцами, когда были совершены звонки."
   ]
  },
  {
   "cell_type": "code",
   "execution_count": 17,
   "metadata": {},
   "outputs": [],
   "source": [
    "calls['month'] = calls['call_date'].dt.month\n",
    "#создаем новый столбец, в который записываем месяц из столбца с датой"
   ]
  },
  {
   "cell_type": "markdown",
   "metadata": {},
   "source": [
    "Добавим новый столбец tariff из таблицы users в таблицу calls"
   ]
  },
  {
   "cell_type": "code",
   "execution_count": 18,
   "metadata": {
    "scrolled": true
   },
   "outputs": [
    {
     "data": {
      "text/html": [
       "<div>\n",
       "<style scoped>\n",
       "    .dataframe tbody tr th:only-of-type {\n",
       "        vertical-align: middle;\n",
       "    }\n",
       "\n",
       "    .dataframe tbody tr th {\n",
       "        vertical-align: top;\n",
       "    }\n",
       "\n",
       "    .dataframe thead th {\n",
       "        text-align: right;\n",
       "    }\n",
       "</style>\n",
       "<table border=\"1\" class=\"dataframe\">\n",
       "  <thead>\n",
       "    <tr style=\"text-align: right;\">\n",
       "      <th></th>\n",
       "      <th>id</th>\n",
       "      <th>call_date</th>\n",
       "      <th>duration</th>\n",
       "      <th>user_id</th>\n",
       "      <th>month</th>\n",
       "      <th>tariff</th>\n",
       "    </tr>\n",
       "  </thead>\n",
       "  <tbody>\n",
       "    <tr>\n",
       "      <td>0</td>\n",
       "      <td>1000_0</td>\n",
       "      <td>2018-07-25</td>\n",
       "      <td>0</td>\n",
       "      <td>1000</td>\n",
       "      <td>7</td>\n",
       "      <td>ultra</td>\n",
       "    </tr>\n",
       "    <tr>\n",
       "      <td>1</td>\n",
       "      <td>1000_1</td>\n",
       "      <td>2018-08-17</td>\n",
       "      <td>0</td>\n",
       "      <td>1000</td>\n",
       "      <td>8</td>\n",
       "      <td>ultra</td>\n",
       "    </tr>\n",
       "    <tr>\n",
       "      <td>2</td>\n",
       "      <td>1000_2</td>\n",
       "      <td>2018-06-11</td>\n",
       "      <td>3</td>\n",
       "      <td>1000</td>\n",
       "      <td>6</td>\n",
       "      <td>ultra</td>\n",
       "    </tr>\n",
       "    <tr>\n",
       "      <td>3</td>\n",
       "      <td>1000_3</td>\n",
       "      <td>2018-09-21</td>\n",
       "      <td>14</td>\n",
       "      <td>1000</td>\n",
       "      <td>9</td>\n",
       "      <td>ultra</td>\n",
       "    </tr>\n",
       "    <tr>\n",
       "      <td>4</td>\n",
       "      <td>1000_4</td>\n",
       "      <td>2018-12-15</td>\n",
       "      <td>6</td>\n",
       "      <td>1000</td>\n",
       "      <td>12</td>\n",
       "      <td>ultra</td>\n",
       "    </tr>\n",
       "  </tbody>\n",
       "</table>\n",
       "</div>"
      ],
      "text/plain": [
       "       id  call_date  duration  user_id  month tariff\n",
       "0  1000_0 2018-07-25         0     1000      7  ultra\n",
       "1  1000_1 2018-08-17         0     1000      8  ultra\n",
       "2  1000_2 2018-06-11         3     1000      6  ultra\n",
       "3  1000_3 2018-09-21        14     1000      9  ultra\n",
       "4  1000_4 2018-12-15         6     1000     12  ultra"
      ]
     },
     "execution_count": 18,
     "metadata": {},
     "output_type": "execute_result"
    }
   ],
   "source": [
    "calls = calls.merge(users[['user_id','tariff']], on='user_id')\n",
    "#добавляем новый столбец из таблицы users к таблице calls\n",
    "calls.head() #выводим первые 5 строк"
   ]
  },
  {
   "cell_type": "markdown",
   "metadata": {},
   "source": [
    "Создадим сгруппированую таблицу по тарифам, user_id и месяцам, посчитаем кол-во звонков по каждому пользователю."
   ]
  },
  {
   "cell_type": "code",
   "execution_count": 19,
   "metadata": {},
   "outputs": [
    {
     "data": {
      "text/html": [
       "<div>\n",
       "<style scoped>\n",
       "    .dataframe tbody tr th:only-of-type {\n",
       "        vertical-align: middle;\n",
       "    }\n",
       "\n",
       "    .dataframe tbody tr th {\n",
       "        vertical-align: top;\n",
       "    }\n",
       "\n",
       "    .dataframe thead th {\n",
       "        text-align: right;\n",
       "    }\n",
       "</style>\n",
       "<table border=\"1\" class=\"dataframe\">\n",
       "  <thead>\n",
       "    <tr style=\"text-align: right;\">\n",
       "      <th></th>\n",
       "      <th>tariff</th>\n",
       "      <th>user_id</th>\n",
       "      <th>month</th>\n",
       "      <th>id</th>\n",
       "    </tr>\n",
       "  </thead>\n",
       "  <tbody>\n",
       "    <tr>\n",
       "      <td>0</td>\n",
       "      <td>smart</td>\n",
       "      <td>1001</td>\n",
       "      <td>11</td>\n",
       "      <td>59</td>\n",
       "    </tr>\n",
       "    <tr>\n",
       "      <td>1</td>\n",
       "      <td>smart</td>\n",
       "      <td>1001</td>\n",
       "      <td>12</td>\n",
       "      <td>63</td>\n",
       "    </tr>\n",
       "    <tr>\n",
       "      <td>2</td>\n",
       "      <td>smart</td>\n",
       "      <td>1002</td>\n",
       "      <td>6</td>\n",
       "      <td>15</td>\n",
       "    </tr>\n",
       "    <tr>\n",
       "      <td>3</td>\n",
       "      <td>smart</td>\n",
       "      <td>1002</td>\n",
       "      <td>7</td>\n",
       "      <td>26</td>\n",
       "    </tr>\n",
       "    <tr>\n",
       "      <td>4</td>\n",
       "      <td>smart</td>\n",
       "      <td>1002</td>\n",
       "      <td>8</td>\n",
       "      <td>42</td>\n",
       "    </tr>\n",
       "    <tr>\n",
       "      <td>...</td>\n",
       "      <td>...</td>\n",
       "      <td>...</td>\n",
       "      <td>...</td>\n",
       "      <td>...</td>\n",
       "    </tr>\n",
       "    <tr>\n",
       "      <td>3169</td>\n",
       "      <td>ultra</td>\n",
       "      <td>1495</td>\n",
       "      <td>8</td>\n",
       "      <td>17</td>\n",
       "    </tr>\n",
       "    <tr>\n",
       "      <td>3170</td>\n",
       "      <td>ultra</td>\n",
       "      <td>1495</td>\n",
       "      <td>9</td>\n",
       "      <td>112</td>\n",
       "    </tr>\n",
       "    <tr>\n",
       "      <td>3171</td>\n",
       "      <td>ultra</td>\n",
       "      <td>1495</td>\n",
       "      <td>10</td>\n",
       "      <td>152</td>\n",
       "    </tr>\n",
       "    <tr>\n",
       "      <td>3172</td>\n",
       "      <td>ultra</td>\n",
       "      <td>1495</td>\n",
       "      <td>11</td>\n",
       "      <td>129</td>\n",
       "    </tr>\n",
       "    <tr>\n",
       "      <td>3173</td>\n",
       "      <td>ultra</td>\n",
       "      <td>1495</td>\n",
       "      <td>12</td>\n",
       "      <td>155</td>\n",
       "    </tr>\n",
       "  </tbody>\n",
       "</table>\n",
       "<p>3174 rows × 4 columns</p>\n",
       "</div>"
      ],
      "text/plain": [
       "     tariff  user_id  month   id\n",
       "0     smart     1001     11   59\n",
       "1     smart     1001     12   63\n",
       "2     smart     1002      6   15\n",
       "3     smart     1002      7   26\n",
       "4     smart     1002      8   42\n",
       "...     ...      ...    ...  ...\n",
       "3169  ultra     1495      8   17\n",
       "3170  ultra     1495      9  112\n",
       "3171  ultra     1495     10  152\n",
       "3172  ultra     1495     11  129\n",
       "3173  ultra     1495     12  155\n",
       "\n",
       "[3174 rows x 4 columns]"
      ]
     },
     "execution_count": 19,
     "metadata": {},
     "output_type": "execute_result"
    }
   ],
   "source": [
    "calls_month_groupby_count = calls.groupby(['tariff','user_id','month']).agg({'id':'count'}).reset_index()\n",
    "#группируем таблицу, считаем кол-во звонков, удаляем старые индексы \n",
    "calls_month_groupby_count #выводим на экран"
   ]
  },
  {
   "cell_type": "markdown",
   "metadata": {},
   "source": [
    " Посчитаем сумму израсходованных минут разговора по месяцам."
   ]
  },
  {
   "cell_type": "code",
   "execution_count": 20,
   "metadata": {},
   "outputs": [
    {
     "data": {
      "text/html": [
       "<div>\n",
       "<style scoped>\n",
       "    .dataframe tbody tr th:only-of-type {\n",
       "        vertical-align: middle;\n",
       "    }\n",
       "\n",
       "    .dataframe tbody tr th {\n",
       "        vertical-align: top;\n",
       "    }\n",
       "\n",
       "    .dataframe thead th {\n",
       "        text-align: right;\n",
       "    }\n",
       "</style>\n",
       "<table border=\"1\" class=\"dataframe\">\n",
       "  <thead>\n",
       "    <tr style=\"text-align: right;\">\n",
       "      <th></th>\n",
       "      <th>tariff</th>\n",
       "      <th>user_id</th>\n",
       "      <th>month</th>\n",
       "      <th>duration</th>\n",
       "    </tr>\n",
       "  </thead>\n",
       "  <tbody>\n",
       "    <tr>\n",
       "      <td>0</td>\n",
       "      <td>smart</td>\n",
       "      <td>1001</td>\n",
       "      <td>11</td>\n",
       "      <td>430</td>\n",
       "    </tr>\n",
       "    <tr>\n",
       "      <td>1</td>\n",
       "      <td>smart</td>\n",
       "      <td>1001</td>\n",
       "      <td>12</td>\n",
       "      <td>414</td>\n",
       "    </tr>\n",
       "    <tr>\n",
       "      <td>2</td>\n",
       "      <td>smart</td>\n",
       "      <td>1002</td>\n",
       "      <td>6</td>\n",
       "      <td>117</td>\n",
       "    </tr>\n",
       "    <tr>\n",
       "      <td>3</td>\n",
       "      <td>smart</td>\n",
       "      <td>1002</td>\n",
       "      <td>7</td>\n",
       "      <td>214</td>\n",
       "    </tr>\n",
       "    <tr>\n",
       "      <td>4</td>\n",
       "      <td>smart</td>\n",
       "      <td>1002</td>\n",
       "      <td>8</td>\n",
       "      <td>289</td>\n",
       "    </tr>\n",
       "    <tr>\n",
       "      <td>...</td>\n",
       "      <td>...</td>\n",
       "      <td>...</td>\n",
       "      <td>...</td>\n",
       "      <td>...</td>\n",
       "    </tr>\n",
       "    <tr>\n",
       "      <td>3169</td>\n",
       "      <td>ultra</td>\n",
       "      <td>1495</td>\n",
       "      <td>8</td>\n",
       "      <td>92</td>\n",
       "    </tr>\n",
       "    <tr>\n",
       "      <td>3170</td>\n",
       "      <td>ultra</td>\n",
       "      <td>1495</td>\n",
       "      <td>9</td>\n",
       "      <td>813</td>\n",
       "    </tr>\n",
       "    <tr>\n",
       "      <td>3171</td>\n",
       "      <td>ultra</td>\n",
       "      <td>1495</td>\n",
       "      <td>10</td>\n",
       "      <td>1030</td>\n",
       "    </tr>\n",
       "    <tr>\n",
       "      <td>3172</td>\n",
       "      <td>ultra</td>\n",
       "      <td>1495</td>\n",
       "      <td>11</td>\n",
       "      <td>954</td>\n",
       "    </tr>\n",
       "    <tr>\n",
       "      <td>3173</td>\n",
       "      <td>ultra</td>\n",
       "      <td>1495</td>\n",
       "      <td>12</td>\n",
       "      <td>1031</td>\n",
       "    </tr>\n",
       "  </tbody>\n",
       "</table>\n",
       "<p>3174 rows × 4 columns</p>\n",
       "</div>"
      ],
      "text/plain": [
       "     tariff  user_id  month  duration\n",
       "0     smart     1001     11       430\n",
       "1     smart     1001     12       414\n",
       "2     smart     1002      6       117\n",
       "3     smart     1002      7       214\n",
       "4     smart     1002      8       289\n",
       "...     ...      ...    ...       ...\n",
       "3169  ultra     1495      8        92\n",
       "3170  ultra     1495      9       813\n",
       "3171  ultra     1495     10      1030\n",
       "3172  ultra     1495     11       954\n",
       "3173  ultra     1495     12      1031\n",
       "\n",
       "[3174 rows x 4 columns]"
      ]
     },
     "execution_count": 20,
     "metadata": {},
     "output_type": "execute_result"
    }
   ],
   "source": [
    "calls_month_groupby_sum = calls.groupby(['tariff','user_id','month']).agg({'duration':'sum'}).reset_index()\n",
    "#группируем таблицу, считаем сумму минут разговора, удаляем старые индексы \n",
    "calls_month_groupby_sum #выводим на экран"
   ]
  },
  {
   "cell_type": "markdown",
   "metadata": {},
   "source": [
    "#### Посчитаем объем израсходованного интернет-трафика по месяцам"
   ]
  },
  {
   "cell_type": "markdown",
   "metadata": {},
   "source": [
    "Создадим новый столбец month в таблицу internet с месяцами, в которых пользовались интернетом"
   ]
  },
  {
   "cell_type": "code",
   "execution_count": 21,
   "metadata": {},
   "outputs": [],
   "source": [
    "internet['month'] = internet['session_date'].dt.month\n",
    "#создаем новый столбец, в который записываем месяц из столбца с датой"
   ]
  },
  {
   "cell_type": "markdown",
   "metadata": {},
   "source": [
    "Добавим новый столбец tariff из таблицы users в таблицу internet"
   ]
  },
  {
   "cell_type": "code",
   "execution_count": 22,
   "metadata": {
    "scrolled": true
   },
   "outputs": [
    {
     "data": {
      "text/html": [
       "<div>\n",
       "<style scoped>\n",
       "    .dataframe tbody tr th:only-of-type {\n",
       "        vertical-align: middle;\n",
       "    }\n",
       "\n",
       "    .dataframe tbody tr th {\n",
       "        vertical-align: top;\n",
       "    }\n",
       "\n",
       "    .dataframe thead th {\n",
       "        text-align: right;\n",
       "    }\n",
       "</style>\n",
       "<table border=\"1\" class=\"dataframe\">\n",
       "  <thead>\n",
       "    <tr style=\"text-align: right;\">\n",
       "      <th></th>\n",
       "      <th>Unnamed: 0</th>\n",
       "      <th>id</th>\n",
       "      <th>mb_used</th>\n",
       "      <th>session_date</th>\n",
       "      <th>user_id</th>\n",
       "      <th>month</th>\n",
       "      <th>tariff</th>\n",
       "    </tr>\n",
       "  </thead>\n",
       "  <tbody>\n",
       "    <tr>\n",
       "      <td>0</td>\n",
       "      <td>0</td>\n",
       "      <td>1000_0</td>\n",
       "      <td>113</td>\n",
       "      <td>2018-11-25</td>\n",
       "      <td>1000</td>\n",
       "      <td>11</td>\n",
       "      <td>ultra</td>\n",
       "    </tr>\n",
       "    <tr>\n",
       "      <td>1</td>\n",
       "      <td>1</td>\n",
       "      <td>1000_1</td>\n",
       "      <td>1053</td>\n",
       "      <td>2018-09-07</td>\n",
       "      <td>1000</td>\n",
       "      <td>9</td>\n",
       "      <td>ultra</td>\n",
       "    </tr>\n",
       "    <tr>\n",
       "      <td>2</td>\n",
       "      <td>2</td>\n",
       "      <td>1000_2</td>\n",
       "      <td>1198</td>\n",
       "      <td>2018-06-25</td>\n",
       "      <td>1000</td>\n",
       "      <td>6</td>\n",
       "      <td>ultra</td>\n",
       "    </tr>\n",
       "    <tr>\n",
       "      <td>3</td>\n",
       "      <td>3</td>\n",
       "      <td>1000_3</td>\n",
       "      <td>551</td>\n",
       "      <td>2018-08-22</td>\n",
       "      <td>1000</td>\n",
       "      <td>8</td>\n",
       "      <td>ultra</td>\n",
       "    </tr>\n",
       "    <tr>\n",
       "      <td>4</td>\n",
       "      <td>4</td>\n",
       "      <td>1000_4</td>\n",
       "      <td>303</td>\n",
       "      <td>2018-09-24</td>\n",
       "      <td>1000</td>\n",
       "      <td>9</td>\n",
       "      <td>ultra</td>\n",
       "    </tr>\n",
       "  </tbody>\n",
       "</table>\n",
       "</div>"
      ],
      "text/plain": [
       "   Unnamed: 0      id  mb_used session_date  user_id  month tariff\n",
       "0           0  1000_0      113   2018-11-25     1000     11  ultra\n",
       "1           1  1000_1     1053   2018-09-07     1000      9  ultra\n",
       "2           2  1000_2     1198   2018-06-25     1000      6  ultra\n",
       "3           3  1000_3      551   2018-08-22     1000      8  ultra\n",
       "4           4  1000_4      303   2018-09-24     1000      9  ultra"
      ]
     },
     "execution_count": 22,
     "metadata": {},
     "output_type": "execute_result"
    }
   ],
   "source": [
    "internet = internet.merge(users[['user_id','tariff']], on='user_id')\n",
    "#добавляем новый столбец из таблицы users к таблице internet\n",
    "internet.head() #выводим первые 5 строк"
   ]
  },
  {
   "cell_type": "markdown",
   "metadata": {},
   "source": [
    "Создадим сгруппированую таблицу по тарифам, user_id и месяцам, посчитаем объем израсходованного интернет-трафика по каждому пользователю."
   ]
  },
  {
   "cell_type": "code",
   "execution_count": 23,
   "metadata": {},
   "outputs": [
    {
     "data": {
      "text/html": [
       "<div>\n",
       "<style scoped>\n",
       "    .dataframe tbody tr th:only-of-type {\n",
       "        vertical-align: middle;\n",
       "    }\n",
       "\n",
       "    .dataframe tbody tr th {\n",
       "        vertical-align: top;\n",
       "    }\n",
       "\n",
       "    .dataframe thead th {\n",
       "        text-align: right;\n",
       "    }\n",
       "</style>\n",
       "<table border=\"1\" class=\"dataframe\">\n",
       "  <thead>\n",
       "    <tr style=\"text-align: right;\">\n",
       "      <th></th>\n",
       "      <th>tariff</th>\n",
       "      <th>user_id</th>\n",
       "      <th>month</th>\n",
       "      <th>mb_used</th>\n",
       "    </tr>\n",
       "  </thead>\n",
       "  <tbody>\n",
       "    <tr>\n",
       "      <td>0</td>\n",
       "      <td>smart</td>\n",
       "      <td>1001</td>\n",
       "      <td>11</td>\n",
       "      <td>18452</td>\n",
       "    </tr>\n",
       "    <tr>\n",
       "      <td>1</td>\n",
       "      <td>smart</td>\n",
       "      <td>1001</td>\n",
       "      <td>12</td>\n",
       "      <td>14053</td>\n",
       "    </tr>\n",
       "    <tr>\n",
       "      <td>2</td>\n",
       "      <td>smart</td>\n",
       "      <td>1002</td>\n",
       "      <td>6</td>\n",
       "      <td>10871</td>\n",
       "    </tr>\n",
       "    <tr>\n",
       "      <td>3</td>\n",
       "      <td>smart</td>\n",
       "      <td>1002</td>\n",
       "      <td>7</td>\n",
       "      <td>17601</td>\n",
       "    </tr>\n",
       "    <tr>\n",
       "      <td>4</td>\n",
       "      <td>smart</td>\n",
       "      <td>1002</td>\n",
       "      <td>8</td>\n",
       "      <td>20347</td>\n",
       "    </tr>\n",
       "    <tr>\n",
       "      <td>...</td>\n",
       "      <td>...</td>\n",
       "      <td>...</td>\n",
       "      <td>...</td>\n",
       "      <td>...</td>\n",
       "    </tr>\n",
       "    <tr>\n",
       "      <td>3198</td>\n",
       "      <td>ultra</td>\n",
       "      <td>1495</td>\n",
       "      <td>8</td>\n",
       "      <td>2616</td>\n",
       "    </tr>\n",
       "    <tr>\n",
       "      <td>3199</td>\n",
       "      <td>ultra</td>\n",
       "      <td>1495</td>\n",
       "      <td>9</td>\n",
       "      <td>33105</td>\n",
       "    </tr>\n",
       "    <tr>\n",
       "      <td>3200</td>\n",
       "      <td>ultra</td>\n",
       "      <td>1495</td>\n",
       "      <td>10</td>\n",
       "      <td>29393</td>\n",
       "    </tr>\n",
       "    <tr>\n",
       "      <td>3201</td>\n",
       "      <td>ultra</td>\n",
       "      <td>1495</td>\n",
       "      <td>11</td>\n",
       "      <td>38972</td>\n",
       "    </tr>\n",
       "    <tr>\n",
       "      <td>3202</td>\n",
       "      <td>ultra</td>\n",
       "      <td>1495</td>\n",
       "      <td>12</td>\n",
       "      <td>23450</td>\n",
       "    </tr>\n",
       "  </tbody>\n",
       "</table>\n",
       "<p>3203 rows × 4 columns</p>\n",
       "</div>"
      ],
      "text/plain": [
       "     tariff  user_id  month  mb_used\n",
       "0     smart     1001     11    18452\n",
       "1     smart     1001     12    14053\n",
       "2     smart     1002      6    10871\n",
       "3     smart     1002      7    17601\n",
       "4     smart     1002      8    20347\n",
       "...     ...      ...    ...      ...\n",
       "3198  ultra     1495      8     2616\n",
       "3199  ultra     1495      9    33105\n",
       "3200  ultra     1495     10    29393\n",
       "3201  ultra     1495     11    38972\n",
       "3202  ultra     1495     12    23450\n",
       "\n",
       "[3203 rows x 4 columns]"
      ]
     },
     "execution_count": 23,
     "metadata": {},
     "output_type": "execute_result"
    }
   ],
   "source": [
    "internet_month_groupby = internet.groupby(['tariff','user_id','month']).agg({'mb_used':'sum'}).reset_index()\n",
    "#группируем таблицу, считаем сумму трафика, удаляем старые индексы \n",
    "internet_month_groupby #выводим на экран"
   ]
  },
  {
   "cell_type": "markdown",
   "metadata": {},
   "source": [
    "### Объединение таблиц"
   ]
  },
  {
   "cell_type": "markdown",
   "metadata": {},
   "source": [
    "#### Объединим сгруппированные по сообщениям, звонкам и объему интернет-трафика таблицы в одну"
   ]
  },
  {
   "cell_type": "code",
   "execution_count": 24,
   "metadata": {
    "scrolled": false
   },
   "outputs": [
    {
     "data": {
      "text/html": [
       "<div>\n",
       "<style scoped>\n",
       "    .dataframe tbody tr th:only-of-type {\n",
       "        vertical-align: middle;\n",
       "    }\n",
       "\n",
       "    .dataframe tbody tr th {\n",
       "        vertical-align: top;\n",
       "    }\n",
       "\n",
       "    .dataframe thead th {\n",
       "        text-align: right;\n",
       "    }\n",
       "</style>\n",
       "<table border=\"1\" class=\"dataframe\">\n",
       "  <thead>\n",
       "    <tr style=\"text-align: right;\">\n",
       "      <th></th>\n",
       "      <th>tariff</th>\n",
       "      <th>user_id</th>\n",
       "      <th>month</th>\n",
       "      <th>id</th>\n",
       "      <th>duration</th>\n",
       "      <th>mb_used</th>\n",
       "    </tr>\n",
       "  </thead>\n",
       "  <tbody>\n",
       "    <tr>\n",
       "      <td>0</td>\n",
       "      <td>smart</td>\n",
       "      <td>1002</td>\n",
       "      <td>6</td>\n",
       "      <td>4.0</td>\n",
       "      <td>117.0</td>\n",
       "      <td>10871.0</td>\n",
       "    </tr>\n",
       "    <tr>\n",
       "      <td>1</td>\n",
       "      <td>smart</td>\n",
       "      <td>1002</td>\n",
       "      <td>7</td>\n",
       "      <td>11.0</td>\n",
       "      <td>214.0</td>\n",
       "      <td>17601.0</td>\n",
       "    </tr>\n",
       "    <tr>\n",
       "      <td>2</td>\n",
       "      <td>smart</td>\n",
       "      <td>1002</td>\n",
       "      <td>8</td>\n",
       "      <td>13.0</td>\n",
       "      <td>289.0</td>\n",
       "      <td>20347.0</td>\n",
       "    </tr>\n",
       "    <tr>\n",
       "      <td>3</td>\n",
       "      <td>smart</td>\n",
       "      <td>1002</td>\n",
       "      <td>9</td>\n",
       "      <td>4.0</td>\n",
       "      <td>206.0</td>\n",
       "      <td>16712.0</td>\n",
       "    </tr>\n",
       "    <tr>\n",
       "      <td>4</td>\n",
       "      <td>smart</td>\n",
       "      <td>1002</td>\n",
       "      <td>10</td>\n",
       "      <td>10.0</td>\n",
       "      <td>212.0</td>\n",
       "      <td>13905.0</td>\n",
       "    </tr>\n",
       "  </tbody>\n",
       "</table>\n",
       "</div>"
      ],
      "text/plain": [
       "  tariff  user_id  month    id  duration  mb_used\n",
       "0  smart     1002      6   4.0     117.0  10871.0\n",
       "1  smart     1002      7  11.0     214.0  17601.0\n",
       "2  smart     1002      8  13.0     289.0  20347.0\n",
       "3  smart     1002      9   4.0     206.0  16712.0\n",
       "4  smart     1002     10  10.0     212.0  13905.0"
      ]
     },
     "execution_count": 24,
     "metadata": {},
     "output_type": "execute_result"
    }
   ],
   "source": [
    "combined_data = messages_month_groupby\\\n",
    ".merge(calls_month_groupby_sum, on=['user_id', 'month', 'tariff'], how='outer')\\\n",
    ".merge(internet_month_groupby, on=['user_id', 'month', 'tariff'], how='outer')\n",
    "#создадим новую таблицу, в которой объединим messages_month_groupby, calls_month_groupby_sum и internet_month_groupby\n",
    "\n",
    "combined_data.head() #выведем первые пять строк на экран"
   ]
  },
  {
   "cell_type": "markdown",
   "metadata": {},
   "source": [
    "Изменим названия столбцов на:  \n",
    "messages_count - кол-во сообщений  \n",
    "duration_sum - сумма минут звонков  \n",
    "mb_used_sum - сумма мегабайт интернет трафика  "
   ]
  },
  {
   "cell_type": "code",
   "execution_count": 25,
   "metadata": {
    "scrolled": true
   },
   "outputs": [
    {
     "data": {
      "text/plain": [
       "Index(['tariff', 'user_id', 'month', 'messages_count', 'duration_sum',\n",
       "       'mb_used_sum'],\n",
       "      dtype='object')"
      ]
     },
     "execution_count": 25,
     "metadata": {},
     "output_type": "execute_result"
    }
   ],
   "source": [
    "combined_data = combined_data.rename(columns={'id':'messages_count', 'duration':'duration_sum', 'mb_used':'mb_used_sum'})\n",
    "#меняем названия столбцов\n",
    "combined_data.columns #выводим названия столбцов на экран"
   ]
  },
  {
   "cell_type": "markdown",
   "metadata": {},
   "source": [
    "Разделим пользователей из таблицы combined_data по тарифам ultra и smart и добавим их в новые таблицы users_ultra и users_smart."
   ]
  },
  {
   "cell_type": "code",
   "execution_count": 26,
   "metadata": {
    "scrolled": false
   },
   "outputs": [
    {
     "data": {
      "text/html": [
       "<div>\n",
       "<style scoped>\n",
       "    .dataframe tbody tr th:only-of-type {\n",
       "        vertical-align: middle;\n",
       "    }\n",
       "\n",
       "    .dataframe tbody tr th {\n",
       "        vertical-align: top;\n",
       "    }\n",
       "\n",
       "    .dataframe thead th {\n",
       "        text-align: right;\n",
       "    }\n",
       "</style>\n",
       "<table border=\"1\" class=\"dataframe\">\n",
       "  <thead>\n",
       "    <tr style=\"text-align: right;\">\n",
       "      <th></th>\n",
       "      <th>tariff</th>\n",
       "      <th>user_id</th>\n",
       "      <th>month</th>\n",
       "      <th>messages_count</th>\n",
       "      <th>duration_sum</th>\n",
       "      <th>mb_used_sum</th>\n",
       "    </tr>\n",
       "  </thead>\n",
       "  <tbody>\n",
       "    <tr>\n",
       "      <td>0</td>\n",
       "      <td>ultra</td>\n",
       "      <td>1000</td>\n",
       "      <td>5</td>\n",
       "      <td>22.0</td>\n",
       "      <td>159.0</td>\n",
       "      <td>2256.0</td>\n",
       "    </tr>\n",
       "    <tr>\n",
       "      <td>1</td>\n",
       "      <td>ultra</td>\n",
       "      <td>1000</td>\n",
       "      <td>6</td>\n",
       "      <td>60.0</td>\n",
       "      <td>172.0</td>\n",
       "      <td>23257.0</td>\n",
       "    </tr>\n",
       "    <tr>\n",
       "      <td>2</td>\n",
       "      <td>ultra</td>\n",
       "      <td>1000</td>\n",
       "      <td>7</td>\n",
       "      <td>75.0</td>\n",
       "      <td>340.0</td>\n",
       "      <td>14016.0</td>\n",
       "    </tr>\n",
       "    <tr>\n",
       "      <td>3</td>\n",
       "      <td>ultra</td>\n",
       "      <td>1000</td>\n",
       "      <td>8</td>\n",
       "      <td>81.0</td>\n",
       "      <td>408.0</td>\n",
       "      <td>14070.0</td>\n",
       "    </tr>\n",
       "    <tr>\n",
       "      <td>4</td>\n",
       "      <td>ultra</td>\n",
       "      <td>1000</td>\n",
       "      <td>9</td>\n",
       "      <td>57.0</td>\n",
       "      <td>466.0</td>\n",
       "      <td>14581.0</td>\n",
       "    </tr>\n",
       "  </tbody>\n",
       "</table>\n",
       "</div>"
      ],
      "text/plain": [
       "  tariff  user_id  month  messages_count  duration_sum  mb_used_sum\n",
       "0  ultra     1000      5            22.0         159.0       2256.0\n",
       "1  ultra     1000      6            60.0         172.0      23257.0\n",
       "2  ultra     1000      7            75.0         340.0      14016.0\n",
       "3  ultra     1000      8            81.0         408.0      14070.0\n",
       "4  ultra     1000      9            57.0         466.0      14581.0"
      ]
     },
     "execution_count": 26,
     "metadata": {},
     "output_type": "execute_result"
    }
   ],
   "source": [
    "users_ultra = combined_data.loc[combined_data.loc[:,'tariff'] == 'ultra'].reset_index(drop=True)\n",
    "#создадим новую таблицу с пользователями тарифа ultra, заменяем старые индексы на новые\n",
    "users_ultra.head() #выведем первые 5 строк таблицы"
   ]
  },
  {
   "cell_type": "code",
   "execution_count": 27,
   "metadata": {
    "scrolled": true
   },
   "outputs": [
    {
     "data": {
      "text/html": [
       "<div>\n",
       "<style scoped>\n",
       "    .dataframe tbody tr th:only-of-type {\n",
       "        vertical-align: middle;\n",
       "    }\n",
       "\n",
       "    .dataframe tbody tr th {\n",
       "        vertical-align: top;\n",
       "    }\n",
       "\n",
       "    .dataframe thead th {\n",
       "        text-align: right;\n",
       "    }\n",
       "</style>\n",
       "<table border=\"1\" class=\"dataframe\">\n",
       "  <thead>\n",
       "    <tr style=\"text-align: right;\">\n",
       "      <th></th>\n",
       "      <th>tariff</th>\n",
       "      <th>user_id</th>\n",
       "      <th>month</th>\n",
       "      <th>messages_count</th>\n",
       "      <th>duration_sum</th>\n",
       "      <th>mb_used_sum</th>\n",
       "    </tr>\n",
       "  </thead>\n",
       "  <tbody>\n",
       "    <tr>\n",
       "      <td>0</td>\n",
       "      <td>smart</td>\n",
       "      <td>1002</td>\n",
       "      <td>6</td>\n",
       "      <td>4.0</td>\n",
       "      <td>117.0</td>\n",
       "      <td>10871.0</td>\n",
       "    </tr>\n",
       "    <tr>\n",
       "      <td>1</td>\n",
       "      <td>smart</td>\n",
       "      <td>1002</td>\n",
       "      <td>7</td>\n",
       "      <td>11.0</td>\n",
       "      <td>214.0</td>\n",
       "      <td>17601.0</td>\n",
       "    </tr>\n",
       "    <tr>\n",
       "      <td>2</td>\n",
       "      <td>smart</td>\n",
       "      <td>1002</td>\n",
       "      <td>8</td>\n",
       "      <td>13.0</td>\n",
       "      <td>289.0</td>\n",
       "      <td>20347.0</td>\n",
       "    </tr>\n",
       "    <tr>\n",
       "      <td>3</td>\n",
       "      <td>smart</td>\n",
       "      <td>1002</td>\n",
       "      <td>9</td>\n",
       "      <td>4.0</td>\n",
       "      <td>206.0</td>\n",
       "      <td>16712.0</td>\n",
       "    </tr>\n",
       "    <tr>\n",
       "      <td>4</td>\n",
       "      <td>smart</td>\n",
       "      <td>1002</td>\n",
       "      <td>10</td>\n",
       "      <td>10.0</td>\n",
       "      <td>212.0</td>\n",
       "      <td>13905.0</td>\n",
       "    </tr>\n",
       "  </tbody>\n",
       "</table>\n",
       "</div>"
      ],
      "text/plain": [
       "  tariff  user_id  month  messages_count  duration_sum  mb_used_sum\n",
       "0  smart     1002      6             4.0         117.0      10871.0\n",
       "1  smart     1002      7            11.0         214.0      17601.0\n",
       "2  smart     1002      8            13.0         289.0      20347.0\n",
       "3  smart     1002      9             4.0         206.0      16712.0\n",
       "4  smart     1002     10            10.0         212.0      13905.0"
      ]
     },
     "execution_count": 27,
     "metadata": {},
     "output_type": "execute_result"
    }
   ],
   "source": [
    "users_smart = combined_data.loc[combined_data.loc[:,'tariff'] == 'smart'].reset_index(drop=True)\n",
    "#создадим новую таблицу с пользователями тарифа smart, заменяем старые индексы на новые\n",
    "users_smart.head() #выведем первые 5 строк таблицы"
   ]
  },
  {
   "cell_type": "markdown",
   "metadata": {},
   "source": [
    "#### Добавим в таблицы users_ultra и users_smart столбцы с данными о превышении лимитов по тарифу\n",
    "\n",
    "messages_overrun - превышение кол-ва сообщений по тарифу  \n",
    "call_sum_overrun - превышение по суммарному времени звонков  \n",
    "mb_overrun - превышение по объему интернет-трафика по тарифу  \n",
    "\n",
    "Из данных по сообщениям, звонкам и интернет-трафику вычтем бесплатный лимит, а остаток запишем в новые столбецы: messages_overrun, call_sum_overrun и mb_overrun - это будет превышение по лимиту."
   ]
  },
  {
   "cell_type": "markdown",
   "metadata": {},
   "source": [
    "**1) для таблицы users_ultra:**"
   ]
  },
  {
   "cell_type": "code",
   "execution_count": 28,
   "metadata": {},
   "outputs": [],
   "source": [
    "def function1(users_ultra): #создадим функцию, которая будет присваивать результат, в зависимости от кол-ва сообщений\n",
    "    if users_ultra['messages_count'] > 1000.0:\n",
    "        result1 = users_ultra['messages_count'] - 1000\n",
    "        return result1\n",
    "    else:\n",
    "        return 0\n",
    "\n",
    "users_ultra['messages_overrun'] = users_ultra.apply(function1, axis = 1)\n",
    "#создаем новый столбец со значениями из функции"
   ]
  },
  {
   "cell_type": "code",
   "execution_count": 29,
   "metadata": {},
   "outputs": [],
   "source": [
    "def function2(users_ultra): #создадим функцию, которая будет присваивать результат, в зависимости суммы звонков\n",
    "    if users_ultra['duration_sum'] > 3000.0:\n",
    "        result2 = users_ultra['duration_sum'] - 3000\n",
    "        return result2\n",
    "    else:\n",
    "        return 0\n",
    "    \n",
    "users_ultra['call_sum_overrun'] = users_ultra.apply(function2, axis = 1)\n",
    "#создаем новый столбец со значениями из функции"
   ]
  },
  {
   "cell_type": "code",
   "execution_count": 30,
   "metadata": {
    "scrolled": true
   },
   "outputs": [],
   "source": [
    "def function3(users_ultra): #создадим функцию, которая будет присваивать результат, в зависимости суммы интернет-трафика\n",
    "    if users_ultra['mb_used_sum'] > 30720.0:\n",
    "        result3 = users_ultra['mb_overrun'] = users_ultra['mb_used_sum'] - 30720\n",
    "        return result3\n",
    "    else:\n",
    "        return 0\n",
    "\n",
    "users_ultra['mb_overrun'] = users_ultra.apply(function3, axis = 1)\n",
    "#создаем новый столбец со значениями из функции"
   ]
  },
  {
   "cell_type": "markdown",
   "metadata": {},
   "source": [
    "Переведем значения столбца mb_overrun в гигабайты и округлим значения."
   ]
  },
  {
   "cell_type": "code",
   "execution_count": 31,
   "metadata": {},
   "outputs": [],
   "source": [
    "users_ultra['mb_overrun'] = users_ultra['mb_overrun'] / 1024 #переводим мегабайты в гигабайты (1024 Мб = 1Гб)"
   ]
  },
  {
   "cell_type": "code",
   "execution_count": 32,
   "metadata": {},
   "outputs": [],
   "source": [
    "users_ultra['mb_overrun'] = np.ceil(users_ultra['mb_overrun']) #округляем значения до целого гигабайта"
   ]
  },
  {
   "cell_type": "code",
   "execution_count": 33,
   "metadata": {},
   "outputs": [
    {
     "data": {
      "text/html": [
       "<div>\n",
       "<style scoped>\n",
       "    .dataframe tbody tr th:only-of-type {\n",
       "        vertical-align: middle;\n",
       "    }\n",
       "\n",
       "    .dataframe tbody tr th {\n",
       "        vertical-align: top;\n",
       "    }\n",
       "\n",
       "    .dataframe thead th {\n",
       "        text-align: right;\n",
       "    }\n",
       "</style>\n",
       "<table border=\"1\" class=\"dataframe\">\n",
       "  <thead>\n",
       "    <tr style=\"text-align: right;\">\n",
       "      <th></th>\n",
       "      <th>tariff</th>\n",
       "      <th>user_id</th>\n",
       "      <th>month</th>\n",
       "      <th>messages_count</th>\n",
       "      <th>duration_sum</th>\n",
       "      <th>mb_used_sum</th>\n",
       "      <th>messages_overrun</th>\n",
       "      <th>call_sum_overrun</th>\n",
       "      <th>mb_overrun</th>\n",
       "    </tr>\n",
       "  </thead>\n",
       "  <tbody>\n",
       "    <tr>\n",
       "      <td>0</td>\n",
       "      <td>ultra</td>\n",
       "      <td>1000</td>\n",
       "      <td>5</td>\n",
       "      <td>22.0</td>\n",
       "      <td>159.0</td>\n",
       "      <td>2256.0</td>\n",
       "      <td>0</td>\n",
       "      <td>0</td>\n",
       "      <td>0.0</td>\n",
       "    </tr>\n",
       "    <tr>\n",
       "      <td>1</td>\n",
       "      <td>ultra</td>\n",
       "      <td>1000</td>\n",
       "      <td>6</td>\n",
       "      <td>60.0</td>\n",
       "      <td>172.0</td>\n",
       "      <td>23257.0</td>\n",
       "      <td>0</td>\n",
       "      <td>0</td>\n",
       "      <td>0.0</td>\n",
       "    </tr>\n",
       "    <tr>\n",
       "      <td>2</td>\n",
       "      <td>ultra</td>\n",
       "      <td>1000</td>\n",
       "      <td>7</td>\n",
       "      <td>75.0</td>\n",
       "      <td>340.0</td>\n",
       "      <td>14016.0</td>\n",
       "      <td>0</td>\n",
       "      <td>0</td>\n",
       "      <td>0.0</td>\n",
       "    </tr>\n",
       "    <tr>\n",
       "      <td>3</td>\n",
       "      <td>ultra</td>\n",
       "      <td>1000</td>\n",
       "      <td>8</td>\n",
       "      <td>81.0</td>\n",
       "      <td>408.0</td>\n",
       "      <td>14070.0</td>\n",
       "      <td>0</td>\n",
       "      <td>0</td>\n",
       "      <td>0.0</td>\n",
       "    </tr>\n",
       "    <tr>\n",
       "      <td>4</td>\n",
       "      <td>ultra</td>\n",
       "      <td>1000</td>\n",
       "      <td>9</td>\n",
       "      <td>57.0</td>\n",
       "      <td>466.0</td>\n",
       "      <td>14581.0</td>\n",
       "      <td>0</td>\n",
       "      <td>0</td>\n",
       "      <td>0.0</td>\n",
       "    </tr>\n",
       "  </tbody>\n",
       "</table>\n",
       "</div>"
      ],
      "text/plain": [
       "  tariff  user_id  month  messages_count  duration_sum  mb_used_sum  \\\n",
       "0  ultra     1000      5            22.0         159.0       2256.0   \n",
       "1  ultra     1000      6            60.0         172.0      23257.0   \n",
       "2  ultra     1000      7            75.0         340.0      14016.0   \n",
       "3  ultra     1000      8            81.0         408.0      14070.0   \n",
       "4  ultra     1000      9            57.0         466.0      14581.0   \n",
       "\n",
       "   messages_overrun  call_sum_overrun  mb_overrun  \n",
       "0                 0                 0         0.0  \n",
       "1                 0                 0         0.0  \n",
       "2                 0                 0         0.0  \n",
       "3                 0                 0         0.0  \n",
       "4                 0                 0         0.0  "
      ]
     },
     "execution_count": 33,
     "metadata": {},
     "output_type": "execute_result"
    }
   ],
   "source": [
    "users_ultra.head() #выведем первые 5 строк таблицы"
   ]
  },
  {
   "cell_type": "markdown",
   "metadata": {},
   "source": [
    "**2) для таблицы users_smart**"
   ]
  },
  {
   "cell_type": "code",
   "execution_count": 34,
   "metadata": {},
   "outputs": [],
   "source": [
    "def function1(users_smart): #создадим функцию, которая будет присваивать результат, в зависимости от кол-ва сообщений\n",
    "    if users_smart['messages_count'] > 50.0:\n",
    "        result1 = users_smart['messages_count'] - 50\n",
    "        return result1\n",
    "    else:\n",
    "        return 0\n",
    "\n",
    "users_smart['messages_overrun'] = users_smart.apply(function1, axis = 1)\n",
    "#создаем новый столбец со значениями из функции"
   ]
  },
  {
   "cell_type": "code",
   "execution_count": 35,
   "metadata": {},
   "outputs": [],
   "source": [
    "def function2(users_smart): #создадим функцию, которая будет присваивать результат, в зависимости суммы звонков\n",
    "    if users_smart['duration_sum'] > 500.0:\n",
    "        result2 = users_smart['duration_sum'] - 500\n",
    "        return result2\n",
    "    else:\n",
    "        return 0\n",
    "    \n",
    "users_smart['call_sum_overrun'] = users_smart.apply(function2, axis = 1)\n",
    "#создаем новый столбец со значениями из функции"
   ]
  },
  {
   "cell_type": "code",
   "execution_count": 36,
   "metadata": {},
   "outputs": [],
   "source": [
    "def function3(users_smart): #создадим функцию, которая будет присваивать результат, в зависимости суммы интернет-трафика\n",
    "    if users_smart['mb_used_sum'] > 15360.0:\n",
    "        result3 = users_smart['mb_overrun'] = users_smart['mb_used_sum'] - 15360\n",
    "        return result3\n",
    "    else:\n",
    "        return 0\n",
    "\n",
    "users_smart['mb_overrun'] = users_smart.apply(function3, axis = 1)\n",
    "#создаем новый столбец со значениями из функции"
   ]
  },
  {
   "cell_type": "markdown",
   "metadata": {},
   "source": [
    "Переведем значения столбца mb_overrun в гигабайты и округлим значения."
   ]
  },
  {
   "cell_type": "code",
   "execution_count": 37,
   "metadata": {},
   "outputs": [],
   "source": [
    "users_smart['mb_overrun'] = users_smart['mb_overrun'] / 1024 #переводим мегабайты в гигабайты (1024 Мб = 1Гб)"
   ]
  },
  {
   "cell_type": "code",
   "execution_count": 38,
   "metadata": {},
   "outputs": [],
   "source": [
    "users_smart['mb_overrun'] = np.ceil(users_smart['mb_overrun']) #округляем значения до целого гигабайта"
   ]
  },
  {
   "cell_type": "code",
   "execution_count": 39,
   "metadata": {
    "scrolled": true
   },
   "outputs": [
    {
     "data": {
      "text/html": [
       "<div>\n",
       "<style scoped>\n",
       "    .dataframe tbody tr th:only-of-type {\n",
       "        vertical-align: middle;\n",
       "    }\n",
       "\n",
       "    .dataframe tbody tr th {\n",
       "        vertical-align: top;\n",
       "    }\n",
       "\n",
       "    .dataframe thead th {\n",
       "        text-align: right;\n",
       "    }\n",
       "</style>\n",
       "<table border=\"1\" class=\"dataframe\">\n",
       "  <thead>\n",
       "    <tr style=\"text-align: right;\">\n",
       "      <th></th>\n",
       "      <th>tariff</th>\n",
       "      <th>user_id</th>\n",
       "      <th>month</th>\n",
       "      <th>messages_count</th>\n",
       "      <th>duration_sum</th>\n",
       "      <th>mb_used_sum</th>\n",
       "      <th>messages_overrun</th>\n",
       "      <th>call_sum_overrun</th>\n",
       "      <th>mb_overrun</th>\n",
       "    </tr>\n",
       "  </thead>\n",
       "  <tbody>\n",
       "    <tr>\n",
       "      <td>0</td>\n",
       "      <td>smart</td>\n",
       "      <td>1002</td>\n",
       "      <td>6</td>\n",
       "      <td>4.0</td>\n",
       "      <td>117.0</td>\n",
       "      <td>10871.0</td>\n",
       "      <td>0.0</td>\n",
       "      <td>0.0</td>\n",
       "      <td>0.0</td>\n",
       "    </tr>\n",
       "    <tr>\n",
       "      <td>1</td>\n",
       "      <td>smart</td>\n",
       "      <td>1002</td>\n",
       "      <td>7</td>\n",
       "      <td>11.0</td>\n",
       "      <td>214.0</td>\n",
       "      <td>17601.0</td>\n",
       "      <td>0.0</td>\n",
       "      <td>0.0</td>\n",
       "      <td>3.0</td>\n",
       "    </tr>\n",
       "    <tr>\n",
       "      <td>2</td>\n",
       "      <td>smart</td>\n",
       "      <td>1002</td>\n",
       "      <td>8</td>\n",
       "      <td>13.0</td>\n",
       "      <td>289.0</td>\n",
       "      <td>20347.0</td>\n",
       "      <td>0.0</td>\n",
       "      <td>0.0</td>\n",
       "      <td>5.0</td>\n",
       "    </tr>\n",
       "    <tr>\n",
       "      <td>3</td>\n",
       "      <td>smart</td>\n",
       "      <td>1002</td>\n",
       "      <td>9</td>\n",
       "      <td>4.0</td>\n",
       "      <td>206.0</td>\n",
       "      <td>16712.0</td>\n",
       "      <td>0.0</td>\n",
       "      <td>0.0</td>\n",
       "      <td>2.0</td>\n",
       "    </tr>\n",
       "    <tr>\n",
       "      <td>4</td>\n",
       "      <td>smart</td>\n",
       "      <td>1002</td>\n",
       "      <td>10</td>\n",
       "      <td>10.0</td>\n",
       "      <td>212.0</td>\n",
       "      <td>13905.0</td>\n",
       "      <td>0.0</td>\n",
       "      <td>0.0</td>\n",
       "      <td>0.0</td>\n",
       "    </tr>\n",
       "  </tbody>\n",
       "</table>\n",
       "</div>"
      ],
      "text/plain": [
       "  tariff  user_id  month  messages_count  duration_sum  mb_used_sum  \\\n",
       "0  smart     1002      6             4.0         117.0      10871.0   \n",
       "1  smart     1002      7            11.0         214.0      17601.0   \n",
       "2  smart     1002      8            13.0         289.0      20347.0   \n",
       "3  smart     1002      9             4.0         206.0      16712.0   \n",
       "4  smart     1002     10            10.0         212.0      13905.0   \n",
       "\n",
       "   messages_overrun  call_sum_overrun  mb_overrun  \n",
       "0               0.0               0.0         0.0  \n",
       "1               0.0               0.0         3.0  \n",
       "2               0.0               0.0         5.0  \n",
       "3               0.0               0.0         2.0  \n",
       "4               0.0               0.0         0.0  "
      ]
     },
     "execution_count": 39,
     "metadata": {},
     "output_type": "execute_result"
    }
   ],
   "source": [
    "users_smart.head() #выведем первые 5 строк таблицы"
   ]
  },
  {
   "cell_type": "markdown",
   "metadata": {},
   "source": [
    "### Помесячная выручка с каждого пользователя   \n",
    "\n",
    "Рассчитаем помесячную выручку по каждому пользователю. Для этово возьмем данные по привышению лимитов и умножим их на значение из тарифного плана, прибавим абонентскую плату, соответствующую тарифному плану."
   ]
  },
  {
   "cell_type": "markdown",
   "metadata": {},
   "source": [
    "- **для тарифа \"Ультра\"**"
   ]
  },
  {
   "cell_type": "code",
   "execution_count": 40,
   "metadata": {},
   "outputs": [],
   "source": [
    "users_ultra['revenue'] =  (users_ultra['messages_overrun'] * 1\n",
    "                             + users_ultra['call_sum_overrun'] * 1\n",
    "                             + users_ultra['mb_overrun'] * 150 + 1950)"
   ]
  },
  {
   "cell_type": "code",
   "execution_count": 41,
   "metadata": {
    "scrolled": false
   },
   "outputs": [
    {
     "data": {
      "text/html": [
       "<div>\n",
       "<style scoped>\n",
       "    .dataframe tbody tr th:only-of-type {\n",
       "        vertical-align: middle;\n",
       "    }\n",
       "\n",
       "    .dataframe tbody tr th {\n",
       "        vertical-align: top;\n",
       "    }\n",
       "\n",
       "    .dataframe thead th {\n",
       "        text-align: right;\n",
       "    }\n",
       "</style>\n",
       "<table border=\"1\" class=\"dataframe\">\n",
       "  <thead>\n",
       "    <tr style=\"text-align: right;\">\n",
       "      <th></th>\n",
       "      <th>tariff</th>\n",
       "      <th>user_id</th>\n",
       "      <th>month</th>\n",
       "      <th>messages_count</th>\n",
       "      <th>duration_sum</th>\n",
       "      <th>mb_used_sum</th>\n",
       "      <th>messages_overrun</th>\n",
       "      <th>call_sum_overrun</th>\n",
       "      <th>mb_overrun</th>\n",
       "      <th>revenue</th>\n",
       "    </tr>\n",
       "  </thead>\n",
       "  <tbody>\n",
       "    <tr>\n",
       "      <td>0</td>\n",
       "      <td>ultra</td>\n",
       "      <td>1000</td>\n",
       "      <td>5</td>\n",
       "      <td>22.0</td>\n",
       "      <td>159.0</td>\n",
       "      <td>2256.0</td>\n",
       "      <td>0</td>\n",
       "      <td>0</td>\n",
       "      <td>0.0</td>\n",
       "      <td>1950.0</td>\n",
       "    </tr>\n",
       "    <tr>\n",
       "      <td>1</td>\n",
       "      <td>ultra</td>\n",
       "      <td>1000</td>\n",
       "      <td>6</td>\n",
       "      <td>60.0</td>\n",
       "      <td>172.0</td>\n",
       "      <td>23257.0</td>\n",
       "      <td>0</td>\n",
       "      <td>0</td>\n",
       "      <td>0.0</td>\n",
       "      <td>1950.0</td>\n",
       "    </tr>\n",
       "    <tr>\n",
       "      <td>2</td>\n",
       "      <td>ultra</td>\n",
       "      <td>1000</td>\n",
       "      <td>7</td>\n",
       "      <td>75.0</td>\n",
       "      <td>340.0</td>\n",
       "      <td>14016.0</td>\n",
       "      <td>0</td>\n",
       "      <td>0</td>\n",
       "      <td>0.0</td>\n",
       "      <td>1950.0</td>\n",
       "    </tr>\n",
       "    <tr>\n",
       "      <td>3</td>\n",
       "      <td>ultra</td>\n",
       "      <td>1000</td>\n",
       "      <td>8</td>\n",
       "      <td>81.0</td>\n",
       "      <td>408.0</td>\n",
       "      <td>14070.0</td>\n",
       "      <td>0</td>\n",
       "      <td>0</td>\n",
       "      <td>0.0</td>\n",
       "      <td>1950.0</td>\n",
       "    </tr>\n",
       "    <tr>\n",
       "      <td>4</td>\n",
       "      <td>ultra</td>\n",
       "      <td>1000</td>\n",
       "      <td>9</td>\n",
       "      <td>57.0</td>\n",
       "      <td>466.0</td>\n",
       "      <td>14581.0</td>\n",
       "      <td>0</td>\n",
       "      <td>0</td>\n",
       "      <td>0.0</td>\n",
       "      <td>1950.0</td>\n",
       "    </tr>\n",
       "    <tr>\n",
       "      <td>...</td>\n",
       "      <td>...</td>\n",
       "      <td>...</td>\n",
       "      <td>...</td>\n",
       "      <td>...</td>\n",
       "      <td>...</td>\n",
       "      <td>...</td>\n",
       "      <td>...</td>\n",
       "      <td>...</td>\n",
       "      <td>...</td>\n",
       "      <td>...</td>\n",
       "    </tr>\n",
       "    <tr>\n",
       "      <td>980</td>\n",
       "      <td>ultra</td>\n",
       "      <td>1469</td>\n",
       "      <td>9</td>\n",
       "      <td>NaN</td>\n",
       "      <td>763.0</td>\n",
       "      <td>33725.0</td>\n",
       "      <td>0</td>\n",
       "      <td>0</td>\n",
       "      <td>3.0</td>\n",
       "      <td>2400.0</td>\n",
       "    </tr>\n",
       "    <tr>\n",
       "      <td>981</td>\n",
       "      <td>ultra</td>\n",
       "      <td>1469</td>\n",
       "      <td>10</td>\n",
       "      <td>NaN</td>\n",
       "      <td>908.0</td>\n",
       "      <td>33416.0</td>\n",
       "      <td>0</td>\n",
       "      <td>0</td>\n",
       "      <td>3.0</td>\n",
       "      <td>2400.0</td>\n",
       "    </tr>\n",
       "    <tr>\n",
       "      <td>982</td>\n",
       "      <td>ultra</td>\n",
       "      <td>1469</td>\n",
       "      <td>11</td>\n",
       "      <td>NaN</td>\n",
       "      <td>795.0</td>\n",
       "      <td>35533.0</td>\n",
       "      <td>0</td>\n",
       "      <td>0</td>\n",
       "      <td>5.0</td>\n",
       "      <td>2700.0</td>\n",
       "    </tr>\n",
       "    <tr>\n",
       "      <td>983</td>\n",
       "      <td>ultra</td>\n",
       "      <td>1469</td>\n",
       "      <td>12</td>\n",
       "      <td>NaN</td>\n",
       "      <td>635.0</td>\n",
       "      <td>27786.0</td>\n",
       "      <td>0</td>\n",
       "      <td>0</td>\n",
       "      <td>0.0</td>\n",
       "      <td>1950.0</td>\n",
       "    </tr>\n",
       "    <tr>\n",
       "      <td>984</td>\n",
       "      <td>ultra</td>\n",
       "      <td>1476</td>\n",
       "      <td>4</td>\n",
       "      <td>NaN</td>\n",
       "      <td>NaN</td>\n",
       "      <td>531.0</td>\n",
       "      <td>0</td>\n",
       "      <td>0</td>\n",
       "      <td>0.0</td>\n",
       "      <td>1950.0</td>\n",
       "    </tr>\n",
       "  </tbody>\n",
       "</table>\n",
       "<p>985 rows × 10 columns</p>\n",
       "</div>"
      ],
      "text/plain": [
       "    tariff  user_id  month  messages_count  duration_sum  mb_used_sum  \\\n",
       "0    ultra     1000      5            22.0         159.0       2256.0   \n",
       "1    ultra     1000      6            60.0         172.0      23257.0   \n",
       "2    ultra     1000      7            75.0         340.0      14016.0   \n",
       "3    ultra     1000      8            81.0         408.0      14070.0   \n",
       "4    ultra     1000      9            57.0         466.0      14581.0   \n",
       "..     ...      ...    ...             ...           ...          ...   \n",
       "980  ultra     1469      9             NaN         763.0      33725.0   \n",
       "981  ultra     1469     10             NaN         908.0      33416.0   \n",
       "982  ultra     1469     11             NaN         795.0      35533.0   \n",
       "983  ultra     1469     12             NaN         635.0      27786.0   \n",
       "984  ultra     1476      4             NaN           NaN        531.0   \n",
       "\n",
       "     messages_overrun  call_sum_overrun  mb_overrun  revenue  \n",
       "0                   0                 0         0.0   1950.0  \n",
       "1                   0                 0         0.0   1950.0  \n",
       "2                   0                 0         0.0   1950.0  \n",
       "3                   0                 0         0.0   1950.0  \n",
       "4                   0                 0         0.0   1950.0  \n",
       "..                ...               ...         ...      ...  \n",
       "980                 0                 0         3.0   2400.0  \n",
       "981                 0                 0         3.0   2400.0  \n",
       "982                 0                 0         5.0   2700.0  \n",
       "983                 0                 0         0.0   1950.0  \n",
       "984                 0                 0         0.0   1950.0  \n",
       "\n",
       "[985 rows x 10 columns]"
      ]
     },
     "execution_count": 41,
     "metadata": {},
     "output_type": "execute_result"
    }
   ],
   "source": [
    "users_ultra #выводим таблицу"
   ]
  },
  {
   "cell_type": "markdown",
   "metadata": {},
   "source": [
    "- **для тарифа \"Смарт\"**"
   ]
  },
  {
   "cell_type": "code",
   "execution_count": 42,
   "metadata": {},
   "outputs": [],
   "source": [
    "users_smart['revenue'] =  (users_smart['messages_overrun'] * 3\n",
    "                             + users_smart['call_sum_overrun'] * 3\n",
    "                             + users_smart['mb_overrun'] * 200 + 550)"
   ]
  },
  {
   "cell_type": "code",
   "execution_count": 43,
   "metadata": {
    "scrolled": true
   },
   "outputs": [
    {
     "data": {
      "text/html": [
       "<div>\n",
       "<style scoped>\n",
       "    .dataframe tbody tr th:only-of-type {\n",
       "        vertical-align: middle;\n",
       "    }\n",
       "\n",
       "    .dataframe tbody tr th {\n",
       "        vertical-align: top;\n",
       "    }\n",
       "\n",
       "    .dataframe thead th {\n",
       "        text-align: right;\n",
       "    }\n",
       "</style>\n",
       "<table border=\"1\" class=\"dataframe\">\n",
       "  <thead>\n",
       "    <tr style=\"text-align: right;\">\n",
       "      <th></th>\n",
       "      <th>tariff</th>\n",
       "      <th>user_id</th>\n",
       "      <th>month</th>\n",
       "      <th>messages_count</th>\n",
       "      <th>duration_sum</th>\n",
       "      <th>mb_used_sum</th>\n",
       "      <th>messages_overrun</th>\n",
       "      <th>call_sum_overrun</th>\n",
       "      <th>mb_overrun</th>\n",
       "      <th>revenue</th>\n",
       "    </tr>\n",
       "  </thead>\n",
       "  <tbody>\n",
       "    <tr>\n",
       "      <td>0</td>\n",
       "      <td>smart</td>\n",
       "      <td>1002</td>\n",
       "      <td>6</td>\n",
       "      <td>4.0</td>\n",
       "      <td>117.0</td>\n",
       "      <td>10871.0</td>\n",
       "      <td>0.0</td>\n",
       "      <td>0.0</td>\n",
       "      <td>0.0</td>\n",
       "      <td>550.0</td>\n",
       "    </tr>\n",
       "    <tr>\n",
       "      <td>1</td>\n",
       "      <td>smart</td>\n",
       "      <td>1002</td>\n",
       "      <td>7</td>\n",
       "      <td>11.0</td>\n",
       "      <td>214.0</td>\n",
       "      <td>17601.0</td>\n",
       "      <td>0.0</td>\n",
       "      <td>0.0</td>\n",
       "      <td>3.0</td>\n",
       "      <td>1150.0</td>\n",
       "    </tr>\n",
       "    <tr>\n",
       "      <td>2</td>\n",
       "      <td>smart</td>\n",
       "      <td>1002</td>\n",
       "      <td>8</td>\n",
       "      <td>13.0</td>\n",
       "      <td>289.0</td>\n",
       "      <td>20347.0</td>\n",
       "      <td>0.0</td>\n",
       "      <td>0.0</td>\n",
       "      <td>5.0</td>\n",
       "      <td>1550.0</td>\n",
       "    </tr>\n",
       "    <tr>\n",
       "      <td>3</td>\n",
       "      <td>smart</td>\n",
       "      <td>1002</td>\n",
       "      <td>9</td>\n",
       "      <td>4.0</td>\n",
       "      <td>206.0</td>\n",
       "      <td>16712.0</td>\n",
       "      <td>0.0</td>\n",
       "      <td>0.0</td>\n",
       "      <td>2.0</td>\n",
       "      <td>950.0</td>\n",
       "    </tr>\n",
       "    <tr>\n",
       "      <td>4</td>\n",
       "      <td>smart</td>\n",
       "      <td>1002</td>\n",
       "      <td>10</td>\n",
       "      <td>10.0</td>\n",
       "      <td>212.0</td>\n",
       "      <td>13905.0</td>\n",
       "      <td>0.0</td>\n",
       "      <td>0.0</td>\n",
       "      <td>0.0</td>\n",
       "      <td>550.0</td>\n",
       "    </tr>\n",
       "    <tr>\n",
       "      <td>...</td>\n",
       "      <td>...</td>\n",
       "      <td>...</td>\n",
       "      <td>...</td>\n",
       "      <td>...</td>\n",
       "      <td>...</td>\n",
       "      <td>...</td>\n",
       "      <td>...</td>\n",
       "      <td>...</td>\n",
       "      <td>...</td>\n",
       "      <td>...</td>\n",
       "    </tr>\n",
       "    <tr>\n",
       "      <td>2224</td>\n",
       "      <td>smart</td>\n",
       "      <td>1494</td>\n",
       "      <td>8</td>\n",
       "      <td>NaN</td>\n",
       "      <td>262.0</td>\n",
       "      <td>6601.0</td>\n",
       "      <td>0.0</td>\n",
       "      <td>0.0</td>\n",
       "      <td>0.0</td>\n",
       "      <td>550.0</td>\n",
       "    </tr>\n",
       "    <tr>\n",
       "      <td>2225</td>\n",
       "      <td>smart</td>\n",
       "      <td>1494</td>\n",
       "      <td>9</td>\n",
       "      <td>NaN</td>\n",
       "      <td>501.0</td>\n",
       "      <td>16986.0</td>\n",
       "      <td>0.0</td>\n",
       "      <td>1.0</td>\n",
       "      <td>2.0</td>\n",
       "      <td>953.0</td>\n",
       "    </tr>\n",
       "    <tr>\n",
       "      <td>2226</td>\n",
       "      <td>smart</td>\n",
       "      <td>1494</td>\n",
       "      <td>10</td>\n",
       "      <td>NaN</td>\n",
       "      <td>354.0</td>\n",
       "      <td>17794.0</td>\n",
       "      <td>0.0</td>\n",
       "      <td>0.0</td>\n",
       "      <td>3.0</td>\n",
       "      <td>1150.0</td>\n",
       "    </tr>\n",
       "    <tr>\n",
       "      <td>2227</td>\n",
       "      <td>smart</td>\n",
       "      <td>1494</td>\n",
       "      <td>11</td>\n",
       "      <td>NaN</td>\n",
       "      <td>411.0</td>\n",
       "      <td>18076.0</td>\n",
       "      <td>0.0</td>\n",
       "      <td>0.0</td>\n",
       "      <td>3.0</td>\n",
       "      <td>1150.0</td>\n",
       "    </tr>\n",
       "    <tr>\n",
       "      <td>2228</td>\n",
       "      <td>smart</td>\n",
       "      <td>1494</td>\n",
       "      <td>12</td>\n",
       "      <td>NaN</td>\n",
       "      <td>418.0</td>\n",
       "      <td>17645.0</td>\n",
       "      <td>0.0</td>\n",
       "      <td>0.0</td>\n",
       "      <td>3.0</td>\n",
       "      <td>1150.0</td>\n",
       "    </tr>\n",
       "  </tbody>\n",
       "</table>\n",
       "<p>2229 rows × 10 columns</p>\n",
       "</div>"
      ],
      "text/plain": [
       "     tariff  user_id  month  messages_count  duration_sum  mb_used_sum  \\\n",
       "0     smart     1002      6             4.0         117.0      10871.0   \n",
       "1     smart     1002      7            11.0         214.0      17601.0   \n",
       "2     smart     1002      8            13.0         289.0      20347.0   \n",
       "3     smart     1002      9             4.0         206.0      16712.0   \n",
       "4     smart     1002     10            10.0         212.0      13905.0   \n",
       "...     ...      ...    ...             ...           ...          ...   \n",
       "2224  smart     1494      8             NaN         262.0       6601.0   \n",
       "2225  smart     1494      9             NaN         501.0      16986.0   \n",
       "2226  smart     1494     10             NaN         354.0      17794.0   \n",
       "2227  smart     1494     11             NaN         411.0      18076.0   \n",
       "2228  smart     1494     12             NaN         418.0      17645.0   \n",
       "\n",
       "      messages_overrun  call_sum_overrun  mb_overrun  revenue  \n",
       "0                  0.0               0.0         0.0    550.0  \n",
       "1                  0.0               0.0         3.0   1150.0  \n",
       "2                  0.0               0.0         5.0   1550.0  \n",
       "3                  0.0               0.0         2.0    950.0  \n",
       "4                  0.0               0.0         0.0    550.0  \n",
       "...                ...               ...         ...      ...  \n",
       "2224               0.0               0.0         0.0    550.0  \n",
       "2225               0.0               1.0         2.0    953.0  \n",
       "2226               0.0               0.0         3.0   1150.0  \n",
       "2227               0.0               0.0         3.0   1150.0  \n",
       "2228               0.0               0.0         3.0   1150.0  \n",
       "\n",
       "[2229 rows x 10 columns]"
      ]
     },
     "execution_count": 43,
     "metadata": {},
     "output_type": "execute_result"
    }
   ],
   "source": [
    "users_smart #выводим таблицу"
   ]
  },
  {
   "cell_type": "markdown",
   "metadata": {},
   "source": [
    "- Построим гистограмму по выручкам для тарифов \"Ультра\" и \"Смарт\", чтобы визуализировать распределение выручки."
   ]
  },
  {
   "cell_type": "code",
   "execution_count": 44,
   "metadata": {
    "scrolled": false
   },
   "outputs": [
    {
     "data": {
      "image/png": "[encoded data removed]",
      "text/plain": [
       "<Figure size 864x432 with 1 Axes>"
      ]
     },
     "metadata": {
      "needs_background": "light"
     },
     "output_type": "display_data"
    }
   ],
   "source": [
    "ax = users_ultra.plot(kind='hist', y='revenue',histtype='step', bins=25, label='revenue_ultra', figsize=(12,6))\n",
    "users_smart.plot(kind='hist', y='revenue',histtype='step', bins=25, label='revenue_smart', ax=ax, legend=True)\n",
    "#строим гистограммы по выручкам на одном графике\n",
    "plt.title('Выручки по тарифам \"Ультра\" и \"Смарт\"')\n",
    "plt.xlabel('Выручка, руб.');"
   ]
  },
  {
   "cell_type": "markdown",
   "metadata": {},
   "source": [
    "На гистограммах заметно выделяются столбцы со значениями, равными абонентской плате по обоим тарифам. Это значит, что большую часть выручки делает плата по тарифу. Пользователи платят за дополнительные минуты, сообщения и интернет не так часто, особенно на тарифе \"Ультра\". На тарифе \"Смарт\" пользователи чаще привышают лимиты по тарифу и вынуждены платить сверх абонентской платы. "
   ]
  },
  {
   "cell_type": "markdown",
   "metadata": {},
   "source": [
    "### Вывод  \n",
    "\n",
    "Подготовили данные для дальнейшего исследования:  \n",
    "\n",
    "- посчитали для каждого пользователя кол-во сообщений, кол-во звонков, сумму минут всех звонков и сумму интернет-трафика, сгруппировали полученные данные по месяцам и добавили в соответствующие таблицы;  \n",
    "- создали новую таблицу, в которой объединили данные из таблиц с предыдущими подсчетами;\n",
    "- разделили новую таблицу на две по тарифам \"Ультра\" и \"Смарт\";\n",
    "- посчитали для каждого тарифа помесячную выручку с каждого пользователя и добавили данные в таблицы;\n",
    "- посмотрели на распределение выручки по тарифам и определили, что основной доход приносит чистая плата по тарифу, а пользователи тарифа \"Смарт\" чаще платят за дополнительные услуги."
   ]
  },
  {
   "cell_type": "markdown",
   "metadata": {},
   "source": [
    "## Исследовательский анализ данных  \n",
    "\n",
    "Опишем поведение клиентов оператора, исходя из полученных данных.  \n",
    "Построим гистограммы по кол-ву сообщений, сумме звонков и интернет трафика по каждому тарифу.  \n",
    "Выведем числовые данные по столбцам messages_count, duration_sum и mb_used_sum."
   ]
  },
  {
   "cell_type": "markdown",
   "metadata": {},
   "source": [
    "#### Для тарифа «Ультра»\n"
   ]
  },
  {
   "cell_type": "markdown",
   "metadata": {},
   "source": [
    "- Построим гистограммы"
   ]
  },
  {
   "cell_type": "code",
   "execution_count": 45,
   "metadata": {
    "scrolled": false
   },
   "outputs": [
    {
     "data": {
      "text/plain": [
       "Text(0.5, 0, 'Количество интернет-трафика')"
      ]
     },
     "execution_count": 45,
     "metadata": {},
     "output_type": "execute_result"
    },
    {
     "data": {
      "image/png": "[encoded data removed]",
      "text/plain": [
       "<Figure size 432x288 with 1 Axes>"
      ]
     },
     "metadata": {
      "needs_background": "light"
     },
     "output_type": "display_data"
    },
    {
     "data": {
      "image/png": "[encoded data removed]",
      "text/plain": [
       "<Figure size 432x288 with 1 Axes>"
      ]
     },
     "metadata": {
      "needs_background": "light"
     },
     "output_type": "display_data"
    },
    {
     "data": {
      "image/png": "[encoded data removed]",
      "text/plain": [
       "<Figure size 432x288 with 1 Axes>"
      ]
     },
     "metadata": {
      "needs_background": "light"
     },
     "output_type": "display_data"
    }
   ],
   "source": [
    "users_ultra.hist('messages_count', bins=20) #для кол-ва сообщений\n",
    "plt.xlabel('Количество сообщений')\n",
    "\n",
    "users_ultra.hist('duration_sum', bins=20) #для суммы звонков\n",
    "plt.xlabel('Количество минут звонков')\n",
    "\n",
    "users_ultra.hist('mb_used_sum', bins=20); #для суммы интернет-трафика\n",
    "plt.xlabel('Количество интернет-трафика')\n"
   ]
  },
  {
   "cell_type": "markdown",
   "metadata": {},
   "source": [
    " - Выведем числовые данные по столбцам messages_count, duration_sum и mb_used_sum"
   ]
  },
  {
   "cell_type": "code",
   "execution_count": 46,
   "metadata": {
    "scrolled": false
   },
   "outputs": [
    {
     "data": {
      "text/html": [
       "<div>\n",
       "<style scoped>\n",
       "    .dataframe tbody tr th:only-of-type {\n",
       "        vertical-align: middle;\n",
       "    }\n",
       "\n",
       "    .dataframe tbody tr th {\n",
       "        vertical-align: top;\n",
       "    }\n",
       "\n",
       "    .dataframe thead th {\n",
       "        text-align: right;\n",
       "    }\n",
       "</style>\n",
       "<table border=\"1\" class=\"dataframe\">\n",
       "  <thead>\n",
       "    <tr style=\"text-align: right;\">\n",
       "      <th></th>\n",
       "      <th>messages_count</th>\n",
       "      <th>duration_sum</th>\n",
       "      <th>mb_used_sum</th>\n",
       "    </tr>\n",
       "  </thead>\n",
       "  <tbody>\n",
       "    <tr>\n",
       "      <td>count</td>\n",
       "      <td>795.0</td>\n",
       "      <td>951.0</td>\n",
       "      <td>975.0</td>\n",
       "    </tr>\n",
       "    <tr>\n",
       "      <td>mean</td>\n",
       "      <td>61.0</td>\n",
       "      <td>545.0</td>\n",
       "      <td>19687.0</td>\n",
       "    </tr>\n",
       "    <tr>\n",
       "      <td>std</td>\n",
       "      <td>46.0</td>\n",
       "      <td>307.0</td>\n",
       "      <td>9952.0</td>\n",
       "    </tr>\n",
       "    <tr>\n",
       "      <td>min</td>\n",
       "      <td>1.0</td>\n",
       "      <td>0.0</td>\n",
       "      <td>0.0</td>\n",
       "    </tr>\n",
       "    <tr>\n",
       "      <td>25%</td>\n",
       "      <td>24.0</td>\n",
       "      <td>310.0</td>\n",
       "      <td>12020.0</td>\n",
       "    </tr>\n",
       "    <tr>\n",
       "      <td>50%</td>\n",
       "      <td>51.0</td>\n",
       "      <td>528.0</td>\n",
       "      <td>19411.0</td>\n",
       "    </tr>\n",
       "    <tr>\n",
       "      <td>75%</td>\n",
       "      <td>88.0</td>\n",
       "      <td>756.0</td>\n",
       "      <td>26920.0</td>\n",
       "    </tr>\n",
       "    <tr>\n",
       "      <td>max</td>\n",
       "      <td>224.0</td>\n",
       "      <td>1673.0</td>\n",
       "      <td>49789.0</td>\n",
       "    </tr>\n",
       "  </tbody>\n",
       "</table>\n",
       "</div>"
      ],
      "text/plain": [
       "       messages_count  duration_sum  mb_used_sum\n",
       "count           795.0         951.0        975.0\n",
       "mean             61.0         545.0      19687.0\n",
       "std              46.0         307.0       9952.0\n",
       "min               1.0           0.0          0.0\n",
       "25%              24.0         310.0      12020.0\n",
       "50%              51.0         528.0      19411.0\n",
       "75%              88.0         756.0      26920.0\n",
       "max             224.0        1673.0      49789.0"
      ]
     },
     "execution_count": 46,
     "metadata": {},
     "output_type": "execute_result"
    }
   ],
   "source": [
    "users_ultra[['messages_count', 'duration_sum', 'mb_used_sum']].describe().round()\n",
    "#выведем основные характеристики по услугам на экран"
   ]
  },
  {
   "cell_type": "markdown",
   "metadata": {},
   "source": [
    "- Найдем дисперсию messages_count, duration_sum и mb_used_sum"
   ]
  },
  {
   "cell_type": "code",
   "execution_count": 47,
   "metadata": {},
   "outputs": [
    {
     "data": {
      "text/plain": [
       "messages_count        2107.0\n",
       "duration_sum         94104.0\n",
       "mb_used_sum       98941857.0\n",
       "dtype: float64"
      ]
     },
     "execution_count": 47,
     "metadata": {},
     "output_type": "execute_result"
    }
   ],
   "source": [
    "variance = np.var(users_ultra[['messages_count', 'duration_sum', 'mb_used_sum']]).round()\n",
    "variance\n",
    "#найдем дисперсию по каждой услуге и выведем на экран"
   ]
  },
  {
   "cell_type": "markdown",
   "metadata": {},
   "source": [
    "Из гистограмм и основных характеристик по данным тарифа \"Ультра\" можно понять, что:  \n",
    "1) гистограммы сообщений и звонков скошены влево, что говорит, о малом использовании этих услуг в данном тарифе;  \n",
    "2) пользователи  отправляют мало сообщений, среднее и медиана этих значений близки и составляют примерно 55 сообщений в месяц, даже max не привышает 250 сообщений, т. е. все абоненты укладываются в тариф;  \n",
    "3) сумма звонков также не привышает 1700 минут, в среднем пользователи тратят 600 минут на звонки, и всегда укладываются в тариф;  \n",
    "4) большая часть абонентов использует интернет-трафик в рамках тарифа, но около 20% пользователей превышают лимиты и платят за дополнительный интернет.  "
   ]
  },
  {
   "cell_type": "markdown",
   "metadata": {},
   "source": [
    "#### Для тарифа «Смарт»  "
   ]
  },
  {
   "cell_type": "markdown",
   "metadata": {},
   "source": [
    "- Построим гистограммы"
   ]
  },
  {
   "cell_type": "code",
   "execution_count": 48,
   "metadata": {
    "scrolled": true
   },
   "outputs": [
    {
     "data": {
      "text/plain": [
       "Text(0.5, 0, 'Количество интернет-трафика')"
      ]
     },
     "execution_count": 48,
     "metadata": {},
     "output_type": "execute_result"
    },
    {
     "data": {
      "image/png": "[encoded data removed]",
      "text/plain": [
       "<Figure size 432x288 with 1 Axes>"
      ]
     },
     "metadata": {
      "needs_background": "light"
     },
     "output_type": "display_data"
    },
    {
     "data": {
      "image/png": "[encoded data removed]",
      "text/plain": [
       "<Figure size 432x288 with 1 Axes>"
      ]
     },
     "metadata": {
      "needs_background": "light"
     },
     "output_type": "display_data"
    },
    {
     "data": {
      "image/png": "[encoded data removed]",
      "text/plain": [
       "<Figure size 432x288 with 1 Axes>"
      ]
     },
     "metadata": {
      "needs_background": "light"
     },
     "output_type": "display_data"
    }
   ],
   "source": [
    "users_smart.hist('messages_count', bins=20) #для кол-ва сообщений\n",
    "plt.xlabel('Количество сообщений')\n",
    "\n",
    "users_smart.hist('duration_sum', bins=20) #для суммы звонков\n",
    "plt.xlabel('Количество минут звонков')\n",
    "\n",
    "users_smart.hist('mb_used_sum', bins=20); #для суммы интернет-трафика\n",
    "plt.xlabel('Количество интернет-трафика')"
   ]
  },
  {
   "cell_type": "markdown",
   "metadata": {},
   "source": [
    "- Выведем числовые данные по столбцам messages_count, duration_sum и mb_used_sum"
   ]
  },
  {
   "cell_type": "code",
   "execution_count": 49,
   "metadata": {
    "scrolled": false
   },
   "outputs": [
    {
     "data": {
      "text/html": [
       "<div>\n",
       "<style scoped>\n",
       "    .dataframe tbody tr th:only-of-type {\n",
       "        vertical-align: middle;\n",
       "    }\n",
       "\n",
       "    .dataframe tbody tr th {\n",
       "        vertical-align: top;\n",
       "    }\n",
       "\n",
       "    .dataframe thead th {\n",
       "        text-align: right;\n",
       "    }\n",
       "</style>\n",
       "<table border=\"1\" class=\"dataframe\">\n",
       "  <thead>\n",
       "    <tr style=\"text-align: right;\">\n",
       "      <th></th>\n",
       "      <th>messages_count</th>\n",
       "      <th>duration_sum</th>\n",
       "      <th>mb_used_sum</th>\n",
       "    </tr>\n",
       "  </thead>\n",
       "  <tbody>\n",
       "    <tr>\n",
       "      <td>count</td>\n",
       "      <td>1922.0</td>\n",
       "      <td>2223.0</td>\n",
       "      <td>2228.0</td>\n",
       "    </tr>\n",
       "    <tr>\n",
       "      <td>mean</td>\n",
       "      <td>39.0</td>\n",
       "      <td>419.0</td>\n",
       "      <td>16236.0</td>\n",
       "    </tr>\n",
       "    <tr>\n",
       "      <td>std</td>\n",
       "      <td>27.0</td>\n",
       "      <td>189.0</td>\n",
       "      <td>5869.0</td>\n",
       "    </tr>\n",
       "    <tr>\n",
       "      <td>min</td>\n",
       "      <td>1.0</td>\n",
       "      <td>0.0</td>\n",
       "      <td>0.0</td>\n",
       "    </tr>\n",
       "    <tr>\n",
       "      <td>25%</td>\n",
       "      <td>17.0</td>\n",
       "      <td>285.0</td>\n",
       "      <td>12668.0</td>\n",
       "    </tr>\n",
       "    <tr>\n",
       "      <td>50%</td>\n",
       "      <td>34.0</td>\n",
       "      <td>423.0</td>\n",
       "      <td>16532.0</td>\n",
       "    </tr>\n",
       "    <tr>\n",
       "      <td>75%</td>\n",
       "      <td>55.0</td>\n",
       "      <td>546.0</td>\n",
       "      <td>20068.0</td>\n",
       "    </tr>\n",
       "    <tr>\n",
       "      <td>max</td>\n",
       "      <td>143.0</td>\n",
       "      <td>1435.0</td>\n",
       "      <td>38610.0</td>\n",
       "    </tr>\n",
       "  </tbody>\n",
       "</table>\n",
       "</div>"
      ],
      "text/plain": [
       "       messages_count  duration_sum  mb_used_sum\n",
       "count          1922.0        2223.0       2228.0\n",
       "mean             39.0         419.0      16236.0\n",
       "std              27.0         189.0       5869.0\n",
       "min               1.0           0.0          0.0\n",
       "25%              17.0         285.0      12668.0\n",
       "50%              34.0         423.0      16532.0\n",
       "75%              55.0         546.0      20068.0\n",
       "max             143.0        1435.0      38610.0"
      ]
     },
     "execution_count": 49,
     "metadata": {},
     "output_type": "execute_result"
    }
   ],
   "source": [
    "users_smart[['messages_count', 'duration_sum', 'mb_used_sum']].describe().round()\n",
    "#выведем основные характеристики по услугам на экран"
   ]
  },
  {
   "cell_type": "markdown",
   "metadata": {},
   "source": [
    "- Найдем дисперсию messages_count, duration_sum и mb_used_sum"
   ]
  },
  {
   "cell_type": "code",
   "execution_count": 50,
   "metadata": {
    "scrolled": true
   },
   "outputs": [
    {
     "data": {
      "text/plain": [
       "messages_count         717.0\n",
       "duration_sum         35828.0\n",
       "mb_used_sum       34427641.0\n",
       "dtype: float64"
      ]
     },
     "execution_count": 50,
     "metadata": {},
     "output_type": "execute_result"
    }
   ],
   "source": [
    "variance = np.var(users_smart[['messages_count', 'duration_sum', 'mb_used_sum']]).round()\n",
    "variance\n",
    "#найдем дисперсию по каждой услуге и выведем на экран"
   ]
  },
  {
   "cell_type": "markdown",
   "metadata": {},
   "source": [
    "Из гистограмм и основных характеристик по данным тарифа \"Смарт\" можно понять, что:  \n",
    "\n",
    "1) гистограмма сообщений сильно скошена влево, что говорит о преобладании малого кол-ва сообщений, гистограмма интернет-трафика близка к нормальному распеределению - в этом тарифе пользователи в большинстве случаев расходуют весь пакет интернета;  \n",
    "2) основная часть пользователей укладывается в тариф по кол-ву сообщений, среднее 39 сообщений, что близко к лимиту, около 25% абонентов платят за дополнительные сообщения вне тарифа;  \n",
    "3) по звонкам также привышены лимиты по тарифу почти в 30% случаев;  \n",
    "4) среднее по интернет-трафику немного превышает лимит по тарифу, что говорит о том, что больше 50% пользователей платят за дополнительный интернет.  "
   ]
  },
  {
   "cell_type": "markdown",
   "metadata": {},
   "source": [
    "### Вывод  \n",
    "\n",
    "В основном за дополнительные услуги переплачивают пользователи тарифа \"Смарт\", в большинстве случаев за интернет-трафик."
   ]
  },
  {
   "cell_type": "markdown",
   "metadata": {},
   "source": [
    "## Проверка гипотез"
   ]
  },
  {
   "cell_type": "markdown",
   "metadata": {},
   "source": [
    "####  Первая гипотеза  \n",
    "\n",
    "Для проверки гипотезы исследования, что средние выручки c пользователей тарифов «Ультра» и «Смарт» различаются, выдвенем новую нулевую гипотезу.\n",
    "\n",
    "**Нулевая гипотеза:** средние выручки c пользователей тарифов «Ультра» и «Смарт» равны.  \n",
    "**Альтернативная гипотеза:** средние выручки c пользователей тарифов «Ультра» и «Смарт» не равны."
   ]
  },
  {
   "cell_type": "markdown",
   "metadata": {},
   "source": [
    "**Проверка гипотезы:** посчитаем и сравним средние таблиц users_ultra и users_smart. Уровень статистической значимости зададим в 5%."
   ]
  },
  {
   "cell_type": "code",
   "execution_count": 51,
   "metadata": {},
   "outputs": [
    {
     "data": {
      "text/plain": [
       "2071.0"
      ]
     },
     "execution_count": 51,
     "metadata": {},
     "output_type": "execute_result"
    }
   ],
   "source": [
    "users_ultra['revenue'].mean().round() #находим среднее для выручки тарифа \"Ультра\""
   ]
  },
  {
   "cell_type": "code",
   "execution_count": 52,
   "metadata": {
    "scrolled": false
   },
   "outputs": [
    {
     "data": {
      "text/plain": [
       "1295.0"
      ]
     },
     "execution_count": 52,
     "metadata": {},
     "output_type": "execute_result"
    }
   ],
   "source": [
    "users_smart['revenue'].mean().round() #находим среднее для выручки тарифа \"Смарт\""
   ]
  },
  {
   "cell_type": "code",
   "execution_count": 53,
   "metadata": {},
   "outputs": [
    {
     "data": {
      "text/plain": [
       "37.489229870952414"
      ]
     },
     "execution_count": 53,
     "metadata": {},
     "output_type": "execute_result"
    }
   ],
   "source": [
    "#находим разницу между средними по выручке\n",
    "(users_ultra['revenue'].mean() - users_smart['revenue'].mean()) / users_ultra['revenue'].mean() *100 "
   ]
  },
  {
   "cell_type": "markdown",
   "metadata": {},
   "source": [
    "Из расчетов видно, что средние выручки не равны. "
   ]
  },
  {
   "cell_type": "markdown",
   "metadata": {},
   "source": [
    "Чтобы убедиться в правильности наших выводов проведем t-тест для двух независимых выборок по тарифам. Сравним выборки по размеру, если они разные, то указываем значение параметра equal_var как False."
   ]
  },
  {
   "cell_type": "code",
   "execution_count": 54,
   "metadata": {
    "scrolled": true
   },
   "outputs": [
    {
     "data": {
      "text/plain": [
       "2229"
      ]
     },
     "execution_count": 54,
     "metadata": {},
     "output_type": "execute_result"
    }
   ],
   "source": [
    "users_smart.shape[0] # выводим кол-во строк в таблице users_smart"
   ]
  },
  {
   "cell_type": "code",
   "execution_count": 55,
   "metadata": {},
   "outputs": [
    {
     "data": {
      "text/plain": [
       "985"
      ]
     },
     "execution_count": 55,
     "metadata": {},
     "output_type": "execute_result"
    }
   ],
   "source": [
    "users_ultra.shape[0] # выводим кол-во строк в таблице users_ultra"
   ]
  },
  {
   "cell_type": "code",
   "execution_count": 56,
   "metadata": {},
   "outputs": [
    {
     "data": {
      "text/plain": [
       "2.7240946993530856e-246"
      ]
     },
     "execution_count": 56,
     "metadata": {},
     "output_type": "execute_result"
    }
   ],
   "source": [
    "results = st.ttest_ind (users_ultra['revenue'], users_smart['revenue'], equal_var=False) # проводим т-тест\n",
    "results.pvalue"
   ]
  },
  {
   "cell_type": "markdown",
   "metadata": {},
   "source": [
    "Выручка по тарифу \"Ультра\" на 37% больше выручки по тарифу \"Смарт\", pvalue близкое к нулю. Полученные данные опровергают нулевую гипотезу, принимаем альтернативную гипотезую. Следовательно, раз выручки не равны - они различаются. Первая гипотеза исследования подтверждена."
   ]
  },
  {
   "cell_type": "markdown",
   "metadata": {},
   "source": [
    "####   Вторая гипотеза\n",
    "\n",
    "Для проверки гипотезы исследования, что средняя выручка с пользователей из Москвы отличается от выручки пользователей из других регионов, выдвенем новую нулевую гипотезу.\n",
    "\n",
    "**Нулевая гипотеза:** средняя выручка с пользователей из Москвы равна выручке с пользователей из других регионов.  \n",
    "**Альтернативная гипотеза:** средняя выручка с пользователей из Москвы не равна выручке с пользователей из других регионов."
   ]
  },
  {
   "cell_type": "markdown",
   "metadata": {},
   "source": [
    "- **для тарифа \"Ультра\"**"
   ]
  },
  {
   "cell_type": "markdown",
   "metadata": {},
   "source": [
    "Добавим в таблицу users_ultra города пользователей."
   ]
  },
  {
   "cell_type": "code",
   "execution_count": 57,
   "metadata": {
    "scrolled": false
   },
   "outputs": [
    {
     "data": {
      "text/html": [
       "<div>\n",
       "<style scoped>\n",
       "    .dataframe tbody tr th:only-of-type {\n",
       "        vertical-align: middle;\n",
       "    }\n",
       "\n",
       "    .dataframe tbody tr th {\n",
       "        vertical-align: top;\n",
       "    }\n",
       "\n",
       "    .dataframe thead th {\n",
       "        text-align: right;\n",
       "    }\n",
       "</style>\n",
       "<table border=\"1\" class=\"dataframe\">\n",
       "  <thead>\n",
       "    <tr style=\"text-align: right;\">\n",
       "      <th></th>\n",
       "      <th>tariff</th>\n",
       "      <th>user_id</th>\n",
       "      <th>month</th>\n",
       "      <th>messages_count</th>\n",
       "      <th>duration_sum</th>\n",
       "      <th>mb_used_sum</th>\n",
       "      <th>messages_overrun</th>\n",
       "      <th>call_sum_overrun</th>\n",
       "      <th>mb_overrun</th>\n",
       "      <th>revenue</th>\n",
       "      <th>city</th>\n",
       "    </tr>\n",
       "  </thead>\n",
       "  <tbody>\n",
       "    <tr>\n",
       "      <td>0</td>\n",
       "      <td>ultra</td>\n",
       "      <td>1000</td>\n",
       "      <td>5</td>\n",
       "      <td>22.0</td>\n",
       "      <td>159.0</td>\n",
       "      <td>2256.0</td>\n",
       "      <td>0</td>\n",
       "      <td>0</td>\n",
       "      <td>0.0</td>\n",
       "      <td>1950.0</td>\n",
       "      <td>Краснодар</td>\n",
       "    </tr>\n",
       "    <tr>\n",
       "      <td>1</td>\n",
       "      <td>ultra</td>\n",
       "      <td>1000</td>\n",
       "      <td>6</td>\n",
       "      <td>60.0</td>\n",
       "      <td>172.0</td>\n",
       "      <td>23257.0</td>\n",
       "      <td>0</td>\n",
       "      <td>0</td>\n",
       "      <td>0.0</td>\n",
       "      <td>1950.0</td>\n",
       "      <td>Краснодар</td>\n",
       "    </tr>\n",
       "    <tr>\n",
       "      <td>2</td>\n",
       "      <td>ultra</td>\n",
       "      <td>1000</td>\n",
       "      <td>7</td>\n",
       "      <td>75.0</td>\n",
       "      <td>340.0</td>\n",
       "      <td>14016.0</td>\n",
       "      <td>0</td>\n",
       "      <td>0</td>\n",
       "      <td>0.0</td>\n",
       "      <td>1950.0</td>\n",
       "      <td>Краснодар</td>\n",
       "    </tr>\n",
       "    <tr>\n",
       "      <td>3</td>\n",
       "      <td>ultra</td>\n",
       "      <td>1000</td>\n",
       "      <td>8</td>\n",
       "      <td>81.0</td>\n",
       "      <td>408.0</td>\n",
       "      <td>14070.0</td>\n",
       "      <td>0</td>\n",
       "      <td>0</td>\n",
       "      <td>0.0</td>\n",
       "      <td>1950.0</td>\n",
       "      <td>Краснодар</td>\n",
       "    </tr>\n",
       "    <tr>\n",
       "      <td>4</td>\n",
       "      <td>ultra</td>\n",
       "      <td>1000</td>\n",
       "      <td>9</td>\n",
       "      <td>57.0</td>\n",
       "      <td>466.0</td>\n",
       "      <td>14581.0</td>\n",
       "      <td>0</td>\n",
       "      <td>0</td>\n",
       "      <td>0.0</td>\n",
       "      <td>1950.0</td>\n",
       "      <td>Краснодар</td>\n",
       "    </tr>\n",
       "    <tr>\n",
       "      <td>...</td>\n",
       "      <td>...</td>\n",
       "      <td>...</td>\n",
       "      <td>...</td>\n",
       "      <td>...</td>\n",
       "      <td>...</td>\n",
       "      <td>...</td>\n",
       "      <td>...</td>\n",
       "      <td>...</td>\n",
       "      <td>...</td>\n",
       "      <td>...</td>\n",
       "      <td>...</td>\n",
       "    </tr>\n",
       "    <tr>\n",
       "      <td>980</td>\n",
       "      <td>ultra</td>\n",
       "      <td>1469</td>\n",
       "      <td>8</td>\n",
       "      <td>NaN</td>\n",
       "      <td>779.0</td>\n",
       "      <td>33068.0</td>\n",
       "      <td>0</td>\n",
       "      <td>0</td>\n",
       "      <td>3.0</td>\n",
       "      <td>2400.0</td>\n",
       "      <td>Сочи</td>\n",
       "    </tr>\n",
       "    <tr>\n",
       "      <td>981</td>\n",
       "      <td>ultra</td>\n",
       "      <td>1469</td>\n",
       "      <td>9</td>\n",
       "      <td>NaN</td>\n",
       "      <td>763.0</td>\n",
       "      <td>33725.0</td>\n",
       "      <td>0</td>\n",
       "      <td>0</td>\n",
       "      <td>3.0</td>\n",
       "      <td>2400.0</td>\n",
       "      <td>Сочи</td>\n",
       "    </tr>\n",
       "    <tr>\n",
       "      <td>982</td>\n",
       "      <td>ultra</td>\n",
       "      <td>1469</td>\n",
       "      <td>10</td>\n",
       "      <td>NaN</td>\n",
       "      <td>908.0</td>\n",
       "      <td>33416.0</td>\n",
       "      <td>0</td>\n",
       "      <td>0</td>\n",
       "      <td>3.0</td>\n",
       "      <td>2400.0</td>\n",
       "      <td>Сочи</td>\n",
       "    </tr>\n",
       "    <tr>\n",
       "      <td>983</td>\n",
       "      <td>ultra</td>\n",
       "      <td>1469</td>\n",
       "      <td>11</td>\n",
       "      <td>NaN</td>\n",
       "      <td>795.0</td>\n",
       "      <td>35533.0</td>\n",
       "      <td>0</td>\n",
       "      <td>0</td>\n",
       "      <td>5.0</td>\n",
       "      <td>2700.0</td>\n",
       "      <td>Сочи</td>\n",
       "    </tr>\n",
       "    <tr>\n",
       "      <td>984</td>\n",
       "      <td>ultra</td>\n",
       "      <td>1469</td>\n",
       "      <td>12</td>\n",
       "      <td>NaN</td>\n",
       "      <td>635.0</td>\n",
       "      <td>27786.0</td>\n",
       "      <td>0</td>\n",
       "      <td>0</td>\n",
       "      <td>0.0</td>\n",
       "      <td>1950.0</td>\n",
       "      <td>Сочи</td>\n",
       "    </tr>\n",
       "  </tbody>\n",
       "</table>\n",
       "<p>985 rows × 11 columns</p>\n",
       "</div>"
      ],
      "text/plain": [
       "    tariff  user_id  month  messages_count  duration_sum  mb_used_sum  \\\n",
       "0    ultra     1000      5            22.0         159.0       2256.0   \n",
       "1    ultra     1000      6            60.0         172.0      23257.0   \n",
       "2    ultra     1000      7            75.0         340.0      14016.0   \n",
       "3    ultra     1000      8            81.0         408.0      14070.0   \n",
       "4    ultra     1000      9            57.0         466.0      14581.0   \n",
       "..     ...      ...    ...             ...           ...          ...   \n",
       "980  ultra     1469      8             NaN         779.0      33068.0   \n",
       "981  ultra     1469      9             NaN         763.0      33725.0   \n",
       "982  ultra     1469     10             NaN         908.0      33416.0   \n",
       "983  ultra     1469     11             NaN         795.0      35533.0   \n",
       "984  ultra     1469     12             NaN         635.0      27786.0   \n",
       "\n",
       "     messages_overrun  call_sum_overrun  mb_overrun  revenue       city  \n",
       "0                   0                 0         0.0   1950.0  Краснодар  \n",
       "1                   0                 0         0.0   1950.0  Краснодар  \n",
       "2                   0                 0         0.0   1950.0  Краснодар  \n",
       "3                   0                 0         0.0   1950.0  Краснодар  \n",
       "4                   0                 0         0.0   1950.0  Краснодар  \n",
       "..                ...               ...         ...      ...        ...  \n",
       "980                 0                 0         3.0   2400.0       Сочи  \n",
       "981                 0                 0         3.0   2400.0       Сочи  \n",
       "982                 0                 0         3.0   2400.0       Сочи  \n",
       "983                 0                 0         5.0   2700.0       Сочи  \n",
       "984                 0                 0         0.0   1950.0       Сочи  \n",
       "\n",
       "[985 rows x 11 columns]"
      ]
     },
     "execution_count": 57,
     "metadata": {},
     "output_type": "execute_result"
    }
   ],
   "source": [
    "users_ultra_city = users_ultra.merge(users[['user_id', 'city']], on='user_id')\n",
    "#создадим новую таблицу, в которую добавим  столбец city из таблицы users\n",
    "users_ultra_city #выведем таблицу на экран"
   ]
  },
  {
   "cell_type": "markdown",
   "metadata": {},
   "source": [
    "Посчитаем среднюю выручку по таблице users_ultra_city."
   ]
  },
  {
   "cell_type": "code",
   "execution_count": 58,
   "metadata": {},
   "outputs": [
    {
     "data": {
      "text/plain": [
       "revenue    2075.0\n",
       "dtype: float64"
      ]
     },
     "execution_count": 58,
     "metadata": {},
     "output_type": "execute_result"
    }
   ],
   "source": [
    "#сохраняем в переменную строки с городом москва\n",
    "moscow_ultra = users_ultra_city.loc[users_ultra_city.loc[:, 'city'] == 'Москва']\n",
    "#находим среднюю выручку\n",
    "moscow_ultra.agg({'revenue': 'mean'}).round()"
   ]
  },
  {
   "cell_type": "code",
   "execution_count": 59,
   "metadata": {
    "scrolled": true
   },
   "outputs": [
    {
     "data": {
      "text/plain": [
       "revenue    2070.0\n",
       "dtype: float64"
      ]
     },
     "execution_count": 59,
     "metadata": {},
     "output_type": "execute_result"
    }
   ],
   "source": [
    "#сохраняем в переменную строки с другими городами\n",
    "other_ultra = users_ultra_city.loc[users_ultra_city.loc[:, 'city'] != 'Москва']\n",
    "#находим среднюю выручку\n",
    "other_ultra.agg({'revenue': 'mean'}).round()"
   ]
  },
  {
   "cell_type": "markdown",
   "metadata": {},
   "source": [
    "- **для тарифа \"Смарт\"**"
   ]
  },
  {
   "cell_type": "markdown",
   "metadata": {},
   "source": [
    "Добавим в таблицу users_smart города пользователей."
   ]
  },
  {
   "cell_type": "code",
   "execution_count": 60,
   "metadata": {
    "scrolled": true
   },
   "outputs": [
    {
     "data": {
      "text/html": [
       "<div>\n",
       "<style scoped>\n",
       "    .dataframe tbody tr th:only-of-type {\n",
       "        vertical-align: middle;\n",
       "    }\n",
       "\n",
       "    .dataframe tbody tr th {\n",
       "        vertical-align: top;\n",
       "    }\n",
       "\n",
       "    .dataframe thead th {\n",
       "        text-align: right;\n",
       "    }\n",
       "</style>\n",
       "<table border=\"1\" class=\"dataframe\">\n",
       "  <thead>\n",
       "    <tr style=\"text-align: right;\">\n",
       "      <th></th>\n",
       "      <th>tariff</th>\n",
       "      <th>user_id</th>\n",
       "      <th>month</th>\n",
       "      <th>messages_count</th>\n",
       "      <th>duration_sum</th>\n",
       "      <th>mb_used_sum</th>\n",
       "      <th>messages_overrun</th>\n",
       "      <th>call_sum_overrun</th>\n",
       "      <th>mb_overrun</th>\n",
       "      <th>revenue</th>\n",
       "      <th>city</th>\n",
       "    </tr>\n",
       "  </thead>\n",
       "  <tbody>\n",
       "    <tr>\n",
       "      <td>0</td>\n",
       "      <td>smart</td>\n",
       "      <td>1002</td>\n",
       "      <td>6</td>\n",
       "      <td>4.0</td>\n",
       "      <td>117.0</td>\n",
       "      <td>10871.0</td>\n",
       "      <td>0.0</td>\n",
       "      <td>0.0</td>\n",
       "      <td>0.0</td>\n",
       "      <td>550.0</td>\n",
       "      <td>Стерлитамак</td>\n",
       "    </tr>\n",
       "    <tr>\n",
       "      <td>1</td>\n",
       "      <td>smart</td>\n",
       "      <td>1002</td>\n",
       "      <td>7</td>\n",
       "      <td>11.0</td>\n",
       "      <td>214.0</td>\n",
       "      <td>17601.0</td>\n",
       "      <td>0.0</td>\n",
       "      <td>0.0</td>\n",
       "      <td>3.0</td>\n",
       "      <td>1150.0</td>\n",
       "      <td>Стерлитамак</td>\n",
       "    </tr>\n",
       "    <tr>\n",
       "      <td>2</td>\n",
       "      <td>smart</td>\n",
       "      <td>1002</td>\n",
       "      <td>8</td>\n",
       "      <td>13.0</td>\n",
       "      <td>289.0</td>\n",
       "      <td>20347.0</td>\n",
       "      <td>0.0</td>\n",
       "      <td>0.0</td>\n",
       "      <td>5.0</td>\n",
       "      <td>1550.0</td>\n",
       "      <td>Стерлитамак</td>\n",
       "    </tr>\n",
       "    <tr>\n",
       "      <td>3</td>\n",
       "      <td>smart</td>\n",
       "      <td>1002</td>\n",
       "      <td>9</td>\n",
       "      <td>4.0</td>\n",
       "      <td>206.0</td>\n",
       "      <td>16712.0</td>\n",
       "      <td>0.0</td>\n",
       "      <td>0.0</td>\n",
       "      <td>2.0</td>\n",
       "      <td>950.0</td>\n",
       "      <td>Стерлитамак</td>\n",
       "    </tr>\n",
       "    <tr>\n",
       "      <td>4</td>\n",
       "      <td>smart</td>\n",
       "      <td>1002</td>\n",
       "      <td>10</td>\n",
       "      <td>10.0</td>\n",
       "      <td>212.0</td>\n",
       "      <td>13905.0</td>\n",
       "      <td>0.0</td>\n",
       "      <td>0.0</td>\n",
       "      <td>0.0</td>\n",
       "      <td>550.0</td>\n",
       "      <td>Стерлитамак</td>\n",
       "    </tr>\n",
       "    <tr>\n",
       "      <td>...</td>\n",
       "      <td>...</td>\n",
       "      <td>...</td>\n",
       "      <td>...</td>\n",
       "      <td>...</td>\n",
       "      <td>...</td>\n",
       "      <td>...</td>\n",
       "      <td>...</td>\n",
       "      <td>...</td>\n",
       "      <td>...</td>\n",
       "      <td>...</td>\n",
       "      <td>...</td>\n",
       "    </tr>\n",
       "    <tr>\n",
       "      <td>2224</td>\n",
       "      <td>smart</td>\n",
       "      <td>1494</td>\n",
       "      <td>8</td>\n",
       "      <td>NaN</td>\n",
       "      <td>262.0</td>\n",
       "      <td>6601.0</td>\n",
       "      <td>0.0</td>\n",
       "      <td>0.0</td>\n",
       "      <td>0.0</td>\n",
       "      <td>550.0</td>\n",
       "      <td>Омск</td>\n",
       "    </tr>\n",
       "    <tr>\n",
       "      <td>2225</td>\n",
       "      <td>smart</td>\n",
       "      <td>1494</td>\n",
       "      <td>9</td>\n",
       "      <td>NaN</td>\n",
       "      <td>501.0</td>\n",
       "      <td>16986.0</td>\n",
       "      <td>0.0</td>\n",
       "      <td>1.0</td>\n",
       "      <td>2.0</td>\n",
       "      <td>953.0</td>\n",
       "      <td>Омск</td>\n",
       "    </tr>\n",
       "    <tr>\n",
       "      <td>2226</td>\n",
       "      <td>smart</td>\n",
       "      <td>1494</td>\n",
       "      <td>10</td>\n",
       "      <td>NaN</td>\n",
       "      <td>354.0</td>\n",
       "      <td>17794.0</td>\n",
       "      <td>0.0</td>\n",
       "      <td>0.0</td>\n",
       "      <td>3.0</td>\n",
       "      <td>1150.0</td>\n",
       "      <td>Омск</td>\n",
       "    </tr>\n",
       "    <tr>\n",
       "      <td>2227</td>\n",
       "      <td>smart</td>\n",
       "      <td>1494</td>\n",
       "      <td>11</td>\n",
       "      <td>NaN</td>\n",
       "      <td>411.0</td>\n",
       "      <td>18076.0</td>\n",
       "      <td>0.0</td>\n",
       "      <td>0.0</td>\n",
       "      <td>3.0</td>\n",
       "      <td>1150.0</td>\n",
       "      <td>Омск</td>\n",
       "    </tr>\n",
       "    <tr>\n",
       "      <td>2228</td>\n",
       "      <td>smart</td>\n",
       "      <td>1494</td>\n",
       "      <td>12</td>\n",
       "      <td>NaN</td>\n",
       "      <td>418.0</td>\n",
       "      <td>17645.0</td>\n",
       "      <td>0.0</td>\n",
       "      <td>0.0</td>\n",
       "      <td>3.0</td>\n",
       "      <td>1150.0</td>\n",
       "      <td>Омск</td>\n",
       "    </tr>\n",
       "  </tbody>\n",
       "</table>\n",
       "<p>2229 rows × 11 columns</p>\n",
       "</div>"
      ],
      "text/plain": [
       "     tariff  user_id  month  messages_count  duration_sum  mb_used_sum  \\\n",
       "0     smart     1002      6             4.0         117.0      10871.0   \n",
       "1     smart     1002      7            11.0         214.0      17601.0   \n",
       "2     smart     1002      8            13.0         289.0      20347.0   \n",
       "3     smart     1002      9             4.0         206.0      16712.0   \n",
       "4     smart     1002     10            10.0         212.0      13905.0   \n",
       "...     ...      ...    ...             ...           ...          ...   \n",
       "2224  smart     1494      8             NaN         262.0       6601.0   \n",
       "2225  smart     1494      9             NaN         501.0      16986.0   \n",
       "2226  smart     1494     10             NaN         354.0      17794.0   \n",
       "2227  smart     1494     11             NaN         411.0      18076.0   \n",
       "2228  smart     1494     12             NaN         418.0      17645.0   \n",
       "\n",
       "      messages_overrun  call_sum_overrun  mb_overrun  revenue         city  \n",
       "0                  0.0               0.0         0.0    550.0  Стерлитамак  \n",
       "1                  0.0               0.0         3.0   1150.0  Стерлитамак  \n",
       "2                  0.0               0.0         5.0   1550.0  Стерлитамак  \n",
       "3                  0.0               0.0         2.0    950.0  Стерлитамак  \n",
       "4                  0.0               0.0         0.0    550.0  Стерлитамак  \n",
       "...                ...               ...         ...      ...          ...  \n",
       "2224               0.0               0.0         0.0    550.0         Омск  \n",
       "2225               0.0               1.0         2.0    953.0         Омск  \n",
       "2226               0.0               0.0         3.0   1150.0         Омск  \n",
       "2227               0.0               0.0         3.0   1150.0         Омск  \n",
       "2228               0.0               0.0         3.0   1150.0         Омск  \n",
       "\n",
       "[2229 rows x 11 columns]"
      ]
     },
     "execution_count": 60,
     "metadata": {},
     "output_type": "execute_result"
    }
   ],
   "source": [
    "users_smart_city = users_smart.merge(users[['user_id', 'city']], on='user_id')\n",
    "#создадим новую таблицу, в которую добавим  столбец city из таблицы users\n",
    "users_smart_city #выведем таблицу на экран"
   ]
  },
  {
   "cell_type": "markdown",
   "metadata": {},
   "source": [
    " Посчитаем среднюю выручку по таблице users_smart_city."
   ]
  },
  {
   "cell_type": "code",
   "execution_count": 61,
   "metadata": {},
   "outputs": [
    {
     "data": {
      "text/plain": [
       "revenue    1245.0\n",
       "dtype: float64"
      ]
     },
     "execution_count": 61,
     "metadata": {},
     "output_type": "execute_result"
    }
   ],
   "source": [
    "#сохраняем в переменную строки с городом москва\n",
    "moscow_smart = users_smart_city.loc[users_smart_city.loc[:, 'city'] == 'Москва']\n",
    "#находим среднюю выручку\n",
    "moscow_smart.agg({'revenue': 'mean'}).round()"
   ]
  },
  {
   "cell_type": "code",
   "execution_count": 62,
   "metadata": {},
   "outputs": [
    {
     "data": {
      "text/plain": [
       "revenue    1305.0\n",
       "dtype: float64"
      ]
     },
     "execution_count": 62,
     "metadata": {},
     "output_type": "execute_result"
    }
   ],
   "source": [
    "#сохраняем в переменную строки с городом москва\n",
    "other_smart = users_smart_city.loc[users_smart_city.loc[:, 'city'] != 'Москва']\n",
    "#находим среднюю выручку\n",
    "other_smart.agg({'revenue': 'mean'}).round()"
   ]
  },
  {
   "cell_type": "markdown",
   "metadata": {},
   "source": [
    "**Проверка гипотезы:** сложим средние выручки по тарифам и найдем разницу между пользователями из Москвы и других городов. "
   ]
  },
  {
   "cell_type": "code",
   "execution_count": 63,
   "metadata": {
    "scrolled": true
   },
   "outputs": [
    {
     "data": {
      "text/plain": [
       "revenue    1.613007\n",
       "dtype: float64"
      ]
     },
     "execution_count": 63,
     "metadata": {},
     "output_type": "execute_result"
    }
   ],
   "source": [
    "#находим разницу между средними выручками по москве и другим регионам\n",
    "((other_ultra.agg({'revenue': 'mean'}) + other_smart.agg({'revenue': 'mean'}))\\\n",
    " - (moscow_ultra.agg({'revenue': 'mean'}) + moscow_smart.agg({'revenue': 'mean'})))\\\n",
    "/(other_ultra.agg({'revenue': 'mean'}) + other_smart.agg({'revenue': 'mean'}))*100"
   ]
  },
  {
   "cell_type": "markdown",
   "metadata": {},
   "source": [
    "Проведем т-тест для подтверждения полученных результатов. Сравним выборки по размеру, если они разные, то указываем значение параметра equal_var как False. Уровень статистической значимости зададим в 5%."
   ]
  },
  {
   "cell_type": "code",
   "execution_count": 64,
   "metadata": {},
   "outputs": [],
   "source": [
    "moscow = moscow_ultra.merge(moscow_smart, how='outer') #создадим таблицу по пользователям из Москвы\n",
    "other = other_ultra.merge(other_smart, how='outer') #создадим таблицу по пользователям из других городов"
   ]
  },
  {
   "cell_type": "code",
   "execution_count": 65,
   "metadata": {},
   "outputs": [
    {
     "data": {
      "text/plain": [
       "611"
      ]
     },
     "execution_count": 65,
     "metadata": {},
     "output_type": "execute_result"
    }
   ],
   "source": [
    "moscow.shape[0] # выводим кол-во строк в таблице moscow"
   ]
  },
  {
   "cell_type": "code",
   "execution_count": 66,
   "metadata": {},
   "outputs": [
    {
     "data": {
      "text/plain": [
       "2603"
      ]
     },
     "execution_count": 66,
     "metadata": {},
     "output_type": "execute_result"
    }
   ],
   "source": [
    "other.shape[0] # выводим кол-во строк в таблице other"
   ]
  },
  {
   "cell_type": "code",
   "execution_count": 67,
   "metadata": {},
   "outputs": [
    {
     "data": {
      "text/plain": [
       "0.5126564657748214"
      ]
     },
     "execution_count": 67,
     "metadata": {},
     "output_type": "execute_result"
    }
   ],
   "source": [
    "results = st.ttest_ind (moscow['revenue'], other['revenue'], equal_var=False) # проводим т-тест\n",
    "results.pvalue"
   ]
  },
  {
   "cell_type": "markdown",
   "metadata": {},
   "source": [
    "Средняя выручка по тарифам в других регионах больше средней выручки по Москве примерно на 1,6%,  pvalue = 50%, что значительно выше уровня статистической значимости. Полученные данные подтверждают нулевую гипотезу. Следовательно, раз выручки равны - они не отличаются, вторую гипотезу исследования опровергаем."
   ]
  },
  {
   "cell_type": "markdown",
   "metadata": {},
   "source": [
    "### Вывод   \n",
    "\n",
    "Исследуемые данные подтвердили первую гипотезу нашего исследования, но опровергли вторую."
   ]
  },
  {
   "cell_type": "markdown",
   "metadata": {},
   "source": [
    "## Общий вывод"
   ]
  },
  {
   "cell_type": "markdown",
   "metadata": {},
   "source": [
    "Прежде чем подтвердить или опровергнуть гипотезы мы ознакомились с данными, проверили их корректность, изменили некоторые типы данных, добавили столбцы с недостающей информацией.  \n",
    "\n",
    "Подготовили данные для исследования:\n",
    "- в тарифах \"Ультра\" и \"Смарт\" посчитали для всех пользователей кол-во отправленных сообщений, сумму минут звонков и сумму мегабайт использованного интернет трафика, сгруппировали по месяцам;\n",
    "- добавили в таблицу привышения по лимитам и посчитали выручку за каждый месяц по всем пользователям.  \n",
    "Исследовали полученные значения и описали поведение пользователей для каждого тарифа:\n",
    "- для тарифа \"Ультра\" превышение по лимитам не характерно, основная часть абонентов платит только абонентскую плату; 20% пользователей платит за дополнительный интернет;  \n",
    "- для \"Смарт\" характерно использование большего кол-ва минут и интернет трафика, чем предусмотрено тарифом; более 50% пользователей доплачивают за интернет.  \n",
    "\n",
    "Исхода из полученных данных, проверили гипотезы:  \n",
    "- сравнили средее по выручке для тарифа \"Ультра\" со средним для тарифа \"Смарт\" получили разницу больше уровня статистической значимости. Среднее по выручке тарифа \"Ультра\" на 37% больше среднего тарифа \"Смарт\". Следовательно гипотеза о том, что средние выручки c пользователей тарифов «Ультра» и «Смарт» различаются подтверждена;  \n",
    "- сравнили средее по выручке для пользователей из Москвы и из других регионов, получили разницу в 1,6%, что меньше уровня статистической значимости, следовательно гипотезу о том, что средняя выручка с пользователей из Москвы отличается от выручки с пользователей из других регионов отвергаем.  \n",
    "\n",
    "Для всех городов и регионов, тариф \"Ультра\" приносит больше денег."
   ]
  }
 ],
 "metadata": {
  "ExecuteTimeLog": [
   {
    "duration": 790,
    "start_time": "2022-01-11T07:05:54.883Z"
   },
   {
    "duration": 636,
    "start_time": "2022-01-11T07:07:20.531Z"
   },
   {
    "duration": 236,
    "start_time": "2022-01-11T07:07:29.634Z"
   },
   {
    "duration": 176,
    "start_time": "2022-01-11T07:08:43.261Z"
   },
   {
    "duration": 123,
    "start_time": "2022-01-11T07:11:05.934Z"
   },
   {
    "duration": 27,
    "start_time": "2022-01-11T07:11:08.288Z"
   },
   {
    "duration": 36,
    "start_time": "2022-01-11T07:11:10.416Z"
   },
   {
    "duration": 296,
    "start_time": "2022-01-11T07:15:46.667Z"
   },
   {
    "duration": 32,
    "start_time": "2022-01-11T07:15:54.709Z"
   },
   {
    "duration": 45,
    "start_time": "2022-01-11T07:16:31.475Z"
   },
   {
    "duration": 225,
    "start_time": "2022-01-11T07:17:00.606Z"
   },
   {
    "duration": 145,
    "start_time": "2022-01-11T07:17:34.011Z"
   },
   {
    "duration": 203,
    "start_time": "2022-01-11T07:17:46.564Z"
   },
   {
    "duration": 30,
    "start_time": "2022-01-11T07:18:01.023Z"
   },
   {
    "duration": 236,
    "start_time": "2022-01-11T07:22:44.436Z"
   },
   {
    "duration": 138,
    "start_time": "2022-01-11T07:25:21.880Z"
   },
   {
    "duration": 125,
    "start_time": "2022-01-11T07:30:29.808Z"
   },
   {
    "duration": 45,
    "start_time": "2022-01-11T07:30:37.401Z"
   },
   {
    "duration": 272,
    "start_time": "2022-01-11T07:31:51.155Z"
   },
   {
    "duration": 154,
    "start_time": "2022-01-11T07:32:58.716Z"
   },
   {
    "duration": 265,
    "start_time": "2022-01-11T07:33:12.981Z"
   },
   {
    "duration": 48,
    "start_time": "2022-01-11T07:40:11.628Z"
   },
   {
    "duration": 323,
    "start_time": "2022-01-11T07:59:50.036Z"
   },
   {
    "duration": 9,
    "start_time": "2022-01-11T08:00:24.351Z"
   },
   {
    "duration": 8,
    "start_time": "2022-01-11T08:18:25.405Z"
   },
   {
    "duration": 9,
    "start_time": "2022-01-11T08:18:59.548Z"
   },
   {
    "duration": 311,
    "start_time": "2022-01-11T08:24:56.409Z"
   },
   {
    "duration": 323,
    "start_time": "2022-01-11T08:25:55.153Z"
   },
   {
    "duration": 3,
    "start_time": "2022-01-11T08:26:02.851Z"
   },
   {
    "duration": 296,
    "start_time": "2022-01-11T08:26:15.021Z"
   },
   {
    "duration": 23,
    "start_time": "2022-01-11T08:26:22.517Z"
   },
   {
    "duration": 35,
    "start_time": "2022-01-11T08:26:42.526Z"
   },
   {
    "duration": 37,
    "start_time": "2022-01-11T08:29:22.555Z"
   },
   {
    "duration": 5701,
    "start_time": "2022-01-11T08:32:32.284Z"
   },
   {
    "duration": 12,
    "start_time": "2022-01-11T08:32:48.358Z"
   },
   {
    "duration": 8,
    "start_time": "2022-01-11T08:33:12.857Z"
   },
   {
    "duration": 5964,
    "start_time": "2022-01-11T08:34:11.123Z"
   },
   {
    "duration": 8,
    "start_time": "2022-01-11T08:34:18.541Z"
   },
   {
    "duration": 17,
    "start_time": "2022-01-11T09:17:52.519Z"
   },
   {
    "duration": 17,
    "start_time": "2022-01-11T09:19:36.236Z"
   },
   {
    "duration": 338,
    "start_time": "2022-01-11T09:22:52.117Z"
   },
   {
    "duration": 289,
    "start_time": "2022-01-11T09:23:05.354Z"
   },
   {
    "duration": 13,
    "start_time": "2022-01-11T09:23:42.839Z"
   },
   {
    "duration": 619,
    "start_time": "2022-01-11T09:24:23.788Z"
   },
   {
    "duration": 108,
    "start_time": "2022-01-11T09:24:40.070Z"
   },
   {
    "duration": 104,
    "start_time": "2022-01-11T09:24:44.622Z"
   },
   {
    "duration": 286,
    "start_time": "2022-01-11T09:24:47.903Z"
   },
   {
    "duration": 303,
    "start_time": "2022-01-11T09:24:51.703Z"
   },
   {
    "duration": 375,
    "start_time": "2022-01-11T09:25:39.277Z"
   },
   {
    "duration": 350,
    "start_time": "2022-01-11T09:25:52.735Z"
   },
   {
    "duration": 324,
    "start_time": "2022-01-11T09:27:00.481Z"
   },
   {
    "duration": 9,
    "start_time": "2022-01-11T09:33:15.664Z"
   },
   {
    "duration": 20,
    "start_time": "2022-01-11T09:34:09.877Z"
   },
   {
    "duration": 20,
    "start_time": "2022-01-11T09:34:18.969Z"
   },
   {
    "duration": 19,
    "start_time": "2022-01-11T09:34:54.126Z"
   },
   {
    "duration": 18,
    "start_time": "2022-01-11T09:35:22.291Z"
   },
   {
    "duration": 10,
    "start_time": "2022-01-11T09:35:41.115Z"
   },
   {
    "duration": 18,
    "start_time": "2022-01-11T09:35:41.332Z"
   },
   {
    "duration": 5,
    "start_time": "2022-01-11T09:36:26.644Z"
   },
   {
    "duration": 5,
    "start_time": "2022-01-11T09:36:41.036Z"
   },
   {
    "duration": 18,
    "start_time": "2022-01-11T09:52:28.413Z"
   },
   {
    "duration": 18,
    "start_time": "2022-01-11T09:52:45.096Z"
   },
   {
    "duration": 7,
    "start_time": "2022-01-11T09:53:14.238Z"
   },
   {
    "duration": 20,
    "start_time": "2022-01-11T09:54:40.625Z"
   },
   {
    "duration": 4,
    "start_time": "2022-01-11T09:54:56.119Z"
   },
   {
    "duration": 54,
    "start_time": "2022-01-11T09:54:56.126Z"
   },
   {
    "duration": 371,
    "start_time": "2022-01-11T09:54:56.183Z"
   },
   {
    "duration": 183,
    "start_time": "2022-01-11T09:54:56.558Z"
   },
   {
    "duration": 237,
    "start_time": "2022-01-11T09:54:56.745Z"
   },
   {
    "duration": 41,
    "start_time": "2022-01-11T09:54:56.985Z"
   },
   {
    "duration": 9,
    "start_time": "2022-01-11T09:54:57.028Z"
   },
   {
    "duration": 7,
    "start_time": "2022-01-11T09:54:57.040Z"
   },
   {
    "duration": 9,
    "start_time": "2022-01-11T09:54:57.050Z"
   },
   {
    "duration": 57,
    "start_time": "2022-01-11T09:54:57.062Z"
   },
   {
    "duration": 35,
    "start_time": "2022-01-11T09:54:57.121Z"
   },
   {
    "duration": 64,
    "start_time": "2022-01-11T09:54:57.159Z"
   },
   {
    "duration": 7,
    "start_time": "2022-01-11T09:54:59.676Z"
   },
   {
    "duration": 18,
    "start_time": "2022-01-11T09:55:03.044Z"
   },
   {
    "duration": 6,
    "start_time": "2022-01-11T09:55:06.092Z"
   },
   {
    "duration": 19,
    "start_time": "2022-01-11T09:55:07.453Z"
   },
   {
    "duration": 5,
    "start_time": "2022-01-11T09:55:09.604Z"
   },
   {
    "duration": 295,
    "start_time": "2022-01-11T10:08:58.967Z"
   },
   {
    "duration": 32,
    "start_time": "2022-01-11T10:09:05.425Z"
   },
   {
    "duration": 24,
    "start_time": "2022-01-11T10:13:47.950Z"
   },
   {
    "duration": 300,
    "start_time": "2022-01-11T10:15:36.844Z"
   },
   {
    "duration": 36,
    "start_time": "2022-01-11T10:15:51.446Z"
   },
   {
    "duration": 171,
    "start_time": "2022-01-11T10:17:04.914Z"
   },
   {
    "duration": 34,
    "start_time": "2022-01-11T10:17:10.449Z"
   },
   {
    "duration": 395,
    "start_time": "2022-01-11T10:17:28.731Z"
   },
   {
    "duration": 18,
    "start_time": "2022-01-11T10:17:37.428Z"
   },
   {
    "duration": 36,
    "start_time": "2022-01-11T10:17:39.045Z"
   },
   {
    "duration": 23,
    "start_time": "2022-01-11T10:18:12.146Z"
   },
   {
    "duration": 25,
    "start_time": "2022-01-11T10:19:21.395Z"
   },
   {
    "duration": 309,
    "start_time": "2022-01-11T10:20:34.155Z"
   },
   {
    "duration": 354,
    "start_time": "2022-01-11T10:20:51.686Z"
   },
   {
    "duration": 13,
    "start_time": "2022-01-11T10:21:12.513Z"
   },
   {
    "duration": 321,
    "start_time": "2022-01-11T10:21:21.714Z"
   },
   {
    "duration": 9,
    "start_time": "2022-01-11T10:22:55.262Z"
   },
   {
    "duration": 21,
    "start_time": "2022-01-11T10:23:10.128Z"
   },
   {
    "duration": 24,
    "start_time": "2022-01-11T10:23:20.530Z"
   },
   {
    "duration": 3,
    "start_time": "2022-01-11T10:26:30.928Z"
   },
   {
    "duration": 56,
    "start_time": "2022-01-11T10:26:30.934Z"
   },
   {
    "duration": 287,
    "start_time": "2022-01-11T10:26:30.994Z"
   },
   {
    "duration": 193,
    "start_time": "2022-01-11T10:26:31.285Z"
   },
   {
    "duration": 243,
    "start_time": "2022-01-11T10:26:31.480Z"
   },
   {
    "duration": 33,
    "start_time": "2022-01-11T10:26:31.725Z"
   },
   {
    "duration": 9,
    "start_time": "2022-01-11T10:26:31.761Z"
   },
   {
    "duration": 9,
    "start_time": "2022-01-11T10:26:31.774Z"
   },
   {
    "duration": 11,
    "start_time": "2022-01-11T10:26:31.819Z"
   },
   {
    "duration": 42,
    "start_time": "2022-01-11T10:26:31.832Z"
   },
   {
    "duration": 40,
    "start_time": "2022-01-11T10:26:31.877Z"
   },
   {
    "duration": 32,
    "start_time": "2022-01-11T10:26:31.919Z"
   },
   {
    "duration": 9,
    "start_time": "2022-01-11T10:26:31.954Z"
   },
   {
    "duration": 72,
    "start_time": "2022-01-11T10:26:31.966Z"
   },
   {
    "duration": 6,
    "start_time": "2022-01-11T10:26:32.054Z"
   },
   {
    "duration": 19,
    "start_time": "2022-01-11T10:26:32.063Z"
   },
   {
    "duration": 7,
    "start_time": "2022-01-11T10:26:32.084Z"
   },
   {
    "duration": 28,
    "start_time": "2022-01-11T10:26:32.094Z"
   },
   {
    "duration": 299,
    "start_time": "2022-01-11T10:27:54.196Z"
   },
   {
    "duration": 282,
    "start_time": "2022-01-11T10:29:16.848Z"
   },
   {
    "duration": 11,
    "start_time": "2022-01-11T10:31:07.198Z"
   },
   {
    "duration": 11,
    "start_time": "2022-01-11T10:31:26.584Z"
   },
   {
    "duration": 25,
    "start_time": "2022-01-11T10:32:21.864Z"
   },
   {
    "duration": 22,
    "start_time": "2022-01-11T10:32:54.349Z"
   },
   {
    "duration": 3,
    "start_time": "2022-01-11T11:02:08.060Z"
   },
   {
    "duration": 48,
    "start_time": "2022-01-11T11:02:08.066Z"
   },
   {
    "duration": 261,
    "start_time": "2022-01-11T11:02:08.118Z"
   },
   {
    "duration": 160,
    "start_time": "2022-01-11T11:02:08.382Z"
   },
   {
    "duration": 232,
    "start_time": "2022-01-11T11:02:08.545Z"
   },
   {
    "duration": 42,
    "start_time": "2022-01-11T11:02:08.780Z"
   },
   {
    "duration": 10,
    "start_time": "2022-01-11T11:02:08.825Z"
   },
   {
    "duration": 9,
    "start_time": "2022-01-11T11:02:08.838Z"
   },
   {
    "duration": 10,
    "start_time": "2022-01-11T11:02:08.852Z"
   },
   {
    "duration": 59,
    "start_time": "2022-01-11T11:02:08.865Z"
   },
   {
    "duration": 33,
    "start_time": "2022-01-11T11:02:08.927Z"
   },
   {
    "duration": 68,
    "start_time": "2022-01-11T11:02:08.963Z"
   },
   {
    "duration": 5,
    "start_time": "2022-01-11T11:02:12.433Z"
   },
   {
    "duration": 8,
    "start_time": "2022-01-11T11:02:27.084Z"
   },
   {
    "duration": 10,
    "start_time": "2022-01-11T11:02:52.448Z"
   },
   {
    "duration": 17,
    "start_time": "2022-01-11T11:03:33.157Z"
   },
   {
    "duration": 25,
    "start_time": "2022-01-11T11:05:21.610Z"
   },
   {
    "duration": 26,
    "start_time": "2022-01-11T11:07:49.622Z"
   },
   {
    "duration": 297,
    "start_time": "2022-01-11T11:08:38.772Z"
   },
   {
    "duration": 7,
    "start_time": "2022-01-11T11:08:49.093Z"
   },
   {
    "duration": 306,
    "start_time": "2022-01-11T11:08:54.478Z"
   },
   {
    "duration": 339,
    "start_time": "2022-01-11T11:17:30.460Z"
   },
   {
    "duration": 58,
    "start_time": "2022-01-11T11:18:22.546Z"
   },
   {
    "duration": 4,
    "start_time": "2022-01-11T11:21:14.035Z"
   },
   {
    "duration": 6,
    "start_time": "2022-01-11T11:21:14.042Z"
   },
   {
    "duration": 60,
    "start_time": "2022-01-11T11:21:14.051Z"
   },
   {
    "duration": 294,
    "start_time": "2022-01-11T11:21:14.114Z"
   },
   {
    "duration": 169,
    "start_time": "2022-01-11T11:21:14.418Z"
   },
   {
    "duration": 234,
    "start_time": "2022-01-11T11:21:14.590Z"
   },
   {
    "duration": 34,
    "start_time": "2022-01-11T11:21:14.826Z"
   },
   {
    "duration": 8,
    "start_time": "2022-01-11T11:21:14.862Z"
   },
   {
    "duration": 8,
    "start_time": "2022-01-11T11:21:14.874Z"
   },
   {
    "duration": 10,
    "start_time": "2022-01-11T11:21:14.918Z"
   },
   {
    "duration": 10,
    "start_time": "2022-01-11T11:21:14.931Z"
   },
   {
    "duration": 34,
    "start_time": "2022-01-11T11:21:14.943Z"
   },
   {
    "duration": 33,
    "start_time": "2022-01-11T11:21:15.018Z"
   },
   {
    "duration": 5,
    "start_time": "2022-01-11T11:21:15.053Z"
   },
   {
    "duration": 14,
    "start_time": "2022-01-11T11:21:38.994Z"
   },
   {
    "duration": 3,
    "start_time": "2022-01-11T11:21:56.732Z"
   },
   {
    "duration": 8,
    "start_time": "2022-01-11T11:22:32.409Z"
   },
   {
    "duration": 139,
    "start_time": "2022-01-11T11:22:34.649Z"
   },
   {
    "duration": 29,
    "start_time": "2022-01-11T11:23:00.453Z"
   },
   {
    "duration": 151,
    "start_time": "2022-01-11T11:23:15.375Z"
   },
   {
    "duration": 162,
    "start_time": "2022-01-11T11:23:46.243Z"
   },
   {
    "duration": 322,
    "start_time": "2022-01-11T11:23:52.013Z"
   },
   {
    "duration": 7,
    "start_time": "2022-01-11T11:24:18.527Z"
   },
   {
    "duration": 8,
    "start_time": "2022-01-11T11:24:22.975Z"
   },
   {
    "duration": 21,
    "start_time": "2022-01-11T11:24:27.744Z"
   },
   {
    "duration": 10,
    "start_time": "2022-01-11T11:24:44.251Z"
   },
   {
    "duration": 8,
    "start_time": "2022-01-11T11:25:45.162Z"
   },
   {
    "duration": 139,
    "start_time": "2022-01-11T11:25:50.755Z"
   },
   {
    "duration": 24,
    "start_time": "2022-01-11T11:26:10.061Z"
   },
   {
    "duration": 22,
    "start_time": "2022-01-11T11:26:18.399Z"
   },
   {
    "duration": 21,
    "start_time": "2022-01-11T11:30:21.846Z"
   },
   {
    "duration": 29,
    "start_time": "2022-01-11T11:31:06.557Z"
   },
   {
    "duration": 316,
    "start_time": "2022-01-11T11:31:25.767Z"
   },
   {
    "duration": 3,
    "start_time": "2022-01-11T11:31:43.904Z"
   },
   {
    "duration": 7,
    "start_time": "2022-01-11T11:31:43.910Z"
   },
   {
    "duration": 50,
    "start_time": "2022-01-11T11:31:43.920Z"
   },
   {
    "duration": 260,
    "start_time": "2022-01-11T11:31:43.972Z"
   },
   {
    "duration": 169,
    "start_time": "2022-01-11T11:31:44.235Z"
   },
   {
    "duration": 313,
    "start_time": "2022-01-11T11:31:44.416Z"
   },
   {
    "duration": 34,
    "start_time": "2022-01-11T11:31:44.732Z"
   },
   {
    "duration": 8,
    "start_time": "2022-01-11T11:31:44.768Z"
   },
   {
    "duration": 37,
    "start_time": "2022-01-11T11:31:44.782Z"
   },
   {
    "duration": 10,
    "start_time": "2022-01-11T11:31:44.821Z"
   },
   {
    "duration": 8,
    "start_time": "2022-01-11T11:31:44.833Z"
   },
   {
    "duration": 78,
    "start_time": "2022-01-11T11:31:44.843Z"
   },
   {
    "duration": 30,
    "start_time": "2022-01-11T11:31:44.924Z"
   },
   {
    "duration": 14,
    "start_time": "2022-01-11T11:31:44.957Z"
   },
   {
    "duration": 44,
    "start_time": "2022-01-11T11:31:44.973Z"
   },
   {
    "duration": 29,
    "start_time": "2022-01-11T11:31:56.890Z"
   },
   {
    "duration": 288,
    "start_time": "2022-01-11T11:33:18.917Z"
   },
   {
    "duration": 321,
    "start_time": "2022-01-11T11:33:42.408Z"
   },
   {
    "duration": 32,
    "start_time": "2022-01-11T11:39:13.837Z"
   },
   {
    "duration": 46,
    "start_time": "2022-01-11T11:39:31.007Z"
   },
   {
    "duration": 3,
    "start_time": "2022-01-11T11:43:51.416Z"
   },
   {
    "duration": 4,
    "start_time": "2022-01-11T11:43:53.920Z"
   },
   {
    "duration": 38,
    "start_time": "2022-01-11T11:51:45.043Z"
   },
   {
    "duration": 66,
    "start_time": "2022-01-11T11:52:32.900Z"
   },
   {
    "duration": 57,
    "start_time": "2022-01-11T11:52:59.698Z"
   },
   {
    "duration": 55,
    "start_time": "2022-01-11T11:56:19.290Z"
   },
   {
    "duration": 42,
    "start_time": "2022-01-11T11:56:48.046Z"
   },
   {
    "duration": 7445,
    "start_time": "2022-01-11T11:59:40.533Z"
   },
   {
    "duration": 24,
    "start_time": "2022-01-11T12:00:10.320Z"
   },
   {
    "duration": 44,
    "start_time": "2022-01-11T12:01:36.227Z"
   },
   {
    "duration": 31,
    "start_time": "2022-01-11T12:08:27.177Z"
   },
   {
    "duration": 41,
    "start_time": "2022-01-11T12:08:37.874Z"
   },
   {
    "duration": 26,
    "start_time": "2022-01-11T12:08:47.291Z"
   },
   {
    "duration": 22,
    "start_time": "2022-01-11T12:08:56.029Z"
   },
   {
    "duration": 25,
    "start_time": "2022-01-11T12:16:21.423Z"
   },
   {
    "duration": 41,
    "start_time": "2022-01-11T12:16:36.992Z"
   },
   {
    "duration": 272,
    "start_time": "2022-01-11T12:18:01.804Z"
   },
   {
    "duration": 315,
    "start_time": "2022-01-11T12:18:24.438Z"
   },
   {
    "duration": 40,
    "start_time": "2022-01-11T12:18:38.240Z"
   },
   {
    "duration": 46,
    "start_time": "2022-01-11T12:18:46.089Z"
   },
   {
    "duration": 95,
    "start_time": "2022-01-11T12:18:54.946Z"
   },
   {
    "duration": 3,
    "start_time": "2022-01-11T12:19:26.216Z"
   },
   {
    "duration": 6,
    "start_time": "2022-01-11T12:19:26.222Z"
   },
   {
    "duration": 55,
    "start_time": "2022-01-11T12:19:26.231Z"
   },
   {
    "duration": 360,
    "start_time": "2022-01-11T12:19:26.289Z"
   },
   {
    "duration": 171,
    "start_time": "2022-01-11T12:19:26.651Z"
   },
   {
    "duration": 223,
    "start_time": "2022-01-11T12:19:26.825Z"
   },
   {
    "duration": 32,
    "start_time": "2022-01-11T12:19:27.051Z"
   },
   {
    "duration": 31,
    "start_time": "2022-01-11T12:19:27.086Z"
   },
   {
    "duration": 12,
    "start_time": "2022-01-11T12:19:27.120Z"
   },
   {
    "duration": 14,
    "start_time": "2022-01-11T12:19:27.134Z"
   },
   {
    "duration": 18,
    "start_time": "2022-01-11T12:19:27.150Z"
   },
   {
    "duration": 57,
    "start_time": "2022-01-11T12:19:27.170Z"
   },
   {
    "duration": 32,
    "start_time": "2022-01-11T12:19:27.229Z"
   },
   {
    "duration": 15,
    "start_time": "2022-01-11T12:19:27.264Z"
   },
   {
    "duration": 20,
    "start_time": "2022-01-11T12:19:27.318Z"
   },
   {
    "duration": 21,
    "start_time": "2022-01-11T12:19:34.496Z"
   },
   {
    "duration": 35,
    "start_time": "2022-01-11T12:19:38.856Z"
   },
   {
    "duration": 50,
    "start_time": "2022-01-11T12:20:01.843Z"
   },
   {
    "duration": 52,
    "start_time": "2022-01-11T12:21:01.763Z"
   },
   {
    "duration": 4,
    "start_time": "2022-01-11T12:21:07.751Z"
   },
   {
    "duration": 15,
    "start_time": "2022-01-11T12:21:07.758Z"
   },
   {
    "duration": 64,
    "start_time": "2022-01-11T12:21:07.776Z"
   },
   {
    "duration": 266,
    "start_time": "2022-01-11T12:21:07.843Z"
   },
   {
    "duration": 156,
    "start_time": "2022-01-11T12:21:08.117Z"
   },
   {
    "duration": 224,
    "start_time": "2022-01-11T12:21:08.276Z"
   },
   {
    "duration": 33,
    "start_time": "2022-01-11T12:21:08.503Z"
   },
   {
    "duration": 8,
    "start_time": "2022-01-11T12:21:08.538Z"
   },
   {
    "duration": 8,
    "start_time": "2022-01-11T12:21:08.550Z"
   },
   {
    "duration": 9,
    "start_time": "2022-01-11T12:21:08.561Z"
   },
   {
    "duration": 49,
    "start_time": "2022-01-11T12:21:08.572Z"
   },
   {
    "duration": 34,
    "start_time": "2022-01-11T12:21:08.624Z"
   },
   {
    "duration": 65,
    "start_time": "2022-01-11T12:21:08.660Z"
   },
   {
    "duration": 15,
    "start_time": "2022-01-11T12:21:08.727Z"
   },
   {
    "duration": 26,
    "start_time": "2022-01-11T12:21:08.744Z"
   },
   {
    "duration": 37,
    "start_time": "2022-01-11T12:21:13.814Z"
   },
   {
    "duration": 48,
    "start_time": "2022-01-11T12:22:52.353Z"
   },
   {
    "duration": 31,
    "start_time": "2022-01-11T12:22:54.850Z"
   },
   {
    "duration": 60,
    "start_time": "2022-01-11T12:22:56.586Z"
   },
   {
    "duration": 4,
    "start_time": "2022-01-11T12:23:01.108Z"
   },
   {
    "duration": 15,
    "start_time": "2022-01-11T12:23:01.115Z"
   },
   {
    "duration": 53,
    "start_time": "2022-01-11T12:23:01.134Z"
   },
   {
    "duration": 291,
    "start_time": "2022-01-11T12:23:01.190Z"
   },
   {
    "duration": 179,
    "start_time": "2022-01-11T12:23:01.484Z"
   },
   {
    "duration": 326,
    "start_time": "2022-01-11T12:23:01.666Z"
   },
   {
    "duration": 38,
    "start_time": "2022-01-11T12:23:01.994Z"
   },
   {
    "duration": 9,
    "start_time": "2022-01-11T12:23:02.037Z"
   },
   {
    "duration": 10,
    "start_time": "2022-01-11T12:23:02.049Z"
   },
   {
    "duration": 24,
    "start_time": "2022-01-11T12:23:02.062Z"
   },
   {
    "duration": 34,
    "start_time": "2022-01-11T12:23:02.089Z"
   },
   {
    "duration": 43,
    "start_time": "2022-01-11T12:23:02.126Z"
   },
   {
    "duration": 58,
    "start_time": "2022-01-11T12:23:02.171Z"
   },
   {
    "duration": 15,
    "start_time": "2022-01-11T12:23:02.232Z"
   },
   {
    "duration": 30,
    "start_time": "2022-01-11T12:23:02.250Z"
   },
   {
    "duration": 63,
    "start_time": "2022-01-11T12:23:02.283Z"
   },
   {
    "duration": 73,
    "start_time": "2022-01-11T12:23:02.349Z"
   },
   {
    "duration": 32,
    "start_time": "2022-01-11T12:23:02.425Z"
   },
   {
    "duration": 31,
    "start_time": "2022-01-11T12:23:08.348Z"
   },
   {
    "duration": 51,
    "start_time": "2022-01-11T12:23:09.524Z"
   },
   {
    "duration": 75,
    "start_time": "2022-01-11T12:23:38.416Z"
   },
   {
    "duration": 44,
    "start_time": "2022-01-11T12:24:13.685Z"
   },
   {
    "duration": 24,
    "start_time": "2022-01-11T12:25:18.117Z"
   },
   {
    "duration": 43,
    "start_time": "2022-01-11T12:25:19.581Z"
   },
   {
    "duration": 51,
    "start_time": "2022-01-11T12:25:34.615Z"
   },
   {
    "duration": 284,
    "start_time": "2022-01-11T12:34:07.162Z"
   },
   {
    "duration": 26,
    "start_time": "2022-01-11T12:34:48.503Z"
   },
   {
    "duration": 56,
    "start_time": "2022-01-11T12:35:00.305Z"
   },
   {
    "duration": 55,
    "start_time": "2022-01-11T12:36:08.042Z"
   },
   {
    "duration": 51,
    "start_time": "2022-01-11T12:38:56.007Z"
   },
   {
    "duration": 779,
    "start_time": "2022-01-11T12:39:20.666Z"
   },
   {
    "duration": 45,
    "start_time": "2022-01-11T12:39:33.708Z"
   },
   {
    "duration": 42,
    "start_time": "2022-01-11T12:41:31.869Z"
   },
   {
    "duration": 308,
    "start_time": "2022-01-11T12:58:39.874Z"
   },
   {
    "duration": 7579,
    "start_time": "2022-01-11T13:00:37.282Z"
   },
   {
    "duration": 9332,
    "start_time": "2022-01-11T13:01:08.055Z"
   },
   {
    "duration": 40,
    "start_time": "2022-01-11T13:10:03.163Z"
   },
   {
    "duration": 50,
    "start_time": "2022-01-11T13:10:22.454Z"
   },
   {
    "duration": 44,
    "start_time": "2022-01-11T13:10:29.215Z"
   },
   {
    "duration": 40,
    "start_time": "2022-01-11T13:10:37.848Z"
   },
   {
    "duration": 16,
    "start_time": "2022-01-11T13:12:25.392Z"
   },
   {
    "duration": 33,
    "start_time": "2022-01-11T13:12:33.894Z"
   },
   {
    "duration": 4,
    "start_time": "2022-01-11T13:13:06.853Z"
   },
   {
    "duration": 9,
    "start_time": "2022-01-11T13:13:06.860Z"
   },
   {
    "duration": 81,
    "start_time": "2022-01-11T13:13:06.874Z"
   },
   {
    "duration": 305,
    "start_time": "2022-01-11T13:13:06.957Z"
   },
   {
    "duration": 169,
    "start_time": "2022-01-11T13:13:07.265Z"
   },
   {
    "duration": 256,
    "start_time": "2022-01-11T13:13:07.438Z"
   },
   {
    "duration": 62,
    "start_time": "2022-01-11T13:13:07.697Z"
   },
   {
    "duration": 100,
    "start_time": "2022-01-11T13:13:07.764Z"
   },
   {
    "duration": 12,
    "start_time": "2022-01-11T13:13:07.868Z"
   },
   {
    "duration": 12,
    "start_time": "2022-01-11T13:13:07.883Z"
   },
   {
    "duration": 9,
    "start_time": "2022-01-11T13:13:07.898Z"
   },
   {
    "duration": 37,
    "start_time": "2022-01-11T13:13:07.909Z"
   },
   {
    "duration": 33,
    "start_time": "2022-01-11T13:13:07.949Z"
   },
   {
    "duration": 53,
    "start_time": "2022-01-11T13:13:07.985Z"
   },
   {
    "duration": 29,
    "start_time": "2022-01-11T13:13:08.041Z"
   },
   {
    "duration": 72,
    "start_time": "2022-01-11T13:13:08.073Z"
   },
   {
    "duration": 83,
    "start_time": "2022-01-11T13:13:08.148Z"
   },
   {
    "duration": 55,
    "start_time": "2022-01-11T13:13:08.234Z"
   },
   {
    "duration": 51,
    "start_time": "2022-01-11T13:13:08.292Z"
   },
   {
    "duration": 55,
    "start_time": "2022-01-11T13:13:08.345Z"
   },
   {
    "duration": 79,
    "start_time": "2022-01-11T13:13:08.418Z"
   },
   {
    "duration": 59,
    "start_time": "2022-01-11T13:13:08.517Z"
   },
   {
    "duration": 69,
    "start_time": "2022-01-11T13:13:08.580Z"
   },
   {
    "duration": 64,
    "start_time": "2022-01-11T13:13:08.652Z"
   },
   {
    "duration": 26,
    "start_time": "2022-01-11T13:13:08.719Z"
   },
   {
    "duration": 76,
    "start_time": "2022-01-11T13:13:08.748Z"
   },
   {
    "duration": 68,
    "start_time": "2022-01-11T13:13:08.828Z"
   },
   {
    "duration": 61,
    "start_time": "2022-01-11T13:13:08.899Z"
   },
   {
    "duration": 33,
    "start_time": "2022-01-11T13:13:12.763Z"
   },
   {
    "duration": 43,
    "start_time": "2022-01-11T13:13:41.408Z"
   },
   {
    "duration": 38,
    "start_time": "2022-01-11T13:16:19.518Z"
   },
   {
    "duration": 104,
    "start_time": "2022-01-11T13:18:11.723Z"
   },
   {
    "duration": 40,
    "start_time": "2022-01-11T13:18:20.796Z"
   },
   {
    "duration": 7,
    "start_time": "2022-01-11T13:20:17.180Z"
   },
   {
    "duration": 8,
    "start_time": "2022-01-11T13:20:38.238Z"
   },
   {
    "duration": 37,
    "start_time": "2022-01-11T13:23:29.873Z"
   },
   {
    "duration": 8,
    "start_time": "2022-01-11T13:23:48.065Z"
   },
   {
    "duration": 21,
    "start_time": "2022-01-11T13:24:01.305Z"
   },
   {
    "duration": 8,
    "start_time": "2022-01-11T13:24:28.493Z"
   },
   {
    "duration": 18,
    "start_time": "2022-01-11T13:26:26.987Z"
   },
   {
    "duration": 18,
    "start_time": "2022-01-11T13:27:02.801Z"
   },
   {
    "duration": 290,
    "start_time": "2022-01-11T13:40:15.431Z"
   },
   {
    "duration": 11,
    "start_time": "2022-01-11T13:43:39.930Z"
   },
   {
    "duration": 23,
    "start_time": "2022-01-11T13:43:49.675Z"
   },
   {
    "duration": 322,
    "start_time": "2022-01-11T13:44:16.392Z"
   },
   {
    "duration": 322,
    "start_time": "2022-01-11T13:44:57.500Z"
   },
   {
    "duration": 399,
    "start_time": "2022-01-11T14:04:44.036Z"
   },
   {
    "duration": 47,
    "start_time": "2022-01-11T14:04:52.215Z"
   },
   {
    "duration": 5,
    "start_time": "2022-01-11T14:04:59.570Z"
   },
   {
    "duration": 44,
    "start_time": "2022-01-11T14:05:12.371Z"
   },
   {
    "duration": 810,
    "start_time": "2022-01-11T14:05:29.064Z"
   },
   {
    "duration": 5,
    "start_time": "2022-01-11T14:17:40.743Z"
   },
   {
    "duration": 1149,
    "start_time": "2022-01-11T14:17:40.752Z"
   },
   {
    "duration": 977,
    "start_time": "2022-01-11T14:17:41.904Z"
   },
   {
    "duration": 792,
    "start_time": "2022-01-11T14:17:42.883Z"
   },
   {
    "duration": 381,
    "start_time": "2022-01-11T14:17:43.677Z"
   },
   {
    "duration": 1094,
    "start_time": "2022-01-11T14:17:44.061Z"
   },
   {
    "duration": 625,
    "start_time": "2022-01-11T14:17:45.157Z"
   },
   {
    "duration": 919,
    "start_time": "2022-01-11T14:17:45.785Z"
   },
   {
    "duration": 616,
    "start_time": "2022-01-11T14:17:46.708Z"
   },
   {
    "duration": 504,
    "start_time": "2022-01-11T14:17:47.327Z"
   },
   {
    "duration": 558,
    "start_time": "2022-01-11T14:17:47.834Z"
   },
   {
    "duration": 611,
    "start_time": "2022-01-11T14:17:48.395Z"
   },
   {
    "duration": 491,
    "start_time": "2022-01-11T14:17:49.008Z"
   },
   {
    "duration": 216,
    "start_time": "2022-01-11T14:17:49.502Z"
   },
   {
    "duration": 403,
    "start_time": "2022-01-11T14:17:49.721Z"
   },
   {
    "duration": 453,
    "start_time": "2022-01-11T14:17:50.126Z"
   },
   {
    "duration": 309,
    "start_time": "2022-01-11T14:17:50.581Z"
   },
   {
    "duration": 294,
    "start_time": "2022-01-11T14:17:50.893Z"
   },
   {
    "duration": 253,
    "start_time": "2022-01-11T14:17:51.190Z"
   },
   {
    "duration": 400,
    "start_time": "2022-01-11T14:17:51.445Z"
   },
   {
    "duration": 260,
    "start_time": "2022-01-11T14:17:51.847Z"
   },
   {
    "duration": 328,
    "start_time": "2022-01-11T14:17:52.111Z"
   },
   {
    "duration": 631,
    "start_time": "2022-01-11T14:17:52.442Z"
   },
   {
    "duration": 563,
    "start_time": "2022-01-11T14:17:53.076Z"
   },
   {
    "duration": 408,
    "start_time": "2022-01-11T14:17:53.643Z"
   },
   {
    "duration": 794,
    "start_time": "2022-01-11T14:17:54.054Z"
   },
   {
    "duration": 353,
    "start_time": "2022-01-11T14:17:54.854Z"
   },
   {
    "duration": 353,
    "start_time": "2022-01-11T14:17:55.210Z"
   },
   {
    "duration": 557,
    "start_time": "2022-01-11T14:17:55.567Z"
   },
   {
    "duration": 358,
    "start_time": "2022-01-11T14:17:56.127Z"
   },
   {
    "duration": 311,
    "start_time": "2022-01-11T14:17:56.488Z"
   },
   {
    "duration": 560,
    "start_time": "2022-01-11T14:17:56.802Z"
   },
   {
    "duration": 343,
    "start_time": "2022-01-11T14:17:57.364Z"
   },
   {
    "duration": 581,
    "start_time": "2022-01-11T14:17:57.710Z"
   },
   {
    "duration": 1255,
    "start_time": "2022-01-11T14:17:58.294Z"
   },
   {
    "duration": 15,
    "start_time": "2022-01-11T14:18:03.941Z"
   },
   {
    "duration": 280,
    "start_time": "2022-01-11T14:18:16.313Z"
   },
   {
    "duration": 19,
    "start_time": "2022-01-11T14:18:25.770Z"
   },
   {
    "duration": 53,
    "start_time": "2022-01-11T14:18:28.811Z"
   },
   {
    "duration": 47,
    "start_time": "2022-01-11T14:18:30.132Z"
   },
   {
    "duration": 370,
    "start_time": "2022-01-11T14:18:32.411Z"
   },
   {
    "duration": 26,
    "start_time": "2022-01-11T14:18:33.669Z"
   },
   {
    "duration": 760,
    "start_time": "2022-01-11T14:19:55.522Z"
   },
   {
    "duration": 31,
    "start_time": "2022-01-11T14:19:56.285Z"
   },
   {
    "duration": 909,
    "start_time": "2022-01-11T14:19:56.319Z"
   },
   {
    "duration": 1006,
    "start_time": "2022-01-11T14:19:57.230Z"
   },
   {
    "duration": 1048,
    "start_time": "2022-01-11T14:19:58.239Z"
   },
   {
    "duration": 1091,
    "start_time": "2022-01-11T14:19:59.290Z"
   },
   {
    "duration": 1362,
    "start_time": "2022-01-11T14:20:00.383Z"
   },
   {
    "duration": 1466,
    "start_time": "2022-01-11T14:20:01.748Z"
   },
   {
    "duration": 1044,
    "start_time": "2022-01-11T14:20:03.217Z"
   },
   {
    "duration": 2211,
    "start_time": "2022-01-11T14:20:04.263Z"
   },
   {
    "duration": 2188,
    "start_time": "2022-01-11T14:20:06.477Z"
   },
   {
    "duration": 1661,
    "start_time": "2022-01-11T14:20:08.667Z"
   },
   {
    "duration": 2367,
    "start_time": "2022-01-11T14:20:10.331Z"
   },
   {
    "duration": 1545,
    "start_time": "2022-01-11T14:20:12.701Z"
   },
   {
    "duration": 1344,
    "start_time": "2022-01-11T14:20:14.248Z"
   },
   {
    "duration": 1809,
    "start_time": "2022-01-11T14:20:15.594Z"
   },
   {
    "duration": 1778,
    "start_time": "2022-01-11T14:20:17.406Z"
   },
   {
    "duration": 1244,
    "start_time": "2022-01-11T14:20:19.186Z"
   },
   {
    "duration": 1513,
    "start_time": "2022-01-11T14:20:20.433Z"
   },
   {
    "duration": 1564,
    "start_time": "2022-01-11T14:20:21.948Z"
   },
   {
    "duration": 1382,
    "start_time": "2022-01-11T14:20:23.515Z"
   },
   {
    "duration": 1055,
    "start_time": "2022-01-11T14:20:24.899Z"
   },
   {
    "duration": 1108,
    "start_time": "2022-01-11T14:20:25.962Z"
   },
   {
    "duration": 1940,
    "start_time": "2022-01-11T14:20:27.073Z"
   },
   {
    "duration": 1606,
    "start_time": "2022-01-11T14:20:29.016Z"
   },
   {
    "duration": 1904,
    "start_time": "2022-01-11T14:20:30.625Z"
   },
   {
    "duration": 1786,
    "start_time": "2022-01-11T14:20:32.531Z"
   },
   {
    "duration": 2302,
    "start_time": "2022-01-11T14:20:34.319Z"
   },
   {
    "duration": 2654,
    "start_time": "2022-01-11T14:20:36.623Z"
   },
   {
    "duration": 1698,
    "start_time": "2022-01-11T14:20:39.279Z"
   },
   {
    "duration": 1506,
    "start_time": "2022-01-11T14:20:40.979Z"
   },
   {
    "duration": 1292,
    "start_time": "2022-01-11T14:20:42.488Z"
   },
   {
    "duration": 1397,
    "start_time": "2022-01-11T14:20:43.782Z"
   },
   {
    "duration": 1448,
    "start_time": "2022-01-11T14:20:45.182Z"
   },
   {
    "duration": 2956,
    "start_time": "2022-01-11T14:20:46.632Z"
   },
   {
    "duration": 27,
    "start_time": "2022-01-11T14:20:49.590Z"
   },
   {
    "duration": 720,
    "start_time": "2022-01-11T14:20:49.620Z"
   },
   {
    "duration": 446,
    "start_time": "2022-01-11T14:20:50.342Z"
   },
   {
    "duration": 667,
    "start_time": "2022-01-11T14:20:50.791Z"
   },
   {
    "duration": 303,
    "start_time": "2022-01-11T14:20:51.460Z"
   },
   {
    "duration": 10,
    "start_time": "2022-01-11T14:30:51.711Z"
   },
   {
    "duration": 18,
    "start_time": "2022-01-11T14:30:52.855Z"
   },
   {
    "duration": 4,
    "start_time": "2022-01-11T14:31:10.896Z"
   },
   {
    "duration": 17,
    "start_time": "2022-01-11T14:31:12.735Z"
   },
   {
    "duration": 4,
    "start_time": "2022-01-11T14:31:26.481Z"
   },
   {
    "duration": 1231,
    "start_time": "2022-01-11T14:31:28.602Z"
   },
   {
    "duration": 495,
    "start_time": "2022-01-11T14:31:29.835Z"
   },
   {
    "duration": 4,
    "start_time": "2022-01-11T14:31:47.158Z"
   },
   {
    "duration": 1193,
    "start_time": "2022-01-11T14:31:47.165Z"
   },
   {
    "duration": 1026,
    "start_time": "2022-01-11T14:31:48.362Z"
   },
   {
    "duration": 1079,
    "start_time": "2022-01-11T14:31:49.390Z"
   },
   {
    "duration": 699,
    "start_time": "2022-01-11T14:31:50.472Z"
   },
   {
    "duration": 728,
    "start_time": "2022-01-11T14:31:51.173Z"
   },
   {
    "duration": 276,
    "start_time": "2022-01-11T14:31:51.903Z"
   },
   {
    "duration": 376,
    "start_time": "2022-01-11T14:31:52.182Z"
   },
   {
    "duration": 611,
    "start_time": "2022-01-11T14:31:52.564Z"
   },
   {
    "duration": 335,
    "start_time": "2022-01-11T14:31:53.179Z"
   },
   {
    "duration": 276,
    "start_time": "2022-01-11T14:31:53.516Z"
   },
   {
    "duration": 417,
    "start_time": "2022-01-11T14:31:53.795Z"
   },
   {
    "duration": 256,
    "start_time": "2022-01-11T14:31:54.215Z"
   },
   {
    "duration": 597,
    "start_time": "2022-01-11T14:31:54.473Z"
   },
   {
    "duration": 345,
    "start_time": "2022-01-11T14:31:55.073Z"
   },
   {
    "duration": 364,
    "start_time": "2022-01-11T14:31:55.420Z"
   },
   {
    "duration": 379,
    "start_time": "2022-01-11T14:31:55.787Z"
   },
   {
    "duration": 333,
    "start_time": "2022-01-11T14:31:56.169Z"
   },
   {
    "duration": 261,
    "start_time": "2022-01-11T14:31:56.505Z"
   },
   {
    "duration": 324,
    "start_time": "2022-01-11T14:31:56.769Z"
   },
   {
    "duration": 617,
    "start_time": "2022-01-11T14:31:57.096Z"
   },
   {
    "duration": 822,
    "start_time": "2022-01-11T14:31:57.716Z"
   },
   {
    "duration": 678,
    "start_time": "2022-01-11T14:31:58.541Z"
   },
   {
    "duration": 900,
    "start_time": "2022-01-11T14:31:59.221Z"
   },
   {
    "duration": 406,
    "start_time": "2022-01-11T14:32:00.124Z"
   },
   {
    "duration": 507,
    "start_time": "2022-01-11T14:32:00.532Z"
   },
   {
    "duration": 446,
    "start_time": "2022-01-11T14:32:01.044Z"
   },
   {
    "duration": 390,
    "start_time": "2022-01-11T14:32:01.492Z"
   },
   {
    "duration": 476,
    "start_time": "2022-01-11T14:32:01.884Z"
   },
   {
    "duration": 238,
    "start_time": "2022-01-11T14:32:02.362Z"
   },
   {
    "duration": 312,
    "start_time": "2022-01-11T14:32:02.602Z"
   },
   {
    "duration": 419,
    "start_time": "2022-01-11T14:32:02.917Z"
   },
   {
    "duration": 470,
    "start_time": "2022-01-11T14:32:03.339Z"
   },
   {
    "duration": 342,
    "start_time": "2022-01-11T14:32:03.811Z"
   },
   {
    "duration": 1043,
    "start_time": "2022-01-11T14:32:04.157Z"
   },
   {
    "duration": 3,
    "start_time": "2022-01-11T14:32:05.203Z"
   },
   {
    "duration": 17,
    "start_time": "2022-01-11T14:32:14.304Z"
   },
   {
    "duration": 4,
    "start_time": "2022-01-11T14:32:26.474Z"
   },
   {
    "duration": 18,
    "start_time": "2022-01-11T14:32:28.553Z"
   },
   {
    "duration": 9,
    "start_time": "2022-01-11T14:33:35.242Z"
   },
   {
    "duration": 6,
    "start_time": "2022-01-11T14:34:03.910Z"
   },
   {
    "duration": 1234,
    "start_time": "2022-01-11T14:34:05.799Z"
   },
   {
    "duration": 5,
    "start_time": "2022-01-11T14:34:45.763Z"
   },
   {
    "duration": 17,
    "start_time": "2022-01-11T14:34:47.484Z"
   },
   {
    "duration": 3,
    "start_time": "2022-01-11T14:35:00.021Z"
   },
   {
    "duration": 2280,
    "start_time": "2022-01-11T14:35:00.028Z"
   },
   {
    "duration": 986,
    "start_time": "2022-01-11T14:35:02.312Z"
   },
   {
    "duration": 1154,
    "start_time": "2022-01-11T14:35:03.302Z"
   },
   {
    "duration": 1069,
    "start_time": "2022-01-11T14:35:04.459Z"
   },
   {
    "duration": 1497,
    "start_time": "2022-01-11T14:35:05.530Z"
   },
   {
    "duration": 1062,
    "start_time": "2022-01-11T14:35:07.029Z"
   },
   {
    "duration": 656,
    "start_time": "2022-01-11T14:35:08.093Z"
   },
   {
    "duration": 410,
    "start_time": "2022-01-11T14:35:08.753Z"
   },
   {
    "duration": 1146,
    "start_time": "2022-01-11T14:35:09.166Z"
   },
   {
    "duration": 356,
    "start_time": "2022-01-11T14:35:10.314Z"
   },
   {
    "duration": 673,
    "start_time": "2022-01-11T14:35:10.673Z"
   },
   {
    "duration": 688,
    "start_time": "2022-01-11T14:35:11.348Z"
   },
   {
    "duration": 838,
    "start_time": "2022-01-11T14:35:12.039Z"
   },
   {
    "duration": 520,
    "start_time": "2022-01-11T14:35:12.881Z"
   },
   {
    "duration": 892,
    "start_time": "2022-01-11T14:35:13.404Z"
   },
   {
    "duration": 1143,
    "start_time": "2022-01-11T14:35:14.299Z"
   },
   {
    "duration": 1033,
    "start_time": "2022-01-11T14:35:15.445Z"
   },
   {
    "duration": 523,
    "start_time": "2022-01-11T14:35:16.481Z"
   },
   {
    "duration": 491,
    "start_time": "2022-01-11T14:35:17.006Z"
   },
   {
    "duration": 647,
    "start_time": "2022-01-11T14:35:17.500Z"
   },
   {
    "duration": 576,
    "start_time": "2022-01-11T14:35:18.149Z"
   },
   {
    "duration": 628,
    "start_time": "2022-01-11T14:35:18.728Z"
   },
   {
    "duration": 487,
    "start_time": "2022-01-11T14:35:19.359Z"
   },
   {
    "duration": 328,
    "start_time": "2022-01-11T14:35:19.848Z"
   },
   {
    "duration": 405,
    "start_time": "2022-01-11T14:35:20.178Z"
   },
   {
    "duration": 335,
    "start_time": "2022-01-11T14:35:20.587Z"
   },
   {
    "duration": 265,
    "start_time": "2022-01-11T14:35:20.925Z"
   },
   {
    "duration": 241,
    "start_time": "2022-01-11T14:35:21.192Z"
   },
   {
    "duration": 36,
    "start_time": "2022-01-11T14:35:21.435Z"
   },
   {
    "duration": 55,
    "start_time": "2022-01-11T14:35:21.473Z"
   },
   {
    "duration": 28,
    "start_time": "2022-01-11T14:35:21.531Z"
   },
   {
    "duration": 37,
    "start_time": "2022-01-11T14:35:21.563Z"
   },
   {
    "duration": 324,
    "start_time": "2022-01-11T14:35:21.603Z"
   },
   {
    "duration": 1243,
    "start_time": "2022-01-11T14:35:21.930Z"
   },
   {
    "duration": 4,
    "start_time": "2022-01-11T14:37:26.129Z"
   },
   {
    "duration": 7,
    "start_time": "2022-01-11T14:37:29.505Z"
   },
   {
    "duration": 17,
    "start_time": "2022-01-11T14:37:31.491Z"
   },
   {
    "duration": 4,
    "start_time": "2022-01-11T14:38:48.004Z"
   },
   {
    "duration": 321,
    "start_time": "2022-01-11T14:38:48.011Z"
   },
   {
    "duration": 357,
    "start_time": "2022-01-11T14:38:48.335Z"
   },
   {
    "duration": 1045,
    "start_time": "2022-01-11T14:38:48.695Z"
   },
   {
    "duration": 512,
    "start_time": "2022-01-11T14:38:49.743Z"
   },
   {
    "duration": 678,
    "start_time": "2022-01-11T14:38:50.258Z"
   },
   {
    "duration": 739,
    "start_time": "2022-01-11T14:38:50.939Z"
   },
   {
    "duration": 917,
    "start_time": "2022-01-11T14:38:51.681Z"
   },
   {
    "duration": 750,
    "start_time": "2022-01-11T14:38:52.602Z"
   },
   {
    "duration": 638,
    "start_time": "2022-01-11T14:38:53.355Z"
   },
   {
    "duration": 553,
    "start_time": "2022-01-11T14:38:53.995Z"
   },
   {
    "duration": 497,
    "start_time": "2022-01-11T14:38:54.550Z"
   },
   {
    "duration": 626,
    "start_time": "2022-01-11T14:38:55.049Z"
   },
   {
    "duration": 751,
    "start_time": "2022-01-11T14:38:55.677Z"
   },
   {
    "duration": 541,
    "start_time": "2022-01-11T14:38:56.431Z"
   },
   {
    "duration": 647,
    "start_time": "2022-01-11T14:38:56.975Z"
   },
   {
    "duration": 631,
    "start_time": "2022-01-11T14:38:57.624Z"
   },
   {
    "duration": 723,
    "start_time": "2022-01-11T14:38:58.257Z"
   },
   {
    "duration": 614,
    "start_time": "2022-01-11T14:38:58.983Z"
   },
   {
    "duration": 362,
    "start_time": "2022-01-11T14:38:59.600Z"
   },
   {
    "duration": 464,
    "start_time": "2022-01-11T14:38:59.964Z"
   },
   {
    "duration": 412,
    "start_time": "2022-01-11T14:39:00.430Z"
   },
   {
    "duration": 909,
    "start_time": "2022-01-11T14:39:00.844Z"
   },
   {
    "duration": 856,
    "start_time": "2022-01-11T14:39:01.756Z"
   },
   {
    "duration": 563,
    "start_time": "2022-01-11T14:39:02.615Z"
   },
   {
    "duration": 302,
    "start_time": "2022-01-11T14:39:03.181Z"
   },
   {
    "duration": 268,
    "start_time": "2022-01-11T14:39:03.488Z"
   },
   {
    "duration": 316,
    "start_time": "2022-01-11T14:39:03.759Z"
   },
   {
    "duration": 468,
    "start_time": "2022-01-11T14:39:04.078Z"
   },
   {
    "duration": 317,
    "start_time": "2022-01-11T14:39:04.548Z"
   },
   {
    "duration": 297,
    "start_time": "2022-01-11T14:39:04.868Z"
   },
   {
    "duration": 444,
    "start_time": "2022-01-11T14:39:05.168Z"
   },
   {
    "duration": 407,
    "start_time": "2022-01-11T14:39:05.614Z"
   },
   {
    "duration": 445,
    "start_time": "2022-01-11T14:39:06.023Z"
   },
   {
    "duration": 2058,
    "start_time": "2022-01-11T14:39:06.470Z"
   },
   {
    "duration": 5,
    "start_time": "2022-01-11T14:39:11.568Z"
   },
   {
    "duration": 4,
    "start_time": "2022-01-11T14:39:13.497Z"
   },
   {
    "duration": 17,
    "start_time": "2022-01-11T14:39:14.577Z"
   },
   {
    "duration": 9261,
    "start_time": "2022-01-11T14:40:33.553Z"
   },
   {
    "duration": -174,
    "start_time": "2022-01-11T14:40:42.992Z"
   },
   {
    "duration": 4,
    "start_time": "2022-01-11T14:41:19.131Z"
   },
   {
    "duration": 940,
    "start_time": "2022-01-11T14:41:19.138Z"
   },
   {
    "duration": 1157,
    "start_time": "2022-01-11T14:41:20.082Z"
   },
   {
    "duration": 1376,
    "start_time": "2022-01-11T14:41:21.241Z"
   },
   {
    "duration": 696,
    "start_time": "2022-01-11T14:41:22.620Z"
   },
   {
    "duration": 1414,
    "start_time": "2022-01-11T14:41:23.319Z"
   },
   {
    "duration": 1026,
    "start_time": "2022-01-11T14:41:24.735Z"
   },
   {
    "duration": 846,
    "start_time": "2022-01-11T14:41:25.763Z"
   },
   {
    "duration": 831,
    "start_time": "2022-01-11T14:41:26.613Z"
   },
   {
    "duration": 986,
    "start_time": "2022-01-11T14:41:27.448Z"
   },
   {
    "duration": 1246,
    "start_time": "2022-01-11T14:41:28.436Z"
   },
   {
    "duration": 1319,
    "start_time": "2022-01-11T14:41:29.685Z"
   },
   {
    "duration": 1417,
    "start_time": "2022-01-11T14:41:31.007Z"
   },
   {
    "duration": 1131,
    "start_time": "2022-01-11T14:41:32.426Z"
   },
   {
    "duration": 1343,
    "start_time": "2022-01-11T14:41:33.560Z"
   },
   {
    "duration": 1061,
    "start_time": "2022-01-11T14:41:34.906Z"
   },
   {
    "duration": 882,
    "start_time": "2022-01-11T14:41:35.969Z"
   },
   {
    "duration": 981,
    "start_time": "2022-01-11T14:41:36.855Z"
   },
   {
    "duration": 783,
    "start_time": "2022-01-11T14:41:37.838Z"
   },
   {
    "duration": 821,
    "start_time": "2022-01-11T14:41:38.624Z"
   },
   {
    "duration": 733,
    "start_time": "2022-01-11T14:41:39.448Z"
   },
   {
    "duration": 1109,
    "start_time": "2022-01-11T14:41:40.183Z"
   },
   {
    "duration": 1314,
    "start_time": "2022-01-11T14:41:41.294Z"
   },
   {
    "duration": 897,
    "start_time": "2022-01-11T14:41:42.611Z"
   },
   {
    "duration": 869,
    "start_time": "2022-01-11T14:41:43.510Z"
   },
   {
    "duration": 608,
    "start_time": "2022-01-11T14:41:44.381Z"
   },
   {
    "duration": 812,
    "start_time": "2022-01-11T14:41:44.996Z"
   },
   {
    "duration": 580,
    "start_time": "2022-01-11T14:41:45.812Z"
   },
   {
    "duration": 771,
    "start_time": "2022-01-11T14:41:46.395Z"
   },
   {
    "duration": 926,
    "start_time": "2022-01-11T14:41:47.168Z"
   },
   {
    "duration": 942,
    "start_time": "2022-01-11T14:41:48.097Z"
   },
   {
    "duration": 1033,
    "start_time": "2022-01-11T14:41:49.041Z"
   },
   {
    "duration": 621,
    "start_time": "2022-01-11T14:41:50.076Z"
   },
   {
    "duration": 608,
    "start_time": "2022-01-11T14:41:50.700Z"
   },
   {
    "duration": 1273,
    "start_time": "2022-01-11T14:41:51.310Z"
   },
   {
    "duration": 4,
    "start_time": "2022-01-11T14:41:52.585Z"
   },
   {
    "duration": 643,
    "start_time": "2022-01-11T14:41:52.592Z"
   },
   {
    "duration": 994,
    "start_time": "2022-01-11T14:41:53.238Z"
   },
   {
    "duration": 720,
    "start_time": "2022-01-11T14:41:54.235Z"
   },
   {
    "duration": 944,
    "start_time": "2022-01-11T14:41:54.958Z"
   },
   {
    "duration": 1014,
    "start_time": "2022-01-11T14:41:55.904Z"
   },
   {
    "duration": 5,
    "start_time": "2022-01-11T14:41:59.253Z"
   },
   {
    "duration": 4,
    "start_time": "2022-01-11T14:42:00.692Z"
   },
   {
    "duration": 16,
    "start_time": "2022-01-11T14:42:02.260Z"
   },
   {
    "duration": 3,
    "start_time": "2022-01-11T14:48:25.742Z"
   },
   {
    "duration": 249,
    "start_time": "2022-01-11T14:48:25.748Z"
   },
   {
    "duration": 753,
    "start_time": "2022-01-11T14:48:26.000Z"
   },
   {
    "duration": 583,
    "start_time": "2022-01-11T14:48:26.755Z"
   },
   {
    "duration": 492,
    "start_time": "2022-01-11T14:48:27.340Z"
   },
   {
    "duration": 343,
    "start_time": "2022-01-11T14:48:27.835Z"
   },
   {
    "duration": 119,
    "start_time": "2022-01-11T14:48:28.182Z"
   },
   {
    "duration": 335,
    "start_time": "2022-01-11T14:48:28.307Z"
   },
   {
    "duration": 1431,
    "start_time": "2022-01-11T14:48:28.646Z"
   },
   {
    "duration": 1429,
    "start_time": "2022-01-11T14:48:30.079Z"
   },
   {
    "duration": 1082,
    "start_time": "2022-01-11T14:48:31.511Z"
   },
   {
    "duration": 530,
    "start_time": "2022-01-11T14:48:32.596Z"
   },
   {
    "duration": 536,
    "start_time": "2022-01-11T14:48:33.128Z"
   },
   {
    "duration": 470,
    "start_time": "2022-01-11T14:48:33.667Z"
   },
   {
    "duration": 101,
    "start_time": "2022-01-11T14:48:34.139Z"
   },
   {
    "duration": 365,
    "start_time": "2022-01-11T14:48:34.243Z"
   },
   {
    "duration": 462,
    "start_time": "2022-01-11T14:48:34.610Z"
   },
   {
    "duration": 319,
    "start_time": "2022-01-11T14:48:35.075Z"
   },
   {
    "duration": 434,
    "start_time": "2022-01-11T14:48:35.398Z"
   },
   {
    "duration": 245,
    "start_time": "2022-01-11T14:48:35.834Z"
   },
   {
    "duration": 467,
    "start_time": "2022-01-11T14:48:36.082Z"
   },
   {
    "duration": 362,
    "start_time": "2022-01-11T14:48:36.552Z"
   },
   {
    "duration": 1109,
    "start_time": "2022-01-11T14:48:36.918Z"
   },
   {
    "duration": 1072,
    "start_time": "2022-01-11T14:48:38.030Z"
   },
   {
    "duration": 2058,
    "start_time": "2022-01-11T14:48:39.104Z"
   },
   {
    "duration": 590,
    "start_time": "2022-01-11T14:48:41.165Z"
   },
   {
    "duration": 492,
    "start_time": "2022-01-11T14:48:41.757Z"
   },
   {
    "duration": 748,
    "start_time": "2022-01-11T14:48:42.251Z"
   },
   {
    "duration": 642,
    "start_time": "2022-01-11T14:48:43.002Z"
   },
   {
    "duration": 763,
    "start_time": "2022-01-11T14:48:43.647Z"
   },
   {
    "duration": 581,
    "start_time": "2022-01-11T14:48:44.412Z"
   },
   {
    "duration": 1363,
    "start_time": "2022-01-11T14:48:44.995Z"
   },
   {
    "duration": 28,
    "start_time": "2022-01-11T14:49:17.822Z"
   },
   {
    "duration": 28,
    "start_time": "2022-01-11T14:49:19.901Z"
   },
   {
    "duration": 25,
    "start_time": "2022-01-11T14:49:43.897Z"
   },
   {
    "duration": 296,
    "start_time": "2022-01-11T14:49:44.969Z"
   },
   {
    "duration": 4,
    "start_time": "2022-01-11T14:49:48.321Z"
   },
   {
    "duration": 5,
    "start_time": "2022-01-11T14:49:50.697Z"
   },
   {
    "duration": 17,
    "start_time": "2022-01-11T14:49:52.873Z"
   },
   {
    "duration": 54,
    "start_time": "2022-01-11T14:50:29.014Z"
   },
   {
    "duration": 57,
    "start_time": "2022-01-11T14:50:39.215Z"
   },
   {
    "duration": 1594,
    "start_time": "2022-01-11T14:50:53.641Z"
   },
   {
    "duration": 5,
    "start_time": "2022-01-11T14:50:55.355Z"
   },
   {
    "duration": 5,
    "start_time": "2022-01-11T14:50:56.489Z"
   },
   {
    "duration": 17,
    "start_time": "2022-01-11T14:50:57.650Z"
   },
   {
    "duration": 49,
    "start_time": "2022-01-11T14:57:11.856Z"
   },
   {
    "duration": 16,
    "start_time": "2022-01-11T14:57:14.211Z"
   },
   {
    "duration": 27,
    "start_time": "2022-01-11T14:57:30.614Z"
   },
   {
    "duration": 156,
    "start_time": "2022-01-11T14:59:45.881Z"
   },
   {
    "duration": 25,
    "start_time": "2022-01-11T14:59:47.704Z"
   },
   {
    "duration": 7,
    "start_time": "2022-01-11T15:10:37.629Z"
   },
   {
    "duration": 7,
    "start_time": "2022-01-11T15:10:51.398Z"
   },
   {
    "duration": 38,
    "start_time": "2022-01-11T15:19:26.658Z"
   },
   {
    "duration": 32,
    "start_time": "2022-01-11T15:20:09.991Z"
   },
   {
    "duration": 33,
    "start_time": "2022-01-11T15:20:27.970Z"
   },
   {
    "duration": 4,
    "start_time": "2022-01-11T15:20:37.544Z"
   },
   {
    "duration": 298,
    "start_time": "2022-01-11T15:20:37.550Z"
   },
   {
    "duration": 297,
    "start_time": "2022-01-11T15:20:37.851Z"
   },
   {
    "duration": 558,
    "start_time": "2022-01-11T15:20:38.150Z"
   },
   {
    "duration": 383,
    "start_time": "2022-01-11T15:20:38.718Z"
   },
   {
    "duration": 549,
    "start_time": "2022-01-11T15:20:39.103Z"
   },
   {
    "duration": 837,
    "start_time": "2022-01-11T15:20:39.654Z"
   },
   {
    "duration": 453,
    "start_time": "2022-01-11T15:20:40.494Z"
   },
   {
    "duration": 314,
    "start_time": "2022-01-11T15:20:40.952Z"
   },
   {
    "duration": 547,
    "start_time": "2022-01-11T15:20:41.269Z"
   },
   {
    "duration": 527,
    "start_time": "2022-01-11T15:20:41.819Z"
   },
   {
    "duration": 342,
    "start_time": "2022-01-11T15:20:42.349Z"
   },
   {
    "duration": 418,
    "start_time": "2022-01-11T15:20:42.694Z"
   },
   {
    "duration": 417,
    "start_time": "2022-01-11T15:20:43.114Z"
   },
   {
    "duration": 353,
    "start_time": "2022-01-11T15:20:43.534Z"
   },
   {
    "duration": 592,
    "start_time": "2022-01-11T15:20:43.891Z"
   },
   {
    "duration": 983,
    "start_time": "2022-01-11T15:20:44.485Z"
   },
   {
    "duration": 1178,
    "start_time": "2022-01-11T15:20:45.470Z"
   },
   {
    "duration": 1085,
    "start_time": "2022-01-11T15:20:46.651Z"
   },
   {
    "duration": 396,
    "start_time": "2022-01-11T15:20:47.739Z"
   },
   {
    "duration": 578,
    "start_time": "2022-01-11T15:20:48.138Z"
   },
   {
    "duration": 511,
    "start_time": "2022-01-11T15:20:48.718Z"
   },
   {
    "duration": 350,
    "start_time": "2022-01-11T15:20:49.231Z"
   },
   {
    "duration": 422,
    "start_time": "2022-01-11T15:20:49.584Z"
   },
   {
    "duration": 576,
    "start_time": "2022-01-11T15:20:50.008Z"
   },
   {
    "duration": 561,
    "start_time": "2022-01-11T15:20:50.587Z"
   },
   {
    "duration": 1294,
    "start_time": "2022-01-11T15:20:51.153Z"
   },
   {
    "duration": 857,
    "start_time": "2022-01-11T15:20:52.450Z"
   },
   {
    "duration": 842,
    "start_time": "2022-01-11T15:20:53.310Z"
   },
   {
    "duration": 915,
    "start_time": "2022-01-11T15:20:54.154Z"
   },
   {
    "duration": 674,
    "start_time": "2022-01-11T15:20:55.071Z"
   },
   {
    "duration": 800,
    "start_time": "2022-01-11T15:20:55.748Z"
   },
   {
    "duration": 684,
    "start_time": "2022-01-11T15:20:56.551Z"
   },
   {
    "duration": 976,
    "start_time": "2022-01-11T15:20:57.237Z"
   },
   {
    "duration": 735,
    "start_time": "2022-01-11T15:20:58.216Z"
   },
   {
    "duration": 1321,
    "start_time": "2022-01-11T15:20:58.954Z"
   },
   {
    "duration": 1053,
    "start_time": "2022-01-11T15:21:00.278Z"
   },
   {
    "duration": 1243,
    "start_time": "2022-01-11T15:21:01.333Z"
   },
   {
    "duration": 1393,
    "start_time": "2022-01-11T15:21:02.578Z"
   },
   {
    "duration": 3248,
    "start_time": "2022-01-11T15:21:03.974Z"
   },
   {
    "duration": 4,
    "start_time": "2022-01-11T15:21:07.225Z"
   },
   {
    "duration": 782,
    "start_time": "2022-01-11T15:21:07.231Z"
   },
   {
    "duration": 886,
    "start_time": "2022-01-11T15:21:08.015Z"
   },
   {
    "duration": 488,
    "start_time": "2022-01-11T15:21:08.903Z"
   },
   {
    "duration": 260,
    "start_time": "2022-01-11T15:21:09.394Z"
   },
   {
    "duration": 893,
    "start_time": "2022-01-11T15:21:09.657Z"
   },
   {
    "duration": 470,
    "start_time": "2022-01-11T15:21:10.552Z"
   },
   {
    "duration": 1280,
    "start_time": "2022-01-11T15:21:11.025Z"
   },
   {
    "duration": 904,
    "start_time": "2022-01-11T15:21:12.307Z"
   },
   {
    "duration": 36,
    "start_time": "2022-01-11T15:21:23.793Z"
   },
   {
    "duration": 40,
    "start_time": "2022-01-11T15:21:31.538Z"
   },
   {
    "duration": 33,
    "start_time": "2022-01-11T15:21:45.723Z"
   },
   {
    "duration": 281,
    "start_time": "2022-01-11T15:26:43.618Z"
   },
   {
    "duration": 288,
    "start_time": "2022-01-11T15:35:10.709Z"
   },
   {
    "duration": 92,
    "start_time": "2022-01-11T15:37:35.328Z"
   },
   {
    "duration": 91,
    "start_time": "2022-01-11T15:37:48.201Z"
   },
   {
    "duration": 15,
    "start_time": "2022-01-11T15:38:09.043Z"
   },
   {
    "duration": 13,
    "start_time": "2022-01-11T15:38:41.848Z"
   },
   {
    "duration": 11,
    "start_time": "2022-01-11T15:38:52.722Z"
   },
   {
    "duration": 11,
    "start_time": "2022-01-11T15:39:30.415Z"
   },
   {
    "duration": 12,
    "start_time": "2022-01-11T15:40:08.251Z"
   },
   {
    "duration": 12,
    "start_time": "2022-01-11T15:40:22.149Z"
   },
   {
    "duration": 378,
    "start_time": "2022-01-11T16:02:24.698Z"
   },
   {
    "duration": 497,
    "start_time": "2022-01-11T16:02:32.996Z"
   },
   {
    "duration": 533,
    "start_time": "2022-01-11T16:15:18.264Z"
   },
   {
    "duration": 528,
    "start_time": "2022-01-11T16:17:40.306Z"
   },
   {
    "duration": 7,
    "start_time": "2022-01-11T16:28:31.903Z"
   },
   {
    "duration": 6,
    "start_time": "2022-01-11T16:28:38.185Z"
   },
   {
    "duration": 5,
    "start_time": "2022-01-11T16:29:01.628Z"
   },
   {
    "duration": 312,
    "start_time": "2022-01-11T16:29:21.606Z"
   },
   {
    "duration": 6,
    "start_time": "2022-01-11T16:29:28.743Z"
   },
   {
    "duration": 1231,
    "start_time": "2022-01-11T16:39:39.011Z"
   },
   {
    "duration": 3,
    "start_time": "2022-01-11T16:39:40.245Z"
   },
   {
    "duration": 263,
    "start_time": "2022-01-11T16:39:40.251Z"
   },
   {
    "duration": 501,
    "start_time": "2022-01-11T16:39:40.517Z"
   },
   {
    "duration": 778,
    "start_time": "2022-01-11T16:39:41.021Z"
   },
   {
    "duration": 722,
    "start_time": "2022-01-11T16:39:41.802Z"
   },
   {
    "duration": 383,
    "start_time": "2022-01-11T16:39:42.528Z"
   },
   {
    "duration": 314,
    "start_time": "2022-01-11T16:39:42.916Z"
   },
   {
    "duration": 374,
    "start_time": "2022-01-11T16:39:43.233Z"
   },
   {
    "duration": 364,
    "start_time": "2022-01-11T16:39:43.609Z"
   },
   {
    "duration": 493,
    "start_time": "2022-01-11T16:39:43.975Z"
   },
   {
    "duration": 381,
    "start_time": "2022-01-11T16:39:44.471Z"
   },
   {
    "duration": 450,
    "start_time": "2022-01-11T16:39:44.855Z"
   },
   {
    "duration": 445,
    "start_time": "2022-01-11T16:39:45.308Z"
   },
   {
    "duration": 583,
    "start_time": "2022-01-11T16:39:45.755Z"
   },
   {
    "duration": 594,
    "start_time": "2022-01-11T16:39:46.341Z"
   },
   {
    "duration": 432,
    "start_time": "2022-01-11T16:39:46.937Z"
   },
   {
    "duration": 598,
    "start_time": "2022-01-11T16:39:47.371Z"
   },
   {
    "duration": 722,
    "start_time": "2022-01-11T16:39:47.972Z"
   },
   {
    "duration": 402,
    "start_time": "2022-01-11T16:39:48.696Z"
   },
   {
    "duration": 439,
    "start_time": "2022-01-11T16:39:49.101Z"
   },
   {
    "duration": 236,
    "start_time": "2022-01-11T16:39:49.543Z"
   },
   {
    "duration": 558,
    "start_time": "2022-01-11T16:39:49.784Z"
   },
   {
    "duration": 833,
    "start_time": "2022-01-11T16:39:50.345Z"
   },
   {
    "duration": 304,
    "start_time": "2022-01-11T16:39:51.181Z"
   },
   {
    "duration": 836,
    "start_time": "2022-01-11T16:39:51.487Z"
   },
   {
    "duration": 497,
    "start_time": "2022-01-11T16:39:52.326Z"
   },
   {
    "duration": 822,
    "start_time": "2022-01-11T16:39:52.825Z"
   },
   {
    "duration": 789,
    "start_time": "2022-01-11T16:39:53.649Z"
   },
   {
    "duration": 770,
    "start_time": "2022-01-11T16:39:54.440Z"
   },
   {
    "duration": 710,
    "start_time": "2022-01-11T16:39:55.212Z"
   },
   {
    "duration": 738,
    "start_time": "2022-01-11T16:39:55.924Z"
   },
   {
    "duration": 458,
    "start_time": "2022-01-11T16:39:56.665Z"
   },
   {
    "duration": 997,
    "start_time": "2022-01-11T16:39:57.126Z"
   },
   {
    "duration": 1049,
    "start_time": "2022-01-11T16:39:58.126Z"
   },
   {
    "duration": 1388,
    "start_time": "2022-01-11T16:39:59.177Z"
   },
   {
    "duration": 1206,
    "start_time": "2022-01-11T16:40:00.567Z"
   },
   {
    "duration": 1232,
    "start_time": "2022-01-11T16:40:01.776Z"
   },
   {
    "duration": 1076,
    "start_time": "2022-01-11T16:40:03.011Z"
   },
   {
    "duration": 2849,
    "start_time": "2022-01-11T16:40:04.089Z"
   },
   {
    "duration": 6,
    "start_time": "2022-01-11T16:40:06.941Z"
   },
   {
    "duration": 1230,
    "start_time": "2022-01-11T16:40:06.950Z"
   },
   {
    "duration": 1472,
    "start_time": "2022-01-11T16:40:08.183Z"
   },
   {
    "duration": 1248,
    "start_time": "2022-01-11T16:40:09.657Z"
   },
   {
    "duration": 935,
    "start_time": "2022-01-11T16:40:10.908Z"
   },
   {
    "duration": 472,
    "start_time": "2022-01-11T16:40:11.846Z"
   },
   {
    "duration": 199,
    "start_time": "2022-01-11T16:40:12.321Z"
   },
   {
    "duration": 242,
    "start_time": "2022-01-11T16:40:12.522Z"
   },
   {
    "duration": 685,
    "start_time": "2022-01-11T16:40:12.767Z"
   },
   {
    "duration": 248,
    "start_time": "2022-01-11T16:40:13.454Z"
   },
   {
    "duration": 482,
    "start_time": "2022-01-11T16:40:13.704Z"
   },
   {
    "duration": 168,
    "start_time": "2022-01-11T16:40:14.189Z"
   },
   {
    "duration": 368,
    "start_time": "2022-01-11T16:40:14.360Z"
   },
   {
    "duration": 266,
    "start_time": "2022-01-11T16:40:14.730Z"
   },
   {
    "duration": 223,
    "start_time": "2022-01-11T16:40:14.998Z"
   },
   {
    "duration": 178,
    "start_time": "2022-01-11T16:40:15.224Z"
   },
   {
    "duration": 5,
    "start_time": "2022-01-11T16:58:17.201Z"
   },
   {
    "duration": 11,
    "start_time": "2022-01-11T17:04:10.362Z"
   },
   {
    "duration": 15,
    "start_time": "2022-01-11T17:04:17.482Z"
   },
   {
    "duration": 5,
    "start_time": "2022-01-11T17:07:15.409Z"
   },
   {
    "duration": 11,
    "start_time": "2022-01-11T17:11:10.679Z"
   },
   {
    "duration": 12,
    "start_time": "2022-01-11T17:11:12.263Z"
   },
   {
    "duration": 5,
    "start_time": "2022-01-11T17:15:50.172Z"
   },
   {
    "duration": 99,
    "start_time": "2022-01-11T17:29:43.241Z"
   },
   {
    "duration": 5,
    "start_time": "2022-01-11T17:30:09.724Z"
   },
   {
    "duration": 5,
    "start_time": "2022-01-11T17:30:45.933Z"
   },
   {
    "duration": 99,
    "start_time": "2022-01-11T17:54:59.983Z"
   },
   {
    "duration": 28,
    "start_time": "2022-01-11T17:55:05.193Z"
   },
   {
    "duration": 28,
    "start_time": "2022-01-11T17:55:55.630Z"
   },
   {
    "duration": 513,
    "start_time": "2022-01-11T18:22:54.389Z"
   },
   {
    "duration": 1343,
    "start_time": "2022-01-11T18:23:14.879Z"
   },
   {
    "duration": 3,
    "start_time": "2022-01-11T18:23:16.225Z"
   },
   {
    "duration": 71,
    "start_time": "2022-01-11T18:23:16.231Z"
   },
   {
    "duration": 320,
    "start_time": "2022-01-11T18:23:16.305Z"
   },
   {
    "duration": 165,
    "start_time": "2022-01-11T18:23:16.628Z"
   },
   {
    "duration": 250,
    "start_time": "2022-01-11T18:23:16.797Z"
   },
   {
    "duration": 36,
    "start_time": "2022-01-11T18:23:17.050Z"
   },
   {
    "duration": 9,
    "start_time": "2022-01-11T18:23:17.090Z"
   },
   {
    "duration": 15,
    "start_time": "2022-01-11T18:23:17.102Z"
   },
   {
    "duration": 50,
    "start_time": "2022-01-11T18:23:17.119Z"
   },
   {
    "duration": 8,
    "start_time": "2022-01-11T18:23:17.172Z"
   },
   {
    "duration": 42,
    "start_time": "2022-01-11T18:23:17.183Z"
   },
   {
    "duration": 70,
    "start_time": "2022-01-11T18:23:17.227Z"
   },
   {
    "duration": 21,
    "start_time": "2022-01-11T18:23:17.300Z"
   },
   {
    "duration": 72,
    "start_time": "2022-01-11T18:23:17.323Z"
   },
   {
    "duration": 49,
    "start_time": "2022-01-11T18:23:17.397Z"
   },
   {
    "duration": 48,
    "start_time": "2022-01-11T18:23:17.449Z"
   },
   {
    "duration": 74,
    "start_time": "2022-01-11T18:23:17.499Z"
   },
   {
    "duration": 69,
    "start_time": "2022-01-11T18:23:17.575Z"
   },
   {
    "duration": 61,
    "start_time": "2022-01-11T18:23:17.646Z"
   },
   {
    "duration": 25,
    "start_time": "2022-01-11T18:23:17.710Z"
   },
   {
    "duration": 66,
    "start_time": "2022-01-11T18:23:17.738Z"
   },
   {
    "duration": 73,
    "start_time": "2022-01-11T18:23:17.809Z"
   },
   {
    "duration": 36,
    "start_time": "2022-01-11T18:23:17.885Z"
   },
   {
    "duration": 8,
    "start_time": "2022-01-11T18:23:17.924Z"
   },
   {
    "duration": 45,
    "start_time": "2022-01-11T18:23:17.934Z"
   },
   {
    "duration": 20,
    "start_time": "2022-01-11T18:23:17.982Z"
   },
   {
    "duration": 31,
    "start_time": "2022-01-11T18:23:18.005Z"
   },
   {
    "duration": 27,
    "start_time": "2022-01-11T18:23:18.068Z"
   },
   {
    "duration": 333,
    "start_time": "2022-01-11T18:23:18.098Z"
   },
   {
    "duration": 10,
    "start_time": "2022-01-11T18:23:18.435Z"
   },
   {
    "duration": 19,
    "start_time": "2022-01-11T18:23:18.448Z"
   },
   {
    "duration": 21,
    "start_time": "2022-01-11T18:23:18.470Z"
   },
   {
    "duration": 83,
    "start_time": "2022-01-11T18:23:18.494Z"
   },
   {
    "duration": 56,
    "start_time": "2022-01-11T18:23:18.579Z"
   },
   {
    "duration": 1985,
    "start_time": "2022-01-11T18:23:18.638Z"
   },
   {
    "duration": 5,
    "start_time": "2022-01-11T18:23:20.625Z"
   },
   {
    "duration": 12,
    "start_time": "2022-01-11T18:23:20.632Z"
   },
   {
    "duration": 34,
    "start_time": "2022-01-11T18:23:20.646Z"
   },
   {
    "duration": 50,
    "start_time": "2022-01-11T18:23:20.683Z"
   },
   {
    "duration": 52,
    "start_time": "2022-01-11T18:23:20.736Z"
   },
   {
    "duration": 142,
    "start_time": "2022-01-11T18:23:20.790Z"
   },
   {
    "duration": 40,
    "start_time": "2022-01-11T18:23:20.935Z"
   },
   {
    "duration": 14,
    "start_time": "2022-01-11T18:23:28.317Z"
   },
   {
    "duration": 8358,
    "start_time": "2022-01-11T18:24:47.119Z"
   },
   {
    "duration": 14,
    "start_time": "2022-01-11T18:25:48.080Z"
   },
   {
    "duration": 14,
    "start_time": "2022-01-11T18:25:59.849Z"
   },
   {
    "duration": 7594,
    "start_time": "2022-01-11T18:26:21.629Z"
   },
   {
    "duration": 373,
    "start_time": "2022-01-11T18:29:57.567Z"
   },
   {
    "duration": 22,
    "start_time": "2022-01-11T18:30:51.984Z"
   },
   {
    "duration": 26,
    "start_time": "2022-01-11T18:31:32.749Z"
   },
   {
    "duration": 30,
    "start_time": "2022-01-11T18:35:42.723Z"
   },
   {
    "duration": 26,
    "start_time": "2022-01-11T18:35:53.524Z"
   },
   {
    "duration": 26,
    "start_time": "2022-01-11T18:36:18.436Z"
   },
   {
    "duration": 28,
    "start_time": "2022-01-11T18:36:31.918Z"
   },
   {
    "duration": 6,
    "start_time": "2022-01-11T18:41:20.377Z"
   },
   {
    "duration": 12,
    "start_time": "2022-01-11T18:41:31.144Z"
   },
   {
    "duration": 10,
    "start_time": "2022-01-11T18:42:04.735Z"
   },
   {
    "duration": 29,
    "start_time": "2022-01-11T18:45:26.243Z"
   },
   {
    "duration": 27,
    "start_time": "2022-01-11T18:45:33.907Z"
   },
   {
    "duration": 31,
    "start_time": "2022-01-11T18:45:37.115Z"
   },
   {
    "duration": 9,
    "start_time": "2022-01-11T18:46:23.018Z"
   },
   {
    "duration": 9,
    "start_time": "2022-01-11T19:14:27.457Z"
   },
   {
    "duration": 1535,
    "start_time": "2022-01-12T06:52:33.494Z"
   },
   {
    "duration": 3,
    "start_time": "2022-01-12T06:52:35.031Z"
   },
   {
    "duration": 55,
    "start_time": "2022-01-12T06:52:35.038Z"
   },
   {
    "duration": 271,
    "start_time": "2022-01-12T06:52:35.095Z"
   },
   {
    "duration": 170,
    "start_time": "2022-01-12T06:52:35.369Z"
   },
   {
    "duration": 378,
    "start_time": "2022-01-12T06:52:35.542Z"
   },
   {
    "duration": 42,
    "start_time": "2022-01-12T06:52:35.924Z"
   },
   {
    "duration": 17,
    "start_time": "2022-01-12T06:52:35.969Z"
   },
   {
    "duration": 35,
    "start_time": "2022-01-12T06:52:35.991Z"
   },
   {
    "duration": 16,
    "start_time": "2022-01-12T06:52:36.030Z"
   },
   {
    "duration": 13,
    "start_time": "2022-01-12T06:52:36.049Z"
   },
   {
    "duration": 67,
    "start_time": "2022-01-12T06:52:36.065Z"
   },
   {
    "duration": 34,
    "start_time": "2022-01-12T06:52:36.134Z"
   },
   {
    "duration": 57,
    "start_time": "2022-01-12T06:52:36.171Z"
   },
   {
    "duration": 37,
    "start_time": "2022-01-12T06:52:36.231Z"
   },
   {
    "duration": 75,
    "start_time": "2022-01-12T06:52:36.270Z"
   },
   {
    "duration": 33,
    "start_time": "2022-01-12T06:52:36.348Z"
   },
   {
    "duration": 80,
    "start_time": "2022-01-12T06:52:36.383Z"
   },
   {
    "duration": 94,
    "start_time": "2022-01-12T06:52:36.465Z"
   },
   {
    "duration": 57,
    "start_time": "2022-01-12T06:52:36.561Z"
   },
   {
    "duration": 24,
    "start_time": "2022-01-12T06:52:36.621Z"
   },
   {
    "duration": 45,
    "start_time": "2022-01-12T06:52:36.647Z"
   },
   {
    "duration": 76,
    "start_time": "2022-01-12T06:52:36.694Z"
   },
   {
    "duration": 54,
    "start_time": "2022-01-12T06:52:36.773Z"
   },
   {
    "duration": 9,
    "start_time": "2022-01-12T06:52:36.830Z"
   },
   {
    "duration": 16,
    "start_time": "2022-01-12T06:52:36.842Z"
   },
   {
    "duration": 15,
    "start_time": "2022-01-12T06:52:36.864Z"
   },
   {
    "duration": 26,
    "start_time": "2022-01-12T06:52:36.916Z"
   },
   {
    "duration": 26,
    "start_time": "2022-01-12T06:52:36.944Z"
   },
   {
    "duration": 299,
    "start_time": "2022-01-12T06:52:36.972Z"
   },
   {
    "duration": 8,
    "start_time": "2022-01-12T06:52:37.274Z"
   },
   {
    "duration": 4,
    "start_time": "2022-01-12T06:52:37.285Z"
   },
   {
    "duration": 34,
    "start_time": "2022-01-12T06:52:37.292Z"
   },
   {
    "duration": 56,
    "start_time": "2022-01-12T06:52:37.329Z"
   },
   {
    "duration": 72,
    "start_time": "2022-01-12T06:52:37.388Z"
   },
   {
    "duration": 1672,
    "start_time": "2022-01-12T06:52:37.462Z"
   },
   {
    "duration": 4,
    "start_time": "2022-01-12T06:52:39.137Z"
   },
   {
    "duration": 6,
    "start_time": "2022-01-12T06:52:39.143Z"
   },
   {
    "duration": 21,
    "start_time": "2022-01-12T06:52:39.151Z"
   },
   {
    "duration": 74,
    "start_time": "2022-01-12T06:52:39.175Z"
   },
   {
    "duration": 28,
    "start_time": "2022-01-12T06:52:39.251Z"
   },
   {
    "duration": 142,
    "start_time": "2022-01-12T06:52:39.281Z"
   },
   {
    "duration": 25,
    "start_time": "2022-01-12T06:52:39.425Z"
   },
   {
    "duration": 24,
    "start_time": "2022-01-12T06:52:39.452Z"
   },
   {
    "duration": 60,
    "start_time": "2022-01-12T06:52:39.478Z"
   },
   {
    "duration": 8,
    "start_time": "2022-01-12T06:52:39.540Z"
   },
   {
    "duration": 23,
    "start_time": "2022-01-12T06:52:39.551Z"
   },
   {
    "duration": 59,
    "start_time": "2022-01-12T06:52:39.577Z"
   },
   {
    "duration": 8,
    "start_time": "2022-01-12T06:52:39.638Z"
   },
   {
    "duration": 5,
    "start_time": "2022-01-12T06:52:39.649Z"
   },
   {
    "duration": 8,
    "start_time": "2022-01-12T06:52:39.656Z"
   },
   {
    "duration": 7,
    "start_time": "2022-01-12T06:52:39.666Z"
   },
   {
    "duration": 71,
    "start_time": "2022-01-12T06:52:39.676Z"
   },
   {
    "duration": 13,
    "start_time": "2022-01-12T06:52:39.749Z"
   },
   {
    "duration": 13,
    "start_time": "2022-01-12T06:52:39.764Z"
   },
   {
    "duration": 71,
    "start_time": "2022-01-12T06:52:39.779Z"
   },
   {
    "duration": 12,
    "start_time": "2022-01-12T06:52:39.853Z"
   },
   {
    "duration": 50,
    "start_time": "2022-01-12T06:52:39.868Z"
   },
   {
    "duration": 7,
    "start_time": "2022-01-12T06:52:39.921Z"
   },
   {
    "duration": 268,
    "start_time": "2022-01-12T06:55:18.688Z"
   },
   {
    "duration": 724,
    "start_time": "2022-01-12T07:01:01.115Z"
   },
   {
    "duration": 4,
    "start_time": "2022-01-12T07:01:51.064Z"
   },
   {
    "duration": 299,
    "start_time": "2022-01-12T07:02:08.458Z"
   },
   {
    "duration": 277,
    "start_time": "2022-01-12T07:11:03.164Z"
   },
   {
    "duration": 329,
    "start_time": "2022-01-12T07:11:21.194Z"
   },
   {
    "duration": 308,
    "start_time": "2022-01-12T07:11:41.699Z"
   },
   {
    "duration": 449,
    "start_time": "2022-01-12T07:12:09.656Z"
   },
   {
    "duration": 410,
    "start_time": "2022-01-12T07:12:30.349Z"
   },
   {
    "duration": 371,
    "start_time": "2022-01-12T07:12:56.401Z"
   },
   {
    "duration": 23,
    "start_time": "2022-01-12T07:14:19.856Z"
   },
   {
    "duration": 370,
    "start_time": "2022-01-12T07:22:54.382Z"
   },
   {
    "duration": 4775,
    "start_time": "2022-01-12T07:26:02.271Z"
   },
   {
    "duration": 672,
    "start_time": "2022-01-12T07:27:30.090Z"
   },
   {
    "duration": 688,
    "start_time": "2022-01-12T08:13:05.457Z"
   },
   {
    "duration": 455,
    "start_time": "2022-01-12T08:14:12.235Z"
   },
   {
    "duration": 593,
    "start_time": "2022-01-12T08:14:54.647Z"
   },
   {
    "duration": 433,
    "start_time": "2022-01-12T08:15:44.096Z"
   },
   {
    "duration": 525,
    "start_time": "2022-01-12T08:17:02.162Z"
   },
   {
    "duration": 328,
    "start_time": "2022-01-12T08:17:14.140Z"
   },
   {
    "duration": 7890,
    "start_time": "2022-01-12T08:19:03.776Z"
   },
   {
    "duration": 283,
    "start_time": "2022-01-12T08:19:28.662Z"
   },
   {
    "duration": 606,
    "start_time": "2022-01-12T08:22:33.293Z"
   },
   {
    "duration": 302,
    "start_time": "2022-01-12T08:22:55.571Z"
   },
   {
    "duration": 226,
    "start_time": "2022-01-12T08:24:07.791Z"
   },
   {
    "duration": 245,
    "start_time": "2022-01-12T08:24:31.885Z"
   },
   {
    "duration": 326,
    "start_time": "2022-01-12T08:25:08.115Z"
   },
   {
    "duration": 484,
    "start_time": "2022-01-12T08:25:34.833Z"
   },
   {
    "duration": 1299,
    "start_time": "2022-01-12T08:27:33.301Z"
   },
   {
    "duration": 1066,
    "start_time": "2022-01-12T08:28:09.915Z"
   },
   {
    "duration": 1052,
    "start_time": "2022-01-12T08:28:29.425Z"
   },
   {
    "duration": 1162,
    "start_time": "2022-01-12T08:30:45.110Z"
   },
   {
    "duration": 1344,
    "start_time": "2022-01-12T08:30:57.141Z"
   },
   {
    "duration": 327,
    "start_time": "2022-01-12T08:35:23.625Z"
   },
   {
    "duration": 966,
    "start_time": "2022-01-12T08:39:57.134Z"
   },
   {
    "duration": 1177,
    "start_time": "2022-01-12T08:42:16.473Z"
   },
   {
    "duration": 944,
    "start_time": "2022-01-12T10:12:29.900Z"
   },
   {
    "duration": 1176,
    "start_time": "2022-01-12T10:12:56.986Z"
   },
   {
    "duration": 618,
    "start_time": "2022-01-12T10:13:58.927Z"
   },
   {
    "duration": 905,
    "start_time": "2022-01-12T10:19:38.640Z"
   },
   {
    "duration": 4,
    "start_time": "2022-01-12T10:19:53.940Z"
   },
   {
    "duration": 632,
    "start_time": "2022-01-12T10:20:00.641Z"
   },
   {
    "duration": 605,
    "start_time": "2022-01-12T10:21:52.916Z"
   },
   {
    "duration": 597,
    "start_time": "2022-01-12T10:22:00.033Z"
   },
   {
    "duration": 1834,
    "start_time": "2022-01-12T10:22:48.751Z"
   },
   {
    "duration": 877,
    "start_time": "2022-01-12T10:24:24.374Z"
   },
   {
    "duration": 4,
    "start_time": "2022-01-12T10:24:25.253Z"
   },
   {
    "duration": 56,
    "start_time": "2022-01-12T10:24:25.259Z"
   },
   {
    "duration": 288,
    "start_time": "2022-01-12T10:24:25.318Z"
   },
   {
    "duration": 163,
    "start_time": "2022-01-12T10:24:25.608Z"
   },
   {
    "duration": 242,
    "start_time": "2022-01-12T10:24:25.774Z"
   },
   {
    "duration": 31,
    "start_time": "2022-01-12T10:24:26.019Z"
   },
   {
    "duration": 10,
    "start_time": "2022-01-12T10:24:26.054Z"
   },
   {
    "duration": 12,
    "start_time": "2022-01-12T10:24:26.066Z"
   },
   {
    "duration": 18,
    "start_time": "2022-01-12T10:24:26.080Z"
   },
   {
    "duration": 9,
    "start_time": "2022-01-12T10:24:26.118Z"
   },
   {
    "duration": 45,
    "start_time": "2022-01-12T10:24:26.129Z"
   },
   {
    "duration": 61,
    "start_time": "2022-01-12T10:24:26.176Z"
   },
   {
    "duration": 21,
    "start_time": "2022-01-12T10:24:26.240Z"
   },
   {
    "duration": 62,
    "start_time": "2022-01-12T10:24:26.263Z"
   },
   {
    "duration": 46,
    "start_time": "2022-01-12T10:24:26.328Z"
   },
   {
    "duration": 51,
    "start_time": "2022-01-12T10:24:26.376Z"
   },
   {
    "duration": 53,
    "start_time": "2022-01-12T10:24:26.430Z"
   },
   {
    "duration": 89,
    "start_time": "2022-01-12T10:24:26.486Z"
   },
   {
    "duration": 64,
    "start_time": "2022-01-12T10:24:26.577Z"
   },
   {
    "duration": 24,
    "start_time": "2022-01-12T10:24:26.643Z"
   },
   {
    "duration": 67,
    "start_time": "2022-01-12T10:24:26.669Z"
   },
   {
    "duration": 54,
    "start_time": "2022-01-12T10:24:26.741Z"
   },
   {
    "duration": 49,
    "start_time": "2022-01-12T10:24:26.798Z"
   },
   {
    "duration": 8,
    "start_time": "2022-01-12T10:24:26.850Z"
   },
   {
    "duration": 20,
    "start_time": "2022-01-12T10:24:26.860Z"
   },
   {
    "duration": 46,
    "start_time": "2022-01-12T10:24:26.883Z"
   },
   {
    "duration": 39,
    "start_time": "2022-01-12T10:24:26.931Z"
   },
   {
    "duration": 28,
    "start_time": "2022-01-12T10:24:26.973Z"
   },
   {
    "duration": 300,
    "start_time": "2022-01-12T10:24:27.018Z"
   },
   {
    "duration": 9,
    "start_time": "2022-01-12T10:24:27.321Z"
   },
   {
    "duration": 11,
    "start_time": "2022-01-12T10:24:27.332Z"
   },
   {
    "duration": 18,
    "start_time": "2022-01-12T10:24:27.346Z"
   },
   {
    "duration": 71,
    "start_time": "2022-01-12T10:24:27.367Z"
   },
   {
    "duration": 56,
    "start_time": "2022-01-12T10:24:27.441Z"
   },
   {
    "duration": 1586,
    "start_time": "2022-01-12T10:24:27.499Z"
   },
   {
    "duration": 6,
    "start_time": "2022-01-12T10:24:29.088Z"
   },
   {
    "duration": 22,
    "start_time": "2022-01-12T10:24:29.098Z"
   },
   {
    "duration": 25,
    "start_time": "2022-01-12T10:24:29.122Z"
   },
   {
    "duration": 73,
    "start_time": "2022-01-12T10:24:29.150Z"
   },
   {
    "duration": 27,
    "start_time": "2022-01-12T10:24:29.226Z"
   },
   {
    "duration": 141,
    "start_time": "2022-01-12T10:24:29.255Z"
   },
   {
    "duration": 31,
    "start_time": "2022-01-12T10:24:29.398Z"
   },
   {
    "duration": 414,
    "start_time": "2022-01-12T10:24:29.431Z"
   },
   {
    "duration": 1058,
    "start_time": "2022-01-12T10:24:29.848Z"
   },
   {
    "duration": 34,
    "start_time": "2022-01-12T10:24:30.909Z"
   },
   {
    "duration": 9,
    "start_time": "2022-01-12T10:24:30.946Z"
   },
   {
    "duration": 1176,
    "start_time": "2022-01-12T10:24:30.958Z"
   },
   {
    "duration": 31,
    "start_time": "2022-01-12T10:24:32.136Z"
   },
   {
    "duration": 10,
    "start_time": "2022-01-12T10:24:32.169Z"
   },
   {
    "duration": 37,
    "start_time": "2022-01-12T10:24:32.182Z"
   },
   {
    "duration": 9,
    "start_time": "2022-01-12T10:24:32.221Z"
   },
   {
    "duration": 13,
    "start_time": "2022-01-12T10:24:32.232Z"
   },
   {
    "duration": 37,
    "start_time": "2022-01-12T10:24:32.248Z"
   },
   {
    "duration": 41,
    "start_time": "2022-01-12T10:24:32.287Z"
   },
   {
    "duration": 12,
    "start_time": "2022-01-12T10:24:32.331Z"
   },
   {
    "duration": 38,
    "start_time": "2022-01-12T10:24:32.346Z"
   },
   {
    "duration": 45,
    "start_time": "2022-01-12T10:24:32.387Z"
   },
   {
    "duration": 21,
    "start_time": "2022-01-12T10:24:32.435Z"
   },
   {
    "duration": 12,
    "start_time": "2022-01-12T10:24:32.459Z"
   },
   {
    "duration": 1019,
    "start_time": "2022-01-12T10:25:02.658Z"
   },
   {
    "duration": 899,
    "start_time": "2022-01-13T17:55:51.874Z"
   },
   {
    "duration": 4,
    "start_time": "2022-01-13T17:55:52.775Z"
   },
   {
    "duration": 57,
    "start_time": "2022-01-13T17:55:52.782Z"
   },
   {
    "duration": 280,
    "start_time": "2022-01-13T17:55:52.842Z"
   },
   {
    "duration": 159,
    "start_time": "2022-01-13T17:55:53.124Z"
   },
   {
    "duration": 224,
    "start_time": "2022-01-13T17:55:53.285Z"
   },
   {
    "duration": 37,
    "start_time": "2022-01-13T17:55:53.511Z"
   },
   {
    "duration": 10,
    "start_time": "2022-01-13T17:55:53.551Z"
   },
   {
    "duration": 14,
    "start_time": "2022-01-13T17:55:53.564Z"
   },
   {
    "duration": 37,
    "start_time": "2022-01-13T17:55:53.581Z"
   },
   {
    "duration": 9,
    "start_time": "2022-01-13T17:55:53.621Z"
   },
   {
    "duration": 37,
    "start_time": "2022-01-13T17:55:53.632Z"
   },
   {
    "duration": 87,
    "start_time": "2022-01-13T17:55:53.671Z"
   },
   {
    "duration": 21,
    "start_time": "2022-01-13T17:55:53.760Z"
   },
   {
    "duration": 62,
    "start_time": "2022-01-13T17:55:53.783Z"
   },
   {
    "duration": 70,
    "start_time": "2022-01-13T17:55:53.847Z"
   },
   {
    "duration": 31,
    "start_time": "2022-01-13T17:55:53.919Z"
   },
   {
    "duration": 77,
    "start_time": "2022-01-13T17:55:53.952Z"
   },
   {
    "duration": 87,
    "start_time": "2022-01-13T17:55:54.032Z"
   },
   {
    "duration": 47,
    "start_time": "2022-01-13T17:55:54.122Z"
   },
   {
    "duration": 48,
    "start_time": "2022-01-13T17:55:54.171Z"
   },
   {
    "duration": 49,
    "start_time": "2022-01-13T17:55:54.222Z"
   },
   {
    "duration": 75,
    "start_time": "2022-01-13T17:55:54.277Z"
   },
   {
    "duration": 35,
    "start_time": "2022-01-13T17:55:54.355Z"
   },
   {
    "duration": 28,
    "start_time": "2022-01-13T17:55:54.393Z"
   },
   {
    "duration": 17,
    "start_time": "2022-01-13T17:55:54.423Z"
   },
   {
    "duration": 18,
    "start_time": "2022-01-13T17:55:54.443Z"
   },
   {
    "duration": 83,
    "start_time": "2022-01-13T17:55:54.464Z"
   },
   {
    "duration": 47,
    "start_time": "2022-01-13T17:55:54.550Z"
   },
   {
    "duration": 517,
    "start_time": "2022-01-13T17:55:54.600Z"
   },
   {
    "duration": 11,
    "start_time": "2022-01-13T17:55:55.120Z"
   },
   {
    "duration": 5,
    "start_time": "2022-01-13T17:55:55.134Z"
   },
   {
    "duration": 18,
    "start_time": "2022-01-13T17:55:55.142Z"
   },
   {
    "duration": 76,
    "start_time": "2022-01-13T17:55:55.162Z"
   },
   {
    "duration": 54,
    "start_time": "2022-01-13T17:55:55.240Z"
   },
   {
    "duration": 1682,
    "start_time": "2022-01-13T17:55:55.296Z"
   },
   {
    "duration": 4,
    "start_time": "2022-01-13T17:55:56.981Z"
   },
   {
    "duration": 7,
    "start_time": "2022-01-13T17:55:56.987Z"
   },
   {
    "duration": 33,
    "start_time": "2022-01-13T17:55:56.996Z"
   },
   {
    "duration": 51,
    "start_time": "2022-01-13T17:55:57.032Z"
   },
   {
    "duration": 53,
    "start_time": "2022-01-13T17:55:57.085Z"
   },
   {
    "duration": 146,
    "start_time": "2022-01-13T17:55:57.141Z"
   },
   {
    "duration": 39,
    "start_time": "2022-01-13T17:55:57.289Z"
   },
   {
    "duration": 391,
    "start_time": "2022-01-13T17:55:57.331Z"
   },
   {
    "duration": 1286,
    "start_time": "2022-01-13T17:55:57.724Z"
   },
   {
    "duration": 32,
    "start_time": "2022-01-13T17:55:59.013Z"
   },
   {
    "duration": 10,
    "start_time": "2022-01-13T17:55:59.048Z"
   },
   {
    "duration": 1322,
    "start_time": "2022-01-13T17:55:59.061Z"
   },
   {
    "duration": 49,
    "start_time": "2022-01-13T17:56:00.385Z"
   },
   {
    "duration": 9,
    "start_time": "2022-01-13T17:56:00.437Z"
   },
   {
    "duration": 27,
    "start_time": "2022-01-13T17:56:00.448Z"
   },
   {
    "duration": 23,
    "start_time": "2022-01-13T17:56:00.477Z"
   },
   {
    "duration": 34,
    "start_time": "2022-01-13T17:56:00.503Z"
   },
   {
    "duration": 38,
    "start_time": "2022-01-13T17:56:00.540Z"
   },
   {
    "duration": 12,
    "start_time": "2022-01-13T17:56:00.580Z"
   },
   {
    "duration": 31,
    "start_time": "2022-01-13T17:56:00.595Z"
   },
   {
    "duration": 45,
    "start_time": "2022-01-13T17:56:00.629Z"
   },
   {
    "duration": 48,
    "start_time": "2022-01-13T17:56:00.676Z"
   },
   {
    "duration": 25,
    "start_time": "2022-01-13T17:56:00.727Z"
   },
   {
    "duration": 14,
    "start_time": "2022-01-13T17:56:00.754Z"
   },
   {
    "duration": 68,
    "start_time": "2022-01-13T18:09:21.650Z"
   },
   {
    "duration": 47,
    "start_time": "2022-01-13T18:09:47.343Z"
   },
   {
    "duration": 7,
    "start_time": "2022-01-13T18:14:51.162Z"
   },
   {
    "duration": 26,
    "start_time": "2022-01-13T18:15:32.761Z"
   },
   {
    "duration": 4,
    "start_time": "2022-01-13T18:16:17.388Z"
   },
   {
    "duration": 30,
    "start_time": "2022-01-13T18:16:22.603Z"
   },
   {
    "duration": 6,
    "start_time": "2022-01-13T18:16:32.251Z"
   },
   {
    "duration": 43,
    "start_time": "2022-01-13T18:16:34.001Z"
   },
   {
    "duration": 5,
    "start_time": "2022-01-13T18:16:46.283Z"
   },
   {
    "duration": 29,
    "start_time": "2022-01-13T18:16:48.244Z"
   },
   {
    "duration": 34,
    "start_time": "2022-01-13T18:17:35.040Z"
   },
   {
    "duration": 412,
    "start_time": "2022-01-13T18:17:40.654Z"
   },
   {
    "duration": 34,
    "start_time": "2022-01-13T18:17:48.495Z"
   },
   {
    "duration": 5,
    "start_time": "2022-01-13T18:18:05.123Z"
   },
   {
    "duration": 7,
    "start_time": "2022-01-13T18:18:15.810Z"
   },
   {
    "duration": 11,
    "start_time": "2022-01-13T18:21:23.264Z"
   },
   {
    "duration": 320,
    "start_time": "2022-01-13T18:24:20.391Z"
   },
   {
    "duration": 318,
    "start_time": "2022-01-13T18:24:22.667Z"
   },
   {
    "duration": 57,
    "start_time": "2022-01-13T18:24:25.045Z"
   },
   {
    "duration": 6,
    "start_time": "2022-01-13T18:29:29.720Z"
   },
   {
    "duration": 5,
    "start_time": "2022-01-13T18:29:35.167Z"
   },
   {
    "duration": 295,
    "start_time": "2022-01-14T07:54:02.185Z"
   },
   {
    "duration": 592,
    "start_time": "2022-01-14T07:54:10.944Z"
   },
   {
    "duration": 3,
    "start_time": "2022-01-14T07:54:11.538Z"
   },
   {
    "duration": 49,
    "start_time": "2022-01-14T07:54:11.544Z"
   },
   {
    "duration": 163,
    "start_time": "2022-01-14T07:54:11.596Z"
   },
   {
    "duration": 103,
    "start_time": "2022-01-14T07:54:11.760Z"
   },
   {
    "duration": 147,
    "start_time": "2022-01-14T07:54:11.865Z"
   },
   {
    "duration": 22,
    "start_time": "2022-01-14T07:54:12.013Z"
   },
   {
    "duration": 5,
    "start_time": "2022-01-14T07:54:12.038Z"
   },
   {
    "duration": 6,
    "start_time": "2022-01-14T07:54:12.045Z"
   },
   {
    "duration": 6,
    "start_time": "2022-01-14T07:54:12.053Z"
   },
   {
    "duration": 6,
    "start_time": "2022-01-14T07:54:12.061Z"
   },
   {
    "duration": 56,
    "start_time": "2022-01-14T07:54:12.069Z"
   },
   {
    "duration": 27,
    "start_time": "2022-01-14T07:54:12.127Z"
   },
   {
    "duration": 12,
    "start_time": "2022-01-14T07:54:12.156Z"
   },
   {
    "duration": 45,
    "start_time": "2022-01-14T07:54:12.170Z"
   },
   {
    "duration": 28,
    "start_time": "2022-01-14T07:54:12.217Z"
   },
   {
    "duration": 20,
    "start_time": "2022-01-14T07:54:12.246Z"
   },
   {
    "duration": 56,
    "start_time": "2022-01-14T07:54:12.267Z"
   },
   {
    "duration": 43,
    "start_time": "2022-01-14T07:54:12.325Z"
   },
   {
    "duration": 46,
    "start_time": "2022-01-14T07:54:12.370Z"
   },
   {
    "duration": 15,
    "start_time": "2022-01-14T07:54:12.418Z"
   },
   {
    "duration": 31,
    "start_time": "2022-01-14T07:54:12.435Z"
   },
   {
    "duration": 55,
    "start_time": "2022-01-14T07:54:12.470Z"
   },
   {
    "duration": 20,
    "start_time": "2022-01-14T07:54:12.527Z"
   },
   {
    "duration": 6,
    "start_time": "2022-01-14T07:54:12.548Z"
   },
   {
    "duration": 11,
    "start_time": "2022-01-14T07:54:12.556Z"
   },
   {
    "duration": 12,
    "start_time": "2022-01-14T07:54:12.568Z"
   },
   {
    "duration": 44,
    "start_time": "2022-01-14T07:54:12.582Z"
   },
   {
    "duration": 15,
    "start_time": "2022-01-14T07:54:12.627Z"
   },
   {
    "duration": 152,
    "start_time": "2022-01-14T07:54:12.644Z"
   },
   {
    "duration": 4,
    "start_time": "2022-01-14T07:54:12.798Z"
   },
   {
    "duration": 3,
    "start_time": "2022-01-14T07:54:12.812Z"
   },
   {
    "duration": 13,
    "start_time": "2022-01-14T07:54:12.816Z"
   },
   {
    "duration": 30,
    "start_time": "2022-01-14T07:54:12.831Z"
   },
   {
    "duration": 49,
    "start_time": "2022-01-14T07:54:12.863Z"
   },
   {
    "duration": 780,
    "start_time": "2022-01-14T07:54:12.914Z"
   },
   {
    "duration": 3,
    "start_time": "2022-01-14T07:54:13.696Z"
   },
   {
    "duration": 11,
    "start_time": "2022-01-14T07:54:13.701Z"
   },
   {
    "duration": 14,
    "start_time": "2022-01-14T07:54:13.714Z"
   },
   {
    "duration": 31,
    "start_time": "2022-01-14T07:54:13.729Z"
   },
   {
    "duration": 15,
    "start_time": "2022-01-14T07:54:13.762Z"
   },
   {
    "duration": 84,
    "start_time": "2022-01-14T07:54:13.778Z"
   },
   {
    "duration": 15,
    "start_time": "2022-01-14T07:54:13.863Z"
   },
   {
    "duration": 234,
    "start_time": "2022-01-14T07:54:13.880Z"
   },
   {
    "duration": 537,
    "start_time": "2022-01-14T07:54:14.116Z"
   },
   {
    "duration": 18,
    "start_time": "2022-01-14T07:54:14.655Z"
   },
   {
    "duration": 6,
    "start_time": "2022-01-14T07:54:14.675Z"
   },
   {
    "duration": 638,
    "start_time": "2022-01-14T07:54:14.683Z"
   },
   {
    "duration": 18,
    "start_time": "2022-01-14T07:54:15.323Z"
   },
   {
    "duration": 7,
    "start_time": "2022-01-14T07:54:15.342Z"
   },
   {
    "duration": 5,
    "start_time": "2022-01-14T07:54:15.350Z"
   },
   {
    "duration": 4,
    "start_time": "2022-01-14T07:54:15.356Z"
   },
   {
    "duration": 7,
    "start_time": "2022-01-14T07:54:15.362Z"
   },
   {
    "duration": 5,
    "start_time": "2022-01-14T07:54:15.370Z"
   },
   {
    "duration": 54,
    "start_time": "2022-01-14T07:54:15.377Z"
   },
   {
    "duration": 7,
    "start_time": "2022-01-14T07:54:15.432Z"
   },
   {
    "duration": 8,
    "start_time": "2022-01-14T07:54:15.441Z"
   },
   {
    "duration": 20,
    "start_time": "2022-01-14T07:54:15.450Z"
   },
   {
    "duration": 44,
    "start_time": "2022-01-14T07:54:15.472Z"
   },
   {
    "duration": 18,
    "start_time": "2022-01-14T07:54:15.517Z"
   },
   {
    "duration": 7,
    "start_time": "2022-01-14T07:54:15.536Z"
   },
   {
    "duration": 302,
    "start_time": "2022-01-14T07:59:26.536Z"
   },
   {
    "duration": 266,
    "start_time": "2022-01-14T08:21:06.931Z"
   },
   {
    "duration": 364,
    "start_time": "2022-01-14T08:27:41.709Z"
   },
   {
    "duration": 934,
    "start_time": "2022-01-14T08:29:22.230Z"
   },
   {
    "duration": 2,
    "start_time": "2022-01-14T08:29:23.166Z"
   },
   {
    "duration": 39,
    "start_time": "2022-01-14T08:29:23.170Z"
   },
   {
    "duration": 166,
    "start_time": "2022-01-14T08:29:23.210Z"
   },
   {
    "duration": 100,
    "start_time": "2022-01-14T08:29:23.377Z"
   },
   {
    "duration": 145,
    "start_time": "2022-01-14T08:29:23.478Z"
   },
   {
    "duration": 21,
    "start_time": "2022-01-14T08:29:23.625Z"
   },
   {
    "duration": 5,
    "start_time": "2022-01-14T08:29:23.649Z"
   },
   {
    "duration": 6,
    "start_time": "2022-01-14T08:29:23.657Z"
   },
   {
    "duration": 6,
    "start_time": "2022-01-14T08:29:23.664Z"
   },
   {
    "duration": 5,
    "start_time": "2022-01-14T08:29:23.672Z"
   },
   {
    "duration": 25,
    "start_time": "2022-01-14T08:29:23.713Z"
   },
   {
    "duration": 20,
    "start_time": "2022-01-14T08:29:23.739Z"
   },
   {
    "duration": 12,
    "start_time": "2022-01-14T08:29:23.761Z"
   },
   {
    "duration": 52,
    "start_time": "2022-01-14T08:29:23.774Z"
   },
   {
    "duration": 27,
    "start_time": "2022-01-14T08:29:23.827Z"
   },
   {
    "duration": 19,
    "start_time": "2022-01-14T08:29:23.855Z"
   },
   {
    "duration": 54,
    "start_time": "2022-01-14T08:29:23.876Z"
   },
   {
    "duration": 43,
    "start_time": "2022-01-14T08:29:23.931Z"
   },
   {
    "duration": 38,
    "start_time": "2022-01-14T08:29:23.975Z"
   },
   {
    "duration": 16,
    "start_time": "2022-01-14T08:29:24.015Z"
   },
   {
    "duration": 28,
    "start_time": "2022-01-14T08:29:24.033Z"
   },
   {
    "duration": 61,
    "start_time": "2022-01-14T08:29:24.065Z"
   },
   {
    "duration": 20,
    "start_time": "2022-01-14T08:29:24.129Z"
   },
   {
    "duration": 6,
    "start_time": "2022-01-14T08:29:24.151Z"
   },
   {
    "duration": 11,
    "start_time": "2022-01-14T08:29:24.158Z"
   },
   {
    "duration": 14,
    "start_time": "2022-01-14T08:29:24.171Z"
   },
   {
    "duration": 38,
    "start_time": "2022-01-14T08:29:24.187Z"
   },
   {
    "duration": 16,
    "start_time": "2022-01-14T08:29:24.227Z"
   },
   {
    "duration": 152,
    "start_time": "2022-01-14T08:29:24.244Z"
   },
   {
    "duration": 4,
    "start_time": "2022-01-14T08:29:24.397Z"
   },
   {
    "duration": 10,
    "start_time": "2022-01-14T08:29:24.402Z"
   },
   {
    "duration": 15,
    "start_time": "2022-01-14T08:29:24.413Z"
   },
   {
    "duration": 30,
    "start_time": "2022-01-14T08:29:24.429Z"
   },
   {
    "duration": 30,
    "start_time": "2022-01-14T08:29:24.461Z"
   },
   {
    "duration": 792,
    "start_time": "2022-01-14T08:29:24.492Z"
   },
   {
    "duration": 2,
    "start_time": "2022-01-14T08:29:25.286Z"
   },
   {
    "duration": 5,
    "start_time": "2022-01-14T08:29:25.290Z"
   },
   {
    "duration": 17,
    "start_time": "2022-01-14T08:29:25.296Z"
   },
   {
    "duration": 24,
    "start_time": "2022-01-14T08:29:25.314Z"
   },
   {
    "duration": 13,
    "start_time": "2022-01-14T08:29:25.340Z"
   },
   {
    "duration": 81,
    "start_time": "2022-01-14T08:29:25.355Z"
   },
   {
    "duration": 14,
    "start_time": "2022-01-14T08:29:25.437Z"
   },
   {
    "duration": 216,
    "start_time": "2022-01-14T08:29:25.453Z"
   },
   {
    "duration": 593,
    "start_time": "2022-01-14T08:29:25.670Z"
   },
   {
    "duration": 17,
    "start_time": "2022-01-14T08:29:26.264Z"
   },
   {
    "duration": 6,
    "start_time": "2022-01-14T08:29:26.283Z"
   },
   {
    "duration": 610,
    "start_time": "2022-01-14T08:29:26.290Z"
   },
   {
    "duration": 18,
    "start_time": "2022-01-14T08:29:26.901Z"
   },
   {
    "duration": 6,
    "start_time": "2022-01-14T08:29:26.920Z"
   },
   {
    "duration": 4,
    "start_time": "2022-01-14T08:29:26.928Z"
   },
   {
    "duration": 5,
    "start_time": "2022-01-14T08:29:26.933Z"
   },
   {
    "duration": 6,
    "start_time": "2022-01-14T08:29:26.939Z"
   },
   {
    "duration": 314,
    "start_time": "2022-01-14T08:29:26.947Z"
   },
   {
    "duration": 3140,
    "start_time": "2022-01-14T08:29:24.122Z"
   },
   {
    "duration": 3135,
    "start_time": "2022-01-14T08:29:24.128Z"
   },
   {
    "duration": 3131,
    "start_time": "2022-01-14T08:29:24.133Z"
   },
   {
    "duration": 3129,
    "start_time": "2022-01-14T08:29:24.136Z"
   },
   {
    "duration": 3117,
    "start_time": "2022-01-14T08:29:24.149Z"
   },
   {
    "duration": 3107,
    "start_time": "2022-01-14T08:29:24.160Z"
   },
   {
    "duration": 3103,
    "start_time": "2022-01-14T08:29:24.165Z"
   },
   {
    "duration": 3,
    "start_time": "2022-01-14T08:33:57.714Z"
   },
   {
    "duration": 227,
    "start_time": "2022-01-14T08:34:12.170Z"
   },
   {
    "duration": 244,
    "start_time": "2022-01-14T08:38:36.665Z"
   },
   {
    "duration": 232,
    "start_time": "2022-01-14T08:38:49.468Z"
   },
   {
    "duration": 4,
    "start_time": "2022-01-14T08:39:07.475Z"
   },
   {
    "duration": 5,
    "start_time": "2022-01-14T09:08:58.687Z"
   },
   {
    "duration": 20,
    "start_time": "2022-01-14T09:16:18.781Z"
   },
   {
    "duration": 6,
    "start_time": "2022-01-14T09:17:11.379Z"
   },
   {
    "duration": 5,
    "start_time": "2022-01-14T09:17:13.478Z"
   },
   {
    "duration": 7,
    "start_time": "2022-01-14T09:17:18.659Z"
   },
   {
    "duration": 6,
    "start_time": "2022-01-14T09:17:26.442Z"
   },
   {
    "duration": 19,
    "start_time": "2022-01-14T09:17:34.220Z"
   },
   {
    "duration": 8,
    "start_time": "2022-01-14T09:17:51.600Z"
   },
   {
    "duration": 7,
    "start_time": "2022-01-14T09:18:11.514Z"
   },
   {
    "duration": 5,
    "start_time": "2022-01-14T09:19:23.244Z"
   },
   {
    "duration": 7,
    "start_time": "2022-01-14T09:41:12.313Z"
   },
   {
    "duration": 7,
    "start_time": "2022-01-14T09:41:19.291Z"
   },
   {
    "duration": 6,
    "start_time": "2022-01-14T09:41:28.905Z"
   },
   {
    "duration": 7,
    "start_time": "2022-01-14T09:41:41.568Z"
   },
   {
    "duration": 8,
    "start_time": "2022-01-14T09:41:52.035Z"
   },
   {
    "duration": 90,
    "start_time": "2022-01-14T09:43:01.071Z"
   },
   {
    "duration": 10,
    "start_time": "2022-01-14T09:43:16.929Z"
   },
   {
    "duration": 6,
    "start_time": "2022-01-14T09:44:57.373Z"
   },
   {
    "duration": 7,
    "start_time": "2022-01-14T09:45:00.016Z"
   },
   {
    "duration": 7,
    "start_time": "2022-01-14T09:45:13.666Z"
   },
   {
    "duration": 7,
    "start_time": "2022-01-14T09:45:15.115Z"
   },
   {
    "duration": 10,
    "start_time": "2022-01-14T09:45:44.017Z"
   },
   {
    "duration": 18,
    "start_time": "2022-01-14T09:52:59.384Z"
   },
   {
    "duration": 18,
    "start_time": "2022-01-14T09:54:55.984Z"
   },
   {
    "duration": 7,
    "start_time": "2022-01-14T09:55:03.765Z"
   },
   {
    "duration": 232,
    "start_time": "2022-01-14T09:58:07.572Z"
   },
   {
    "duration": 31,
    "start_time": "2022-01-14T09:58:16.268Z"
   },
   {
    "duration": 28,
    "start_time": "2022-01-14T09:59:39.268Z"
   },
   {
    "duration": 26,
    "start_time": "2022-01-14T10:00:37.932Z"
   },
   {
    "duration": 5,
    "start_time": "2022-01-14T10:03:55.529Z"
   },
   {
    "duration": 5,
    "start_time": "2022-01-14T10:04:34.370Z"
   },
   {
    "duration": 5,
    "start_time": "2022-01-14T10:25:01.554Z"
   },
   {
    "duration": 5,
    "start_time": "2022-01-14T10:25:07.628Z"
   },
   {
    "duration": 241,
    "start_time": "2022-01-14T10:25:57.489Z"
   },
   {
    "duration": 222,
    "start_time": "2022-01-14T10:27:36.288Z"
   },
   {
    "duration": 275,
    "start_time": "2022-01-14T10:30:59.849Z"
   },
   {
    "duration": 3,
    "start_time": "2022-01-14T10:57:08.810Z"
   },
   {
    "duration": 4,
    "start_time": "2022-01-14T10:57:08.815Z"
   },
   {
    "duration": 35,
    "start_time": "2022-01-14T10:57:08.821Z"
   },
   {
    "duration": 194,
    "start_time": "2022-01-14T10:57:08.858Z"
   },
   {
    "duration": 113,
    "start_time": "2022-01-14T10:57:09.054Z"
   },
   {
    "duration": 144,
    "start_time": "2022-01-14T10:57:09.169Z"
   },
   {
    "duration": 22,
    "start_time": "2022-01-14T10:57:09.314Z"
   },
   {
    "duration": 5,
    "start_time": "2022-01-14T10:57:09.338Z"
   },
   {
    "duration": 6,
    "start_time": "2022-01-14T10:57:09.345Z"
   },
   {
    "duration": 5,
    "start_time": "2022-01-14T10:57:09.354Z"
   },
   {
    "duration": 6,
    "start_time": "2022-01-14T10:57:09.361Z"
   },
   {
    "duration": 61,
    "start_time": "2022-01-14T10:57:09.368Z"
   },
   {
    "duration": 20,
    "start_time": "2022-01-14T10:57:09.431Z"
   },
   {
    "duration": 14,
    "start_time": "2022-01-14T10:57:09.453Z"
   },
   {
    "duration": 50,
    "start_time": "2022-01-14T10:57:09.468Z"
   },
   {
    "duration": 29,
    "start_time": "2022-01-14T10:57:09.520Z"
   },
   {
    "duration": 20,
    "start_time": "2022-01-14T10:57:09.550Z"
   },
   {
    "duration": 55,
    "start_time": "2022-01-14T10:57:09.571Z"
   },
   {
    "duration": 43,
    "start_time": "2022-01-14T10:57:09.628Z"
   },
   {
    "duration": 42,
    "start_time": "2022-01-14T10:57:09.673Z"
   },
   {
    "duration": 15,
    "start_time": "2022-01-14T10:57:09.716Z"
   },
   {
    "duration": 27,
    "start_time": "2022-01-14T10:57:09.733Z"
   },
   {
    "duration": 51,
    "start_time": "2022-01-14T10:57:09.761Z"
   },
   {
    "duration": 21,
    "start_time": "2022-01-14T10:57:09.813Z"
   },
   {
    "duration": 5,
    "start_time": "2022-01-14T10:57:09.836Z"
   },
   {
    "duration": 9,
    "start_time": "2022-01-14T10:57:09.843Z"
   },
   {
    "duration": 9,
    "start_time": "2022-01-14T10:57:09.854Z"
   },
   {
    "duration": 13,
    "start_time": "2022-01-14T10:57:09.865Z"
   },
   {
    "duration": 45,
    "start_time": "2022-01-14T10:57:09.879Z"
   },
   {
    "duration": 148,
    "start_time": "2022-01-14T10:57:09.925Z"
   },
   {
    "duration": 2,
    "start_time": "2022-01-14T10:57:10.075Z"
   },
   {
    "duration": 9,
    "start_time": "2022-01-14T10:57:10.079Z"
   },
   {
    "duration": 16,
    "start_time": "2022-01-14T10:57:10.091Z"
   },
   {
    "duration": 30,
    "start_time": "2022-01-14T10:57:10.108Z"
   },
   {
    "duration": 32,
    "start_time": "2022-01-14T10:57:10.140Z"
   },
   {
    "duration": 838,
    "start_time": "2022-01-14T10:57:10.174Z"
   },
   {
    "duration": 3,
    "start_time": "2022-01-14T10:57:11.013Z"
   },
   {
    "duration": 5,
    "start_time": "2022-01-14T10:57:11.018Z"
   },
   {
    "duration": 12,
    "start_time": "2022-01-14T10:57:11.025Z"
   },
   {
    "duration": 28,
    "start_time": "2022-01-14T10:57:11.038Z"
   },
   {
    "duration": 3,
    "start_time": "2022-01-14T10:57:28.961Z"
   },
   {
    "duration": 5,
    "start_time": "2022-01-14T10:57:28.966Z"
   },
   {
    "duration": 35,
    "start_time": "2022-01-14T10:57:28.972Z"
   },
   {
    "duration": 175,
    "start_time": "2022-01-14T10:57:29.009Z"
   },
   {
    "duration": 102,
    "start_time": "2022-01-14T10:57:29.186Z"
   },
   {
    "duration": 147,
    "start_time": "2022-01-14T10:57:29.290Z"
   },
   {
    "duration": 21,
    "start_time": "2022-01-14T10:57:29.438Z"
   },
   {
    "duration": 4,
    "start_time": "2022-01-14T10:57:29.461Z"
   },
   {
    "duration": 9,
    "start_time": "2022-01-14T10:57:29.466Z"
   },
   {
    "duration": 8,
    "start_time": "2022-01-14T10:57:29.476Z"
   },
   {
    "duration": 4,
    "start_time": "2022-01-14T10:57:29.485Z"
   },
   {
    "duration": 39,
    "start_time": "2022-01-14T10:57:29.491Z"
   },
   {
    "duration": 19,
    "start_time": "2022-01-14T10:57:29.532Z"
   },
   {
    "duration": 13,
    "start_time": "2022-01-14T10:57:29.553Z"
   },
   {
    "duration": 46,
    "start_time": "2022-01-14T10:57:29.567Z"
   },
   {
    "duration": 30,
    "start_time": "2022-01-14T10:57:29.614Z"
   },
   {
    "duration": 19,
    "start_time": "2022-01-14T10:57:29.645Z"
   },
   {
    "duration": 48,
    "start_time": "2022-01-14T10:57:29.665Z"
   },
   {
    "duration": 43,
    "start_time": "2022-01-14T10:57:29.714Z"
   },
   {
    "duration": 25,
    "start_time": "2022-01-14T10:57:29.758Z"
   },
   {
    "duration": 36,
    "start_time": "2022-01-14T10:57:29.784Z"
   },
   {
    "duration": 29,
    "start_time": "2022-01-14T10:57:29.821Z"
   },
   {
    "duration": 30,
    "start_time": "2022-01-14T10:57:29.851Z"
   },
   {
    "duration": 41,
    "start_time": "2022-01-14T10:57:29.882Z"
   },
   {
    "duration": 6,
    "start_time": "2022-01-14T10:57:29.924Z"
   },
   {
    "duration": 10,
    "start_time": "2022-01-14T10:57:29.931Z"
   },
   {
    "duration": 9,
    "start_time": "2022-01-14T10:57:29.943Z"
   },
   {
    "duration": 14,
    "start_time": "2022-01-14T10:57:29.953Z"
   },
   {
    "duration": 15,
    "start_time": "2022-01-14T10:57:29.969Z"
   },
   {
    "duration": 171,
    "start_time": "2022-01-14T10:57:29.985Z"
   },
   {
    "duration": 3,
    "start_time": "2022-01-14T10:57:30.158Z"
   },
   {
    "duration": 9,
    "start_time": "2022-01-14T10:57:30.163Z"
   },
   {
    "duration": 22,
    "start_time": "2022-01-14T10:57:30.174Z"
   },
   {
    "duration": 34,
    "start_time": "2022-01-14T10:57:30.198Z"
   },
   {
    "duration": 31,
    "start_time": "2022-01-14T10:57:30.234Z"
   },
   {
    "duration": 788,
    "start_time": "2022-01-14T10:57:30.267Z"
   },
   {
    "duration": 3,
    "start_time": "2022-01-14T10:57:31.057Z"
   },
   {
    "duration": 5,
    "start_time": "2022-01-14T10:57:31.064Z"
   },
   {
    "duration": 17,
    "start_time": "2022-01-14T10:57:31.070Z"
   },
   {
    "duration": 66,
    "start_time": "2022-01-14T10:57:36.889Z"
   },
   {
    "duration": 4,
    "start_time": "2022-01-14T10:57:41.760Z"
   },
   {
    "duration": 17,
    "start_time": "2022-01-14T10:57:45.113Z"
   },
   {
    "duration": 4,
    "start_time": "2022-01-14T10:58:36.651Z"
   },
   {
    "duration": 17,
    "start_time": "2022-01-14T10:58:39.075Z"
   },
   {
    "duration": 4,
    "start_time": "2022-01-14T11:03:40.305Z"
   },
   {
    "duration": 16,
    "start_time": "2022-01-14T11:03:41.895Z"
   },
   {
    "duration": 3,
    "start_time": "2022-01-14T11:15:32.205Z"
   },
   {
    "duration": 6,
    "start_time": "2022-01-14T11:15:32.209Z"
   },
   {
    "duration": 44,
    "start_time": "2022-01-14T11:15:32.216Z"
   },
   {
    "duration": 174,
    "start_time": "2022-01-14T11:15:32.261Z"
   },
   {
    "duration": 106,
    "start_time": "2022-01-14T11:15:32.436Z"
   },
   {
    "duration": 138,
    "start_time": "2022-01-14T11:15:32.543Z"
   },
   {
    "duration": 21,
    "start_time": "2022-01-14T11:15:32.683Z"
   },
   {
    "duration": 6,
    "start_time": "2022-01-14T11:15:32.712Z"
   },
   {
    "duration": 5,
    "start_time": "2022-01-14T11:15:32.722Z"
   },
   {
    "duration": 6,
    "start_time": "2022-01-14T11:15:32.729Z"
   },
   {
    "duration": 6,
    "start_time": "2022-01-14T11:15:32.736Z"
   },
   {
    "duration": 29,
    "start_time": "2022-01-14T11:15:32.744Z"
   },
   {
    "duration": 53,
    "start_time": "2022-01-14T11:15:32.774Z"
   },
   {
    "duration": 13,
    "start_time": "2022-01-14T11:15:32.828Z"
   },
   {
    "duration": 23,
    "start_time": "2022-01-14T11:15:32.843Z"
   },
   {
    "duration": 46,
    "start_time": "2022-01-14T11:15:32.867Z"
   },
   {
    "duration": 19,
    "start_time": "2022-01-14T11:15:32.914Z"
   },
   {
    "duration": 26,
    "start_time": "2022-01-14T11:15:32.935Z"
   },
   {
    "duration": 57,
    "start_time": "2022-01-14T11:15:32.963Z"
   },
   {
    "duration": 25,
    "start_time": "2022-01-14T11:15:33.021Z"
   },
   {
    "duration": 14,
    "start_time": "2022-01-14T11:15:33.048Z"
   },
   {
    "duration": 27,
    "start_time": "2022-01-14T11:15:33.064Z"
   },
   {
    "duration": 28,
    "start_time": "2022-01-14T11:15:33.112Z"
   },
   {
    "duration": 18,
    "start_time": "2022-01-14T11:15:33.142Z"
   },
   {
    "duration": 5,
    "start_time": "2022-01-14T11:15:33.161Z"
   },
   {
    "duration": 18,
    "start_time": "2022-01-14T11:15:33.167Z"
   },
   {
    "duration": 26,
    "start_time": "2022-01-14T11:15:33.188Z"
   },
   {
    "duration": 14,
    "start_time": "2022-01-14T11:15:33.216Z"
   },
   {
    "duration": 14,
    "start_time": "2022-01-14T11:15:33.231Z"
   },
   {
    "duration": 149,
    "start_time": "2022-01-14T11:15:33.246Z"
   },
   {
    "duration": 3,
    "start_time": "2022-01-14T11:15:33.396Z"
   },
   {
    "duration": 15,
    "start_time": "2022-01-14T11:15:33.400Z"
   },
   {
    "duration": 23,
    "start_time": "2022-01-14T11:15:33.416Z"
   },
   {
    "duration": 34,
    "start_time": "2022-01-14T11:15:33.440Z"
   },
   {
    "duration": 29,
    "start_time": "2022-01-14T11:15:33.475Z"
   },
   {
    "duration": 779,
    "start_time": "2022-01-14T11:15:33.505Z"
   },
   {
    "duration": 3,
    "start_time": "2022-01-14T11:15:34.285Z"
   },
   {
    "duration": 10,
    "start_time": "2022-01-14T11:15:34.289Z"
   },
   {
    "duration": 38,
    "start_time": "2022-01-14T11:15:34.300Z"
   },
   {
    "duration": 13,
    "start_time": "2022-01-14T11:15:34.339Z"
   },
   {
    "duration": 30,
    "start_time": "2022-01-14T11:15:34.353Z"
   },
   {
    "duration": 5,
    "start_time": "2022-01-14T11:15:34.385Z"
   },
   {
    "duration": 26,
    "start_time": "2022-01-14T11:15:34.391Z"
   },
   {
    "duration": 229,
    "start_time": "2022-01-14T11:15:34.418Z"
   },
   {
    "duration": 540,
    "start_time": "2022-01-14T11:15:34.648Z"
   },
   {
    "duration": 26,
    "start_time": "2022-01-14T11:15:35.190Z"
   },
   {
    "duration": 7,
    "start_time": "2022-01-14T11:15:35.217Z"
   },
   {
    "duration": 588,
    "start_time": "2022-01-14T11:15:35.225Z"
   },
   {
    "duration": 19,
    "start_time": "2022-01-14T11:15:35.815Z"
   },
   {
    "duration": 7,
    "start_time": "2022-01-14T11:15:35.835Z"
   },
   {
    "duration": 16,
    "start_time": "2022-01-14T11:15:35.843Z"
   },
   {
    "duration": 19,
    "start_time": "2022-01-14T11:15:35.860Z"
   },
   {
    "duration": 16,
    "start_time": "2022-01-14T11:15:35.881Z"
   },
   {
    "duration": 25,
    "start_time": "2022-01-14T11:15:35.898Z"
   },
   {
    "duration": 39,
    "start_time": "2022-01-14T11:15:35.924Z"
   },
   {
    "duration": 7,
    "start_time": "2022-01-14T11:15:35.964Z"
   },
   {
    "duration": 24,
    "start_time": "2022-01-14T11:15:35.972Z"
   },
   {
    "duration": 28,
    "start_time": "2022-01-14T11:15:35.998Z"
   },
   {
    "duration": 6,
    "start_time": "2022-01-14T11:15:36.027Z"
   },
   {
    "duration": 15,
    "start_time": "2022-01-14T11:15:36.035Z"
   },
   {
    "duration": 18,
    "start_time": "2022-01-14T11:15:36.051Z"
   },
   {
    "duration": 42,
    "start_time": "2022-01-14T11:15:36.071Z"
   },
   {
    "duration": 4,
    "start_time": "2022-01-14T11:15:36.114Z"
   },
   {
    "duration": 18,
    "start_time": "2022-01-14T11:15:57.165Z"
   },
   {
    "duration": 15,
    "start_time": "2022-01-14T11:16:22.416Z"
   },
   {
    "duration": 4,
    "start_time": "2022-01-14T11:17:10.016Z"
   },
   {
    "duration": 6,
    "start_time": "2022-01-14T11:17:28.673Z"
   },
   {
    "duration": 4,
    "start_time": "2022-01-14T11:19:56.925Z"
   },
   {
    "duration": 3,
    "start_time": "2022-01-14T11:20:13.772Z"
   },
   {
    "duration": 890,
    "start_time": "2022-01-14T11:20:37.474Z"
   },
   {
    "duration": 2,
    "start_time": "2022-01-14T11:20:38.366Z"
   },
   {
    "duration": 46,
    "start_time": "2022-01-14T11:20:38.370Z"
   },
   {
    "duration": 176,
    "start_time": "2022-01-14T11:20:38.417Z"
   },
   {
    "duration": 100,
    "start_time": "2022-01-14T11:20:38.595Z"
   },
   {
    "duration": 150,
    "start_time": "2022-01-14T11:20:38.696Z"
   },
   {
    "duration": 20,
    "start_time": "2022-01-14T11:20:38.847Z"
   },
   {
    "duration": 4,
    "start_time": "2022-01-14T11:20:38.870Z"
   },
   {
    "duration": 6,
    "start_time": "2022-01-14T11:20:38.876Z"
   },
   {
    "duration": 5,
    "start_time": "2022-01-14T11:20:38.883Z"
   },
   {
    "duration": 23,
    "start_time": "2022-01-14T11:20:38.890Z"
   },
   {
    "duration": 24,
    "start_time": "2022-01-14T11:20:38.914Z"
   },
   {
    "duration": 20,
    "start_time": "2022-01-14T11:20:38.939Z"
   },
   {
    "duration": 13,
    "start_time": "2022-01-14T11:20:38.960Z"
   },
   {
    "duration": 53,
    "start_time": "2022-01-14T11:20:38.974Z"
   },
   {
    "duration": 28,
    "start_time": "2022-01-14T11:20:39.029Z"
   },
   {
    "duration": 19,
    "start_time": "2022-01-14T11:20:39.058Z"
   },
   {
    "duration": 56,
    "start_time": "2022-01-14T11:20:39.078Z"
   },
   {
    "duration": 43,
    "start_time": "2022-01-14T11:20:39.136Z"
   },
   {
    "duration": 37,
    "start_time": "2022-01-14T11:20:39.181Z"
   },
   {
    "duration": 14,
    "start_time": "2022-01-14T11:20:39.220Z"
   },
   {
    "duration": 27,
    "start_time": "2022-01-14T11:20:39.235Z"
   },
   {
    "duration": 56,
    "start_time": "2022-01-14T11:20:39.266Z"
   },
   {
    "duration": 19,
    "start_time": "2022-01-14T11:20:39.324Z"
   },
   {
    "duration": 5,
    "start_time": "2022-01-14T11:20:39.344Z"
   },
   {
    "duration": 14,
    "start_time": "2022-01-14T11:20:39.350Z"
   },
   {
    "duration": 13,
    "start_time": "2022-01-14T11:20:39.365Z"
   },
   {
    "duration": 32,
    "start_time": "2022-01-14T11:20:39.380Z"
   },
   {
    "duration": 14,
    "start_time": "2022-01-14T11:20:39.414Z"
   },
   {
    "duration": 146,
    "start_time": "2022-01-14T11:20:39.430Z"
   },
   {
    "duration": 4,
    "start_time": "2022-01-14T11:20:39.577Z"
   },
   {
    "duration": 3,
    "start_time": "2022-01-14T11:20:39.583Z"
   },
   {
    "duration": 11,
    "start_time": "2022-01-14T11:20:39.587Z"
   },
   {
    "duration": 28,
    "start_time": "2022-01-14T11:20:39.611Z"
   },
   {
    "duration": 27,
    "start_time": "2022-01-14T11:20:39.641Z"
   },
   {
    "duration": 807,
    "start_time": "2022-01-14T11:20:39.670Z"
   },
   {
    "duration": 2,
    "start_time": "2022-01-14T11:20:40.479Z"
   },
   {
    "duration": 5,
    "start_time": "2022-01-14T11:20:40.483Z"
   },
   {
    "duration": 12,
    "start_time": "2022-01-14T11:20:40.489Z"
   },
   {
    "duration": 12,
    "start_time": "2022-01-14T11:20:40.502Z"
   },
   {
    "duration": 21,
    "start_time": "2022-01-14T11:20:40.516Z"
   },
   {
    "duration": 3,
    "start_time": "2022-01-14T11:20:40.538Z"
   },
   {
    "duration": 14,
    "start_time": "2022-01-14T11:20:40.543Z"
   },
   {
    "duration": 234,
    "start_time": "2022-01-14T11:20:40.558Z"
   },
   {
    "duration": 539,
    "start_time": "2022-01-14T11:20:40.794Z"
   },
   {
    "duration": 18,
    "start_time": "2022-01-14T11:20:41.334Z"
   },
   {
    "duration": 5,
    "start_time": "2022-01-14T11:20:41.353Z"
   },
   {
    "duration": 593,
    "start_time": "2022-01-14T11:20:41.359Z"
   },
   {
    "duration": 17,
    "start_time": "2022-01-14T11:20:41.954Z"
   },
   {
    "duration": 6,
    "start_time": "2022-01-14T11:20:41.972Z"
   },
   {
    "duration": 4,
    "start_time": "2022-01-14T11:20:41.979Z"
   },
   {
    "duration": 4,
    "start_time": "2022-01-14T11:20:41.984Z"
   },
   {
    "duration": 4,
    "start_time": "2022-01-14T11:20:42.012Z"
   },
   {
    "duration": 5,
    "start_time": "2022-01-14T11:20:42.018Z"
   },
   {
    "duration": 4,
    "start_time": "2022-01-14T11:20:42.024Z"
   },
   {
    "duration": 5,
    "start_time": "2022-01-14T11:20:42.030Z"
   },
   {
    "duration": 22,
    "start_time": "2022-01-14T11:20:42.036Z"
   },
   {
    "duration": 7,
    "start_time": "2022-01-14T11:20:42.060Z"
   },
   {
    "duration": 44,
    "start_time": "2022-01-14T11:20:42.068Z"
   },
   {
    "duration": 19,
    "start_time": "2022-01-14T11:20:42.114Z"
   },
   {
    "duration": 7,
    "start_time": "2022-01-14T11:20:42.135Z"
   },
   {
    "duration": 8,
    "start_time": "2022-01-14T11:20:42.144Z"
   },
   {
    "duration": 9,
    "start_time": "2022-01-14T11:20:42.153Z"
   },
   {
    "duration": 50,
    "start_time": "2022-01-14T11:20:42.164Z"
   },
   {
    "duration": 3,
    "start_time": "2022-01-14T11:20:42.215Z"
   },
   {
    "duration": 5,
    "start_time": "2022-01-14T11:20:42.219Z"
   },
   {
    "duration": 5,
    "start_time": "2022-01-14T11:20:42.226Z"
   },
   {
    "duration": 1013,
    "start_time": "2022-01-15T08:16:48.646Z"
   },
   {
    "duration": 3,
    "start_time": "2022-01-15T08:16:49.660Z"
   },
   {
    "duration": 45,
    "start_time": "2022-01-15T08:16:49.664Z"
   },
   {
    "duration": 161,
    "start_time": "2022-01-15T08:16:49.711Z"
   },
   {
    "duration": 101,
    "start_time": "2022-01-15T08:16:49.874Z"
   },
   {
    "duration": 149,
    "start_time": "2022-01-15T08:16:49.976Z"
   },
   {
    "duration": 23,
    "start_time": "2022-01-15T08:16:50.127Z"
   },
   {
    "duration": 4,
    "start_time": "2022-01-15T08:16:50.152Z"
   },
   {
    "duration": 12,
    "start_time": "2022-01-15T08:16:50.158Z"
   },
   {
    "duration": 6,
    "start_time": "2022-01-15T08:16:50.171Z"
   },
   {
    "duration": 5,
    "start_time": "2022-01-15T08:16:50.178Z"
   },
   {
    "duration": 47,
    "start_time": "2022-01-15T08:16:50.184Z"
   },
   {
    "duration": 19,
    "start_time": "2022-01-15T08:16:50.233Z"
   },
   {
    "duration": 13,
    "start_time": "2022-01-15T08:16:50.253Z"
   },
   {
    "duration": 20,
    "start_time": "2022-01-15T08:16:50.267Z"
   },
   {
    "duration": 28,
    "start_time": "2022-01-15T08:16:50.312Z"
   },
   {
    "duration": 21,
    "start_time": "2022-01-15T08:16:50.341Z"
   },
   {
    "duration": 52,
    "start_time": "2022-01-15T08:16:50.364Z"
   },
   {
    "duration": 43,
    "start_time": "2022-01-15T08:16:50.417Z"
   },
   {
    "duration": 25,
    "start_time": "2022-01-15T08:16:50.461Z"
   },
   {
    "duration": 34,
    "start_time": "2022-01-15T08:16:50.488Z"
   },
   {
    "duration": 25,
    "start_time": "2022-01-15T08:16:50.523Z"
   },
   {
    "duration": 33,
    "start_time": "2022-01-15T08:16:50.552Z"
   },
   {
    "duration": 39,
    "start_time": "2022-01-15T08:16:50.587Z"
   },
   {
    "duration": 6,
    "start_time": "2022-01-15T08:16:50.627Z"
   },
   {
    "duration": 11,
    "start_time": "2022-01-15T08:16:50.635Z"
   },
   {
    "duration": 9,
    "start_time": "2022-01-15T08:16:50.647Z"
   },
   {
    "duration": 15,
    "start_time": "2022-01-15T08:16:50.657Z"
   },
   {
    "duration": 15,
    "start_time": "2022-01-15T08:16:50.673Z"
   },
   {
    "duration": 137,
    "start_time": "2022-01-15T08:16:50.712Z"
   },
   {
    "duration": 4,
    "start_time": "2022-01-15T08:16:50.850Z"
   },
   {
    "duration": 5,
    "start_time": "2022-01-15T08:16:50.855Z"
   },
   {
    "duration": 27,
    "start_time": "2022-01-15T08:16:50.861Z"
   },
   {
    "duration": 30,
    "start_time": "2022-01-15T08:16:50.889Z"
   },
   {
    "duration": 28,
    "start_time": "2022-01-15T08:16:50.921Z"
   },
   {
    "duration": 768,
    "start_time": "2022-01-15T08:16:50.951Z"
   },
   {
    "duration": 2,
    "start_time": "2022-01-15T08:16:51.721Z"
   },
   {
    "duration": 9,
    "start_time": "2022-01-15T08:16:51.725Z"
   },
   {
    "duration": 25,
    "start_time": "2022-01-15T08:16:51.735Z"
   },
   {
    "duration": 6,
    "start_time": "2022-01-15T08:16:51.762Z"
   },
   {
    "duration": 16,
    "start_time": "2022-01-15T08:16:51.769Z"
   },
   {
    "duration": 3,
    "start_time": "2022-01-15T08:16:51.787Z"
   },
   {
    "duration": 23,
    "start_time": "2022-01-15T08:16:51.791Z"
   },
   {
    "duration": 227,
    "start_time": "2022-01-15T08:16:51.815Z"
   },
   {
    "duration": 537,
    "start_time": "2022-01-15T08:16:52.044Z"
   },
   {
    "duration": 17,
    "start_time": "2022-01-15T08:16:52.583Z"
   },
   {
    "duration": 14,
    "start_time": "2022-01-15T08:16:52.601Z"
   },
   {
    "duration": 585,
    "start_time": "2022-01-15T08:16:52.616Z"
   },
   {
    "duration": 21,
    "start_time": "2022-01-15T08:16:53.203Z"
   },
   {
    "duration": 5,
    "start_time": "2022-01-15T08:16:53.225Z"
   },
   {
    "duration": 6,
    "start_time": "2022-01-15T08:16:53.232Z"
   },
   {
    "duration": 6,
    "start_time": "2022-01-15T08:16:53.239Z"
   },
   {
    "duration": 5,
    "start_time": "2022-01-15T08:16:53.246Z"
   },
   {
    "duration": 4,
    "start_time": "2022-01-15T08:16:53.253Z"
   },
   {
    "duration": 8,
    "start_time": "2022-01-15T08:16:53.258Z"
   },
   {
    "duration": 6,
    "start_time": "2022-01-15T08:16:53.268Z"
   },
   {
    "duration": 44,
    "start_time": "2022-01-15T08:16:53.275Z"
   },
   {
    "duration": 6,
    "start_time": "2022-01-15T08:16:53.321Z"
   },
   {
    "duration": 12,
    "start_time": "2022-01-15T08:16:53.328Z"
   },
   {
    "duration": 19,
    "start_time": "2022-01-15T08:16:53.341Z"
   },
   {
    "duration": 7,
    "start_time": "2022-01-15T08:16:53.361Z"
   },
   {
    "duration": 7,
    "start_time": "2022-01-15T08:16:53.369Z"
   },
   {
    "duration": 10,
    "start_time": "2022-01-15T08:16:53.377Z"
   },
   {
    "duration": 24,
    "start_time": "2022-01-15T08:16:53.412Z"
   },
   {
    "duration": 3,
    "start_time": "2022-01-15T08:16:53.437Z"
   },
   {
    "duration": 7,
    "start_time": "2022-01-15T08:16:53.442Z"
   },
   {
    "duration": 6,
    "start_time": "2022-01-15T08:16:53.450Z"
   },
   {
    "duration": 15,
    "start_time": "2022-01-15T08:24:13.913Z"
   }
  ],
  "kernelspec": {
   "display_name": "Python 3 (ipykernel)",
   "language": "python",
   "name": "python3"
  },
  "language_info": {
   "codemirror_mode": {
    "name": "ipython",
    "version": 3
   },
   "file_extension": ".py",
   "mimetype": "text/x-python",
   "name": "python",
   "nbconvert_exporter": "python",
   "pygments_lexer": "ipython3",
   "version": "3.9.7"
  },
  "toc": {
   "base_numbering": 1,
   "nav_menu": {},
   "number_sections": true,
   "sideBar": true,
   "skip_h1_title": true,
   "title_cell": "Table of Contents",
   "title_sidebar": "Contents",
   "toc_cell": false,
   "toc_position": {
    "height": "calc(100% - 180px)",
    "left": "10px",
    "top": "150px",
    "width": "171px"
   },
   "toc_section_display": true,
   "toc_window_display": false
  }
 },
 "nbformat": 4,
 "nbformat_minor": 2
}
