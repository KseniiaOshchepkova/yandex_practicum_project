{
 "cells": [
  {
   "cell_type": "markdown",
   "metadata": {},
   "source": [
    "# Проект: оценка результатов А/В теста\n",
    "\n",
    "## Введение  \n",
    "\n",
    "### Техническое задание\n",
    "\n",
    "- Название теста: `recommender_system_test`;\n",
    "- группы: А — контрольная, B — новая платёжная воронка;\n",
    "- дата запуска: 2020-12-07;\n",
    "- дата остановки набора новых пользователей: 2020-12-21;\n",
    "- дата остановки: 2021-01-04;\n",
    "- аудитория: 15% новых пользователей из региона EU;\n",
    "- назначение теста: тестирование изменений, связанных с внедрением улучшенной рекомендательной системы;\n",
    "- ожидаемое количество участников теста: 6000.\n",
    "- ожидаемый эффект: за 14 дней с момента регистрации пользователи покажут улучшение каждой метрики не менее, чем на 10%:\n",
    "    - конверсии в просмотр карточек товаров — событие `product_page`,\n",
    "    - просмотры корзины — `product_cart`,\n",
    "    - покупки — `purchase`.\n",
    "\n",
    "**Цель:** провести оценку результатов A/B-теста:\n",
    "- оценить корректность проведения теста\n",
    "- проанализировать результаты теста после внедрения улучшенной рекомендательной системы\n",
    "    \n",
    "Исследование проводится в 5 этапов:\n",
    "\n",
    "1. Обзор данных  \n",
    "2. Предобработка данных  \n",
    "3. Оценка корректности проведения теста    \n",
    "4. Исследовательский анализ данных  \n",
    "5. Оценка результатов А/В теста   \n",
    "6. Итоги исследования  "
   ]
  },
  {
   "cell_type": "markdown",
   "metadata": {},
   "source": [
    "## Обзор данных  \n",
    "\n",
    "Ознакомимся с входными данными."
   ]
  },
  {
   "cell_type": "code",
   "execution_count": 1,
   "metadata": {},
   "outputs": [],
   "source": [
    "# импортируем библиотеки\n",
    "\n",
    "import pandas as pd\n",
    "import numpy as np\n",
    "\n",
    "from matplotlib import pyplot as plt\n",
    "\n",
    "from scipy import stats as st\n",
    "import math as mth"
   ]
  },
  {
   "cell_type": "code",
   "execution_count": 2,
   "metadata": {},
   "outputs": [],
   "source": [
    "# игнорируем предупреждения\n",
    "\n",
    "import warnings\n",
    "warnings.filterwarnings('ignore') \n",
    "\n",
    "# снимем ограничения на вывод строк и столбцов\n",
    "\n",
    "pd.set_option('display.max_rows', None)\n",
    "pd.set_option('display.max_columns', None)"
   ]
  },
  {
   "cell_type": "code",
   "execution_count": 3,
   "metadata": {},
   "outputs": [
    {
     "data": {
      "text/html": [
       "<div>\n",
       "<style scoped>\n",
       "    .dataframe tbody tr th:only-of-type {\n",
       "        vertical-align: middle;\n",
       "    }\n",
       "\n",
       "    .dataframe tbody tr th {\n",
       "        vertical-align: top;\n",
       "    }\n",
       "\n",
       "    .dataframe thead th {\n",
       "        text-align: right;\n",
       "    }\n",
       "</style>\n",
       "<table border=\"1\" class=\"dataframe\">\n",
       "  <thead>\n",
       "    <tr style=\"text-align: right;\">\n",
       "      <th></th>\n",
       "      <th>user_id</th>\n",
       "      <th>event_dt</th>\n",
       "      <th>event_name</th>\n",
       "      <th>details</th>\n",
       "    </tr>\n",
       "  </thead>\n",
       "  <tbody>\n",
       "    <tr>\n",
       "      <th>0</th>\n",
       "      <td>E1BDDCE0DAFA2679</td>\n",
       "      <td>2020-12-07 20:22:03</td>\n",
       "      <td>purchase</td>\n",
       "      <td>99.99</td>\n",
       "    </tr>\n",
       "    <tr>\n",
       "      <th>1</th>\n",
       "      <td>7B6452F081F49504</td>\n",
       "      <td>2020-12-07 09:22:53</td>\n",
       "      <td>purchase</td>\n",
       "      <td>9.99</td>\n",
       "    </tr>\n",
       "    <tr>\n",
       "      <th>2</th>\n",
       "      <td>9CD9F34546DF254C</td>\n",
       "      <td>2020-12-07 12:59:29</td>\n",
       "      <td>purchase</td>\n",
       "      <td>4.99</td>\n",
       "    </tr>\n",
       "    <tr>\n",
       "      <th>3</th>\n",
       "      <td>96F27A054B191457</td>\n",
       "      <td>2020-12-07 04:02:40</td>\n",
       "      <td>purchase</td>\n",
       "      <td>4.99</td>\n",
       "    </tr>\n",
       "    <tr>\n",
       "      <th>4</th>\n",
       "      <td>1FD7660FDF94CA1F</td>\n",
       "      <td>2020-12-07 10:15:09</td>\n",
       "      <td>purchase</td>\n",
       "      <td>4.99</td>\n",
       "    </tr>\n",
       "  </tbody>\n",
       "</table>\n",
       "</div>"
      ],
      "text/plain": [
       "            user_id             event_dt event_name  details\n",
       "0  E1BDDCE0DAFA2679  2020-12-07 20:22:03   purchase    99.99\n",
       "1  7B6452F081F49504  2020-12-07 09:22:53   purchase     9.99\n",
       "2  9CD9F34546DF254C  2020-12-07 12:59:29   purchase     4.99\n",
       "3  96F27A054B191457  2020-12-07 04:02:40   purchase     4.99\n",
       "4  1FD7660FDF94CA1F  2020-12-07 10:15:09   purchase     4.99"
      ]
     },
     "metadata": {},
     "output_type": "display_data"
    },
    {
     "data": {
      "text/html": [
       "<div>\n",
       "<style scoped>\n",
       "    .dataframe tbody tr th:only-of-type {\n",
       "        vertical-align: middle;\n",
       "    }\n",
       "\n",
       "    .dataframe tbody tr th {\n",
       "        vertical-align: top;\n",
       "    }\n",
       "\n",
       "    .dataframe thead th {\n",
       "        text-align: right;\n",
       "    }\n",
       "</style>\n",
       "<table border=\"1\" class=\"dataframe\">\n",
       "  <thead>\n",
       "    <tr style=\"text-align: right;\">\n",
       "      <th></th>\n",
       "      <th>name</th>\n",
       "      <th>regions</th>\n",
       "      <th>start_dt</th>\n",
       "      <th>finish_dt</th>\n",
       "    </tr>\n",
       "  </thead>\n",
       "  <tbody>\n",
       "    <tr>\n",
       "      <th>0</th>\n",
       "      <td>Christmas&amp;New Year Promo</td>\n",
       "      <td>EU, N.America</td>\n",
       "      <td>2020-12-25</td>\n",
       "      <td>2021-01-03</td>\n",
       "    </tr>\n",
       "    <tr>\n",
       "      <th>1</th>\n",
       "      <td>St. Valentine's Day Giveaway</td>\n",
       "      <td>EU, CIS, APAC, N.America</td>\n",
       "      <td>2020-02-14</td>\n",
       "      <td>2020-02-16</td>\n",
       "    </tr>\n",
       "    <tr>\n",
       "      <th>2</th>\n",
       "      <td>St. Patric's Day Promo</td>\n",
       "      <td>EU, N.America</td>\n",
       "      <td>2020-03-17</td>\n",
       "      <td>2020-03-19</td>\n",
       "    </tr>\n",
       "    <tr>\n",
       "      <th>3</th>\n",
       "      <td>Easter Promo</td>\n",
       "      <td>EU, CIS, APAC, N.America</td>\n",
       "      <td>2020-04-12</td>\n",
       "      <td>2020-04-19</td>\n",
       "    </tr>\n",
       "    <tr>\n",
       "      <th>4</th>\n",
       "      <td>4th of July Promo</td>\n",
       "      <td>N.America</td>\n",
       "      <td>2020-07-04</td>\n",
       "      <td>2020-07-11</td>\n",
       "    </tr>\n",
       "  </tbody>\n",
       "</table>\n",
       "</div>"
      ],
      "text/plain": [
       "                           name                   regions    start_dt  \\\n",
       "0      Christmas&New Year Promo             EU, N.America  2020-12-25   \n",
       "1  St. Valentine's Day Giveaway  EU, CIS, APAC, N.America  2020-02-14   \n",
       "2        St. Patric's Day Promo             EU, N.America  2020-03-17   \n",
       "3                  Easter Promo  EU, CIS, APAC, N.America  2020-04-12   \n",
       "4             4th of July Promo                 N.America  2020-07-04   \n",
       "\n",
       "    finish_dt  \n",
       "0  2021-01-03  \n",
       "1  2020-02-16  \n",
       "2  2020-03-19  \n",
       "3  2020-04-19  \n",
       "4  2020-07-11  "
      ]
     },
     "metadata": {},
     "output_type": "display_data"
    },
    {
     "data": {
      "text/html": [
       "<div>\n",
       "<style scoped>\n",
       "    .dataframe tbody tr th:only-of-type {\n",
       "        vertical-align: middle;\n",
       "    }\n",
       "\n",
       "    .dataframe tbody tr th {\n",
       "        vertical-align: top;\n",
       "    }\n",
       "\n",
       "    .dataframe thead th {\n",
       "        text-align: right;\n",
       "    }\n",
       "</style>\n",
       "<table border=\"1\" class=\"dataframe\">\n",
       "  <thead>\n",
       "    <tr style=\"text-align: right;\">\n",
       "      <th></th>\n",
       "      <th>user_id</th>\n",
       "      <th>first_date</th>\n",
       "      <th>region</th>\n",
       "      <th>device</th>\n",
       "    </tr>\n",
       "  </thead>\n",
       "  <tbody>\n",
       "    <tr>\n",
       "      <th>0</th>\n",
       "      <td>D72A72121175D8BE</td>\n",
       "      <td>2020-12-07</td>\n",
       "      <td>EU</td>\n",
       "      <td>PC</td>\n",
       "    </tr>\n",
       "    <tr>\n",
       "      <th>1</th>\n",
       "      <td>F1C668619DFE6E65</td>\n",
       "      <td>2020-12-07</td>\n",
       "      <td>N.America</td>\n",
       "      <td>Android</td>\n",
       "    </tr>\n",
       "    <tr>\n",
       "      <th>2</th>\n",
       "      <td>2E1BF1D4C37EA01F</td>\n",
       "      <td>2020-12-07</td>\n",
       "      <td>EU</td>\n",
       "      <td>PC</td>\n",
       "    </tr>\n",
       "    <tr>\n",
       "      <th>3</th>\n",
       "      <td>50734A22C0C63768</td>\n",
       "      <td>2020-12-07</td>\n",
       "      <td>EU</td>\n",
       "      <td>iPhone</td>\n",
       "    </tr>\n",
       "    <tr>\n",
       "      <th>4</th>\n",
       "      <td>E1BDDCE0DAFA2679</td>\n",
       "      <td>2020-12-07</td>\n",
       "      <td>N.America</td>\n",
       "      <td>iPhone</td>\n",
       "    </tr>\n",
       "  </tbody>\n",
       "</table>\n",
       "</div>"
      ],
      "text/plain": [
       "            user_id  first_date     region   device\n",
       "0  D72A72121175D8BE  2020-12-07         EU       PC\n",
       "1  F1C668619DFE6E65  2020-12-07  N.America  Android\n",
       "2  2E1BF1D4C37EA01F  2020-12-07         EU       PC\n",
       "3  50734A22C0C63768  2020-12-07         EU   iPhone\n",
       "4  E1BDDCE0DAFA2679  2020-12-07  N.America   iPhone"
      ]
     },
     "metadata": {},
     "output_type": "display_data"
    },
    {
     "data": {
      "text/html": [
       "<div>\n",
       "<style scoped>\n",
       "    .dataframe tbody tr th:only-of-type {\n",
       "        vertical-align: middle;\n",
       "    }\n",
       "\n",
       "    .dataframe tbody tr th {\n",
       "        vertical-align: top;\n",
       "    }\n",
       "\n",
       "    .dataframe thead th {\n",
       "        text-align: right;\n",
       "    }\n",
       "</style>\n",
       "<table border=\"1\" class=\"dataframe\">\n",
       "  <thead>\n",
       "    <tr style=\"text-align: right;\">\n",
       "      <th></th>\n",
       "      <th>user_id</th>\n",
       "      <th>group</th>\n",
       "      <th>ab_test</th>\n",
       "    </tr>\n",
       "  </thead>\n",
       "  <tbody>\n",
       "    <tr>\n",
       "      <th>0</th>\n",
       "      <td>D1ABA3E2887B6A73</td>\n",
       "      <td>A</td>\n",
       "      <td>recommender_system_test</td>\n",
       "    </tr>\n",
       "    <tr>\n",
       "      <th>1</th>\n",
       "      <td>A7A3664BD6242119</td>\n",
       "      <td>A</td>\n",
       "      <td>recommender_system_test</td>\n",
       "    </tr>\n",
       "    <tr>\n",
       "      <th>2</th>\n",
       "      <td>DABC14FDDFADD29E</td>\n",
       "      <td>A</td>\n",
       "      <td>recommender_system_test</td>\n",
       "    </tr>\n",
       "    <tr>\n",
       "      <th>3</th>\n",
       "      <td>04988C5DF189632E</td>\n",
       "      <td>A</td>\n",
       "      <td>recommender_system_test</td>\n",
       "    </tr>\n",
       "    <tr>\n",
       "      <th>4</th>\n",
       "      <td>482F14783456D21B</td>\n",
       "      <td>B</td>\n",
       "      <td>recommender_system_test</td>\n",
       "    </tr>\n",
       "  </tbody>\n",
       "</table>\n",
       "</div>"
      ],
      "text/plain": [
       "            user_id group                  ab_test\n",
       "0  D1ABA3E2887B6A73     A  recommender_system_test\n",
       "1  A7A3664BD6242119     A  recommender_system_test\n",
       "2  DABC14FDDFADD29E     A  recommender_system_test\n",
       "3  04988C5DF189632E     A  recommender_system_test\n",
       "4  482F14783456D21B     B  recommender_system_test"
      ]
     },
     "metadata": {},
     "output_type": "display_data"
    }
   ],
   "source": [
    "#прочитаем файлы с данными и сохраним их в переменные\n",
    "\n",
    "events = pd.read_csv('/datasets/final_ab_events.csv')\n",
    "pm_events = pd.read_csv('/datasets/ab_project_marketing_events.csv')\n",
    "new_users = pd.read_csv('/datasets/final_ab_new_users.csv')\n",
    "participants = pd.read_csv('/datasets/final_ab_participants.csv')\n",
    "\n",
    "# выведем на экран первые 5 строк таблиц\n",
    "\n",
    "display(events.head()) \n",
    "display(pm_events.head()) \n",
    "display(new_users.head())\n",
    "display(participants.head()) "
   ]
  },
  {
   "cell_type": "code",
   "execution_count": 4,
   "metadata": {
    "scrolled": true
   },
   "outputs": [
    {
     "name": "stdout",
     "output_type": "stream",
     "text": [
      "<class 'pandas.core.frame.DataFrame'>\n",
      "RangeIndex: 440317 entries, 0 to 440316\n",
      "Data columns (total 4 columns):\n",
      " #   Column      Non-Null Count   Dtype  \n",
      "---  ------      --------------   -----  \n",
      " 0   user_id     440317 non-null  object \n",
      " 1   event_dt    440317 non-null  object \n",
      " 2   event_name  440317 non-null  object \n",
      " 3   details     62740 non-null   float64\n",
      "dtypes: float64(1), object(3)\n",
      "memory usage: 13.4+ MB\n"
     ]
    },
    {
     "data": {
      "text/plain": [
       "None"
      ]
     },
     "metadata": {},
     "output_type": "display_data"
    },
    {
     "name": "stdout",
     "output_type": "stream",
     "text": [
      "<class 'pandas.core.frame.DataFrame'>\n",
      "RangeIndex: 14 entries, 0 to 13\n",
      "Data columns (total 4 columns):\n",
      " #   Column     Non-Null Count  Dtype \n",
      "---  ------     --------------  ----- \n",
      " 0   name       14 non-null     object\n",
      " 1   regions    14 non-null     object\n",
      " 2   start_dt   14 non-null     object\n",
      " 3   finish_dt  14 non-null     object\n",
      "dtypes: object(4)\n",
      "memory usage: 576.0+ bytes\n"
     ]
    },
    {
     "data": {
      "text/plain": [
       "None"
      ]
     },
     "metadata": {},
     "output_type": "display_data"
    },
    {
     "name": "stdout",
     "output_type": "stream",
     "text": [
      "<class 'pandas.core.frame.DataFrame'>\n",
      "RangeIndex: 61733 entries, 0 to 61732\n",
      "Data columns (total 4 columns):\n",
      " #   Column      Non-Null Count  Dtype \n",
      "---  ------      --------------  ----- \n",
      " 0   user_id     61733 non-null  object\n",
      " 1   first_date  61733 non-null  object\n",
      " 2   region      61733 non-null  object\n",
      " 3   device      61733 non-null  object\n",
      "dtypes: object(4)\n",
      "memory usage: 1.9+ MB\n"
     ]
    },
    {
     "data": {
      "text/plain": [
       "None"
      ]
     },
     "metadata": {},
     "output_type": "display_data"
    },
    {
     "name": "stdout",
     "output_type": "stream",
     "text": [
      "<class 'pandas.core.frame.DataFrame'>\n",
      "RangeIndex: 18268 entries, 0 to 18267\n",
      "Data columns (total 3 columns):\n",
      " #   Column   Non-Null Count  Dtype \n",
      "---  ------   --------------  ----- \n",
      " 0   user_id  18268 non-null  object\n",
      " 1   group    18268 non-null  object\n",
      " 2   ab_test  18268 non-null  object\n",
      "dtypes: object(3)\n",
      "memory usage: 428.3+ KB\n"
     ]
    },
    {
     "data": {
      "text/plain": [
       "None"
      ]
     },
     "metadata": {},
     "output_type": "display_data"
    }
   ],
   "source": [
    "# получим общую информацию о таблицах\n",
    "\n",
    "display(events.info()) \n",
    "display(pm_events.info())\n",
    "display(new_users.info())\n",
    "display(participants.info())"
   ]
  },
  {
   "cell_type": "markdown",
   "metadata": {},
   "source": [
    "**В наличии следующие данные:**  \n",
    "\n",
    "`pm_events` — календарь маркетинговых событий на 2020 год.\n",
    "\n",
    "Структура файла:\n",
    "\n",
    "- `name` — название маркетингового события;\n",
    "- `regions` — регионы, в которых будет проводиться рекламная кампания;\n",
    "- `start_dt` — дата начала кампании;\n",
    "- `finish_dt` — дата завершения кампании.\n",
    "\n",
    "`new_users` — пользователи, зарегистрировавшиеся с 7 по 21 декабря 2020 года.\n",
    "\n",
    "Структура файла:\n",
    "\n",
    "- `user_id` — идентификатор пользователя;\n",
    "- `first_date` — дата регистрации;\n",
    "- `region` — регион пользователя;\n",
    "- `device` — устройство, с которого происходила регистрация.\n",
    "\n",
    "`events` — действия новых пользователей в период с 7 декабря 2020 по 4 января 2021 года.\n",
    "\n",
    "Структура файла:\n",
    "\n",
    "- `user_id` — идентификатор пользователя;\n",
    "- `event_dt` — дата и время покупки;\n",
    "- `event_name` — тип события;\n",
    "- `details` — дополнительные данные о событии. Например, для покупок, `purchase,` в этом поле хранится стоимость покупки в долларах.\n",
    "\n",
    "`participants` — таблица участников тестов.\n",
    "\n",
    "Структура файла:\n",
    "\n",
    "- `user_id` — идентификатор пользователя;\n",
    "- `ab_test` — название теста;\n",
    "- `group` — группа пользователя. \n",
    "\n",
    "\n",
    "### Выводы:  \n",
    "\n",
    "В нашем распоряжении 4 таблицы с данными об маркетинговых событиях на 2020 год, о новых пользователях зарегистрировавшиеся с 7 по 21 декабря 2020 года, об их действиях с 7 декабря 2020 по 4 января 2021 года, а также таблица участников теста \"recommender_system_test\".    \n",
    "\n",
    "В таблице events есть пропуски значений в дополнительных данных о событии, скорее всего это отсутствие данных, и пропуски не случайные. Такие пропуски заполнять не будем.\n",
    "\n",
    "Типы даннах столбцов с датами заменим на тип данных date.  "
   ]
  },
  {
   "cell_type": "markdown",
   "metadata": {},
   "source": [
    "## Предобработка данных  \n",
    "\n",
    "### Заменим тип данных столбцов с датами"
   ]
  },
  {
   "cell_type": "code",
   "execution_count": 5,
   "metadata": {},
   "outputs": [],
   "source": [
    "# заменим тип данных на datetime64\n",
    "\n",
    "events['event_dt'] = pd.to_datetime(events['event_dt'])\n",
    "pm_events['start_dt'] = pd.to_datetime(pm_events['start_dt'])\n",
    "pm_events['finish_dt'] = pd.to_datetime(pm_events['finish_dt'])\n",
    "new_users['first_date'] = pd.to_datetime(new_users['first_date'])"
   ]
  },
  {
   "cell_type": "markdown",
   "metadata": {},
   "source": [
    "### Добавим недостающие данные"
   ]
  },
  {
   "cell_type": "code",
   "execution_count": 6,
   "metadata": {},
   "outputs": [
    {
     "data": {
      "text/html": [
       "<div>\n",
       "<style scoped>\n",
       "    .dataframe tbody tr th:only-of-type {\n",
       "        vertical-align: middle;\n",
       "    }\n",
       "\n",
       "    .dataframe tbody tr th {\n",
       "        vertical-align: top;\n",
       "    }\n",
       "\n",
       "    .dataframe thead th {\n",
       "        text-align: right;\n",
       "    }\n",
       "</style>\n",
       "<table border=\"1\" class=\"dataframe\">\n",
       "  <thead>\n",
       "    <tr style=\"text-align: right;\">\n",
       "      <th></th>\n",
       "      <th>user_id</th>\n",
       "      <th>event_dt</th>\n",
       "      <th>event_name</th>\n",
       "      <th>details</th>\n",
       "      <th>date</th>\n",
       "    </tr>\n",
       "  </thead>\n",
       "  <tbody>\n",
       "    <tr>\n",
       "      <th>0</th>\n",
       "      <td>E1BDDCE0DAFA2679</td>\n",
       "      <td>2020-12-07 20:22:03</td>\n",
       "      <td>purchase</td>\n",
       "      <td>99.99</td>\n",
       "      <td>2020-12-07</td>\n",
       "    </tr>\n",
       "    <tr>\n",
       "      <th>1</th>\n",
       "      <td>7B6452F081F49504</td>\n",
       "      <td>2020-12-07 09:22:53</td>\n",
       "      <td>purchase</td>\n",
       "      <td>9.99</td>\n",
       "      <td>2020-12-07</td>\n",
       "    </tr>\n",
       "    <tr>\n",
       "      <th>2</th>\n",
       "      <td>9CD9F34546DF254C</td>\n",
       "      <td>2020-12-07 12:59:29</td>\n",
       "      <td>purchase</td>\n",
       "      <td>4.99</td>\n",
       "      <td>2020-12-07</td>\n",
       "    </tr>\n",
       "    <tr>\n",
       "      <th>3</th>\n",
       "      <td>96F27A054B191457</td>\n",
       "      <td>2020-12-07 04:02:40</td>\n",
       "      <td>purchase</td>\n",
       "      <td>4.99</td>\n",
       "      <td>2020-12-07</td>\n",
       "    </tr>\n",
       "    <tr>\n",
       "      <th>4</th>\n",
       "      <td>1FD7660FDF94CA1F</td>\n",
       "      <td>2020-12-07 10:15:09</td>\n",
       "      <td>purchase</td>\n",
       "      <td>4.99</td>\n",
       "      <td>2020-12-07</td>\n",
       "    </tr>\n",
       "  </tbody>\n",
       "</table>\n",
       "</div>"
      ],
      "text/plain": [
       "            user_id            event_dt event_name  details       date\n",
       "0  E1BDDCE0DAFA2679 2020-12-07 20:22:03   purchase    99.99 2020-12-07\n",
       "1  7B6452F081F49504 2020-12-07 09:22:53   purchase     9.99 2020-12-07\n",
       "2  9CD9F34546DF254C 2020-12-07 12:59:29   purchase     4.99 2020-12-07\n",
       "3  96F27A054B191457 2020-12-07 04:02:40   purchase     4.99 2020-12-07\n",
       "4  1FD7660FDF94CA1F 2020-12-07 10:15:09   purchase     4.99 2020-12-07"
      ]
     },
     "execution_count": 6,
     "metadata": {},
     "output_type": "execute_result"
    }
   ],
   "source": [
    "# добавим столбец в таблице events только с датой\n",
    "\n",
    "events['date'] = events['event_dt'].dt.date.astype('datetime64')\n",
    "events.head()"
   ]
  },
  {
   "cell_type": "markdown",
   "metadata": {},
   "source": [
    "### Проверим наличие дубликатов"
   ]
  },
  {
   "cell_type": "code",
   "execution_count": 7,
   "metadata": {
    "scrolled": true
   },
   "outputs": [
    {
     "data": {
      "text/plain": [
       "0"
      ]
     },
     "metadata": {},
     "output_type": "display_data"
    },
    {
     "data": {
      "text/plain": [
       "0"
      ]
     },
     "metadata": {},
     "output_type": "display_data"
    },
    {
     "data": {
      "text/plain": [
       "0"
      ]
     },
     "metadata": {},
     "output_type": "display_data"
    },
    {
     "data": {
      "text/plain": [
       "0"
      ]
     },
     "metadata": {},
     "output_type": "display_data"
    }
   ],
   "source": [
    "# найдем сумму явных дубликатов в таблицах\n",
    "\n",
    "display(events.duplicated().sum())\n",
    "display(pm_events.duplicated().sum())\n",
    "display(new_users.duplicated().sum())\n",
    "display(participants.duplicated().sum())"
   ]
  },
  {
   "cell_type": "markdown",
   "metadata": {},
   "source": [
    "### Рассмотрим пропуски в столбце details таблицы events"
   ]
  },
  {
   "cell_type": "code",
   "execution_count": 8,
   "metadata": {},
   "outputs": [
    {
     "data": {
      "text/plain": [
       "login           0.502022\n",
       "product_page    0.332549\n",
       "product_cart    0.165429\n",
       "Name: event_name, dtype: float64"
      ]
     },
     "execution_count": 8,
     "metadata": {},
     "output_type": "execute_result"
    }
   ],
   "source": [
    "# найдем пропуски в столбце details и сохраним их в переменную\n",
    "\n",
    "details = events[events['details'].isna()]\n",
    "\n",
    "# найдем долю каждого события в общем количестве пропусков\n",
    " \n",
    "details['event_name'].value_counts(normalize=True)"
   ]
  },
  {
   "cell_type": "markdown",
   "metadata": {},
   "source": [
    "Пропусков в стоимости покупок нет, остальные - это отсутствие дополнительных сведений. Заполнять нет необходимости."
   ]
  },
  {
   "cell_type": "markdown",
   "metadata": {},
   "source": [
    "### Проверим корректность значений в таблицах"
   ]
  },
  {
   "cell_type": "code",
   "execution_count": 9,
   "metadata": {
    "scrolled": false
   },
   "outputs": [
    {
     "name": "stdout",
     "output_type": "stream",
     "text": [
      "Названия маркетингового события: ['Christmas&New Year Promo' \"St. Valentine's Day Giveaway\"\n",
      " \"St. Patric's Day Promo\" 'Easter Promo' '4th of July Promo'\n",
      " 'Black Friday Ads Campaign' 'Chinese New Year Promo'\n",
      " 'Labor day (May 1st) Ads Campaign' \"International Women's Day Promo\"\n",
      " 'Victory Day CIS (May 9th) Event' 'CIS New Year Gift Lottery'\n",
      " 'Dragon Boat Festival Giveaway' \"Single's Day Gift Promo\"\n",
      " 'Chinese Moon Festival']\n",
      "Регионы, в которых будет проводиться рекламная кампания ['EU, N.America' 'EU, CIS, APAC, N.America' 'N.America' 'APAC'\n",
      " 'EU, CIS, APAC' 'CIS']\n",
      "Устройство, с которого происходила регистрация ['PC' 'Android' 'iPhone' 'Mac']\n",
      "Регион пользователя ['EU' 'N.America' 'APAC' 'CIS']\n",
      "Тип события ['purchase' 'product_cart' 'product_page' 'login']\n",
      "Название теста ['recommender_system_test' 'interface_eu_test']\n",
      "Группа пользователя ['A' 'B']\n"
     ]
    }
   ],
   "source": [
    "#выведет уникальные значения\n",
    "\n",
    "print('Названия маркетингового события:', pm_events['name'].unique())\n",
    "print('Регионы, в которых будет проводиться рекламная кампания', pm_events['regions'].unique())\n",
    "print('Устройство, с которого происходила регистрация', new_users['device'].unique())\n",
    "print('Регион пользователя', new_users['region'].unique())\n",
    "print('Тип события', events['event_name'].unique())\n",
    "print('Название теста', participants['ab_test'].unique())\n",
    "print('Группа пользователя', participants['group'].unique())"
   ]
  },
  {
   "cell_type": "markdown",
   "metadata": {},
   "source": [
    "В таблицу с участниками теста попал еще один тест, уберем строки с участниками другого теста"
   ]
  },
  {
   "cell_type": "code",
   "execution_count": 10,
   "metadata": {
    "scrolled": false
   },
   "outputs": [
    {
     "name": "stdout",
     "output_type": "stream",
     "text": [
      "<class 'pandas.core.frame.DataFrame'>\n",
      "Int64Index: 6701 entries, 0 to 6700\n",
      "Data columns (total 3 columns):\n",
      " #   Column   Non-Null Count  Dtype \n",
      "---  ------   --------------  ----- \n",
      " 0   user_id  6701 non-null   object\n",
      " 1   group    6701 non-null   object\n",
      " 2   ab_test  6701 non-null   object\n",
      "dtypes: object(3)\n",
      "memory usage: 209.4+ KB\n"
     ]
    }
   ],
   "source": [
    "# перезапишем таблицу, убрав из нее ненужные данные \n",
    "\n",
    "participants_new = participants.loc[participants.loc[:, 'ab_test'] != 'interface_eu_test']\n",
    "participants_new.info()"
   ]
  },
  {
   "cell_type": "markdown",
   "metadata": {},
   "source": [
    "Кол-во участников теста отличается от ожидаемого на 700 человек."
   ]
  },
  {
   "cell_type": "markdown",
   "metadata": {},
   "source": [
    "### Вывод:  \n",
    "\n",
    "Заменили типы данных в столбцах с датами на date.  \n",
    "\n",
    "Добавили столбец к таблице events только с датой.  \n",
    "\n",
    "Дубликаты отсутствуют.  \n",
    "\n",
    "Пропуски не случайны, заполнять нет необходимости, это не помешает исследованию.\n",
    "\n",
    "Нашли в таблице с участниками теста, пользователей, участвующих в конкурирующем тесте. Убрали эти данные из таблицы."
   ]
  },
  {
   "cell_type": "markdown",
   "metadata": {},
   "source": [
    "## Оценка корректности проведения теста"
   ]
  },
  {
   "cell_type": "markdown",
   "metadata": {},
   "source": [
    "### Найдем максимальную и минимальную дату регистрации новых пользователей"
   ]
  },
  {
   "cell_type": "code",
   "execution_count": 11,
   "metadata": {},
   "outputs": [
    {
     "data": {
      "text/plain": [
       "Timestamp('2020-12-07 00:00:00')"
      ]
     },
     "metadata": {},
     "output_type": "display_data"
    },
    {
     "data": {
      "text/plain": [
       "Timestamp('2020-12-23 00:00:00')"
      ]
     },
     "metadata": {},
     "output_type": "display_data"
    }
   ],
   "source": [
    "display(new_users['first_date'].min())\n",
    "display(new_users['first_date'].max())"
   ]
  },
  {
   "cell_type": "markdown",
   "metadata": {},
   "source": [
    "Данные не совпадают с технческим заданием, последние зарегистрировавшиеся пользоватили были 23 декабря 2020, а не 21 декабря.  "
   ]
  },
  {
   "cell_type": "markdown",
   "metadata": {},
   "source": [
    "### Проанализируем даты событий  \n",
    "\n",
    "Посмотрим на максимальную и минимальную дату событий"
   ]
  },
  {
   "cell_type": "code",
   "execution_count": 12,
   "metadata": {},
   "outputs": [
    {
     "data": {
      "text/plain": [
       "Timestamp('2020-12-07 00:00:00')"
      ]
     },
     "metadata": {},
     "output_type": "display_data"
    },
    {
     "data": {
      "text/plain": [
       "Timestamp('2020-12-30 00:00:00')"
      ]
     },
     "metadata": {},
     "output_type": "display_data"
    }
   ],
   "source": [
    "display(events['date'].min())\n",
    "display(events['date'].max())"
   ]
  },
  {
   "cell_type": "markdown",
   "metadata": {},
   "source": [
    "Действия новых пользователей заканчиваются 30 декабря 2020 года.  \n",
    "Посмотрим даты новогодней маркетинговой компании."
   ]
  },
  {
   "cell_type": "code",
   "execution_count": 13,
   "metadata": {},
   "outputs": [
    {
     "data": {
      "text/html": [
       "<div>\n",
       "<style scoped>\n",
       "    .dataframe tbody tr th:only-of-type {\n",
       "        vertical-align: middle;\n",
       "    }\n",
       "\n",
       "    .dataframe tbody tr th {\n",
       "        vertical-align: top;\n",
       "    }\n",
       "\n",
       "    .dataframe thead th {\n",
       "        text-align: right;\n",
       "    }\n",
       "</style>\n",
       "<table border=\"1\" class=\"dataframe\">\n",
       "  <thead>\n",
       "    <tr style=\"text-align: right;\">\n",
       "      <th></th>\n",
       "      <th>name</th>\n",
       "      <th>regions</th>\n",
       "      <th>start_dt</th>\n",
       "      <th>finish_dt</th>\n",
       "    </tr>\n",
       "  </thead>\n",
       "  <tbody>\n",
       "    <tr>\n",
       "      <th>0</th>\n",
       "      <td>Christmas&amp;New Year Promo</td>\n",
       "      <td>EU, N.America</td>\n",
       "      <td>2020-12-25</td>\n",
       "      <td>2021-01-03</td>\n",
       "    </tr>\n",
       "  </tbody>\n",
       "</table>\n",
       "</div>"
      ],
      "text/plain": [
       "                       name        regions   start_dt  finish_dt\n",
       "0  Christmas&New Year Promo  EU, N.America 2020-12-25 2021-01-03"
      ]
     },
     "execution_count": 13,
     "metadata": {},
     "output_type": "execute_result"
    }
   ],
   "source": [
    "# выведем строку с новогодней маркетинговой компанией\n",
    "\n",
    "pm_events.loc[pm_events.loc[:, 'name'] == 'Christmas&New Year Promo']"
   ]
  },
  {
   "cell_type": "markdown",
   "metadata": {},
   "source": [
    "Нужно убрать из теста данные с 25 декабря по 30 декабря, так как на действия пользователей могла повлиять маркетинговая компания.  \n",
    "\n"
   ]
  },
  {
   "cell_type": "code",
   "execution_count": 14,
   "metadata": {
    "scrolled": true
   },
   "outputs": [],
   "source": [
    "# перезапишем таблицу, убрав из нее ненужные данные \n",
    "\n",
    "events_new = events.loc[events.loc[:, 'date'] < '2020-12-25']"
   ]
  },
  {
   "cell_type": "markdown",
   "metadata": {},
   "source": [
    "### Посмотрим, есть ли пользователи, участвующие в двух группах теста одновременно"
   ]
  },
  {
   "cell_type": "code",
   "execution_count": 15,
   "metadata": {},
   "outputs": [
    {
     "data": {
      "text/plain": [
       "6701"
      ]
     },
     "metadata": {},
     "output_type": "display_data"
    },
    {
     "data": {
      "text/plain": [
       "6701"
      ]
     },
     "metadata": {},
     "output_type": "display_data"
    }
   ],
   "source": [
    "# выведем кол-во строк в таблице и ко-во уникальных id\n",
    "\n",
    "display(participants_new.shape[0])\n",
    "display(len(participants_new['user_id'].unique()))"
   ]
  },
  {
   "cell_type": "markdown",
   "metadata": {},
   "source": [
    "Кол-во строк в таблице и кол-во уникальных пользователей одинаково, следовательно id не повторяются, и нет пользователей попавших одновременно в группу А и В.  "
   ]
  },
  {
   "cell_type": "markdown",
   "metadata": {},
   "source": [
    "### Посмотрим равномерность распределения пользователей по группам теста"
   ]
  },
  {
   "cell_type": "code",
   "execution_count": 16,
   "metadata": {
    "scrolled": false
   },
   "outputs": [
    {
     "data": {
      "text/plain": [
       "group\n",
       "A    3824\n",
       "B    2877\n",
       "Name: user_id, dtype: int64"
      ]
     },
     "execution_count": 16,
     "metadata": {},
     "output_type": "execute_result"
    }
   ],
   "source": [
    "# сгруппируем по группам теста и посчитаем пользователей\n",
    "\n",
    "participants_new.groupby('group')['user_id'].count()"
   ]
  },
  {
   "cell_type": "markdown",
   "metadata": {},
   "source": [
    "Пользователи распределены достаточно равномерно."
   ]
  },
  {
   "cell_type": "markdown",
   "metadata": {},
   "source": [
    "### Соединим таблицу со всеми зарегистрировавшимися пользователями с участниками теста"
   ]
  },
  {
   "cell_type": "code",
   "execution_count": 17,
   "metadata": {
    "scrolled": false
   },
   "outputs": [
    {
     "data": {
      "text/html": [
       "<div>\n",
       "<style scoped>\n",
       "    .dataframe tbody tr th:only-of-type {\n",
       "        vertical-align: middle;\n",
       "    }\n",
       "\n",
       "    .dataframe tbody tr th {\n",
       "        vertical-align: top;\n",
       "    }\n",
       "\n",
       "    .dataframe thead th {\n",
       "        text-align: right;\n",
       "    }\n",
       "</style>\n",
       "<table border=\"1\" class=\"dataframe\">\n",
       "  <thead>\n",
       "    <tr style=\"text-align: right;\">\n",
       "      <th></th>\n",
       "      <th>user_id</th>\n",
       "      <th>group</th>\n",
       "      <th>ab_test</th>\n",
       "      <th>first_date</th>\n",
       "      <th>region</th>\n",
       "      <th>device</th>\n",
       "    </tr>\n",
       "  </thead>\n",
       "  <tbody>\n",
       "    <tr>\n",
       "      <th>0</th>\n",
       "      <td>D1ABA3E2887B6A73</td>\n",
       "      <td>A</td>\n",
       "      <td>recommender_system_test</td>\n",
       "      <td>2020-12-07</td>\n",
       "      <td>EU</td>\n",
       "      <td>PC</td>\n",
       "    </tr>\n",
       "    <tr>\n",
       "      <th>1</th>\n",
       "      <td>A7A3664BD6242119</td>\n",
       "      <td>A</td>\n",
       "      <td>recommender_system_test</td>\n",
       "      <td>2020-12-20</td>\n",
       "      <td>EU</td>\n",
       "      <td>iPhone</td>\n",
       "    </tr>\n",
       "    <tr>\n",
       "      <th>2</th>\n",
       "      <td>DABC14FDDFADD29E</td>\n",
       "      <td>A</td>\n",
       "      <td>recommender_system_test</td>\n",
       "      <td>2020-12-08</td>\n",
       "      <td>EU</td>\n",
       "      <td>Mac</td>\n",
       "    </tr>\n",
       "    <tr>\n",
       "      <th>3</th>\n",
       "      <td>04988C5DF189632E</td>\n",
       "      <td>A</td>\n",
       "      <td>recommender_system_test</td>\n",
       "      <td>2020-12-14</td>\n",
       "      <td>EU</td>\n",
       "      <td>iPhone</td>\n",
       "    </tr>\n",
       "    <tr>\n",
       "      <th>4</th>\n",
       "      <td>482F14783456D21B</td>\n",
       "      <td>B</td>\n",
       "      <td>recommender_system_test</td>\n",
       "      <td>2020-12-14</td>\n",
       "      <td>EU</td>\n",
       "      <td>PC</td>\n",
       "    </tr>\n",
       "  </tbody>\n",
       "</table>\n",
       "</div>"
      ],
      "text/plain": [
       "            user_id group                  ab_test first_date region  device\n",
       "0  D1ABA3E2887B6A73     A  recommender_system_test 2020-12-07     EU      PC\n",
       "1  A7A3664BD6242119     A  recommender_system_test 2020-12-20     EU  iPhone\n",
       "2  DABC14FDDFADD29E     A  recommender_system_test 2020-12-08     EU     Mac\n",
       "3  04988C5DF189632E     A  recommender_system_test 2020-12-14     EU  iPhone\n",
       "4  482F14783456D21B     B  recommender_system_test 2020-12-14     EU      PC"
      ]
     },
     "metadata": {},
     "output_type": "display_data"
    },
    {
     "name": "stdout",
     "output_type": "stream",
     "text": [
      "<class 'pandas.core.frame.DataFrame'>\n",
      "Int64Index: 6701 entries, 0 to 6700\n",
      "Data columns (total 6 columns):\n",
      " #   Column      Non-Null Count  Dtype         \n",
      "---  ------      --------------  -----         \n",
      " 0   user_id     6701 non-null   object        \n",
      " 1   group       6701 non-null   object        \n",
      " 2   ab_test     6701 non-null   object        \n",
      " 3   first_date  6701 non-null   datetime64[ns]\n",
      " 4   region      6701 non-null   object        \n",
      " 5   device      6701 non-null   object        \n",
      "dtypes: datetime64[ns](1), object(5)\n",
      "memory usage: 366.5+ KB\n"
     ]
    },
    {
     "data": {
      "text/plain": [
       "None"
      ]
     },
     "metadata": {},
     "output_type": "display_data"
    }
   ],
   "source": [
    "# соединим таблицу participants_new с new_users_new\n",
    "\n",
    "participants_users = participants_new.merge(new_users, on='user_id', how='left')\n",
    "display(participants_users.head())\n",
    "display(participants_users.info())"
   ]
  },
  {
   "cell_type": "markdown",
   "metadata": {},
   "source": [
    "Проверим, что 15% новых пользователей из региона EU"
   ]
  },
  {
   "cell_type": "code",
   "execution_count": 18,
   "metadata": {
    "scrolled": false
   },
   "outputs": [
    {
     "data": {
      "text/plain": [
       "region\n",
       "APAC         0.010745\n",
       "CIS          0.008208\n",
       "EU           0.947769\n",
       "N.America    0.033279\n",
       "dtype: float64"
      ]
     },
     "execution_count": 18,
     "metadata": {},
     "output_type": "execute_result"
    }
   ],
   "source": [
    "# найдем процент от общего кол-ва\n",
    "\n",
    "participants_users.groupby('region').size()/ len(participants_users)"
   ]
  },
  {
   "cell_type": "markdown",
   "metadata": {},
   "source": [
    "Из региона EU 94% пользователей."
   ]
  },
  {
   "cell_type": "code",
   "execution_count": 44,
   "metadata": {
    "scrolled": true
   },
   "outputs": [
    {
     "data": {
      "text/plain": [
       "13.725956343202938"
      ]
     },
     "execution_count": 44,
     "metadata": {},
     "output_type": "execute_result"
    }
   ],
   "source": [
    "# посчитаем долю участников теста от всех новых пользователей из региона EU\n",
    "\n",
    "participants_users.query('region == \"EU\"')['region'].count()/new_users.query('region == \"EU\"')['region'].count() * 100"
   ]
  },
  {
   "cell_type": "markdown",
   "metadata": {},
   "source": [
    "Доля участников из региона EU составляе 14%."
   ]
  },
  {
   "cell_type": "markdown",
   "metadata": {},
   "source": [
    "### Определим пользователей, которых можно использовать для оценки А/В теста   \n",
    "\n",
    "Если мы исследуем данные за 14 дней после регистрации пользователя, то в исследуемую группу могут попаcть только пользователи, зарегистрировавшиеся не позже 10 декабря 2020 года.  \n",
    "\n",
    "Посчитаем новых пользователей, зарегистрировавшихся не позже 10 декабря.  "
   ]
  },
  {
   "cell_type": "code",
   "execution_count": 20,
   "metadata": {
    "scrolled": false
   },
   "outputs": [
    {
     "data": {
      "text/plain": [
       "user_id       1267\n",
       "group         1267\n",
       "ab_test       1267\n",
       "first_date    1267\n",
       "region        1267\n",
       "device        1267\n",
       "dtype: int64"
      ]
     },
     "execution_count": 20,
     "metadata": {},
     "output_type": "execute_result"
    }
   ],
   "source": [
    "# посмотрим на таблицу только с нужными нам данными\n",
    "\n",
    "participants_users.loc[participants_users.loc[:, 'first_date'] < '2020-12-10'].count()"
   ]
  },
  {
   "cell_type": "markdown",
   "metadata": {},
   "source": [
    "Получилось, что из всего кол-ва участвующих в тесте пользователей, по прошествии 14 дней для исследования можно использовать только 1267 человек."
   ]
  },
  {
   "cell_type": "markdown",
   "metadata": {},
   "source": [
    "### Вывод:  \n",
    "\n",
    "Оценили данные, представленные в таблицах. Обнаружили пользователей, пересекающихся с конкурирующим тестом, удалили данные по конкурирующему тесту.   \n",
    "\n",
    "Убрали из таблицы событий действия, совершенные после 25 декабря. Так как с 25 декабря по 3 января проводилась новогодняя маркетинговая компания, которая могла повлиять на результаты теста.  \n",
    "\n",
    "Пользователи распределены по группам достаточно равномерно. Участников попавших в обе группы одновременно нет.  \n",
    "\n",
    "Определили, что 94% участников теста из региона EU. А доля участников из региона EU от всего кол-ва новых пользователей изи EU составляет 14%. \n",
    "\n",
    "Установили, что пользователей, у которых прошло 14 дней с момента регистрации всего 1267 человек, это зарегистрировавшиеся с 7 по 10 декабря 2020 года."
   ]
  },
  {
   "cell_type": "markdown",
   "metadata": {},
   "source": [
    "## Исследовательский анализ данных"
   ]
  },
  {
   "cell_type": "markdown",
   "metadata": {},
   "source": [
    "### Соединим таблицу с участниками А/В теста и событиями"
   ]
  },
  {
   "cell_type": "code",
   "execution_count": 21,
   "metadata": {
    "scrolled": false
   },
   "outputs": [
    {
     "data": {
      "text/html": [
       "<div>\n",
       "<style scoped>\n",
       "    .dataframe tbody tr th:only-of-type {\n",
       "        vertical-align: middle;\n",
       "    }\n",
       "\n",
       "    .dataframe tbody tr th {\n",
       "        vertical-align: top;\n",
       "    }\n",
       "\n",
       "    .dataframe thead th {\n",
       "        text-align: right;\n",
       "    }\n",
       "</style>\n",
       "<table border=\"1\" class=\"dataframe\">\n",
       "  <thead>\n",
       "    <tr style=\"text-align: right;\">\n",
       "      <th></th>\n",
       "      <th>user_id</th>\n",
       "      <th>group</th>\n",
       "      <th>ab_test</th>\n",
       "      <th>first_date</th>\n",
       "      <th>region</th>\n",
       "      <th>device</th>\n",
       "      <th>event_dt</th>\n",
       "      <th>event_name</th>\n",
       "      <th>details</th>\n",
       "      <th>date</th>\n",
       "    </tr>\n",
       "  </thead>\n",
       "  <tbody>\n",
       "    <tr>\n",
       "      <th>0</th>\n",
       "      <td>D1ABA3E2887B6A73</td>\n",
       "      <td>A</td>\n",
       "      <td>recommender_system_test</td>\n",
       "      <td>2020-12-07</td>\n",
       "      <td>EU</td>\n",
       "      <td>PC</td>\n",
       "      <td>2020-12-07 14:43:27</td>\n",
       "      <td>purchase</td>\n",
       "      <td>99.99</td>\n",
       "      <td>2020-12-07</td>\n",
       "    </tr>\n",
       "    <tr>\n",
       "      <th>1</th>\n",
       "      <td>D1ABA3E2887B6A73</td>\n",
       "      <td>A</td>\n",
       "      <td>recommender_system_test</td>\n",
       "      <td>2020-12-07</td>\n",
       "      <td>EU</td>\n",
       "      <td>PC</td>\n",
       "      <td>2020-12-07 14:43:29</td>\n",
       "      <td>product_cart</td>\n",
       "      <td>NaN</td>\n",
       "      <td>2020-12-07</td>\n",
       "    </tr>\n",
       "    <tr>\n",
       "      <th>2</th>\n",
       "      <td>D1ABA3E2887B6A73</td>\n",
       "      <td>A</td>\n",
       "      <td>recommender_system_test</td>\n",
       "      <td>2020-12-07</td>\n",
       "      <td>EU</td>\n",
       "      <td>PC</td>\n",
       "      <td>2020-12-07 14:43:27</td>\n",
       "      <td>product_page</td>\n",
       "      <td>NaN</td>\n",
       "      <td>2020-12-07</td>\n",
       "    </tr>\n",
       "    <tr>\n",
       "      <th>3</th>\n",
       "      <td>D1ABA3E2887B6A73</td>\n",
       "      <td>A</td>\n",
       "      <td>recommender_system_test</td>\n",
       "      <td>2020-12-07</td>\n",
       "      <td>EU</td>\n",
       "      <td>PC</td>\n",
       "      <td>2020-12-07 14:43:27</td>\n",
       "      <td>login</td>\n",
       "      <td>NaN</td>\n",
       "      <td>2020-12-07</td>\n",
       "    </tr>\n",
       "    <tr>\n",
       "      <th>4</th>\n",
       "      <td>A7A3664BD6242119</td>\n",
       "      <td>A</td>\n",
       "      <td>recommender_system_test</td>\n",
       "      <td>2020-12-20</td>\n",
       "      <td>EU</td>\n",
       "      <td>iPhone</td>\n",
       "      <td>2020-12-20 15:46:06</td>\n",
       "      <td>product_page</td>\n",
       "      <td>NaN</td>\n",
       "      <td>2020-12-20</td>\n",
       "    </tr>\n",
       "  </tbody>\n",
       "</table>\n",
       "</div>"
      ],
      "text/plain": [
       "            user_id group                  ab_test first_date region  device  \\\n",
       "0  D1ABA3E2887B6A73     A  recommender_system_test 2020-12-07     EU      PC   \n",
       "1  D1ABA3E2887B6A73     A  recommender_system_test 2020-12-07     EU      PC   \n",
       "2  D1ABA3E2887B6A73     A  recommender_system_test 2020-12-07     EU      PC   \n",
       "3  D1ABA3E2887B6A73     A  recommender_system_test 2020-12-07     EU      PC   \n",
       "4  A7A3664BD6242119     A  recommender_system_test 2020-12-20     EU  iPhone   \n",
       "\n",
       "             event_dt    event_name  details       date  \n",
       "0 2020-12-07 14:43:27      purchase    99.99 2020-12-07  \n",
       "1 2020-12-07 14:43:29  product_cart      NaN 2020-12-07  \n",
       "2 2020-12-07 14:43:27  product_page      NaN 2020-12-07  \n",
       "3 2020-12-07 14:43:27         login      NaN 2020-12-07  \n",
       "4 2020-12-20 15:46:06  product_page      NaN 2020-12-20  "
      ]
     },
     "metadata": {},
     "output_type": "display_data"
    },
    {
     "name": "stdout",
     "output_type": "stream",
     "text": [
      "<class 'pandas.core.frame.DataFrame'>\n",
      "Int64Index: 24396 entries, 0 to 24395\n",
      "Data columns (total 10 columns):\n",
      " #   Column      Non-Null Count  Dtype         \n",
      "---  ------      --------------  -----         \n",
      " 0   user_id     24396 non-null  object        \n",
      " 1   group       24396 non-null  object        \n",
      " 2   ab_test     24396 non-null  object        \n",
      " 3   first_date  24396 non-null  datetime64[ns]\n",
      " 4   region      24396 non-null  object        \n",
      " 5   device      24396 non-null  object        \n",
      " 6   event_dt    21370 non-null  datetime64[ns]\n",
      " 7   event_name  21370 non-null  object        \n",
      " 8   details     2859 non-null   float64       \n",
      " 9   date        21370 non-null  datetime64[ns]\n",
      "dtypes: datetime64[ns](3), float64(1), object(6)\n",
      "memory usage: 2.0+ MB\n"
     ]
    },
    {
     "data": {
      "text/plain": [
       "None"
      ]
     },
     "metadata": {},
     "output_type": "display_data"
    }
   ],
   "source": [
    "# объединим данные из двух таблиц\n",
    "\n",
    "participants_users_events = participants_users.merge(events_new, on='user_id', how='left')\n",
    "display(participants_users_events.head())\n",
    "display(participants_users_events.info())"
   ]
  },
  {
   "cell_type": "markdown",
   "metadata": {},
   "source": [
    "По кол-ву пропусков видно, что в таблице есть участники, которые не совершили ни одного действия. Скорее всего, события, которые совершили эти пользователи не были записаны.\n",
    "\n",
    "Удаление строк с участниками без событий повлияет на результаты исследования, но на данном этапе мы не можем восстановить эти данные."
   ]
  },
  {
   "cell_type": "markdown",
   "metadata": {},
   "source": [
    "### Разделим получившуюся таблицу на две по группам теста"
   ]
  },
  {
   "cell_type": "code",
   "execution_count": 22,
   "metadata": {},
   "outputs": [],
   "source": [
    "# удалим строки без событий\n",
    "\n",
    "participants_users_events.dropna(subset=['event_name'], inplace=True)\n",
    "\n",
    "# создадим две таблица по группам А и В\n",
    "\n",
    "participants_users_events_a = participants_users_events.query('group == \"A\"')\n",
    "participants_users_events_b = participants_users_events.query('group == \"B\"')"
   ]
  },
  {
   "cell_type": "markdown",
   "metadata": {},
   "source": [
    "### Посмотрим на данные по событиям в группах  \n",
    "\n",
    "- для группы А"
   ]
  },
  {
   "cell_type": "code",
   "execution_count": 23,
   "metadata": {
    "scrolled": false
   },
   "outputs": [
    {
     "data": {
      "image/png": "[encoded data removed]",
      "text/plain": [
       "<Figure size 432x288 with 1 Axes>"
      ]
     },
     "metadata": {
      "needs_background": "light"
     },
     "output_type": "display_data"
    }
   ],
   "source": [
    "# построим гистограмму по столбцу date\n",
    "\n",
    "participants_users_events_a['date'].hist()\n",
    "plt.xticks(rotation=45)\n",
    "plt.title('Распределение событий по датам')\n",
    "plt.xlabel('Дата')\n",
    "plt.ylabel('Кол-во событий');"
   ]
  },
  {
   "cell_type": "markdown",
   "metadata": {},
   "source": [
    "- для группы В"
   ]
  },
  {
   "cell_type": "code",
   "execution_count": 24,
   "metadata": {},
   "outputs": [
    {
     "data": {
      "image/png": "[encoded data removed]",
      "text/plain": [
       "<Figure size 432x288 with 1 Axes>"
      ]
     },
     "metadata": {
      "needs_background": "light"
     },
     "output_type": "display_data"
    }
   ],
   "source": [
    "# построим гистограмму по столбцу date\n",
    "\n",
    "participants_users_events_b['date'].hist()\n",
    "plt.xticks(rotation=45)\n",
    "plt.title('Распределение событий по датам')\n",
    "plt.xlabel('Дата')\n",
    "plt.ylabel('Кол-во событий');"
   ]
  },
  {
   "cell_type": "markdown",
   "metadata": {},
   "source": [
    "Данных достаточно для всех дат, будем использовать данные за весь период.  \n",
    "На обоих графиках наблюдаются провалы 13 и 17 декабря, в эти дни было совершено наименьшее кол-во действий, возможно, это связано с работой сайта."
   ]
  },
  {
   "cell_type": "markdown",
   "metadata": {},
   "source": [
    "### Узнаем сколько всего событий и пользователей по группам, а также сколько в среднем событий приходится на пользователя в каждой группе  \n",
    "\n",
    "- для группы А"
   ]
  },
  {
   "cell_type": "code",
   "execution_count": 25,
   "metadata": {
    "scrolled": false
   },
   "outputs": [
    {
     "data": {
      "text/plain": [
       "2747"
      ]
     },
     "metadata": {},
     "output_type": "display_data"
    },
    {
     "data": {
      "text/plain": [
       "16513"
      ]
     },
     "metadata": {},
     "output_type": "display_data"
    }
   ],
   "source": [
    "# выведем кол-во уникальных значений для столбца user_id и общее кол-во событий\n",
    "\n",
    "display(participants_users_events_a['user_id'].nunique())\n",
    "display(participants_users_events_a['event_name'].count())"
   ]
  },
  {
   "cell_type": "code",
   "execution_count": 26,
   "metadata": {
    "scrolled": false
   },
   "outputs": [
    {
     "data": {
      "text/plain": [
       "6.0"
      ]
     },
     "metadata": {},
     "output_type": "display_data"
    },
    {
     "data": {
      "text/plain": [
       "6.011285038223517"
      ]
     },
     "metadata": {},
     "output_type": "display_data"
    }
   ],
   "source": [
    "# рассчитаем медианное и среднее значение событий для одного пользователя\n",
    "\n",
    "display(participants_users_events_a.groupby('user_id')['event_name'].count().median())\n",
    "display(participants_users_events_a.groupby('user_id')['event_name'].count().mean())"
   ]
  },
  {
   "cell_type": "markdown",
   "metadata": {},
   "source": [
    "- для группы В"
   ]
  },
  {
   "cell_type": "code",
   "execution_count": 27,
   "metadata": {
    "scrolled": true
   },
   "outputs": [
    {
     "data": {
      "text/plain": [
       "928"
      ]
     },
     "metadata": {},
     "output_type": "display_data"
    },
    {
     "data": {
      "text/plain": [
       "4857"
      ]
     },
     "metadata": {},
     "output_type": "display_data"
    }
   ],
   "source": [
    "# выведем кол-во уникальных значений для столбца user_id и общее кол-во событий\n",
    "\n",
    "display(participants_users_events_b['user_id'].nunique())\n",
    "display(participants_users_events_b['event_name'].count())"
   ]
  },
  {
   "cell_type": "code",
   "execution_count": 28,
   "metadata": {},
   "outputs": [
    {
     "data": {
      "text/plain": [
       "4.0"
      ]
     },
     "metadata": {},
     "output_type": "display_data"
    },
    {
     "data": {
      "text/plain": [
       "5.233836206896552"
      ]
     },
     "metadata": {},
     "output_type": "display_data"
    }
   ],
   "source": [
    "# рассчитаем медианное и среднее значение событий для одного пользователя\n",
    "\n",
    "display(participants_users_events_b.groupby('user_id')['event_name'].count().median())\n",
    "display(participants_users_events_b.groupby('user_id')['event_name'].count().mean())"
   ]
  },
  {
   "cell_type": "markdown",
   "metadata": {},
   "source": [
    "Кол-во уникальных пользователей и событий в каждой группе достаточно сильно отличаются: в группе В почти в три раза меньше участников.   \n",
    "Среднее значение событий для каждого пользователя в группе А близко к медианному и равно 6. А для группы В в среднем 5 событий."
   ]
  },
  {
   "cell_type": "markdown",
   "metadata": {},
   "source": [
    "### Проанализируем события в группах  и посчитаем, какая доля пользователей проходит на следующий шаг воронки\n",
    "\n",
    "- **для группы А**"
   ]
  },
  {
   "cell_type": "code",
   "execution_count": 29,
   "metadata": {
    "scrolled": true
   },
   "outputs": [
    {
     "data": {
      "text/html": [
       "<div>\n",
       "<style scoped>\n",
       "    .dataframe tbody tr th:only-of-type {\n",
       "        vertical-align: middle;\n",
       "    }\n",
       "\n",
       "    .dataframe tbody tr th {\n",
       "        vertical-align: top;\n",
       "    }\n",
       "\n",
       "    .dataframe thead tr th {\n",
       "        text-align: left;\n",
       "    }\n",
       "</style>\n",
       "<table border=\"1\" class=\"dataframe\">\n",
       "  <thead>\n",
       "    <tr>\n",
       "      <th></th>\n",
       "      <th>event_name</th>\n",
       "      <th>count</th>\n",
       "      <th>nunique</th>\n",
       "      <th>percent</th>\n",
       "    </tr>\n",
       "    <tr>\n",
       "      <th></th>\n",
       "      <th></th>\n",
       "      <th>user_id</th>\n",
       "      <th>user_id</th>\n",
       "      <th></th>\n",
       "    </tr>\n",
       "  </thead>\n",
       "  <tbody>\n",
       "    <tr>\n",
       "      <th>0</th>\n",
       "      <td>login</td>\n",
       "      <td>7345</td>\n",
       "      <td>2747</td>\n",
       "      <td>100.0</td>\n",
       "    </tr>\n",
       "    <tr>\n",
       "      <th>1</th>\n",
       "      <td>product_page</td>\n",
       "      <td>4716</td>\n",
       "      <td>1780</td>\n",
       "      <td>65.0</td>\n",
       "    </tr>\n",
       "    <tr>\n",
       "      <th>2</th>\n",
       "      <td>product_cart</td>\n",
       "      <td>2204</td>\n",
       "      <td>824</td>\n",
       "      <td>30.0</td>\n",
       "    </tr>\n",
       "    <tr>\n",
       "      <th>3</th>\n",
       "      <td>purchase</td>\n",
       "      <td>2248</td>\n",
       "      <td>872</td>\n",
       "      <td>32.0</td>\n",
       "    </tr>\n",
       "  </tbody>\n",
       "</table>\n",
       "</div>"
      ],
      "text/plain": [
       "     event_name   count nunique percent\n",
       "                user_id user_id        \n",
       "0         login    7345    2747   100.0\n",
       "1  product_page    4716    1780    65.0\n",
       "2  product_cart    2204     824    30.0\n",
       "3      purchase    2248     872    32.0"
      ]
     },
     "execution_count": 29,
     "metadata": {},
     "output_type": "execute_result"
    }
   ],
   "source": [
    "count_id_a = participants_users_events_a['user_id'].nunique()\n",
    "\n",
    "# создадим сводную, в которую запишем кол-во каждого события и кол-во уникальных пользователей его совершивших\n",
    "data_pivot_a = participants_users_events_a.pivot_table(index='event_name', values='user_id', aggfunc=['count', 'nunique']).reset_index()\n",
    "\n",
    "# добавим столбец с процентом пользователей, совершивших определенное действие относительно общего кол-ва уникальных пользователей\n",
    "data_pivot_a['percent'] = data_pivot_a[('nunique', 'user_id')]/count_id_a*100\n",
    "\n",
    "# поменяем местами строки\n",
    "data_pivot_a = data_pivot_a.reindex([0,2,1,3]).round(2).reset_index(drop=True)\n",
    "data_pivot_a.round()"
   ]
  },
  {
   "cell_type": "markdown",
   "metadata": {},
   "source": [
    "Событий \"покупка\" больше, чем событий \"просмотр корзины\". Либо можно оплатить не заходя в корзину, либо это ошибка данных и были потеряны пользователи, просматривавшие корзину."
   ]
  },
  {
   "cell_type": "code",
   "execution_count": 30,
   "metadata": {
    "scrolled": true
   },
   "outputs": [
    {
     "data": {
      "text/html": [
       "<div>\n",
       "<style scoped>\n",
       "    .dataframe tbody tr th:only-of-type {\n",
       "        vertical-align: middle;\n",
       "    }\n",
       "\n",
       "    .dataframe tbody tr th {\n",
       "        vertical-align: top;\n",
       "    }\n",
       "\n",
       "    .dataframe thead tr th {\n",
       "        text-align: left;\n",
       "    }\n",
       "</style>\n",
       "<table border=\"1\" class=\"dataframe\">\n",
       "  <thead>\n",
       "    <tr>\n",
       "      <th></th>\n",
       "      <th>event_name</th>\n",
       "      <th>count</th>\n",
       "      <th>nunique</th>\n",
       "      <th>percent</th>\n",
       "      <th>percent_2</th>\n",
       "    </tr>\n",
       "    <tr>\n",
       "      <th></th>\n",
       "      <th></th>\n",
       "      <th>user_id</th>\n",
       "      <th>user_id</th>\n",
       "      <th></th>\n",
       "      <th></th>\n",
       "    </tr>\n",
       "  </thead>\n",
       "  <tbody>\n",
       "    <tr>\n",
       "      <th>0</th>\n",
       "      <td>login</td>\n",
       "      <td>7345</td>\n",
       "      <td>2747</td>\n",
       "      <td>100.0</td>\n",
       "      <td>100.0</td>\n",
       "    </tr>\n",
       "    <tr>\n",
       "      <th>1</th>\n",
       "      <td>product_page</td>\n",
       "      <td>4716</td>\n",
       "      <td>1780</td>\n",
       "      <td>65.0</td>\n",
       "      <td>65.0</td>\n",
       "    </tr>\n",
       "    <tr>\n",
       "      <th>2</th>\n",
       "      <td>product_cart</td>\n",
       "      <td>2204</td>\n",
       "      <td>824</td>\n",
       "      <td>30.0</td>\n",
       "      <td>46.0</td>\n",
       "    </tr>\n",
       "    <tr>\n",
       "      <th>3</th>\n",
       "      <td>purchase</td>\n",
       "      <td>2248</td>\n",
       "      <td>872</td>\n",
       "      <td>32.0</td>\n",
       "      <td>106.0</td>\n",
       "    </tr>\n",
       "  </tbody>\n",
       "</table>\n",
       "</div>"
      ],
      "text/plain": [
       "     event_name   count nunique percent percent_2\n",
       "                user_id user_id                  \n",
       "0         login    7345    2747   100.0     100.0\n",
       "1  product_page    4716    1780    65.0      65.0\n",
       "2  product_cart    2204     824    30.0      46.0\n",
       "3      purchase    2248     872    32.0     106.0"
      ]
     },
     "execution_count": 30,
     "metadata": {},
     "output_type": "execute_result"
    }
   ],
   "source": [
    "# создадим список из столбца nunique user_id\n",
    "nunique_id_a = data_pivot_a[('nunique', 'user_id')].tolist()\n",
    "\n",
    "# создадим функцию, которая посчитает процент по каждому шагу относительно предыдущего действия\n",
    "conversion = [100]\n",
    "for i in range(len(nunique_id_a)):\n",
    "    conversion.append(nunique_id_a[i]/nunique_id_a[i-1]*100)\n",
    "    \n",
    "conversion.pop(1)\n",
    "\n",
    "#добавим столбцы с процентами пользователей, которые переходят на следующий шаг\n",
    "data_pivot_a['percent_2'] = conversion #от предыдущего шага\n",
    "data_pivot_a.round()"
   ]
  },
  {
   "cell_type": "code",
   "execution_count": 31,
   "metadata": {
    "scrolled": true
   },
   "outputs": [
    {
     "data": {
      "image/png": "[encoded data removed]",
      "text/plain": [
       "<Figure size 432x288 with 1 Axes>"
      ]
     },
     "metadata": {
      "needs_background": "light"
     },
     "output_type": "display_data"
    }
   ],
   "source": [
    "# создадим список из столбца event_name\n",
    "event_name = data_pivot_a[('event_name','')].tolist()\n",
    "\n",
    "# создадим график воронки событий\n",
    "y = list(reversed(event_name))\n",
    "x = list(reversed(nunique_id_a))\n",
    "x_max = 3000\n",
    "x_min = 0\n",
    "for idx, val in enumerate(x):\n",
    "    left = (x_max - val)/2\n",
    "    plt.barh(y[idx], x[idx], left = left, color='orange')\n",
    "    plt.text(1500, y[idx], x[idx], ha='center')\n",
    "\n",
    "plt.xlim(x_min, x_max)\n",
    "plt.title('Воронка событий')\n",
    "plt.xlabel('Кол-во пользователей')\n",
    "plt.ylabel('События');"
   ]
  },
  {
   "cell_type": "markdown",
   "metadata": {},
   "source": [
    "Из всех зашедших на сайт 65% перешли на карточку товара и только 46% перешли в корзину. По этим данным получается, что все 100% оплатили товар после перехода в корзину."
   ]
  },
  {
   "cell_type": "markdown",
   "metadata": {},
   "source": [
    "- **для групы В**"
   ]
  },
  {
   "cell_type": "code",
   "execution_count": 32,
   "metadata": {
    "scrolled": true
   },
   "outputs": [
    {
     "data": {
      "text/html": [
       "<div>\n",
       "<style scoped>\n",
       "    .dataframe tbody tr th:only-of-type {\n",
       "        vertical-align: middle;\n",
       "    }\n",
       "\n",
       "    .dataframe tbody tr th {\n",
       "        vertical-align: top;\n",
       "    }\n",
       "\n",
       "    .dataframe thead tr th {\n",
       "        text-align: left;\n",
       "    }\n",
       "</style>\n",
       "<table border=\"1\" class=\"dataframe\">\n",
       "  <thead>\n",
       "    <tr>\n",
       "      <th></th>\n",
       "      <th>event_name</th>\n",
       "      <th>count</th>\n",
       "      <th>nunique</th>\n",
       "      <th>percent</th>\n",
       "    </tr>\n",
       "    <tr>\n",
       "      <th></th>\n",
       "      <th></th>\n",
       "      <th>user_id</th>\n",
       "      <th>user_id</th>\n",
       "      <th></th>\n",
       "    </tr>\n",
       "  </thead>\n",
       "  <tbody>\n",
       "    <tr>\n",
       "      <th>0</th>\n",
       "      <td>login</td>\n",
       "      <td>2348</td>\n",
       "      <td>927</td>\n",
       "      <td>100.0</td>\n",
       "    </tr>\n",
       "    <tr>\n",
       "      <th>1</th>\n",
       "      <td>product_page</td>\n",
       "      <td>1262</td>\n",
       "      <td>523</td>\n",
       "      <td>56.0</td>\n",
       "    </tr>\n",
       "    <tr>\n",
       "      <th>2</th>\n",
       "      <td>product_cart</td>\n",
       "      <td>636</td>\n",
       "      <td>255</td>\n",
       "      <td>27.0</td>\n",
       "    </tr>\n",
       "    <tr>\n",
       "      <th>3</th>\n",
       "      <td>purchase</td>\n",
       "      <td>611</td>\n",
       "      <td>256</td>\n",
       "      <td>28.0</td>\n",
       "    </tr>\n",
       "  </tbody>\n",
       "</table>\n",
       "</div>"
      ],
      "text/plain": [
       "     event_name   count nunique percent\n",
       "                user_id user_id        \n",
       "0         login    2348     927   100.0\n",
       "1  product_page    1262     523    56.0\n",
       "2  product_cart     636     255    27.0\n",
       "3      purchase     611     256    28.0"
      ]
     },
     "execution_count": 32,
     "metadata": {},
     "output_type": "execute_result"
    }
   ],
   "source": [
    "count_id_b = participants_users_events_b['user_id'].nunique()\n",
    "\n",
    "# создадим исводную, в которую запишем кол-во каждого события и кол-во уникальных пользователей его совершивших\n",
    "data_pivot_b = participants_users_events_b.pivot_table(index='event_name', values='user_id', aggfunc=['count', 'nunique']).reset_index()\n",
    "\n",
    "# добавим столбец с процентом пользователей, совершивших определенное действие относительно общего кол-ва уникальных пользователей\n",
    "data_pivot_b['percent'] = data_pivot_b[('nunique', 'user_id')]/count_id_b*100\n",
    "\n",
    "# поменяем местами строки\n",
    "data_pivot_b = data_pivot_b.reindex([0,2,1,3]).round(2).reset_index(drop=True)\n",
    "data_pivot_b.round()"
   ]
  },
  {
   "cell_type": "code",
   "execution_count": 33,
   "metadata": {},
   "outputs": [
    {
     "data": {
      "text/html": [
       "<div>\n",
       "<style scoped>\n",
       "    .dataframe tbody tr th:only-of-type {\n",
       "        vertical-align: middle;\n",
       "    }\n",
       "\n",
       "    .dataframe tbody tr th {\n",
       "        vertical-align: top;\n",
       "    }\n",
       "\n",
       "    .dataframe thead tr th {\n",
       "        text-align: left;\n",
       "    }\n",
       "</style>\n",
       "<table border=\"1\" class=\"dataframe\">\n",
       "  <thead>\n",
       "    <tr>\n",
       "      <th></th>\n",
       "      <th>event_name</th>\n",
       "      <th>count</th>\n",
       "      <th>nunique</th>\n",
       "      <th>percent</th>\n",
       "      <th>percent_2</th>\n",
       "    </tr>\n",
       "    <tr>\n",
       "      <th></th>\n",
       "      <th></th>\n",
       "      <th>user_id</th>\n",
       "      <th>user_id</th>\n",
       "      <th></th>\n",
       "      <th></th>\n",
       "    </tr>\n",
       "  </thead>\n",
       "  <tbody>\n",
       "    <tr>\n",
       "      <th>0</th>\n",
       "      <td>login</td>\n",
       "      <td>2348</td>\n",
       "      <td>927</td>\n",
       "      <td>100.0</td>\n",
       "      <td>100.0</td>\n",
       "    </tr>\n",
       "    <tr>\n",
       "      <th>1</th>\n",
       "      <td>product_page</td>\n",
       "      <td>1262</td>\n",
       "      <td>523</td>\n",
       "      <td>56.0</td>\n",
       "      <td>56.0</td>\n",
       "    </tr>\n",
       "    <tr>\n",
       "      <th>2</th>\n",
       "      <td>product_cart</td>\n",
       "      <td>636</td>\n",
       "      <td>255</td>\n",
       "      <td>27.0</td>\n",
       "      <td>49.0</td>\n",
       "    </tr>\n",
       "    <tr>\n",
       "      <th>3</th>\n",
       "      <td>purchase</td>\n",
       "      <td>611</td>\n",
       "      <td>256</td>\n",
       "      <td>28.0</td>\n",
       "      <td>100.0</td>\n",
       "    </tr>\n",
       "  </tbody>\n",
       "</table>\n",
       "</div>"
      ],
      "text/plain": [
       "     event_name   count nunique percent percent_2\n",
       "                user_id user_id                  \n",
       "0         login    2348     927   100.0     100.0\n",
       "1  product_page    1262     523    56.0      56.0\n",
       "2  product_cart     636     255    27.0      49.0\n",
       "3      purchase     611     256    28.0     100.0"
      ]
     },
     "execution_count": 33,
     "metadata": {},
     "output_type": "execute_result"
    }
   ],
   "source": [
    "# создадим список из столбца nunique user_id\n",
    "nunique_id_b = data_pivot_b[('nunique', 'user_id')].tolist()\n",
    "\n",
    "# создадим функцию, которая посчитает процент по каждому шагу относительно предыдущего действия\n",
    "conversion_1 = [100]\n",
    "for i in range(len(nunique_id_b)):\n",
    "    conversion_1.append(nunique_id_b[i]/nunique_id_b[i-1]*100)\n",
    "    \n",
    "conversion_1.pop(1)\n",
    "\n",
    "#добавим столбцы с процентами пользователей, которые переходят на следующий шаг\n",
    "data_pivot_b['percent_2'] = conversion_1 #от предыдущего шага\n",
    "data_pivot_b.round()"
   ]
  },
  {
   "cell_type": "code",
   "execution_count": 34,
   "metadata": {
    "scrolled": false
   },
   "outputs": [
    {
     "data": {
      "image/png": "[encoded data removed]",
      "text/plain": [
       "<Figure size 432x288 with 1 Axes>"
      ]
     },
     "metadata": {
      "needs_background": "light"
     },
     "output_type": "display_data"
    }
   ],
   "source": [
    "# создадим список из столбца event_name\n",
    "event_name = data_pivot_b[('event_name','')].tolist()\n",
    "\n",
    "# создадим график воронки событий\n",
    "y = list(reversed(event_name))\n",
    "x = list(reversed(nunique_id_b))\n",
    "x_max = 1000\n",
    "x_min = 0\n",
    "for idx, val in enumerate(x):\n",
    "    left = (x_max - val)/2\n",
    "    plt.barh(y[idx], x[idx], left = left, color='orange')\n",
    "    plt.text(500, y[idx], x[idx], ha='center')\n",
    "\n",
    "plt.xlim(x_min, x_max)\n",
    "plt.title('Воронка событий')\n",
    "plt.xlabel('Кол-во пользователей')\n",
    "plt.ylabel('События');"
   ]
  },
  {
   "cell_type": "markdown",
   "metadata": {},
   "source": [
    "После внедрения улучшенной рекомендательной системы из всех зашедших на сайт только 56% перешли на карточку товара и 49% прешли в корзину, что всего на 2% отличается от группы А. Так же 100% оплатили товар после прехода в корзину.  "
   ]
  },
  {
   "cell_type": "markdown",
   "metadata": {},
   "source": [
    "### Вывод:  \n",
    "\n",
    "Проанализировав данные, стало понятно, что данные в таблице events были записаны некорректно. Почти у половины участников нет никаких данных о совершенных ими действиях.  \n",
    "\n",
    "Событий \"покупка\" больше, чем событий \"просмотр корзины\". Либо можно оплатить не заходя в корзину, либо это ошибка данных и были потеряны данные о просматривавших корзину.   \n",
    "\n",
    "По имеющимся данным установили, что процент перешедших на карточку товара для группы В изменился и понизился до 56%. Кол-во тех, кто перешел в корзину в групе В увеличилось на 3%. В обеих группах 100% оплата после перехода в корзину.  "
   ]
  },
  {
   "cell_type": "markdown",
   "metadata": {},
   "source": [
    "## Оценка результатов А/В теста"
   ]
  },
  {
   "cell_type": "markdown",
   "metadata": {},
   "source": [
    "### Проверим статистическую разницу долей z-критерием  \n",
    "\n",
    "**Нулевые гипотезы:**  \n",
    "- доли перешедших на карточку товара от общего числа пользователей для груп А и В равны\n",
    "- доли перешедших в корзину от общего числа пользователей для групп А и В равны  \n",
    "- доли оплативших товар от общего числа пользователей для групп А и В равны  \n",
    "\n",
    "**Альтернативные гипотезы:**  \n",
    "- доли перешедших на карточку товара от общего числа пользователей для груп А и В не равны\n",
    "- доли перешедших в корзину от общего числа пользователей для групп А и В не равны  \n",
    "- доли оплативших товар от общего числа пользователей для групп А и В не равны  \n",
    "\n",
    "Уровень статистической значимости зададим в 1%."
   ]
  },
  {
   "cell_type": "code",
   "execution_count": 35,
   "metadata": {},
   "outputs": [],
   "source": [
    "# напишем функицию для z_test\n",
    "\n",
    "def z_test (list_1, list_2, list_3, list_4):\n",
    "    \n",
    "    alpha = 0.01\n",
    "    \n",
    "    successes = np.array([list_1, list_2])\n",
    "    trials = np.array([list_3, list_4])\n",
    "    \n",
    "    # доля пользователей от ощего кол-ва в первом тесте:\n",
    "    p1 = successes[0]/trials[0]\n",
    "    \n",
    "    # доля пользователей от ощего кол-ва во втором тесте:\n",
    "    p2 = successes[1]/trials[1]\n",
    "    \n",
    "    # доля пользователей в комбинированном датасете:\n",
    "    p_combined = (successes[0] + successes[1]) / (trials[0] + trials[1])\n",
    "    \n",
    "    # разница пропорций в датасетах\n",
    "    difference = p1 - p2 \n",
    "    \n",
    "    # посчитаем статистику в ст.отклонениях стандартного нормального распределения\n",
    "    z_value = difference / mth.sqrt(p_combined * (1 - p_combined) * (1/trials[0] + 1/trials[1]))\n",
    "\n",
    "    # зададим стандартное нормальное распределение (среднее 0, ст.отклонение 1)\n",
    "    distr = st.norm(0, 1) \n",
    "    \n",
    "    p_value = (1 - distr.cdf(abs(z_value))) * 2\n",
    "\n",
    "    print('p-значение: ', p_value)\n",
    "\n",
    "    if p_value < alpha:\n",
    "        print('Отвергаем нулевую гипотезу: между долями есть значимая разница')\n",
    "    else:\n",
    "        print(\n",
    "        'Не получилось отвергнуть нулевую гипотезу, нет оснований считать доли разными') "
   ]
  },
  {
   "cell_type": "code",
   "execution_count": 36,
   "metadata": {
    "scrolled": false
   },
   "outputs": [
    {
     "name": "stdout",
     "output_type": "stream",
     "text": [
      "Для перехода на карточку товара:\n",
      "p-значение:  4.310980554755872e-06\n",
      "Отвергаем нулевую гипотезу: между долями есть значимая разница\n",
      "\n",
      "Для перехода в корзину:\n",
      "p-значение:  0.14534814557238196\n",
      "Не получилось отвергнуть нулевую гипотезу, нет оснований считать доли разными\n",
      "\n",
      "Для оплаты:\n",
      "p-значение:  0.017592402663314743\n",
      "Не получилось отвергнуть нулевую гипотезу, нет оснований считать доли разными\n",
      "\n"
     ]
    }
   ],
   "source": [
    "# создадим список с общим кол-вом пользователей в каждой группе\n",
    "list_count = participants_users_events.groupby('group')['user_id'].nunique().tolist()\n",
    "\n",
    "# создадим из столбцов списки\n",
    "a_list = nunique_id_a\n",
    "b_list = nunique_id_b\n",
    "\n",
    "# проведем z-test для групп А и В\n",
    "print('Для перехода на карточку товара:')\n",
    "z_test(a_list[1], b_list[1], list_count[0], list_count[1])\n",
    "print()\n",
    "\n",
    "print('Для перехода в корзину:')\n",
    "z_test(a_list[2], b_list[2], list_count[0], list_count[1])\n",
    "print()\n",
    "\n",
    "print('Для оплаты:')\n",
    "z_test(a_list[3], b_list[3], list_count[0], list_count[1])\n",
    "print()\n"
   ]
  },
  {
   "cell_type": "markdown",
   "metadata": {},
   "source": [
    "Для первой гипотезы p-value ниже 1%, следовательно отвергаем нулевую гипотезу и принимаем альтернативную: доли перешедших на карточку товара от общего числа пользователей для груп А и В не равны. \n",
    "\n",
    "Для остальных гипотез значение p-value выше 1%, следовательно гипотезы подтверждены: доли пользователей в разных группах равны на всех этапах покупки.\n",
    "\n",
    "Из результатов теста можно сделать вывод, что изменения повлияли только на пользователей перешедших на карточку товара."
   ]
  },
  {
   "cell_type": "markdown",
   "metadata": {},
   "source": [
    "## Итоги исследования"
   ]
  },
  {
   "cell_type": "markdown",
   "metadata": {},
   "source": [
    "Прежде, чем исследовать данные, мы ознакомились с ними, заменили тип данных в столбцах с датами, добавили недостающие данные, проверили наличие пропусков и дубликатов.\n",
    "\n",
    "Из технического задания известно, что А/В тест проводился с 7 декабря 2020 года по 4 января 2021 года.  \n",
    "\n",
    "Исследуя данные, определили что:  \n",
    "\n",
    "- в таблице есть данные по конкурирующему тесту, которые нужно убрать;\n",
    "- пользователей, с момента регистрации в системе которых не прошло 14 дней, нельзя использовать для оценки теста;\n",
    "- период, в который проводилась новогодняя маркетинговая компания, нужно исключить из таблицы.\n",
    "\n",
    "Перед тем как оценить результаты теста посмотрели равномерность распределения пользователей по группам: в группу В попало в три раза меньше участников, чем в группу А. Нужно было провести А/А тест, чтобы убедиться, что распределение происходит равномерно.  \n",
    "\n",
    "События в эксперименте представляют собой последовательность действий пользователя при покупке товара.  \n",
    "Пользователь регистрируется ---> Нажимает на карточку товара ---> Добавляет товар в корзину ---> Оплачивает товар  \n",
    "\n",
    "Для обработки результатов А/В теста было выдвинуто 3 гипотезы о равенстве долей пользователей на этапах событийной воронки от общего кол-ва пользователей.\n",
    "\n",
    "Доли пользователей в группе В равны долям пользователей в группе А отличаются на этапе \"перехода на карточку товара\", на остальных этапах доли равны, следовательно изменения, связанные с внедрением улучшенной рекомендательной системы, повлияли только на действия пользователей, переходщих на карточку товара после регистрации.  \n",
    "\n",
    "По воронке событий видно, что процент перешедших на карточку товара в группе В уменьшился на 9%. Поэтому можно сказать, что ожидаемый эффект от изменений, связанных с внедрением улучшенной рекомендательной системы не оправдался.\n",
    "\n",
    "P.S. Прежде, чем приступать к А/В тестированию, необходимо было удостоверится, что действия пользователей на сайте записываются корректно. Было обнаружено, что у большого кол-ва пользователей, которых можно было использовать для исследования, отсутствовали данные об их действиях. В результате для оценки теста осталось слишком мало данных, на основе которых можно было бы сделать выводы.   \n",
    "А также, тест не стоило проводить во время маркетинговой рекламной компании, так как это может исказить данные.  "
   ]
  }
 ],
 "metadata": {
  "ExecuteTimeLog": [
   {
    "duration": 2257,
    "start_time": "2022-05-20T06:25:02.080Z"
   },
   {
    "duration": 14,
    "start_time": "2022-05-20T06:25:05.491Z"
   },
   {
    "duration": 1024,
    "start_time": "2022-05-20T06:25:08.915Z"
   },
   {
    "duration": 597,
    "start_time": "2022-05-20T06:26:37.016Z"
   },
   {
    "duration": 756,
    "start_time": "2022-05-20T06:26:44.054Z"
   },
   {
    "duration": 32,
    "start_time": "2022-05-20T06:26:59.566Z"
   },
   {
    "duration": 771,
    "start_time": "2022-05-20T06:33:58.047Z"
   },
   {
    "duration": 107,
    "start_time": "2022-05-20T06:36:54.844Z"
   },
   {
    "duration": 515,
    "start_time": "2022-05-20T06:52:04.851Z"
   },
   {
    "duration": 200,
    "start_time": "2022-05-20T06:52:32.205Z"
   },
   {
    "duration": 113,
    "start_time": "2022-05-20T06:53:07.660Z"
   },
   {
    "duration": 50,
    "start_time": "2022-05-20T06:53:28.253Z"
   },
   {
    "duration": 10,
    "start_time": "2022-05-20T06:53:37.843Z"
   },
   {
    "duration": 240,
    "start_time": "2022-05-20T06:55:46.197Z"
   },
   {
    "duration": 13,
    "start_time": "2022-05-20T07:00:29.181Z"
   },
   {
    "duration": 232,
    "start_time": "2022-05-20T07:00:38.617Z"
   },
   {
    "duration": 621,
    "start_time": "2022-05-20T07:06:17.906Z"
   },
   {
    "duration": 679,
    "start_time": "2022-05-20T07:06:30.940Z"
   },
   {
    "duration": 494,
    "start_time": "2022-05-20T07:08:54.862Z"
   },
   {
    "duration": 35,
    "start_time": "2022-05-20T07:09:14.304Z"
   },
   {
    "duration": 18,
    "start_time": "2022-05-20T07:15:51.128Z"
   },
   {
    "duration": 286,
    "start_time": "2022-05-20T07:23:12.369Z"
   },
   {
    "duration": 10,
    "start_time": "2022-05-20T07:28:35.016Z"
   },
   {
    "duration": 9,
    "start_time": "2022-05-20T07:32:38.147Z"
   },
   {
    "duration": 10,
    "start_time": "2022-05-20T07:35:19.483Z"
   },
   {
    "duration": 21,
    "start_time": "2022-05-20T07:38:48.406Z"
   },
   {
    "duration": 34,
    "start_time": "2022-05-20T07:38:58.947Z"
   },
   {
    "duration": 12,
    "start_time": "2022-05-20T07:57:32.975Z"
   },
   {
    "duration": 41,
    "start_time": "2022-05-20T07:57:41.314Z"
   },
   {
    "duration": 14,
    "start_time": "2022-05-20T07:58:34.378Z"
   },
   {
    "duration": 732,
    "start_time": "2022-05-20T08:06:43.137Z"
   },
   {
    "duration": 11,
    "start_time": "2022-05-20T08:12:35.655Z"
   },
   {
    "duration": 14,
    "start_time": "2022-05-20T08:13:04.206Z"
   },
   {
    "duration": 21,
    "start_time": "2022-05-20T08:13:49.784Z"
   },
   {
    "duration": 6,
    "start_time": "2022-05-20T08:14:26.065Z"
   },
   {
    "duration": 8,
    "start_time": "2022-05-20T08:17:30.878Z"
   },
   {
    "duration": 7,
    "start_time": "2022-05-20T08:22:05.010Z"
   },
   {
    "duration": 8,
    "start_time": "2022-05-20T08:23:07.760Z"
   },
   {
    "duration": 20,
    "start_time": "2022-05-20T08:32:05.356Z"
   },
   {
    "duration": 29,
    "start_time": "2022-05-20T08:32:34.404Z"
   },
   {
    "duration": 61,
    "start_time": "2022-05-20T08:33:14.316Z"
   },
   {
    "duration": 16,
    "start_time": "2022-05-20T08:36:12.862Z"
   },
   {
    "duration": 6,
    "start_time": "2022-05-20T08:38:47.948Z"
   },
   {
    "duration": 7,
    "start_time": "2022-05-20T08:39:07.018Z"
   },
   {
    "duration": 10,
    "start_time": "2022-05-20T08:40:31.092Z"
   },
   {
    "duration": 7,
    "start_time": "2022-05-20T08:41:11.853Z"
   },
   {
    "duration": 138,
    "start_time": "2022-05-20T08:52:33.893Z"
   },
   {
    "duration": 160,
    "start_time": "2022-05-20T08:52:45.951Z"
   },
   {
    "duration": 65,
    "start_time": "2022-05-20T09:01:33.882Z"
   },
   {
    "duration": 149,
    "start_time": "2022-05-20T09:32:10.109Z"
   },
   {
    "duration": 205,
    "start_time": "2022-05-20T09:33:05.695Z"
   },
   {
    "duration": 33,
    "start_time": "2022-05-20T09:46:21.976Z"
   },
   {
    "duration": 37,
    "start_time": "2022-05-20T09:46:58.224Z"
   },
   {
    "duration": 135,
    "start_time": "2022-05-20T09:54:05.401Z"
   },
   {
    "duration": 188,
    "start_time": "2022-05-20T09:54:11.383Z"
   },
   {
    "duration": 30,
    "start_time": "2022-05-20T09:54:23.444Z"
   },
   {
    "duration": 8,
    "start_time": "2022-05-20T09:59:05.076Z"
   },
   {
    "duration": 11,
    "start_time": "2022-05-20T09:59:40.782Z"
   },
   {
    "duration": 41,
    "start_time": "2022-05-20T10:07:20.188Z"
   },
   {
    "duration": 10,
    "start_time": "2022-05-20T10:07:40.139Z"
   },
   {
    "duration": 221,
    "start_time": "2022-05-20T10:08:20.029Z"
   },
   {
    "duration": 284,
    "start_time": "2022-05-20T10:09:02.210Z"
   },
   {
    "duration": 7,
    "start_time": "2022-05-20T10:11:55.436Z"
   },
   {
    "duration": 8,
    "start_time": "2022-05-20T10:12:21.057Z"
   },
   {
    "duration": 16,
    "start_time": "2022-05-20T10:12:47.442Z"
   },
   {
    "duration": 10,
    "start_time": "2022-05-20T10:13:07.379Z"
   },
   {
    "duration": 175,
    "start_time": "2022-05-20T10:17:44.520Z"
   },
   {
    "duration": 197,
    "start_time": "2022-05-20T10:18:54.134Z"
   },
   {
    "duration": 181,
    "start_time": "2022-05-20T10:19:05.014Z"
   },
   {
    "duration": 15,
    "start_time": "2022-05-20T10:25:25.354Z"
   },
   {
    "duration": 13,
    "start_time": "2022-05-20T10:26:27.156Z"
   },
   {
    "duration": 216,
    "start_time": "2022-05-20T10:26:30.288Z"
   },
   {
    "duration": 213,
    "start_time": "2022-05-20T10:26:33.285Z"
   },
   {
    "duration": 8,
    "start_time": "2022-05-20T10:26:36.750Z"
   },
   {
    "duration": 10,
    "start_time": "2022-05-20T10:26:39.240Z"
   },
   {
    "duration": 8,
    "start_time": "2022-05-20T10:26:41.421Z"
   },
   {
    "duration": 11,
    "start_time": "2022-05-20T10:26:43.489Z"
   },
   {
    "duration": 29,
    "start_time": "2022-05-20T10:31:03.755Z"
   },
   {
    "duration": 29,
    "start_time": "2022-05-20T10:33:43.041Z"
   },
   {
    "duration": 27,
    "start_time": "2022-05-20T10:33:52.711Z"
   },
   {
    "duration": 30,
    "start_time": "2022-05-20T10:34:00.644Z"
   },
   {
    "duration": 28,
    "start_time": "2022-05-20T10:34:06.967Z"
   },
   {
    "duration": 30,
    "start_time": "2022-05-20T10:34:22.571Z"
   },
   {
    "duration": 17,
    "start_time": "2022-05-20T10:37:10.393Z"
   },
   {
    "duration": 34,
    "start_time": "2022-05-20T10:39:50.684Z"
   },
   {
    "duration": 31,
    "start_time": "2022-05-20T10:40:56.876Z"
   },
   {
    "duration": 20,
    "start_time": "2022-05-20T10:51:52.823Z"
   },
   {
    "duration": 3,
    "start_time": "2022-05-20T10:52:25.638Z"
   },
   {
    "duration": 10,
    "start_time": "2022-05-20T10:52:25.645Z"
   },
   {
    "duration": 659,
    "start_time": "2022-05-20T10:52:25.657Z"
   },
   {
    "duration": 116,
    "start_time": "2022-05-20T10:52:26.317Z"
   },
   {
    "duration": 130,
    "start_time": "2022-05-20T10:52:26.436Z"
   },
   {
    "duration": 263,
    "start_time": "2022-05-20T10:52:26.569Z"
   },
   {
    "duration": 239,
    "start_time": "2022-05-20T10:52:26.834Z"
   },
   {
    "duration": 82,
    "start_time": "2022-05-20T10:52:27.076Z"
   },
   {
    "duration": 64,
    "start_time": "2022-05-20T10:52:27.159Z"
   },
   {
    "duration": 14,
    "start_time": "2022-05-20T10:52:27.225Z"
   },
   {
    "duration": 8,
    "start_time": "2022-05-20T10:52:27.242Z"
   },
   {
    "duration": 13,
    "start_time": "2022-05-20T10:52:27.252Z"
   },
   {
    "duration": 30,
    "start_time": "2022-05-20T10:52:27.267Z"
   },
   {
    "duration": 29,
    "start_time": "2022-05-20T10:52:27.299Z"
   },
   {
    "duration": 8,
    "start_time": "2022-05-20T10:52:27.330Z"
   },
   {
    "duration": 11,
    "start_time": "2022-05-20T10:52:27.340Z"
   },
   {
    "duration": 74,
    "start_time": "2022-05-20T10:52:27.353Z"
   },
   {
    "duration": 9,
    "start_time": "2022-05-20T10:52:27.429Z"
   },
   {
    "duration": 18,
    "start_time": "2022-05-20T10:52:27.440Z"
   },
   {
    "duration": 178,
    "start_time": "2022-05-20T10:52:27.461Z"
   },
   {
    "duration": 12,
    "start_time": "2022-05-20T10:52:27.641Z"
   },
   {
    "duration": 223,
    "start_time": "2022-05-20T10:52:27.655Z"
   },
   {
    "duration": 320,
    "start_time": "2022-05-20T10:52:27.880Z"
   },
   {
    "duration": 9,
    "start_time": "2022-05-20T10:52:28.204Z"
   },
   {
    "duration": 20,
    "start_time": "2022-05-20T10:52:28.216Z"
   },
   {
    "duration": 20,
    "start_time": "2022-05-20T10:52:28.238Z"
   },
   {
    "duration": 15,
    "start_time": "2022-05-20T10:52:28.260Z"
   },
   {
    "duration": 48,
    "start_time": "2022-05-20T10:52:28.276Z"
   },
   {
    "duration": 17,
    "start_time": "2022-05-20T10:52:33.770Z"
   },
   {
    "duration": 34,
    "start_time": "2022-05-20T10:55:20.211Z"
   },
   {
    "duration": 5,
    "start_time": "2022-05-20T10:55:50.057Z"
   },
   {
    "duration": 1207,
    "start_time": "2022-05-20T10:56:49.408Z"
   },
   {
    "duration": 4,
    "start_time": "2022-05-20T10:56:50.618Z"
   },
   {
    "duration": 715,
    "start_time": "2022-05-20T10:56:50.624Z"
   },
   {
    "duration": 116,
    "start_time": "2022-05-20T10:56:51.353Z"
   },
   {
    "duration": 140,
    "start_time": "2022-05-20T10:56:51.494Z"
   },
   {
    "duration": 250,
    "start_time": "2022-05-20T10:56:51.636Z"
   },
   {
    "duration": 281,
    "start_time": "2022-05-20T10:56:51.888Z"
   },
   {
    "duration": 92,
    "start_time": "2022-05-20T10:56:52.171Z"
   },
   {
    "duration": 60,
    "start_time": "2022-05-20T10:56:52.265Z"
   },
   {
    "duration": 12,
    "start_time": "2022-05-20T10:56:52.327Z"
   },
   {
    "duration": 37,
    "start_time": "2022-05-20T10:56:52.341Z"
   },
   {
    "duration": 19,
    "start_time": "2022-05-20T10:56:52.381Z"
   },
   {
    "duration": 34,
    "start_time": "2022-05-20T10:56:52.401Z"
   },
   {
    "duration": 63,
    "start_time": "2022-05-20T10:56:52.440Z"
   },
   {
    "duration": 9,
    "start_time": "2022-05-20T10:56:52.505Z"
   },
   {
    "duration": 21,
    "start_time": "2022-05-20T10:56:52.516Z"
   },
   {
    "duration": 75,
    "start_time": "2022-05-20T10:56:52.540Z"
   },
   {
    "duration": 8,
    "start_time": "2022-05-20T10:56:52.618Z"
   },
   {
    "duration": 18,
    "start_time": "2022-05-20T10:56:52.628Z"
   },
   {
    "duration": 180,
    "start_time": "2022-05-20T10:56:52.648Z"
   },
   {
    "duration": 13,
    "start_time": "2022-05-20T10:56:52.830Z"
   },
   {
    "duration": 372,
    "start_time": "2022-05-20T10:56:52.845Z"
   },
   {
    "duration": 332,
    "start_time": "2022-05-20T10:56:53.220Z"
   },
   {
    "duration": 8,
    "start_time": "2022-05-20T10:56:53.554Z"
   },
   {
    "duration": 13,
    "start_time": "2022-05-20T10:56:53.564Z"
   },
   {
    "duration": 8,
    "start_time": "2022-05-20T10:56:53.604Z"
   },
   {
    "duration": 13,
    "start_time": "2022-05-20T10:56:53.614Z"
   },
   {
    "duration": 28,
    "start_time": "2022-05-20T10:56:53.629Z"
   },
   {
    "duration": 44,
    "start_time": "2022-05-20T10:56:53.658Z"
   },
   {
    "duration": 30,
    "start_time": "2022-05-20T10:56:53.710Z"
   },
   {
    "duration": 4,
    "start_time": "2022-05-20T10:56:53.742Z"
   },
   {
    "duration": 10,
    "start_time": "2022-05-20T10:56:53.748Z"
   },
   {
    "duration": 8,
    "start_time": "2022-05-20T11:07:54.598Z"
   },
   {
    "duration": 21,
    "start_time": "2022-05-20T11:08:15.820Z"
   },
   {
    "duration": 43,
    "start_time": "2022-05-20T11:08:23.194Z"
   },
   {
    "duration": 17,
    "start_time": "2022-05-20T11:08:25.986Z"
   },
   {
    "duration": 3,
    "start_time": "2022-05-20T11:15:35.011Z"
   },
   {
    "duration": 13,
    "start_time": "2022-05-20T11:15:35.016Z"
   },
   {
    "duration": 621,
    "start_time": "2022-05-20T11:15:35.032Z"
   },
   {
    "duration": 113,
    "start_time": "2022-05-20T11:15:35.655Z"
   },
   {
    "duration": 137,
    "start_time": "2022-05-20T11:15:35.771Z"
   },
   {
    "duration": 241,
    "start_time": "2022-05-20T11:15:35.909Z"
   },
   {
    "duration": 278,
    "start_time": "2022-05-20T11:15:36.152Z"
   },
   {
    "duration": 94,
    "start_time": "2022-05-20T11:15:36.431Z"
   },
   {
    "duration": 42,
    "start_time": "2022-05-20T11:15:36.528Z"
   },
   {
    "duration": 34,
    "start_time": "2022-05-20T11:15:36.572Z"
   },
   {
    "duration": 18,
    "start_time": "2022-05-20T11:15:36.610Z"
   },
   {
    "duration": 12,
    "start_time": "2022-05-20T11:15:36.631Z"
   },
   {
    "duration": 14,
    "start_time": "2022-05-20T11:15:36.645Z"
   },
   {
    "duration": 55,
    "start_time": "2022-05-20T11:15:36.662Z"
   },
   {
    "duration": 10,
    "start_time": "2022-05-20T11:15:36.719Z"
   },
   {
    "duration": 7,
    "start_time": "2022-05-20T11:15:36.731Z"
   },
   {
    "duration": 73,
    "start_time": "2022-05-20T11:15:36.740Z"
   },
   {
    "duration": 9,
    "start_time": "2022-05-20T11:15:36.815Z"
   },
   {
    "duration": 15,
    "start_time": "2022-05-20T11:15:36.827Z"
   },
   {
    "duration": 161,
    "start_time": "2022-05-20T11:15:36.844Z"
   },
   {
    "duration": 12,
    "start_time": "2022-05-20T11:15:37.008Z"
   },
   {
    "duration": 229,
    "start_time": "2022-05-20T11:15:37.021Z"
   },
   {
    "duration": 221,
    "start_time": "2022-05-20T11:15:37.252Z"
   },
   {
    "duration": 8,
    "start_time": "2022-05-20T11:15:37.475Z"
   },
   {
    "duration": 11,
    "start_time": "2022-05-20T11:15:37.494Z"
   },
   {
    "duration": 11,
    "start_time": "2022-05-20T11:15:37.506Z"
   },
   {
    "duration": 13,
    "start_time": "2022-05-20T11:15:37.519Z"
   },
   {
    "duration": 64,
    "start_time": "2022-05-20T11:15:37.534Z"
   },
   {
    "duration": 17,
    "start_time": "2022-05-20T11:15:37.602Z"
   },
   {
    "duration": 34,
    "start_time": "2022-05-20T11:15:37.622Z"
   },
   {
    "duration": 44,
    "start_time": "2022-05-20T11:15:37.658Z"
   },
   {
    "duration": 123,
    "start_time": "2022-05-20T11:18:22.796Z"
   },
   {
    "duration": 972,
    "start_time": "2022-05-20T11:18:32.853Z"
   },
   {
    "duration": 3,
    "start_time": "2022-05-20T11:19:15.301Z"
   },
   {
    "duration": 14,
    "start_time": "2022-05-20T11:19:15.306Z"
   },
   {
    "duration": 574,
    "start_time": "2022-05-20T11:19:15.323Z"
   },
   {
    "duration": 107,
    "start_time": "2022-05-20T11:19:15.900Z"
   },
   {
    "duration": 122,
    "start_time": "2022-05-20T11:19:16.009Z"
   },
   {
    "duration": 222,
    "start_time": "2022-05-20T11:19:16.133Z"
   },
   {
    "duration": 222,
    "start_time": "2022-05-20T11:19:16.357Z"
   },
   {
    "duration": 67,
    "start_time": "2022-05-20T11:19:16.581Z"
   },
   {
    "duration": 48,
    "start_time": "2022-05-20T11:19:16.650Z"
   },
   {
    "duration": 12,
    "start_time": "2022-05-20T11:19:16.699Z"
   },
   {
    "duration": 8,
    "start_time": "2022-05-20T11:19:16.714Z"
   },
   {
    "duration": 8,
    "start_time": "2022-05-20T11:19:16.724Z"
   },
   {
    "duration": 10,
    "start_time": "2022-05-20T11:19:16.733Z"
   },
   {
    "duration": 54,
    "start_time": "2022-05-20T11:19:16.744Z"
   },
   {
    "duration": 7,
    "start_time": "2022-05-20T11:19:16.800Z"
   },
   {
    "duration": 6,
    "start_time": "2022-05-20T11:19:16.809Z"
   },
   {
    "duration": 50,
    "start_time": "2022-05-20T11:19:16.817Z"
   },
   {
    "duration": 7,
    "start_time": "2022-05-20T11:19:16.895Z"
   },
   {
    "duration": 22,
    "start_time": "2022-05-20T11:19:16.904Z"
   },
   {
    "duration": 117,
    "start_time": "2022-05-20T11:19:16.928Z"
   },
   {
    "duration": 11,
    "start_time": "2022-05-20T11:19:17.047Z"
   },
   {
    "duration": 208,
    "start_time": "2022-05-20T11:19:17.060Z"
   },
   {
    "duration": 190,
    "start_time": "2022-05-20T11:19:17.270Z"
   },
   {
    "duration": 6,
    "start_time": "2022-05-20T11:19:17.462Z"
   },
   {
    "duration": 25,
    "start_time": "2022-05-20T11:19:17.470Z"
   },
   {
    "duration": 16,
    "start_time": "2022-05-20T11:19:17.497Z"
   },
   {
    "duration": 12,
    "start_time": "2022-05-20T11:19:17.515Z"
   },
   {
    "duration": 37,
    "start_time": "2022-05-20T11:19:17.529Z"
   },
   {
    "duration": 16,
    "start_time": "2022-05-20T11:19:17.570Z"
   },
   {
    "duration": 777,
    "start_time": "2022-05-20T11:19:17.595Z"
   },
   {
    "duration": 0,
    "start_time": "2022-05-20T11:19:18.373Z"
   },
   {
    "duration": 0,
    "start_time": "2022-05-20T11:19:18.375Z"
   },
   {
    "duration": 5,
    "start_time": "2022-05-20T11:20:00.324Z"
   },
   {
    "duration": 29,
    "start_time": "2022-05-20T11:20:41.537Z"
   },
   {
    "duration": 26,
    "start_time": "2022-05-20T11:20:45.102Z"
   },
   {
    "duration": 5,
    "start_time": "2022-05-20T11:20:50.607Z"
   },
   {
    "duration": 146,
    "start_time": "2022-05-20T11:20:56.409Z"
   },
   {
    "duration": 19,
    "start_time": "2022-05-20T11:22:20.941Z"
   },
   {
    "duration": 32,
    "start_time": "2022-05-20T11:22:39.386Z"
   },
   {
    "duration": 18,
    "start_time": "2022-05-20T11:22:41.964Z"
   },
   {
    "duration": 148,
    "start_time": "2022-05-20T11:23:05.098Z"
   },
   {
    "duration": 158,
    "start_time": "2022-05-20T11:23:30.395Z"
   },
   {
    "duration": 4,
    "start_time": "2022-05-20T11:37:50.156Z"
   },
   {
    "duration": 27,
    "start_time": "2022-05-20T11:39:43.134Z"
   },
   {
    "duration": 28,
    "start_time": "2022-05-20T11:39:50.190Z"
   },
   {
    "duration": 27,
    "start_time": "2022-05-20T11:40:12.390Z"
   },
   {
    "duration": 16,
    "start_time": "2022-05-20T11:40:18.422Z"
   },
   {
    "duration": 122,
    "start_time": "2022-05-20T11:40:51.739Z"
   },
   {
    "duration": 27,
    "start_time": "2022-05-20T11:41:25.626Z"
   },
   {
    "duration": 21,
    "start_time": "2022-05-20T11:41:38.999Z"
   },
   {
    "duration": 124,
    "start_time": "2022-05-20T11:41:43.624Z"
   },
   {
    "duration": 26,
    "start_time": "2022-05-20T11:46:34.196Z"
   },
   {
    "duration": 18,
    "start_time": "2022-05-20T11:46:56.834Z"
   },
   {
    "duration": 24,
    "start_time": "2022-05-20T11:47:20.342Z"
   },
   {
    "duration": 27,
    "start_time": "2022-05-20T11:49:47.658Z"
   },
   {
    "duration": 25,
    "start_time": "2022-05-20T11:50:19.455Z"
   },
   {
    "duration": 27,
    "start_time": "2022-05-20T11:50:36.601Z"
   },
   {
    "duration": 28,
    "start_time": "2022-05-20T11:51:21.948Z"
   },
   {
    "duration": 2,
    "start_time": "2022-05-20T11:52:10.094Z"
   },
   {
    "duration": 7,
    "start_time": "2022-05-20T11:52:10.098Z"
   },
   {
    "duration": 526,
    "start_time": "2022-05-20T11:52:10.106Z"
   },
   {
    "duration": 107,
    "start_time": "2022-05-20T11:52:10.634Z"
   },
   {
    "duration": 122,
    "start_time": "2022-05-20T11:52:10.743Z"
   },
   {
    "duration": 219,
    "start_time": "2022-05-20T11:52:10.867Z"
   },
   {
    "duration": 224,
    "start_time": "2022-05-20T11:52:11.093Z"
   },
   {
    "duration": 77,
    "start_time": "2022-05-20T11:52:11.318Z"
   },
   {
    "duration": 30,
    "start_time": "2022-05-20T11:52:11.397Z"
   },
   {
    "duration": 13,
    "start_time": "2022-05-20T11:52:11.429Z"
   },
   {
    "duration": 5,
    "start_time": "2022-05-20T11:52:11.444Z"
   },
   {
    "duration": 15,
    "start_time": "2022-05-20T11:52:11.450Z"
   },
   {
    "duration": 39,
    "start_time": "2022-05-20T11:52:11.466Z"
   },
   {
    "duration": 21,
    "start_time": "2022-05-20T11:52:11.507Z"
   },
   {
    "duration": 7,
    "start_time": "2022-05-20T11:52:11.530Z"
   },
   {
    "duration": 12,
    "start_time": "2022-05-20T11:52:11.539Z"
   },
   {
    "duration": 58,
    "start_time": "2022-05-20T11:52:11.552Z"
   },
   {
    "duration": 6,
    "start_time": "2022-05-20T11:52:11.612Z"
   },
   {
    "duration": 13,
    "start_time": "2022-05-20T11:52:11.620Z"
   },
   {
    "duration": 134,
    "start_time": "2022-05-20T11:52:11.635Z"
   },
   {
    "duration": 10,
    "start_time": "2022-05-20T11:52:11.770Z"
   },
   {
    "duration": 186,
    "start_time": "2022-05-20T11:52:11.782Z"
   },
   {
    "duration": 280,
    "start_time": "2022-05-20T11:52:11.970Z"
   },
   {
    "duration": 8,
    "start_time": "2022-05-20T11:52:12.252Z"
   },
   {
    "duration": 26,
    "start_time": "2022-05-20T11:52:12.262Z"
   },
   {
    "duration": 6,
    "start_time": "2022-05-20T11:52:12.294Z"
   },
   {
    "duration": 9,
    "start_time": "2022-05-20T11:52:12.302Z"
   },
   {
    "duration": 27,
    "start_time": "2022-05-20T11:52:12.313Z"
   },
   {
    "duration": 14,
    "start_time": "2022-05-20T11:52:12.343Z"
   },
   {
    "duration": 179,
    "start_time": "2022-05-20T11:52:12.359Z"
   },
   {
    "duration": 27,
    "start_time": "2022-05-20T11:52:12.540Z"
   },
   {
    "duration": 34,
    "start_time": "2022-05-20T11:52:12.569Z"
   },
   {
    "duration": 142,
    "start_time": "2022-05-20T11:52:12.604Z"
   },
   {
    "duration": 40,
    "start_time": "2022-05-20T11:53:28.927Z"
   },
   {
    "duration": 31,
    "start_time": "2022-05-20T11:54:03.214Z"
   },
   {
    "duration": 26,
    "start_time": "2022-05-20T11:55:06.393Z"
   },
   {
    "duration": 28,
    "start_time": "2022-05-20T11:55:24.202Z"
   },
   {
    "duration": 31,
    "start_time": "2022-05-20T11:55:45.357Z"
   },
   {
    "duration": 37,
    "start_time": "2022-05-20T11:56:04.155Z"
   },
   {
    "duration": 17,
    "start_time": "2022-05-20T11:56:12.789Z"
   },
   {
    "duration": 34,
    "start_time": "2022-05-20T11:56:52.495Z"
   },
   {
    "duration": 28,
    "start_time": "2022-05-20T11:57:31.514Z"
   },
   {
    "duration": 16,
    "start_time": "2022-05-20T11:57:35.844Z"
   },
   {
    "duration": 30,
    "start_time": "2022-05-20T11:58:05.398Z"
   },
   {
    "duration": 30,
    "start_time": "2022-05-20T11:59:06.197Z"
   },
   {
    "duration": 22,
    "start_time": "2022-05-20T11:59:08.966Z"
   },
   {
    "duration": 141,
    "start_time": "2022-05-20T11:59:14.966Z"
   },
   {
    "duration": 23,
    "start_time": "2022-05-20T11:59:32.309Z"
   },
   {
    "duration": 31,
    "start_time": "2022-05-20T11:59:38.048Z"
   },
   {
    "duration": 19,
    "start_time": "2022-05-20T12:00:00.029Z"
   },
   {
    "duration": 144,
    "start_time": "2022-05-20T12:00:03.560Z"
   },
   {
    "duration": 157,
    "start_time": "2022-05-20T12:03:40.401Z"
   },
   {
    "duration": 8,
    "start_time": "2022-05-20T12:29:20.142Z"
   },
   {
    "duration": 8,
    "start_time": "2022-05-20T12:29:52.113Z"
   },
   {
    "duration": 5,
    "start_time": "2022-05-20T12:31:12.836Z"
   },
   {
    "duration": 7,
    "start_time": "2022-05-20T13:14:53.066Z"
   },
   {
    "duration": 17,
    "start_time": "2022-05-20T13:16:26.536Z"
   },
   {
    "duration": 13,
    "start_time": "2022-05-20T13:16:31.889Z"
   },
   {
    "duration": 17,
    "start_time": "2022-05-20T13:16:37.525Z"
   },
   {
    "duration": 4,
    "start_time": "2022-05-20T13:17:36.284Z"
   },
   {
    "duration": 14,
    "start_time": "2022-05-20T13:17:45.242Z"
   },
   {
    "duration": 33,
    "start_time": "2022-05-20T13:21:06.608Z"
   },
   {
    "duration": 1226,
    "start_time": "2022-05-21T17:27:51.504Z"
   },
   {
    "duration": 6,
    "start_time": "2022-05-21T17:27:52.738Z"
   },
   {
    "duration": 964,
    "start_time": "2022-05-21T17:27:52.746Z"
   },
   {
    "duration": 100,
    "start_time": "2022-05-21T17:27:53.713Z"
   },
   {
    "duration": 156,
    "start_time": "2022-05-21T17:27:53.815Z"
   },
   {
    "duration": 204,
    "start_time": "2022-05-21T17:27:53.973Z"
   },
   {
    "duration": 237,
    "start_time": "2022-05-21T17:27:54.179Z"
   },
   {
    "duration": 67,
    "start_time": "2022-05-21T17:27:54.418Z"
   },
   {
    "duration": 54,
    "start_time": "2022-05-21T17:27:54.487Z"
   },
   {
    "duration": 11,
    "start_time": "2022-05-21T17:27:54.543Z"
   },
   {
    "duration": 6,
    "start_time": "2022-05-21T17:27:54.556Z"
   },
   {
    "duration": 10,
    "start_time": "2022-05-21T17:27:54.563Z"
   },
   {
    "duration": 13,
    "start_time": "2022-05-21T17:27:54.575Z"
   },
   {
    "duration": 54,
    "start_time": "2022-05-21T17:27:54.590Z"
   },
   {
    "duration": 6,
    "start_time": "2022-05-21T17:27:54.646Z"
   },
   {
    "duration": 6,
    "start_time": "2022-05-21T17:27:54.654Z"
   },
   {
    "duration": 49,
    "start_time": "2022-05-21T17:27:54.661Z"
   },
   {
    "duration": 25,
    "start_time": "2022-05-21T17:27:54.712Z"
   },
   {
    "duration": 14,
    "start_time": "2022-05-21T17:27:54.740Z"
   },
   {
    "duration": 158,
    "start_time": "2022-05-21T17:27:54.756Z"
   },
   {
    "duration": 25,
    "start_time": "2022-05-21T17:27:54.916Z"
   },
   {
    "duration": 371,
    "start_time": "2022-05-21T17:27:54.942Z"
   },
   {
    "duration": 174,
    "start_time": "2022-05-21T17:27:55.315Z"
   },
   {
    "duration": 7,
    "start_time": "2022-05-21T17:27:55.491Z"
   },
   {
    "duration": 37,
    "start_time": "2022-05-21T17:27:55.500Z"
   },
   {
    "duration": 7,
    "start_time": "2022-05-21T17:27:55.541Z"
   },
   {
    "duration": 8,
    "start_time": "2022-05-21T17:27:55.550Z"
   },
   {
    "duration": 28,
    "start_time": "2022-05-21T17:27:55.562Z"
   },
   {
    "duration": 16,
    "start_time": "2022-05-21T17:27:55.591Z"
   },
   {
    "duration": 152,
    "start_time": "2022-05-21T17:27:55.626Z"
   },
   {
    "duration": 27,
    "start_time": "2022-05-21T17:27:55.780Z"
   },
   {
    "duration": 36,
    "start_time": "2022-05-21T17:27:55.809Z"
   },
   {
    "duration": 137,
    "start_time": "2022-05-21T17:27:55.847Z"
   },
   {
    "duration": 6,
    "start_time": "2022-05-21T17:27:55.986Z"
   },
   {
    "duration": 15,
    "start_time": "2022-05-21T17:27:55.993Z"
   },
   {
    "duration": 1108,
    "start_time": "2022-05-23T04:54:24.617Z"
   },
   {
    "duration": 3,
    "start_time": "2022-05-23T04:54:25.727Z"
   },
   {
    "duration": 885,
    "start_time": "2022-05-23T04:54:25.731Z"
   },
   {
    "duration": 87,
    "start_time": "2022-05-23T04:54:26.618Z"
   },
   {
    "duration": 132,
    "start_time": "2022-05-23T04:54:26.707Z"
   },
   {
    "duration": 219,
    "start_time": "2022-05-23T04:54:26.840Z"
   },
   {
    "duration": 226,
    "start_time": "2022-05-23T04:54:27.061Z"
   },
   {
    "duration": 74,
    "start_time": "2022-05-23T04:54:27.289Z"
   },
   {
    "duration": 36,
    "start_time": "2022-05-23T04:54:27.364Z"
   },
   {
    "duration": 13,
    "start_time": "2022-05-23T04:54:27.402Z"
   },
   {
    "duration": 23,
    "start_time": "2022-05-23T04:54:27.416Z"
   },
   {
    "duration": 7,
    "start_time": "2022-05-23T04:54:27.452Z"
   },
   {
    "duration": 16,
    "start_time": "2022-05-23T04:54:27.461Z"
   },
   {
    "duration": 25,
    "start_time": "2022-05-23T04:54:27.478Z"
   },
   {
    "duration": 8,
    "start_time": "2022-05-23T04:54:27.505Z"
   },
   {
    "duration": 10,
    "start_time": "2022-05-23T04:54:27.514Z"
   },
   {
    "duration": 76,
    "start_time": "2022-05-23T04:54:27.525Z"
   },
   {
    "duration": 6,
    "start_time": "2022-05-23T04:54:27.603Z"
   },
   {
    "duration": 42,
    "start_time": "2022-05-23T04:54:27.611Z"
   },
   {
    "duration": 137,
    "start_time": "2022-05-23T04:54:27.654Z"
   },
   {
    "duration": 15,
    "start_time": "2022-05-23T04:54:27.793Z"
   },
   {
    "duration": 346,
    "start_time": "2022-05-23T04:54:27.810Z"
   },
   {
    "duration": 278,
    "start_time": "2022-05-23T04:54:28.157Z"
   },
   {
    "duration": 17,
    "start_time": "2022-05-23T04:54:28.436Z"
   },
   {
    "duration": 12,
    "start_time": "2022-05-23T04:54:28.455Z"
   },
   {
    "duration": 8,
    "start_time": "2022-05-23T04:54:28.468Z"
   },
   {
    "duration": 10,
    "start_time": "2022-05-23T04:54:28.478Z"
   },
   {
    "duration": 67,
    "start_time": "2022-05-23T04:54:28.492Z"
   },
   {
    "duration": 23,
    "start_time": "2022-05-23T04:54:28.561Z"
   },
   {
    "duration": 168,
    "start_time": "2022-05-23T04:54:28.586Z"
   },
   {
    "duration": 33,
    "start_time": "2022-05-23T04:54:28.756Z"
   },
   {
    "duration": 18,
    "start_time": "2022-05-23T04:54:28.791Z"
   },
   {
    "duration": 182,
    "start_time": "2022-05-23T04:54:28.811Z"
   },
   {
    "duration": 6,
    "start_time": "2022-05-23T04:54:28.995Z"
   },
   {
    "duration": 18,
    "start_time": "2022-05-23T04:54:29.003Z"
   },
   {
    "duration": 4,
    "start_time": "2022-05-23T05:04:33.634Z"
   },
   {
    "duration": 111,
    "start_time": "2022-05-23T05:19:53.920Z"
   },
   {
    "duration": 11,
    "start_time": "2022-05-23T05:21:18.434Z"
   },
   {
    "duration": 142,
    "start_time": "2022-05-23T05:38:01.028Z"
   },
   {
    "duration": 19,
    "start_time": "2022-05-23T05:39:32.650Z"
   },
   {
    "duration": 221,
    "start_time": "2022-05-23T05:40:11.463Z"
   },
   {
    "duration": 216,
    "start_time": "2022-05-23T05:40:16.882Z"
   },
   {
    "duration": 10,
    "start_time": "2022-05-23T05:42:16.179Z"
   },
   {
    "duration": 14,
    "start_time": "2022-05-23T05:42:18.268Z"
   },
   {
    "duration": 7,
    "start_time": "2022-05-23T05:42:21.315Z"
   },
   {
    "duration": 10,
    "start_time": "2022-05-23T05:42:30.161Z"
   },
   {
    "duration": 41,
    "start_time": "2022-05-23T05:48:17.569Z"
   },
   {
    "duration": 19,
    "start_time": "2022-05-23T05:48:34.011Z"
   },
   {
    "duration": 145,
    "start_time": "2022-05-23T05:48:47.576Z"
   },
   {
    "duration": 147,
    "start_time": "2022-05-23T05:49:39.423Z"
   },
   {
    "duration": 40,
    "start_time": "2022-05-23T05:50:07.107Z"
   },
   {
    "duration": 21,
    "start_time": "2022-05-23T05:50:38.157Z"
   },
   {
    "duration": 31,
    "start_time": "2022-05-23T05:50:54.048Z"
   },
   {
    "duration": 32,
    "start_time": "2022-05-23T05:51:38.879Z"
   },
   {
    "duration": 18,
    "start_time": "2022-05-23T05:51:51.988Z"
   },
   {
    "duration": 57,
    "start_time": "2022-05-23T05:52:02.202Z"
   },
   {
    "duration": 30,
    "start_time": "2022-05-23T05:52:12.517Z"
   },
   {
    "duration": 147,
    "start_time": "2022-05-23T05:52:28.159Z"
   },
   {
    "duration": 186,
    "start_time": "2022-05-23T05:52:39.092Z"
   },
   {
    "duration": 12,
    "start_time": "2022-05-23T05:58:11.528Z"
   },
   {
    "duration": 19,
    "start_time": "2022-05-23T05:58:13.704Z"
   },
   {
    "duration": 1529,
    "start_time": "2022-05-23T16:09:24.794Z"
   },
   {
    "duration": 3,
    "start_time": "2022-05-23T16:09:26.325Z"
   },
   {
    "duration": 957,
    "start_time": "2022-05-23T16:09:26.329Z"
   },
   {
    "duration": 104,
    "start_time": "2022-05-23T16:09:27.288Z"
   },
   {
    "duration": 133,
    "start_time": "2022-05-23T16:09:27.394Z"
   },
   {
    "duration": 233,
    "start_time": "2022-05-23T16:09:27.529Z"
   },
   {
    "duration": 248,
    "start_time": "2022-05-23T16:09:27.763Z"
   },
   {
    "duration": 70,
    "start_time": "2022-05-23T16:09:28.013Z"
   },
   {
    "duration": 54,
    "start_time": "2022-05-23T16:09:28.085Z"
   },
   {
    "duration": 14,
    "start_time": "2022-05-23T16:09:28.142Z"
   },
   {
    "duration": 7,
    "start_time": "2022-05-23T16:09:28.158Z"
   },
   {
    "duration": 8,
    "start_time": "2022-05-23T16:09:28.167Z"
   },
   {
    "duration": 13,
    "start_time": "2022-05-23T16:09:28.176Z"
   },
   {
    "duration": 60,
    "start_time": "2022-05-23T16:09:28.190Z"
   },
   {
    "duration": 6,
    "start_time": "2022-05-23T16:09:28.252Z"
   },
   {
    "duration": 6,
    "start_time": "2022-05-23T16:09:28.260Z"
   },
   {
    "duration": 64,
    "start_time": "2022-05-23T16:09:28.268Z"
   },
   {
    "duration": 6,
    "start_time": "2022-05-23T16:09:28.334Z"
   },
   {
    "duration": 21,
    "start_time": "2022-05-23T16:09:28.342Z"
   },
   {
    "duration": 8,
    "start_time": "2022-05-23T16:09:28.365Z"
   },
   {
    "duration": 163,
    "start_time": "2022-05-23T16:09:28.375Z"
   },
   {
    "duration": 16,
    "start_time": "2022-05-23T16:09:28.540Z"
   },
   {
    "duration": 316,
    "start_time": "2022-05-23T16:09:28.558Z"
   },
   {
    "duration": 294,
    "start_time": "2022-05-23T16:09:28.875Z"
   },
   {
    "duration": 8,
    "start_time": "2022-05-23T16:09:29.171Z"
   },
   {
    "duration": 15,
    "start_time": "2022-05-23T16:09:29.181Z"
   },
   {
    "duration": 30,
    "start_time": "2022-05-23T16:09:29.197Z"
   },
   {
    "duration": 11,
    "start_time": "2022-05-23T16:09:29.232Z"
   },
   {
    "duration": 38,
    "start_time": "2022-05-23T16:09:29.245Z"
   },
   {
    "duration": 42,
    "start_time": "2022-05-23T16:09:29.285Z"
   },
   {
    "duration": 145,
    "start_time": "2022-05-23T16:09:29.328Z"
   },
   {
    "duration": 32,
    "start_time": "2022-05-23T16:09:29.474Z"
   },
   {
    "duration": 28,
    "start_time": "2022-05-23T16:09:29.508Z"
   },
   {
    "duration": 134,
    "start_time": "2022-05-23T16:09:29.538Z"
   },
   {
    "duration": 6,
    "start_time": "2022-05-23T16:09:29.674Z"
   },
   {
    "duration": 24,
    "start_time": "2022-05-23T16:09:29.682Z"
   },
   {
    "duration": 13,
    "start_time": "2022-05-23T16:10:05.586Z"
   },
   {
    "duration": 14,
    "start_time": "2022-05-23T16:11:09.349Z"
   },
   {
    "duration": 36,
    "start_time": "2022-05-23T16:14:35.155Z"
   },
   {
    "duration": 21,
    "start_time": "2022-05-23T16:14:44.252Z"
   },
   {
    "duration": 17,
    "start_time": "2022-05-23T16:15:01.127Z"
   },
   {
    "duration": 17,
    "start_time": "2022-05-23T16:15:16.487Z"
   },
   {
    "duration": 16,
    "start_time": "2022-05-23T16:16:02.376Z"
   },
   {
    "duration": 16,
    "start_time": "2022-05-23T16:16:20.820Z"
   }
  ],
  "kernelspec": {
   "display_name": "Python 3 (ipykernel)",
   "language": "python",
   "name": "python3"
  },
  "language_info": {
   "codemirror_mode": {
    "name": "ipython",
    "version": 3
   },
   "file_extension": ".py",
   "mimetype": "text/x-python",
   "name": "python",
   "nbconvert_exporter": "python",
   "pygments_lexer": "ipython3",
   "version": "3.9.7"
  },
  "toc": {
   "base_numbering": 1,
   "nav_menu": {},
   "number_sections": true,
   "sideBar": true,
   "skip_h1_title": true,
   "title_cell": "Table of Contents",
   "title_sidebar": "Contents",
   "toc_cell": false,
   "toc_position": {
    "height": "calc(100% - 180px)",
    "left": "10px",
    "top": "150px",
    "width": "174.396px"
   },
   "toc_section_display": true,
   "toc_window_display": false
  }
 },
 "nbformat": 4,
 "nbformat_minor": 2
}
