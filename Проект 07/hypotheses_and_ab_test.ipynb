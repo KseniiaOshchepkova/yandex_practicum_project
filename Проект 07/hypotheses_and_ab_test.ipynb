{
 "cells": [
  {
   "cell_type": "markdown",
   "metadata": {},
   "source": [
    "# Проект:  \"Приоритезация гипотез для увеличения выручки интернет-магазина, проведение А/В теста\"\n",
    "\n",
    "## Введение  \n",
    "\n",
    "Отдел маркетинга крупного интернет-магазина подготовил список гипотез для увеличения выручки.  \n",
    "\n",
    "**Цель:** приоритизировать гипотезы, запустить A/B-тест и проанализировать результаты.  \n",
    "\n",
    "Исследование проводится в два этапа:  \n",
    "\n",
    "1. Приоритизация гипотез.\n",
    "2. Анализ A/B-теста."
   ]
  },
  {
   "cell_type": "markdown",
   "metadata": {},
   "source": [
    "## Приоритизация гипотез  \n",
    "\n",
    "### Обзор данных\n",
    "\n",
    "Ознакомимся с входными данными."
   ]
  },
  {
   "cell_type": "code",
   "execution_count": 1,
   "metadata": {},
   "outputs": [],
   "source": [
    "#импортируем библиотеки\n",
    "\n",
    "import pandas as pd\n",
    "import numpy as np\n",
    "from datetime import datetime, timedelta\n",
    "from datetime import date\n",
    "from matplotlib import pyplot as plt\n",
    "from scipy import stats as st\n",
    "import math as mth"
   ]
  },
  {
   "cell_type": "code",
   "execution_count": 2,
   "metadata": {},
   "outputs": [],
   "source": [
    "#игнорируем предупреждения\n",
    "\n",
    "import warnings\n",
    "\n",
    "warnings.filterwarnings('ignore') "
   ]
  },
  {
   "cell_type": "markdown",
   "metadata": {},
   "source": [
    "Прочитаем файлы с данными."
   ]
  },
  {
   "cell_type": "code",
   "execution_count": 3,
   "metadata": {
    "scrolled": true
   },
   "outputs": [
    {
     "data": {
      "text/html": [
       "<div>\n",
       "<style scoped>\n",
       "    .dataframe tbody tr th:only-of-type {\n",
       "        vertical-align: middle;\n",
       "    }\n",
       "\n",
       "    .dataframe tbody tr th {\n",
       "        vertical-align: top;\n",
       "    }\n",
       "\n",
       "    .dataframe thead th {\n",
       "        text-align: right;\n",
       "    }\n",
       "</style>\n",
       "<table border=\"1\" class=\"dataframe\">\n",
       "  <thead>\n",
       "    <tr style=\"text-align: right;\">\n",
       "      <th></th>\n",
       "      <th>Hypothesis</th>\n",
       "      <th>Reach</th>\n",
       "      <th>Impact</th>\n",
       "      <th>Confidence</th>\n",
       "      <th>Efforts</th>\n",
       "    </tr>\n",
       "  </thead>\n",
       "  <tbody>\n",
       "    <tr>\n",
       "      <td>0</td>\n",
       "      <td>Добавить два новых канала привлечения трафика,...</td>\n",
       "      <td>3</td>\n",
       "      <td>10</td>\n",
       "      <td>8</td>\n",
       "      <td>6</td>\n",
       "    </tr>\n",
       "    <tr>\n",
       "      <td>1</td>\n",
       "      <td>Запустить собственную службу доставки, что сок...</td>\n",
       "      <td>2</td>\n",
       "      <td>5</td>\n",
       "      <td>4</td>\n",
       "      <td>10</td>\n",
       "    </tr>\n",
       "    <tr>\n",
       "      <td>2</td>\n",
       "      <td>Добавить блоки рекомендаций товаров на сайт ин...</td>\n",
       "      <td>8</td>\n",
       "      <td>3</td>\n",
       "      <td>7</td>\n",
       "      <td>3</td>\n",
       "    </tr>\n",
       "    <tr>\n",
       "      <td>3</td>\n",
       "      <td>Изменить структура категорий, что увеличит кон...</td>\n",
       "      <td>8</td>\n",
       "      <td>3</td>\n",
       "      <td>3</td>\n",
       "      <td>8</td>\n",
       "    </tr>\n",
       "    <tr>\n",
       "      <td>4</td>\n",
       "      <td>Изменить цвет фона главной страницы, чтобы уве...</td>\n",
       "      <td>3</td>\n",
       "      <td>1</td>\n",
       "      <td>1</td>\n",
       "      <td>1</td>\n",
       "    </tr>\n",
       "    <tr>\n",
       "      <td>5</td>\n",
       "      <td>Добавить страницу отзывов клиентов о магазине,...</td>\n",
       "      <td>3</td>\n",
       "      <td>2</td>\n",
       "      <td>2</td>\n",
       "      <td>3</td>\n",
       "    </tr>\n",
       "    <tr>\n",
       "      <td>6</td>\n",
       "      <td>Показать на главной странице баннеры с актуаль...</td>\n",
       "      <td>5</td>\n",
       "      <td>3</td>\n",
       "      <td>8</td>\n",
       "      <td>3</td>\n",
       "    </tr>\n",
       "    <tr>\n",
       "      <td>7</td>\n",
       "      <td>Добавить форму подписки на все основные страни...</td>\n",
       "      <td>10</td>\n",
       "      <td>7</td>\n",
       "      <td>8</td>\n",
       "      <td>5</td>\n",
       "    </tr>\n",
       "    <tr>\n",
       "      <td>8</td>\n",
       "      <td>Запустить акцию, дающую скидку на товар в день...</td>\n",
       "      <td>1</td>\n",
       "      <td>9</td>\n",
       "      <td>9</td>\n",
       "      <td>5</td>\n",
       "    </tr>\n",
       "  </tbody>\n",
       "</table>\n",
       "</div>"
      ],
      "text/plain": [
       "                                          Hypothesis  Reach  Impact  \\\n",
       "0  Добавить два новых канала привлечения трафика,...      3      10   \n",
       "1  Запустить собственную службу доставки, что сок...      2       5   \n",
       "2  Добавить блоки рекомендаций товаров на сайт ин...      8       3   \n",
       "3  Изменить структура категорий, что увеличит кон...      8       3   \n",
       "4  Изменить цвет фона главной страницы, чтобы уве...      3       1   \n",
       "5  Добавить страницу отзывов клиентов о магазине,...      3       2   \n",
       "6  Показать на главной странице баннеры с актуаль...      5       3   \n",
       "7  Добавить форму подписки на все основные страни...     10       7   \n",
       "8  Запустить акцию, дающую скидку на товар в день...      1       9   \n",
       "\n",
       "   Confidence  Efforts  \n",
       "0           8        6  \n",
       "1           4       10  \n",
       "2           7        3  \n",
       "3           3        8  \n",
       "4           1        1  \n",
       "5           2        3  \n",
       "6           8        3  \n",
       "7           8        5  \n",
       "8           9        5  "
      ]
     },
     "execution_count": 3,
     "metadata": {},
     "output_type": "execute_result"
    }
   ],
   "source": [
    "#прочитаем файл с данными и сохраним его в переменную\n",
    "\n",
    "data = pd.read_csv('/datasets/hypothesis.csv')\n",
    "data"
   ]
  },
  {
   "cell_type": "code",
   "execution_count": 4,
   "metadata": {},
   "outputs": [
    {
     "name": "stdout",
     "output_type": "stream",
     "text": [
      "<class 'pandas.core.frame.DataFrame'>\n",
      "RangeIndex: 9 entries, 0 to 8\n",
      "Data columns (total 5 columns):\n",
      "Hypothesis    9 non-null object\n",
      "Reach         9 non-null int64\n",
      "Impact        9 non-null int64\n",
      "Confidence    9 non-null int64\n",
      "Efforts       9 non-null int64\n",
      "dtypes: int64(4), object(1)\n",
      "memory usage: 488.0+ bytes\n"
     ]
    }
   ],
   "source": [
    "data.info() #получим общую информацию о таблице"
   ]
  },
  {
   "cell_type": "markdown",
   "metadata": {},
   "source": [
    "В наличии следующие данные:  \n",
    "\n",
    "- Hypothesis — краткое описание гипотезы;  \n",
    "- Reach — охват пользователей по 10-балльной шкале;  \n",
    "- Impact — влияние на пользователей по 10-балльной шкале;  \n",
    "- Confidence — уверенность в гипотезе по 10-балльной шкале;  \n",
    "- Efforts — затраты ресурсов на проверку гипотезы по 10-балльной шкале.\n",
    "\n"
   ]
  },
  {
   "cell_type": "markdown",
   "metadata": {},
   "source": [
    "### Предобработка данных  \n",
    "\n",
    "Приведем названия столбцов к единому стилю написания, чтобы все буквы были строчными."
   ]
  },
  {
   "cell_type": "code",
   "execution_count": 5,
   "metadata": {},
   "outputs": [
    {
     "data": {
      "text/plain": [
       "Index(['hypothesis', 'reach', 'impact', 'confidence', 'efforts'], dtype='object')"
      ]
     },
     "execution_count": 5,
     "metadata": {},
     "output_type": "execute_result"
    }
   ],
   "source": [
    "data.columns = data.columns.str.lower()\n",
    "data.columns"
   ]
  },
  {
   "cell_type": "markdown",
   "metadata": {},
   "source": [
    "### Применение фреймворков ICE  и RICE для приоритизации гипотез  \n",
    " "
   ]
  },
  {
   "cell_type": "code",
   "execution_count": 6,
   "metadata": {},
   "outputs": [
    {
     "data": {
      "text/html": [
       "<div>\n",
       "<style scoped>\n",
       "    .dataframe tbody tr th:only-of-type {\n",
       "        vertical-align: middle;\n",
       "    }\n",
       "\n",
       "    .dataframe tbody tr th {\n",
       "        vertical-align: top;\n",
       "    }\n",
       "\n",
       "    .dataframe thead th {\n",
       "        text-align: right;\n",
       "    }\n",
       "</style>\n",
       "<table border=\"1\" class=\"dataframe\">\n",
       "  <thead>\n",
       "    <tr style=\"text-align: right;\">\n",
       "      <th></th>\n",
       "      <th>hypothesis</th>\n",
       "      <th>reach</th>\n",
       "      <th>impact</th>\n",
       "      <th>confidence</th>\n",
       "      <th>efforts</th>\n",
       "      <th>ice</th>\n",
       "      <th>rice</th>\n",
       "    </tr>\n",
       "  </thead>\n",
       "  <tbody>\n",
       "    <tr>\n",
       "      <td>8</td>\n",
       "      <td>Запустить акцию, дающую скидку на товар в день...</td>\n",
       "      <td>1</td>\n",
       "      <td>9</td>\n",
       "      <td>9</td>\n",
       "      <td>5</td>\n",
       "      <td>16.20</td>\n",
       "      <td>16.2</td>\n",
       "    </tr>\n",
       "    <tr>\n",
       "      <td>0</td>\n",
       "      <td>Добавить два новых канала привлечения трафика,...</td>\n",
       "      <td>3</td>\n",
       "      <td>10</td>\n",
       "      <td>8</td>\n",
       "      <td>6</td>\n",
       "      <td>13.33</td>\n",
       "      <td>40.0</td>\n",
       "    </tr>\n",
       "    <tr>\n",
       "      <td>7</td>\n",
       "      <td>Добавить форму подписки на все основные страни...</td>\n",
       "      <td>10</td>\n",
       "      <td>7</td>\n",
       "      <td>8</td>\n",
       "      <td>5</td>\n",
       "      <td>11.20</td>\n",
       "      <td>112.0</td>\n",
       "    </tr>\n",
       "    <tr>\n",
       "      <td>6</td>\n",
       "      <td>Показать на главной странице баннеры с актуаль...</td>\n",
       "      <td>5</td>\n",
       "      <td>3</td>\n",
       "      <td>8</td>\n",
       "      <td>3</td>\n",
       "      <td>8.00</td>\n",
       "      <td>40.0</td>\n",
       "    </tr>\n",
       "    <tr>\n",
       "      <td>2</td>\n",
       "      <td>Добавить блоки рекомендаций товаров на сайт ин...</td>\n",
       "      <td>8</td>\n",
       "      <td>3</td>\n",
       "      <td>7</td>\n",
       "      <td>3</td>\n",
       "      <td>7.00</td>\n",
       "      <td>56.0</td>\n",
       "    </tr>\n",
       "    <tr>\n",
       "      <td>1</td>\n",
       "      <td>Запустить собственную службу доставки, что сок...</td>\n",
       "      <td>2</td>\n",
       "      <td>5</td>\n",
       "      <td>4</td>\n",
       "      <td>10</td>\n",
       "      <td>2.00</td>\n",
       "      <td>4.0</td>\n",
       "    </tr>\n",
       "    <tr>\n",
       "      <td>5</td>\n",
       "      <td>Добавить страницу отзывов клиентов о магазине,...</td>\n",
       "      <td>3</td>\n",
       "      <td>2</td>\n",
       "      <td>2</td>\n",
       "      <td>3</td>\n",
       "      <td>1.33</td>\n",
       "      <td>4.0</td>\n",
       "    </tr>\n",
       "    <tr>\n",
       "      <td>3</td>\n",
       "      <td>Изменить структура категорий, что увеличит кон...</td>\n",
       "      <td>8</td>\n",
       "      <td>3</td>\n",
       "      <td>3</td>\n",
       "      <td>8</td>\n",
       "      <td>1.12</td>\n",
       "      <td>9.0</td>\n",
       "    </tr>\n",
       "    <tr>\n",
       "      <td>4</td>\n",
       "      <td>Изменить цвет фона главной страницы, чтобы уве...</td>\n",
       "      <td>3</td>\n",
       "      <td>1</td>\n",
       "      <td>1</td>\n",
       "      <td>1</td>\n",
       "      <td>1.00</td>\n",
       "      <td>3.0</td>\n",
       "    </tr>\n",
       "  </tbody>\n",
       "</table>\n",
       "</div>"
      ],
      "text/plain": [
       "                                          hypothesis  reach  impact  \\\n",
       "8  Запустить акцию, дающую скидку на товар в день...      1       9   \n",
       "0  Добавить два новых канала привлечения трафика,...      3      10   \n",
       "7  Добавить форму подписки на все основные страни...     10       7   \n",
       "6  Показать на главной странице баннеры с актуаль...      5       3   \n",
       "2  Добавить блоки рекомендаций товаров на сайт ин...      8       3   \n",
       "1  Запустить собственную службу доставки, что сок...      2       5   \n",
       "5  Добавить страницу отзывов клиентов о магазине,...      3       2   \n",
       "3  Изменить структура категорий, что увеличит кон...      8       3   \n",
       "4  Изменить цвет фона главной страницы, чтобы уве...      3       1   \n",
       "\n",
       "   confidence  efforts    ice   rice  \n",
       "8           9        5  16.20   16.2  \n",
       "0           8        6  13.33   40.0  \n",
       "7           8        5  11.20  112.0  \n",
       "6           8        3   8.00   40.0  \n",
       "2           7        3   7.00   56.0  \n",
       "1           4       10   2.00    4.0  \n",
       "5           2        3   1.33    4.0  \n",
       "3           3        8   1.12    9.0  \n",
       "4           1        1   1.00    3.0  "
      ]
     },
     "metadata": {},
     "output_type": "display_data"
    },
    {
     "data": {
      "text/html": [
       "<div>\n",
       "<style scoped>\n",
       "    .dataframe tbody tr th:only-of-type {\n",
       "        vertical-align: middle;\n",
       "    }\n",
       "\n",
       "    .dataframe tbody tr th {\n",
       "        vertical-align: top;\n",
       "    }\n",
       "\n",
       "    .dataframe thead th {\n",
       "        text-align: right;\n",
       "    }\n",
       "</style>\n",
       "<table border=\"1\" class=\"dataframe\">\n",
       "  <thead>\n",
       "    <tr style=\"text-align: right;\">\n",
       "      <th></th>\n",
       "      <th>hypothesis</th>\n",
       "      <th>reach</th>\n",
       "      <th>impact</th>\n",
       "      <th>confidence</th>\n",
       "      <th>efforts</th>\n",
       "      <th>ice</th>\n",
       "      <th>rice</th>\n",
       "    </tr>\n",
       "  </thead>\n",
       "  <tbody>\n",
       "    <tr>\n",
       "      <td>7</td>\n",
       "      <td>Добавить форму подписки на все основные страни...</td>\n",
       "      <td>10</td>\n",
       "      <td>7</td>\n",
       "      <td>8</td>\n",
       "      <td>5</td>\n",
       "      <td>11.20</td>\n",
       "      <td>112.0</td>\n",
       "    </tr>\n",
       "    <tr>\n",
       "      <td>2</td>\n",
       "      <td>Добавить блоки рекомендаций товаров на сайт ин...</td>\n",
       "      <td>8</td>\n",
       "      <td>3</td>\n",
       "      <td>7</td>\n",
       "      <td>3</td>\n",
       "      <td>7.00</td>\n",
       "      <td>56.0</td>\n",
       "    </tr>\n",
       "    <tr>\n",
       "      <td>0</td>\n",
       "      <td>Добавить два новых канала привлечения трафика,...</td>\n",
       "      <td>3</td>\n",
       "      <td>10</td>\n",
       "      <td>8</td>\n",
       "      <td>6</td>\n",
       "      <td>13.33</td>\n",
       "      <td>40.0</td>\n",
       "    </tr>\n",
       "    <tr>\n",
       "      <td>6</td>\n",
       "      <td>Показать на главной странице баннеры с актуаль...</td>\n",
       "      <td>5</td>\n",
       "      <td>3</td>\n",
       "      <td>8</td>\n",
       "      <td>3</td>\n",
       "      <td>8.00</td>\n",
       "      <td>40.0</td>\n",
       "    </tr>\n",
       "    <tr>\n",
       "      <td>8</td>\n",
       "      <td>Запустить акцию, дающую скидку на товар в день...</td>\n",
       "      <td>1</td>\n",
       "      <td>9</td>\n",
       "      <td>9</td>\n",
       "      <td>5</td>\n",
       "      <td>16.20</td>\n",
       "      <td>16.2</td>\n",
       "    </tr>\n",
       "    <tr>\n",
       "      <td>3</td>\n",
       "      <td>Изменить структура категорий, что увеличит кон...</td>\n",
       "      <td>8</td>\n",
       "      <td>3</td>\n",
       "      <td>3</td>\n",
       "      <td>8</td>\n",
       "      <td>1.12</td>\n",
       "      <td>9.0</td>\n",
       "    </tr>\n",
       "    <tr>\n",
       "      <td>1</td>\n",
       "      <td>Запустить собственную службу доставки, что сок...</td>\n",
       "      <td>2</td>\n",
       "      <td>5</td>\n",
       "      <td>4</td>\n",
       "      <td>10</td>\n",
       "      <td>2.00</td>\n",
       "      <td>4.0</td>\n",
       "    </tr>\n",
       "    <tr>\n",
       "      <td>5</td>\n",
       "      <td>Добавить страницу отзывов клиентов о магазине,...</td>\n",
       "      <td>3</td>\n",
       "      <td>2</td>\n",
       "      <td>2</td>\n",
       "      <td>3</td>\n",
       "      <td>1.33</td>\n",
       "      <td>4.0</td>\n",
       "    </tr>\n",
       "    <tr>\n",
       "      <td>4</td>\n",
       "      <td>Изменить цвет фона главной страницы, чтобы уве...</td>\n",
       "      <td>3</td>\n",
       "      <td>1</td>\n",
       "      <td>1</td>\n",
       "      <td>1</td>\n",
       "      <td>1.00</td>\n",
       "      <td>3.0</td>\n",
       "    </tr>\n",
       "  </tbody>\n",
       "</table>\n",
       "</div>"
      ],
      "text/plain": [
       "                                          hypothesis  reach  impact  \\\n",
       "7  Добавить форму подписки на все основные страни...     10       7   \n",
       "2  Добавить блоки рекомендаций товаров на сайт ин...      8       3   \n",
       "0  Добавить два новых канала привлечения трафика,...      3      10   \n",
       "6  Показать на главной странице баннеры с актуаль...      5       3   \n",
       "8  Запустить акцию, дающую скидку на товар в день...      1       9   \n",
       "3  Изменить структура категорий, что увеличит кон...      8       3   \n",
       "1  Запустить собственную службу доставки, что сок...      2       5   \n",
       "5  Добавить страницу отзывов клиентов о магазине,...      3       2   \n",
       "4  Изменить цвет фона главной страницы, чтобы уве...      3       1   \n",
       "\n",
       "   confidence  efforts    ice   rice  \n",
       "7           8        5  11.20  112.0  \n",
       "2           7        3   7.00   56.0  \n",
       "0           8        6  13.33   40.0  \n",
       "6           8        3   8.00   40.0  \n",
       "8           9        5  16.20   16.2  \n",
       "3           3        8   1.12    9.0  \n",
       "1           4       10   2.00    4.0  \n",
       "5           2        3   1.33    4.0  \n",
       "4           1        1   1.00    3.0  "
      ]
     },
     "metadata": {},
     "output_type": "display_data"
    }
   ],
   "source": [
    "#создадим новый столбец ice и запишем в него уровень приоритета гипотез для фреймворка ICE\n",
    "data['ice'] = data['impact']*data['confidence']/data['efforts']\n",
    "\n",
    "#создадим новый столбец rice и запишем в него уровень приоритета гипотез для фреймворка RICE\n",
    "data['rice'] = data['reach']*data['impact']*data['confidence']/data['efforts']\n",
    "\n",
    "# выведем таблицы и отсортируем их по новым столбцам\n",
    "display(data.sort_values(by='ice', ascending=False).round(2))\n",
    "display(data.sort_values(by='rice', ascending=False).round(2))"
   ]
  },
  {
   "cell_type": "markdown",
   "metadata": {},
   "source": [
    "### Вывод  \n",
    "\n",
    "В файле 9 гипотез по увеличению выручки интернет-магазина с указанными параметрами Reach, Impact, Confidence, Efforts.\n",
    "\n",
    "Названия столбцов приведены к единому стилю написания. Нет пропусков значений, дубликатов и некорректных значений. С типами данных все в порядке.  \n",
    "\n",
    "После применения фреймворка ICE самыми приоритетными стали гипотезы под номерами 8, 0 и 7. А после фреймврка RICE - 7, 2 и 0, причем гипотеза под номером 7 стала абсолютным лидером, гипотеза 8 заняла только пятое место. Это произошло по причине того, что параметр riach у седьмой гипотезы имеет самый высокий бал - эта гипотеза охватывает большое кол-во пользователей, а вот riach для восьмой гипотезы очень низкий. Помимо этого гипотезу под номером 0 проверить чуть сложнее, чем седьмую, а у второй гипотезы низкий показатель параметра impact - изменение не окажет существенного влияния на пользователей. Поэтому по всем показателям выигрывает седимая гипотеза."
   ]
  },
  {
   "cell_type": "code",
   "execution_count": 7,
   "metadata": {
    "scrolled": true
   },
   "outputs": [
    {
     "data": {
      "text/plain": [
       "'Добавить форму подписки на все основные страницы, чтобы собрать базу клиентов для email-рассылок'"
      ]
     },
     "execution_count": 7,
     "metadata": {},
     "output_type": "execute_result"
    }
   ],
   "source": [
    "data.iloc[7]['hypothesis']"
   ]
  },
  {
   "cell_type": "markdown",
   "metadata": {},
   "source": [
    "## Анализ A/B-теста  \n",
    "\n",
    "### Обзор данных  \n",
    "\n",
    "Ознакомимся с результатами A/B-тестов"
   ]
  },
  {
   "cell_type": "code",
   "execution_count": 8,
   "metadata": {},
   "outputs": [
    {
     "data": {
      "text/html": [
       "<div>\n",
       "<style scoped>\n",
       "    .dataframe tbody tr th:only-of-type {\n",
       "        vertical-align: middle;\n",
       "    }\n",
       "\n",
       "    .dataframe tbody tr th {\n",
       "        vertical-align: top;\n",
       "    }\n",
       "\n",
       "    .dataframe thead th {\n",
       "        text-align: right;\n",
       "    }\n",
       "</style>\n",
       "<table border=\"1\" class=\"dataframe\">\n",
       "  <thead>\n",
       "    <tr style=\"text-align: right;\">\n",
       "      <th></th>\n",
       "      <th>transactionId</th>\n",
       "      <th>visitorId</th>\n",
       "      <th>date</th>\n",
       "      <th>revenue</th>\n",
       "      <th>group</th>\n",
       "    </tr>\n",
       "  </thead>\n",
       "  <tbody>\n",
       "    <tr>\n",
       "      <td>0</td>\n",
       "      <td>3667963787</td>\n",
       "      <td>3312258926</td>\n",
       "      <td>2019-08-15</td>\n",
       "      <td>1650</td>\n",
       "      <td>B</td>\n",
       "    </tr>\n",
       "    <tr>\n",
       "      <td>1</td>\n",
       "      <td>2804400009</td>\n",
       "      <td>3642806036</td>\n",
       "      <td>2019-08-15</td>\n",
       "      <td>730</td>\n",
       "      <td>B</td>\n",
       "    </tr>\n",
       "    <tr>\n",
       "      <td>2</td>\n",
       "      <td>2961555356</td>\n",
       "      <td>4069496402</td>\n",
       "      <td>2019-08-15</td>\n",
       "      <td>400</td>\n",
       "      <td>A</td>\n",
       "    </tr>\n",
       "    <tr>\n",
       "      <td>3</td>\n",
       "      <td>3797467345</td>\n",
       "      <td>1196621759</td>\n",
       "      <td>2019-08-15</td>\n",
       "      <td>9759</td>\n",
       "      <td>B</td>\n",
       "    </tr>\n",
       "    <tr>\n",
       "      <td>4</td>\n",
       "      <td>2282983706</td>\n",
       "      <td>2322279887</td>\n",
       "      <td>2019-08-15</td>\n",
       "      <td>2308</td>\n",
       "      <td>B</td>\n",
       "    </tr>\n",
       "  </tbody>\n",
       "</table>\n",
       "</div>"
      ],
      "text/plain": [
       "   transactionId   visitorId        date  revenue group\n",
       "0     3667963787  3312258926  2019-08-15     1650     B\n",
       "1     2804400009  3642806036  2019-08-15      730     B\n",
       "2     2961555356  4069496402  2019-08-15      400     A\n",
       "3     3797467345  1196621759  2019-08-15     9759     B\n",
       "4     2282983706  2322279887  2019-08-15     2308     B"
      ]
     },
     "metadata": {},
     "output_type": "display_data"
    },
    {
     "data": {
      "text/html": [
       "<div>\n",
       "<style scoped>\n",
       "    .dataframe tbody tr th:only-of-type {\n",
       "        vertical-align: middle;\n",
       "    }\n",
       "\n",
       "    .dataframe tbody tr th {\n",
       "        vertical-align: top;\n",
       "    }\n",
       "\n",
       "    .dataframe thead th {\n",
       "        text-align: right;\n",
       "    }\n",
       "</style>\n",
       "<table border=\"1\" class=\"dataframe\">\n",
       "  <thead>\n",
       "    <tr style=\"text-align: right;\">\n",
       "      <th></th>\n",
       "      <th>date</th>\n",
       "      <th>group</th>\n",
       "      <th>visitors</th>\n",
       "    </tr>\n",
       "  </thead>\n",
       "  <tbody>\n",
       "    <tr>\n",
       "      <td>0</td>\n",
       "      <td>2019-08-01</td>\n",
       "      <td>A</td>\n",
       "      <td>719</td>\n",
       "    </tr>\n",
       "    <tr>\n",
       "      <td>1</td>\n",
       "      <td>2019-08-02</td>\n",
       "      <td>A</td>\n",
       "      <td>619</td>\n",
       "    </tr>\n",
       "    <tr>\n",
       "      <td>2</td>\n",
       "      <td>2019-08-03</td>\n",
       "      <td>A</td>\n",
       "      <td>507</td>\n",
       "    </tr>\n",
       "    <tr>\n",
       "      <td>3</td>\n",
       "      <td>2019-08-04</td>\n",
       "      <td>A</td>\n",
       "      <td>717</td>\n",
       "    </tr>\n",
       "    <tr>\n",
       "      <td>4</td>\n",
       "      <td>2019-08-05</td>\n",
       "      <td>A</td>\n",
       "      <td>756</td>\n",
       "    </tr>\n",
       "  </tbody>\n",
       "</table>\n",
       "</div>"
      ],
      "text/plain": [
       "         date group  visitors\n",
       "0  2019-08-01     A       719\n",
       "1  2019-08-02     A       619\n",
       "2  2019-08-03     A       507\n",
       "3  2019-08-04     A       717\n",
       "4  2019-08-05     A       756"
      ]
     },
     "metadata": {},
     "output_type": "display_data"
    },
    {
     "name": "stdout",
     "output_type": "stream",
     "text": [
      "<class 'pandas.core.frame.DataFrame'>\n",
      "RangeIndex: 1197 entries, 0 to 1196\n",
      "Data columns (total 5 columns):\n",
      "transactionId    1197 non-null int64\n",
      "visitorId        1197 non-null int64\n",
      "date             1197 non-null object\n",
      "revenue          1197 non-null int64\n",
      "group            1197 non-null object\n",
      "dtypes: int64(3), object(2)\n",
      "memory usage: 46.9+ KB\n"
     ]
    },
    {
     "data": {
      "text/plain": [
       "None"
      ]
     },
     "metadata": {},
     "output_type": "display_data"
    },
    {
     "name": "stdout",
     "output_type": "stream",
     "text": [
      "<class 'pandas.core.frame.DataFrame'>\n",
      "RangeIndex: 62 entries, 0 to 61\n",
      "Data columns (total 3 columns):\n",
      "date        62 non-null object\n",
      "group       62 non-null object\n",
      "visitors    62 non-null int64\n",
      "dtypes: int64(1), object(2)\n",
      "memory usage: 1.6+ KB\n"
     ]
    },
    {
     "data": {
      "text/plain": [
       "None"
      ]
     },
     "metadata": {},
     "output_type": "display_data"
    }
   ],
   "source": [
    "#прочитаем файлы с данными и сохраним их в переменные\n",
    "\n",
    "orders = pd.read_csv('/datasets/orders.csv')\n",
    "visitors = pd.read_csv('/datasets/visitors.csv')\n",
    "\n",
    "display(orders.head()) #выведем на экран первые 5 строк таблицы orders\n",
    "display(visitors.head()) #выведем на экран первые 5 строк таблицы visitors\n",
    "\n",
    "display(orders.info()) #получим общую информацию о таблице orders\n",
    "display(visitors.info()) #получим общую информацию о таблице visitors"
   ]
  },
  {
   "cell_type": "markdown",
   "metadata": {},
   "source": [
    "В наличии следующие данные:  \n",
    "\n",
    "Таблица orders:  \n",
    "\n",
    "- transactionId — идентификатор заказа;\n",
    "- visitorId — идентификатор пользователя, совершившего заказ;\n",
    "- date — дата, когда был совершён заказ;\n",
    "- revenue — выручка заказа;\n",
    "- group — группа A/B-теста, в которую попал заказ.\n",
    "\n",
    "\n",
    "Таблица visitors:\n",
    "\n",
    "- date — дата;\n",
    "- group — группа A/B-теста;\n",
    "- visitors — количество пользователей в указанную дату в указанной группе A/B-теста"
   ]
  },
  {
   "cell_type": "markdown",
   "metadata": {},
   "source": [
    "### Предобработка данных  \n",
    "\n",
    "#### Приведем названия столбцов к единому стилю написания"
   ]
  },
  {
   "cell_type": "code",
   "execution_count": 9,
   "metadata": {
    "scrolled": true
   },
   "outputs": [
    {
     "data": {
      "text/plain": [
       "Index(['transaction_id', 'visitor_id', 'date', 'revenue', 'group'], dtype='object')"
      ]
     },
     "execution_count": 9,
     "metadata": {},
     "output_type": "execute_result"
    }
   ],
   "source": [
    "orders = orders.rename(columns={'transactionId':'transaction_id', 'visitorId':'visitor_id'})\n",
    "orders.columns"
   ]
  },
  {
   "cell_type": "markdown",
   "metadata": {},
   "source": [
    "#### Изменим тип данных"
   ]
  },
  {
   "cell_type": "code",
   "execution_count": 10,
   "metadata": {
    "scrolled": true
   },
   "outputs": [
    {
     "name": "stdout",
     "output_type": "stream",
     "text": [
      "<class 'pandas.core.frame.DataFrame'>\n",
      "RangeIndex: 1197 entries, 0 to 1196\n",
      "Data columns (total 5 columns):\n",
      "transaction_id    1197 non-null int64\n",
      "visitor_id        1197 non-null int64\n",
      "date              1197 non-null datetime64[ns]\n",
      "revenue           1197 non-null int64\n",
      "group             1197 non-null object\n",
      "dtypes: datetime64[ns](1), int64(3), object(1)\n",
      "memory usage: 46.9+ KB\n"
     ]
    },
    {
     "data": {
      "text/plain": [
       "None"
      ]
     },
     "metadata": {},
     "output_type": "display_data"
    },
    {
     "name": "stdout",
     "output_type": "stream",
     "text": [
      "<class 'pandas.core.frame.DataFrame'>\n",
      "RangeIndex: 62 entries, 0 to 61\n",
      "Data columns (total 3 columns):\n",
      "date        62 non-null datetime64[ns]\n",
      "group       62 non-null object\n",
      "visitors    62 non-null int64\n",
      "dtypes: datetime64[ns](1), int64(1), object(1)\n",
      "memory usage: 1.6+ KB\n"
     ]
    },
    {
     "data": {
      "text/plain": [
       "None"
      ]
     },
     "metadata": {},
     "output_type": "display_data"
    }
   ],
   "source": [
    "#приведем столбцы с датами к типу datetime64[ns]\n",
    "\n",
    "orders['date'] = pd.to_datetime(orders['date'])\n",
    "visitors['date'] = pd.to_datetime(visitors['date'])\n",
    "\n",
    "display(orders.info())\n",
    "display(visitors.info())"
   ]
  },
  {
   "cell_type": "markdown",
   "metadata": {},
   "source": [
    "#### Проверим наличие дубликатов."
   ]
  },
  {
   "cell_type": "code",
   "execution_count": 11,
   "metadata": {},
   "outputs": [
    {
     "data": {
      "text/plain": [
       "0"
      ]
     },
     "metadata": {},
     "output_type": "display_data"
    },
    {
     "data": {
      "text/plain": [
       "0"
      ]
     },
     "metadata": {},
     "output_type": "display_data"
    }
   ],
   "source": [
    "#найдем сумму явных дубликатов в таблицах\n",
    "\n",
    "display(visitors.duplicated().sum())\n",
    "display(orders.duplicated().sum())"
   ]
  },
  {
   "cell_type": "markdown",
   "metadata": {},
   "source": [
    "#### Проверим корректность значений в таблицах"
   ]
  },
  {
   "cell_type": "code",
   "execution_count": 12,
   "metadata": {},
   "outputs": [
    {
     "data": {
      "text/plain": [
       "array(['B', 'A'], dtype=object)"
      ]
     },
     "metadata": {},
     "output_type": "display_data"
    },
    {
     "data": {
      "text/plain": [
       "array(['A', 'B'], dtype=object)"
      ]
     },
     "metadata": {},
     "output_type": "display_data"
    }
   ],
   "source": [
    "#выведет уникальные значения для столбцов group для обеих таблиц\n",
    "\n",
    "display(orders['group'].unique())\n",
    "display(visitors['group'].unique())"
   ]
  },
  {
   "cell_type": "code",
   "execution_count": 13,
   "metadata": {
    "scrolled": true
   },
   "outputs": [
    {
     "data": {
      "image/png": "[encoded data removed]",
      "text/plain": [
       "<Figure size 720x360 with 1 Axes>"
      ]
     },
     "metadata": {
      "needs_background": "light"
     },
     "output_type": "display_data"
    }
   ],
   "source": [
    "#определим нет ли отрицательных значений в столбце revenue таблицы orders \n",
    "orders['revenue'].plot(ylim=(0,200000), figsize=(10,5));"
   ]
  },
  {
   "cell_type": "code",
   "execution_count": 14,
   "metadata": {
    "scrolled": false
   },
   "outputs": [
    {
     "data": {
      "image/png": "[encoded data removed]",
      "text/plain": [
       "<Figure size 432x288 with 1 Axes>"
      ]
     },
     "metadata": {
      "needs_background": "light"
     },
     "output_type": "display_data"
    }
   ],
   "source": [
    "# и в столбце visitors таблицы visitors\n",
    "\n",
    "visitors['visitors'].plot();"
   ]
  },
  {
   "cell_type": "markdown",
   "metadata": {},
   "source": [
    "Посмотрим, нет ли одних и тех же пользователей, попавших и в группу А и в группу В."
   ]
  },
  {
   "cell_type": "code",
   "execution_count": 15,
   "metadata": {},
   "outputs": [],
   "source": [
    "#найдем значения, которые встречаются в обоих группах\n",
    "\n",
    "inter = np.intersect1d(orders.query('group == \"A\"')['visitor_id'].unique(), orders.query('group == \"B\"')['visitor_id'].unique())"
   ]
  },
  {
   "cell_type": "code",
   "execution_count": 16,
   "metadata": {},
   "outputs": [
    {
     "name": "stdout",
     "output_type": "stream",
     "text": [
      "<class 'pandas.core.frame.DataFrame'>\n",
      "Int64Index: 1016 entries, 0 to 1196\n",
      "Data columns (total 5 columns):\n",
      "transaction_id    1016 non-null int64\n",
      "visitor_id        1016 non-null int64\n",
      "date              1016 non-null datetime64[ns]\n",
      "revenue           1016 non-null int64\n",
      "group             1016 non-null object\n",
      "dtypes: datetime64[ns](1), int64(3), object(1)\n",
      "memory usage: 47.6+ KB\n"
     ]
    }
   ],
   "source": [
    "#уберем из таблицы таких пользователей\n",
    "\n",
    "orders = orders[~orders['visitor_id'].isin(inter)]\n",
    "orders.info()"
   ]
  },
  {
   "cell_type": "markdown",
   "metadata": {},
   "source": [
    "#### Вывод  \n",
    "\n",
    "В таблице orders пять столбцов с информацией о заказах для каждой группы теста. В таблице  visitors отражено кол-во пользователей из каждой группы по дням.\n",
    "\n",
    "Названия столбцов приведены к единому стилю написания. Нет пропусков значений, дубликатов и некорректных значений.  \n",
    "\n",
    "В столбцах с датами поменяли тип с object на datetime64.  \n",
    "\n",
    "Из таблицы orders удалили пользователей, которые попали одновременно в группу А и в группу В."
   ]
  },
  {
   "cell_type": "markdown",
   "metadata": {},
   "source": [
    "### Анализ A/B-тестов"
   ]
  },
  {
   "cell_type": "markdown",
   "metadata": {},
   "source": [
    "Чтобы проанализировать А/В тесты и построить графики, нужно собрать кумулятивные данные."
   ]
  },
  {
   "cell_type": "code",
   "execution_count": 17,
   "metadata": {},
   "outputs": [],
   "source": [
    "#создаем массив уникальных пар значений дат и групп теста\n",
    "\n",
    "dates_groups = orders[['date','group']].drop_duplicates() "
   ]
  },
  {
   "cell_type": "code",
   "execution_count": 18,
   "metadata": {},
   "outputs": [],
   "source": [
    "#собираем агрегированные кумулятивные по дням данные о заказах и сохраняем в переменную\n",
    "\n",
    "orders_aggregated = dates_groups.apply(lambda x: orders[np.logical_and(orders['date'] <= x['date'], orders['group'] == x['group'])]\\\n",
    "                    .agg({'date' : 'max', 'group' : 'max', 'transaction_id' : 'nunique', 'visitor_id' : 'nunique', 'revenue' : 'sum'}), axis=1).sort_values(by=['date','group'])"
   ]
  },
  {
   "cell_type": "code",
   "execution_count": 19,
   "metadata": {},
   "outputs": [],
   "source": [
    "#собираем агрегированные кумулятивные по дням данные о посетителях и сохраняем в переменную\n",
    "\n",
    "visitors_aggregated = dates_groups.apply(lambda x: visitors[np.logical_and(visitors['date'] <= x['date'], visitors['group'] == x['group'])]\n",
    "                    .agg({'date' : 'max', 'group' : 'max', 'visitors' : 'sum'}), axis=1).sort_values(by=['date','group'])"
   ]
  },
  {
   "cell_type": "code",
   "execution_count": 20,
   "metadata": {},
   "outputs": [
    {
     "data": {
      "text/html": [
       "<div>\n",
       "<style scoped>\n",
       "    .dataframe tbody tr th:only-of-type {\n",
       "        vertical-align: middle;\n",
       "    }\n",
       "\n",
       "    .dataframe tbody tr th {\n",
       "        vertical-align: top;\n",
       "    }\n",
       "\n",
       "    .dataframe thead th {\n",
       "        text-align: right;\n",
       "    }\n",
       "</style>\n",
       "<table border=\"1\" class=\"dataframe\">\n",
       "  <thead>\n",
       "    <tr style=\"text-align: right;\">\n",
       "      <th></th>\n",
       "      <th>date</th>\n",
       "      <th>group</th>\n",
       "      <th>orders</th>\n",
       "      <th>buyers</th>\n",
       "      <th>revenue</th>\n",
       "      <th>visitors</th>\n",
       "    </tr>\n",
       "  </thead>\n",
       "  <tbody>\n",
       "    <tr>\n",
       "      <td>0</td>\n",
       "      <td>2019-08-01</td>\n",
       "      <td>A</td>\n",
       "      <td>23</td>\n",
       "      <td>19</td>\n",
       "      <td>142779</td>\n",
       "      <td>719</td>\n",
       "    </tr>\n",
       "    <tr>\n",
       "      <td>1</td>\n",
       "      <td>2019-08-01</td>\n",
       "      <td>B</td>\n",
       "      <td>17</td>\n",
       "      <td>17</td>\n",
       "      <td>59758</td>\n",
       "      <td>713</td>\n",
       "    </tr>\n",
       "    <tr>\n",
       "      <td>2</td>\n",
       "      <td>2019-08-02</td>\n",
       "      <td>A</td>\n",
       "      <td>42</td>\n",
       "      <td>36</td>\n",
       "      <td>234381</td>\n",
       "      <td>1338</td>\n",
       "    </tr>\n",
       "    <tr>\n",
       "      <td>3</td>\n",
       "      <td>2019-08-02</td>\n",
       "      <td>B</td>\n",
       "      <td>40</td>\n",
       "      <td>39</td>\n",
       "      <td>221801</td>\n",
       "      <td>1294</td>\n",
       "    </tr>\n",
       "    <tr>\n",
       "      <td>4</td>\n",
       "      <td>2019-08-03</td>\n",
       "      <td>A</td>\n",
       "      <td>66</td>\n",
       "      <td>60</td>\n",
       "      <td>346854</td>\n",
       "      <td>1845</td>\n",
       "    </tr>\n",
       "  </tbody>\n",
       "</table>\n",
       "</div>"
      ],
      "text/plain": [
       "        date group  orders  buyers  revenue  visitors\n",
       "0 2019-08-01     A      23      19   142779       719\n",
       "1 2019-08-01     B      17      17    59758       713\n",
       "2 2019-08-02     A      42      36   234381      1338\n",
       "3 2019-08-02     B      40      39   221801      1294\n",
       "4 2019-08-03     A      66      60   346854      1845"
      ]
     },
     "execution_count": 20,
     "metadata": {},
     "output_type": "execute_result"
    }
   ],
   "source": [
    "#объединяем данные в одной таблице и присваиваем столбцам названия\n",
    "\n",
    "cumulative_data = orders_aggregated.merge(visitors_aggregated, left_on=['date', 'group'], right_on=['date', 'group'])\n",
    "cumulative_data.columns = ['date', 'group', 'orders', 'buyers', 'revenue', 'visitors']\n",
    "\n",
    "cumulative_data.head()"
   ]
  },
  {
   "cell_type": "markdown",
   "metadata": {},
   "source": [
    "####  График кумулятивной выручки по группам  "
   ]
  },
  {
   "cell_type": "code",
   "execution_count": 21,
   "metadata": {
    "scrolled": true
   },
   "outputs": [
    {
     "data": {
      "image/png": "[encoded data removed]",
      "text/plain": [
       "<Figure size 432x288 with 1 Axes>"
      ]
     },
     "metadata": {
      "needs_background": "light"
     },
     "output_type": "display_data"
    }
   ],
   "source": [
    "#создаем таблицу с кумулятивным количеством заказов и кумулятивной выручкой по дням в группе А\n",
    "cumulative_revenue_a = cumulative_data[cumulative_data['group']=='A'][['date','revenue', 'orders']]\n",
    "\n",
    "#создаем таблицу с кумулятивным количеством заказов и кумулятивной выручкой по дням в группе B\n",
    "cumulative_revenue_b = cumulative_data[cumulative_data['group']=='B'][['date','revenue', 'orders']]\n",
    "\n",
    "#строим график выручки группы А\n",
    "plt.plot(cumulative_revenue_a['date'], cumulative_revenue_a['revenue'], label='A')\n",
    "\n",
    "#строим график выручки группы B\n",
    "plt.plot(cumulative_revenue_b['date'], cumulative_revenue_b['revenue'], label='B')\n",
    "\n",
    "plt.legend()\n",
    "plt.xticks(rotation=45)\n",
    "plt.title('Кумулятивная выручка по группам')\n",
    "plt.ylabel('Кумулятивная выручка');"
   ]
  },
  {
   "cell_type": "markdown",
   "metadata": {},
   "source": [
    "Выручка увеличивается в течение всего теста.\n",
    "Однако график выручки группы В в одной точке резко возрастает. Это говорит о том, что в данных скорее всего есть аномальные значения."
   ]
  },
  {
   "cell_type": "markdown",
   "metadata": {},
   "source": [
    "#### График кумулятивного среднего чека по группам"
   ]
  },
  {
   "cell_type": "code",
   "execution_count": 22,
   "metadata": {
    "scrolled": true
   },
   "outputs": [
    {
     "data": {
      "image/png": "[encoded data removed]",
      "text/plain": [
       "<Figure size 432x288 with 1 Axes>"
      ]
     },
     "metadata": {
      "needs_background": "light"
     },
     "output_type": "display_data"
    }
   ],
   "source": [
    "#построим графики среднего чека по группам:делим кумулятивную выручку на кумулятивное число заказов\n",
    "\n",
    "plt.plot(cumulative_revenue_a['date'], cumulative_revenue_a['revenue']/cumulative_revenue_a['orders'], label='A')\n",
    "plt.plot(cumulative_revenue_b['date'], cumulative_revenue_b['revenue']/cumulative_revenue_b['orders'], label='B')\n",
    "plt.legend()\n",
    "plt.xticks(rotation=45)\n",
    "plt.title('Кумулятивный средний чек по группам')\n",
    "plt.ylabel('Кумулятивный средний чек');"
   ]
  },
  {
   "cell_type": "markdown",
   "metadata": {},
   "source": [
    "Средний чек гуппы В тоже резко возрастает в той же самой точке, а для группы А в начале теста виден провал значений. Возможно, в группы А и B попали аномалии. Тогда обоим группам нужно больше данных, чтобы прийти к реальному среднему чеку."
   ]
  },
  {
   "cell_type": "markdown",
   "metadata": {},
   "source": [
    "#### График относительного изменения кумулятивного среднего чека группы B к группе A"
   ]
  },
  {
   "cell_type": "code",
   "execution_count": 23,
   "metadata": {
    "scrolled": true
   },
   "outputs": [
    {
     "data": {
      "image/png": "[encoded data removed]",
      "text/plain": [
       "<Figure size 432x288 with 1 Axes>"
      ]
     },
     "metadata": {
      "needs_background": "light"
     },
     "output_type": "display_data"
    }
   ],
   "source": [
    "#собираем данные с кумулятивным количеством заказов и кумулятивной выручкой в одной таблице\n",
    "merged_cumulative_revenue = cumulative_revenue_a.merge(cumulative_revenue_b, left_on='date', right_on='date', how='left', suffixes=['A', 'B'])\n",
    "\n",
    "# cтроим график отношения средних чеков\n",
    "plt.plot(merged_cumulative_revenue['date'], (merged_cumulative_revenue['revenueB']/merged_cumulative_revenue['ordersB'])/(merged_cumulative_revenue['revenueA']/merged_cumulative_revenue['ordersA'])-1)\n",
    "\n",
    "# добавляем ось X\n",
    "plt.axhline(y=0, color='black', linestyle='--')\n",
    "plt.xticks(rotation=45)\n",
    "plt.title('Относительное изменение кумулятивного среднего чека группы B к группе A')\n",
    "plt.ylabel('Относительное изменение, %');"
   ]
  },
  {
   "cell_type": "markdown",
   "metadata": {},
   "source": [
    "В нескольких точках график различий между средними чеками резко падает и снова взлетает - это подтверждает наличие выбросов."
   ]
  },
  {
   "cell_type": "markdown",
   "metadata": {},
   "source": [
    "#### График кумулятивной конверсии по группам"
   ]
  },
  {
   "cell_type": "code",
   "execution_count": 24,
   "metadata": {
    "scrolled": true
   },
   "outputs": [
    {
     "data": {
      "image/png": "[encoded data removed]",
      "text/plain": [
       "<Figure size 432x288 with 1 Axes>"
      ]
     },
     "metadata": {
      "needs_background": "light"
     },
     "output_type": "display_data"
    }
   ],
   "source": [
    "#посчитаем кумулятивную конверсию\n",
    "cumulative_data['conversion'] = cumulative_data['orders']/cumulative_data['visitors']\n",
    "\n",
    "#запишем в отдельную таблицу данные по группе A\n",
    "cumulative_data_a = cumulative_data[cumulative_data['group']=='A']\n",
    "\n",
    "#запишем в отдельную таблицу по группе B\n",
    "cumulative_data_b = cumulative_data[cumulative_data['group']=='B']\n",
    "\n",
    "#построим графики\n",
    "plt.plot(cumulative_data_a['date'], cumulative_data_a['conversion'], label='A')\n",
    "plt.plot(cumulative_data_b['date'], cumulative_data_b['conversion'], label='B')\n",
    "plt.legend()\n",
    "plt.xticks(rotation=45)\n",
    "plt.title('Кумулятивная конверсия по группам')\n",
    "plt.ylabel('Конверсия, %');"
   ]
  },
  {
   "cell_type": "markdown",
   "metadata": {},
   "source": [
    "Группы сильно колеблются в начале теста, но затем конверсия группы B выросла, а конверсия группы A упала. Можно сказать, что группа B стабильно лучше группы A по конверсии.\n"
   ]
  },
  {
   "cell_type": "markdown",
   "metadata": {},
   "source": [
    "#### График относительного изменения кумулятивной конверсии группы B к группе A"
   ]
  },
  {
   "cell_type": "code",
   "execution_count": 25,
   "metadata": {
    "scrolled": true
   },
   "outputs": [
    {
     "data": {
      "image/png": "[encoded data removed]",
      "text/plain": [
       "<Figure size 432x288 with 1 Axes>"
      ]
     },
     "metadata": {
      "needs_background": "light"
     },
     "output_type": "display_data"
    }
   ],
   "source": [
    "#построим график относительного различия кумулятивных конверсий\n",
    "\n",
    "merged_cumulative_conversions = cumulative_data_a[['date','conversion']].merge(cumulative_data_b[['date','conversion']], left_on='date', right_on='date', how='left', suffixes=['A', 'B'])\n",
    "\n",
    "plt.plot(merged_cumulative_conversions['date'], merged_cumulative_conversions['conversionB']/merged_cumulative_conversions['conversionA']-1)\n",
    "\n",
    "plt.axhline(y=0, color='black', linestyle='--')\n",
    "plt.xticks(rotation=45)\n",
    "plt.title('Относительное изменение кумулятивной конверсии группы B к группе A')\n",
    "plt.ylabel('Относительное изменение, %');"
   ]
  },
  {
   "cell_type": "markdown",
   "metadata": {},
   "source": [
    "В начале теста конверсия группы B была значительно ниже группы A, но затем все поменялось и группа В вырвалась вперёд.\n",
    "Кажется, что отношение конверсии еще не установилось, скорее всего, делать какие-либо выводы по тесту преждевременно."
   ]
  },
  {
   "cell_type": "markdown",
   "metadata": {},
   "source": [
    "#### График количества заказов по пользователям"
   ]
  },
  {
   "cell_type": "code",
   "execution_count": 26,
   "metadata": {
    "scrolled": true
   },
   "outputs": [
    {
     "data": {
      "text/html": [
       "<div>\n",
       "<style scoped>\n",
       "    .dataframe tbody tr th:only-of-type {\n",
       "        vertical-align: middle;\n",
       "    }\n",
       "\n",
       "    .dataframe tbody tr th {\n",
       "        vertical-align: top;\n",
       "    }\n",
       "\n",
       "    .dataframe thead th {\n",
       "        text-align: right;\n",
       "    }\n",
       "</style>\n",
       "<table border=\"1\" class=\"dataframe\">\n",
       "  <thead>\n",
       "    <tr style=\"text-align: right;\">\n",
       "      <th></th>\n",
       "      <th>user_id</th>\n",
       "      <th>orders</th>\n",
       "    </tr>\n",
       "  </thead>\n",
       "  <tbody>\n",
       "    <tr>\n",
       "      <td>908</td>\n",
       "      <td>3967698036</td>\n",
       "      <td>3</td>\n",
       "    </tr>\n",
       "    <tr>\n",
       "      <td>55</td>\n",
       "      <td>249864742</td>\n",
       "      <td>3</td>\n",
       "    </tr>\n",
       "    <tr>\n",
       "      <td>478</td>\n",
       "      <td>2108163459</td>\n",
       "      <td>3</td>\n",
       "    </tr>\n",
       "    <tr>\n",
       "      <td>687</td>\n",
       "      <td>2988190573</td>\n",
       "      <td>3</td>\n",
       "    </tr>\n",
       "    <tr>\n",
       "      <td>890</td>\n",
       "      <td>3908431265</td>\n",
       "      <td>3</td>\n",
       "    </tr>\n",
       "    <tr>\n",
       "      <td>138</td>\n",
       "      <td>611059232</td>\n",
       "      <td>3</td>\n",
       "    </tr>\n",
       "    <tr>\n",
       "      <td>632</td>\n",
       "      <td>2742574263</td>\n",
       "      <td>3</td>\n",
       "    </tr>\n",
       "    <tr>\n",
       "      <td>157</td>\n",
       "      <td>678354126</td>\n",
       "      <td>2</td>\n",
       "    </tr>\n",
       "    <tr>\n",
       "      <td>323</td>\n",
       "      <td>1404560065</td>\n",
       "      <td>2</td>\n",
       "    </tr>\n",
       "    <tr>\n",
       "      <td>452</td>\n",
       "      <td>1985475298</td>\n",
       "      <td>2</td>\n",
       "    </tr>\n",
       "  </tbody>\n",
       "</table>\n",
       "</div>"
      ],
      "text/plain": [
       "        user_id  orders\n",
       "908  3967698036       3\n",
       "55    249864742       3\n",
       "478  2108163459       3\n",
       "687  2988190573       3\n",
       "890  3908431265       3\n",
       "138   611059232       3\n",
       "632  2742574263       3\n",
       "157   678354126       2\n",
       "323  1404560065       2\n",
       "452  1985475298       2"
      ]
     },
     "execution_count": 26,
     "metadata": {},
     "output_type": "execute_result"
    }
   ],
   "source": [
    "#запишем число заказов по пользователям в переменную\n",
    "orders_by_users = orders.groupby('visitor_id', as_index=False).agg({'transaction_id': 'nunique'})\n",
    "\n",
    "#назовем столбцы\n",
    "orders_by_users.columns = ['user_id', 'orders']\n",
    "\n",
    "#отсортируем по убыванию количества заказов\n",
    "orders_by_users.sort_values(by='orders', ascending=False).head(10)"
   ]
  },
  {
   "cell_type": "code",
   "execution_count": 27,
   "metadata": {
    "scrolled": false
   },
   "outputs": [
    {
     "data": {
      "image/png": "[encoded data removed]",
      "text/plain": [
       "<Figure size 432x288 with 1 Axes>"
      ]
     },
     "metadata": {
      "needs_background": "light"
     },
     "output_type": "display_data"
    }
   ],
   "source": [
    "#построим график кол-ва заказов по пользователям\n",
    "x_values = pd.Series(range(0, len(orders_by_users)))\n",
    "plt.scatter(x_values, orders_by_users['orders'])\n",
    "plt.title('График кол-ва заказов по пользователям')\n",
    "plt.ylabel('Кол-во заказов')\n",
    "plt.xlabel('Кол-во пользователей');"
   ]
  },
  {
   "cell_type": "markdown",
   "metadata": {},
   "source": [
    "Есть несколько пользователи, совершивших три заказа, при том что основная часть пользователей делала обычно один заказ. Три заказа скорее исключение, а не аномалия. Чтобы определить долю большого кол-ва заказов посчитаем 95-й и 99-й перцентили количества заказов на пользователя."
   ]
  },
  {
   "cell_type": "code",
   "execution_count": 28,
   "metadata": {},
   "outputs": [
    {
     "data": {
      "text/plain": [
       "array([1., 2.])"
      ]
     },
     "execution_count": 28,
     "metadata": {},
     "output_type": "execute_result"
    }
   ],
   "source": [
    "np.percentile(orders_by_users['orders'], [95, 99])"
   ]
  },
  {
   "cell_type": "markdown",
   "metadata": {},
   "source": [
    "Не более 5% пользователей оформляли больше чем 1 заказ, не более 1% оформляли больше 3 заказов. Аномалий не наблюдается, никаких пользователей отсеивать не будем."
   ]
  },
  {
   "cell_type": "markdown",
   "metadata": {},
   "source": [
    "#### График стоимостей заказов"
   ]
  },
  {
   "cell_type": "code",
   "execution_count": 29,
   "metadata": {
    "scrolled": true
   },
   "outputs": [
    {
     "data": {
      "image/png": "[encoded data removed]",
      "text/plain": [
       "<Figure size 432x288 with 1 Axes>"
      ]
     },
     "metadata": {
      "needs_background": "light"
     },
     "output_type": "display_data"
    }
   ],
   "source": [
    "#построим график стоимости заказов по пользователям\n",
    "x_values = pd.Series(range(0, len(orders['revenue'])))\n",
    "plt.scatter(x_values, orders['revenue'])\n",
    "plt.title('График стоимости заказов')\n",
    "plt.ylabel('Стоимость заказов')\n",
    "plt.xlabel('Кол-во пользователей');"
   ]
  },
  {
   "cell_type": "markdown",
   "metadata": {},
   "source": [
    "Цены заказов находятся в пределах примерно 100 000 рублей. Кроме двух заказов, один из которых точно аномально высок. Такие выбросы нужно удалить.  \n",
    "\n",
    "Посчитаем 95-й и 99-й перцентили стоимости заказов."
   ]
  },
  {
   "cell_type": "code",
   "execution_count": 30,
   "metadata": {},
   "outputs": [
    {
     "data": {
      "text/plain": [
       "array([26785., 53904.])"
      ]
     },
     "execution_count": 30,
     "metadata": {},
     "output_type": "execute_result"
    }
   ],
   "source": [
    "np.percentile(orders['revenue'], [95, 99])"
   ]
  },
  {
   "cell_type": "markdown",
   "metadata": {},
   "source": [
    "Не более 5% пользователей оформляли заказ стоимостью больше 27000, не более 1% оформляли заказ стоимостью выше 54000. Можно отсеять заказы дороже 54000."
   ]
  },
  {
   "cell_type": "markdown",
   "metadata": {},
   "source": [
    "#### Статистическая значимость различий в конверсии и в среднем чеке между группами по «сырым» данным\n",
    "\n",
    "Создадим новую таблицу с данными:\n",
    "\n",
    "- orders_per_date_a — количество заказов в выбранную дату в группе A;\n",
    "- revenue_per_date_a — суммарная выручка в выбранную дату в группе A;\n",
    "- orders_per_date_b — количество заказов в выбранную дату в группе B;\n",
    "- revenue_per_date_b — суммарная выручка в выбранную дату в группе B;\n",
    "- orders_cummulative_a — суммарное число заказов до выбранной даты включительно в группе A;\n",
    "- revenue_cummulative_a — суммарная выручка до выбранной даты включительно в группе A;\n",
    "- orders_cummulative_b — суммарное количество заказов до выбранной даты включительно в группе B;\n",
    "- revenue_cummulative_b — суммарная выручка до выбранной даты включительно в группе B;\n",
    "- visitors_per_date_a — количество пользователей в выбранную дату в группе A;\n",
    "- visitors_per_date_b — количество пользователей в выбранную дату в группе B;\n",
    "- visitors_cummulative_a — количество пользователей до выбранной даты включительно в группе A;\n",
    "- visitors_cummulative_b — количество пользователей до выбранной даты включительно в группе B."
   ]
  },
  {
   "cell_type": "code",
   "execution_count": 31,
   "metadata": {},
   "outputs": [
    {
     "data": {
      "text/html": [
       "<div>\n",
       "<style scoped>\n",
       "    .dataframe tbody tr th:only-of-type {\n",
       "        vertical-align: middle;\n",
       "    }\n",
       "\n",
       "    .dataframe tbody tr th {\n",
       "        vertical-align: top;\n",
       "    }\n",
       "\n",
       "    .dataframe thead th {\n",
       "        text-align: right;\n",
       "    }\n",
       "</style>\n",
       "<table border=\"1\" class=\"dataframe\">\n",
       "  <thead>\n",
       "    <tr style=\"text-align: right;\">\n",
       "      <th></th>\n",
       "      <th>date</th>\n",
       "      <th>orders_per_date_a</th>\n",
       "      <th>revenue_per_date_a</th>\n",
       "      <th>orders_per_date_b</th>\n",
       "      <th>revenue_per_date_b</th>\n",
       "      <th>orders_cummulative_a</th>\n",
       "      <th>revenue_cummulative_a</th>\n",
       "      <th>orders_cummulative_b</th>\n",
       "      <th>revenue_cummulative_b</th>\n",
       "      <th>visitors_per_date_a</th>\n",
       "      <th>visitors_per_date_b</th>\n",
       "      <th>visitors_cummulative_a</th>\n",
       "      <th>visitors_cummulative_b</th>\n",
       "    </tr>\n",
       "  </thead>\n",
       "  <tbody>\n",
       "    <tr>\n",
       "      <td>0</td>\n",
       "      <td>2019-08-01</td>\n",
       "      <td>23</td>\n",
       "      <td>142779</td>\n",
       "      <td>17</td>\n",
       "      <td>59758</td>\n",
       "      <td>23</td>\n",
       "      <td>142779</td>\n",
       "      <td>17</td>\n",
       "      <td>59758</td>\n",
       "      <td>719</td>\n",
       "      <td>713</td>\n",
       "      <td>719</td>\n",
       "      <td>713</td>\n",
       "    </tr>\n",
       "    <tr>\n",
       "      <td>1</td>\n",
       "      <td>2019-08-02</td>\n",
       "      <td>19</td>\n",
       "      <td>91602</td>\n",
       "      <td>23</td>\n",
       "      <td>162043</td>\n",
       "      <td>42</td>\n",
       "      <td>234381</td>\n",
       "      <td>40</td>\n",
       "      <td>221801</td>\n",
       "      <td>619</td>\n",
       "      <td>581</td>\n",
       "      <td>1338</td>\n",
       "      <td>1294</td>\n",
       "    </tr>\n",
       "    <tr>\n",
       "      <td>2</td>\n",
       "      <td>2019-08-03</td>\n",
       "      <td>24</td>\n",
       "      <td>112473</td>\n",
       "      <td>14</td>\n",
       "      <td>67049</td>\n",
       "      <td>66</td>\n",
       "      <td>346854</td>\n",
       "      <td>54</td>\n",
       "      <td>288850</td>\n",
       "      <td>507</td>\n",
       "      <td>509</td>\n",
       "      <td>1845</td>\n",
       "      <td>1803</td>\n",
       "    </tr>\n",
       "    <tr>\n",
       "      <td>3</td>\n",
       "      <td>2019-08-04</td>\n",
       "      <td>11</td>\n",
       "      <td>41176</td>\n",
       "      <td>14</td>\n",
       "      <td>96890</td>\n",
       "      <td>77</td>\n",
       "      <td>388030</td>\n",
       "      <td>68</td>\n",
       "      <td>385740</td>\n",
       "      <td>717</td>\n",
       "      <td>770</td>\n",
       "      <td>2562</td>\n",
       "      <td>2573</td>\n",
       "    </tr>\n",
       "    <tr>\n",
       "      <td>4</td>\n",
       "      <td>2019-08-05</td>\n",
       "      <td>22</td>\n",
       "      <td>86383</td>\n",
       "      <td>21</td>\n",
       "      <td>89908</td>\n",
       "      <td>99</td>\n",
       "      <td>474413</td>\n",
       "      <td>89</td>\n",
       "      <td>475648</td>\n",
       "      <td>756</td>\n",
       "      <td>707</td>\n",
       "      <td>3318</td>\n",
       "      <td>3280</td>\n",
       "    </tr>\n",
       "  </tbody>\n",
       "</table>\n",
       "</div>"
      ],
      "text/plain": [
       "        date  orders_per_date_a  revenue_per_date_a  orders_per_date_b  \\\n",
       "0 2019-08-01                 23              142779                 17   \n",
       "1 2019-08-02                 19               91602                 23   \n",
       "2 2019-08-03                 24              112473                 14   \n",
       "3 2019-08-04                 11               41176                 14   \n",
       "4 2019-08-05                 22               86383                 21   \n",
       "\n",
       "   revenue_per_date_b  orders_cummulative_a  revenue_cummulative_a  \\\n",
       "0               59758                    23                 142779   \n",
       "1              162043                    42                 234381   \n",
       "2               67049                    66                 346854   \n",
       "3               96890                    77                 388030   \n",
       "4               89908                    99                 474413   \n",
       "\n",
       "   orders_cummulative_b  revenue_cummulative_b  visitors_per_date_a  \\\n",
       "0                    17                  59758                  719   \n",
       "1                    40                 221801                  619   \n",
       "2                    54                 288850                  507   \n",
       "3                    68                 385740                  717   \n",
       "4                    89                 475648                  756   \n",
       "\n",
       "   visitors_per_date_b  visitors_cummulative_a  visitors_cummulative_b  \n",
       "0                  713                     719                     713  \n",
       "1                  581                    1338                    1294  \n",
       "2                  509                    1845                    1803  \n",
       "3                  770                    2562                    2573  \n",
       "4                  707                    3318                    3280  "
      ]
     },
     "execution_count": 31,
     "metadata": {},
     "output_type": "execute_result"
    }
   ],
   "source": [
    "#запишем в переменную кол-во пользователей для группы А по дням, назовем столбцы\n",
    "visitors_a_daily = visitors[visitors['group'] == 'A'][['date', 'visitors']]\n",
    "visitors_a_daily.columns = ['date', 'visitors_per_date_a']\n",
    "\n",
    "#запишем в переменную кумулятивное кол-во пользователей для группы А по дням, назовем столбцы\n",
    "visitors_a_cummulative = visitors_a_daily.apply(\n",
    "    lambda x: visitors_a_daily[visitors_a_daily['date'] <= x['date']].agg(\n",
    "        {'date': 'max', 'visitors_per_date_a': 'sum'}\n",
    "    ),\n",
    "    axis=1,\n",
    ")\n",
    "visitors_a_cummulative.columns = ['date', 'visitors_cummulative_a']\n",
    "\n",
    "#запишем в переменную кол-во пользователей для группы В по дням, назовем столбцы\n",
    "visitors_b_daily = visitors[visitors['group'] == 'B'][['date', 'visitors']]\n",
    "visitors_b_daily.columns = ['date', 'visitors_per_date_b']\n",
    "\n",
    "#запишем в переменную кумулятивное кол-во пользователей для группы В по дням, назовем столбцы\n",
    "visitors_b_cummulative = visitors_b_daily.apply(\n",
    "    lambda x: visitors_b_daily[visitors_b_daily['date'] <= x['date']].agg(\n",
    "        {'date': 'max', 'visitors_per_date_b': 'sum'}\n",
    "    ),\n",
    "    axis=1,\n",
    ")\n",
    "visitors_b_cummulative.columns = ['date', 'visitors_cummulative_b']\n",
    "\n",
    "#запишем в переменную кол-во заказов для группы А по дням, назовем столбцы\n",
    "orders_a_daily = (\n",
    "    orders[orders['group'] == 'A'][['date', 'transaction_id', 'visitor_id', 'revenue']]\n",
    "    .groupby('date', as_index=False)\n",
    "    .agg({'transaction_id': pd.Series.nunique, 'revenue': 'sum'})\n",
    ")\n",
    "orders_a_daily.columns = ['date', 'orders_per_date_a', 'revenue_per_date_a']\n",
    "\n",
    "#запишем в переменную кумулятивное кол-во заказов для группы А по дням, назовем столбцы\n",
    "orders_a_cummulative = orders_a_daily.apply(\n",
    "    lambda x: orders_a_daily[orders_a_daily['date'] <= x['date']].agg(\n",
    "        {'date': 'max', 'orders_per_date_a': 'sum', 'revenue_per_date_a': 'sum'}\n",
    "    ),\n",
    "    axis=1,\n",
    ").sort_values(by=['date'])\n",
    "orders_a_cummulative.columns = [\n",
    "    'date',\n",
    "    'orders_cummulative_a',\n",
    "    'revenue_cummulative_a',\n",
    "]\n",
    "\n",
    "#запишем в переменную кол-во заказов для группы В по дням, назовем столбцы\n",
    "orders_b_daily = (\n",
    "    orders[orders['group'] == 'B'][['date', 'transaction_id', 'visitor_id', 'revenue']]\n",
    "    .groupby('date', as_index=False)\n",
    "    .agg({'transaction_id': pd.Series.nunique, 'revenue': 'sum'})\n",
    ")\n",
    "orders_b_daily.columns = ['date', 'orders_per_date_b', 'revenue_per_date_b']\n",
    "\n",
    "#запишем в переменную кумулятивное кол-во заказов для группы В по дням, назовем столбцы\n",
    "orders_b_cummulative = orders_b_daily.apply(\n",
    "    lambda x: orders_b_daily[orders_b_daily['date'] <= x['date']].agg(\n",
    "        {'date': 'max', 'orders_per_date_b': 'sum', 'revenue_per_date_b': 'sum'}\n",
    "    ),\n",
    "    axis=1,\n",
    ").sort_values(by=['date'])\n",
    "orders_b_cummulative.columns = [\n",
    "    'date',\n",
    "    'orders_cummulative_b',\n",
    "    'revenue_cummulative_b',\n",
    "]\n",
    "\n",
    "#соединим все данные в одну таблицу\n",
    "data_new = (\n",
    "    orders_a_daily.merge(\n",
    "        orders_b_daily, left_on='date', right_on='date', how='left'\n",
    "    )\n",
    "    .merge(orders_a_cummulative, left_on='date', right_on='date', how='left')\n",
    "    .merge(orders_b_cummulative, left_on='date', right_on='date', how='left')\n",
    "    .merge(visitors_a_daily, left_on='date', right_on='date', how='left')\n",
    "    .merge(visitors_b_daily, left_on='date', right_on='date', how='left')\n",
    "    .merge(visitors_a_cummulative, left_on='date', right_on='date', how='left')\n",
    "    .merge(visitors_b_cummulative, left_on='date', right_on='date', how='left')\n",
    ")\n",
    "\n",
    "data_new.head()"
   ]
  },
  {
   "cell_type": "markdown",
   "metadata": {},
   "source": [
    "- **Посчитаем статистическую значимость различий в конверсии между группами по «сырым» данным:**\n",
    "  \n",
    "Нулевая гипотеза: статистически значимых различий в конверсии между группами нет.  \n",
    "Альтернативная гипотеза: статистически значимые различия в конверсии между группами есть.  \n",
    "Уровень статистической значимости зададим 5%."
   ]
  },
  {
   "cell_type": "code",
   "execution_count": 32,
   "metadata": {},
   "outputs": [
    {
     "data": {
      "text/plain": [
       "'0.006'"
      ]
     },
     "metadata": {},
     "output_type": "display_data"
    },
    {
     "data": {
      "text/plain": [
       "'0.160'"
      ]
     },
     "metadata": {},
     "output_type": "display_data"
    }
   ],
   "source": [
    "#cоздадим переменные, в которые запишем пользователей,\n",
    "#которые заказывали хотя бы 1 раз, укажем число совершённых заказов\n",
    "\n",
    "orders_by_users_a = (\n",
    "    orders[orders['group'] == 'A']\n",
    "    .groupby('visitor_id', as_index=False)\n",
    "    .agg({'transaction_id': pd.Series.nunique})\n",
    ")\n",
    "orders_by_users_a.columns = ['user_id', 'orders']\n",
    "\n",
    "orders_by_users_b = (\n",
    "    orders[orders['group'] == 'B']\n",
    "    .groupby('visitor_id', as_index=False)\n",
    "    .agg({'transaction_id': pd.Series.nunique})\n",
    ")\n",
    "orders_by_users_b.columns = ['user_id', 'orders']\n",
    "\n",
    "#создадим переменные, в которых пользователям из разных групп будет соответствовать\n",
    "#количество заказов: тем, кто ничего не заказал, будут соответствовать нули\n",
    "\n",
    "sample_a = pd.concat(\n",
    "    [\n",
    "        orders_by_users_a['orders'],\n",
    "        pd.Series(\n",
    "            0,\n",
    "            index=np.arange(\n",
    "                data_new['visitors_per_date_a'].sum() - len(orders_by_users_a['orders'])\n",
    "            ),\n",
    "            name='orders',\n",
    "        ),\n",
    "    ],\n",
    "    axis=0,\n",
    ")\n",
    "\n",
    "sample_b = pd.concat(\n",
    "    [\n",
    "        orders_by_users_b['orders'],\n",
    "        pd.Series(\n",
    "            0,\n",
    "            index=np.arange(\n",
    "                data_new['visitors_per_date_b'].sum() - len(orders_by_users_b['orders'])\n",
    "            ),\n",
    "            name='orders',\n",
    "        ),\n",
    "    ],\n",
    "    axis=0,\n",
    ")\n",
    "\n",
    "#рассчитаем статистическую значимость различий в конверсии между группами по «сырым» данным\n",
    "display(\"{0:.3f}\".format(st.mannwhitneyu(sample_a, sample_b)[1]))\n",
    "\n",
    "#выведем относительный прирост конверсии группы B\n",
    "display(\"{0:.3f}\".format(sample_b.mean() / sample_a.mean() - 1))"
   ]
  },
  {
   "cell_type": "markdown",
   "metadata": {},
   "source": [
    "**Вывод:**  \n",
    "Первое число — p-value = 0.006 меньше 5%. Следовательно, нулевую гипотезу о том, что статистически значимых различий в конверсии между группами нет, отвергаем. Относительный прирост группы B равеный 16% это подтверждает."
   ]
  },
  {
   "cell_type": "markdown",
   "metadata": {},
   "source": [
    "- **Посчитаем статистическую значимость различий в среднем чеке между группами по «сырым» данным:**   \n",
    "\n",
    "Нулевая гипотеза: статистически значимых различий в среднем чеке между группами нет.   \n",
    "Альтернативная гипотеза: статистически значимые различия в среднем чеке между группами есть.     \n",
    "Уровень статистической значимости зададим 5%."
   ]
  },
  {
   "cell_type": "code",
   "execution_count": 33,
   "metadata": {},
   "outputs": [
    {
     "data": {
      "text/plain": [
       "'0.415'"
      ]
     },
     "metadata": {},
     "output_type": "display_data"
    },
    {
     "data": {
      "text/plain": [
       "'0.287'"
      ]
     },
     "metadata": {},
     "output_type": "display_data"
    }
   ],
   "source": [
    "#рассчитаем статистическую значимость различий в среднем чеке между группами по «сырым» данным\n",
    "display('{0:.3f}'.format(st.mannwhitneyu(orders[orders['group']=='A']['revenue'], orders[orders['group']=='B']['revenue'])[1]))\n",
    "\n",
    "#выведем относительный прирост среднего чека группы B\n",
    "display('{0:.3f}'.format(orders[orders['group']=='B']['revenue'].mean()/orders[orders['group']=='A']['revenue'].mean()-1))"
   ]
  },
  {
   "cell_type": "markdown",
   "metadata": {},
   "source": [
    "P-value значительно больше 5%. Следовательно, нулевую гипотезу не отвергаем и считаем, что в среднем чеке нет различий. Хотя, средний чек группы B значительно выше среднего чека группы A."
   ]
  },
  {
   "cell_type": "markdown",
   "metadata": {},
   "source": [
    "#### Статистическая значимость различий в конверсии и в среднем чеке между группами по «очищенным» данным   "
   ]
  },
  {
   "cell_type": "markdown",
   "metadata": {},
   "source": [
    "Сначала очистим данные.  \n",
    "Примем за аномальных пользователей тех, кто совершил заказ дороже 54000 рублей - уберем 1% пользователей с дорогими заказами."
   ]
  },
  {
   "cell_type": "code",
   "execution_count": 34,
   "metadata": {},
   "outputs": [
    {
     "data": {
      "text/plain": [
       "(9,)"
      ]
     },
     "execution_count": 34,
     "metadata": {},
     "output_type": "execute_result"
    }
   ],
   "source": [
    "users_with_expensive_orders = orders[orders['revenue'] > 54000]['visitor_id']\n",
    "users_with_expensive_orders.shape"
   ]
  },
  {
   "cell_type": "markdown",
   "metadata": {},
   "source": [
    "- **Посчитаем статистическую значимость различий в конверсии между группами по «очищенным» данным:**  \n",
    "\n",
    "Нулевая гипотеза: статистически значимых различий в конверсии между группами нет.  \n",
    "Альтернативная гипотеза: статистически значимые различия в конверсии между группами есть.  \n",
    "Уровень статистической значимости зададим 5%."
   ]
  },
  {
   "cell_type": "code",
   "execution_count": 35,
   "metadata": {},
   "outputs": [
    {
     "data": {
      "text/plain": [
       "'0.005'"
      ]
     },
     "metadata": {},
     "output_type": "display_data"
    },
    {
     "data": {
      "text/plain": [
       "'0.164'"
      ]
     },
     "metadata": {},
     "output_type": "display_data"
    }
   ],
   "source": [
    "#подготовим выборки количества заказов по пользователям по группам теста\n",
    "sample_a_filtered = pd.concat(\n",
    "    [\n",
    "        orders_by_users_a[\n",
    "            np.logical_not(orders_by_users_a['user_id'].isin(users_with_expensive_orders))\n",
    "        ]['orders'],\n",
    "        pd.Series(\n",
    "            0,\n",
    "            index=np.arange(\n",
    "                data_new['visitors_per_date_a'].sum() - len(orders_by_users_a['orders'])\n",
    "            ),\n",
    "            name='orders',\n",
    "        ),\n",
    "    ],\n",
    "    axis=0,\n",
    ")\n",
    "\n",
    "sample_b_filtered = pd.concat(\n",
    "    [\n",
    "        orders_by_users_b[\n",
    "            np.logical_not(orders_by_users_b['user_id'].isin(users_with_expensive_orders))\n",
    "        ]['orders'],\n",
    "        pd.Series(\n",
    "            0,\n",
    "            index=np.arange(\n",
    "                data_new['visitors_per_date_b'].sum() - len(orders_by_users_b['orders'])\n",
    "            ),\n",
    "            name='orders',\n",
    "        ),\n",
    "    ],\n",
    "    axis=0,\n",
    ")\n",
    "\n",
    "#рассчитаем статистическую значимость различий в конверсии между группами по «очищенным» данным\n",
    "display('{0:.3f}'.format(st.mannwhitneyu(sample_a_filtered, sample_b_filtered)[1]))\n",
    "\n",
    "#выведем относительный прирост конверсии группы B\n",
    "display('{0:.3f}'.format(sample_b_filtered.mean()/sample_a_filtered.mean()-1))"
   ]
  },
  {
   "cell_type": "markdown",
   "metadata": {},
   "source": [
    "Результаты по конверсии практически не изменились по сравнению с «сырыми» данными."
   ]
  },
  {
   "cell_type": "markdown",
   "metadata": {},
   "source": [
    "- **Посчитаем статистическую значимость различий в среднем чеке между группами по «очищенным» данным:**  \n",
    "\n",
    "Нулевая гипотеза: статистически значимых различий в среднем чеке между группами нет.   \n",
    "Альтернативная гипотеза: статистически значимые различия в среднем чеке между группами есть.   \n",
    "Уровень статистической значимости зададим 5%."
   ]
  },
  {
   "cell_type": "code",
   "execution_count": 36,
   "metadata": {},
   "outputs": [
    {
     "data": {
      "text/plain": [
       "'0.450'"
      ]
     },
     "metadata": {},
     "output_type": "display_data"
    },
    {
     "data": {
      "text/plain": [
       "'-0.032'"
      ]
     },
     "metadata": {},
     "output_type": "display_data"
    }
   ],
   "source": [
    "#рассчитаем статистическую значимость различий в среднем чеке между группами по «очищенным» данным\n",
    "display(\n",
    "    '{0:.3f}'.format(\n",
    "        st.mannwhitneyu(\n",
    "            orders[\n",
    "                np.logical_and(\n",
    "                    orders['group'] == 'A',\n",
    "                    np.logical_not(orders['visitor_id'].isin(users_with_expensive_orders)),\n",
    "                )\n",
    "            ]['revenue'],\n",
    "            orders[\n",
    "                np.logical_and(\n",
    "                    orders['group'] == 'B',\n",
    "                    np.logical_not(orders['visitor_id'].isin(users_with_expensive_orders)),\n",
    "                )\n",
    "            ]['revenue'],\n",
    "        )[1]\n",
    "    )\n",
    ")\n",
    "\n",
    "#выведем относительный прирост среднего чека группы B\n",
    "display(\n",
    "    \"{0:.3f}\".format(\n",
    "        orders[\n",
    "            np.logical_and(\n",
    "                orders['group'] == 'B',\n",
    "                np.logical_not(orders['visitor_id'].isin(users_with_expensive_orders)),\n",
    "            )\n",
    "        ]['revenue'].mean()\n",
    "        / orders[\n",
    "            np.logical_and(\n",
    "                orders['group'] == 'A',\n",
    "                np.logical_not(orders['visitor_id'].isin(users_with_expensive_orders)),\n",
    "            )\n",
    "        ]['revenue'].mean()\n",
    "        - 1\n",
    "    )\n",
    ")"
   ]
  },
  {
   "cell_type": "markdown",
   "metadata": {},
   "source": [
    "Нулевая гипотеза также подтверждена, кроме этого относительный прирост среднего чека группы B упал, значит на него влияли выбросы."
   ]
  },
  {
   "cell_type": "markdown",
   "metadata": {},
   "source": [
    "#### Вывод  \n",
    "\n",
    "Тест можно остановить и признать успешным, так конверсия в группе "
   ]
  },
  {
   "cell_type": "markdown",
   "metadata": {},
   "source": [
    "## Итоги исследования"
   ]
  },
  {
   "cell_type": "markdown",
   "metadata": {},
   "source": [
    "Прежде чем исследовать данные, приоритизировать гипотезы и проанализировать результаты А/В тестов, мы ознакомились с данными, проверили их корректность, привели к единому стилю написание столбцов, изменили некоторые типы данных.  \n",
    "\n",
    "Исследуя данные, определили что:  \n",
    "- После приоритезации гипотез с помощью фрэймворков ICE и RICE определили седьмую гипотезу как наилучшую для увеличения выручки интернет-магазина: 'Добавить форму подписки на все основные страницы, чтобы собрать базу клиентов для email-рассылок'."
   ]
  },
  {
   "attachments": {
    "image.png": {
     "image/png": "[encoded data removed]"
    }
   },
   "cell_type": "markdown",
   "metadata": {},
   "source": [
    "После проведения А/В тестов:\n",
    "- Cтатистически значимые различия по конверсии между группами есть как по «сырым», так и по очищенным данным, конверсия в группе В лучше, это подтверждает и график различия конверсии между группами  \n",
    "\n",
    "![image.png](attachment:image.png)"
   ]
  },
  {
   "attachments": {
    "image.png": {
     "image/png": "[encoded data removed]"
    }
   },
   "cell_type": "markdown",
   "metadata": {},
   "source": [
    "- Нет статистически значимого различия по среднему чеку между группами ни по «сырым», ни по данным после фильтрации аномалий, а график различия среднего чека говорит о том, что результаты группы B после небольшого подьема, начали падать, а на резкие колебания повлияли аномалии.\n",
    "\n",
    "![image.png](attachment:image.png)"
   ]
  },
  {
   "cell_type": "markdown",
   "metadata": {},
   "source": [
    "Исходя из полученных данных, принимаем решение остановить тест и признать его успешным, так как конверсия пользователей в покупатели в группе В к концу теста увеличилась примерно на 17% и зафиксировалась. При том что средний чек остался примено таким же, как в группе А, выручка все таки увеличилась."
   ]
  },
  {
   "cell_type": "code",
   "execution_count": null,
   "metadata": {},
   "outputs": [],
   "source": []
  }
 ],
 "metadata": {
  "ExecuteTimeLog": [
   {
    "duration": 123,
    "start_time": "2022-03-02T07:51:38.427Z"
   },
   {
    "duration": 1432,
    "start_time": "2022-03-02T07:51:51.207Z"
   },
   {
    "duration": 4,
    "start_time": "2022-03-02T07:51:56.470Z"
   },
   {
    "duration": 34,
    "start_time": "2022-03-02T07:55:11.300Z"
   },
   {
    "duration": 22,
    "start_time": "2022-03-02T07:55:18.615Z"
   },
   {
    "duration": 11,
    "start_time": "2022-03-02T07:56:02.350Z"
   },
   {
    "duration": 6798,
    "start_time": "2022-03-02T08:06:45.104Z"
   },
   {
    "duration": 7421,
    "start_time": "2022-03-02T08:07:13.707Z"
   },
   {
    "duration": 16,
    "start_time": "2022-03-02T08:07:44.434Z"
   },
   {
    "duration": 15,
    "start_time": "2022-03-02T08:08:03.348Z"
   },
   {
    "duration": 16,
    "start_time": "2022-03-02T08:08:44.470Z"
   },
   {
    "duration": 17,
    "start_time": "2022-03-02T08:09:15.014Z"
   },
   {
    "duration": 21,
    "start_time": "2022-03-02T08:09:50.547Z"
   },
   {
    "duration": 36,
    "start_time": "2022-03-02T08:13:22.971Z"
   },
   {
    "duration": 683,
    "start_time": "2022-03-02T08:21:41.820Z"
   },
   {
    "duration": 295,
    "start_time": "2022-03-02T08:22:39.897Z"
   },
   {
    "duration": 746,
    "start_time": "2022-03-02T08:25:10.560Z"
   },
   {
    "duration": 56,
    "start_time": "2022-03-02T08:25:54.627Z"
   },
   {
    "duration": 46,
    "start_time": "2022-03-02T08:32:31.575Z"
   },
   {
    "duration": 58,
    "start_time": "2022-03-02T08:34:55.258Z"
   },
   {
    "duration": 6,
    "start_time": "2022-03-02T08:40:27.550Z"
   },
   {
    "duration": 37,
    "start_time": "2022-03-02T08:41:36.965Z"
   },
   {
    "duration": 7,
    "start_time": "2022-03-02T08:42:44.948Z"
   },
   {
    "duration": 8,
    "start_time": "2022-03-02T08:44:47.946Z"
   },
   {
    "duration": 8,
    "start_time": "2022-03-02T08:45:15.834Z"
   },
   {
    "duration": 12,
    "start_time": "2022-03-02T08:50:32.451Z"
   },
   {
    "duration": 7,
    "start_time": "2022-03-02T08:54:00.216Z"
   },
   {
    "duration": 9,
    "start_time": "2022-03-02T08:54:19.096Z"
   },
   {
    "duration": 294,
    "start_time": "2022-03-02T08:57:05.307Z"
   },
   {
    "duration": 276,
    "start_time": "2022-03-02T08:57:28.306Z"
   },
   {
    "duration": 274,
    "start_time": "2022-03-02T08:57:57.357Z"
   },
   {
    "duration": 294,
    "start_time": "2022-03-02T08:58:03.046Z"
   },
   {
    "duration": 370,
    "start_time": "2022-03-02T08:59:12.706Z"
   },
   {
    "duration": 277,
    "start_time": "2022-03-02T08:59:52.639Z"
   },
   {
    "duration": 465,
    "start_time": "2022-03-02T09:00:09.047Z"
   },
   {
    "duration": 339,
    "start_time": "2022-03-02T09:00:18.482Z"
   },
   {
    "duration": 326,
    "start_time": "2022-03-02T09:00:24.557Z"
   },
   {
    "duration": 309,
    "start_time": "2022-03-02T09:00:32.264Z"
   },
   {
    "duration": 269,
    "start_time": "2022-03-02T09:21:56.440Z"
   },
   {
    "duration": 24,
    "start_time": "2022-03-02T09:22:21.809Z"
   },
   {
    "duration": 4,
    "start_time": "2022-03-02T09:24:22.703Z"
   },
   {
    "duration": 9,
    "start_time": "2022-03-02T09:24:22.711Z"
   },
   {
    "duration": 24,
    "start_time": "2022-03-02T09:24:22.822Z"
   },
   {
    "duration": 10,
    "start_time": "2022-03-02T09:24:22.849Z"
   },
   {
    "duration": 10,
    "start_time": "2022-03-02T09:24:22.862Z"
   },
   {
    "duration": 57,
    "start_time": "2022-03-02T09:24:22.876Z"
   },
   {
    "duration": 59,
    "start_time": "2022-03-02T09:24:22.976Z"
   },
   {
    "duration": 7,
    "start_time": "2022-03-02T09:24:23.038Z"
   },
   {
    "duration": 42,
    "start_time": "2022-03-02T09:24:23.047Z"
   },
   {
    "duration": 11,
    "start_time": "2022-03-02T09:24:23.093Z"
   },
   {
    "duration": 8,
    "start_time": "2022-03-02T09:24:23.118Z"
   },
   {
    "duration": 396,
    "start_time": "2022-03-02T09:24:23.130Z"
   },
   {
    "duration": 319,
    "start_time": "2022-03-02T09:24:23.530Z"
   },
   {
    "duration": 21,
    "start_time": "2022-03-02T09:24:44.744Z"
   },
   {
    "duration": 13,
    "start_time": "2022-03-02T09:25:07.186Z"
   },
   {
    "duration": 8,
    "start_time": "2022-03-02T10:45:17.191Z"
   },
   {
    "duration": 5,
    "start_time": "2022-03-02T10:45:20.694Z"
   },
   {
    "duration": 6,
    "start_time": "2022-03-02T10:45:20.701Z"
   },
   {
    "duration": 22,
    "start_time": "2022-03-02T10:45:20.710Z"
   },
   {
    "duration": 9,
    "start_time": "2022-03-02T10:45:20.735Z"
   },
   {
    "duration": 8,
    "start_time": "2022-03-02T10:45:20.746Z"
   },
   {
    "duration": 40,
    "start_time": "2022-03-02T10:45:20.773Z"
   },
   {
    "duration": 63,
    "start_time": "2022-03-02T10:45:20.816Z"
   },
   {
    "duration": 7,
    "start_time": "2022-03-02T10:45:20.883Z"
   },
   {
    "duration": 29,
    "start_time": "2022-03-02T10:45:20.892Z"
   },
   {
    "duration": 52,
    "start_time": "2022-03-02T10:45:20.923Z"
   },
   {
    "duration": 9,
    "start_time": "2022-03-02T10:45:20.978Z"
   },
   {
    "duration": 366,
    "start_time": "2022-03-02T10:45:20.990Z"
   },
   {
    "duration": 284,
    "start_time": "2022-03-02T10:45:21.358Z"
   },
   {
    "duration": 356,
    "start_time": "2022-03-02T11:02:10.451Z"
   },
   {
    "duration": 5,
    "start_time": "2022-03-02T11:03:23.923Z"
   },
   {
    "duration": 6,
    "start_time": "2022-03-02T11:03:36.475Z"
   },
   {
    "duration": 298,
    "start_time": "2022-03-02T11:16:56.309Z"
   },
   {
    "duration": 1375,
    "start_time": "2022-03-02T11:17:44.774Z"
   },
   {
    "duration": 4,
    "start_time": "2022-03-02T11:17:46.151Z"
   },
   {
    "duration": 42,
    "start_time": "2022-03-02T11:17:46.157Z"
   },
   {
    "duration": 12,
    "start_time": "2022-03-02T11:17:46.202Z"
   },
   {
    "duration": 14,
    "start_time": "2022-03-02T11:17:46.216Z"
   },
   {
    "duration": 48,
    "start_time": "2022-03-02T11:17:46.233Z"
   },
   {
    "duration": 55,
    "start_time": "2022-03-02T11:17:46.283Z"
   },
   {
    "duration": 7,
    "start_time": "2022-03-02T11:17:46.342Z"
   },
   {
    "duration": 43,
    "start_time": "2022-03-02T11:17:46.351Z"
   },
   {
    "duration": 12,
    "start_time": "2022-03-02T11:17:46.397Z"
   },
   {
    "duration": 8,
    "start_time": "2022-03-02T11:17:46.411Z"
   },
   {
    "duration": 397,
    "start_time": "2022-03-02T11:17:46.421Z"
   },
   {
    "duration": 337,
    "start_time": "2022-03-02T11:17:46.821Z"
   },
   {
    "duration": 425,
    "start_time": "2022-03-02T11:17:47.161Z"
   },
   {
    "duration": 2002,
    "start_time": "2022-03-02T11:17:45.588Z"
   },
   {
    "duration": 198,
    "start_time": "2022-03-02T11:18:30.076Z"
   },
   {
    "duration": 15,
    "start_time": "2022-03-02T11:19:12.317Z"
   },
   {
    "duration": 1112,
    "start_time": "2022-03-02T11:19:36.999Z"
   },
   {
    "duration": 14,
    "start_time": "2022-03-02T11:19:49.317Z"
   },
   {
    "duration": 207,
    "start_time": "2022-03-02T11:23:08.454Z"
   },
   {
    "duration": 15,
    "start_time": "2022-03-02T11:23:16.992Z"
   },
   {
    "duration": 372,
    "start_time": "2022-03-02T11:32:32.587Z"
   },
   {
    "duration": 364,
    "start_time": "2022-03-02T11:32:42.287Z"
   },
   {
    "duration": 7,
    "start_time": "2022-03-02T11:37:36.876Z"
   },
   {
    "duration": 129,
    "start_time": "2022-03-02T11:56:49.282Z"
   },
   {
    "duration": 7058,
    "start_time": "2022-03-02T11:57:22.326Z"
   },
   {
    "duration": 400,
    "start_time": "2022-03-02T11:58:39.105Z"
   },
   {
    "duration": 8,
    "start_time": "2022-03-02T12:00:28.039Z"
   },
   {
    "duration": 1241,
    "start_time": "2022-03-02T12:07:24.563Z"
   },
   {
    "duration": 5,
    "start_time": "2022-03-02T12:07:57.013Z"
   },
   {
    "duration": 8,
    "start_time": "2022-03-02T12:07:57.020Z"
   },
   {
    "duration": 25,
    "start_time": "2022-03-02T12:07:57.031Z"
   },
   {
    "duration": 11,
    "start_time": "2022-03-02T12:07:57.058Z"
   },
   {
    "duration": 7,
    "start_time": "2022-03-02T12:07:57.145Z"
   },
   {
    "duration": 42,
    "start_time": "2022-03-02T12:07:57.155Z"
   },
   {
    "duration": 75,
    "start_time": "2022-03-02T12:07:57.200Z"
   },
   {
    "duration": 8,
    "start_time": "2022-03-02T12:07:57.278Z"
   },
   {
    "duration": 24,
    "start_time": "2022-03-02T12:07:57.288Z"
   },
   {
    "duration": 12,
    "start_time": "2022-03-02T12:07:57.314Z"
   },
   {
    "duration": 8,
    "start_time": "2022-03-02T12:07:57.373Z"
   },
   {
    "duration": 346,
    "start_time": "2022-03-02T12:07:57.385Z"
   },
   {
    "duration": 411,
    "start_time": "2022-03-02T12:07:57.734Z"
   },
   {
    "duration": 1146,
    "start_time": "2022-03-02T12:07:58.147Z"
   },
   {
    "duration": -195,
    "start_time": "2022-03-02T12:07:59.491Z"
   },
   {
    "duration": -195,
    "start_time": "2022-03-02T12:07:59.493Z"
   },
   {
    "duration": -195,
    "start_time": "2022-03-02T12:07:59.495Z"
   },
   {
    "duration": -196,
    "start_time": "2022-03-02T12:07:59.498Z"
   },
   {
    "duration": 1115,
    "start_time": "2022-03-02T12:08:20.318Z"
   },
   {
    "duration": 19,
    "start_time": "2022-03-02T12:08:56.147Z"
   },
   {
    "duration": 17,
    "start_time": "2022-03-02T12:09:08.213Z"
   },
   {
    "duration": 16,
    "start_time": "2022-03-02T12:09:12.711Z"
   },
   {
    "duration": 922,
    "start_time": "2022-03-03T05:07:42.944Z"
   },
   {
    "duration": 3,
    "start_time": "2022-03-03T05:07:43.868Z"
   },
   {
    "duration": 35,
    "start_time": "2022-03-03T05:07:43.873Z"
   },
   {
    "duration": 7,
    "start_time": "2022-03-03T05:07:43.909Z"
   },
   {
    "duration": 6,
    "start_time": "2022-03-03T05:07:43.918Z"
   },
   {
    "duration": 28,
    "start_time": "2022-03-03T05:07:43.925Z"
   },
   {
    "duration": 60,
    "start_time": "2022-03-03T05:07:43.955Z"
   },
   {
    "duration": 5,
    "start_time": "2022-03-03T05:07:44.017Z"
   },
   {
    "duration": 17,
    "start_time": "2022-03-03T05:07:44.024Z"
   },
   {
    "duration": 6,
    "start_time": "2022-03-03T05:07:44.043Z"
   },
   {
    "duration": 5,
    "start_time": "2022-03-03T05:07:44.051Z"
   },
   {
    "duration": 211,
    "start_time": "2022-03-03T05:07:44.057Z"
   },
   {
    "duration": 157,
    "start_time": "2022-03-03T05:07:44.269Z"
   },
   {
    "duration": 9,
    "start_time": "2022-03-03T05:07:44.428Z"
   },
   {
    "duration": 251,
    "start_time": "2022-03-03T05:07:44.438Z"
   },
   {
    "duration": 14,
    "start_time": "2022-03-03T05:07:44.691Z"
   },
   {
    "duration": 289,
    "start_time": "2022-03-03T05:07:44.706Z"
   },
   {
    "duration": 5,
    "start_time": "2022-03-03T05:07:45.004Z"
   },
   {
    "duration": 6,
    "start_time": "2022-03-03T05:21:56.935Z"
   },
   {
    "duration": 166,
    "start_time": "2022-03-03T05:22:01.482Z"
   },
   {
    "duration": 138,
    "start_time": "2022-03-03T05:22:03.977Z"
   },
   {
    "duration": 12,
    "start_time": "2022-03-03T05:22:06.152Z"
   },
   {
    "duration": 168,
    "start_time": "2022-03-03T05:24:32.453Z"
   },
   {
    "duration": 169,
    "start_time": "2022-03-03T05:28:20.494Z"
   },
   {
    "duration": 156,
    "start_time": "2022-03-03T05:30:48.669Z"
   },
   {
    "duration": 171,
    "start_time": "2022-03-03T05:31:02.942Z"
   },
   {
    "duration": 5928,
    "start_time": "2022-03-03T05:39:30.948Z"
   },
   {
    "duration": 308,
    "start_time": "2022-03-03T05:40:57.897Z"
   },
   {
    "duration": 335,
    "start_time": "2022-03-03T05:41:11.009Z"
   },
   {
    "duration": 6,
    "start_time": "2022-03-03T06:08:44.493Z"
   },
   {
    "duration": 183,
    "start_time": "2022-03-03T06:13:03.256Z"
   },
   {
    "duration": 177,
    "start_time": "2022-03-03T06:13:26.034Z"
   },
   {
    "duration": 315,
    "start_time": "2022-03-03T06:16:41.807Z"
   },
   {
    "duration": 270,
    "start_time": "2022-03-03T06:16:55.954Z"
   },
   {
    "duration": 293,
    "start_time": "2022-03-03T06:17:48.502Z"
   },
   {
    "duration": 291,
    "start_time": "2022-03-03T06:18:04.386Z"
   },
   {
    "duration": 263,
    "start_time": "2022-03-03T06:23:14.024Z"
   },
   {
    "duration": 234,
    "start_time": "2022-03-03T06:52:15.526Z"
   },
   {
    "duration": 120,
    "start_time": "2022-03-03T06:58:13.791Z"
   },
   {
    "duration": 6095,
    "start_time": "2022-03-03T07:04:24.714Z"
   },
   {
    "duration": 330,
    "start_time": "2022-03-03T07:05:41.783Z"
   },
   {
    "duration": 118,
    "start_time": "2022-03-03T07:06:53.845Z"
   },
   {
    "duration": 11,
    "start_time": "2022-03-03T07:08:20.592Z"
   },
   {
    "duration": 284,
    "start_time": "2022-03-03T07:11:04.666Z"
   },
   {
    "duration": 12,
    "start_time": "2022-03-03T07:18:02.137Z"
   },
   {
    "duration": 14,
    "start_time": "2022-03-03T07:22:27.278Z"
   },
   {
    "duration": 16,
    "start_time": "2022-03-03T07:24:26.061Z"
   },
   {
    "duration": 981,
    "start_time": "2022-03-07T03:54:49.367Z"
   },
   {
    "duration": 3,
    "start_time": "2022-03-07T03:54:50.350Z"
   },
   {
    "duration": 24,
    "start_time": "2022-03-07T03:54:50.355Z"
   },
   {
    "duration": 7,
    "start_time": "2022-03-07T03:54:50.381Z"
   },
   {
    "duration": 6,
    "start_time": "2022-03-07T03:54:50.390Z"
   },
   {
    "duration": 45,
    "start_time": "2022-03-07T03:54:50.398Z"
   },
   {
    "duration": 48,
    "start_time": "2022-03-07T03:54:50.445Z"
   },
   {
    "duration": 5,
    "start_time": "2022-03-07T03:54:50.496Z"
   },
   {
    "duration": 31,
    "start_time": "2022-03-07T03:54:50.503Z"
   },
   {
    "duration": 10,
    "start_time": "2022-03-07T03:54:50.536Z"
   },
   {
    "duration": 6,
    "start_time": "2022-03-07T03:54:50.548Z"
   },
   {
    "duration": 228,
    "start_time": "2022-03-07T03:54:50.556Z"
   },
   {
    "duration": 158,
    "start_time": "2022-03-07T03:54:50.786Z"
   },
   {
    "duration": 8,
    "start_time": "2022-03-07T03:54:53.400Z"
   },
   {
    "duration": 4,
    "start_time": "2022-03-07T03:54:55.124Z"
   },
   {
    "duration": 8,
    "start_time": "2022-03-07T03:55:15.197Z"
   },
   {
    "duration": 5,
    "start_time": "2022-03-07T03:59:17.825Z"
   },
   {
    "duration": 185,
    "start_time": "2022-03-07T03:59:17.832Z"
   },
   {
    "duration": 156,
    "start_time": "2022-03-07T03:59:18.019Z"
   },
   {
    "duration": 11,
    "start_time": "2022-03-07T03:59:18.176Z"
   },
   {
    "duration": 185,
    "start_time": "2022-03-07T03:59:18.189Z"
   },
   {
    "duration": 181,
    "start_time": "2022-03-07T03:59:18.375Z"
   },
   {
    "duration": 268,
    "start_time": "2022-03-07T03:59:18.559Z"
   },
   {
    "duration": 186,
    "start_time": "2022-03-07T03:59:18.833Z"
   },
   {
    "duration": 294,
    "start_time": "2022-03-07T03:59:19.021Z"
   },
   {
    "duration": 18,
    "start_time": "2022-03-07T03:59:19.317Z"
   },
   {
    "duration": 274,
    "start_time": "2022-03-07T03:59:19.336Z"
   },
   {
    "duration": 4,
    "start_time": "2022-03-07T03:59:19.612Z"
   },
   {
    "duration": 282,
    "start_time": "2022-03-07T03:59:19.617Z"
   },
   {
    "duration": 4,
    "start_time": "2022-03-07T03:59:19.901Z"
   },
   {
    "duration": 342,
    "start_time": "2022-03-07T03:59:19.907Z"
   },
   {
    "duration": 116,
    "start_time": "2022-03-07T03:59:20.251Z"
   },
   {
    "duration": 10,
    "start_time": "2022-03-07T03:59:20.369Z"
   },
   {
    "duration": 9,
    "start_time": "2022-03-07T03:59:20.380Z"
   },
   {
    "duration": 13,
    "start_time": "2022-03-07T03:59:20.391Z"
   },
   {
    "duration": 39,
    "start_time": "2022-03-07T03:59:20.406Z"
   },
   {
    "duration": 229,
    "start_time": "2022-03-07T04:25:11.002Z"
   },
   {
    "duration": 5,
    "start_time": "2022-03-07T04:25:26.438Z"
   },
   {
    "duration": 4,
    "start_time": "2022-03-07T04:26:41.576Z"
   },
   {
    "duration": 5,
    "start_time": "2022-03-07T04:26:46.927Z"
   },
   {
    "duration": 6,
    "start_time": "2022-03-07T04:27:56.669Z"
   },
   {
    "duration": 14,
    "start_time": "2022-03-07T04:28:41.677Z"
   },
   {
    "duration": 5,
    "start_time": "2022-03-07T04:28:57.917Z"
   },
   {
    "duration": 15,
    "start_time": "2022-03-07T04:29:01.408Z"
   },
   {
    "duration": 16,
    "start_time": "2022-03-07T04:30:59.995Z"
   },
   {
    "duration": 129,
    "start_time": "2022-03-07T04:57:40.637Z"
   },
   {
    "duration": 3076,
    "start_time": "2022-03-07T04:58:33.067Z"
   },
   {
    "duration": 138,
    "start_time": "2022-03-07T04:59:01.633Z"
   },
   {
    "duration": 2992,
    "start_time": "2022-03-07T04:59:51.166Z"
   },
   {
    "duration": 127,
    "start_time": "2022-03-07T05:01:45.079Z"
   },
   {
    "duration": 3056,
    "start_time": "2022-03-07T05:02:13.706Z"
   },
   {
    "duration": 4,
    "start_time": "2022-03-07T05:04:04.470Z"
   },
   {
    "duration": 200,
    "start_time": "2022-03-07T05:09:59.432Z"
   },
   {
    "duration": 191,
    "start_time": "2022-03-07T05:10:20.281Z"
   },
   {
    "duration": 186,
    "start_time": "2022-03-07T05:10:59.004Z"
   },
   {
    "duration": 325,
    "start_time": "2022-03-07T05:12:02.008Z"
   },
   {
    "duration": 320,
    "start_time": "2022-03-07T05:12:21.435Z"
   },
   {
    "duration": 191,
    "start_time": "2022-03-07T05:14:19.437Z"
   },
   {
    "duration": 322,
    "start_time": "2022-03-07T05:16:36.331Z"
   },
   {
    "duration": 268,
    "start_time": "2022-03-07T05:18:24.289Z"
   },
   {
    "duration": 289,
    "start_time": "2022-03-07T05:18:37.800Z"
   },
   {
    "duration": 283,
    "start_time": "2022-03-07T05:19:35.566Z"
   },
   {
    "duration": 382,
    "start_time": "2022-03-07T05:20:14.257Z"
   },
   {
    "duration": 996,
    "start_time": "2022-03-07T05:53:17.518Z"
   },
   {
    "duration": 2,
    "start_time": "2022-03-07T05:53:18.516Z"
   },
   {
    "duration": 27,
    "start_time": "2022-03-07T05:53:18.520Z"
   },
   {
    "duration": 7,
    "start_time": "2022-03-07T05:53:18.549Z"
   },
   {
    "duration": 7,
    "start_time": "2022-03-07T05:53:18.557Z"
   },
   {
    "duration": 24,
    "start_time": "2022-03-07T05:53:18.566Z"
   },
   {
    "duration": 3,
    "start_time": "2022-03-07T05:53:18.592Z"
   },
   {
    "duration": 46,
    "start_time": "2022-03-07T05:53:18.598Z"
   },
   {
    "duration": 4,
    "start_time": "2022-03-07T05:53:18.646Z"
   },
   {
    "duration": 14,
    "start_time": "2022-03-07T05:53:18.651Z"
   },
   {
    "duration": 11,
    "start_time": "2022-03-07T05:53:18.666Z"
   },
   {
    "duration": 5,
    "start_time": "2022-03-07T05:53:18.678Z"
   },
   {
    "duration": 225,
    "start_time": "2022-03-07T05:53:18.684Z"
   },
   {
    "duration": 169,
    "start_time": "2022-03-07T05:53:18.910Z"
   },
   {
    "duration": 8,
    "start_time": "2022-03-07T05:53:19.081Z"
   },
   {
    "duration": 7,
    "start_time": "2022-03-07T05:53:19.090Z"
   },
   {
    "duration": 5,
    "start_time": "2022-03-07T05:53:19.099Z"
   },
   {
    "duration": 192,
    "start_time": "2022-03-07T05:53:19.106Z"
   },
   {
    "duration": 151,
    "start_time": "2022-03-07T05:53:19.300Z"
   },
   {
    "duration": 11,
    "start_time": "2022-03-07T05:53:19.453Z"
   },
   {
    "duration": 197,
    "start_time": "2022-03-07T05:53:19.466Z"
   },
   {
    "duration": 201,
    "start_time": "2022-03-07T05:53:19.665Z"
   },
   {
    "duration": 292,
    "start_time": "2022-03-07T05:53:19.868Z"
   },
   {
    "duration": 198,
    "start_time": "2022-03-07T05:53:20.161Z"
   },
   {
    "duration": 288,
    "start_time": "2022-03-07T05:53:20.361Z"
   },
   {
    "duration": 10,
    "start_time": "2022-03-07T05:53:20.650Z"
   },
   {
    "duration": 278,
    "start_time": "2022-03-07T05:53:20.662Z"
   },
   {
    "duration": 4,
    "start_time": "2022-03-07T05:53:20.942Z"
   },
   {
    "duration": 353,
    "start_time": "2022-03-07T05:53:20.947Z"
   },
   {
    "duration": 4,
    "start_time": "2022-03-07T05:53:21.302Z"
   },
   {
    "duration": 261,
    "start_time": "2022-03-07T05:53:21.307Z"
   },
   {
    "duration": 129,
    "start_time": "2022-03-07T05:53:21.570Z"
   },
   {
    "duration": 11,
    "start_time": "2022-03-07T05:53:21.700Z"
   },
   {
    "duration": 6,
    "start_time": "2022-03-07T05:53:21.733Z"
   },
   {
    "duration": 15,
    "start_time": "2022-03-07T05:53:21.741Z"
   },
   {
    "duration": 16,
    "start_time": "2022-03-07T05:53:21.758Z"
   }
  ],
  "kernelspec": {
   "display_name": "Python 3 (ipykernel)",
   "language": "python",
   "name": "python3"
  },
  "language_info": {
   "codemirror_mode": {
    "name": "ipython",
    "version": 3
   },
   "file_extension": ".py",
   "mimetype": "text/x-python",
   "name": "python",
   "nbconvert_exporter": "python",
   "pygments_lexer": "ipython3",
   "version": "3.9.7"
  },
  "toc": {
   "base_numbering": 1,
   "nav_menu": {},
   "number_sections": true,
   "sideBar": true,
   "skip_h1_title": true,
   "title_cell": "Table of Contents",
   "title_sidebar": "Contents",
   "toc_cell": false,
   "toc_position": {
    "height": "calc(100% - 180px)",
    "left": "10px",
    "top": "150px",
    "width": "222.396px"
   },
   "toc_section_display": true,
   "toc_window_display": false
  }
 },
 "nbformat": 4,
 "nbformat_minor": 2
}
